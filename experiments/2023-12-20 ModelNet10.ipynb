{
 "cells": [
  {
   "cell_type": "code",
   "execution_count": 1,
   "id": "316cf73f-06a9-4c8b-91b7-69dbe7cbe630",
   "metadata": {
    "ExecuteTime": {
     "end_time": "2023-12-24T15:18:18.506626897Z",
     "start_time": "2023-12-24T15:18:18.215841390Z"
    }
   },
   "outputs": [],
   "source": [
    "%load_ext autoreload\n",
    "%autoreload 2"
   ]
  },
  {
   "cell_type": "code",
   "execution_count": 2,
   "id": "d8047877fdae5e05",
   "metadata": {
    "collapsed": false,
    "ExecuteTime": {
     "end_time": "2023-12-24T15:18:18.511201943Z",
     "start_time": "2023-12-24T15:18:18.257672106Z"
    }
   },
   "outputs": [
    {
     "data": {
      "text/plain": "'/home/lars/code/python/context-aware-flow-matching'"
     },
     "execution_count": 2,
     "metadata": {},
     "output_type": "execute_result"
    }
   ],
   "source": [
    "import os\n",
    "if os.getcwd().endswith(\"experiments\"):\n",
    "    os.chdir(\"..\")\n",
    "\n",
    "os.getcwd()"
   ]
  },
  {
   "cell_type": "code",
   "execution_count": 3,
   "id": "initial_id",
   "metadata": {
    "ExecuteTime": {
     "end_time": "2023-12-24T15:18:20.102527273Z",
     "start_time": "2023-12-24T15:18:18.257801361Z"
    }
   },
   "outputs": [],
   "source": [
    "from src.models import Model\n",
    "from src.datasets import ModelNet10Dataset\n",
    "\n",
    "from torch.utils.data import random_split\n",
    "from lightning import seed_everything"
   ]
  },
  {
   "cell_type": "code",
   "execution_count": 4,
   "id": "11edd7826fa03d75",
   "metadata": {
    "collapsed": false,
    "ExecuteTime": {
     "end_time": "2023-12-24T15:18:20.129212603Z",
     "start_time": "2023-12-24T15:18:20.103140604Z"
    }
   },
   "outputs": [
    {
     "name": "stderr",
     "output_type": "stream",
     "text": [
      "Seed set to 42\n"
     ]
    },
    {
     "data": {
      "text/plain": "42"
     },
     "execution_count": 4,
     "metadata": {},
     "output_type": "execute_result"
    }
   ],
   "source": [
    "seed_everything(42)"
   ]
  },
  {
   "cell_type": "code",
   "execution_count": 5,
   "id": "7f249987df311986",
   "metadata": {
    "collapsed": false,
    "ExecuteTime": {
     "end_time": "2023-12-24T15:19:12.490205397Z",
     "start_time": "2023-12-24T15:18:20.122734837Z"
    }
   },
   "outputs": [
    {
     "name": "stdout",
     "output_type": "stream",
     "text": [
      "Found non-empty ModelNet10Dataset in data, skipping download...\n"
     ]
    },
    {
     "name": "stderr",
     "output_type": "stream",
     "text": [
      "preloading meshes: 100%|██████████| 4899/4899 [00:51<00:00, 94.69it/s] \n"
     ]
    }
   ],
   "source": [
    "dataset = ModelNet10Dataset(\"data\")"
   ]
  },
  {
   "cell_type": "code",
   "execution_count": 6,
   "id": "acfddab99fdf0452",
   "metadata": {
    "collapsed": false,
    "ExecuteTime": {
     "end_time": "2023-12-24T15:19:12.519995052Z",
     "start_time": "2023-12-24T15:19:12.491587532Z"
    }
   },
   "outputs": [],
   "source": [
    "train_data, val_data, test_data = random_split(dataset, [0.8, 0.1, 0.1])"
   ]
  },
  {
   "cell_type": "code",
   "execution_count": 7,
   "id": "bb064455bc0a9a85",
   "metadata": {
    "collapsed": false,
    "ExecuteTime": {
     "end_time": "2023-12-24T15:19:12.543889273Z",
     "start_time": "2023-12-24T15:19:12.515455183Z"
    }
   },
   "outputs": [],
   "source": [
    "hparams = dict(\n",
    "    batch_size=128,\n",
    "    subset_size=128,\n",
    "    accumulate_batches=2,\n",
    "    max_epochs=2_000,\n",
    "    gamma=0.5,\n",
    "    lr_scheduler=dict(\n",
    "        name=\"OneCycleLR\",\n",
    "        kwargs=dict(\n",
    "            max_lr=1e-3,\n",
    "            div_factor=1e1,\n",
    "            final_div_factor=1e4,\n",
    "        )\n",
    "    ),\n",
    "    gradient_clip=1.0,\n",
    "    num_workers=14,\n",
    "    accelerator=\"gpu\",\n",
    "    devices=-1,\n",
    ")"
   ]
  },
  {
   "cell_type": "code",
   "execution_count": 8,
   "id": "6e8b8a848ff350",
   "metadata": {
    "collapsed": false,
    "ExecuteTime": {
     "end_time": "2023-12-24T15:19:12.797759876Z",
     "start_time": "2023-12-24T15:19:12.539451235Z"
    }
   },
   "outputs": [],
   "source": [
    "model = Model(hparams, train_data, val_data, test_data)"
   ]
  },
  {
   "cell_type": "code",
   "execution_count": 9,
   "id": "24a079adb308ece7",
   "metadata": {
    "collapsed": false,
    "ExecuteTime": {
     "end_time": "2023-12-24T15:19:12.820716863Z",
     "start_time": "2023-12-24T15:19:12.798817207Z"
    }
   },
   "outputs": [
    {
     "data": {
      "text/plain": "31"
     },
     "execution_count": 9,
     "metadata": {},
     "output_type": "execute_result"
    }
   ],
   "source": [
    "len(model.train_dataloader())"
   ]
  },
  {
   "cell_type": "code",
   "execution_count": null,
   "id": "9171da651b2e8cc5",
   "metadata": {
    "collapsed": false,
    "is_executing": true,
    "ExecuteTime": {
     "start_time": "2023-12-24T15:19:12.821642424Z"
    }
   },
   "outputs": [
    {
     "name": "stderr",
     "output_type": "stream",
     "text": [
      "GPU available: True (cuda), used: True\n",
      "TPU available: False, using: 0 TPU cores\n",
      "IPU available: False, using: 0 IPUs\n",
      "HPU available: False, using: 0 HPUs\n",
      "The following callbacks returned in `LightningModule.configure_callbacks` will override existing callbacks passed to Trainer: ModelCheckpoint\n",
      "LOCAL_RANK: 0 - CUDA_VISIBLE_DEVICES: [0]\n",
      "\n",
      "  | Name    | Type       | Params\n",
      "---------------------------------------\n",
      "0 | encoder | Sequential | 30.3 M\n",
      "1 | flow    | Sequential | 14.6 M\n",
      "---------------------------------------\n",
      "45.0 M    Trainable params\n",
      "0         Non-trainable params\n",
      "45.0 M    Total params\n",
      "179.962   Total estimated model params size (MB)\n"
     ]
    },
    {
     "data": {
      "text/plain": "Sanity Checking: |          | 0/? [00:00<?, ?it/s]",
      "application/vnd.jupyter.widget-view+json": {
       "version_major": 2,
       "version_minor": 0,
       "model_id": "1658575e1f7849568dbf85fa7a57d9a2"
      }
     },
     "metadata": {},
     "output_type": "display_data"
    },
    {
     "name": "stderr",
     "output_type": "stream",
     "text": [
      "/home/lars/code/python/context-aware-flow-matching/src/lightning-trainable/src/lightning_trainable/metrics/sinkhorn.py:71: Sinkhorn did not converge. Consider increasing epsilon or number of iterations.\n",
      "/home/lars/code/python/context-aware-flow-matching/src/lightning-trainable/src/lightning_trainable/metrics/sinkhorn.py:71: Sinkhorn did not converge. Consider increasing epsilon or number of iterations.\n",
      "/home/lars/code/python/context-aware-flow-matching/src/lightning-trainable/src/lightning_trainable/metrics/sinkhorn.py:71: Sinkhorn did not converge. Consider increasing epsilon or number of iterations.\n",
      "/home/lars/code/python/context-aware-flow-matching/src/lightning-trainable/src/lightning_trainable/metrics/sinkhorn.py:71: Sinkhorn did not converge. Consider increasing epsilon or number of iterations.\n"
     ]
    },
    {
     "data": {
      "text/plain": "Training: |          | 0/? [00:00<?, ?it/s]",
      "application/vnd.jupyter.widget-view+json": {
       "version_major": 2,
       "version_minor": 0,
       "model_id": "0a18cd434536408085ce87fe278e5d0e"
      }
     },
     "metadata": {},
     "output_type": "display_data"
    },
    {
     "name": "stderr",
     "output_type": "stream",
     "text": [
      "/home/lars/code/python/context-aware-flow-matching/src/lightning-trainable/src/lightning_trainable/metrics/sinkhorn.py:71: Sinkhorn did not converge. Consider increasing epsilon or number of iterations.\n",
      "/home/lars/code/python/context-aware-flow-matching/src/lightning-trainable/src/lightning_trainable/metrics/sinkhorn.py:71: Sinkhorn did not converge. Consider increasing epsilon or number of iterations.\n",
      "/home/lars/code/python/context-aware-flow-matching/src/lightning-trainable/src/lightning_trainable/metrics/sinkhorn.py:71: Sinkhorn did not converge. Consider increasing epsilon or number of iterations.\n",
      "/home/lars/code/python/context-aware-flow-matching/src/lightning-trainable/src/lightning_trainable/metrics/sinkhorn.py:71: Sinkhorn did not converge. Consider increasing epsilon or number of iterations.\n",
      "/home/lars/code/python/context-aware-flow-matching/src/lightning-trainable/src/lightning_trainable/metrics/sinkhorn.py:71: Sinkhorn did not converge. Consider increasing epsilon or number of iterations.\n",
      "/home/lars/code/python/context-aware-flow-matching/src/lightning-trainable/src/lightning_trainable/metrics/sinkhorn.py:71: Sinkhorn did not converge. Consider increasing epsilon or number of iterations.\n",
      "/home/lars/code/python/context-aware-flow-matching/src/lightning-trainable/src/lightning_trainable/metrics/sinkhorn.py:71: Sinkhorn did not converge. Consider increasing epsilon or number of iterations.\n",
      "/home/lars/code/python/context-aware-flow-matching/src/lightning-trainable/src/lightning_trainable/metrics/sinkhorn.py:71: Sinkhorn did not converge. Consider increasing epsilon or number of iterations.\n",
      "/home/lars/code/python/context-aware-flow-matching/src/lightning-trainable/src/lightning_trainable/metrics/sinkhorn.py:71: Sinkhorn did not converge. Consider increasing epsilon or number of iterations.\n",
      "/home/lars/code/python/context-aware-flow-matching/src/lightning-trainable/src/lightning_trainable/metrics/sinkhorn.py:71: Sinkhorn did not converge. Consider increasing epsilon or number of iterations.\n",
      "/home/lars/code/python/context-aware-flow-matching/src/lightning-trainable/src/lightning_trainable/metrics/sinkhorn.py:71: Sinkhorn did not converge. Consider increasing epsilon or number of iterations.\n",
      "/home/lars/code/python/context-aware-flow-matching/src/lightning-trainable/src/lightning_trainable/metrics/sinkhorn.py:71: Sinkhorn did not converge. Consider increasing epsilon or number of iterations.\n",
      "/home/lars/code/python/context-aware-flow-matching/src/lightning-trainable/src/lightning_trainable/metrics/sinkhorn.py:71: Sinkhorn did not converge. Consider increasing epsilon or number of iterations.\n",
      "/home/lars/code/python/context-aware-flow-matching/src/lightning-trainable/src/lightning_trainable/metrics/sinkhorn.py:71: Sinkhorn did not converge. Consider increasing epsilon or number of iterations.\n",
      "/home/lars/code/python/context-aware-flow-matching/src/lightning-trainable/src/lightning_trainable/metrics/sinkhorn.py:71: Sinkhorn did not converge. Consider increasing epsilon or number of iterations.\n",
      "/home/lars/code/python/context-aware-flow-matching/src/lightning-trainable/src/lightning_trainable/metrics/sinkhorn.py:71: Sinkhorn did not converge. Consider increasing epsilon or number of iterations.\n",
      "/home/lars/code/python/context-aware-flow-matching/src/lightning-trainable/src/lightning_trainable/metrics/sinkhorn.py:71: Sinkhorn did not converge. Consider increasing epsilon or number of iterations.\n",
      "/home/lars/code/python/context-aware-flow-matching/src/lightning-trainable/src/lightning_trainable/metrics/sinkhorn.py:71: Sinkhorn did not converge. Consider increasing epsilon or number of iterations.\n",
      "/home/lars/code/python/context-aware-flow-matching/src/lightning-trainable/src/lightning_trainable/metrics/sinkhorn.py:71: Sinkhorn did not converge. Consider increasing epsilon or number of iterations.\n",
      "/home/lars/code/python/context-aware-flow-matching/src/lightning-trainable/src/lightning_trainable/metrics/sinkhorn.py:71: Sinkhorn did not converge. Consider increasing epsilon or number of iterations.\n",
      "/home/lars/code/python/context-aware-flow-matching/src/lightning-trainable/src/lightning_trainable/metrics/sinkhorn.py:71: Sinkhorn did not converge. Consider increasing epsilon or number of iterations.\n",
      "/home/lars/code/python/context-aware-flow-matching/src/lightning-trainable/src/lightning_trainable/metrics/sinkhorn.py:71: Sinkhorn did not converge. Consider increasing epsilon or number of iterations.\n"
     ]
    },
    {
     "data": {
      "text/plain": "Validation: |          | 0/? [00:00<?, ?it/s]",
      "application/vnd.jupyter.widget-view+json": {
       "version_major": 2,
       "version_minor": 0,
       "model_id": "0db1a0d8098b45ca9112b39866cd259a"
      }
     },
     "metadata": {},
     "output_type": "display_data"
    },
    {
     "name": "stderr",
     "output_type": "stream",
     "text": [
      "/home/lars/code/python/context-aware-flow-matching/src/lightning-trainable/src/lightning_trainable/metrics/sinkhorn.py:71: Sinkhorn did not converge. Consider increasing epsilon or number of iterations.\n",
      "/home/lars/code/python/context-aware-flow-matching/src/lightning-trainable/src/lightning_trainable/metrics/sinkhorn.py:71: Sinkhorn did not converge. Consider increasing epsilon or number of iterations.\n",
      "/home/lars/code/python/context-aware-flow-matching/src/lightning-trainable/src/lightning_trainable/metrics/sinkhorn.py:71: Sinkhorn did not converge. Consider increasing epsilon or number of iterations.\n",
      "/home/lars/code/python/context-aware-flow-matching/src/lightning-trainable/src/lightning_trainable/metrics/sinkhorn.py:71: Sinkhorn did not converge. Consider increasing epsilon or number of iterations.\n",
      "/home/lars/code/python/context-aware-flow-matching/src/lightning-trainable/src/lightning_trainable/metrics/sinkhorn.py:71: Sinkhorn did not converge. Consider increasing epsilon or number of iterations.\n",
      "/home/lars/code/python/context-aware-flow-matching/src/lightning-trainable/src/lightning_trainable/metrics/sinkhorn.py:71: Sinkhorn did not converge. Consider increasing epsilon or number of iterations.\n",
      "/home/lars/code/python/context-aware-flow-matching/src/lightning-trainable/src/lightning_trainable/metrics/sinkhorn.py:71: Sinkhorn did not converge. Consider increasing epsilon or number of iterations.\n",
      "/home/lars/code/python/context-aware-flow-matching/src/lightning-trainable/src/lightning_trainable/metrics/sinkhorn.py:71: Sinkhorn did not converge. Consider increasing epsilon or number of iterations.\n",
      "/home/lars/code/python/context-aware-flow-matching/src/lightning-trainable/src/lightning_trainable/metrics/sinkhorn.py:71: Sinkhorn did not converge. Consider increasing epsilon or number of iterations.\n",
      "/home/lars/code/python/context-aware-flow-matching/src/lightning-trainable/src/lightning_trainable/metrics/sinkhorn.py:71: Sinkhorn did not converge. Consider increasing epsilon or number of iterations.\n",
      "/home/lars/code/python/context-aware-flow-matching/src/lightning-trainable/src/lightning_trainable/metrics/sinkhorn.py:71: Sinkhorn did not converge. Consider increasing epsilon or number of iterations.\n",
      "/home/lars/code/python/context-aware-flow-matching/src/lightning-trainable/src/lightning_trainable/metrics/sinkhorn.py:71: Sinkhorn did not converge. Consider increasing epsilon or number of iterations.\n",
      "/home/lars/code/python/context-aware-flow-matching/src/lightning-trainable/src/lightning_trainable/metrics/sinkhorn.py:71: Sinkhorn did not converge. Consider increasing epsilon or number of iterations.\n",
      "/home/lars/code/python/context-aware-flow-matching/src/lightning-trainable/src/lightning_trainable/metrics/sinkhorn.py:71: Sinkhorn did not converge. Consider increasing epsilon or number of iterations.\n",
      "/home/lars/code/python/context-aware-flow-matching/src/lightning-trainable/src/lightning_trainable/metrics/sinkhorn.py:71: Sinkhorn did not converge. Consider increasing epsilon or number of iterations.\n",
      "/home/lars/code/python/context-aware-flow-matching/src/lightning-trainable/src/lightning_trainable/metrics/sinkhorn.py:71: Sinkhorn did not converge. Consider increasing epsilon or number of iterations.\n",
      "/home/lars/code/python/context-aware-flow-matching/src/lightning-trainable/src/lightning_trainable/metrics/sinkhorn.py:71: Sinkhorn did not converge. Consider increasing epsilon or number of iterations.\n",
      "/home/lars/code/python/context-aware-flow-matching/src/lightning-trainable/src/lightning_trainable/metrics/sinkhorn.py:71: Sinkhorn did not converge. Consider increasing epsilon or number of iterations.\n"
     ]
    },
    {
     "data": {
      "text/plain": "Validation: |          | 0/? [00:00<?, ?it/s]",
      "application/vnd.jupyter.widget-view+json": {
       "version_major": 2,
       "version_minor": 0,
       "model_id": "a0c31b0990c740b69f88ab513395c0da"
      }
     },
     "metadata": {},
     "output_type": "display_data"
    },
    {
     "name": "stderr",
     "output_type": "stream",
     "text": [
      "/home/lars/code/python/context-aware-flow-matching/src/lightning-trainable/src/lightning_trainable/metrics/sinkhorn.py:71: Sinkhorn did not converge. Consider increasing epsilon or number of iterations.\n",
      "/home/lars/code/python/context-aware-flow-matching/src/lightning-trainable/src/lightning_trainable/metrics/sinkhorn.py:71: Sinkhorn did not converge. Consider increasing epsilon or number of iterations.\n",
      "/home/lars/code/python/context-aware-flow-matching/src/lightning-trainable/src/lightning_trainable/metrics/sinkhorn.py:71: Sinkhorn did not converge. Consider increasing epsilon or number of iterations.\n",
      "/home/lars/code/python/context-aware-flow-matching/src/lightning-trainable/src/lightning_trainable/metrics/sinkhorn.py:71: Sinkhorn did not converge. Consider increasing epsilon or number of iterations.\n",
      "/home/lars/code/python/context-aware-flow-matching/src/lightning-trainable/src/lightning_trainable/metrics/sinkhorn.py:71: Sinkhorn did not converge. Consider increasing epsilon or number of iterations.\n",
      "/home/lars/code/python/context-aware-flow-matching/src/lightning-trainable/src/lightning_trainable/metrics/sinkhorn.py:71: Sinkhorn did not converge. Consider increasing epsilon or number of iterations.\n",
      "/home/lars/code/python/context-aware-flow-matching/src/lightning-trainable/src/lightning_trainable/metrics/sinkhorn.py:71: Sinkhorn did not converge. Consider increasing epsilon or number of iterations.\n",
      "/home/lars/code/python/context-aware-flow-matching/src/lightning-trainable/src/lightning_trainable/metrics/sinkhorn.py:71: Sinkhorn did not converge. Consider increasing epsilon or number of iterations.\n",
      "/home/lars/code/python/context-aware-flow-matching/src/lightning-trainable/src/lightning_trainable/metrics/sinkhorn.py:71: Sinkhorn did not converge. Consider increasing epsilon or number of iterations.\n",
      "/home/lars/code/python/context-aware-flow-matching/src/lightning-trainable/src/lightning_trainable/metrics/sinkhorn.py:71: Sinkhorn did not converge. Consider increasing epsilon or number of iterations.\n",
      "/home/lars/code/python/context-aware-flow-matching/src/lightning-trainable/src/lightning_trainable/metrics/sinkhorn.py:71: Sinkhorn did not converge. Consider increasing epsilon or number of iterations.\n",
      "/home/lars/code/python/context-aware-flow-matching/src/lightning-trainable/src/lightning_trainable/metrics/sinkhorn.py:71: Sinkhorn did not converge. Consider increasing epsilon or number of iterations.\n",
      "/home/lars/code/python/context-aware-flow-matching/src/lightning-trainable/src/lightning_trainable/metrics/sinkhorn.py:71: Sinkhorn did not converge. Consider increasing epsilon or number of iterations.\n",
      "/home/lars/code/python/context-aware-flow-matching/src/lightning-trainable/src/lightning_trainable/metrics/sinkhorn.py:71: Sinkhorn did not converge. Consider increasing epsilon or number of iterations.\n",
      "/home/lars/code/python/context-aware-flow-matching/src/lightning-trainable/src/lightning_trainable/metrics/sinkhorn.py:71: Sinkhorn did not converge. Consider increasing epsilon or number of iterations.\n",
      "/home/lars/code/python/context-aware-flow-matching/src/lightning-trainable/src/lightning_trainable/metrics/sinkhorn.py:71: Sinkhorn did not converge. Consider increasing epsilon or number of iterations.\n",
      "/home/lars/code/python/context-aware-flow-matching/src/lightning-trainable/src/lightning_trainable/metrics/sinkhorn.py:71: Sinkhorn did not converge. Consider increasing epsilon or number of iterations.\n",
      "/home/lars/code/python/context-aware-flow-matching/src/lightning-trainable/src/lightning_trainable/metrics/sinkhorn.py:71: Sinkhorn did not converge. Consider increasing epsilon or number of iterations.\n"
     ]
    },
    {
     "data": {
      "text/plain": "Validation: |          | 0/? [00:00<?, ?it/s]",
      "application/vnd.jupyter.widget-view+json": {
       "version_major": 2,
       "version_minor": 0,
       "model_id": "91e61fb8330e4819ba4259ff3efc1281"
      }
     },
     "metadata": {},
     "output_type": "display_data"
    },
    {
     "name": "stderr",
     "output_type": "stream",
     "text": [
      "/home/lars/code/python/context-aware-flow-matching/src/lightning-trainable/src/lightning_trainable/metrics/sinkhorn.py:71: Sinkhorn did not converge. Consider increasing epsilon or number of iterations.\n",
      "/home/lars/code/python/context-aware-flow-matching/src/lightning-trainable/src/lightning_trainable/metrics/sinkhorn.py:71: Sinkhorn did not converge. Consider increasing epsilon or number of iterations.\n",
      "/home/lars/code/python/context-aware-flow-matching/src/lightning-trainable/src/lightning_trainable/metrics/sinkhorn.py:71: Sinkhorn did not converge. Consider increasing epsilon or number of iterations.\n",
      "/home/lars/code/python/context-aware-flow-matching/src/lightning-trainable/src/lightning_trainable/metrics/sinkhorn.py:71: Sinkhorn did not converge. Consider increasing epsilon or number of iterations.\n",
      "/home/lars/code/python/context-aware-flow-matching/src/lightning-trainable/src/lightning_trainable/metrics/sinkhorn.py:71: Sinkhorn did not converge. Consider increasing epsilon or number of iterations.\n",
      "/home/lars/code/python/context-aware-flow-matching/src/lightning-trainable/src/lightning_trainable/metrics/sinkhorn.py:71: Sinkhorn did not converge. Consider increasing epsilon or number of iterations.\n",
      "/home/lars/code/python/context-aware-flow-matching/src/lightning-trainable/src/lightning_trainable/metrics/sinkhorn.py:71: Sinkhorn did not converge. Consider increasing epsilon or number of iterations.\n",
      "/home/lars/code/python/context-aware-flow-matching/src/lightning-trainable/src/lightning_trainable/metrics/sinkhorn.py:71: Sinkhorn did not converge. Consider increasing epsilon or number of iterations.\n",
      "/home/lars/code/python/context-aware-flow-matching/src/lightning-trainable/src/lightning_trainable/metrics/sinkhorn.py:71: Sinkhorn did not converge. Consider increasing epsilon or number of iterations.\n",
      "/home/lars/code/python/context-aware-flow-matching/src/lightning-trainable/src/lightning_trainable/metrics/sinkhorn.py:71: Sinkhorn did not converge. Consider increasing epsilon or number of iterations.\n",
      "/home/lars/code/python/context-aware-flow-matching/src/lightning-trainable/src/lightning_trainable/metrics/sinkhorn.py:71: Sinkhorn did not converge. Consider increasing epsilon or number of iterations.\n",
      "/home/lars/code/python/context-aware-flow-matching/src/lightning-trainable/src/lightning_trainable/metrics/sinkhorn.py:71: Sinkhorn did not converge. Consider increasing epsilon or number of iterations.\n",
      "/home/lars/code/python/context-aware-flow-matching/src/lightning-trainable/src/lightning_trainable/metrics/sinkhorn.py:71: Sinkhorn did not converge. Consider increasing epsilon or number of iterations.\n",
      "/home/lars/code/python/context-aware-flow-matching/src/lightning-trainable/src/lightning_trainable/metrics/sinkhorn.py:71: Sinkhorn did not converge. Consider increasing epsilon or number of iterations.\n",
      "/home/lars/code/python/context-aware-flow-matching/src/lightning-trainable/src/lightning_trainable/metrics/sinkhorn.py:71: Sinkhorn did not converge. Consider increasing epsilon or number of iterations.\n",
      "/home/lars/code/python/context-aware-flow-matching/src/lightning-trainable/src/lightning_trainable/metrics/sinkhorn.py:71: Sinkhorn did not converge. Consider increasing epsilon or number of iterations.\n",
      "/home/lars/code/python/context-aware-flow-matching/src/lightning-trainable/src/lightning_trainable/metrics/sinkhorn.py:71: Sinkhorn did not converge. Consider increasing epsilon or number of iterations.\n",
      "/home/lars/code/python/context-aware-flow-matching/src/lightning-trainable/src/lightning_trainable/metrics/sinkhorn.py:71: Sinkhorn did not converge. Consider increasing epsilon or number of iterations.\n"
     ]
    },
    {
     "data": {
      "text/plain": "Validation: |          | 0/? [00:00<?, ?it/s]",
      "application/vnd.jupyter.widget-view+json": {
       "version_major": 2,
       "version_minor": 0,
       "model_id": "080d7171841e487fa04154b1a26580cf"
      }
     },
     "metadata": {},
     "output_type": "display_data"
    },
    {
     "name": "stderr",
     "output_type": "stream",
     "text": [
      "/home/lars/code/python/context-aware-flow-matching/src/lightning-trainable/src/lightning_trainable/metrics/sinkhorn.py:71: Sinkhorn did not converge. Consider increasing epsilon or number of iterations.\n",
      "/home/lars/code/python/context-aware-flow-matching/src/lightning-trainable/src/lightning_trainable/metrics/sinkhorn.py:71: Sinkhorn did not converge. Consider increasing epsilon or number of iterations.\n",
      "/home/lars/code/python/context-aware-flow-matching/src/lightning-trainable/src/lightning_trainable/metrics/sinkhorn.py:71: Sinkhorn did not converge. Consider increasing epsilon or number of iterations.\n",
      "/home/lars/code/python/context-aware-flow-matching/src/lightning-trainable/src/lightning_trainable/metrics/sinkhorn.py:71: Sinkhorn did not converge. Consider increasing epsilon or number of iterations.\n",
      "/home/lars/code/python/context-aware-flow-matching/src/lightning-trainable/src/lightning_trainable/metrics/sinkhorn.py:71: Sinkhorn did not converge. Consider increasing epsilon or number of iterations.\n",
      "/home/lars/code/python/context-aware-flow-matching/src/lightning-trainable/src/lightning_trainable/metrics/sinkhorn.py:71: Sinkhorn did not converge. Consider increasing epsilon or number of iterations.\n",
      "/home/lars/code/python/context-aware-flow-matching/src/lightning-trainable/src/lightning_trainable/metrics/sinkhorn.py:71: Sinkhorn did not converge. Consider increasing epsilon or number of iterations.\n",
      "/home/lars/code/python/context-aware-flow-matching/src/lightning-trainable/src/lightning_trainable/metrics/sinkhorn.py:71: Sinkhorn did not converge. Consider increasing epsilon or number of iterations.\n",
      "/home/lars/code/python/context-aware-flow-matching/src/lightning-trainable/src/lightning_trainable/metrics/sinkhorn.py:71: Sinkhorn did not converge. Consider increasing epsilon or number of iterations.\n",
      "/home/lars/code/python/context-aware-flow-matching/src/lightning-trainable/src/lightning_trainable/metrics/sinkhorn.py:71: Sinkhorn did not converge. Consider increasing epsilon or number of iterations.\n",
      "/home/lars/code/python/context-aware-flow-matching/src/lightning-trainable/src/lightning_trainable/metrics/sinkhorn.py:71: Sinkhorn did not converge. Consider increasing epsilon or number of iterations.\n",
      "/home/lars/code/python/context-aware-flow-matching/src/lightning-trainable/src/lightning_trainable/metrics/sinkhorn.py:71: Sinkhorn did not converge. Consider increasing epsilon or number of iterations.\n",
      "/home/lars/code/python/context-aware-flow-matching/src/lightning-trainable/src/lightning_trainable/metrics/sinkhorn.py:71: Sinkhorn did not converge. Consider increasing epsilon or number of iterations.\n",
      "/home/lars/code/python/context-aware-flow-matching/src/lightning-trainable/src/lightning_trainable/metrics/sinkhorn.py:71: Sinkhorn did not converge. Consider increasing epsilon or number of iterations.\n",
      "/home/lars/code/python/context-aware-flow-matching/src/lightning-trainable/src/lightning_trainable/metrics/sinkhorn.py:71: Sinkhorn did not converge. Consider increasing epsilon or number of iterations.\n",
      "/home/lars/code/python/context-aware-flow-matching/src/lightning-trainable/src/lightning_trainable/metrics/sinkhorn.py:71: Sinkhorn did not converge. Consider increasing epsilon or number of iterations.\n",
      "/home/lars/code/python/context-aware-flow-matching/src/lightning-trainable/src/lightning_trainable/metrics/sinkhorn.py:71: Sinkhorn did not converge. Consider increasing epsilon or number of iterations.\n",
      "/home/lars/code/python/context-aware-flow-matching/src/lightning-trainable/src/lightning_trainable/metrics/sinkhorn.py:71: Sinkhorn did not converge. Consider increasing epsilon or number of iterations.\n"
     ]
    },
    {
     "data": {
      "text/plain": "Validation: |          | 0/? [00:00<?, ?it/s]",
      "application/vnd.jupyter.widget-view+json": {
       "version_major": 2,
       "version_minor": 0,
       "model_id": "6d50ca97d19f496c8c0d0586cdc5cb66"
      }
     },
     "metadata": {},
     "output_type": "display_data"
    },
    {
     "name": "stderr",
     "output_type": "stream",
     "text": [
      "/home/lars/code/python/context-aware-flow-matching/src/lightning-trainable/src/lightning_trainable/metrics/sinkhorn.py:71: Sinkhorn did not converge. Consider increasing epsilon or number of iterations.\n",
      "/home/lars/code/python/context-aware-flow-matching/src/lightning-trainable/src/lightning_trainable/metrics/sinkhorn.py:71: Sinkhorn did not converge. Consider increasing epsilon or number of iterations.\n",
      "/home/lars/code/python/context-aware-flow-matching/src/lightning-trainable/src/lightning_trainable/metrics/sinkhorn.py:71: Sinkhorn did not converge. Consider increasing epsilon or number of iterations.\n",
      "/home/lars/code/python/context-aware-flow-matching/src/lightning-trainable/src/lightning_trainable/metrics/sinkhorn.py:71: Sinkhorn did not converge. Consider increasing epsilon or number of iterations.\n",
      "/home/lars/code/python/context-aware-flow-matching/src/lightning-trainable/src/lightning_trainable/metrics/sinkhorn.py:71: Sinkhorn did not converge. Consider increasing epsilon or number of iterations.\n",
      "/home/lars/code/python/context-aware-flow-matching/src/lightning-trainable/src/lightning_trainable/metrics/sinkhorn.py:71: Sinkhorn did not converge. Consider increasing epsilon or number of iterations.\n",
      "/home/lars/code/python/context-aware-flow-matching/src/lightning-trainable/src/lightning_trainable/metrics/sinkhorn.py:71: Sinkhorn did not converge. Consider increasing epsilon or number of iterations.\n",
      "/home/lars/code/python/context-aware-flow-matching/src/lightning-trainable/src/lightning_trainable/metrics/sinkhorn.py:71: Sinkhorn did not converge. Consider increasing epsilon or number of iterations.\n",
      "/home/lars/code/python/context-aware-flow-matching/src/lightning-trainable/src/lightning_trainable/metrics/sinkhorn.py:71: Sinkhorn did not converge. Consider increasing epsilon or number of iterations.\n",
      "/home/lars/code/python/context-aware-flow-matching/src/lightning-trainable/src/lightning_trainable/metrics/sinkhorn.py:71: Sinkhorn did not converge. Consider increasing epsilon or number of iterations.\n",
      "/home/lars/code/python/context-aware-flow-matching/src/lightning-trainable/src/lightning_trainable/metrics/sinkhorn.py:71: Sinkhorn did not converge. Consider increasing epsilon or number of iterations.\n",
      "/home/lars/code/python/context-aware-flow-matching/src/lightning-trainable/src/lightning_trainable/metrics/sinkhorn.py:71: Sinkhorn did not converge. Consider increasing epsilon or number of iterations.\n",
      "/home/lars/code/python/context-aware-flow-matching/src/lightning-trainable/src/lightning_trainable/metrics/sinkhorn.py:71: Sinkhorn did not converge. Consider increasing epsilon or number of iterations.\n",
      "/home/lars/code/python/context-aware-flow-matching/src/lightning-trainable/src/lightning_trainable/metrics/sinkhorn.py:71: Sinkhorn did not converge. Consider increasing epsilon or number of iterations.\n",
      "/home/lars/code/python/context-aware-flow-matching/src/lightning-trainable/src/lightning_trainable/metrics/sinkhorn.py:71: Sinkhorn did not converge. Consider increasing epsilon or number of iterations.\n",
      "/home/lars/code/python/context-aware-flow-matching/src/lightning-trainable/src/lightning_trainable/metrics/sinkhorn.py:71: Sinkhorn did not converge. Consider increasing epsilon or number of iterations.\n",
      "/home/lars/code/python/context-aware-flow-matching/src/lightning-trainable/src/lightning_trainable/metrics/sinkhorn.py:71: Sinkhorn did not converge. Consider increasing epsilon or number of iterations.\n",
      "/home/lars/code/python/context-aware-flow-matching/src/lightning-trainable/src/lightning_trainable/metrics/sinkhorn.py:71: Sinkhorn did not converge. Consider increasing epsilon or number of iterations.\n"
     ]
    },
    {
     "data": {
      "text/plain": "Validation: |          | 0/? [00:00<?, ?it/s]",
      "application/vnd.jupyter.widget-view+json": {
       "version_major": 2,
       "version_minor": 0,
       "model_id": "4351cbdfc9c24c6799695ad19b97e71a"
      }
     },
     "metadata": {},
     "output_type": "display_data"
    },
    {
     "name": "stderr",
     "output_type": "stream",
     "text": [
      "/home/lars/code/python/context-aware-flow-matching/src/lightning-trainable/src/lightning_trainable/metrics/sinkhorn.py:71: Sinkhorn did not converge. Consider increasing epsilon or number of iterations.\n",
      "/home/lars/code/python/context-aware-flow-matching/src/lightning-trainable/src/lightning_trainable/metrics/sinkhorn.py:71: Sinkhorn did not converge. Consider increasing epsilon or number of iterations.\n",
      "/home/lars/code/python/context-aware-flow-matching/src/lightning-trainable/src/lightning_trainable/metrics/sinkhorn.py:71: Sinkhorn did not converge. Consider increasing epsilon or number of iterations.\n",
      "/home/lars/code/python/context-aware-flow-matching/src/lightning-trainable/src/lightning_trainable/metrics/sinkhorn.py:71: Sinkhorn did not converge. Consider increasing epsilon or number of iterations.\n",
      "/home/lars/code/python/context-aware-flow-matching/src/lightning-trainable/src/lightning_trainable/metrics/sinkhorn.py:71: Sinkhorn did not converge. Consider increasing epsilon or number of iterations.\n",
      "/home/lars/code/python/context-aware-flow-matching/src/lightning-trainable/src/lightning_trainable/metrics/sinkhorn.py:71: Sinkhorn did not converge. Consider increasing epsilon or number of iterations.\n",
      "/home/lars/code/python/context-aware-flow-matching/src/lightning-trainable/src/lightning_trainable/metrics/sinkhorn.py:71: Sinkhorn did not converge. Consider increasing epsilon or number of iterations.\n",
      "/home/lars/code/python/context-aware-flow-matching/src/lightning-trainable/src/lightning_trainable/metrics/sinkhorn.py:71: Sinkhorn did not converge. Consider increasing epsilon or number of iterations.\n",
      "/home/lars/code/python/context-aware-flow-matching/src/lightning-trainable/src/lightning_trainable/metrics/sinkhorn.py:71: Sinkhorn did not converge. Consider increasing epsilon or number of iterations.\n",
      "/home/lars/code/python/context-aware-flow-matching/src/lightning-trainable/src/lightning_trainable/metrics/sinkhorn.py:71: Sinkhorn did not converge. Consider increasing epsilon or number of iterations.\n",
      "/home/lars/code/python/context-aware-flow-matching/src/lightning-trainable/src/lightning_trainable/metrics/sinkhorn.py:71: Sinkhorn did not converge. Consider increasing epsilon or number of iterations.\n",
      "/home/lars/code/python/context-aware-flow-matching/src/lightning-trainable/src/lightning_trainable/metrics/sinkhorn.py:71: Sinkhorn did not converge. Consider increasing epsilon or number of iterations.\n",
      "/home/lars/code/python/context-aware-flow-matching/src/lightning-trainable/src/lightning_trainable/metrics/sinkhorn.py:71: Sinkhorn did not converge. Consider increasing epsilon or number of iterations.\n",
      "/home/lars/code/python/context-aware-flow-matching/src/lightning-trainable/src/lightning_trainable/metrics/sinkhorn.py:71: Sinkhorn did not converge. Consider increasing epsilon or number of iterations.\n",
      "/home/lars/code/python/context-aware-flow-matching/src/lightning-trainable/src/lightning_trainable/metrics/sinkhorn.py:71: Sinkhorn did not converge. Consider increasing epsilon or number of iterations.\n",
      "/home/lars/code/python/context-aware-flow-matching/src/lightning-trainable/src/lightning_trainable/metrics/sinkhorn.py:71: Sinkhorn did not converge. Consider increasing epsilon or number of iterations.\n",
      "/home/lars/code/python/context-aware-flow-matching/src/lightning-trainable/src/lightning_trainable/metrics/sinkhorn.py:71: Sinkhorn did not converge. Consider increasing epsilon or number of iterations.\n",
      "/home/lars/code/python/context-aware-flow-matching/src/lightning-trainable/src/lightning_trainable/metrics/sinkhorn.py:71: Sinkhorn did not converge. Consider increasing epsilon or number of iterations.\n"
     ]
    },
    {
     "data": {
      "text/plain": "Validation: |          | 0/? [00:00<?, ?it/s]",
      "application/vnd.jupyter.widget-view+json": {
       "version_major": 2,
       "version_minor": 0,
       "model_id": "658ea12be9fe403e923f310469532481"
      }
     },
     "metadata": {},
     "output_type": "display_data"
    },
    {
     "name": "stderr",
     "output_type": "stream",
     "text": [
      "/home/lars/code/python/context-aware-flow-matching/src/lightning-trainable/src/lightning_trainable/metrics/sinkhorn.py:71: Sinkhorn did not converge. Consider increasing epsilon or number of iterations.\n",
      "/home/lars/code/python/context-aware-flow-matching/src/lightning-trainable/src/lightning_trainable/metrics/sinkhorn.py:71: Sinkhorn did not converge. Consider increasing epsilon or number of iterations.\n",
      "/home/lars/code/python/context-aware-flow-matching/src/lightning-trainable/src/lightning_trainable/metrics/sinkhorn.py:71: Sinkhorn did not converge. Consider increasing epsilon or number of iterations.\n",
      "/home/lars/code/python/context-aware-flow-matching/src/lightning-trainable/src/lightning_trainable/metrics/sinkhorn.py:71: Sinkhorn did not converge. Consider increasing epsilon or number of iterations.\n",
      "/home/lars/code/python/context-aware-flow-matching/src/lightning-trainable/src/lightning_trainable/metrics/sinkhorn.py:71: Sinkhorn did not converge. Consider increasing epsilon or number of iterations.\n",
      "/home/lars/code/python/context-aware-flow-matching/src/lightning-trainable/src/lightning_trainable/metrics/sinkhorn.py:71: Sinkhorn did not converge. Consider increasing epsilon or number of iterations.\n",
      "/home/lars/code/python/context-aware-flow-matching/src/lightning-trainable/src/lightning_trainable/metrics/sinkhorn.py:71: Sinkhorn did not converge. Consider increasing epsilon or number of iterations.\n",
      "/home/lars/code/python/context-aware-flow-matching/src/lightning-trainable/src/lightning_trainable/metrics/sinkhorn.py:71: Sinkhorn did not converge. Consider increasing epsilon or number of iterations.\n",
      "/home/lars/code/python/context-aware-flow-matching/src/lightning-trainable/src/lightning_trainable/metrics/sinkhorn.py:71: Sinkhorn did not converge. Consider increasing epsilon or number of iterations.\n",
      "/home/lars/code/python/context-aware-flow-matching/src/lightning-trainable/src/lightning_trainable/metrics/sinkhorn.py:71: Sinkhorn did not converge. Consider increasing epsilon or number of iterations.\n",
      "/home/lars/code/python/context-aware-flow-matching/src/lightning-trainable/src/lightning_trainable/metrics/sinkhorn.py:71: Sinkhorn did not converge. Consider increasing epsilon or number of iterations.\n",
      "/home/lars/code/python/context-aware-flow-matching/src/lightning-trainable/src/lightning_trainable/metrics/sinkhorn.py:71: Sinkhorn did not converge. Consider increasing epsilon or number of iterations.\n",
      "/home/lars/code/python/context-aware-flow-matching/src/lightning-trainable/src/lightning_trainable/metrics/sinkhorn.py:71: Sinkhorn did not converge. Consider increasing epsilon or number of iterations.\n",
      "/home/lars/code/python/context-aware-flow-matching/src/lightning-trainable/src/lightning_trainable/metrics/sinkhorn.py:71: Sinkhorn did not converge. Consider increasing epsilon or number of iterations.\n",
      "/home/lars/code/python/context-aware-flow-matching/src/lightning-trainable/src/lightning_trainable/metrics/sinkhorn.py:71: Sinkhorn did not converge. Consider increasing epsilon or number of iterations.\n",
      "/home/lars/code/python/context-aware-flow-matching/src/lightning-trainable/src/lightning_trainable/metrics/sinkhorn.py:71: Sinkhorn did not converge. Consider increasing epsilon or number of iterations.\n",
      "/home/lars/code/python/context-aware-flow-matching/src/lightning-trainable/src/lightning_trainable/metrics/sinkhorn.py:71: Sinkhorn did not converge. Consider increasing epsilon or number of iterations.\n",
      "/home/lars/code/python/context-aware-flow-matching/src/lightning-trainable/src/lightning_trainable/metrics/sinkhorn.py:71: Sinkhorn did not converge. Consider increasing epsilon or number of iterations.\n"
     ]
    },
    {
     "data": {
      "text/plain": "Validation: |          | 0/? [00:00<?, ?it/s]",
      "application/vnd.jupyter.widget-view+json": {
       "version_major": 2,
       "version_minor": 0,
       "model_id": "20e4b6d3e5e24133bc738b5b467df7b5"
      }
     },
     "metadata": {},
     "output_type": "display_data"
    },
    {
     "name": "stderr",
     "output_type": "stream",
     "text": [
      "/home/lars/code/python/context-aware-flow-matching/src/lightning-trainable/src/lightning_trainable/metrics/sinkhorn.py:71: Sinkhorn did not converge. Consider increasing epsilon or number of iterations.\n",
      "/home/lars/code/python/context-aware-flow-matching/src/lightning-trainable/src/lightning_trainable/metrics/sinkhorn.py:71: Sinkhorn did not converge. Consider increasing epsilon or number of iterations.\n",
      "/home/lars/code/python/context-aware-flow-matching/src/lightning-trainable/src/lightning_trainable/metrics/sinkhorn.py:71: Sinkhorn did not converge. Consider increasing epsilon or number of iterations.\n",
      "/home/lars/code/python/context-aware-flow-matching/src/lightning-trainable/src/lightning_trainable/metrics/sinkhorn.py:71: Sinkhorn did not converge. Consider increasing epsilon or number of iterations.\n",
      "/home/lars/code/python/context-aware-flow-matching/src/lightning-trainable/src/lightning_trainable/metrics/sinkhorn.py:71: Sinkhorn did not converge. Consider increasing epsilon or number of iterations.\n",
      "/home/lars/code/python/context-aware-flow-matching/src/lightning-trainable/src/lightning_trainable/metrics/sinkhorn.py:71: Sinkhorn did not converge. Consider increasing epsilon or number of iterations.\n",
      "/home/lars/code/python/context-aware-flow-matching/src/lightning-trainable/src/lightning_trainable/metrics/sinkhorn.py:71: Sinkhorn did not converge. Consider increasing epsilon or number of iterations.\n",
      "/home/lars/code/python/context-aware-flow-matching/src/lightning-trainable/src/lightning_trainable/metrics/sinkhorn.py:71: Sinkhorn did not converge. Consider increasing epsilon or number of iterations.\n",
      "/home/lars/code/python/context-aware-flow-matching/src/lightning-trainable/src/lightning_trainable/metrics/sinkhorn.py:71: Sinkhorn did not converge. Consider increasing epsilon or number of iterations.\n",
      "/home/lars/code/python/context-aware-flow-matching/src/lightning-trainable/src/lightning_trainable/metrics/sinkhorn.py:71: Sinkhorn did not converge. Consider increasing epsilon or number of iterations.\n",
      "/home/lars/code/python/context-aware-flow-matching/src/lightning-trainable/src/lightning_trainable/metrics/sinkhorn.py:71: Sinkhorn did not converge. Consider increasing epsilon or number of iterations.\n",
      "/home/lars/code/python/context-aware-flow-matching/src/lightning-trainable/src/lightning_trainable/metrics/sinkhorn.py:71: Sinkhorn did not converge. Consider increasing epsilon or number of iterations.\n",
      "/home/lars/code/python/context-aware-flow-matching/src/lightning-trainable/src/lightning_trainable/metrics/sinkhorn.py:71: Sinkhorn did not converge. Consider increasing epsilon or number of iterations.\n",
      "/home/lars/code/python/context-aware-flow-matching/src/lightning-trainable/src/lightning_trainable/metrics/sinkhorn.py:71: Sinkhorn did not converge. Consider increasing epsilon or number of iterations.\n",
      "/home/lars/code/python/context-aware-flow-matching/src/lightning-trainable/src/lightning_trainable/metrics/sinkhorn.py:71: Sinkhorn did not converge. Consider increasing epsilon or number of iterations.\n",
      "/home/lars/code/python/context-aware-flow-matching/src/lightning-trainable/src/lightning_trainable/metrics/sinkhorn.py:71: Sinkhorn did not converge. Consider increasing epsilon or number of iterations.\n",
      "/home/lars/code/python/context-aware-flow-matching/src/lightning-trainable/src/lightning_trainable/metrics/sinkhorn.py:71: Sinkhorn did not converge. Consider increasing epsilon or number of iterations.\n",
      "/home/lars/code/python/context-aware-flow-matching/src/lightning-trainable/src/lightning_trainable/metrics/sinkhorn.py:71: Sinkhorn did not converge. Consider increasing epsilon or number of iterations.\n"
     ]
    },
    {
     "data": {
      "text/plain": "Validation: |          | 0/? [00:00<?, ?it/s]",
      "application/vnd.jupyter.widget-view+json": {
       "version_major": 2,
       "version_minor": 0,
       "model_id": "2076af41dc5a4f9da547f7bdc43d5440"
      }
     },
     "metadata": {},
     "output_type": "display_data"
    },
    {
     "name": "stderr",
     "output_type": "stream",
     "text": [
      "/home/lars/code/python/context-aware-flow-matching/src/lightning-trainable/src/lightning_trainable/metrics/sinkhorn.py:71: Sinkhorn did not converge. Consider increasing epsilon or number of iterations.\n",
      "/home/lars/code/python/context-aware-flow-matching/src/lightning-trainable/src/lightning_trainable/metrics/sinkhorn.py:71: Sinkhorn did not converge. Consider increasing epsilon or number of iterations.\n",
      "/home/lars/code/python/context-aware-flow-matching/src/lightning-trainable/src/lightning_trainable/metrics/sinkhorn.py:71: Sinkhorn did not converge. Consider increasing epsilon or number of iterations.\n",
      "/home/lars/code/python/context-aware-flow-matching/src/lightning-trainable/src/lightning_trainable/metrics/sinkhorn.py:71: Sinkhorn did not converge. Consider increasing epsilon or number of iterations.\n",
      "/home/lars/code/python/context-aware-flow-matching/src/lightning-trainable/src/lightning_trainable/metrics/sinkhorn.py:71: Sinkhorn did not converge. Consider increasing epsilon or number of iterations.\n",
      "/home/lars/code/python/context-aware-flow-matching/src/lightning-trainable/src/lightning_trainable/metrics/sinkhorn.py:71: Sinkhorn did not converge. Consider increasing epsilon or number of iterations.\n",
      "/home/lars/code/python/context-aware-flow-matching/src/lightning-trainable/src/lightning_trainable/metrics/sinkhorn.py:71: Sinkhorn did not converge. Consider increasing epsilon or number of iterations.\n",
      "/home/lars/code/python/context-aware-flow-matching/src/lightning-trainable/src/lightning_trainable/metrics/sinkhorn.py:71: Sinkhorn did not converge. Consider increasing epsilon or number of iterations.\n",
      "/home/lars/code/python/context-aware-flow-matching/src/lightning-trainable/src/lightning_trainable/metrics/sinkhorn.py:71: Sinkhorn did not converge. Consider increasing epsilon or number of iterations.\n",
      "/home/lars/code/python/context-aware-flow-matching/src/lightning-trainable/src/lightning_trainable/metrics/sinkhorn.py:71: Sinkhorn did not converge. Consider increasing epsilon or number of iterations.\n",
      "/home/lars/code/python/context-aware-flow-matching/src/lightning-trainable/src/lightning_trainable/metrics/sinkhorn.py:71: Sinkhorn did not converge. Consider increasing epsilon or number of iterations.\n",
      "/home/lars/code/python/context-aware-flow-matching/src/lightning-trainable/src/lightning_trainable/metrics/sinkhorn.py:71: Sinkhorn did not converge. Consider increasing epsilon or number of iterations.\n",
      "/home/lars/code/python/context-aware-flow-matching/src/lightning-trainable/src/lightning_trainable/metrics/sinkhorn.py:71: Sinkhorn did not converge. Consider increasing epsilon or number of iterations.\n",
      "/home/lars/code/python/context-aware-flow-matching/src/lightning-trainable/src/lightning_trainable/metrics/sinkhorn.py:71: Sinkhorn did not converge. Consider increasing epsilon or number of iterations.\n",
      "/home/lars/code/python/context-aware-flow-matching/src/lightning-trainable/src/lightning_trainable/metrics/sinkhorn.py:71: Sinkhorn did not converge. Consider increasing epsilon or number of iterations.\n",
      "/home/lars/code/python/context-aware-flow-matching/src/lightning-trainable/src/lightning_trainable/metrics/sinkhorn.py:71: Sinkhorn did not converge. Consider increasing epsilon or number of iterations.\n",
      "/home/lars/code/python/context-aware-flow-matching/src/lightning-trainable/src/lightning_trainable/metrics/sinkhorn.py:71: Sinkhorn did not converge. Consider increasing epsilon or number of iterations.\n",
      "/home/lars/code/python/context-aware-flow-matching/src/lightning-trainable/src/lightning_trainable/metrics/sinkhorn.py:71: Sinkhorn did not converge. Consider increasing epsilon or number of iterations.\n"
     ]
    },
    {
     "data": {
      "text/plain": "Validation: |          | 0/? [00:00<?, ?it/s]",
      "application/vnd.jupyter.widget-view+json": {
       "version_major": 2,
       "version_minor": 0,
       "model_id": "9793eca7622f45fd95162e9c0e4da74a"
      }
     },
     "metadata": {},
     "output_type": "display_data"
    },
    {
     "name": "stderr",
     "output_type": "stream",
     "text": [
      "/home/lars/code/python/context-aware-flow-matching/src/lightning-trainable/src/lightning_trainable/metrics/sinkhorn.py:71: Sinkhorn did not converge. Consider increasing epsilon or number of iterations.\n",
      "/home/lars/code/python/context-aware-flow-matching/src/lightning-trainable/src/lightning_trainable/metrics/sinkhorn.py:71: Sinkhorn did not converge. Consider increasing epsilon or number of iterations.\n",
      "/home/lars/code/python/context-aware-flow-matching/src/lightning-trainable/src/lightning_trainable/metrics/sinkhorn.py:71: Sinkhorn did not converge. Consider increasing epsilon or number of iterations.\n",
      "/home/lars/code/python/context-aware-flow-matching/src/lightning-trainable/src/lightning_trainable/metrics/sinkhorn.py:71: Sinkhorn did not converge. Consider increasing epsilon or number of iterations.\n",
      "/home/lars/code/python/context-aware-flow-matching/src/lightning-trainable/src/lightning_trainable/metrics/sinkhorn.py:71: Sinkhorn did not converge. Consider increasing epsilon or number of iterations.\n",
      "/home/lars/code/python/context-aware-flow-matching/src/lightning-trainable/src/lightning_trainable/metrics/sinkhorn.py:71: Sinkhorn did not converge. Consider increasing epsilon or number of iterations.\n",
      "/home/lars/code/python/context-aware-flow-matching/src/lightning-trainable/src/lightning_trainable/metrics/sinkhorn.py:71: Sinkhorn did not converge. Consider increasing epsilon or number of iterations.\n",
      "/home/lars/code/python/context-aware-flow-matching/src/lightning-trainable/src/lightning_trainable/metrics/sinkhorn.py:71: Sinkhorn did not converge. Consider increasing epsilon or number of iterations.\n",
      "/home/lars/code/python/context-aware-flow-matching/src/lightning-trainable/src/lightning_trainable/metrics/sinkhorn.py:71: Sinkhorn did not converge. Consider increasing epsilon or number of iterations.\n",
      "/home/lars/code/python/context-aware-flow-matching/src/lightning-trainable/src/lightning_trainable/metrics/sinkhorn.py:71: Sinkhorn did not converge. Consider increasing epsilon or number of iterations.\n",
      "/home/lars/code/python/context-aware-flow-matching/src/lightning-trainable/src/lightning_trainable/metrics/sinkhorn.py:71: Sinkhorn did not converge. Consider increasing epsilon or number of iterations.\n",
      "/home/lars/code/python/context-aware-flow-matching/src/lightning-trainable/src/lightning_trainable/metrics/sinkhorn.py:71: Sinkhorn did not converge. Consider increasing epsilon or number of iterations.\n",
      "/home/lars/code/python/context-aware-flow-matching/src/lightning-trainable/src/lightning_trainable/metrics/sinkhorn.py:71: Sinkhorn did not converge. Consider increasing epsilon or number of iterations.\n",
      "/home/lars/code/python/context-aware-flow-matching/src/lightning-trainable/src/lightning_trainable/metrics/sinkhorn.py:71: Sinkhorn did not converge. Consider increasing epsilon or number of iterations.\n",
      "/home/lars/code/python/context-aware-flow-matching/src/lightning-trainable/src/lightning_trainable/metrics/sinkhorn.py:71: Sinkhorn did not converge. Consider increasing epsilon or number of iterations.\n",
      "/home/lars/code/python/context-aware-flow-matching/src/lightning-trainable/src/lightning_trainable/metrics/sinkhorn.py:71: Sinkhorn did not converge. Consider increasing epsilon or number of iterations.\n",
      "/home/lars/code/python/context-aware-flow-matching/src/lightning-trainable/src/lightning_trainable/metrics/sinkhorn.py:71: Sinkhorn did not converge. Consider increasing epsilon or number of iterations.\n",
      "/home/lars/code/python/context-aware-flow-matching/src/lightning-trainable/src/lightning_trainable/metrics/sinkhorn.py:71: Sinkhorn did not converge. Consider increasing epsilon or number of iterations.\n"
     ]
    },
    {
     "data": {
      "text/plain": "Validation: |          | 0/? [00:00<?, ?it/s]",
      "application/vnd.jupyter.widget-view+json": {
       "version_major": 2,
       "version_minor": 0,
       "model_id": "8e8997a2b3d9426bbfddd4ee74f1cfad"
      }
     },
     "metadata": {},
     "output_type": "display_data"
    },
    {
     "name": "stderr",
     "output_type": "stream",
     "text": [
      "/home/lars/code/python/context-aware-flow-matching/src/lightning-trainable/src/lightning_trainable/metrics/sinkhorn.py:71: Sinkhorn did not converge. Consider increasing epsilon or number of iterations.\n",
      "/home/lars/code/python/context-aware-flow-matching/src/lightning-trainable/src/lightning_trainable/metrics/sinkhorn.py:71: Sinkhorn did not converge. Consider increasing epsilon or number of iterations.\n",
      "/home/lars/code/python/context-aware-flow-matching/src/lightning-trainable/src/lightning_trainable/metrics/sinkhorn.py:71: Sinkhorn did not converge. Consider increasing epsilon or number of iterations.\n",
      "/home/lars/code/python/context-aware-flow-matching/src/lightning-trainable/src/lightning_trainable/metrics/sinkhorn.py:71: Sinkhorn did not converge. Consider increasing epsilon or number of iterations.\n",
      "/home/lars/code/python/context-aware-flow-matching/src/lightning-trainable/src/lightning_trainable/metrics/sinkhorn.py:71: Sinkhorn did not converge. Consider increasing epsilon or number of iterations.\n",
      "/home/lars/code/python/context-aware-flow-matching/src/lightning-trainable/src/lightning_trainable/metrics/sinkhorn.py:71: Sinkhorn did not converge. Consider increasing epsilon or number of iterations.\n",
      "/home/lars/code/python/context-aware-flow-matching/src/lightning-trainable/src/lightning_trainable/metrics/sinkhorn.py:71: Sinkhorn did not converge. Consider increasing epsilon or number of iterations.\n",
      "/home/lars/code/python/context-aware-flow-matching/src/lightning-trainable/src/lightning_trainable/metrics/sinkhorn.py:71: Sinkhorn did not converge. Consider increasing epsilon or number of iterations.\n",
      "/home/lars/code/python/context-aware-flow-matching/src/lightning-trainable/src/lightning_trainable/metrics/sinkhorn.py:71: Sinkhorn did not converge. Consider increasing epsilon or number of iterations.\n",
      "/home/lars/code/python/context-aware-flow-matching/src/lightning-trainable/src/lightning_trainable/metrics/sinkhorn.py:71: Sinkhorn did not converge. Consider increasing epsilon or number of iterations.\n",
      "/home/lars/code/python/context-aware-flow-matching/src/lightning-trainable/src/lightning_trainable/metrics/sinkhorn.py:71: Sinkhorn did not converge. Consider increasing epsilon or number of iterations.\n",
      "/home/lars/code/python/context-aware-flow-matching/src/lightning-trainable/src/lightning_trainable/metrics/sinkhorn.py:71: Sinkhorn did not converge. Consider increasing epsilon or number of iterations.\n",
      "/home/lars/code/python/context-aware-flow-matching/src/lightning-trainable/src/lightning_trainable/metrics/sinkhorn.py:71: Sinkhorn did not converge. Consider increasing epsilon or number of iterations.\n",
      "/home/lars/code/python/context-aware-flow-matching/src/lightning-trainable/src/lightning_trainable/metrics/sinkhorn.py:71: Sinkhorn did not converge. Consider increasing epsilon or number of iterations.\n",
      "/home/lars/code/python/context-aware-flow-matching/src/lightning-trainable/src/lightning_trainable/metrics/sinkhorn.py:71: Sinkhorn did not converge. Consider increasing epsilon or number of iterations.\n",
      "/home/lars/code/python/context-aware-flow-matching/src/lightning-trainable/src/lightning_trainable/metrics/sinkhorn.py:71: Sinkhorn did not converge. Consider increasing epsilon or number of iterations.\n",
      "/home/lars/code/python/context-aware-flow-matching/src/lightning-trainable/src/lightning_trainable/metrics/sinkhorn.py:71: Sinkhorn did not converge. Consider increasing epsilon or number of iterations.\n",
      "/home/lars/code/python/context-aware-flow-matching/src/lightning-trainable/src/lightning_trainable/metrics/sinkhorn.py:71: Sinkhorn did not converge. Consider increasing epsilon or number of iterations.\n"
     ]
    },
    {
     "data": {
      "text/plain": "Validation: |          | 0/? [00:00<?, ?it/s]",
      "application/vnd.jupyter.widget-view+json": {
       "version_major": 2,
       "version_minor": 0,
       "model_id": "7fd08d68dded41e399da3e14e83d4ca3"
      }
     },
     "metadata": {},
     "output_type": "display_data"
    },
    {
     "name": "stderr",
     "output_type": "stream",
     "text": [
      "/home/lars/code/python/context-aware-flow-matching/src/lightning-trainable/src/lightning_trainable/metrics/sinkhorn.py:71: Sinkhorn did not converge. Consider increasing epsilon or number of iterations.\n",
      "/home/lars/code/python/context-aware-flow-matching/src/lightning-trainable/src/lightning_trainable/metrics/sinkhorn.py:71: Sinkhorn did not converge. Consider increasing epsilon or number of iterations.\n",
      "/home/lars/code/python/context-aware-flow-matching/src/lightning-trainable/src/lightning_trainable/metrics/sinkhorn.py:71: Sinkhorn did not converge. Consider increasing epsilon or number of iterations.\n",
      "/home/lars/code/python/context-aware-flow-matching/src/lightning-trainable/src/lightning_trainable/metrics/sinkhorn.py:71: Sinkhorn did not converge. Consider increasing epsilon or number of iterations.\n",
      "/home/lars/code/python/context-aware-flow-matching/src/lightning-trainable/src/lightning_trainable/metrics/sinkhorn.py:71: Sinkhorn did not converge. Consider increasing epsilon or number of iterations.\n",
      "/home/lars/code/python/context-aware-flow-matching/src/lightning-trainable/src/lightning_trainable/metrics/sinkhorn.py:71: Sinkhorn did not converge. Consider increasing epsilon or number of iterations.\n",
      "/home/lars/code/python/context-aware-flow-matching/src/lightning-trainable/src/lightning_trainable/metrics/sinkhorn.py:71: Sinkhorn did not converge. Consider increasing epsilon or number of iterations.\n",
      "/home/lars/code/python/context-aware-flow-matching/src/lightning-trainable/src/lightning_trainable/metrics/sinkhorn.py:71: Sinkhorn did not converge. Consider increasing epsilon or number of iterations.\n",
      "/home/lars/code/python/context-aware-flow-matching/src/lightning-trainable/src/lightning_trainable/metrics/sinkhorn.py:71: Sinkhorn did not converge. Consider increasing epsilon or number of iterations.\n",
      "/home/lars/code/python/context-aware-flow-matching/src/lightning-trainable/src/lightning_trainable/metrics/sinkhorn.py:71: Sinkhorn did not converge. Consider increasing epsilon or number of iterations.\n",
      "/home/lars/code/python/context-aware-flow-matching/src/lightning-trainable/src/lightning_trainable/metrics/sinkhorn.py:71: Sinkhorn did not converge. Consider increasing epsilon or number of iterations.\n",
      "/home/lars/code/python/context-aware-flow-matching/src/lightning-trainable/src/lightning_trainable/metrics/sinkhorn.py:71: Sinkhorn did not converge. Consider increasing epsilon or number of iterations.\n",
      "/home/lars/code/python/context-aware-flow-matching/src/lightning-trainable/src/lightning_trainable/metrics/sinkhorn.py:71: Sinkhorn did not converge. Consider increasing epsilon or number of iterations.\n",
      "/home/lars/code/python/context-aware-flow-matching/src/lightning-trainable/src/lightning_trainable/metrics/sinkhorn.py:71: Sinkhorn did not converge. Consider increasing epsilon or number of iterations.\n",
      "/home/lars/code/python/context-aware-flow-matching/src/lightning-trainable/src/lightning_trainable/metrics/sinkhorn.py:71: Sinkhorn did not converge. Consider increasing epsilon or number of iterations.\n",
      "/home/lars/code/python/context-aware-flow-matching/src/lightning-trainable/src/lightning_trainable/metrics/sinkhorn.py:71: Sinkhorn did not converge. Consider increasing epsilon or number of iterations.\n",
      "/home/lars/code/python/context-aware-flow-matching/src/lightning-trainable/src/lightning_trainable/metrics/sinkhorn.py:71: Sinkhorn did not converge. Consider increasing epsilon or number of iterations.\n",
      "/home/lars/code/python/context-aware-flow-matching/src/lightning-trainable/src/lightning_trainable/metrics/sinkhorn.py:71: Sinkhorn did not converge. Consider increasing epsilon or number of iterations.\n"
     ]
    },
    {
     "data": {
      "text/plain": "Validation: |          | 0/? [00:00<?, ?it/s]",
      "application/vnd.jupyter.widget-view+json": {
       "version_major": 2,
       "version_minor": 0,
       "model_id": "93f904e9b14b490da4142c5f185268c2"
      }
     },
     "metadata": {},
     "output_type": "display_data"
    },
    {
     "name": "stderr",
     "output_type": "stream",
     "text": [
      "/home/lars/code/python/context-aware-flow-matching/src/lightning-trainable/src/lightning_trainable/metrics/sinkhorn.py:71: Sinkhorn did not converge. Consider increasing epsilon or number of iterations.\n",
      "/home/lars/code/python/context-aware-flow-matching/src/lightning-trainable/src/lightning_trainable/metrics/sinkhorn.py:71: Sinkhorn did not converge. Consider increasing epsilon or number of iterations.\n",
      "/home/lars/code/python/context-aware-flow-matching/src/lightning-trainable/src/lightning_trainable/metrics/sinkhorn.py:71: Sinkhorn did not converge. Consider increasing epsilon or number of iterations.\n",
      "/home/lars/code/python/context-aware-flow-matching/src/lightning-trainable/src/lightning_trainable/metrics/sinkhorn.py:71: Sinkhorn did not converge. Consider increasing epsilon or number of iterations.\n",
      "/home/lars/code/python/context-aware-flow-matching/src/lightning-trainable/src/lightning_trainable/metrics/sinkhorn.py:71: Sinkhorn did not converge. Consider increasing epsilon or number of iterations.\n",
      "/home/lars/code/python/context-aware-flow-matching/src/lightning-trainable/src/lightning_trainable/metrics/sinkhorn.py:71: Sinkhorn did not converge. Consider increasing epsilon or number of iterations.\n",
      "/home/lars/code/python/context-aware-flow-matching/src/lightning-trainable/src/lightning_trainable/metrics/sinkhorn.py:71: Sinkhorn did not converge. Consider increasing epsilon or number of iterations.\n",
      "/home/lars/code/python/context-aware-flow-matching/src/lightning-trainable/src/lightning_trainable/metrics/sinkhorn.py:71: Sinkhorn did not converge. Consider increasing epsilon or number of iterations.\n",
      "/home/lars/code/python/context-aware-flow-matching/src/lightning-trainable/src/lightning_trainable/metrics/sinkhorn.py:71: Sinkhorn did not converge. Consider increasing epsilon or number of iterations.\n",
      "/home/lars/code/python/context-aware-flow-matching/src/lightning-trainable/src/lightning_trainable/metrics/sinkhorn.py:71: Sinkhorn did not converge. Consider increasing epsilon or number of iterations.\n",
      "/home/lars/code/python/context-aware-flow-matching/src/lightning-trainable/src/lightning_trainable/metrics/sinkhorn.py:71: Sinkhorn did not converge. Consider increasing epsilon or number of iterations.\n",
      "/home/lars/code/python/context-aware-flow-matching/src/lightning-trainable/src/lightning_trainable/metrics/sinkhorn.py:71: Sinkhorn did not converge. Consider increasing epsilon or number of iterations.\n",
      "/home/lars/code/python/context-aware-flow-matching/src/lightning-trainable/src/lightning_trainable/metrics/sinkhorn.py:71: Sinkhorn did not converge. Consider increasing epsilon or number of iterations.\n",
      "/home/lars/code/python/context-aware-flow-matching/src/lightning-trainable/src/lightning_trainable/metrics/sinkhorn.py:71: Sinkhorn did not converge. Consider increasing epsilon or number of iterations.\n",
      "/home/lars/code/python/context-aware-flow-matching/src/lightning-trainable/src/lightning_trainable/metrics/sinkhorn.py:71: Sinkhorn did not converge. Consider increasing epsilon or number of iterations.\n",
      "/home/lars/code/python/context-aware-flow-matching/src/lightning-trainable/src/lightning_trainable/metrics/sinkhorn.py:71: Sinkhorn did not converge. Consider increasing epsilon or number of iterations.\n",
      "/home/lars/code/python/context-aware-flow-matching/src/lightning-trainable/src/lightning_trainable/metrics/sinkhorn.py:71: Sinkhorn did not converge. Consider increasing epsilon or number of iterations.\n",
      "/home/lars/code/python/context-aware-flow-matching/src/lightning-trainable/src/lightning_trainable/metrics/sinkhorn.py:71: Sinkhorn did not converge. Consider increasing epsilon or number of iterations.\n"
     ]
    },
    {
     "data": {
      "text/plain": "Validation: |          | 0/? [00:00<?, ?it/s]",
      "application/vnd.jupyter.widget-view+json": {
       "version_major": 2,
       "version_minor": 0,
       "model_id": "7320ec76eca64304af62e6b183e3cb65"
      }
     },
     "metadata": {},
     "output_type": "display_data"
    },
    {
     "name": "stderr",
     "output_type": "stream",
     "text": [
      "/home/lars/code/python/context-aware-flow-matching/src/lightning-trainable/src/lightning_trainable/metrics/sinkhorn.py:71: Sinkhorn did not converge. Consider increasing epsilon or number of iterations.\n",
      "/home/lars/code/python/context-aware-flow-matching/src/lightning-trainable/src/lightning_trainable/metrics/sinkhorn.py:71: Sinkhorn did not converge. Consider increasing epsilon or number of iterations.\n",
      "/home/lars/code/python/context-aware-flow-matching/src/lightning-trainable/src/lightning_trainable/metrics/sinkhorn.py:71: Sinkhorn did not converge. Consider increasing epsilon or number of iterations.\n",
      "/home/lars/code/python/context-aware-flow-matching/src/lightning-trainable/src/lightning_trainable/metrics/sinkhorn.py:71: Sinkhorn did not converge. Consider increasing epsilon or number of iterations.\n",
      "/home/lars/code/python/context-aware-flow-matching/src/lightning-trainable/src/lightning_trainable/metrics/sinkhorn.py:71: Sinkhorn did not converge. Consider increasing epsilon or number of iterations.\n",
      "/home/lars/code/python/context-aware-flow-matching/src/lightning-trainable/src/lightning_trainable/metrics/sinkhorn.py:71: Sinkhorn did not converge. Consider increasing epsilon or number of iterations.\n",
      "/home/lars/code/python/context-aware-flow-matching/src/lightning-trainable/src/lightning_trainable/metrics/sinkhorn.py:71: Sinkhorn did not converge. Consider increasing epsilon or number of iterations.\n",
      "/home/lars/code/python/context-aware-flow-matching/src/lightning-trainable/src/lightning_trainable/metrics/sinkhorn.py:71: Sinkhorn did not converge. Consider increasing epsilon or number of iterations.\n",
      "/home/lars/code/python/context-aware-flow-matching/src/lightning-trainable/src/lightning_trainable/metrics/sinkhorn.py:71: Sinkhorn did not converge. Consider increasing epsilon or number of iterations.\n",
      "/home/lars/code/python/context-aware-flow-matching/src/lightning-trainable/src/lightning_trainable/metrics/sinkhorn.py:71: Sinkhorn did not converge. Consider increasing epsilon or number of iterations.\n",
      "/home/lars/code/python/context-aware-flow-matching/src/lightning-trainable/src/lightning_trainable/metrics/sinkhorn.py:71: Sinkhorn did not converge. Consider increasing epsilon or number of iterations.\n",
      "/home/lars/code/python/context-aware-flow-matching/src/lightning-trainable/src/lightning_trainable/metrics/sinkhorn.py:71: Sinkhorn did not converge. Consider increasing epsilon or number of iterations.\n",
      "/home/lars/code/python/context-aware-flow-matching/src/lightning-trainable/src/lightning_trainable/metrics/sinkhorn.py:71: Sinkhorn did not converge. Consider increasing epsilon or number of iterations.\n",
      "/home/lars/code/python/context-aware-flow-matching/src/lightning-trainable/src/lightning_trainable/metrics/sinkhorn.py:71: Sinkhorn did not converge. Consider increasing epsilon or number of iterations.\n",
      "/home/lars/code/python/context-aware-flow-matching/src/lightning-trainable/src/lightning_trainable/metrics/sinkhorn.py:71: Sinkhorn did not converge. Consider increasing epsilon or number of iterations.\n",
      "/home/lars/code/python/context-aware-flow-matching/src/lightning-trainable/src/lightning_trainable/metrics/sinkhorn.py:71: Sinkhorn did not converge. Consider increasing epsilon or number of iterations.\n",
      "/home/lars/code/python/context-aware-flow-matching/src/lightning-trainable/src/lightning_trainable/metrics/sinkhorn.py:71: Sinkhorn did not converge. Consider increasing epsilon or number of iterations.\n",
      "/home/lars/code/python/context-aware-flow-matching/src/lightning-trainable/src/lightning_trainable/metrics/sinkhorn.py:71: Sinkhorn did not converge. Consider increasing epsilon or number of iterations.\n"
     ]
    },
    {
     "data": {
      "text/plain": "Validation: |          | 0/? [00:00<?, ?it/s]",
      "application/vnd.jupyter.widget-view+json": {
       "version_major": 2,
       "version_minor": 0,
       "model_id": "d72c1838d8da42068b342ab6dcec7c3c"
      }
     },
     "metadata": {},
     "output_type": "display_data"
    },
    {
     "name": "stderr",
     "output_type": "stream",
     "text": [
      "/home/lars/code/python/context-aware-flow-matching/src/lightning-trainable/src/lightning_trainable/metrics/sinkhorn.py:71: Sinkhorn did not converge. Consider increasing epsilon or number of iterations.\n",
      "/home/lars/code/python/context-aware-flow-matching/src/lightning-trainable/src/lightning_trainable/metrics/sinkhorn.py:71: Sinkhorn did not converge. Consider increasing epsilon or number of iterations.\n",
      "/home/lars/code/python/context-aware-flow-matching/src/lightning-trainable/src/lightning_trainable/metrics/sinkhorn.py:71: Sinkhorn did not converge. Consider increasing epsilon or number of iterations.\n",
      "/home/lars/code/python/context-aware-flow-matching/src/lightning-trainable/src/lightning_trainable/metrics/sinkhorn.py:71: Sinkhorn did not converge. Consider increasing epsilon or number of iterations.\n",
      "/home/lars/code/python/context-aware-flow-matching/src/lightning-trainable/src/lightning_trainable/metrics/sinkhorn.py:71: Sinkhorn did not converge. Consider increasing epsilon or number of iterations.\n",
      "/home/lars/code/python/context-aware-flow-matching/src/lightning-trainable/src/lightning_trainable/metrics/sinkhorn.py:71: Sinkhorn did not converge. Consider increasing epsilon or number of iterations.\n",
      "/home/lars/code/python/context-aware-flow-matching/src/lightning-trainable/src/lightning_trainable/metrics/sinkhorn.py:71: Sinkhorn did not converge. Consider increasing epsilon or number of iterations.\n",
      "/home/lars/code/python/context-aware-flow-matching/src/lightning-trainable/src/lightning_trainable/metrics/sinkhorn.py:71: Sinkhorn did not converge. Consider increasing epsilon or number of iterations.\n",
      "/home/lars/code/python/context-aware-flow-matching/src/lightning-trainable/src/lightning_trainable/metrics/sinkhorn.py:71: Sinkhorn did not converge. Consider increasing epsilon or number of iterations.\n",
      "/home/lars/code/python/context-aware-flow-matching/src/lightning-trainable/src/lightning_trainable/metrics/sinkhorn.py:71: Sinkhorn did not converge. Consider increasing epsilon or number of iterations.\n",
      "/home/lars/code/python/context-aware-flow-matching/src/lightning-trainable/src/lightning_trainable/metrics/sinkhorn.py:71: Sinkhorn did not converge. Consider increasing epsilon or number of iterations.\n",
      "/home/lars/code/python/context-aware-flow-matching/src/lightning-trainable/src/lightning_trainable/metrics/sinkhorn.py:71: Sinkhorn did not converge. Consider increasing epsilon or number of iterations.\n",
      "/home/lars/code/python/context-aware-flow-matching/src/lightning-trainable/src/lightning_trainable/metrics/sinkhorn.py:71: Sinkhorn did not converge. Consider increasing epsilon or number of iterations.\n",
      "/home/lars/code/python/context-aware-flow-matching/src/lightning-trainable/src/lightning_trainable/metrics/sinkhorn.py:71: Sinkhorn did not converge. Consider increasing epsilon or number of iterations.\n",
      "/home/lars/code/python/context-aware-flow-matching/src/lightning-trainable/src/lightning_trainable/metrics/sinkhorn.py:71: Sinkhorn did not converge. Consider increasing epsilon or number of iterations.\n",
      "/home/lars/code/python/context-aware-flow-matching/src/lightning-trainable/src/lightning_trainable/metrics/sinkhorn.py:71: Sinkhorn did not converge. Consider increasing epsilon or number of iterations.\n",
      "/home/lars/code/python/context-aware-flow-matching/src/lightning-trainable/src/lightning_trainable/metrics/sinkhorn.py:71: Sinkhorn did not converge. Consider increasing epsilon or number of iterations.\n",
      "/home/lars/code/python/context-aware-flow-matching/src/lightning-trainable/src/lightning_trainable/metrics/sinkhorn.py:71: Sinkhorn did not converge. Consider increasing epsilon or number of iterations.\n"
     ]
    },
    {
     "data": {
      "text/plain": "Validation: |          | 0/? [00:00<?, ?it/s]",
      "application/vnd.jupyter.widget-view+json": {
       "version_major": 2,
       "version_minor": 0,
       "model_id": "c699550fd3eb45e3bb70b915e3cb8fc4"
      }
     },
     "metadata": {},
     "output_type": "display_data"
    },
    {
     "name": "stderr",
     "output_type": "stream",
     "text": [
      "/home/lars/code/python/context-aware-flow-matching/src/lightning-trainable/src/lightning_trainable/metrics/sinkhorn.py:71: Sinkhorn did not converge. Consider increasing epsilon or number of iterations.\n",
      "/home/lars/code/python/context-aware-flow-matching/src/lightning-trainable/src/lightning_trainable/metrics/sinkhorn.py:71: Sinkhorn did not converge. Consider increasing epsilon or number of iterations.\n",
      "/home/lars/code/python/context-aware-flow-matching/src/lightning-trainable/src/lightning_trainable/metrics/sinkhorn.py:71: Sinkhorn did not converge. Consider increasing epsilon or number of iterations.\n",
      "/home/lars/code/python/context-aware-flow-matching/src/lightning-trainable/src/lightning_trainable/metrics/sinkhorn.py:71: Sinkhorn did not converge. Consider increasing epsilon or number of iterations.\n",
      "/home/lars/code/python/context-aware-flow-matching/src/lightning-trainable/src/lightning_trainable/metrics/sinkhorn.py:71: Sinkhorn did not converge. Consider increasing epsilon or number of iterations.\n",
      "/home/lars/code/python/context-aware-flow-matching/src/lightning-trainable/src/lightning_trainable/metrics/sinkhorn.py:71: Sinkhorn did not converge. Consider increasing epsilon or number of iterations.\n",
      "/home/lars/code/python/context-aware-flow-matching/src/lightning-trainable/src/lightning_trainable/metrics/sinkhorn.py:71: Sinkhorn did not converge. Consider increasing epsilon or number of iterations.\n",
      "/home/lars/code/python/context-aware-flow-matching/src/lightning-trainable/src/lightning_trainable/metrics/sinkhorn.py:71: Sinkhorn did not converge. Consider increasing epsilon or number of iterations.\n",
      "/home/lars/code/python/context-aware-flow-matching/src/lightning-trainable/src/lightning_trainable/metrics/sinkhorn.py:71: Sinkhorn did not converge. Consider increasing epsilon or number of iterations.\n",
      "/home/lars/code/python/context-aware-flow-matching/src/lightning-trainable/src/lightning_trainable/metrics/sinkhorn.py:71: Sinkhorn did not converge. Consider increasing epsilon or number of iterations.\n",
      "/home/lars/code/python/context-aware-flow-matching/src/lightning-trainable/src/lightning_trainable/metrics/sinkhorn.py:71: Sinkhorn did not converge. Consider increasing epsilon or number of iterations.\n",
      "/home/lars/code/python/context-aware-flow-matching/src/lightning-trainable/src/lightning_trainable/metrics/sinkhorn.py:71: Sinkhorn did not converge. Consider increasing epsilon or number of iterations.\n",
      "/home/lars/code/python/context-aware-flow-matching/src/lightning-trainable/src/lightning_trainable/metrics/sinkhorn.py:71: Sinkhorn did not converge. Consider increasing epsilon or number of iterations.\n",
      "/home/lars/code/python/context-aware-flow-matching/src/lightning-trainable/src/lightning_trainable/metrics/sinkhorn.py:71: Sinkhorn did not converge. Consider increasing epsilon or number of iterations.\n",
      "/home/lars/code/python/context-aware-flow-matching/src/lightning-trainable/src/lightning_trainable/metrics/sinkhorn.py:71: Sinkhorn did not converge. Consider increasing epsilon or number of iterations.\n",
      "/home/lars/code/python/context-aware-flow-matching/src/lightning-trainable/src/lightning_trainable/metrics/sinkhorn.py:71: Sinkhorn did not converge. Consider increasing epsilon or number of iterations.\n",
      "/home/lars/code/python/context-aware-flow-matching/src/lightning-trainable/src/lightning_trainable/metrics/sinkhorn.py:71: Sinkhorn did not converge. Consider increasing epsilon or number of iterations.\n",
      "/home/lars/code/python/context-aware-flow-matching/src/lightning-trainable/src/lightning_trainable/metrics/sinkhorn.py:71: Sinkhorn did not converge. Consider increasing epsilon or number of iterations.\n"
     ]
    },
    {
     "data": {
      "text/plain": "Validation: |          | 0/? [00:00<?, ?it/s]",
      "application/vnd.jupyter.widget-view+json": {
       "version_major": 2,
       "version_minor": 0,
       "model_id": "82eacb7fd1f943e08ad343769e3ff260"
      }
     },
     "metadata": {},
     "output_type": "display_data"
    },
    {
     "name": "stderr",
     "output_type": "stream",
     "text": [
      "/home/lars/code/python/context-aware-flow-matching/src/lightning-trainable/src/lightning_trainable/metrics/sinkhorn.py:71: Sinkhorn did not converge. Consider increasing epsilon or number of iterations.\n",
      "/home/lars/code/python/context-aware-flow-matching/src/lightning-trainable/src/lightning_trainable/metrics/sinkhorn.py:71: Sinkhorn did not converge. Consider increasing epsilon or number of iterations.\n",
      "/home/lars/code/python/context-aware-flow-matching/src/lightning-trainable/src/lightning_trainable/metrics/sinkhorn.py:71: Sinkhorn did not converge. Consider increasing epsilon or number of iterations.\n",
      "/home/lars/code/python/context-aware-flow-matching/src/lightning-trainable/src/lightning_trainable/metrics/sinkhorn.py:71: Sinkhorn did not converge. Consider increasing epsilon or number of iterations.\n",
      "/home/lars/code/python/context-aware-flow-matching/src/lightning-trainable/src/lightning_trainable/metrics/sinkhorn.py:71: Sinkhorn did not converge. Consider increasing epsilon or number of iterations.\n",
      "/home/lars/code/python/context-aware-flow-matching/src/lightning-trainable/src/lightning_trainable/metrics/sinkhorn.py:71: Sinkhorn did not converge. Consider increasing epsilon or number of iterations.\n",
      "/home/lars/code/python/context-aware-flow-matching/src/lightning-trainable/src/lightning_trainable/metrics/sinkhorn.py:71: Sinkhorn did not converge. Consider increasing epsilon or number of iterations.\n",
      "/home/lars/code/python/context-aware-flow-matching/src/lightning-trainable/src/lightning_trainable/metrics/sinkhorn.py:71: Sinkhorn did not converge. Consider increasing epsilon or number of iterations.\n",
      "/home/lars/code/python/context-aware-flow-matching/src/lightning-trainable/src/lightning_trainable/metrics/sinkhorn.py:71: Sinkhorn did not converge. Consider increasing epsilon or number of iterations.\n",
      "/home/lars/code/python/context-aware-flow-matching/src/lightning-trainable/src/lightning_trainable/metrics/sinkhorn.py:71: Sinkhorn did not converge. Consider increasing epsilon or number of iterations.\n",
      "/home/lars/code/python/context-aware-flow-matching/src/lightning-trainable/src/lightning_trainable/metrics/sinkhorn.py:71: Sinkhorn did not converge. Consider increasing epsilon or number of iterations.\n",
      "/home/lars/code/python/context-aware-flow-matching/src/lightning-trainable/src/lightning_trainable/metrics/sinkhorn.py:71: Sinkhorn did not converge. Consider increasing epsilon or number of iterations.\n",
      "/home/lars/code/python/context-aware-flow-matching/src/lightning-trainable/src/lightning_trainable/metrics/sinkhorn.py:71: Sinkhorn did not converge. Consider increasing epsilon or number of iterations.\n",
      "/home/lars/code/python/context-aware-flow-matching/src/lightning-trainable/src/lightning_trainable/metrics/sinkhorn.py:71: Sinkhorn did not converge. Consider increasing epsilon or number of iterations.\n",
      "/home/lars/code/python/context-aware-flow-matching/src/lightning-trainable/src/lightning_trainable/metrics/sinkhorn.py:71: Sinkhorn did not converge. Consider increasing epsilon or number of iterations.\n",
      "/home/lars/code/python/context-aware-flow-matching/src/lightning-trainable/src/lightning_trainable/metrics/sinkhorn.py:71: Sinkhorn did not converge. Consider increasing epsilon or number of iterations.\n",
      "/home/lars/code/python/context-aware-flow-matching/src/lightning-trainable/src/lightning_trainable/metrics/sinkhorn.py:71: Sinkhorn did not converge. Consider increasing epsilon or number of iterations.\n",
      "/home/lars/code/python/context-aware-flow-matching/src/lightning-trainable/src/lightning_trainable/metrics/sinkhorn.py:71: Sinkhorn did not converge. Consider increasing epsilon or number of iterations.\n"
     ]
    },
    {
     "data": {
      "text/plain": "Validation: |          | 0/? [00:00<?, ?it/s]",
      "application/vnd.jupyter.widget-view+json": {
       "version_major": 2,
       "version_minor": 0,
       "model_id": "25752452f6c14e7d8f20d12e126c0c2b"
      }
     },
     "metadata": {},
     "output_type": "display_data"
    },
    {
     "name": "stderr",
     "output_type": "stream",
     "text": [
      "/home/lars/code/python/context-aware-flow-matching/src/lightning-trainable/src/lightning_trainable/metrics/sinkhorn.py:71: Sinkhorn did not converge. Consider increasing epsilon or number of iterations.\n",
      "/home/lars/code/python/context-aware-flow-matching/src/lightning-trainable/src/lightning_trainable/metrics/sinkhorn.py:71: Sinkhorn did not converge. Consider increasing epsilon or number of iterations.\n",
      "/home/lars/code/python/context-aware-flow-matching/src/lightning-trainable/src/lightning_trainable/metrics/sinkhorn.py:71: Sinkhorn did not converge. Consider increasing epsilon or number of iterations.\n",
      "/home/lars/code/python/context-aware-flow-matching/src/lightning-trainable/src/lightning_trainable/metrics/sinkhorn.py:71: Sinkhorn did not converge. Consider increasing epsilon or number of iterations.\n",
      "/home/lars/code/python/context-aware-flow-matching/src/lightning-trainable/src/lightning_trainable/metrics/sinkhorn.py:71: Sinkhorn did not converge. Consider increasing epsilon or number of iterations.\n",
      "/home/lars/code/python/context-aware-flow-matching/src/lightning-trainable/src/lightning_trainable/metrics/sinkhorn.py:71: Sinkhorn did not converge. Consider increasing epsilon or number of iterations.\n",
      "/home/lars/code/python/context-aware-flow-matching/src/lightning-trainable/src/lightning_trainable/metrics/sinkhorn.py:71: Sinkhorn did not converge. Consider increasing epsilon or number of iterations.\n",
      "/home/lars/code/python/context-aware-flow-matching/src/lightning-trainable/src/lightning_trainable/metrics/sinkhorn.py:71: Sinkhorn did not converge. Consider increasing epsilon or number of iterations.\n",
      "/home/lars/code/python/context-aware-flow-matching/src/lightning-trainable/src/lightning_trainable/metrics/sinkhorn.py:71: Sinkhorn did not converge. Consider increasing epsilon or number of iterations.\n",
      "/home/lars/code/python/context-aware-flow-matching/src/lightning-trainable/src/lightning_trainable/metrics/sinkhorn.py:71: Sinkhorn did not converge. Consider increasing epsilon or number of iterations.\n",
      "/home/lars/code/python/context-aware-flow-matching/src/lightning-trainable/src/lightning_trainable/metrics/sinkhorn.py:71: Sinkhorn did not converge. Consider increasing epsilon or number of iterations.\n",
      "/home/lars/code/python/context-aware-flow-matching/src/lightning-trainable/src/lightning_trainable/metrics/sinkhorn.py:71: Sinkhorn did not converge. Consider increasing epsilon or number of iterations.\n",
      "/home/lars/code/python/context-aware-flow-matching/src/lightning-trainable/src/lightning_trainable/metrics/sinkhorn.py:71: Sinkhorn did not converge. Consider increasing epsilon or number of iterations.\n",
      "/home/lars/code/python/context-aware-flow-matching/src/lightning-trainable/src/lightning_trainable/metrics/sinkhorn.py:71: Sinkhorn did not converge. Consider increasing epsilon or number of iterations.\n",
      "/home/lars/code/python/context-aware-flow-matching/src/lightning-trainable/src/lightning_trainable/metrics/sinkhorn.py:71: Sinkhorn did not converge. Consider increasing epsilon or number of iterations.\n",
      "/home/lars/code/python/context-aware-flow-matching/src/lightning-trainable/src/lightning_trainable/metrics/sinkhorn.py:71: Sinkhorn did not converge. Consider increasing epsilon or number of iterations.\n",
      "/home/lars/code/python/context-aware-flow-matching/src/lightning-trainable/src/lightning_trainable/metrics/sinkhorn.py:71: Sinkhorn did not converge. Consider increasing epsilon or number of iterations.\n",
      "/home/lars/code/python/context-aware-flow-matching/src/lightning-trainable/src/lightning_trainable/metrics/sinkhorn.py:71: Sinkhorn did not converge. Consider increasing epsilon or number of iterations.\n"
     ]
    },
    {
     "data": {
      "text/plain": "Validation: |          | 0/? [00:00<?, ?it/s]",
      "application/vnd.jupyter.widget-view+json": {
       "version_major": 2,
       "version_minor": 0,
       "model_id": "3757a4b12a3045ef85e6ae6b2693734e"
      }
     },
     "metadata": {},
     "output_type": "display_data"
    },
    {
     "name": "stderr",
     "output_type": "stream",
     "text": [
      "/home/lars/code/python/context-aware-flow-matching/src/lightning-trainable/src/lightning_trainable/metrics/sinkhorn.py:71: Sinkhorn did not converge. Consider increasing epsilon or number of iterations.\n",
      "/home/lars/code/python/context-aware-flow-matching/src/lightning-trainable/src/lightning_trainable/metrics/sinkhorn.py:71: Sinkhorn did not converge. Consider increasing epsilon or number of iterations.\n",
      "/home/lars/code/python/context-aware-flow-matching/src/lightning-trainable/src/lightning_trainable/metrics/sinkhorn.py:71: Sinkhorn did not converge. Consider increasing epsilon or number of iterations.\n",
      "/home/lars/code/python/context-aware-flow-matching/src/lightning-trainable/src/lightning_trainable/metrics/sinkhorn.py:71: Sinkhorn did not converge. Consider increasing epsilon or number of iterations.\n",
      "/home/lars/code/python/context-aware-flow-matching/src/lightning-trainable/src/lightning_trainable/metrics/sinkhorn.py:71: Sinkhorn did not converge. Consider increasing epsilon or number of iterations.\n",
      "/home/lars/code/python/context-aware-flow-matching/src/lightning-trainable/src/lightning_trainable/metrics/sinkhorn.py:71: Sinkhorn did not converge. Consider increasing epsilon or number of iterations.\n",
      "/home/lars/code/python/context-aware-flow-matching/src/lightning-trainable/src/lightning_trainable/metrics/sinkhorn.py:71: Sinkhorn did not converge. Consider increasing epsilon or number of iterations.\n",
      "/home/lars/code/python/context-aware-flow-matching/src/lightning-trainable/src/lightning_trainable/metrics/sinkhorn.py:71: Sinkhorn did not converge. Consider increasing epsilon or number of iterations.\n",
      "/home/lars/code/python/context-aware-flow-matching/src/lightning-trainable/src/lightning_trainable/metrics/sinkhorn.py:71: Sinkhorn did not converge. Consider increasing epsilon or number of iterations.\n",
      "/home/lars/code/python/context-aware-flow-matching/src/lightning-trainable/src/lightning_trainable/metrics/sinkhorn.py:71: Sinkhorn did not converge. Consider increasing epsilon or number of iterations.\n",
      "/home/lars/code/python/context-aware-flow-matching/src/lightning-trainable/src/lightning_trainable/metrics/sinkhorn.py:71: Sinkhorn did not converge. Consider increasing epsilon or number of iterations.\n",
      "/home/lars/code/python/context-aware-flow-matching/src/lightning-trainable/src/lightning_trainable/metrics/sinkhorn.py:71: Sinkhorn did not converge. Consider increasing epsilon or number of iterations.\n",
      "/home/lars/code/python/context-aware-flow-matching/src/lightning-trainable/src/lightning_trainable/metrics/sinkhorn.py:71: Sinkhorn did not converge. Consider increasing epsilon or number of iterations.\n",
      "/home/lars/code/python/context-aware-flow-matching/src/lightning-trainable/src/lightning_trainable/metrics/sinkhorn.py:71: Sinkhorn did not converge. Consider increasing epsilon or number of iterations.\n",
      "/home/lars/code/python/context-aware-flow-matching/src/lightning-trainable/src/lightning_trainable/metrics/sinkhorn.py:71: Sinkhorn did not converge. Consider increasing epsilon or number of iterations.\n",
      "/home/lars/code/python/context-aware-flow-matching/src/lightning-trainable/src/lightning_trainable/metrics/sinkhorn.py:71: Sinkhorn did not converge. Consider increasing epsilon or number of iterations.\n",
      "/home/lars/code/python/context-aware-flow-matching/src/lightning-trainable/src/lightning_trainable/metrics/sinkhorn.py:71: Sinkhorn did not converge. Consider increasing epsilon or number of iterations.\n",
      "/home/lars/code/python/context-aware-flow-matching/src/lightning-trainable/src/lightning_trainable/metrics/sinkhorn.py:71: Sinkhorn did not converge. Consider increasing epsilon or number of iterations.\n"
     ]
    },
    {
     "data": {
      "text/plain": "Validation: |          | 0/? [00:00<?, ?it/s]",
      "application/vnd.jupyter.widget-view+json": {
       "version_major": 2,
       "version_minor": 0,
       "model_id": "d797fbca2dd34572b544cb47a35a87c9"
      }
     },
     "metadata": {},
     "output_type": "display_data"
    },
    {
     "name": "stderr",
     "output_type": "stream",
     "text": [
      "/home/lars/code/python/context-aware-flow-matching/src/lightning-trainable/src/lightning_trainable/metrics/sinkhorn.py:71: Sinkhorn did not converge. Consider increasing epsilon or number of iterations.\n",
      "/home/lars/code/python/context-aware-flow-matching/src/lightning-trainable/src/lightning_trainable/metrics/sinkhorn.py:71: Sinkhorn did not converge. Consider increasing epsilon or number of iterations.\n",
      "/home/lars/code/python/context-aware-flow-matching/src/lightning-trainable/src/lightning_trainable/metrics/sinkhorn.py:71: Sinkhorn did not converge. Consider increasing epsilon or number of iterations.\n",
      "/home/lars/code/python/context-aware-flow-matching/src/lightning-trainable/src/lightning_trainable/metrics/sinkhorn.py:71: Sinkhorn did not converge. Consider increasing epsilon or number of iterations.\n",
      "/home/lars/code/python/context-aware-flow-matching/src/lightning-trainable/src/lightning_trainable/metrics/sinkhorn.py:71: Sinkhorn did not converge. Consider increasing epsilon or number of iterations.\n",
      "/home/lars/code/python/context-aware-flow-matching/src/lightning-trainable/src/lightning_trainable/metrics/sinkhorn.py:71: Sinkhorn did not converge. Consider increasing epsilon or number of iterations.\n",
      "/home/lars/code/python/context-aware-flow-matching/src/lightning-trainable/src/lightning_trainable/metrics/sinkhorn.py:71: Sinkhorn did not converge. Consider increasing epsilon or number of iterations.\n",
      "/home/lars/code/python/context-aware-flow-matching/src/lightning-trainable/src/lightning_trainable/metrics/sinkhorn.py:71: Sinkhorn did not converge. Consider increasing epsilon or number of iterations.\n",
      "/home/lars/code/python/context-aware-flow-matching/src/lightning-trainable/src/lightning_trainable/metrics/sinkhorn.py:71: Sinkhorn did not converge. Consider increasing epsilon or number of iterations.\n",
      "/home/lars/code/python/context-aware-flow-matching/src/lightning-trainable/src/lightning_trainable/metrics/sinkhorn.py:71: Sinkhorn did not converge. Consider increasing epsilon or number of iterations.\n",
      "/home/lars/code/python/context-aware-flow-matching/src/lightning-trainable/src/lightning_trainable/metrics/sinkhorn.py:71: Sinkhorn did not converge. Consider increasing epsilon or number of iterations.\n",
      "/home/lars/code/python/context-aware-flow-matching/src/lightning-trainable/src/lightning_trainable/metrics/sinkhorn.py:71: Sinkhorn did not converge. Consider increasing epsilon or number of iterations.\n",
      "/home/lars/code/python/context-aware-flow-matching/src/lightning-trainable/src/lightning_trainable/metrics/sinkhorn.py:71: Sinkhorn did not converge. Consider increasing epsilon or number of iterations.\n",
      "/home/lars/code/python/context-aware-flow-matching/src/lightning-trainable/src/lightning_trainable/metrics/sinkhorn.py:71: Sinkhorn did not converge. Consider increasing epsilon or number of iterations.\n",
      "/home/lars/code/python/context-aware-flow-matching/src/lightning-trainable/src/lightning_trainable/metrics/sinkhorn.py:71: Sinkhorn did not converge. Consider increasing epsilon or number of iterations.\n",
      "/home/lars/code/python/context-aware-flow-matching/src/lightning-trainable/src/lightning_trainable/metrics/sinkhorn.py:71: Sinkhorn did not converge. Consider increasing epsilon or number of iterations.\n",
      "/home/lars/code/python/context-aware-flow-matching/src/lightning-trainable/src/lightning_trainable/metrics/sinkhorn.py:71: Sinkhorn did not converge. Consider increasing epsilon or number of iterations.\n",
      "/home/lars/code/python/context-aware-flow-matching/src/lightning-trainable/src/lightning_trainable/metrics/sinkhorn.py:71: Sinkhorn did not converge. Consider increasing epsilon or number of iterations.\n"
     ]
    },
    {
     "data": {
      "text/plain": "Validation: |          | 0/? [00:00<?, ?it/s]",
      "application/vnd.jupyter.widget-view+json": {
       "version_major": 2,
       "version_minor": 0,
       "model_id": "97678294b993417fab8052c330c94d21"
      }
     },
     "metadata": {},
     "output_type": "display_data"
    },
    {
     "name": "stderr",
     "output_type": "stream",
     "text": [
      "/home/lars/code/python/context-aware-flow-matching/src/lightning-trainable/src/lightning_trainable/metrics/sinkhorn.py:71: Sinkhorn did not converge. Consider increasing epsilon or number of iterations.\n",
      "/home/lars/code/python/context-aware-flow-matching/src/lightning-trainable/src/lightning_trainable/metrics/sinkhorn.py:71: Sinkhorn did not converge. Consider increasing epsilon or number of iterations.\n",
      "/home/lars/code/python/context-aware-flow-matching/src/lightning-trainable/src/lightning_trainable/metrics/sinkhorn.py:71: Sinkhorn did not converge. Consider increasing epsilon or number of iterations.\n",
      "/home/lars/code/python/context-aware-flow-matching/src/lightning-trainable/src/lightning_trainable/metrics/sinkhorn.py:71: Sinkhorn did not converge. Consider increasing epsilon or number of iterations.\n",
      "/home/lars/code/python/context-aware-flow-matching/src/lightning-trainable/src/lightning_trainable/metrics/sinkhorn.py:71: Sinkhorn did not converge. Consider increasing epsilon or number of iterations.\n",
      "/home/lars/code/python/context-aware-flow-matching/src/lightning-trainable/src/lightning_trainable/metrics/sinkhorn.py:71: Sinkhorn did not converge. Consider increasing epsilon or number of iterations.\n",
      "/home/lars/code/python/context-aware-flow-matching/src/lightning-trainable/src/lightning_trainable/metrics/sinkhorn.py:71: Sinkhorn did not converge. Consider increasing epsilon or number of iterations.\n",
      "/home/lars/code/python/context-aware-flow-matching/src/lightning-trainable/src/lightning_trainable/metrics/sinkhorn.py:71: Sinkhorn did not converge. Consider increasing epsilon or number of iterations.\n",
      "/home/lars/code/python/context-aware-flow-matching/src/lightning-trainable/src/lightning_trainable/metrics/sinkhorn.py:71: Sinkhorn did not converge. Consider increasing epsilon or number of iterations.\n",
      "/home/lars/code/python/context-aware-flow-matching/src/lightning-trainable/src/lightning_trainable/metrics/sinkhorn.py:71: Sinkhorn did not converge. Consider increasing epsilon or number of iterations.\n",
      "/home/lars/code/python/context-aware-flow-matching/src/lightning-trainable/src/lightning_trainable/metrics/sinkhorn.py:71: Sinkhorn did not converge. Consider increasing epsilon or number of iterations.\n",
      "/home/lars/code/python/context-aware-flow-matching/src/lightning-trainable/src/lightning_trainable/metrics/sinkhorn.py:71: Sinkhorn did not converge. Consider increasing epsilon or number of iterations.\n",
      "/home/lars/code/python/context-aware-flow-matching/src/lightning-trainable/src/lightning_trainable/metrics/sinkhorn.py:71: Sinkhorn did not converge. Consider increasing epsilon or number of iterations.\n",
      "/home/lars/code/python/context-aware-flow-matching/src/lightning-trainable/src/lightning_trainable/metrics/sinkhorn.py:71: Sinkhorn did not converge. Consider increasing epsilon or number of iterations.\n",
      "/home/lars/code/python/context-aware-flow-matching/src/lightning-trainable/src/lightning_trainable/metrics/sinkhorn.py:71: Sinkhorn did not converge. Consider increasing epsilon or number of iterations.\n",
      "/home/lars/code/python/context-aware-flow-matching/src/lightning-trainable/src/lightning_trainable/metrics/sinkhorn.py:71: Sinkhorn did not converge. Consider increasing epsilon or number of iterations.\n",
      "/home/lars/code/python/context-aware-flow-matching/src/lightning-trainable/src/lightning_trainable/metrics/sinkhorn.py:71: Sinkhorn did not converge. Consider increasing epsilon or number of iterations.\n",
      "/home/lars/code/python/context-aware-flow-matching/src/lightning-trainable/src/lightning_trainable/metrics/sinkhorn.py:71: Sinkhorn did not converge. Consider increasing epsilon or number of iterations.\n"
     ]
    },
    {
     "data": {
      "text/plain": "Validation: |          | 0/? [00:00<?, ?it/s]",
      "application/vnd.jupyter.widget-view+json": {
       "version_major": 2,
       "version_minor": 0,
       "model_id": "75acd134ff85401ba315dc5a63152154"
      }
     },
     "metadata": {},
     "output_type": "display_data"
    },
    {
     "name": "stderr",
     "output_type": "stream",
     "text": [
      "/home/lars/code/python/context-aware-flow-matching/src/lightning-trainable/src/lightning_trainable/metrics/sinkhorn.py:71: Sinkhorn did not converge. Consider increasing epsilon or number of iterations.\n",
      "/home/lars/code/python/context-aware-flow-matching/src/lightning-trainable/src/lightning_trainable/metrics/sinkhorn.py:71: Sinkhorn did not converge. Consider increasing epsilon or number of iterations.\n",
      "/home/lars/code/python/context-aware-flow-matching/src/lightning-trainable/src/lightning_trainable/metrics/sinkhorn.py:71: Sinkhorn did not converge. Consider increasing epsilon or number of iterations.\n",
      "/home/lars/code/python/context-aware-flow-matching/src/lightning-trainable/src/lightning_trainable/metrics/sinkhorn.py:71: Sinkhorn did not converge. Consider increasing epsilon or number of iterations.\n",
      "/home/lars/code/python/context-aware-flow-matching/src/lightning-trainable/src/lightning_trainable/metrics/sinkhorn.py:71: Sinkhorn did not converge. Consider increasing epsilon or number of iterations.\n",
      "/home/lars/code/python/context-aware-flow-matching/src/lightning-trainable/src/lightning_trainable/metrics/sinkhorn.py:71: Sinkhorn did not converge. Consider increasing epsilon or number of iterations.\n",
      "/home/lars/code/python/context-aware-flow-matching/src/lightning-trainable/src/lightning_trainable/metrics/sinkhorn.py:71: Sinkhorn did not converge. Consider increasing epsilon or number of iterations.\n",
      "/home/lars/code/python/context-aware-flow-matching/src/lightning-trainable/src/lightning_trainable/metrics/sinkhorn.py:71: Sinkhorn did not converge. Consider increasing epsilon or number of iterations.\n",
      "/home/lars/code/python/context-aware-flow-matching/src/lightning-trainable/src/lightning_trainable/metrics/sinkhorn.py:71: Sinkhorn did not converge. Consider increasing epsilon or number of iterations.\n",
      "/home/lars/code/python/context-aware-flow-matching/src/lightning-trainable/src/lightning_trainable/metrics/sinkhorn.py:71: Sinkhorn did not converge. Consider increasing epsilon or number of iterations.\n",
      "/home/lars/code/python/context-aware-flow-matching/src/lightning-trainable/src/lightning_trainable/metrics/sinkhorn.py:71: Sinkhorn did not converge. Consider increasing epsilon or number of iterations.\n",
      "/home/lars/code/python/context-aware-flow-matching/src/lightning-trainable/src/lightning_trainable/metrics/sinkhorn.py:71: Sinkhorn did not converge. Consider increasing epsilon or number of iterations.\n",
      "/home/lars/code/python/context-aware-flow-matching/src/lightning-trainable/src/lightning_trainable/metrics/sinkhorn.py:71: Sinkhorn did not converge. Consider increasing epsilon or number of iterations.\n",
      "/home/lars/code/python/context-aware-flow-matching/src/lightning-trainable/src/lightning_trainable/metrics/sinkhorn.py:71: Sinkhorn did not converge. Consider increasing epsilon or number of iterations.\n",
      "/home/lars/code/python/context-aware-flow-matching/src/lightning-trainable/src/lightning_trainable/metrics/sinkhorn.py:71: Sinkhorn did not converge. Consider increasing epsilon or number of iterations.\n",
      "/home/lars/code/python/context-aware-flow-matching/src/lightning-trainable/src/lightning_trainable/metrics/sinkhorn.py:71: Sinkhorn did not converge. Consider increasing epsilon or number of iterations.\n",
      "/home/lars/code/python/context-aware-flow-matching/src/lightning-trainable/src/lightning_trainable/metrics/sinkhorn.py:71: Sinkhorn did not converge. Consider increasing epsilon or number of iterations.\n",
      "/home/lars/code/python/context-aware-flow-matching/src/lightning-trainable/src/lightning_trainable/metrics/sinkhorn.py:71: Sinkhorn did not converge. Consider increasing epsilon or number of iterations.\n"
     ]
    },
    {
     "data": {
      "text/plain": "Validation: |          | 0/? [00:00<?, ?it/s]",
      "application/vnd.jupyter.widget-view+json": {
       "version_major": 2,
       "version_minor": 0,
       "model_id": "79b8fa41dd4d4704835f62b0da2d2096"
      }
     },
     "metadata": {},
     "output_type": "display_data"
    },
    {
     "name": "stderr",
     "output_type": "stream",
     "text": [
      "/home/lars/code/python/context-aware-flow-matching/src/lightning-trainable/src/lightning_trainable/metrics/sinkhorn.py:71: Sinkhorn did not converge. Consider increasing epsilon or number of iterations.\n",
      "/home/lars/code/python/context-aware-flow-matching/src/lightning-trainable/src/lightning_trainable/metrics/sinkhorn.py:71: Sinkhorn did not converge. Consider increasing epsilon or number of iterations.\n",
      "/home/lars/code/python/context-aware-flow-matching/src/lightning-trainable/src/lightning_trainable/metrics/sinkhorn.py:71: Sinkhorn did not converge. Consider increasing epsilon or number of iterations.\n",
      "/home/lars/code/python/context-aware-flow-matching/src/lightning-trainable/src/lightning_trainable/metrics/sinkhorn.py:71: Sinkhorn did not converge. Consider increasing epsilon or number of iterations.\n",
      "/home/lars/code/python/context-aware-flow-matching/src/lightning-trainable/src/lightning_trainable/metrics/sinkhorn.py:71: Sinkhorn did not converge. Consider increasing epsilon or number of iterations.\n",
      "/home/lars/code/python/context-aware-flow-matching/src/lightning-trainable/src/lightning_trainable/metrics/sinkhorn.py:71: Sinkhorn did not converge. Consider increasing epsilon or number of iterations.\n",
      "/home/lars/code/python/context-aware-flow-matching/src/lightning-trainable/src/lightning_trainable/metrics/sinkhorn.py:71: Sinkhorn did not converge. Consider increasing epsilon or number of iterations.\n",
      "/home/lars/code/python/context-aware-flow-matching/src/lightning-trainable/src/lightning_trainable/metrics/sinkhorn.py:71: Sinkhorn did not converge. Consider increasing epsilon or number of iterations.\n",
      "/home/lars/code/python/context-aware-flow-matching/src/lightning-trainable/src/lightning_trainable/metrics/sinkhorn.py:71: Sinkhorn did not converge. Consider increasing epsilon or number of iterations.\n",
      "/home/lars/code/python/context-aware-flow-matching/src/lightning-trainable/src/lightning_trainable/metrics/sinkhorn.py:71: Sinkhorn did not converge. Consider increasing epsilon or number of iterations.\n",
      "/home/lars/code/python/context-aware-flow-matching/src/lightning-trainable/src/lightning_trainable/metrics/sinkhorn.py:71: Sinkhorn did not converge. Consider increasing epsilon or number of iterations.\n",
      "/home/lars/code/python/context-aware-flow-matching/src/lightning-trainable/src/lightning_trainable/metrics/sinkhorn.py:71: Sinkhorn did not converge. Consider increasing epsilon or number of iterations.\n",
      "/home/lars/code/python/context-aware-flow-matching/src/lightning-trainable/src/lightning_trainable/metrics/sinkhorn.py:71: Sinkhorn did not converge. Consider increasing epsilon or number of iterations.\n",
      "/home/lars/code/python/context-aware-flow-matching/src/lightning-trainable/src/lightning_trainable/metrics/sinkhorn.py:71: Sinkhorn did not converge. Consider increasing epsilon or number of iterations.\n",
      "/home/lars/code/python/context-aware-flow-matching/src/lightning-trainable/src/lightning_trainable/metrics/sinkhorn.py:71: Sinkhorn did not converge. Consider increasing epsilon or number of iterations.\n",
      "/home/lars/code/python/context-aware-flow-matching/src/lightning-trainable/src/lightning_trainable/metrics/sinkhorn.py:71: Sinkhorn did not converge. Consider increasing epsilon or number of iterations.\n",
      "/home/lars/code/python/context-aware-flow-matching/src/lightning-trainable/src/lightning_trainable/metrics/sinkhorn.py:71: Sinkhorn did not converge. Consider increasing epsilon or number of iterations.\n",
      "/home/lars/code/python/context-aware-flow-matching/src/lightning-trainable/src/lightning_trainable/metrics/sinkhorn.py:71: Sinkhorn did not converge. Consider increasing epsilon or number of iterations.\n"
     ]
    },
    {
     "data": {
      "text/plain": "Validation: |          | 0/? [00:00<?, ?it/s]",
      "application/vnd.jupyter.widget-view+json": {
       "version_major": 2,
       "version_minor": 0,
       "model_id": "7d0fd8ed27044ea3bdf2558c5e55c253"
      }
     },
     "metadata": {},
     "output_type": "display_data"
    },
    {
     "name": "stderr",
     "output_type": "stream",
     "text": [
      "/home/lars/code/python/context-aware-flow-matching/src/lightning-trainable/src/lightning_trainable/metrics/sinkhorn.py:71: Sinkhorn did not converge. Consider increasing epsilon or number of iterations.\n",
      "/home/lars/code/python/context-aware-flow-matching/src/lightning-trainable/src/lightning_trainable/metrics/sinkhorn.py:71: Sinkhorn did not converge. Consider increasing epsilon or number of iterations.\n",
      "/home/lars/code/python/context-aware-flow-matching/src/lightning-trainable/src/lightning_trainable/metrics/sinkhorn.py:71: Sinkhorn did not converge. Consider increasing epsilon or number of iterations.\n",
      "/home/lars/code/python/context-aware-flow-matching/src/lightning-trainable/src/lightning_trainable/metrics/sinkhorn.py:71: Sinkhorn did not converge. Consider increasing epsilon or number of iterations.\n",
      "/home/lars/code/python/context-aware-flow-matching/src/lightning-trainable/src/lightning_trainable/metrics/sinkhorn.py:71: Sinkhorn did not converge. Consider increasing epsilon or number of iterations.\n",
      "/home/lars/code/python/context-aware-flow-matching/src/lightning-trainable/src/lightning_trainable/metrics/sinkhorn.py:71: Sinkhorn did not converge. Consider increasing epsilon or number of iterations.\n",
      "/home/lars/code/python/context-aware-flow-matching/src/lightning-trainable/src/lightning_trainable/metrics/sinkhorn.py:71: Sinkhorn did not converge. Consider increasing epsilon or number of iterations.\n",
      "/home/lars/code/python/context-aware-flow-matching/src/lightning-trainable/src/lightning_trainable/metrics/sinkhorn.py:71: Sinkhorn did not converge. Consider increasing epsilon or number of iterations.\n",
      "/home/lars/code/python/context-aware-flow-matching/src/lightning-trainable/src/lightning_trainable/metrics/sinkhorn.py:71: Sinkhorn did not converge. Consider increasing epsilon or number of iterations.\n",
      "/home/lars/code/python/context-aware-flow-matching/src/lightning-trainable/src/lightning_trainable/metrics/sinkhorn.py:71: Sinkhorn did not converge. Consider increasing epsilon or number of iterations.\n",
      "/home/lars/code/python/context-aware-flow-matching/src/lightning-trainable/src/lightning_trainable/metrics/sinkhorn.py:71: Sinkhorn did not converge. Consider increasing epsilon or number of iterations.\n",
      "/home/lars/code/python/context-aware-flow-matching/src/lightning-trainable/src/lightning_trainable/metrics/sinkhorn.py:71: Sinkhorn did not converge. Consider increasing epsilon or number of iterations.\n",
      "/home/lars/code/python/context-aware-flow-matching/src/lightning-trainable/src/lightning_trainable/metrics/sinkhorn.py:71: Sinkhorn did not converge. Consider increasing epsilon or number of iterations.\n",
      "/home/lars/code/python/context-aware-flow-matching/src/lightning-trainable/src/lightning_trainable/metrics/sinkhorn.py:71: Sinkhorn did not converge. Consider increasing epsilon or number of iterations.\n",
      "/home/lars/code/python/context-aware-flow-matching/src/lightning-trainable/src/lightning_trainable/metrics/sinkhorn.py:71: Sinkhorn did not converge. Consider increasing epsilon or number of iterations.\n",
      "/home/lars/code/python/context-aware-flow-matching/src/lightning-trainable/src/lightning_trainable/metrics/sinkhorn.py:71: Sinkhorn did not converge. Consider increasing epsilon or number of iterations.\n",
      "/home/lars/code/python/context-aware-flow-matching/src/lightning-trainable/src/lightning_trainable/metrics/sinkhorn.py:71: Sinkhorn did not converge. Consider increasing epsilon or number of iterations.\n",
      "/home/lars/code/python/context-aware-flow-matching/src/lightning-trainable/src/lightning_trainable/metrics/sinkhorn.py:71: Sinkhorn did not converge. Consider increasing epsilon or number of iterations.\n"
     ]
    },
    {
     "data": {
      "text/plain": "Validation: |          | 0/? [00:00<?, ?it/s]",
      "application/vnd.jupyter.widget-view+json": {
       "version_major": 2,
       "version_minor": 0,
       "model_id": "30ea8b666b874cbfa2c4f2bb1334ce65"
      }
     },
     "metadata": {},
     "output_type": "display_data"
    },
    {
     "name": "stderr",
     "output_type": "stream",
     "text": [
      "/home/lars/code/python/context-aware-flow-matching/src/lightning-trainable/src/lightning_trainable/metrics/sinkhorn.py:71: Sinkhorn did not converge. Consider increasing epsilon or number of iterations.\n",
      "/home/lars/code/python/context-aware-flow-matching/src/lightning-trainable/src/lightning_trainable/metrics/sinkhorn.py:71: Sinkhorn did not converge. Consider increasing epsilon or number of iterations.\n",
      "/home/lars/code/python/context-aware-flow-matching/src/lightning-trainable/src/lightning_trainable/metrics/sinkhorn.py:71: Sinkhorn did not converge. Consider increasing epsilon or number of iterations.\n",
      "/home/lars/code/python/context-aware-flow-matching/src/lightning-trainable/src/lightning_trainable/metrics/sinkhorn.py:71: Sinkhorn did not converge. Consider increasing epsilon or number of iterations.\n",
      "/home/lars/code/python/context-aware-flow-matching/src/lightning-trainable/src/lightning_trainable/metrics/sinkhorn.py:71: Sinkhorn did not converge. Consider increasing epsilon or number of iterations.\n",
      "/home/lars/code/python/context-aware-flow-matching/src/lightning-trainable/src/lightning_trainable/metrics/sinkhorn.py:71: Sinkhorn did not converge. Consider increasing epsilon or number of iterations.\n",
      "/home/lars/code/python/context-aware-flow-matching/src/lightning-trainable/src/lightning_trainable/metrics/sinkhorn.py:71: Sinkhorn did not converge. Consider increasing epsilon or number of iterations.\n",
      "/home/lars/code/python/context-aware-flow-matching/src/lightning-trainable/src/lightning_trainable/metrics/sinkhorn.py:71: Sinkhorn did not converge. Consider increasing epsilon or number of iterations.\n",
      "/home/lars/code/python/context-aware-flow-matching/src/lightning-trainable/src/lightning_trainable/metrics/sinkhorn.py:71: Sinkhorn did not converge. Consider increasing epsilon or number of iterations.\n",
      "/home/lars/code/python/context-aware-flow-matching/src/lightning-trainable/src/lightning_trainable/metrics/sinkhorn.py:71: Sinkhorn did not converge. Consider increasing epsilon or number of iterations.\n",
      "/home/lars/code/python/context-aware-flow-matching/src/lightning-trainable/src/lightning_trainable/metrics/sinkhorn.py:71: Sinkhorn did not converge. Consider increasing epsilon or number of iterations.\n",
      "/home/lars/code/python/context-aware-flow-matching/src/lightning-trainable/src/lightning_trainable/metrics/sinkhorn.py:71: Sinkhorn did not converge. Consider increasing epsilon or number of iterations.\n",
      "/home/lars/code/python/context-aware-flow-matching/src/lightning-trainable/src/lightning_trainable/metrics/sinkhorn.py:71: Sinkhorn did not converge. Consider increasing epsilon or number of iterations.\n",
      "/home/lars/code/python/context-aware-flow-matching/src/lightning-trainable/src/lightning_trainable/metrics/sinkhorn.py:71: Sinkhorn did not converge. Consider increasing epsilon or number of iterations.\n",
      "/home/lars/code/python/context-aware-flow-matching/src/lightning-trainable/src/lightning_trainable/metrics/sinkhorn.py:71: Sinkhorn did not converge. Consider increasing epsilon or number of iterations.\n",
      "/home/lars/code/python/context-aware-flow-matching/src/lightning-trainable/src/lightning_trainable/metrics/sinkhorn.py:71: Sinkhorn did not converge. Consider increasing epsilon or number of iterations.\n",
      "/home/lars/code/python/context-aware-flow-matching/src/lightning-trainable/src/lightning_trainable/metrics/sinkhorn.py:71: Sinkhorn did not converge. Consider increasing epsilon or number of iterations.\n",
      "/home/lars/code/python/context-aware-flow-matching/src/lightning-trainable/src/lightning_trainable/metrics/sinkhorn.py:71: Sinkhorn did not converge. Consider increasing epsilon or number of iterations.\n"
     ]
    },
    {
     "data": {
      "text/plain": "Validation: |          | 0/? [00:00<?, ?it/s]",
      "application/vnd.jupyter.widget-view+json": {
       "version_major": 2,
       "version_minor": 0,
       "model_id": "8ebb303d2b3d4a2e81af0fd209df270a"
      }
     },
     "metadata": {},
     "output_type": "display_data"
    },
    {
     "name": "stderr",
     "output_type": "stream",
     "text": [
      "/home/lars/code/python/context-aware-flow-matching/src/lightning-trainable/src/lightning_trainable/metrics/sinkhorn.py:71: Sinkhorn did not converge. Consider increasing epsilon or number of iterations.\n",
      "/home/lars/code/python/context-aware-flow-matching/src/lightning-trainable/src/lightning_trainable/metrics/sinkhorn.py:71: Sinkhorn did not converge. Consider increasing epsilon or number of iterations.\n",
      "/home/lars/code/python/context-aware-flow-matching/src/lightning-trainable/src/lightning_trainable/metrics/sinkhorn.py:71: Sinkhorn did not converge. Consider increasing epsilon or number of iterations.\n",
      "/home/lars/code/python/context-aware-flow-matching/src/lightning-trainable/src/lightning_trainable/metrics/sinkhorn.py:71: Sinkhorn did not converge. Consider increasing epsilon or number of iterations.\n",
      "/home/lars/code/python/context-aware-flow-matching/src/lightning-trainable/src/lightning_trainable/metrics/sinkhorn.py:71: Sinkhorn did not converge. Consider increasing epsilon or number of iterations.\n",
      "/home/lars/code/python/context-aware-flow-matching/src/lightning-trainable/src/lightning_trainable/metrics/sinkhorn.py:71: Sinkhorn did not converge. Consider increasing epsilon or number of iterations.\n",
      "/home/lars/code/python/context-aware-flow-matching/src/lightning-trainable/src/lightning_trainable/metrics/sinkhorn.py:71: Sinkhorn did not converge. Consider increasing epsilon or number of iterations.\n",
      "/home/lars/code/python/context-aware-flow-matching/src/lightning-trainable/src/lightning_trainable/metrics/sinkhorn.py:71: Sinkhorn did not converge. Consider increasing epsilon or number of iterations.\n",
      "/home/lars/code/python/context-aware-flow-matching/src/lightning-trainable/src/lightning_trainable/metrics/sinkhorn.py:71: Sinkhorn did not converge. Consider increasing epsilon or number of iterations.\n",
      "/home/lars/code/python/context-aware-flow-matching/src/lightning-trainable/src/lightning_trainable/metrics/sinkhorn.py:71: Sinkhorn did not converge. Consider increasing epsilon or number of iterations.\n",
      "/home/lars/code/python/context-aware-flow-matching/src/lightning-trainable/src/lightning_trainable/metrics/sinkhorn.py:71: Sinkhorn did not converge. Consider increasing epsilon or number of iterations.\n",
      "/home/lars/code/python/context-aware-flow-matching/src/lightning-trainable/src/lightning_trainable/metrics/sinkhorn.py:71: Sinkhorn did not converge. Consider increasing epsilon or number of iterations.\n",
      "/home/lars/code/python/context-aware-flow-matching/src/lightning-trainable/src/lightning_trainable/metrics/sinkhorn.py:71: Sinkhorn did not converge. Consider increasing epsilon or number of iterations.\n",
      "/home/lars/code/python/context-aware-flow-matching/src/lightning-trainable/src/lightning_trainable/metrics/sinkhorn.py:71: Sinkhorn did not converge. Consider increasing epsilon or number of iterations.\n",
      "/home/lars/code/python/context-aware-flow-matching/src/lightning-trainable/src/lightning_trainable/metrics/sinkhorn.py:71: Sinkhorn did not converge. Consider increasing epsilon or number of iterations.\n",
      "/home/lars/code/python/context-aware-flow-matching/src/lightning-trainable/src/lightning_trainable/metrics/sinkhorn.py:71: Sinkhorn did not converge. Consider increasing epsilon or number of iterations.\n",
      "/home/lars/code/python/context-aware-flow-matching/src/lightning-trainable/src/lightning_trainable/metrics/sinkhorn.py:71: Sinkhorn did not converge. Consider increasing epsilon or number of iterations.\n",
      "/home/lars/code/python/context-aware-flow-matching/src/lightning-trainable/src/lightning_trainable/metrics/sinkhorn.py:71: Sinkhorn did not converge. Consider increasing epsilon or number of iterations.\n"
     ]
    },
    {
     "data": {
      "text/plain": "Validation: |          | 0/? [00:00<?, ?it/s]",
      "application/vnd.jupyter.widget-view+json": {
       "version_major": 2,
       "version_minor": 0,
       "model_id": "040796550e19468dbdb41d5523d65dbe"
      }
     },
     "metadata": {},
     "output_type": "display_data"
    },
    {
     "name": "stderr",
     "output_type": "stream",
     "text": [
      "/home/lars/code/python/context-aware-flow-matching/src/lightning-trainable/src/lightning_trainable/metrics/sinkhorn.py:71: Sinkhorn did not converge. Consider increasing epsilon or number of iterations.\n",
      "/home/lars/code/python/context-aware-flow-matching/src/lightning-trainable/src/lightning_trainable/metrics/sinkhorn.py:71: Sinkhorn did not converge. Consider increasing epsilon or number of iterations.\n",
      "/home/lars/code/python/context-aware-flow-matching/src/lightning-trainable/src/lightning_trainable/metrics/sinkhorn.py:71: Sinkhorn did not converge. Consider increasing epsilon or number of iterations.\n",
      "/home/lars/code/python/context-aware-flow-matching/src/lightning-trainable/src/lightning_trainable/metrics/sinkhorn.py:71: Sinkhorn did not converge. Consider increasing epsilon or number of iterations.\n",
      "/home/lars/code/python/context-aware-flow-matching/src/lightning-trainable/src/lightning_trainable/metrics/sinkhorn.py:71: Sinkhorn did not converge. Consider increasing epsilon or number of iterations.\n",
      "/home/lars/code/python/context-aware-flow-matching/src/lightning-trainable/src/lightning_trainable/metrics/sinkhorn.py:71: Sinkhorn did not converge. Consider increasing epsilon or number of iterations.\n",
      "/home/lars/code/python/context-aware-flow-matching/src/lightning-trainable/src/lightning_trainable/metrics/sinkhorn.py:71: Sinkhorn did not converge. Consider increasing epsilon or number of iterations.\n",
      "/home/lars/code/python/context-aware-flow-matching/src/lightning-trainable/src/lightning_trainable/metrics/sinkhorn.py:71: Sinkhorn did not converge. Consider increasing epsilon or number of iterations.\n",
      "/home/lars/code/python/context-aware-flow-matching/src/lightning-trainable/src/lightning_trainable/metrics/sinkhorn.py:71: Sinkhorn did not converge. Consider increasing epsilon or number of iterations.\n",
      "/home/lars/code/python/context-aware-flow-matching/src/lightning-trainable/src/lightning_trainable/metrics/sinkhorn.py:71: Sinkhorn did not converge. Consider increasing epsilon or number of iterations.\n",
      "/home/lars/code/python/context-aware-flow-matching/src/lightning-trainable/src/lightning_trainable/metrics/sinkhorn.py:71: Sinkhorn did not converge. Consider increasing epsilon or number of iterations.\n",
      "/home/lars/code/python/context-aware-flow-matching/src/lightning-trainable/src/lightning_trainable/metrics/sinkhorn.py:71: Sinkhorn did not converge. Consider increasing epsilon or number of iterations.\n",
      "/home/lars/code/python/context-aware-flow-matching/src/lightning-trainable/src/lightning_trainable/metrics/sinkhorn.py:71: Sinkhorn did not converge. Consider increasing epsilon or number of iterations.\n",
      "/home/lars/code/python/context-aware-flow-matching/src/lightning-trainable/src/lightning_trainable/metrics/sinkhorn.py:71: Sinkhorn did not converge. Consider increasing epsilon or number of iterations.\n",
      "/home/lars/code/python/context-aware-flow-matching/src/lightning-trainable/src/lightning_trainable/metrics/sinkhorn.py:71: Sinkhorn did not converge. Consider increasing epsilon or number of iterations.\n",
      "/home/lars/code/python/context-aware-flow-matching/src/lightning-trainable/src/lightning_trainable/metrics/sinkhorn.py:71: Sinkhorn did not converge. Consider increasing epsilon or number of iterations.\n",
      "/home/lars/code/python/context-aware-flow-matching/src/lightning-trainable/src/lightning_trainable/metrics/sinkhorn.py:71: Sinkhorn did not converge. Consider increasing epsilon or number of iterations.\n",
      "/home/lars/code/python/context-aware-flow-matching/src/lightning-trainable/src/lightning_trainable/metrics/sinkhorn.py:71: Sinkhorn did not converge. Consider increasing epsilon or number of iterations.\n"
     ]
    },
    {
     "data": {
      "text/plain": "Validation: |          | 0/? [00:00<?, ?it/s]",
      "application/vnd.jupyter.widget-view+json": {
       "version_major": 2,
       "version_minor": 0,
       "model_id": "3cf25a71c5af46049954830948113ddd"
      }
     },
     "metadata": {},
     "output_type": "display_data"
    },
    {
     "name": "stderr",
     "output_type": "stream",
     "text": [
      "/home/lars/code/python/context-aware-flow-matching/src/lightning-trainable/src/lightning_trainable/metrics/sinkhorn.py:71: Sinkhorn did not converge. Consider increasing epsilon or number of iterations.\n",
      "/home/lars/code/python/context-aware-flow-matching/src/lightning-trainable/src/lightning_trainable/metrics/sinkhorn.py:71: Sinkhorn did not converge. Consider increasing epsilon or number of iterations.\n",
      "/home/lars/code/python/context-aware-flow-matching/src/lightning-trainable/src/lightning_trainable/metrics/sinkhorn.py:71: Sinkhorn did not converge. Consider increasing epsilon or number of iterations.\n",
      "/home/lars/code/python/context-aware-flow-matching/src/lightning-trainable/src/lightning_trainable/metrics/sinkhorn.py:71: Sinkhorn did not converge. Consider increasing epsilon or number of iterations.\n",
      "/home/lars/code/python/context-aware-flow-matching/src/lightning-trainable/src/lightning_trainable/metrics/sinkhorn.py:71: Sinkhorn did not converge. Consider increasing epsilon or number of iterations.\n",
      "/home/lars/code/python/context-aware-flow-matching/src/lightning-trainable/src/lightning_trainable/metrics/sinkhorn.py:71: Sinkhorn did not converge. Consider increasing epsilon or number of iterations.\n",
      "/home/lars/code/python/context-aware-flow-matching/src/lightning-trainable/src/lightning_trainable/metrics/sinkhorn.py:71: Sinkhorn did not converge. Consider increasing epsilon or number of iterations.\n",
      "/home/lars/code/python/context-aware-flow-matching/src/lightning-trainable/src/lightning_trainable/metrics/sinkhorn.py:71: Sinkhorn did not converge. Consider increasing epsilon or number of iterations.\n",
      "/home/lars/code/python/context-aware-flow-matching/src/lightning-trainable/src/lightning_trainable/metrics/sinkhorn.py:71: Sinkhorn did not converge. Consider increasing epsilon or number of iterations.\n",
      "/home/lars/code/python/context-aware-flow-matching/src/lightning-trainable/src/lightning_trainable/metrics/sinkhorn.py:71: Sinkhorn did not converge. Consider increasing epsilon or number of iterations.\n",
      "/home/lars/code/python/context-aware-flow-matching/src/lightning-trainable/src/lightning_trainable/metrics/sinkhorn.py:71: Sinkhorn did not converge. Consider increasing epsilon or number of iterations.\n",
      "/home/lars/code/python/context-aware-flow-matching/src/lightning-trainable/src/lightning_trainable/metrics/sinkhorn.py:71: Sinkhorn did not converge. Consider increasing epsilon or number of iterations.\n",
      "/home/lars/code/python/context-aware-flow-matching/src/lightning-trainable/src/lightning_trainable/metrics/sinkhorn.py:71: Sinkhorn did not converge. Consider increasing epsilon or number of iterations.\n",
      "/home/lars/code/python/context-aware-flow-matching/src/lightning-trainable/src/lightning_trainable/metrics/sinkhorn.py:71: Sinkhorn did not converge. Consider increasing epsilon or number of iterations.\n",
      "/home/lars/code/python/context-aware-flow-matching/src/lightning-trainable/src/lightning_trainable/metrics/sinkhorn.py:71: Sinkhorn did not converge. Consider increasing epsilon or number of iterations.\n",
      "/home/lars/code/python/context-aware-flow-matching/src/lightning-trainable/src/lightning_trainable/metrics/sinkhorn.py:71: Sinkhorn did not converge. Consider increasing epsilon or number of iterations.\n",
      "/home/lars/code/python/context-aware-flow-matching/src/lightning-trainable/src/lightning_trainable/metrics/sinkhorn.py:71: Sinkhorn did not converge. Consider increasing epsilon or number of iterations.\n",
      "/home/lars/code/python/context-aware-flow-matching/src/lightning-trainable/src/lightning_trainable/metrics/sinkhorn.py:71: Sinkhorn did not converge. Consider increasing epsilon or number of iterations.\n"
     ]
    },
    {
     "data": {
      "text/plain": "Validation: |          | 0/? [00:00<?, ?it/s]",
      "application/vnd.jupyter.widget-view+json": {
       "version_major": 2,
       "version_minor": 0,
       "model_id": "779d4b025ae0485dbbb5209cf1f57633"
      }
     },
     "metadata": {},
     "output_type": "display_data"
    },
    {
     "name": "stderr",
     "output_type": "stream",
     "text": [
      "/home/lars/code/python/context-aware-flow-matching/src/lightning-trainable/src/lightning_trainable/metrics/sinkhorn.py:71: Sinkhorn did not converge. Consider increasing epsilon or number of iterations.\n",
      "/home/lars/code/python/context-aware-flow-matching/src/lightning-trainable/src/lightning_trainable/metrics/sinkhorn.py:71: Sinkhorn did not converge. Consider increasing epsilon or number of iterations.\n",
      "/home/lars/code/python/context-aware-flow-matching/src/lightning-trainable/src/lightning_trainable/metrics/sinkhorn.py:71: Sinkhorn did not converge. Consider increasing epsilon or number of iterations.\n",
      "/home/lars/code/python/context-aware-flow-matching/src/lightning-trainable/src/lightning_trainable/metrics/sinkhorn.py:71: Sinkhorn did not converge. Consider increasing epsilon or number of iterations.\n",
      "/home/lars/code/python/context-aware-flow-matching/src/lightning-trainable/src/lightning_trainable/metrics/sinkhorn.py:71: Sinkhorn did not converge. Consider increasing epsilon or number of iterations.\n",
      "/home/lars/code/python/context-aware-flow-matching/src/lightning-trainable/src/lightning_trainable/metrics/sinkhorn.py:71: Sinkhorn did not converge. Consider increasing epsilon or number of iterations.\n",
      "/home/lars/code/python/context-aware-flow-matching/src/lightning-trainable/src/lightning_trainable/metrics/sinkhorn.py:71: Sinkhorn did not converge. Consider increasing epsilon or number of iterations.\n",
      "/home/lars/code/python/context-aware-flow-matching/src/lightning-trainable/src/lightning_trainable/metrics/sinkhorn.py:71: Sinkhorn did not converge. Consider increasing epsilon or number of iterations.\n",
      "/home/lars/code/python/context-aware-flow-matching/src/lightning-trainable/src/lightning_trainable/metrics/sinkhorn.py:71: Sinkhorn did not converge. Consider increasing epsilon or number of iterations.\n",
      "/home/lars/code/python/context-aware-flow-matching/src/lightning-trainable/src/lightning_trainable/metrics/sinkhorn.py:71: Sinkhorn did not converge. Consider increasing epsilon or number of iterations.\n",
      "/home/lars/code/python/context-aware-flow-matching/src/lightning-trainable/src/lightning_trainable/metrics/sinkhorn.py:71: Sinkhorn did not converge. Consider increasing epsilon or number of iterations.\n",
      "/home/lars/code/python/context-aware-flow-matching/src/lightning-trainable/src/lightning_trainable/metrics/sinkhorn.py:71: Sinkhorn did not converge. Consider increasing epsilon or number of iterations.\n",
      "/home/lars/code/python/context-aware-flow-matching/src/lightning-trainable/src/lightning_trainable/metrics/sinkhorn.py:71: Sinkhorn did not converge. Consider increasing epsilon or number of iterations.\n",
      "/home/lars/code/python/context-aware-flow-matching/src/lightning-trainable/src/lightning_trainable/metrics/sinkhorn.py:71: Sinkhorn did not converge. Consider increasing epsilon or number of iterations.\n",
      "/home/lars/code/python/context-aware-flow-matching/src/lightning-trainable/src/lightning_trainable/metrics/sinkhorn.py:71: Sinkhorn did not converge. Consider increasing epsilon or number of iterations.\n",
      "/home/lars/code/python/context-aware-flow-matching/src/lightning-trainable/src/lightning_trainable/metrics/sinkhorn.py:71: Sinkhorn did not converge. Consider increasing epsilon or number of iterations.\n",
      "/home/lars/code/python/context-aware-flow-matching/src/lightning-trainable/src/lightning_trainable/metrics/sinkhorn.py:71: Sinkhorn did not converge. Consider increasing epsilon or number of iterations.\n",
      "/home/lars/code/python/context-aware-flow-matching/src/lightning-trainable/src/lightning_trainable/metrics/sinkhorn.py:71: Sinkhorn did not converge. Consider increasing epsilon or number of iterations.\n"
     ]
    },
    {
     "data": {
      "text/plain": "Validation: |          | 0/? [00:00<?, ?it/s]",
      "application/vnd.jupyter.widget-view+json": {
       "version_major": 2,
       "version_minor": 0,
       "model_id": "fa70ffc8775241098b80d49f1a4163a9"
      }
     },
     "metadata": {},
     "output_type": "display_data"
    },
    {
     "name": "stderr",
     "output_type": "stream",
     "text": [
      "/home/lars/code/python/context-aware-flow-matching/src/lightning-trainable/src/lightning_trainable/metrics/sinkhorn.py:71: Sinkhorn did not converge. Consider increasing epsilon or number of iterations.\n",
      "/home/lars/code/python/context-aware-flow-matching/src/lightning-trainable/src/lightning_trainable/metrics/sinkhorn.py:71: Sinkhorn did not converge. Consider increasing epsilon or number of iterations.\n",
      "/home/lars/code/python/context-aware-flow-matching/src/lightning-trainable/src/lightning_trainable/metrics/sinkhorn.py:71: Sinkhorn did not converge. Consider increasing epsilon or number of iterations.\n",
      "/home/lars/code/python/context-aware-flow-matching/src/lightning-trainable/src/lightning_trainable/metrics/sinkhorn.py:71: Sinkhorn did not converge. Consider increasing epsilon or number of iterations.\n",
      "/home/lars/code/python/context-aware-flow-matching/src/lightning-trainable/src/lightning_trainable/metrics/sinkhorn.py:71: Sinkhorn did not converge. Consider increasing epsilon or number of iterations.\n",
      "/home/lars/code/python/context-aware-flow-matching/src/lightning-trainable/src/lightning_trainable/metrics/sinkhorn.py:71: Sinkhorn did not converge. Consider increasing epsilon or number of iterations.\n",
      "/home/lars/code/python/context-aware-flow-matching/src/lightning-trainable/src/lightning_trainable/metrics/sinkhorn.py:71: Sinkhorn did not converge. Consider increasing epsilon or number of iterations.\n",
      "/home/lars/code/python/context-aware-flow-matching/src/lightning-trainable/src/lightning_trainable/metrics/sinkhorn.py:71: Sinkhorn did not converge. Consider increasing epsilon or number of iterations.\n",
      "/home/lars/code/python/context-aware-flow-matching/src/lightning-trainable/src/lightning_trainable/metrics/sinkhorn.py:71: Sinkhorn did not converge. Consider increasing epsilon or number of iterations.\n",
      "/home/lars/code/python/context-aware-flow-matching/src/lightning-trainable/src/lightning_trainable/metrics/sinkhorn.py:71: Sinkhorn did not converge. Consider increasing epsilon or number of iterations.\n",
      "/home/lars/code/python/context-aware-flow-matching/src/lightning-trainable/src/lightning_trainable/metrics/sinkhorn.py:71: Sinkhorn did not converge. Consider increasing epsilon or number of iterations.\n",
      "/home/lars/code/python/context-aware-flow-matching/src/lightning-trainable/src/lightning_trainable/metrics/sinkhorn.py:71: Sinkhorn did not converge. Consider increasing epsilon or number of iterations.\n",
      "/home/lars/code/python/context-aware-flow-matching/src/lightning-trainable/src/lightning_trainable/metrics/sinkhorn.py:71: Sinkhorn did not converge. Consider increasing epsilon or number of iterations.\n",
      "/home/lars/code/python/context-aware-flow-matching/src/lightning-trainable/src/lightning_trainable/metrics/sinkhorn.py:71: Sinkhorn did not converge. Consider increasing epsilon or number of iterations.\n",
      "/home/lars/code/python/context-aware-flow-matching/src/lightning-trainable/src/lightning_trainable/metrics/sinkhorn.py:71: Sinkhorn did not converge. Consider increasing epsilon or number of iterations.\n",
      "/home/lars/code/python/context-aware-flow-matching/src/lightning-trainable/src/lightning_trainable/metrics/sinkhorn.py:71: Sinkhorn did not converge. Consider increasing epsilon or number of iterations.\n",
      "/home/lars/code/python/context-aware-flow-matching/src/lightning-trainable/src/lightning_trainable/metrics/sinkhorn.py:71: Sinkhorn did not converge. Consider increasing epsilon or number of iterations.\n",
      "/home/lars/code/python/context-aware-flow-matching/src/lightning-trainable/src/lightning_trainable/metrics/sinkhorn.py:71: Sinkhorn did not converge. Consider increasing epsilon or number of iterations.\n"
     ]
    },
    {
     "data": {
      "text/plain": "Validation: |          | 0/? [00:00<?, ?it/s]",
      "application/vnd.jupyter.widget-view+json": {
       "version_major": 2,
       "version_minor": 0,
       "model_id": "6bc8be2226f743d8b0371e704e2fcfbe"
      }
     },
     "metadata": {},
     "output_type": "display_data"
    },
    {
     "name": "stderr",
     "output_type": "stream",
     "text": [
      "/home/lars/code/python/context-aware-flow-matching/src/lightning-trainable/src/lightning_trainable/metrics/sinkhorn.py:71: Sinkhorn did not converge. Consider increasing epsilon or number of iterations.\n",
      "/home/lars/code/python/context-aware-flow-matching/src/lightning-trainable/src/lightning_trainable/metrics/sinkhorn.py:71: Sinkhorn did not converge. Consider increasing epsilon or number of iterations.\n",
      "/home/lars/code/python/context-aware-flow-matching/src/lightning-trainable/src/lightning_trainable/metrics/sinkhorn.py:71: Sinkhorn did not converge. Consider increasing epsilon or number of iterations.\n",
      "/home/lars/code/python/context-aware-flow-matching/src/lightning-trainable/src/lightning_trainable/metrics/sinkhorn.py:71: Sinkhorn did not converge. Consider increasing epsilon or number of iterations.\n",
      "/home/lars/code/python/context-aware-flow-matching/src/lightning-trainable/src/lightning_trainable/metrics/sinkhorn.py:71: Sinkhorn did not converge. Consider increasing epsilon or number of iterations.\n",
      "/home/lars/code/python/context-aware-flow-matching/src/lightning-trainable/src/lightning_trainable/metrics/sinkhorn.py:71: Sinkhorn did not converge. Consider increasing epsilon or number of iterations.\n",
      "/home/lars/code/python/context-aware-flow-matching/src/lightning-trainable/src/lightning_trainable/metrics/sinkhorn.py:71: Sinkhorn did not converge. Consider increasing epsilon or number of iterations.\n",
      "/home/lars/code/python/context-aware-flow-matching/src/lightning-trainable/src/lightning_trainable/metrics/sinkhorn.py:71: Sinkhorn did not converge. Consider increasing epsilon or number of iterations.\n",
      "/home/lars/code/python/context-aware-flow-matching/src/lightning-trainable/src/lightning_trainable/metrics/sinkhorn.py:71: Sinkhorn did not converge. Consider increasing epsilon or number of iterations.\n",
      "/home/lars/code/python/context-aware-flow-matching/src/lightning-trainable/src/lightning_trainable/metrics/sinkhorn.py:71: Sinkhorn did not converge. Consider increasing epsilon or number of iterations.\n",
      "/home/lars/code/python/context-aware-flow-matching/src/lightning-trainable/src/lightning_trainable/metrics/sinkhorn.py:71: Sinkhorn did not converge. Consider increasing epsilon or number of iterations.\n",
      "/home/lars/code/python/context-aware-flow-matching/src/lightning-trainable/src/lightning_trainable/metrics/sinkhorn.py:71: Sinkhorn did not converge. Consider increasing epsilon or number of iterations.\n",
      "/home/lars/code/python/context-aware-flow-matching/src/lightning-trainable/src/lightning_trainable/metrics/sinkhorn.py:71: Sinkhorn did not converge. Consider increasing epsilon or number of iterations.\n",
      "/home/lars/code/python/context-aware-flow-matching/src/lightning-trainable/src/lightning_trainable/metrics/sinkhorn.py:71: Sinkhorn did not converge. Consider increasing epsilon or number of iterations.\n",
      "/home/lars/code/python/context-aware-flow-matching/src/lightning-trainable/src/lightning_trainable/metrics/sinkhorn.py:71: Sinkhorn did not converge. Consider increasing epsilon or number of iterations.\n",
      "/home/lars/code/python/context-aware-flow-matching/src/lightning-trainable/src/lightning_trainable/metrics/sinkhorn.py:71: Sinkhorn did not converge. Consider increasing epsilon or number of iterations.\n",
      "/home/lars/code/python/context-aware-flow-matching/src/lightning-trainable/src/lightning_trainable/metrics/sinkhorn.py:71: Sinkhorn did not converge. Consider increasing epsilon or number of iterations.\n",
      "/home/lars/code/python/context-aware-flow-matching/src/lightning-trainable/src/lightning_trainable/metrics/sinkhorn.py:71: Sinkhorn did not converge. Consider increasing epsilon or number of iterations.\n"
     ]
    },
    {
     "data": {
      "text/plain": "Validation: |          | 0/? [00:00<?, ?it/s]",
      "application/vnd.jupyter.widget-view+json": {
       "version_major": 2,
       "version_minor": 0,
       "model_id": "ed3cb6ae5f734827a10c406d1a65cfb3"
      }
     },
     "metadata": {},
     "output_type": "display_data"
    },
    {
     "name": "stderr",
     "output_type": "stream",
     "text": [
      "/home/lars/code/python/context-aware-flow-matching/src/lightning-trainable/src/lightning_trainable/metrics/sinkhorn.py:71: Sinkhorn did not converge. Consider increasing epsilon or number of iterations.\n",
      "/home/lars/code/python/context-aware-flow-matching/src/lightning-trainable/src/lightning_trainable/metrics/sinkhorn.py:71: Sinkhorn did not converge. Consider increasing epsilon or number of iterations.\n",
      "/home/lars/code/python/context-aware-flow-matching/src/lightning-trainable/src/lightning_trainable/metrics/sinkhorn.py:71: Sinkhorn did not converge. Consider increasing epsilon or number of iterations.\n",
      "/home/lars/code/python/context-aware-flow-matching/src/lightning-trainable/src/lightning_trainable/metrics/sinkhorn.py:71: Sinkhorn did not converge. Consider increasing epsilon or number of iterations.\n",
      "/home/lars/code/python/context-aware-flow-matching/src/lightning-trainable/src/lightning_trainable/metrics/sinkhorn.py:71: Sinkhorn did not converge. Consider increasing epsilon or number of iterations.\n",
      "/home/lars/code/python/context-aware-flow-matching/src/lightning-trainable/src/lightning_trainable/metrics/sinkhorn.py:71: Sinkhorn did not converge. Consider increasing epsilon or number of iterations.\n",
      "/home/lars/code/python/context-aware-flow-matching/src/lightning-trainable/src/lightning_trainable/metrics/sinkhorn.py:71: Sinkhorn did not converge. Consider increasing epsilon or number of iterations.\n",
      "/home/lars/code/python/context-aware-flow-matching/src/lightning-trainable/src/lightning_trainable/metrics/sinkhorn.py:71: Sinkhorn did not converge. Consider increasing epsilon or number of iterations.\n",
      "/home/lars/code/python/context-aware-flow-matching/src/lightning-trainable/src/lightning_trainable/metrics/sinkhorn.py:71: Sinkhorn did not converge. Consider increasing epsilon or number of iterations.\n",
      "/home/lars/code/python/context-aware-flow-matching/src/lightning-trainable/src/lightning_trainable/metrics/sinkhorn.py:71: Sinkhorn did not converge. Consider increasing epsilon or number of iterations.\n",
      "/home/lars/code/python/context-aware-flow-matching/src/lightning-trainable/src/lightning_trainable/metrics/sinkhorn.py:71: Sinkhorn did not converge. Consider increasing epsilon or number of iterations.\n",
      "/home/lars/code/python/context-aware-flow-matching/src/lightning-trainable/src/lightning_trainable/metrics/sinkhorn.py:71: Sinkhorn did not converge. Consider increasing epsilon or number of iterations.\n",
      "/home/lars/code/python/context-aware-flow-matching/src/lightning-trainable/src/lightning_trainable/metrics/sinkhorn.py:71: Sinkhorn did not converge. Consider increasing epsilon or number of iterations.\n",
      "/home/lars/code/python/context-aware-flow-matching/src/lightning-trainable/src/lightning_trainable/metrics/sinkhorn.py:71: Sinkhorn did not converge. Consider increasing epsilon or number of iterations.\n",
      "/home/lars/code/python/context-aware-flow-matching/src/lightning-trainable/src/lightning_trainable/metrics/sinkhorn.py:71: Sinkhorn did not converge. Consider increasing epsilon or number of iterations.\n",
      "/home/lars/code/python/context-aware-flow-matching/src/lightning-trainable/src/lightning_trainable/metrics/sinkhorn.py:71: Sinkhorn did not converge. Consider increasing epsilon or number of iterations.\n",
      "/home/lars/code/python/context-aware-flow-matching/src/lightning-trainable/src/lightning_trainable/metrics/sinkhorn.py:71: Sinkhorn did not converge. Consider increasing epsilon or number of iterations.\n",
      "/home/lars/code/python/context-aware-flow-matching/src/lightning-trainable/src/lightning_trainable/metrics/sinkhorn.py:71: Sinkhorn did not converge. Consider increasing epsilon or number of iterations.\n"
     ]
    },
    {
     "data": {
      "text/plain": "Validation: |          | 0/? [00:00<?, ?it/s]",
      "application/vnd.jupyter.widget-view+json": {
       "version_major": 2,
       "version_minor": 0,
       "model_id": "ccc730f29c5047b28084c885c3a556d8"
      }
     },
     "metadata": {},
     "output_type": "display_data"
    },
    {
     "name": "stderr",
     "output_type": "stream",
     "text": [
      "/home/lars/code/python/context-aware-flow-matching/src/lightning-trainable/src/lightning_trainable/metrics/sinkhorn.py:71: Sinkhorn did not converge. Consider increasing epsilon or number of iterations.\n",
      "/home/lars/code/python/context-aware-flow-matching/src/lightning-trainable/src/lightning_trainable/metrics/sinkhorn.py:71: Sinkhorn did not converge. Consider increasing epsilon or number of iterations.\n",
      "/home/lars/code/python/context-aware-flow-matching/src/lightning-trainable/src/lightning_trainable/metrics/sinkhorn.py:71: Sinkhorn did not converge. Consider increasing epsilon or number of iterations.\n",
      "/home/lars/code/python/context-aware-flow-matching/src/lightning-trainable/src/lightning_trainable/metrics/sinkhorn.py:71: Sinkhorn did not converge. Consider increasing epsilon or number of iterations.\n",
      "/home/lars/code/python/context-aware-flow-matching/src/lightning-trainable/src/lightning_trainable/metrics/sinkhorn.py:71: Sinkhorn did not converge. Consider increasing epsilon or number of iterations.\n",
      "/home/lars/code/python/context-aware-flow-matching/src/lightning-trainable/src/lightning_trainable/metrics/sinkhorn.py:71: Sinkhorn did not converge. Consider increasing epsilon or number of iterations.\n",
      "/home/lars/code/python/context-aware-flow-matching/src/lightning-trainable/src/lightning_trainable/metrics/sinkhorn.py:71: Sinkhorn did not converge. Consider increasing epsilon or number of iterations.\n",
      "/home/lars/code/python/context-aware-flow-matching/src/lightning-trainable/src/lightning_trainable/metrics/sinkhorn.py:71: Sinkhorn did not converge. Consider increasing epsilon or number of iterations.\n",
      "/home/lars/code/python/context-aware-flow-matching/src/lightning-trainable/src/lightning_trainable/metrics/sinkhorn.py:71: Sinkhorn did not converge. Consider increasing epsilon or number of iterations.\n",
      "/home/lars/code/python/context-aware-flow-matching/src/lightning-trainable/src/lightning_trainable/metrics/sinkhorn.py:71: Sinkhorn did not converge. Consider increasing epsilon or number of iterations.\n",
      "/home/lars/code/python/context-aware-flow-matching/src/lightning-trainable/src/lightning_trainable/metrics/sinkhorn.py:71: Sinkhorn did not converge. Consider increasing epsilon or number of iterations.\n",
      "/home/lars/code/python/context-aware-flow-matching/src/lightning-trainable/src/lightning_trainable/metrics/sinkhorn.py:71: Sinkhorn did not converge. Consider increasing epsilon or number of iterations.\n",
      "/home/lars/code/python/context-aware-flow-matching/src/lightning-trainable/src/lightning_trainable/metrics/sinkhorn.py:71: Sinkhorn did not converge. Consider increasing epsilon or number of iterations.\n",
      "/home/lars/code/python/context-aware-flow-matching/src/lightning-trainable/src/lightning_trainable/metrics/sinkhorn.py:71: Sinkhorn did not converge. Consider increasing epsilon or number of iterations.\n",
      "/home/lars/code/python/context-aware-flow-matching/src/lightning-trainable/src/lightning_trainable/metrics/sinkhorn.py:71: Sinkhorn did not converge. Consider increasing epsilon or number of iterations.\n",
      "/home/lars/code/python/context-aware-flow-matching/src/lightning-trainable/src/lightning_trainable/metrics/sinkhorn.py:71: Sinkhorn did not converge. Consider increasing epsilon or number of iterations.\n",
      "/home/lars/code/python/context-aware-flow-matching/src/lightning-trainable/src/lightning_trainable/metrics/sinkhorn.py:71: Sinkhorn did not converge. Consider increasing epsilon or number of iterations.\n",
      "/home/lars/code/python/context-aware-flow-matching/src/lightning-trainable/src/lightning_trainable/metrics/sinkhorn.py:71: Sinkhorn did not converge. Consider increasing epsilon or number of iterations.\n"
     ]
    },
    {
     "data": {
      "text/plain": "Validation: |          | 0/? [00:00<?, ?it/s]",
      "application/vnd.jupyter.widget-view+json": {
       "version_major": 2,
       "version_minor": 0,
       "model_id": "01b0ef316b5a4ed99869343bf951fbb4"
      }
     },
     "metadata": {},
     "output_type": "display_data"
    },
    {
     "name": "stderr",
     "output_type": "stream",
     "text": [
      "/home/lars/code/python/context-aware-flow-matching/src/lightning-trainable/src/lightning_trainable/metrics/sinkhorn.py:71: Sinkhorn did not converge. Consider increasing epsilon or number of iterations.\n",
      "/home/lars/code/python/context-aware-flow-matching/src/lightning-trainable/src/lightning_trainable/metrics/sinkhorn.py:71: Sinkhorn did not converge. Consider increasing epsilon or number of iterations.\n",
      "/home/lars/code/python/context-aware-flow-matching/src/lightning-trainable/src/lightning_trainable/metrics/sinkhorn.py:71: Sinkhorn did not converge. Consider increasing epsilon or number of iterations.\n",
      "/home/lars/code/python/context-aware-flow-matching/src/lightning-trainable/src/lightning_trainable/metrics/sinkhorn.py:71: Sinkhorn did not converge. Consider increasing epsilon or number of iterations.\n",
      "/home/lars/code/python/context-aware-flow-matching/src/lightning-trainable/src/lightning_trainable/metrics/sinkhorn.py:71: Sinkhorn did not converge. Consider increasing epsilon or number of iterations.\n",
      "/home/lars/code/python/context-aware-flow-matching/src/lightning-trainable/src/lightning_trainable/metrics/sinkhorn.py:71: Sinkhorn did not converge. Consider increasing epsilon or number of iterations.\n",
      "/home/lars/code/python/context-aware-flow-matching/src/lightning-trainable/src/lightning_trainable/metrics/sinkhorn.py:71: Sinkhorn did not converge. Consider increasing epsilon or number of iterations.\n",
      "/home/lars/code/python/context-aware-flow-matching/src/lightning-trainable/src/lightning_trainable/metrics/sinkhorn.py:71: Sinkhorn did not converge. Consider increasing epsilon or number of iterations.\n",
      "/home/lars/code/python/context-aware-flow-matching/src/lightning-trainable/src/lightning_trainable/metrics/sinkhorn.py:71: Sinkhorn did not converge. Consider increasing epsilon or number of iterations.\n",
      "/home/lars/code/python/context-aware-flow-matching/src/lightning-trainable/src/lightning_trainable/metrics/sinkhorn.py:71: Sinkhorn did not converge. Consider increasing epsilon or number of iterations.\n",
      "/home/lars/code/python/context-aware-flow-matching/src/lightning-trainable/src/lightning_trainable/metrics/sinkhorn.py:71: Sinkhorn did not converge. Consider increasing epsilon or number of iterations.\n",
      "/home/lars/code/python/context-aware-flow-matching/src/lightning-trainable/src/lightning_trainable/metrics/sinkhorn.py:71: Sinkhorn did not converge. Consider increasing epsilon or number of iterations.\n",
      "/home/lars/code/python/context-aware-flow-matching/src/lightning-trainable/src/lightning_trainable/metrics/sinkhorn.py:71: Sinkhorn did not converge. Consider increasing epsilon or number of iterations.\n",
      "/home/lars/code/python/context-aware-flow-matching/src/lightning-trainable/src/lightning_trainable/metrics/sinkhorn.py:71: Sinkhorn did not converge. Consider increasing epsilon or number of iterations.\n",
      "/home/lars/code/python/context-aware-flow-matching/src/lightning-trainable/src/lightning_trainable/metrics/sinkhorn.py:71: Sinkhorn did not converge. Consider increasing epsilon or number of iterations.\n",
      "/home/lars/code/python/context-aware-flow-matching/src/lightning-trainable/src/lightning_trainable/metrics/sinkhorn.py:71: Sinkhorn did not converge. Consider increasing epsilon or number of iterations.\n",
      "/home/lars/code/python/context-aware-flow-matching/src/lightning-trainable/src/lightning_trainable/metrics/sinkhorn.py:71: Sinkhorn did not converge. Consider increasing epsilon or number of iterations.\n",
      "/home/lars/code/python/context-aware-flow-matching/src/lightning-trainable/src/lightning_trainable/metrics/sinkhorn.py:71: Sinkhorn did not converge. Consider increasing epsilon or number of iterations.\n"
     ]
    },
    {
     "data": {
      "text/plain": "Validation: |          | 0/? [00:00<?, ?it/s]",
      "application/vnd.jupyter.widget-view+json": {
       "version_major": 2,
       "version_minor": 0,
       "model_id": "410c01e8b92a403d97e87b12716477bd"
      }
     },
     "metadata": {},
     "output_type": "display_data"
    },
    {
     "name": "stderr",
     "output_type": "stream",
     "text": [
      "/home/lars/code/python/context-aware-flow-matching/src/lightning-trainable/src/lightning_trainable/metrics/sinkhorn.py:71: Sinkhorn did not converge. Consider increasing epsilon or number of iterations.\n",
      "/home/lars/code/python/context-aware-flow-matching/src/lightning-trainable/src/lightning_trainable/metrics/sinkhorn.py:71: Sinkhorn did not converge. Consider increasing epsilon or number of iterations.\n",
      "/home/lars/code/python/context-aware-flow-matching/src/lightning-trainable/src/lightning_trainable/metrics/sinkhorn.py:71: Sinkhorn did not converge. Consider increasing epsilon or number of iterations.\n",
      "/home/lars/code/python/context-aware-flow-matching/src/lightning-trainable/src/lightning_trainable/metrics/sinkhorn.py:71: Sinkhorn did not converge. Consider increasing epsilon or number of iterations.\n",
      "/home/lars/code/python/context-aware-flow-matching/src/lightning-trainable/src/lightning_trainable/metrics/sinkhorn.py:71: Sinkhorn did not converge. Consider increasing epsilon or number of iterations.\n",
      "/home/lars/code/python/context-aware-flow-matching/src/lightning-trainable/src/lightning_trainable/metrics/sinkhorn.py:71: Sinkhorn did not converge. Consider increasing epsilon or number of iterations.\n",
      "/home/lars/code/python/context-aware-flow-matching/src/lightning-trainable/src/lightning_trainable/metrics/sinkhorn.py:71: Sinkhorn did not converge. Consider increasing epsilon or number of iterations.\n",
      "/home/lars/code/python/context-aware-flow-matching/src/lightning-trainable/src/lightning_trainable/metrics/sinkhorn.py:71: Sinkhorn did not converge. Consider increasing epsilon or number of iterations.\n",
      "/home/lars/code/python/context-aware-flow-matching/src/lightning-trainable/src/lightning_trainable/metrics/sinkhorn.py:71: Sinkhorn did not converge. Consider increasing epsilon or number of iterations.\n",
      "/home/lars/code/python/context-aware-flow-matching/src/lightning-trainable/src/lightning_trainable/metrics/sinkhorn.py:71: Sinkhorn did not converge. Consider increasing epsilon or number of iterations.\n",
      "/home/lars/code/python/context-aware-flow-matching/src/lightning-trainable/src/lightning_trainable/metrics/sinkhorn.py:71: Sinkhorn did not converge. Consider increasing epsilon or number of iterations.\n",
      "/home/lars/code/python/context-aware-flow-matching/src/lightning-trainable/src/lightning_trainable/metrics/sinkhorn.py:71: Sinkhorn did not converge. Consider increasing epsilon or number of iterations.\n",
      "/home/lars/code/python/context-aware-flow-matching/src/lightning-trainable/src/lightning_trainable/metrics/sinkhorn.py:71: Sinkhorn did not converge. Consider increasing epsilon or number of iterations.\n",
      "/home/lars/code/python/context-aware-flow-matching/src/lightning-trainable/src/lightning_trainable/metrics/sinkhorn.py:71: Sinkhorn did not converge. Consider increasing epsilon or number of iterations.\n",
      "/home/lars/code/python/context-aware-flow-matching/src/lightning-trainable/src/lightning_trainable/metrics/sinkhorn.py:71: Sinkhorn did not converge. Consider increasing epsilon or number of iterations.\n",
      "/home/lars/code/python/context-aware-flow-matching/src/lightning-trainable/src/lightning_trainable/metrics/sinkhorn.py:71: Sinkhorn did not converge. Consider increasing epsilon or number of iterations.\n",
      "/home/lars/code/python/context-aware-flow-matching/src/lightning-trainable/src/lightning_trainable/metrics/sinkhorn.py:71: Sinkhorn did not converge. Consider increasing epsilon or number of iterations.\n",
      "/home/lars/code/python/context-aware-flow-matching/src/lightning-trainable/src/lightning_trainable/metrics/sinkhorn.py:71: Sinkhorn did not converge. Consider increasing epsilon or number of iterations.\n"
     ]
    },
    {
     "data": {
      "text/plain": "Validation: |          | 0/? [00:00<?, ?it/s]",
      "application/vnd.jupyter.widget-view+json": {
       "version_major": 2,
       "version_minor": 0,
       "model_id": "5e809b903ef040bea09de93ef7771a8c"
      }
     },
     "metadata": {},
     "output_type": "display_data"
    },
    {
     "name": "stderr",
     "output_type": "stream",
     "text": [
      "/home/lars/code/python/context-aware-flow-matching/src/lightning-trainable/src/lightning_trainable/metrics/sinkhorn.py:71: Sinkhorn did not converge. Consider increasing epsilon or number of iterations.\n",
      "/home/lars/code/python/context-aware-flow-matching/src/lightning-trainable/src/lightning_trainable/metrics/sinkhorn.py:71: Sinkhorn did not converge. Consider increasing epsilon or number of iterations.\n",
      "/home/lars/code/python/context-aware-flow-matching/src/lightning-trainable/src/lightning_trainable/metrics/sinkhorn.py:71: Sinkhorn did not converge. Consider increasing epsilon or number of iterations.\n",
      "/home/lars/code/python/context-aware-flow-matching/src/lightning-trainable/src/lightning_trainable/metrics/sinkhorn.py:71: Sinkhorn did not converge. Consider increasing epsilon or number of iterations.\n",
      "/home/lars/code/python/context-aware-flow-matching/src/lightning-trainable/src/lightning_trainable/metrics/sinkhorn.py:71: Sinkhorn did not converge. Consider increasing epsilon or number of iterations.\n",
      "/home/lars/code/python/context-aware-flow-matching/src/lightning-trainable/src/lightning_trainable/metrics/sinkhorn.py:71: Sinkhorn did not converge. Consider increasing epsilon or number of iterations.\n",
      "/home/lars/code/python/context-aware-flow-matching/src/lightning-trainable/src/lightning_trainable/metrics/sinkhorn.py:71: Sinkhorn did not converge. Consider increasing epsilon or number of iterations.\n",
      "/home/lars/code/python/context-aware-flow-matching/src/lightning-trainable/src/lightning_trainable/metrics/sinkhorn.py:71: Sinkhorn did not converge. Consider increasing epsilon or number of iterations.\n",
      "/home/lars/code/python/context-aware-flow-matching/src/lightning-trainable/src/lightning_trainable/metrics/sinkhorn.py:71: Sinkhorn did not converge. Consider increasing epsilon or number of iterations.\n",
      "/home/lars/code/python/context-aware-flow-matching/src/lightning-trainable/src/lightning_trainable/metrics/sinkhorn.py:71: Sinkhorn did not converge. Consider increasing epsilon or number of iterations.\n",
      "/home/lars/code/python/context-aware-flow-matching/src/lightning-trainable/src/lightning_trainable/metrics/sinkhorn.py:71: Sinkhorn did not converge. Consider increasing epsilon or number of iterations.\n",
      "/home/lars/code/python/context-aware-flow-matching/src/lightning-trainable/src/lightning_trainable/metrics/sinkhorn.py:71: Sinkhorn did not converge. Consider increasing epsilon or number of iterations.\n",
      "/home/lars/code/python/context-aware-flow-matching/src/lightning-trainable/src/lightning_trainable/metrics/sinkhorn.py:71: Sinkhorn did not converge. Consider increasing epsilon or number of iterations.\n",
      "/home/lars/code/python/context-aware-flow-matching/src/lightning-trainable/src/lightning_trainable/metrics/sinkhorn.py:71: Sinkhorn did not converge. Consider increasing epsilon or number of iterations.\n",
      "/home/lars/code/python/context-aware-flow-matching/src/lightning-trainable/src/lightning_trainable/metrics/sinkhorn.py:71: Sinkhorn did not converge. Consider increasing epsilon or number of iterations.\n",
      "/home/lars/code/python/context-aware-flow-matching/src/lightning-trainable/src/lightning_trainable/metrics/sinkhorn.py:71: Sinkhorn did not converge. Consider increasing epsilon or number of iterations.\n",
      "/home/lars/code/python/context-aware-flow-matching/src/lightning-trainable/src/lightning_trainable/metrics/sinkhorn.py:71: Sinkhorn did not converge. Consider increasing epsilon or number of iterations.\n",
      "/home/lars/code/python/context-aware-flow-matching/src/lightning-trainable/src/lightning_trainable/metrics/sinkhorn.py:71: Sinkhorn did not converge. Consider increasing epsilon or number of iterations.\n"
     ]
    },
    {
     "data": {
      "text/plain": "Validation: |          | 0/? [00:00<?, ?it/s]",
      "application/vnd.jupyter.widget-view+json": {
       "version_major": 2,
       "version_minor": 0,
       "model_id": "99f0b059e79b41a9a61855589f57f1d3"
      }
     },
     "metadata": {},
     "output_type": "display_data"
    },
    {
     "name": "stderr",
     "output_type": "stream",
     "text": [
      "/home/lars/code/python/context-aware-flow-matching/src/lightning-trainable/src/lightning_trainable/metrics/sinkhorn.py:71: Sinkhorn did not converge. Consider increasing epsilon or number of iterations.\n",
      "/home/lars/code/python/context-aware-flow-matching/src/lightning-trainable/src/lightning_trainable/metrics/sinkhorn.py:71: Sinkhorn did not converge. Consider increasing epsilon or number of iterations.\n",
      "/home/lars/code/python/context-aware-flow-matching/src/lightning-trainable/src/lightning_trainable/metrics/sinkhorn.py:71: Sinkhorn did not converge. Consider increasing epsilon or number of iterations.\n",
      "/home/lars/code/python/context-aware-flow-matching/src/lightning-trainable/src/lightning_trainable/metrics/sinkhorn.py:71: Sinkhorn did not converge. Consider increasing epsilon or number of iterations.\n",
      "/home/lars/code/python/context-aware-flow-matching/src/lightning-trainable/src/lightning_trainable/metrics/sinkhorn.py:71: Sinkhorn did not converge. Consider increasing epsilon or number of iterations.\n",
      "/home/lars/code/python/context-aware-flow-matching/src/lightning-trainable/src/lightning_trainable/metrics/sinkhorn.py:71: Sinkhorn did not converge. Consider increasing epsilon or number of iterations.\n",
      "/home/lars/code/python/context-aware-flow-matching/src/lightning-trainable/src/lightning_trainable/metrics/sinkhorn.py:71: Sinkhorn did not converge. Consider increasing epsilon or number of iterations.\n",
      "/home/lars/code/python/context-aware-flow-matching/src/lightning-trainable/src/lightning_trainable/metrics/sinkhorn.py:71: Sinkhorn did not converge. Consider increasing epsilon or number of iterations.\n",
      "/home/lars/code/python/context-aware-flow-matching/src/lightning-trainable/src/lightning_trainable/metrics/sinkhorn.py:71: Sinkhorn did not converge. Consider increasing epsilon or number of iterations.\n",
      "/home/lars/code/python/context-aware-flow-matching/src/lightning-trainable/src/lightning_trainable/metrics/sinkhorn.py:71: Sinkhorn did not converge. Consider increasing epsilon or number of iterations.\n",
      "/home/lars/code/python/context-aware-flow-matching/src/lightning-trainable/src/lightning_trainable/metrics/sinkhorn.py:71: Sinkhorn did not converge. Consider increasing epsilon or number of iterations.\n",
      "/home/lars/code/python/context-aware-flow-matching/src/lightning-trainable/src/lightning_trainable/metrics/sinkhorn.py:71: Sinkhorn did not converge. Consider increasing epsilon or number of iterations.\n",
      "/home/lars/code/python/context-aware-flow-matching/src/lightning-trainable/src/lightning_trainable/metrics/sinkhorn.py:71: Sinkhorn did not converge. Consider increasing epsilon or number of iterations.\n",
      "/home/lars/code/python/context-aware-flow-matching/src/lightning-trainable/src/lightning_trainable/metrics/sinkhorn.py:71: Sinkhorn did not converge. Consider increasing epsilon or number of iterations.\n",
      "/home/lars/code/python/context-aware-flow-matching/src/lightning-trainable/src/lightning_trainable/metrics/sinkhorn.py:71: Sinkhorn did not converge. Consider increasing epsilon or number of iterations.\n",
      "/home/lars/code/python/context-aware-flow-matching/src/lightning-trainable/src/lightning_trainable/metrics/sinkhorn.py:71: Sinkhorn did not converge. Consider increasing epsilon or number of iterations.\n",
      "/home/lars/code/python/context-aware-flow-matching/src/lightning-trainable/src/lightning_trainable/metrics/sinkhorn.py:71: Sinkhorn did not converge. Consider increasing epsilon or number of iterations.\n",
      "/home/lars/code/python/context-aware-flow-matching/src/lightning-trainable/src/lightning_trainable/metrics/sinkhorn.py:71: Sinkhorn did not converge. Consider increasing epsilon or number of iterations.\n"
     ]
    },
    {
     "data": {
      "text/plain": "Validation: |          | 0/? [00:00<?, ?it/s]",
      "application/vnd.jupyter.widget-view+json": {
       "version_major": 2,
       "version_minor": 0,
       "model_id": "a96f4b7d4add453d8808ac3aba0577d3"
      }
     },
     "metadata": {},
     "output_type": "display_data"
    },
    {
     "name": "stderr",
     "output_type": "stream",
     "text": [
      "/home/lars/code/python/context-aware-flow-matching/src/lightning-trainable/src/lightning_trainable/metrics/sinkhorn.py:71: Sinkhorn did not converge. Consider increasing epsilon or number of iterations.\n",
      "/home/lars/code/python/context-aware-flow-matching/src/lightning-trainable/src/lightning_trainable/metrics/sinkhorn.py:71: Sinkhorn did not converge. Consider increasing epsilon or number of iterations.\n",
      "/home/lars/code/python/context-aware-flow-matching/src/lightning-trainable/src/lightning_trainable/metrics/sinkhorn.py:71: Sinkhorn did not converge. Consider increasing epsilon or number of iterations.\n",
      "/home/lars/code/python/context-aware-flow-matching/src/lightning-trainable/src/lightning_trainable/metrics/sinkhorn.py:71: Sinkhorn did not converge. Consider increasing epsilon or number of iterations.\n",
      "/home/lars/code/python/context-aware-flow-matching/src/lightning-trainable/src/lightning_trainable/metrics/sinkhorn.py:71: Sinkhorn did not converge. Consider increasing epsilon or number of iterations.\n",
      "/home/lars/code/python/context-aware-flow-matching/src/lightning-trainable/src/lightning_trainable/metrics/sinkhorn.py:71: Sinkhorn did not converge. Consider increasing epsilon or number of iterations.\n",
      "/home/lars/code/python/context-aware-flow-matching/src/lightning-trainable/src/lightning_trainable/metrics/sinkhorn.py:71: Sinkhorn did not converge. Consider increasing epsilon or number of iterations.\n",
      "/home/lars/code/python/context-aware-flow-matching/src/lightning-trainable/src/lightning_trainable/metrics/sinkhorn.py:71: Sinkhorn did not converge. Consider increasing epsilon or number of iterations.\n",
      "/home/lars/code/python/context-aware-flow-matching/src/lightning-trainable/src/lightning_trainable/metrics/sinkhorn.py:71: Sinkhorn did not converge. Consider increasing epsilon or number of iterations.\n",
      "/home/lars/code/python/context-aware-flow-matching/src/lightning-trainable/src/lightning_trainable/metrics/sinkhorn.py:71: Sinkhorn did not converge. Consider increasing epsilon or number of iterations.\n",
      "/home/lars/code/python/context-aware-flow-matching/src/lightning-trainable/src/lightning_trainable/metrics/sinkhorn.py:71: Sinkhorn did not converge. Consider increasing epsilon or number of iterations.\n",
      "/home/lars/code/python/context-aware-flow-matching/src/lightning-trainable/src/lightning_trainable/metrics/sinkhorn.py:71: Sinkhorn did not converge. Consider increasing epsilon or number of iterations.\n",
      "/home/lars/code/python/context-aware-flow-matching/src/lightning-trainable/src/lightning_trainable/metrics/sinkhorn.py:71: Sinkhorn did not converge. Consider increasing epsilon or number of iterations.\n",
      "/home/lars/code/python/context-aware-flow-matching/src/lightning-trainable/src/lightning_trainable/metrics/sinkhorn.py:71: Sinkhorn did not converge. Consider increasing epsilon or number of iterations.\n",
      "/home/lars/code/python/context-aware-flow-matching/src/lightning-trainable/src/lightning_trainable/metrics/sinkhorn.py:71: Sinkhorn did not converge. Consider increasing epsilon or number of iterations.\n",
      "/home/lars/code/python/context-aware-flow-matching/src/lightning-trainable/src/lightning_trainable/metrics/sinkhorn.py:71: Sinkhorn did not converge. Consider increasing epsilon or number of iterations.\n",
      "/home/lars/code/python/context-aware-flow-matching/src/lightning-trainable/src/lightning_trainable/metrics/sinkhorn.py:71: Sinkhorn did not converge. Consider increasing epsilon or number of iterations.\n",
      "/home/lars/code/python/context-aware-flow-matching/src/lightning-trainable/src/lightning_trainable/metrics/sinkhorn.py:71: Sinkhorn did not converge. Consider increasing epsilon or number of iterations.\n"
     ]
    },
    {
     "data": {
      "text/plain": "Validation: |          | 0/? [00:00<?, ?it/s]",
      "application/vnd.jupyter.widget-view+json": {
       "version_major": 2,
       "version_minor": 0,
       "model_id": "803cecf7ae7a4c728a74d4691cc246f6"
      }
     },
     "metadata": {},
     "output_type": "display_data"
    },
    {
     "name": "stderr",
     "output_type": "stream",
     "text": [
      "/home/lars/code/python/context-aware-flow-matching/src/lightning-trainable/src/lightning_trainable/metrics/sinkhorn.py:71: Sinkhorn did not converge. Consider increasing epsilon or number of iterations.\n",
      "/home/lars/code/python/context-aware-flow-matching/src/lightning-trainable/src/lightning_trainable/metrics/sinkhorn.py:71: Sinkhorn did not converge. Consider increasing epsilon or number of iterations.\n",
      "/home/lars/code/python/context-aware-flow-matching/src/lightning-trainable/src/lightning_trainable/metrics/sinkhorn.py:71: Sinkhorn did not converge. Consider increasing epsilon or number of iterations.\n",
      "/home/lars/code/python/context-aware-flow-matching/src/lightning-trainable/src/lightning_trainable/metrics/sinkhorn.py:71: Sinkhorn did not converge. Consider increasing epsilon or number of iterations.\n",
      "/home/lars/code/python/context-aware-flow-matching/src/lightning-trainable/src/lightning_trainable/metrics/sinkhorn.py:71: Sinkhorn did not converge. Consider increasing epsilon or number of iterations.\n",
      "/home/lars/code/python/context-aware-flow-matching/src/lightning-trainable/src/lightning_trainable/metrics/sinkhorn.py:71: Sinkhorn did not converge. Consider increasing epsilon or number of iterations.\n",
      "/home/lars/code/python/context-aware-flow-matching/src/lightning-trainable/src/lightning_trainable/metrics/sinkhorn.py:71: Sinkhorn did not converge. Consider increasing epsilon or number of iterations.\n",
      "/home/lars/code/python/context-aware-flow-matching/src/lightning-trainable/src/lightning_trainable/metrics/sinkhorn.py:71: Sinkhorn did not converge. Consider increasing epsilon or number of iterations.\n",
      "/home/lars/code/python/context-aware-flow-matching/src/lightning-trainable/src/lightning_trainable/metrics/sinkhorn.py:71: Sinkhorn did not converge. Consider increasing epsilon or number of iterations.\n",
      "/home/lars/code/python/context-aware-flow-matching/src/lightning-trainable/src/lightning_trainable/metrics/sinkhorn.py:71: Sinkhorn did not converge. Consider increasing epsilon or number of iterations.\n",
      "/home/lars/code/python/context-aware-flow-matching/src/lightning-trainable/src/lightning_trainable/metrics/sinkhorn.py:71: Sinkhorn did not converge. Consider increasing epsilon or number of iterations.\n",
      "/home/lars/code/python/context-aware-flow-matching/src/lightning-trainable/src/lightning_trainable/metrics/sinkhorn.py:71: Sinkhorn did not converge. Consider increasing epsilon or number of iterations.\n",
      "/home/lars/code/python/context-aware-flow-matching/src/lightning-trainable/src/lightning_trainable/metrics/sinkhorn.py:71: Sinkhorn did not converge. Consider increasing epsilon or number of iterations.\n",
      "/home/lars/code/python/context-aware-flow-matching/src/lightning-trainable/src/lightning_trainable/metrics/sinkhorn.py:71: Sinkhorn did not converge. Consider increasing epsilon or number of iterations.\n",
      "/home/lars/code/python/context-aware-flow-matching/src/lightning-trainable/src/lightning_trainable/metrics/sinkhorn.py:71: Sinkhorn did not converge. Consider increasing epsilon or number of iterations.\n",
      "/home/lars/code/python/context-aware-flow-matching/src/lightning-trainable/src/lightning_trainable/metrics/sinkhorn.py:71: Sinkhorn did not converge. Consider increasing epsilon or number of iterations.\n",
      "/home/lars/code/python/context-aware-flow-matching/src/lightning-trainable/src/lightning_trainable/metrics/sinkhorn.py:71: Sinkhorn did not converge. Consider increasing epsilon or number of iterations.\n",
      "/home/lars/code/python/context-aware-flow-matching/src/lightning-trainable/src/lightning_trainable/metrics/sinkhorn.py:71: Sinkhorn did not converge. Consider increasing epsilon or number of iterations.\n"
     ]
    },
    {
     "data": {
      "text/plain": "Validation: |          | 0/? [00:00<?, ?it/s]",
      "application/vnd.jupyter.widget-view+json": {
       "version_major": 2,
       "version_minor": 0,
       "model_id": "cf4a3ec6a34d4ee68dfb853b857d0d12"
      }
     },
     "metadata": {},
     "output_type": "display_data"
    },
    {
     "name": "stderr",
     "output_type": "stream",
     "text": [
      "/home/lars/code/python/context-aware-flow-matching/src/lightning-trainable/src/lightning_trainable/metrics/sinkhorn.py:71: Sinkhorn did not converge. Consider increasing epsilon or number of iterations.\n",
      "/home/lars/code/python/context-aware-flow-matching/src/lightning-trainable/src/lightning_trainable/metrics/sinkhorn.py:71: Sinkhorn did not converge. Consider increasing epsilon or number of iterations.\n",
      "/home/lars/code/python/context-aware-flow-matching/src/lightning-trainable/src/lightning_trainable/metrics/sinkhorn.py:71: Sinkhorn did not converge. Consider increasing epsilon or number of iterations.\n",
      "/home/lars/code/python/context-aware-flow-matching/src/lightning-trainable/src/lightning_trainable/metrics/sinkhorn.py:71: Sinkhorn did not converge. Consider increasing epsilon or number of iterations.\n",
      "/home/lars/code/python/context-aware-flow-matching/src/lightning-trainable/src/lightning_trainable/metrics/sinkhorn.py:71: Sinkhorn did not converge. Consider increasing epsilon or number of iterations.\n",
      "/home/lars/code/python/context-aware-flow-matching/src/lightning-trainable/src/lightning_trainable/metrics/sinkhorn.py:71: Sinkhorn did not converge. Consider increasing epsilon or number of iterations.\n",
      "/home/lars/code/python/context-aware-flow-matching/src/lightning-trainable/src/lightning_trainable/metrics/sinkhorn.py:71: Sinkhorn did not converge. Consider increasing epsilon or number of iterations.\n",
      "/home/lars/code/python/context-aware-flow-matching/src/lightning-trainable/src/lightning_trainable/metrics/sinkhorn.py:71: Sinkhorn did not converge. Consider increasing epsilon or number of iterations.\n",
      "/home/lars/code/python/context-aware-flow-matching/src/lightning-trainable/src/lightning_trainable/metrics/sinkhorn.py:71: Sinkhorn did not converge. Consider increasing epsilon or number of iterations.\n",
      "/home/lars/code/python/context-aware-flow-matching/src/lightning-trainable/src/lightning_trainable/metrics/sinkhorn.py:71: Sinkhorn did not converge. Consider increasing epsilon or number of iterations.\n",
      "/home/lars/code/python/context-aware-flow-matching/src/lightning-trainable/src/lightning_trainable/metrics/sinkhorn.py:71: Sinkhorn did not converge. Consider increasing epsilon or number of iterations.\n",
      "/home/lars/code/python/context-aware-flow-matching/src/lightning-trainable/src/lightning_trainable/metrics/sinkhorn.py:71: Sinkhorn did not converge. Consider increasing epsilon or number of iterations.\n",
      "/home/lars/code/python/context-aware-flow-matching/src/lightning-trainable/src/lightning_trainable/metrics/sinkhorn.py:71: Sinkhorn did not converge. Consider increasing epsilon or number of iterations.\n",
      "/home/lars/code/python/context-aware-flow-matching/src/lightning-trainable/src/lightning_trainable/metrics/sinkhorn.py:71: Sinkhorn did not converge. Consider increasing epsilon or number of iterations.\n",
      "/home/lars/code/python/context-aware-flow-matching/src/lightning-trainable/src/lightning_trainable/metrics/sinkhorn.py:71: Sinkhorn did not converge. Consider increasing epsilon or number of iterations.\n",
      "/home/lars/code/python/context-aware-flow-matching/src/lightning-trainable/src/lightning_trainable/metrics/sinkhorn.py:71: Sinkhorn did not converge. Consider increasing epsilon or number of iterations.\n",
      "/home/lars/code/python/context-aware-flow-matching/src/lightning-trainable/src/lightning_trainable/metrics/sinkhorn.py:71: Sinkhorn did not converge. Consider increasing epsilon or number of iterations.\n",
      "/home/lars/code/python/context-aware-flow-matching/src/lightning-trainable/src/lightning_trainable/metrics/sinkhorn.py:71: Sinkhorn did not converge. Consider increasing epsilon or number of iterations.\n"
     ]
    },
    {
     "data": {
      "text/plain": "Validation: |          | 0/? [00:00<?, ?it/s]",
      "application/vnd.jupyter.widget-view+json": {
       "version_major": 2,
       "version_minor": 0,
       "model_id": "37856e3041904128afa9043ab0f54a05"
      }
     },
     "metadata": {},
     "output_type": "display_data"
    },
    {
     "name": "stderr",
     "output_type": "stream",
     "text": [
      "/home/lars/code/python/context-aware-flow-matching/src/lightning-trainable/src/lightning_trainable/metrics/sinkhorn.py:71: Sinkhorn did not converge. Consider increasing epsilon or number of iterations.\n",
      "/home/lars/code/python/context-aware-flow-matching/src/lightning-trainable/src/lightning_trainable/metrics/sinkhorn.py:71: Sinkhorn did not converge. Consider increasing epsilon or number of iterations.\n",
      "/home/lars/code/python/context-aware-flow-matching/src/lightning-trainable/src/lightning_trainable/metrics/sinkhorn.py:71: Sinkhorn did not converge. Consider increasing epsilon or number of iterations.\n",
      "/home/lars/code/python/context-aware-flow-matching/src/lightning-trainable/src/lightning_trainable/metrics/sinkhorn.py:71: Sinkhorn did not converge. Consider increasing epsilon or number of iterations.\n",
      "/home/lars/code/python/context-aware-flow-matching/src/lightning-trainable/src/lightning_trainable/metrics/sinkhorn.py:71: Sinkhorn did not converge. Consider increasing epsilon or number of iterations.\n",
      "/home/lars/code/python/context-aware-flow-matching/src/lightning-trainable/src/lightning_trainable/metrics/sinkhorn.py:71: Sinkhorn did not converge. Consider increasing epsilon or number of iterations.\n",
      "/home/lars/code/python/context-aware-flow-matching/src/lightning-trainable/src/lightning_trainable/metrics/sinkhorn.py:71: Sinkhorn did not converge. Consider increasing epsilon or number of iterations.\n",
      "/home/lars/code/python/context-aware-flow-matching/src/lightning-trainable/src/lightning_trainable/metrics/sinkhorn.py:71: Sinkhorn did not converge. Consider increasing epsilon or number of iterations.\n",
      "/home/lars/code/python/context-aware-flow-matching/src/lightning-trainable/src/lightning_trainable/metrics/sinkhorn.py:71: Sinkhorn did not converge. Consider increasing epsilon or number of iterations.\n",
      "/home/lars/code/python/context-aware-flow-matching/src/lightning-trainable/src/lightning_trainable/metrics/sinkhorn.py:71: Sinkhorn did not converge. Consider increasing epsilon or number of iterations.\n",
      "/home/lars/code/python/context-aware-flow-matching/src/lightning-trainable/src/lightning_trainable/metrics/sinkhorn.py:71: Sinkhorn did not converge. Consider increasing epsilon or number of iterations.\n",
      "/home/lars/code/python/context-aware-flow-matching/src/lightning-trainable/src/lightning_trainable/metrics/sinkhorn.py:71: Sinkhorn did not converge. Consider increasing epsilon or number of iterations.\n",
      "/home/lars/code/python/context-aware-flow-matching/src/lightning-trainable/src/lightning_trainable/metrics/sinkhorn.py:71: Sinkhorn did not converge. Consider increasing epsilon or number of iterations.\n",
      "/home/lars/code/python/context-aware-flow-matching/src/lightning-trainable/src/lightning_trainable/metrics/sinkhorn.py:71: Sinkhorn did not converge. Consider increasing epsilon or number of iterations.\n",
      "/home/lars/code/python/context-aware-flow-matching/src/lightning-trainable/src/lightning_trainable/metrics/sinkhorn.py:71: Sinkhorn did not converge. Consider increasing epsilon or number of iterations.\n",
      "/home/lars/code/python/context-aware-flow-matching/src/lightning-trainable/src/lightning_trainable/metrics/sinkhorn.py:71: Sinkhorn did not converge. Consider increasing epsilon or number of iterations.\n",
      "/home/lars/code/python/context-aware-flow-matching/src/lightning-trainable/src/lightning_trainable/metrics/sinkhorn.py:71: Sinkhorn did not converge. Consider increasing epsilon or number of iterations.\n",
      "/home/lars/code/python/context-aware-flow-matching/src/lightning-trainable/src/lightning_trainable/metrics/sinkhorn.py:71: Sinkhorn did not converge. Consider increasing epsilon or number of iterations.\n"
     ]
    },
    {
     "data": {
      "text/plain": "Validation: |          | 0/? [00:00<?, ?it/s]",
      "application/vnd.jupyter.widget-view+json": {
       "version_major": 2,
       "version_minor": 0,
       "model_id": "68a2810499384a468ae225b973d3824e"
      }
     },
     "metadata": {},
     "output_type": "display_data"
    },
    {
     "name": "stderr",
     "output_type": "stream",
     "text": [
      "/home/lars/code/python/context-aware-flow-matching/src/lightning-trainable/src/lightning_trainable/metrics/sinkhorn.py:71: Sinkhorn did not converge. Consider increasing epsilon or number of iterations.\n",
      "/home/lars/code/python/context-aware-flow-matching/src/lightning-trainable/src/lightning_trainable/metrics/sinkhorn.py:71: Sinkhorn did not converge. Consider increasing epsilon or number of iterations.\n",
      "/home/lars/code/python/context-aware-flow-matching/src/lightning-trainable/src/lightning_trainable/metrics/sinkhorn.py:71: Sinkhorn did not converge. Consider increasing epsilon or number of iterations.\n",
      "/home/lars/code/python/context-aware-flow-matching/src/lightning-trainable/src/lightning_trainable/metrics/sinkhorn.py:71: Sinkhorn did not converge. Consider increasing epsilon or number of iterations.\n",
      "/home/lars/code/python/context-aware-flow-matching/src/lightning-trainable/src/lightning_trainable/metrics/sinkhorn.py:71: Sinkhorn did not converge. Consider increasing epsilon or number of iterations.\n",
      "/home/lars/code/python/context-aware-flow-matching/src/lightning-trainable/src/lightning_trainable/metrics/sinkhorn.py:71: Sinkhorn did not converge. Consider increasing epsilon or number of iterations.\n",
      "/home/lars/code/python/context-aware-flow-matching/src/lightning-trainable/src/lightning_trainable/metrics/sinkhorn.py:71: Sinkhorn did not converge. Consider increasing epsilon or number of iterations.\n",
      "/home/lars/code/python/context-aware-flow-matching/src/lightning-trainable/src/lightning_trainable/metrics/sinkhorn.py:71: Sinkhorn did not converge. Consider increasing epsilon or number of iterations.\n",
      "/home/lars/code/python/context-aware-flow-matching/src/lightning-trainable/src/lightning_trainable/metrics/sinkhorn.py:71: Sinkhorn did not converge. Consider increasing epsilon or number of iterations.\n",
      "/home/lars/code/python/context-aware-flow-matching/src/lightning-trainable/src/lightning_trainable/metrics/sinkhorn.py:71: Sinkhorn did not converge. Consider increasing epsilon or number of iterations.\n",
      "/home/lars/code/python/context-aware-flow-matching/src/lightning-trainable/src/lightning_trainable/metrics/sinkhorn.py:71: Sinkhorn did not converge. Consider increasing epsilon or number of iterations.\n",
      "/home/lars/code/python/context-aware-flow-matching/src/lightning-trainable/src/lightning_trainable/metrics/sinkhorn.py:71: Sinkhorn did not converge. Consider increasing epsilon or number of iterations.\n",
      "/home/lars/code/python/context-aware-flow-matching/src/lightning-trainable/src/lightning_trainable/metrics/sinkhorn.py:71: Sinkhorn did not converge. Consider increasing epsilon or number of iterations.\n",
      "/home/lars/code/python/context-aware-flow-matching/src/lightning-trainable/src/lightning_trainable/metrics/sinkhorn.py:71: Sinkhorn did not converge. Consider increasing epsilon or number of iterations.\n",
      "/home/lars/code/python/context-aware-flow-matching/src/lightning-trainable/src/lightning_trainable/metrics/sinkhorn.py:71: Sinkhorn did not converge. Consider increasing epsilon or number of iterations.\n",
      "/home/lars/code/python/context-aware-flow-matching/src/lightning-trainable/src/lightning_trainable/metrics/sinkhorn.py:71: Sinkhorn did not converge. Consider increasing epsilon or number of iterations.\n",
      "/home/lars/code/python/context-aware-flow-matching/src/lightning-trainable/src/lightning_trainable/metrics/sinkhorn.py:71: Sinkhorn did not converge. Consider increasing epsilon or number of iterations.\n",
      "/home/lars/code/python/context-aware-flow-matching/src/lightning-trainable/src/lightning_trainable/metrics/sinkhorn.py:71: Sinkhorn did not converge. Consider increasing epsilon or number of iterations.\n"
     ]
    },
    {
     "data": {
      "text/plain": "Validation: |          | 0/? [00:00<?, ?it/s]",
      "application/vnd.jupyter.widget-view+json": {
       "version_major": 2,
       "version_minor": 0,
       "model_id": "b4e2c7ecb0434d9d8eec82bdf17eebb0"
      }
     },
     "metadata": {},
     "output_type": "display_data"
    },
    {
     "name": "stderr",
     "output_type": "stream",
     "text": [
      "/home/lars/code/python/context-aware-flow-matching/src/lightning-trainable/src/lightning_trainable/metrics/sinkhorn.py:71: Sinkhorn did not converge. Consider increasing epsilon or number of iterations.\n",
      "/home/lars/code/python/context-aware-flow-matching/src/lightning-trainable/src/lightning_trainable/metrics/sinkhorn.py:71: Sinkhorn did not converge. Consider increasing epsilon or number of iterations.\n",
      "/home/lars/code/python/context-aware-flow-matching/src/lightning-trainable/src/lightning_trainable/metrics/sinkhorn.py:71: Sinkhorn did not converge. Consider increasing epsilon or number of iterations.\n",
      "/home/lars/code/python/context-aware-flow-matching/src/lightning-trainable/src/lightning_trainable/metrics/sinkhorn.py:71: Sinkhorn did not converge. Consider increasing epsilon or number of iterations.\n",
      "/home/lars/code/python/context-aware-flow-matching/src/lightning-trainable/src/lightning_trainable/metrics/sinkhorn.py:71: Sinkhorn did not converge. Consider increasing epsilon or number of iterations.\n",
      "/home/lars/code/python/context-aware-flow-matching/src/lightning-trainable/src/lightning_trainable/metrics/sinkhorn.py:71: Sinkhorn did not converge. Consider increasing epsilon or number of iterations.\n",
      "/home/lars/code/python/context-aware-flow-matching/src/lightning-trainable/src/lightning_trainable/metrics/sinkhorn.py:71: Sinkhorn did not converge. Consider increasing epsilon or number of iterations.\n",
      "/home/lars/code/python/context-aware-flow-matching/src/lightning-trainable/src/lightning_trainable/metrics/sinkhorn.py:71: Sinkhorn did not converge. Consider increasing epsilon or number of iterations.\n",
      "/home/lars/code/python/context-aware-flow-matching/src/lightning-trainable/src/lightning_trainable/metrics/sinkhorn.py:71: Sinkhorn did not converge. Consider increasing epsilon or number of iterations.\n",
      "/home/lars/code/python/context-aware-flow-matching/src/lightning-trainable/src/lightning_trainable/metrics/sinkhorn.py:71: Sinkhorn did not converge. Consider increasing epsilon or number of iterations.\n",
      "/home/lars/code/python/context-aware-flow-matching/src/lightning-trainable/src/lightning_trainable/metrics/sinkhorn.py:71: Sinkhorn did not converge. Consider increasing epsilon or number of iterations.\n",
      "/home/lars/code/python/context-aware-flow-matching/src/lightning-trainable/src/lightning_trainable/metrics/sinkhorn.py:71: Sinkhorn did not converge. Consider increasing epsilon or number of iterations.\n",
      "/home/lars/code/python/context-aware-flow-matching/src/lightning-trainable/src/lightning_trainable/metrics/sinkhorn.py:71: Sinkhorn did not converge. Consider increasing epsilon or number of iterations.\n",
      "/home/lars/code/python/context-aware-flow-matching/src/lightning-trainable/src/lightning_trainable/metrics/sinkhorn.py:71: Sinkhorn did not converge. Consider increasing epsilon or number of iterations.\n",
      "/home/lars/code/python/context-aware-flow-matching/src/lightning-trainable/src/lightning_trainable/metrics/sinkhorn.py:71: Sinkhorn did not converge. Consider increasing epsilon or number of iterations.\n",
      "/home/lars/code/python/context-aware-flow-matching/src/lightning-trainable/src/lightning_trainable/metrics/sinkhorn.py:71: Sinkhorn did not converge. Consider increasing epsilon or number of iterations.\n",
      "/home/lars/code/python/context-aware-flow-matching/src/lightning-trainable/src/lightning_trainable/metrics/sinkhorn.py:71: Sinkhorn did not converge. Consider increasing epsilon or number of iterations.\n",
      "/home/lars/code/python/context-aware-flow-matching/src/lightning-trainable/src/lightning_trainable/metrics/sinkhorn.py:71: Sinkhorn did not converge. Consider increasing epsilon or number of iterations.\n"
     ]
    },
    {
     "data": {
      "text/plain": "Validation: |          | 0/? [00:00<?, ?it/s]",
      "application/vnd.jupyter.widget-view+json": {
       "version_major": 2,
       "version_minor": 0,
       "model_id": "60da0b214bf84be5ace7d1b99b0416b7"
      }
     },
     "metadata": {},
     "output_type": "display_data"
    },
    {
     "name": "stderr",
     "output_type": "stream",
     "text": [
      "/home/lars/code/python/context-aware-flow-matching/src/lightning-trainable/src/lightning_trainable/metrics/sinkhorn.py:71: Sinkhorn did not converge. Consider increasing epsilon or number of iterations.\n",
      "/home/lars/code/python/context-aware-flow-matching/src/lightning-trainable/src/lightning_trainable/metrics/sinkhorn.py:71: Sinkhorn did not converge. Consider increasing epsilon or number of iterations.\n",
      "/home/lars/code/python/context-aware-flow-matching/src/lightning-trainable/src/lightning_trainable/metrics/sinkhorn.py:71: Sinkhorn did not converge. Consider increasing epsilon or number of iterations.\n",
      "/home/lars/code/python/context-aware-flow-matching/src/lightning-trainable/src/lightning_trainable/metrics/sinkhorn.py:71: Sinkhorn did not converge. Consider increasing epsilon or number of iterations.\n",
      "/home/lars/code/python/context-aware-flow-matching/src/lightning-trainable/src/lightning_trainable/metrics/sinkhorn.py:71: Sinkhorn did not converge. Consider increasing epsilon or number of iterations.\n",
      "/home/lars/code/python/context-aware-flow-matching/src/lightning-trainable/src/lightning_trainable/metrics/sinkhorn.py:71: Sinkhorn did not converge. Consider increasing epsilon or number of iterations.\n",
      "/home/lars/code/python/context-aware-flow-matching/src/lightning-trainable/src/lightning_trainable/metrics/sinkhorn.py:71: Sinkhorn did not converge. Consider increasing epsilon or number of iterations.\n",
      "/home/lars/code/python/context-aware-flow-matching/src/lightning-trainable/src/lightning_trainable/metrics/sinkhorn.py:71: Sinkhorn did not converge. Consider increasing epsilon or number of iterations.\n",
      "/home/lars/code/python/context-aware-flow-matching/src/lightning-trainable/src/lightning_trainable/metrics/sinkhorn.py:71: Sinkhorn did not converge. Consider increasing epsilon or number of iterations.\n",
      "/home/lars/code/python/context-aware-flow-matching/src/lightning-trainable/src/lightning_trainable/metrics/sinkhorn.py:71: Sinkhorn did not converge. Consider increasing epsilon or number of iterations.\n",
      "/home/lars/code/python/context-aware-flow-matching/src/lightning-trainable/src/lightning_trainable/metrics/sinkhorn.py:71: Sinkhorn did not converge. Consider increasing epsilon or number of iterations.\n",
      "/home/lars/code/python/context-aware-flow-matching/src/lightning-trainable/src/lightning_trainable/metrics/sinkhorn.py:71: Sinkhorn did not converge. Consider increasing epsilon or number of iterations.\n",
      "/home/lars/code/python/context-aware-flow-matching/src/lightning-trainable/src/lightning_trainable/metrics/sinkhorn.py:71: Sinkhorn did not converge. Consider increasing epsilon or number of iterations.\n",
      "/home/lars/code/python/context-aware-flow-matching/src/lightning-trainable/src/lightning_trainable/metrics/sinkhorn.py:71: Sinkhorn did not converge. Consider increasing epsilon or number of iterations.\n",
      "/home/lars/code/python/context-aware-flow-matching/src/lightning-trainable/src/lightning_trainable/metrics/sinkhorn.py:71: Sinkhorn did not converge. Consider increasing epsilon or number of iterations.\n",
      "/home/lars/code/python/context-aware-flow-matching/src/lightning-trainable/src/lightning_trainable/metrics/sinkhorn.py:71: Sinkhorn did not converge. Consider increasing epsilon or number of iterations.\n",
      "/home/lars/code/python/context-aware-flow-matching/src/lightning-trainable/src/lightning_trainable/metrics/sinkhorn.py:71: Sinkhorn did not converge. Consider increasing epsilon or number of iterations.\n",
      "/home/lars/code/python/context-aware-flow-matching/src/lightning-trainable/src/lightning_trainable/metrics/sinkhorn.py:71: Sinkhorn did not converge. Consider increasing epsilon or number of iterations.\n"
     ]
    },
    {
     "data": {
      "text/plain": "Validation: |          | 0/? [00:00<?, ?it/s]",
      "application/vnd.jupyter.widget-view+json": {
       "version_major": 2,
       "version_minor": 0,
       "model_id": "29d6c4f9454a414eaf9654daf7b84085"
      }
     },
     "metadata": {},
     "output_type": "display_data"
    },
    {
     "name": "stderr",
     "output_type": "stream",
     "text": [
      "/home/lars/code/python/context-aware-flow-matching/src/lightning-trainable/src/lightning_trainable/metrics/sinkhorn.py:71: Sinkhorn did not converge. Consider increasing epsilon or number of iterations.\n",
      "/home/lars/code/python/context-aware-flow-matching/src/lightning-trainable/src/lightning_trainable/metrics/sinkhorn.py:71: Sinkhorn did not converge. Consider increasing epsilon or number of iterations.\n",
      "/home/lars/code/python/context-aware-flow-matching/src/lightning-trainable/src/lightning_trainable/metrics/sinkhorn.py:71: Sinkhorn did not converge. Consider increasing epsilon or number of iterations.\n",
      "/home/lars/code/python/context-aware-flow-matching/src/lightning-trainable/src/lightning_trainable/metrics/sinkhorn.py:71: Sinkhorn did not converge. Consider increasing epsilon or number of iterations.\n",
      "/home/lars/code/python/context-aware-flow-matching/src/lightning-trainable/src/lightning_trainable/metrics/sinkhorn.py:71: Sinkhorn did not converge. Consider increasing epsilon or number of iterations.\n",
      "/home/lars/code/python/context-aware-flow-matching/src/lightning-trainable/src/lightning_trainable/metrics/sinkhorn.py:71: Sinkhorn did not converge. Consider increasing epsilon or number of iterations.\n",
      "/home/lars/code/python/context-aware-flow-matching/src/lightning-trainable/src/lightning_trainable/metrics/sinkhorn.py:71: Sinkhorn did not converge. Consider increasing epsilon or number of iterations.\n",
      "/home/lars/code/python/context-aware-flow-matching/src/lightning-trainable/src/lightning_trainable/metrics/sinkhorn.py:71: Sinkhorn did not converge. Consider increasing epsilon or number of iterations.\n",
      "/home/lars/code/python/context-aware-flow-matching/src/lightning-trainable/src/lightning_trainable/metrics/sinkhorn.py:71: Sinkhorn did not converge. Consider increasing epsilon or number of iterations.\n",
      "/home/lars/code/python/context-aware-flow-matching/src/lightning-trainable/src/lightning_trainable/metrics/sinkhorn.py:71: Sinkhorn did not converge. Consider increasing epsilon or number of iterations.\n",
      "/home/lars/code/python/context-aware-flow-matching/src/lightning-trainable/src/lightning_trainable/metrics/sinkhorn.py:71: Sinkhorn did not converge. Consider increasing epsilon or number of iterations.\n",
      "/home/lars/code/python/context-aware-flow-matching/src/lightning-trainable/src/lightning_trainable/metrics/sinkhorn.py:71: Sinkhorn did not converge. Consider increasing epsilon or number of iterations.\n",
      "/home/lars/code/python/context-aware-flow-matching/src/lightning-trainable/src/lightning_trainable/metrics/sinkhorn.py:71: Sinkhorn did not converge. Consider increasing epsilon or number of iterations.\n",
      "/home/lars/code/python/context-aware-flow-matching/src/lightning-trainable/src/lightning_trainable/metrics/sinkhorn.py:71: Sinkhorn did not converge. Consider increasing epsilon or number of iterations.\n",
      "/home/lars/code/python/context-aware-flow-matching/src/lightning-trainable/src/lightning_trainable/metrics/sinkhorn.py:71: Sinkhorn did not converge. Consider increasing epsilon or number of iterations.\n",
      "/home/lars/code/python/context-aware-flow-matching/src/lightning-trainable/src/lightning_trainable/metrics/sinkhorn.py:71: Sinkhorn did not converge. Consider increasing epsilon or number of iterations.\n",
      "/home/lars/code/python/context-aware-flow-matching/src/lightning-trainable/src/lightning_trainable/metrics/sinkhorn.py:71: Sinkhorn did not converge. Consider increasing epsilon or number of iterations.\n",
      "/home/lars/code/python/context-aware-flow-matching/src/lightning-trainable/src/lightning_trainable/metrics/sinkhorn.py:71: Sinkhorn did not converge. Consider increasing epsilon or number of iterations.\n"
     ]
    },
    {
     "data": {
      "text/plain": "Validation: |          | 0/? [00:00<?, ?it/s]",
      "application/vnd.jupyter.widget-view+json": {
       "version_major": 2,
       "version_minor": 0,
       "model_id": "b12b396aca654f86bdab5e631ab11848"
      }
     },
     "metadata": {},
     "output_type": "display_data"
    },
    {
     "name": "stderr",
     "output_type": "stream",
     "text": [
      "/home/lars/code/python/context-aware-flow-matching/src/lightning-trainable/src/lightning_trainable/metrics/sinkhorn.py:71: Sinkhorn did not converge. Consider increasing epsilon or number of iterations.\n",
      "/home/lars/code/python/context-aware-flow-matching/src/lightning-trainable/src/lightning_trainable/metrics/sinkhorn.py:71: Sinkhorn did not converge. Consider increasing epsilon or number of iterations.\n",
      "/home/lars/code/python/context-aware-flow-matching/src/lightning-trainable/src/lightning_trainable/metrics/sinkhorn.py:71: Sinkhorn did not converge. Consider increasing epsilon or number of iterations.\n",
      "/home/lars/code/python/context-aware-flow-matching/src/lightning-trainable/src/lightning_trainable/metrics/sinkhorn.py:71: Sinkhorn did not converge. Consider increasing epsilon or number of iterations.\n",
      "/home/lars/code/python/context-aware-flow-matching/src/lightning-trainable/src/lightning_trainable/metrics/sinkhorn.py:71: Sinkhorn did not converge. Consider increasing epsilon or number of iterations.\n",
      "/home/lars/code/python/context-aware-flow-matching/src/lightning-trainable/src/lightning_trainable/metrics/sinkhorn.py:71: Sinkhorn did not converge. Consider increasing epsilon or number of iterations.\n",
      "/home/lars/code/python/context-aware-flow-matching/src/lightning-trainable/src/lightning_trainable/metrics/sinkhorn.py:71: Sinkhorn did not converge. Consider increasing epsilon or number of iterations.\n",
      "/home/lars/code/python/context-aware-flow-matching/src/lightning-trainable/src/lightning_trainable/metrics/sinkhorn.py:71: Sinkhorn did not converge. Consider increasing epsilon or number of iterations.\n",
      "/home/lars/code/python/context-aware-flow-matching/src/lightning-trainable/src/lightning_trainable/metrics/sinkhorn.py:71: Sinkhorn did not converge. Consider increasing epsilon or number of iterations.\n",
      "/home/lars/code/python/context-aware-flow-matching/src/lightning-trainable/src/lightning_trainable/metrics/sinkhorn.py:71: Sinkhorn did not converge. Consider increasing epsilon or number of iterations.\n",
      "/home/lars/code/python/context-aware-flow-matching/src/lightning-trainable/src/lightning_trainable/metrics/sinkhorn.py:71: Sinkhorn did not converge. Consider increasing epsilon or number of iterations.\n",
      "/home/lars/code/python/context-aware-flow-matching/src/lightning-trainable/src/lightning_trainable/metrics/sinkhorn.py:71: Sinkhorn did not converge. Consider increasing epsilon or number of iterations.\n",
      "/home/lars/code/python/context-aware-flow-matching/src/lightning-trainable/src/lightning_trainable/metrics/sinkhorn.py:71: Sinkhorn did not converge. Consider increasing epsilon or number of iterations.\n",
      "/home/lars/code/python/context-aware-flow-matching/src/lightning-trainable/src/lightning_trainable/metrics/sinkhorn.py:71: Sinkhorn did not converge. Consider increasing epsilon or number of iterations.\n",
      "/home/lars/code/python/context-aware-flow-matching/src/lightning-trainable/src/lightning_trainable/metrics/sinkhorn.py:71: Sinkhorn did not converge. Consider increasing epsilon or number of iterations.\n",
      "/home/lars/code/python/context-aware-flow-matching/src/lightning-trainable/src/lightning_trainable/metrics/sinkhorn.py:71: Sinkhorn did not converge. Consider increasing epsilon or number of iterations.\n",
      "/home/lars/code/python/context-aware-flow-matching/src/lightning-trainable/src/lightning_trainable/metrics/sinkhorn.py:71: Sinkhorn did not converge. Consider increasing epsilon or number of iterations.\n",
      "/home/lars/code/python/context-aware-flow-matching/src/lightning-trainable/src/lightning_trainable/metrics/sinkhorn.py:71: Sinkhorn did not converge. Consider increasing epsilon or number of iterations.\n"
     ]
    },
    {
     "data": {
      "text/plain": "Validation: |          | 0/? [00:00<?, ?it/s]",
      "application/vnd.jupyter.widget-view+json": {
       "version_major": 2,
       "version_minor": 0,
       "model_id": "2be5c12e99054640bf8575453ab247fe"
      }
     },
     "metadata": {},
     "output_type": "display_data"
    },
    {
     "name": "stderr",
     "output_type": "stream",
     "text": [
      "/home/lars/code/python/context-aware-flow-matching/src/lightning-trainable/src/lightning_trainable/metrics/sinkhorn.py:71: Sinkhorn did not converge. Consider increasing epsilon or number of iterations.\n",
      "/home/lars/code/python/context-aware-flow-matching/src/lightning-trainable/src/lightning_trainable/metrics/sinkhorn.py:71: Sinkhorn did not converge. Consider increasing epsilon or number of iterations.\n",
      "/home/lars/code/python/context-aware-flow-matching/src/lightning-trainable/src/lightning_trainable/metrics/sinkhorn.py:71: Sinkhorn did not converge. Consider increasing epsilon or number of iterations.\n",
      "/home/lars/code/python/context-aware-flow-matching/src/lightning-trainable/src/lightning_trainable/metrics/sinkhorn.py:71: Sinkhorn did not converge. Consider increasing epsilon or number of iterations.\n",
      "/home/lars/code/python/context-aware-flow-matching/src/lightning-trainable/src/lightning_trainable/metrics/sinkhorn.py:71: Sinkhorn did not converge. Consider increasing epsilon or number of iterations.\n",
      "/home/lars/code/python/context-aware-flow-matching/src/lightning-trainable/src/lightning_trainable/metrics/sinkhorn.py:71: Sinkhorn did not converge. Consider increasing epsilon or number of iterations.\n",
      "/home/lars/code/python/context-aware-flow-matching/src/lightning-trainable/src/lightning_trainable/metrics/sinkhorn.py:71: Sinkhorn did not converge. Consider increasing epsilon or number of iterations.\n",
      "/home/lars/code/python/context-aware-flow-matching/src/lightning-trainable/src/lightning_trainable/metrics/sinkhorn.py:71: Sinkhorn did not converge. Consider increasing epsilon or number of iterations.\n",
      "/home/lars/code/python/context-aware-flow-matching/src/lightning-trainable/src/lightning_trainable/metrics/sinkhorn.py:71: Sinkhorn did not converge. Consider increasing epsilon or number of iterations.\n",
      "/home/lars/code/python/context-aware-flow-matching/src/lightning-trainable/src/lightning_trainable/metrics/sinkhorn.py:71: Sinkhorn did not converge. Consider increasing epsilon or number of iterations.\n",
      "/home/lars/code/python/context-aware-flow-matching/src/lightning-trainable/src/lightning_trainable/metrics/sinkhorn.py:71: Sinkhorn did not converge. Consider increasing epsilon or number of iterations.\n",
      "/home/lars/code/python/context-aware-flow-matching/src/lightning-trainable/src/lightning_trainable/metrics/sinkhorn.py:71: Sinkhorn did not converge. Consider increasing epsilon or number of iterations.\n",
      "/home/lars/code/python/context-aware-flow-matching/src/lightning-trainable/src/lightning_trainable/metrics/sinkhorn.py:71: Sinkhorn did not converge. Consider increasing epsilon or number of iterations.\n",
      "/home/lars/code/python/context-aware-flow-matching/src/lightning-trainable/src/lightning_trainable/metrics/sinkhorn.py:71: Sinkhorn did not converge. Consider increasing epsilon or number of iterations.\n",
      "/home/lars/code/python/context-aware-flow-matching/src/lightning-trainable/src/lightning_trainable/metrics/sinkhorn.py:71: Sinkhorn did not converge. Consider increasing epsilon or number of iterations.\n",
      "/home/lars/code/python/context-aware-flow-matching/src/lightning-trainable/src/lightning_trainable/metrics/sinkhorn.py:71: Sinkhorn did not converge. Consider increasing epsilon or number of iterations.\n",
      "/home/lars/code/python/context-aware-flow-matching/src/lightning-trainable/src/lightning_trainable/metrics/sinkhorn.py:71: Sinkhorn did not converge. Consider increasing epsilon or number of iterations.\n",
      "/home/lars/code/python/context-aware-flow-matching/src/lightning-trainable/src/lightning_trainable/metrics/sinkhorn.py:71: Sinkhorn did not converge. Consider increasing epsilon or number of iterations.\n"
     ]
    },
    {
     "data": {
      "text/plain": "Validation: |          | 0/? [00:00<?, ?it/s]",
      "application/vnd.jupyter.widget-view+json": {
       "version_major": 2,
       "version_minor": 0,
       "model_id": "49c2345ec4c64a7eb6a48c084b388c69"
      }
     },
     "metadata": {},
     "output_type": "display_data"
    },
    {
     "name": "stderr",
     "output_type": "stream",
     "text": [
      "/home/lars/code/python/context-aware-flow-matching/src/lightning-trainable/src/lightning_trainable/metrics/sinkhorn.py:71: Sinkhorn did not converge. Consider increasing epsilon or number of iterations.\n",
      "/home/lars/code/python/context-aware-flow-matching/src/lightning-trainable/src/lightning_trainable/metrics/sinkhorn.py:71: Sinkhorn did not converge. Consider increasing epsilon or number of iterations.\n",
      "/home/lars/code/python/context-aware-flow-matching/src/lightning-trainable/src/lightning_trainable/metrics/sinkhorn.py:71: Sinkhorn did not converge. Consider increasing epsilon or number of iterations.\n",
      "/home/lars/code/python/context-aware-flow-matching/src/lightning-trainable/src/lightning_trainable/metrics/sinkhorn.py:71: Sinkhorn did not converge. Consider increasing epsilon or number of iterations.\n",
      "/home/lars/code/python/context-aware-flow-matching/src/lightning-trainable/src/lightning_trainable/metrics/sinkhorn.py:71: Sinkhorn did not converge. Consider increasing epsilon or number of iterations.\n",
      "/home/lars/code/python/context-aware-flow-matching/src/lightning-trainable/src/lightning_trainable/metrics/sinkhorn.py:71: Sinkhorn did not converge. Consider increasing epsilon or number of iterations.\n",
      "/home/lars/code/python/context-aware-flow-matching/src/lightning-trainable/src/lightning_trainable/metrics/sinkhorn.py:71: Sinkhorn did not converge. Consider increasing epsilon or number of iterations.\n",
      "/home/lars/code/python/context-aware-flow-matching/src/lightning-trainable/src/lightning_trainable/metrics/sinkhorn.py:71: Sinkhorn did not converge. Consider increasing epsilon or number of iterations.\n",
      "/home/lars/code/python/context-aware-flow-matching/src/lightning-trainable/src/lightning_trainable/metrics/sinkhorn.py:71: Sinkhorn did not converge. Consider increasing epsilon or number of iterations.\n",
      "/home/lars/code/python/context-aware-flow-matching/src/lightning-trainable/src/lightning_trainable/metrics/sinkhorn.py:71: Sinkhorn did not converge. Consider increasing epsilon or number of iterations.\n",
      "/home/lars/code/python/context-aware-flow-matching/src/lightning-trainable/src/lightning_trainable/metrics/sinkhorn.py:71: Sinkhorn did not converge. Consider increasing epsilon or number of iterations.\n",
      "/home/lars/code/python/context-aware-flow-matching/src/lightning-trainable/src/lightning_trainable/metrics/sinkhorn.py:71: Sinkhorn did not converge. Consider increasing epsilon or number of iterations.\n",
      "/home/lars/code/python/context-aware-flow-matching/src/lightning-trainable/src/lightning_trainable/metrics/sinkhorn.py:71: Sinkhorn did not converge. Consider increasing epsilon or number of iterations.\n",
      "/home/lars/code/python/context-aware-flow-matching/src/lightning-trainable/src/lightning_trainable/metrics/sinkhorn.py:71: Sinkhorn did not converge. Consider increasing epsilon or number of iterations.\n",
      "/home/lars/code/python/context-aware-flow-matching/src/lightning-trainable/src/lightning_trainable/metrics/sinkhorn.py:71: Sinkhorn did not converge. Consider increasing epsilon or number of iterations.\n",
      "/home/lars/code/python/context-aware-flow-matching/src/lightning-trainable/src/lightning_trainable/metrics/sinkhorn.py:71: Sinkhorn did not converge. Consider increasing epsilon or number of iterations.\n",
      "/home/lars/code/python/context-aware-flow-matching/src/lightning-trainable/src/lightning_trainable/metrics/sinkhorn.py:71: Sinkhorn did not converge. Consider increasing epsilon or number of iterations.\n",
      "/home/lars/code/python/context-aware-flow-matching/src/lightning-trainable/src/lightning_trainable/metrics/sinkhorn.py:71: Sinkhorn did not converge. Consider increasing epsilon or number of iterations.\n"
     ]
    },
    {
     "data": {
      "text/plain": "Validation: |          | 0/? [00:00<?, ?it/s]",
      "application/vnd.jupyter.widget-view+json": {
       "version_major": 2,
       "version_minor": 0,
       "model_id": "922cd870c25346c4b2ea09ce205b1b9a"
      }
     },
     "metadata": {},
     "output_type": "display_data"
    },
    {
     "name": "stderr",
     "output_type": "stream",
     "text": [
      "/home/lars/code/python/context-aware-flow-matching/src/lightning-trainable/src/lightning_trainable/metrics/sinkhorn.py:71: Sinkhorn did not converge. Consider increasing epsilon or number of iterations.\n",
      "/home/lars/code/python/context-aware-flow-matching/src/lightning-trainable/src/lightning_trainable/metrics/sinkhorn.py:71: Sinkhorn did not converge. Consider increasing epsilon or number of iterations.\n",
      "/home/lars/code/python/context-aware-flow-matching/src/lightning-trainable/src/lightning_trainable/metrics/sinkhorn.py:71: Sinkhorn did not converge. Consider increasing epsilon or number of iterations.\n",
      "/home/lars/code/python/context-aware-flow-matching/src/lightning-trainable/src/lightning_trainable/metrics/sinkhorn.py:71: Sinkhorn did not converge. Consider increasing epsilon or number of iterations.\n",
      "/home/lars/code/python/context-aware-flow-matching/src/lightning-trainable/src/lightning_trainable/metrics/sinkhorn.py:71: Sinkhorn did not converge. Consider increasing epsilon or number of iterations.\n",
      "/home/lars/code/python/context-aware-flow-matching/src/lightning-trainable/src/lightning_trainable/metrics/sinkhorn.py:71: Sinkhorn did not converge. Consider increasing epsilon or number of iterations.\n",
      "/home/lars/code/python/context-aware-flow-matching/src/lightning-trainable/src/lightning_trainable/metrics/sinkhorn.py:71: Sinkhorn did not converge. Consider increasing epsilon or number of iterations.\n",
      "/home/lars/code/python/context-aware-flow-matching/src/lightning-trainable/src/lightning_trainable/metrics/sinkhorn.py:71: Sinkhorn did not converge. Consider increasing epsilon or number of iterations.\n",
      "/home/lars/code/python/context-aware-flow-matching/src/lightning-trainable/src/lightning_trainable/metrics/sinkhorn.py:71: Sinkhorn did not converge. Consider increasing epsilon or number of iterations.\n",
      "/home/lars/code/python/context-aware-flow-matching/src/lightning-trainable/src/lightning_trainable/metrics/sinkhorn.py:71: Sinkhorn did not converge. Consider increasing epsilon or number of iterations.\n",
      "/home/lars/code/python/context-aware-flow-matching/src/lightning-trainable/src/lightning_trainable/metrics/sinkhorn.py:71: Sinkhorn did not converge. Consider increasing epsilon or number of iterations.\n",
      "/home/lars/code/python/context-aware-flow-matching/src/lightning-trainable/src/lightning_trainable/metrics/sinkhorn.py:71: Sinkhorn did not converge. Consider increasing epsilon or number of iterations.\n",
      "/home/lars/code/python/context-aware-flow-matching/src/lightning-trainable/src/lightning_trainable/metrics/sinkhorn.py:71: Sinkhorn did not converge. Consider increasing epsilon or number of iterations.\n",
      "/home/lars/code/python/context-aware-flow-matching/src/lightning-trainable/src/lightning_trainable/metrics/sinkhorn.py:71: Sinkhorn did not converge. Consider increasing epsilon or number of iterations.\n",
      "/home/lars/code/python/context-aware-flow-matching/src/lightning-trainable/src/lightning_trainable/metrics/sinkhorn.py:71: Sinkhorn did not converge. Consider increasing epsilon or number of iterations.\n",
      "/home/lars/code/python/context-aware-flow-matching/src/lightning-trainable/src/lightning_trainable/metrics/sinkhorn.py:71: Sinkhorn did not converge. Consider increasing epsilon or number of iterations.\n",
      "/home/lars/code/python/context-aware-flow-matching/src/lightning-trainable/src/lightning_trainable/metrics/sinkhorn.py:71: Sinkhorn did not converge. Consider increasing epsilon or number of iterations.\n",
      "/home/lars/code/python/context-aware-flow-matching/src/lightning-trainable/src/lightning_trainable/metrics/sinkhorn.py:71: Sinkhorn did not converge. Consider increasing epsilon or number of iterations.\n"
     ]
    },
    {
     "data": {
      "text/plain": "Validation: |          | 0/? [00:00<?, ?it/s]",
      "application/vnd.jupyter.widget-view+json": {
       "version_major": 2,
       "version_minor": 0,
       "model_id": "d7a0b69c67934da0a5ec0ffade67fe37"
      }
     },
     "metadata": {},
     "output_type": "display_data"
    },
    {
     "name": "stderr",
     "output_type": "stream",
     "text": [
      "/home/lars/code/python/context-aware-flow-matching/src/lightning-trainable/src/lightning_trainable/metrics/sinkhorn.py:71: Sinkhorn did not converge. Consider increasing epsilon or number of iterations.\n",
      "/home/lars/code/python/context-aware-flow-matching/src/lightning-trainable/src/lightning_trainable/metrics/sinkhorn.py:71: Sinkhorn did not converge. Consider increasing epsilon or number of iterations.\n",
      "/home/lars/code/python/context-aware-flow-matching/src/lightning-trainable/src/lightning_trainable/metrics/sinkhorn.py:71: Sinkhorn did not converge. Consider increasing epsilon or number of iterations.\n",
      "/home/lars/code/python/context-aware-flow-matching/src/lightning-trainable/src/lightning_trainable/metrics/sinkhorn.py:71: Sinkhorn did not converge. Consider increasing epsilon or number of iterations.\n",
      "/home/lars/code/python/context-aware-flow-matching/src/lightning-trainable/src/lightning_trainable/metrics/sinkhorn.py:71: Sinkhorn did not converge. Consider increasing epsilon or number of iterations.\n",
      "/home/lars/code/python/context-aware-flow-matching/src/lightning-trainable/src/lightning_trainable/metrics/sinkhorn.py:71: Sinkhorn did not converge. Consider increasing epsilon or number of iterations.\n",
      "/home/lars/code/python/context-aware-flow-matching/src/lightning-trainable/src/lightning_trainable/metrics/sinkhorn.py:71: Sinkhorn did not converge. Consider increasing epsilon or number of iterations.\n",
      "/home/lars/code/python/context-aware-flow-matching/src/lightning-trainable/src/lightning_trainable/metrics/sinkhorn.py:71: Sinkhorn did not converge. Consider increasing epsilon or number of iterations.\n",
      "/home/lars/code/python/context-aware-flow-matching/src/lightning-trainable/src/lightning_trainable/metrics/sinkhorn.py:71: Sinkhorn did not converge. Consider increasing epsilon or number of iterations.\n",
      "/home/lars/code/python/context-aware-flow-matching/src/lightning-trainable/src/lightning_trainable/metrics/sinkhorn.py:71: Sinkhorn did not converge. Consider increasing epsilon or number of iterations.\n",
      "/home/lars/code/python/context-aware-flow-matching/src/lightning-trainable/src/lightning_trainable/metrics/sinkhorn.py:71: Sinkhorn did not converge. Consider increasing epsilon or number of iterations.\n",
      "/home/lars/code/python/context-aware-flow-matching/src/lightning-trainable/src/lightning_trainable/metrics/sinkhorn.py:71: Sinkhorn did not converge. Consider increasing epsilon or number of iterations.\n",
      "/home/lars/code/python/context-aware-flow-matching/src/lightning-trainable/src/lightning_trainable/metrics/sinkhorn.py:71: Sinkhorn did not converge. Consider increasing epsilon or number of iterations.\n",
      "/home/lars/code/python/context-aware-flow-matching/src/lightning-trainable/src/lightning_trainable/metrics/sinkhorn.py:71: Sinkhorn did not converge. Consider increasing epsilon or number of iterations.\n",
      "/home/lars/code/python/context-aware-flow-matching/src/lightning-trainable/src/lightning_trainable/metrics/sinkhorn.py:71: Sinkhorn did not converge. Consider increasing epsilon or number of iterations.\n",
      "/home/lars/code/python/context-aware-flow-matching/src/lightning-trainable/src/lightning_trainable/metrics/sinkhorn.py:71: Sinkhorn did not converge. Consider increasing epsilon or number of iterations.\n",
      "/home/lars/code/python/context-aware-flow-matching/src/lightning-trainable/src/lightning_trainable/metrics/sinkhorn.py:71: Sinkhorn did not converge. Consider increasing epsilon or number of iterations.\n",
      "/home/lars/code/python/context-aware-flow-matching/src/lightning-trainable/src/lightning_trainable/metrics/sinkhorn.py:71: Sinkhorn did not converge. Consider increasing epsilon or number of iterations.\n"
     ]
    },
    {
     "data": {
      "text/plain": "Validation: |          | 0/? [00:00<?, ?it/s]",
      "application/vnd.jupyter.widget-view+json": {
       "version_major": 2,
       "version_minor": 0,
       "model_id": "c33ffee5d30d497797948050c2f67502"
      }
     },
     "metadata": {},
     "output_type": "display_data"
    },
    {
     "name": "stderr",
     "output_type": "stream",
     "text": [
      "/home/lars/code/python/context-aware-flow-matching/src/lightning-trainable/src/lightning_trainable/metrics/sinkhorn.py:71: Sinkhorn did not converge. Consider increasing epsilon or number of iterations.\n",
      "/home/lars/code/python/context-aware-flow-matching/src/lightning-trainable/src/lightning_trainable/metrics/sinkhorn.py:71: Sinkhorn did not converge. Consider increasing epsilon or number of iterations.\n",
      "/home/lars/code/python/context-aware-flow-matching/src/lightning-trainable/src/lightning_trainable/metrics/sinkhorn.py:71: Sinkhorn did not converge. Consider increasing epsilon or number of iterations.\n",
      "/home/lars/code/python/context-aware-flow-matching/src/lightning-trainable/src/lightning_trainable/metrics/sinkhorn.py:71: Sinkhorn did not converge. Consider increasing epsilon or number of iterations.\n",
      "/home/lars/code/python/context-aware-flow-matching/src/lightning-trainable/src/lightning_trainable/metrics/sinkhorn.py:71: Sinkhorn did not converge. Consider increasing epsilon or number of iterations.\n",
      "/home/lars/code/python/context-aware-flow-matching/src/lightning-trainable/src/lightning_trainable/metrics/sinkhorn.py:71: Sinkhorn did not converge. Consider increasing epsilon or number of iterations.\n",
      "/home/lars/code/python/context-aware-flow-matching/src/lightning-trainable/src/lightning_trainable/metrics/sinkhorn.py:71: Sinkhorn did not converge. Consider increasing epsilon or number of iterations.\n",
      "/home/lars/code/python/context-aware-flow-matching/src/lightning-trainable/src/lightning_trainable/metrics/sinkhorn.py:71: Sinkhorn did not converge. Consider increasing epsilon or number of iterations.\n",
      "/home/lars/code/python/context-aware-flow-matching/src/lightning-trainable/src/lightning_trainable/metrics/sinkhorn.py:71: Sinkhorn did not converge. Consider increasing epsilon or number of iterations.\n",
      "/home/lars/code/python/context-aware-flow-matching/src/lightning-trainable/src/lightning_trainable/metrics/sinkhorn.py:71: Sinkhorn did not converge. Consider increasing epsilon or number of iterations.\n",
      "/home/lars/code/python/context-aware-flow-matching/src/lightning-trainable/src/lightning_trainable/metrics/sinkhorn.py:71: Sinkhorn did not converge. Consider increasing epsilon or number of iterations.\n",
      "/home/lars/code/python/context-aware-flow-matching/src/lightning-trainable/src/lightning_trainable/metrics/sinkhorn.py:71: Sinkhorn did not converge. Consider increasing epsilon or number of iterations.\n",
      "/home/lars/code/python/context-aware-flow-matching/src/lightning-trainable/src/lightning_trainable/metrics/sinkhorn.py:71: Sinkhorn did not converge. Consider increasing epsilon or number of iterations.\n",
      "/home/lars/code/python/context-aware-flow-matching/src/lightning-trainable/src/lightning_trainable/metrics/sinkhorn.py:71: Sinkhorn did not converge. Consider increasing epsilon or number of iterations.\n",
      "/home/lars/code/python/context-aware-flow-matching/src/lightning-trainable/src/lightning_trainable/metrics/sinkhorn.py:71: Sinkhorn did not converge. Consider increasing epsilon or number of iterations.\n",
      "/home/lars/code/python/context-aware-flow-matching/src/lightning-trainable/src/lightning_trainable/metrics/sinkhorn.py:71: Sinkhorn did not converge. Consider increasing epsilon or number of iterations.\n",
      "/home/lars/code/python/context-aware-flow-matching/src/lightning-trainable/src/lightning_trainable/metrics/sinkhorn.py:71: Sinkhorn did not converge. Consider increasing epsilon or number of iterations.\n",
      "/home/lars/code/python/context-aware-flow-matching/src/lightning-trainable/src/lightning_trainable/metrics/sinkhorn.py:71: Sinkhorn did not converge. Consider increasing epsilon or number of iterations.\n"
     ]
    },
    {
     "data": {
      "text/plain": "Validation: |          | 0/? [00:00<?, ?it/s]",
      "application/vnd.jupyter.widget-view+json": {
       "version_major": 2,
       "version_minor": 0,
       "model_id": "632ded47d2d04f34bba491ad5231eeaf"
      }
     },
     "metadata": {},
     "output_type": "display_data"
    },
    {
     "name": "stderr",
     "output_type": "stream",
     "text": [
      "/home/lars/code/python/context-aware-flow-matching/src/lightning-trainable/src/lightning_trainable/metrics/sinkhorn.py:71: Sinkhorn did not converge. Consider increasing epsilon or number of iterations.\n",
      "/home/lars/code/python/context-aware-flow-matching/src/lightning-trainable/src/lightning_trainable/metrics/sinkhorn.py:71: Sinkhorn did not converge. Consider increasing epsilon or number of iterations.\n",
      "/home/lars/code/python/context-aware-flow-matching/src/lightning-trainable/src/lightning_trainable/metrics/sinkhorn.py:71: Sinkhorn did not converge. Consider increasing epsilon or number of iterations.\n",
      "/home/lars/code/python/context-aware-flow-matching/src/lightning-trainable/src/lightning_trainable/metrics/sinkhorn.py:71: Sinkhorn did not converge. Consider increasing epsilon or number of iterations.\n",
      "/home/lars/code/python/context-aware-flow-matching/src/lightning-trainable/src/lightning_trainable/metrics/sinkhorn.py:71: Sinkhorn did not converge. Consider increasing epsilon or number of iterations.\n",
      "/home/lars/code/python/context-aware-flow-matching/src/lightning-trainable/src/lightning_trainable/metrics/sinkhorn.py:71: Sinkhorn did not converge. Consider increasing epsilon or number of iterations.\n",
      "/home/lars/code/python/context-aware-flow-matching/src/lightning-trainable/src/lightning_trainable/metrics/sinkhorn.py:71: Sinkhorn did not converge. Consider increasing epsilon or number of iterations.\n",
      "/home/lars/code/python/context-aware-flow-matching/src/lightning-trainable/src/lightning_trainable/metrics/sinkhorn.py:71: Sinkhorn did not converge. Consider increasing epsilon or number of iterations.\n",
      "/home/lars/code/python/context-aware-flow-matching/src/lightning-trainable/src/lightning_trainable/metrics/sinkhorn.py:71: Sinkhorn did not converge. Consider increasing epsilon or number of iterations.\n",
      "/home/lars/code/python/context-aware-flow-matching/src/lightning-trainable/src/lightning_trainable/metrics/sinkhorn.py:71: Sinkhorn did not converge. Consider increasing epsilon or number of iterations.\n",
      "/home/lars/code/python/context-aware-flow-matching/src/lightning-trainable/src/lightning_trainable/metrics/sinkhorn.py:71: Sinkhorn did not converge. Consider increasing epsilon or number of iterations.\n",
      "/home/lars/code/python/context-aware-flow-matching/src/lightning-trainable/src/lightning_trainable/metrics/sinkhorn.py:71: Sinkhorn did not converge. Consider increasing epsilon or number of iterations.\n",
      "/home/lars/code/python/context-aware-flow-matching/src/lightning-trainable/src/lightning_trainable/metrics/sinkhorn.py:71: Sinkhorn did not converge. Consider increasing epsilon or number of iterations.\n",
      "/home/lars/code/python/context-aware-flow-matching/src/lightning-trainable/src/lightning_trainable/metrics/sinkhorn.py:71: Sinkhorn did not converge. Consider increasing epsilon or number of iterations.\n",
      "/home/lars/code/python/context-aware-flow-matching/src/lightning-trainable/src/lightning_trainable/metrics/sinkhorn.py:71: Sinkhorn did not converge. Consider increasing epsilon or number of iterations.\n",
      "/home/lars/code/python/context-aware-flow-matching/src/lightning-trainable/src/lightning_trainable/metrics/sinkhorn.py:71: Sinkhorn did not converge. Consider increasing epsilon or number of iterations.\n",
      "/home/lars/code/python/context-aware-flow-matching/src/lightning-trainable/src/lightning_trainable/metrics/sinkhorn.py:71: Sinkhorn did not converge. Consider increasing epsilon or number of iterations.\n",
      "/home/lars/code/python/context-aware-flow-matching/src/lightning-trainable/src/lightning_trainable/metrics/sinkhorn.py:71: Sinkhorn did not converge. Consider increasing epsilon or number of iterations.\n"
     ]
    },
    {
     "data": {
      "text/plain": "Validation: |          | 0/? [00:00<?, ?it/s]",
      "application/vnd.jupyter.widget-view+json": {
       "version_major": 2,
       "version_minor": 0,
       "model_id": "1a75832295fe4c88914438001a465e3e"
      }
     },
     "metadata": {},
     "output_type": "display_data"
    },
    {
     "name": "stderr",
     "output_type": "stream",
     "text": [
      "/home/lars/code/python/context-aware-flow-matching/src/lightning-trainable/src/lightning_trainable/metrics/sinkhorn.py:71: Sinkhorn did not converge. Consider increasing epsilon or number of iterations.\n",
      "/home/lars/code/python/context-aware-flow-matching/src/lightning-trainable/src/lightning_trainable/metrics/sinkhorn.py:71: Sinkhorn did not converge. Consider increasing epsilon or number of iterations.\n",
      "/home/lars/code/python/context-aware-flow-matching/src/lightning-trainable/src/lightning_trainable/metrics/sinkhorn.py:71: Sinkhorn did not converge. Consider increasing epsilon or number of iterations.\n",
      "/home/lars/code/python/context-aware-flow-matching/src/lightning-trainable/src/lightning_trainable/metrics/sinkhorn.py:71: Sinkhorn did not converge. Consider increasing epsilon or number of iterations.\n",
      "/home/lars/code/python/context-aware-flow-matching/src/lightning-trainable/src/lightning_trainable/metrics/sinkhorn.py:71: Sinkhorn did not converge. Consider increasing epsilon or number of iterations.\n",
      "/home/lars/code/python/context-aware-flow-matching/src/lightning-trainable/src/lightning_trainable/metrics/sinkhorn.py:71: Sinkhorn did not converge. Consider increasing epsilon or number of iterations.\n",
      "/home/lars/code/python/context-aware-flow-matching/src/lightning-trainable/src/lightning_trainable/metrics/sinkhorn.py:71: Sinkhorn did not converge. Consider increasing epsilon or number of iterations.\n",
      "/home/lars/code/python/context-aware-flow-matching/src/lightning-trainable/src/lightning_trainable/metrics/sinkhorn.py:71: Sinkhorn did not converge. Consider increasing epsilon or number of iterations.\n",
      "/home/lars/code/python/context-aware-flow-matching/src/lightning-trainable/src/lightning_trainable/metrics/sinkhorn.py:71: Sinkhorn did not converge. Consider increasing epsilon or number of iterations.\n",
      "/home/lars/code/python/context-aware-flow-matching/src/lightning-trainable/src/lightning_trainable/metrics/sinkhorn.py:71: Sinkhorn did not converge. Consider increasing epsilon or number of iterations.\n",
      "/home/lars/code/python/context-aware-flow-matching/src/lightning-trainable/src/lightning_trainable/metrics/sinkhorn.py:71: Sinkhorn did not converge. Consider increasing epsilon or number of iterations.\n",
      "/home/lars/code/python/context-aware-flow-matching/src/lightning-trainable/src/lightning_trainable/metrics/sinkhorn.py:71: Sinkhorn did not converge. Consider increasing epsilon or number of iterations.\n",
      "/home/lars/code/python/context-aware-flow-matching/src/lightning-trainable/src/lightning_trainable/metrics/sinkhorn.py:71: Sinkhorn did not converge. Consider increasing epsilon or number of iterations.\n",
      "/home/lars/code/python/context-aware-flow-matching/src/lightning-trainable/src/lightning_trainable/metrics/sinkhorn.py:71: Sinkhorn did not converge. Consider increasing epsilon or number of iterations.\n",
      "/home/lars/code/python/context-aware-flow-matching/src/lightning-trainable/src/lightning_trainable/metrics/sinkhorn.py:71: Sinkhorn did not converge. Consider increasing epsilon or number of iterations.\n",
      "/home/lars/code/python/context-aware-flow-matching/src/lightning-trainable/src/lightning_trainable/metrics/sinkhorn.py:71: Sinkhorn did not converge. Consider increasing epsilon or number of iterations.\n",
      "/home/lars/code/python/context-aware-flow-matching/src/lightning-trainable/src/lightning_trainable/metrics/sinkhorn.py:71: Sinkhorn did not converge. Consider increasing epsilon or number of iterations.\n",
      "/home/lars/code/python/context-aware-flow-matching/src/lightning-trainable/src/lightning_trainable/metrics/sinkhorn.py:71: Sinkhorn did not converge. Consider increasing epsilon or number of iterations.\n"
     ]
    },
    {
     "data": {
      "text/plain": "Validation: |          | 0/? [00:00<?, ?it/s]",
      "application/vnd.jupyter.widget-view+json": {
       "version_major": 2,
       "version_minor": 0,
       "model_id": "e961044bbad049ca8c1bab4e0ede2144"
      }
     },
     "metadata": {},
     "output_type": "display_data"
    },
    {
     "name": "stderr",
     "output_type": "stream",
     "text": [
      "/home/lars/code/python/context-aware-flow-matching/src/lightning-trainable/src/lightning_trainable/metrics/sinkhorn.py:71: Sinkhorn did not converge. Consider increasing epsilon or number of iterations.\n",
      "/home/lars/code/python/context-aware-flow-matching/src/lightning-trainable/src/lightning_trainable/metrics/sinkhorn.py:71: Sinkhorn did not converge. Consider increasing epsilon or number of iterations.\n",
      "/home/lars/code/python/context-aware-flow-matching/src/lightning-trainable/src/lightning_trainable/metrics/sinkhorn.py:71: Sinkhorn did not converge. Consider increasing epsilon or number of iterations.\n",
      "/home/lars/code/python/context-aware-flow-matching/src/lightning-trainable/src/lightning_trainable/metrics/sinkhorn.py:71: Sinkhorn did not converge. Consider increasing epsilon or number of iterations.\n",
      "/home/lars/code/python/context-aware-flow-matching/src/lightning-trainable/src/lightning_trainable/metrics/sinkhorn.py:71: Sinkhorn did not converge. Consider increasing epsilon or number of iterations.\n",
      "/home/lars/code/python/context-aware-flow-matching/src/lightning-trainable/src/lightning_trainable/metrics/sinkhorn.py:71: Sinkhorn did not converge. Consider increasing epsilon or number of iterations.\n",
      "/home/lars/code/python/context-aware-flow-matching/src/lightning-trainable/src/lightning_trainable/metrics/sinkhorn.py:71: Sinkhorn did not converge. Consider increasing epsilon or number of iterations.\n",
      "/home/lars/code/python/context-aware-flow-matching/src/lightning-trainable/src/lightning_trainable/metrics/sinkhorn.py:71: Sinkhorn did not converge. Consider increasing epsilon or number of iterations.\n",
      "/home/lars/code/python/context-aware-flow-matching/src/lightning-trainable/src/lightning_trainable/metrics/sinkhorn.py:71: Sinkhorn did not converge. Consider increasing epsilon or number of iterations.\n",
      "/home/lars/code/python/context-aware-flow-matching/src/lightning-trainable/src/lightning_trainable/metrics/sinkhorn.py:71: Sinkhorn did not converge. Consider increasing epsilon or number of iterations.\n",
      "/home/lars/code/python/context-aware-flow-matching/src/lightning-trainable/src/lightning_trainable/metrics/sinkhorn.py:71: Sinkhorn did not converge. Consider increasing epsilon or number of iterations.\n",
      "/home/lars/code/python/context-aware-flow-matching/src/lightning-trainable/src/lightning_trainable/metrics/sinkhorn.py:71: Sinkhorn did not converge. Consider increasing epsilon or number of iterations.\n",
      "/home/lars/code/python/context-aware-flow-matching/src/lightning-trainable/src/lightning_trainable/metrics/sinkhorn.py:71: Sinkhorn did not converge. Consider increasing epsilon or number of iterations.\n",
      "/home/lars/code/python/context-aware-flow-matching/src/lightning-trainable/src/lightning_trainable/metrics/sinkhorn.py:71: Sinkhorn did not converge. Consider increasing epsilon or number of iterations.\n",
      "/home/lars/code/python/context-aware-flow-matching/src/lightning-trainable/src/lightning_trainable/metrics/sinkhorn.py:71: Sinkhorn did not converge. Consider increasing epsilon or number of iterations.\n",
      "/home/lars/code/python/context-aware-flow-matching/src/lightning-trainable/src/lightning_trainable/metrics/sinkhorn.py:71: Sinkhorn did not converge. Consider increasing epsilon or number of iterations.\n",
      "/home/lars/code/python/context-aware-flow-matching/src/lightning-trainable/src/lightning_trainable/metrics/sinkhorn.py:71: Sinkhorn did not converge. Consider increasing epsilon or number of iterations.\n",
      "/home/lars/code/python/context-aware-flow-matching/src/lightning-trainable/src/lightning_trainable/metrics/sinkhorn.py:71: Sinkhorn did not converge. Consider increasing epsilon or number of iterations.\n"
     ]
    },
    {
     "data": {
      "text/plain": "Validation: |          | 0/? [00:00<?, ?it/s]",
      "application/vnd.jupyter.widget-view+json": {
       "version_major": 2,
       "version_minor": 0,
       "model_id": "65d5ccb322c1400794a313f892af9d33"
      }
     },
     "metadata": {},
     "output_type": "display_data"
    },
    {
     "name": "stderr",
     "output_type": "stream",
     "text": [
      "/home/lars/code/python/context-aware-flow-matching/src/lightning-trainable/src/lightning_trainable/metrics/sinkhorn.py:71: Sinkhorn did not converge. Consider increasing epsilon or number of iterations.\n",
      "/home/lars/code/python/context-aware-flow-matching/src/lightning-trainable/src/lightning_trainable/metrics/sinkhorn.py:71: Sinkhorn did not converge. Consider increasing epsilon or number of iterations.\n",
      "/home/lars/code/python/context-aware-flow-matching/src/lightning-trainable/src/lightning_trainable/metrics/sinkhorn.py:71: Sinkhorn did not converge. Consider increasing epsilon or number of iterations.\n",
      "/home/lars/code/python/context-aware-flow-matching/src/lightning-trainable/src/lightning_trainable/metrics/sinkhorn.py:71: Sinkhorn did not converge. Consider increasing epsilon or number of iterations.\n",
      "/home/lars/code/python/context-aware-flow-matching/src/lightning-trainable/src/lightning_trainable/metrics/sinkhorn.py:71: Sinkhorn did not converge. Consider increasing epsilon or number of iterations.\n",
      "/home/lars/code/python/context-aware-flow-matching/src/lightning-trainable/src/lightning_trainable/metrics/sinkhorn.py:71: Sinkhorn did not converge. Consider increasing epsilon or number of iterations.\n",
      "/home/lars/code/python/context-aware-flow-matching/src/lightning-trainable/src/lightning_trainable/metrics/sinkhorn.py:71: Sinkhorn did not converge. Consider increasing epsilon or number of iterations.\n",
      "/home/lars/code/python/context-aware-flow-matching/src/lightning-trainable/src/lightning_trainable/metrics/sinkhorn.py:71: Sinkhorn did not converge. Consider increasing epsilon or number of iterations.\n",
      "/home/lars/code/python/context-aware-flow-matching/src/lightning-trainable/src/lightning_trainable/metrics/sinkhorn.py:71: Sinkhorn did not converge. Consider increasing epsilon or number of iterations.\n",
      "/home/lars/code/python/context-aware-flow-matching/src/lightning-trainable/src/lightning_trainable/metrics/sinkhorn.py:71: Sinkhorn did not converge. Consider increasing epsilon or number of iterations.\n",
      "/home/lars/code/python/context-aware-flow-matching/src/lightning-trainable/src/lightning_trainable/metrics/sinkhorn.py:71: Sinkhorn did not converge. Consider increasing epsilon or number of iterations.\n",
      "/home/lars/code/python/context-aware-flow-matching/src/lightning-trainable/src/lightning_trainable/metrics/sinkhorn.py:71: Sinkhorn did not converge. Consider increasing epsilon or number of iterations.\n",
      "/home/lars/code/python/context-aware-flow-matching/src/lightning-trainable/src/lightning_trainable/metrics/sinkhorn.py:71: Sinkhorn did not converge. Consider increasing epsilon or number of iterations.\n",
      "/home/lars/code/python/context-aware-flow-matching/src/lightning-trainable/src/lightning_trainable/metrics/sinkhorn.py:71: Sinkhorn did not converge. Consider increasing epsilon or number of iterations.\n",
      "/home/lars/code/python/context-aware-flow-matching/src/lightning-trainable/src/lightning_trainable/metrics/sinkhorn.py:71: Sinkhorn did not converge. Consider increasing epsilon or number of iterations.\n",
      "/home/lars/code/python/context-aware-flow-matching/src/lightning-trainable/src/lightning_trainable/metrics/sinkhorn.py:71: Sinkhorn did not converge. Consider increasing epsilon or number of iterations.\n",
      "/home/lars/code/python/context-aware-flow-matching/src/lightning-trainable/src/lightning_trainable/metrics/sinkhorn.py:71: Sinkhorn did not converge. Consider increasing epsilon or number of iterations.\n",
      "/home/lars/code/python/context-aware-flow-matching/src/lightning-trainable/src/lightning_trainable/metrics/sinkhorn.py:71: Sinkhorn did not converge. Consider increasing epsilon or number of iterations.\n"
     ]
    },
    {
     "data": {
      "text/plain": "Validation: |          | 0/? [00:00<?, ?it/s]",
      "application/vnd.jupyter.widget-view+json": {
       "version_major": 2,
       "version_minor": 0,
       "model_id": "05c3c56de3fa41489a54b13c0c77aa22"
      }
     },
     "metadata": {},
     "output_type": "display_data"
    },
    {
     "name": "stderr",
     "output_type": "stream",
     "text": [
      "/home/lars/code/python/context-aware-flow-matching/src/lightning-trainable/src/lightning_trainable/metrics/sinkhorn.py:71: Sinkhorn did not converge. Consider increasing epsilon or number of iterations.\n",
      "/home/lars/code/python/context-aware-flow-matching/src/lightning-trainable/src/lightning_trainable/metrics/sinkhorn.py:71: Sinkhorn did not converge. Consider increasing epsilon or number of iterations.\n",
      "/home/lars/code/python/context-aware-flow-matching/src/lightning-trainable/src/lightning_trainable/metrics/sinkhorn.py:71: Sinkhorn did not converge. Consider increasing epsilon or number of iterations.\n",
      "/home/lars/code/python/context-aware-flow-matching/src/lightning-trainable/src/lightning_trainable/metrics/sinkhorn.py:71: Sinkhorn did not converge. Consider increasing epsilon or number of iterations.\n",
      "/home/lars/code/python/context-aware-flow-matching/src/lightning-trainable/src/lightning_trainable/metrics/sinkhorn.py:71: Sinkhorn did not converge. Consider increasing epsilon or number of iterations.\n",
      "/home/lars/code/python/context-aware-flow-matching/src/lightning-trainable/src/lightning_trainable/metrics/sinkhorn.py:71: Sinkhorn did not converge. Consider increasing epsilon or number of iterations.\n",
      "/home/lars/code/python/context-aware-flow-matching/src/lightning-trainable/src/lightning_trainable/metrics/sinkhorn.py:71: Sinkhorn did not converge. Consider increasing epsilon or number of iterations.\n",
      "/home/lars/code/python/context-aware-flow-matching/src/lightning-trainable/src/lightning_trainable/metrics/sinkhorn.py:71: Sinkhorn did not converge. Consider increasing epsilon or number of iterations.\n",
      "/home/lars/code/python/context-aware-flow-matching/src/lightning-trainable/src/lightning_trainable/metrics/sinkhorn.py:71: Sinkhorn did not converge. Consider increasing epsilon or number of iterations.\n",
      "/home/lars/code/python/context-aware-flow-matching/src/lightning-trainable/src/lightning_trainable/metrics/sinkhorn.py:71: Sinkhorn did not converge. Consider increasing epsilon or number of iterations.\n",
      "/home/lars/code/python/context-aware-flow-matching/src/lightning-trainable/src/lightning_trainable/metrics/sinkhorn.py:71: Sinkhorn did not converge. Consider increasing epsilon or number of iterations.\n",
      "/home/lars/code/python/context-aware-flow-matching/src/lightning-trainable/src/lightning_trainable/metrics/sinkhorn.py:71: Sinkhorn did not converge. Consider increasing epsilon or number of iterations.\n",
      "/home/lars/code/python/context-aware-flow-matching/src/lightning-trainable/src/lightning_trainable/metrics/sinkhorn.py:71: Sinkhorn did not converge. Consider increasing epsilon or number of iterations.\n",
      "/home/lars/code/python/context-aware-flow-matching/src/lightning-trainable/src/lightning_trainable/metrics/sinkhorn.py:71: Sinkhorn did not converge. Consider increasing epsilon or number of iterations.\n",
      "/home/lars/code/python/context-aware-flow-matching/src/lightning-trainable/src/lightning_trainable/metrics/sinkhorn.py:71: Sinkhorn did not converge. Consider increasing epsilon or number of iterations.\n",
      "/home/lars/code/python/context-aware-flow-matching/src/lightning-trainable/src/lightning_trainable/metrics/sinkhorn.py:71: Sinkhorn did not converge. Consider increasing epsilon or number of iterations.\n",
      "/home/lars/code/python/context-aware-flow-matching/src/lightning-trainable/src/lightning_trainable/metrics/sinkhorn.py:71: Sinkhorn did not converge. Consider increasing epsilon or number of iterations.\n",
      "/home/lars/code/python/context-aware-flow-matching/src/lightning-trainable/src/lightning_trainable/metrics/sinkhorn.py:71: Sinkhorn did not converge. Consider increasing epsilon or number of iterations.\n"
     ]
    },
    {
     "data": {
      "text/plain": "Validation: |          | 0/? [00:00<?, ?it/s]",
      "application/vnd.jupyter.widget-view+json": {
       "version_major": 2,
       "version_minor": 0,
       "model_id": "deca92547f6c45ed836446c0f097165a"
      }
     },
     "metadata": {},
     "output_type": "display_data"
    },
    {
     "name": "stderr",
     "output_type": "stream",
     "text": [
      "/home/lars/code/python/context-aware-flow-matching/src/lightning-trainable/src/lightning_trainable/metrics/sinkhorn.py:71: Sinkhorn did not converge. Consider increasing epsilon or number of iterations.\n",
      "/home/lars/code/python/context-aware-flow-matching/src/lightning-trainable/src/lightning_trainable/metrics/sinkhorn.py:71: Sinkhorn did not converge. Consider increasing epsilon or number of iterations.\n",
      "/home/lars/code/python/context-aware-flow-matching/src/lightning-trainable/src/lightning_trainable/metrics/sinkhorn.py:71: Sinkhorn did not converge. Consider increasing epsilon or number of iterations.\n",
      "/home/lars/code/python/context-aware-flow-matching/src/lightning-trainable/src/lightning_trainable/metrics/sinkhorn.py:71: Sinkhorn did not converge. Consider increasing epsilon or number of iterations.\n",
      "/home/lars/code/python/context-aware-flow-matching/src/lightning-trainable/src/lightning_trainable/metrics/sinkhorn.py:71: Sinkhorn did not converge. Consider increasing epsilon or number of iterations.\n",
      "/home/lars/code/python/context-aware-flow-matching/src/lightning-trainable/src/lightning_trainable/metrics/sinkhorn.py:71: Sinkhorn did not converge. Consider increasing epsilon or number of iterations.\n",
      "/home/lars/code/python/context-aware-flow-matching/src/lightning-trainable/src/lightning_trainable/metrics/sinkhorn.py:71: Sinkhorn did not converge. Consider increasing epsilon or number of iterations.\n",
      "/home/lars/code/python/context-aware-flow-matching/src/lightning-trainable/src/lightning_trainable/metrics/sinkhorn.py:71: Sinkhorn did not converge. Consider increasing epsilon or number of iterations.\n",
      "/home/lars/code/python/context-aware-flow-matching/src/lightning-trainable/src/lightning_trainable/metrics/sinkhorn.py:71: Sinkhorn did not converge. Consider increasing epsilon or number of iterations.\n",
      "/home/lars/code/python/context-aware-flow-matching/src/lightning-trainable/src/lightning_trainable/metrics/sinkhorn.py:71: Sinkhorn did not converge. Consider increasing epsilon or number of iterations.\n",
      "/home/lars/code/python/context-aware-flow-matching/src/lightning-trainable/src/lightning_trainable/metrics/sinkhorn.py:71: Sinkhorn did not converge. Consider increasing epsilon or number of iterations.\n",
      "/home/lars/code/python/context-aware-flow-matching/src/lightning-trainable/src/lightning_trainable/metrics/sinkhorn.py:71: Sinkhorn did not converge. Consider increasing epsilon or number of iterations.\n",
      "/home/lars/code/python/context-aware-flow-matching/src/lightning-trainable/src/lightning_trainable/metrics/sinkhorn.py:71: Sinkhorn did not converge. Consider increasing epsilon or number of iterations.\n",
      "/home/lars/code/python/context-aware-flow-matching/src/lightning-trainable/src/lightning_trainable/metrics/sinkhorn.py:71: Sinkhorn did not converge. Consider increasing epsilon or number of iterations.\n",
      "/home/lars/code/python/context-aware-flow-matching/src/lightning-trainable/src/lightning_trainable/metrics/sinkhorn.py:71: Sinkhorn did not converge. Consider increasing epsilon or number of iterations.\n",
      "/home/lars/code/python/context-aware-flow-matching/src/lightning-trainable/src/lightning_trainable/metrics/sinkhorn.py:71: Sinkhorn did not converge. Consider increasing epsilon or number of iterations.\n",
      "/home/lars/code/python/context-aware-flow-matching/src/lightning-trainable/src/lightning_trainable/metrics/sinkhorn.py:71: Sinkhorn did not converge. Consider increasing epsilon or number of iterations.\n",
      "/home/lars/code/python/context-aware-flow-matching/src/lightning-trainable/src/lightning_trainable/metrics/sinkhorn.py:71: Sinkhorn did not converge. Consider increasing epsilon or number of iterations.\n"
     ]
    },
    {
     "data": {
      "text/plain": "Validation: |          | 0/? [00:00<?, ?it/s]",
      "application/vnd.jupyter.widget-view+json": {
       "version_major": 2,
       "version_minor": 0,
       "model_id": "9cb834e9986f4b52ac7eacd986d5882a"
      }
     },
     "metadata": {},
     "output_type": "display_data"
    },
    {
     "name": "stderr",
     "output_type": "stream",
     "text": [
      "/home/lars/code/python/context-aware-flow-matching/src/lightning-trainable/src/lightning_trainable/metrics/sinkhorn.py:71: Sinkhorn did not converge. Consider increasing epsilon or number of iterations.\n",
      "/home/lars/code/python/context-aware-flow-matching/src/lightning-trainable/src/lightning_trainable/metrics/sinkhorn.py:71: Sinkhorn did not converge. Consider increasing epsilon or number of iterations.\n",
      "/home/lars/code/python/context-aware-flow-matching/src/lightning-trainable/src/lightning_trainable/metrics/sinkhorn.py:71: Sinkhorn did not converge. Consider increasing epsilon or number of iterations.\n",
      "/home/lars/code/python/context-aware-flow-matching/src/lightning-trainable/src/lightning_trainable/metrics/sinkhorn.py:71: Sinkhorn did not converge. Consider increasing epsilon or number of iterations.\n",
      "/home/lars/code/python/context-aware-flow-matching/src/lightning-trainable/src/lightning_trainable/metrics/sinkhorn.py:71: Sinkhorn did not converge. Consider increasing epsilon or number of iterations.\n",
      "/home/lars/code/python/context-aware-flow-matching/src/lightning-trainable/src/lightning_trainable/metrics/sinkhorn.py:71: Sinkhorn did not converge. Consider increasing epsilon or number of iterations.\n",
      "/home/lars/code/python/context-aware-flow-matching/src/lightning-trainable/src/lightning_trainable/metrics/sinkhorn.py:71: Sinkhorn did not converge. Consider increasing epsilon or number of iterations.\n",
      "/home/lars/code/python/context-aware-flow-matching/src/lightning-trainable/src/lightning_trainable/metrics/sinkhorn.py:71: Sinkhorn did not converge. Consider increasing epsilon or number of iterations.\n",
      "/home/lars/code/python/context-aware-flow-matching/src/lightning-trainable/src/lightning_trainable/metrics/sinkhorn.py:71: Sinkhorn did not converge. Consider increasing epsilon or number of iterations.\n",
      "/home/lars/code/python/context-aware-flow-matching/src/lightning-trainable/src/lightning_trainable/metrics/sinkhorn.py:71: Sinkhorn did not converge. Consider increasing epsilon or number of iterations.\n",
      "/home/lars/code/python/context-aware-flow-matching/src/lightning-trainable/src/lightning_trainable/metrics/sinkhorn.py:71: Sinkhorn did not converge. Consider increasing epsilon or number of iterations.\n",
      "/home/lars/code/python/context-aware-flow-matching/src/lightning-trainable/src/lightning_trainable/metrics/sinkhorn.py:71: Sinkhorn did not converge. Consider increasing epsilon or number of iterations.\n",
      "/home/lars/code/python/context-aware-flow-matching/src/lightning-trainable/src/lightning_trainable/metrics/sinkhorn.py:71: Sinkhorn did not converge. Consider increasing epsilon or number of iterations.\n",
      "/home/lars/code/python/context-aware-flow-matching/src/lightning-trainable/src/lightning_trainable/metrics/sinkhorn.py:71: Sinkhorn did not converge. Consider increasing epsilon or number of iterations.\n",
      "/home/lars/code/python/context-aware-flow-matching/src/lightning-trainable/src/lightning_trainable/metrics/sinkhorn.py:71: Sinkhorn did not converge. Consider increasing epsilon or number of iterations.\n",
      "/home/lars/code/python/context-aware-flow-matching/src/lightning-trainable/src/lightning_trainable/metrics/sinkhorn.py:71: Sinkhorn did not converge. Consider increasing epsilon or number of iterations.\n",
      "/home/lars/code/python/context-aware-flow-matching/src/lightning-trainable/src/lightning_trainable/metrics/sinkhorn.py:71: Sinkhorn did not converge. Consider increasing epsilon or number of iterations.\n",
      "/home/lars/code/python/context-aware-flow-matching/src/lightning-trainable/src/lightning_trainable/metrics/sinkhorn.py:71: Sinkhorn did not converge. Consider increasing epsilon or number of iterations.\n"
     ]
    },
    {
     "data": {
      "text/plain": "Validation: |          | 0/? [00:00<?, ?it/s]",
      "application/vnd.jupyter.widget-view+json": {
       "version_major": 2,
       "version_minor": 0,
       "model_id": "4b46b995035a46218e0148daea379592"
      }
     },
     "metadata": {},
     "output_type": "display_data"
    },
    {
     "name": "stderr",
     "output_type": "stream",
     "text": [
      "/home/lars/code/python/context-aware-flow-matching/src/lightning-trainable/src/lightning_trainable/metrics/sinkhorn.py:71: Sinkhorn did not converge. Consider increasing epsilon or number of iterations.\n",
      "/home/lars/code/python/context-aware-flow-matching/src/lightning-trainable/src/lightning_trainable/metrics/sinkhorn.py:71: Sinkhorn did not converge. Consider increasing epsilon or number of iterations.\n",
      "/home/lars/code/python/context-aware-flow-matching/src/lightning-trainable/src/lightning_trainable/metrics/sinkhorn.py:71: Sinkhorn did not converge. Consider increasing epsilon or number of iterations.\n",
      "/home/lars/code/python/context-aware-flow-matching/src/lightning-trainable/src/lightning_trainable/metrics/sinkhorn.py:71: Sinkhorn did not converge. Consider increasing epsilon or number of iterations.\n",
      "/home/lars/code/python/context-aware-flow-matching/src/lightning-trainable/src/lightning_trainable/metrics/sinkhorn.py:71: Sinkhorn did not converge. Consider increasing epsilon or number of iterations.\n",
      "/home/lars/code/python/context-aware-flow-matching/src/lightning-trainable/src/lightning_trainable/metrics/sinkhorn.py:71: Sinkhorn did not converge. Consider increasing epsilon or number of iterations.\n",
      "/home/lars/code/python/context-aware-flow-matching/src/lightning-trainable/src/lightning_trainable/metrics/sinkhorn.py:71: Sinkhorn did not converge. Consider increasing epsilon or number of iterations.\n",
      "/home/lars/code/python/context-aware-flow-matching/src/lightning-trainable/src/lightning_trainable/metrics/sinkhorn.py:71: Sinkhorn did not converge. Consider increasing epsilon or number of iterations.\n",
      "/home/lars/code/python/context-aware-flow-matching/src/lightning-trainable/src/lightning_trainable/metrics/sinkhorn.py:71: Sinkhorn did not converge. Consider increasing epsilon or number of iterations.\n",
      "/home/lars/code/python/context-aware-flow-matching/src/lightning-trainable/src/lightning_trainable/metrics/sinkhorn.py:71: Sinkhorn did not converge. Consider increasing epsilon or number of iterations.\n",
      "/home/lars/code/python/context-aware-flow-matching/src/lightning-trainable/src/lightning_trainable/metrics/sinkhorn.py:71: Sinkhorn did not converge. Consider increasing epsilon or number of iterations.\n",
      "/home/lars/code/python/context-aware-flow-matching/src/lightning-trainable/src/lightning_trainable/metrics/sinkhorn.py:71: Sinkhorn did not converge. Consider increasing epsilon or number of iterations.\n",
      "/home/lars/code/python/context-aware-flow-matching/src/lightning-trainable/src/lightning_trainable/metrics/sinkhorn.py:71: Sinkhorn did not converge. Consider increasing epsilon or number of iterations.\n",
      "/home/lars/code/python/context-aware-flow-matching/src/lightning-trainable/src/lightning_trainable/metrics/sinkhorn.py:71: Sinkhorn did not converge. Consider increasing epsilon or number of iterations.\n",
      "/home/lars/code/python/context-aware-flow-matching/src/lightning-trainable/src/lightning_trainable/metrics/sinkhorn.py:71: Sinkhorn did not converge. Consider increasing epsilon or number of iterations.\n",
      "/home/lars/code/python/context-aware-flow-matching/src/lightning-trainable/src/lightning_trainable/metrics/sinkhorn.py:71: Sinkhorn did not converge. Consider increasing epsilon or number of iterations.\n",
      "/home/lars/code/python/context-aware-flow-matching/src/lightning-trainable/src/lightning_trainable/metrics/sinkhorn.py:71: Sinkhorn did not converge. Consider increasing epsilon or number of iterations.\n",
      "/home/lars/code/python/context-aware-flow-matching/src/lightning-trainable/src/lightning_trainable/metrics/sinkhorn.py:71: Sinkhorn did not converge. Consider increasing epsilon or number of iterations.\n"
     ]
    },
    {
     "data": {
      "text/plain": "Validation: |          | 0/? [00:00<?, ?it/s]",
      "application/vnd.jupyter.widget-view+json": {
       "version_major": 2,
       "version_minor": 0,
       "model_id": "adcd74fa34e64e89a47366f6bf8cf11f"
      }
     },
     "metadata": {},
     "output_type": "display_data"
    },
    {
     "name": "stderr",
     "output_type": "stream",
     "text": [
      "/home/lars/code/python/context-aware-flow-matching/src/lightning-trainable/src/lightning_trainable/metrics/sinkhorn.py:71: Sinkhorn did not converge. Consider increasing epsilon or number of iterations.\n",
      "/home/lars/code/python/context-aware-flow-matching/src/lightning-trainable/src/lightning_trainable/metrics/sinkhorn.py:71: Sinkhorn did not converge. Consider increasing epsilon or number of iterations.\n",
      "/home/lars/code/python/context-aware-flow-matching/src/lightning-trainable/src/lightning_trainable/metrics/sinkhorn.py:71: Sinkhorn did not converge. Consider increasing epsilon or number of iterations.\n",
      "/home/lars/code/python/context-aware-flow-matching/src/lightning-trainable/src/lightning_trainable/metrics/sinkhorn.py:71: Sinkhorn did not converge. Consider increasing epsilon or number of iterations.\n",
      "/home/lars/code/python/context-aware-flow-matching/src/lightning-trainable/src/lightning_trainable/metrics/sinkhorn.py:71: Sinkhorn did not converge. Consider increasing epsilon or number of iterations.\n",
      "/home/lars/code/python/context-aware-flow-matching/src/lightning-trainable/src/lightning_trainable/metrics/sinkhorn.py:71: Sinkhorn did not converge. Consider increasing epsilon or number of iterations.\n",
      "/home/lars/code/python/context-aware-flow-matching/src/lightning-trainable/src/lightning_trainable/metrics/sinkhorn.py:71: Sinkhorn did not converge. Consider increasing epsilon or number of iterations.\n",
      "/home/lars/code/python/context-aware-flow-matching/src/lightning-trainable/src/lightning_trainable/metrics/sinkhorn.py:71: Sinkhorn did not converge. Consider increasing epsilon or number of iterations.\n",
      "/home/lars/code/python/context-aware-flow-matching/src/lightning-trainable/src/lightning_trainable/metrics/sinkhorn.py:71: Sinkhorn did not converge. Consider increasing epsilon or number of iterations.\n",
      "/home/lars/code/python/context-aware-flow-matching/src/lightning-trainable/src/lightning_trainable/metrics/sinkhorn.py:71: Sinkhorn did not converge. Consider increasing epsilon or number of iterations.\n",
      "/home/lars/code/python/context-aware-flow-matching/src/lightning-trainable/src/lightning_trainable/metrics/sinkhorn.py:71: Sinkhorn did not converge. Consider increasing epsilon or number of iterations.\n",
      "/home/lars/code/python/context-aware-flow-matching/src/lightning-trainable/src/lightning_trainable/metrics/sinkhorn.py:71: Sinkhorn did not converge. Consider increasing epsilon or number of iterations.\n",
      "/home/lars/code/python/context-aware-flow-matching/src/lightning-trainable/src/lightning_trainable/metrics/sinkhorn.py:71: Sinkhorn did not converge. Consider increasing epsilon or number of iterations.\n",
      "/home/lars/code/python/context-aware-flow-matching/src/lightning-trainable/src/lightning_trainable/metrics/sinkhorn.py:71: Sinkhorn did not converge. Consider increasing epsilon or number of iterations.\n",
      "/home/lars/code/python/context-aware-flow-matching/src/lightning-trainable/src/lightning_trainable/metrics/sinkhorn.py:71: Sinkhorn did not converge. Consider increasing epsilon or number of iterations.\n",
      "/home/lars/code/python/context-aware-flow-matching/src/lightning-trainable/src/lightning_trainable/metrics/sinkhorn.py:71: Sinkhorn did not converge. Consider increasing epsilon or number of iterations.\n",
      "/home/lars/code/python/context-aware-flow-matching/src/lightning-trainable/src/lightning_trainable/metrics/sinkhorn.py:71: Sinkhorn did not converge. Consider increasing epsilon or number of iterations.\n",
      "/home/lars/code/python/context-aware-flow-matching/src/lightning-trainable/src/lightning_trainable/metrics/sinkhorn.py:71: Sinkhorn did not converge. Consider increasing epsilon or number of iterations.\n"
     ]
    },
    {
     "data": {
      "text/plain": "Validation: |          | 0/? [00:00<?, ?it/s]",
      "application/vnd.jupyter.widget-view+json": {
       "version_major": 2,
       "version_minor": 0,
       "model_id": "8e9a1e582f48468d87a175135b28e003"
      }
     },
     "metadata": {},
     "output_type": "display_data"
    },
    {
     "name": "stderr",
     "output_type": "stream",
     "text": [
      "/home/lars/code/python/context-aware-flow-matching/src/lightning-trainable/src/lightning_trainable/metrics/sinkhorn.py:71: Sinkhorn did not converge. Consider increasing epsilon or number of iterations.\n",
      "/home/lars/code/python/context-aware-flow-matching/src/lightning-trainable/src/lightning_trainable/metrics/sinkhorn.py:71: Sinkhorn did not converge. Consider increasing epsilon or number of iterations.\n",
      "/home/lars/code/python/context-aware-flow-matching/src/lightning-trainable/src/lightning_trainable/metrics/sinkhorn.py:71: Sinkhorn did not converge. Consider increasing epsilon or number of iterations.\n",
      "/home/lars/code/python/context-aware-flow-matching/src/lightning-trainable/src/lightning_trainable/metrics/sinkhorn.py:71: Sinkhorn did not converge. Consider increasing epsilon or number of iterations.\n",
      "/home/lars/code/python/context-aware-flow-matching/src/lightning-trainable/src/lightning_trainable/metrics/sinkhorn.py:71: Sinkhorn did not converge. Consider increasing epsilon or number of iterations.\n",
      "/home/lars/code/python/context-aware-flow-matching/src/lightning-trainable/src/lightning_trainable/metrics/sinkhorn.py:71: Sinkhorn did not converge. Consider increasing epsilon or number of iterations.\n",
      "/home/lars/code/python/context-aware-flow-matching/src/lightning-trainable/src/lightning_trainable/metrics/sinkhorn.py:71: Sinkhorn did not converge. Consider increasing epsilon or number of iterations.\n",
      "/home/lars/code/python/context-aware-flow-matching/src/lightning-trainable/src/lightning_trainable/metrics/sinkhorn.py:71: Sinkhorn did not converge. Consider increasing epsilon or number of iterations.\n",
      "/home/lars/code/python/context-aware-flow-matching/src/lightning-trainable/src/lightning_trainable/metrics/sinkhorn.py:71: Sinkhorn did not converge. Consider increasing epsilon or number of iterations.\n",
      "/home/lars/code/python/context-aware-flow-matching/src/lightning-trainable/src/lightning_trainable/metrics/sinkhorn.py:71: Sinkhorn did not converge. Consider increasing epsilon or number of iterations.\n",
      "/home/lars/code/python/context-aware-flow-matching/src/lightning-trainable/src/lightning_trainable/metrics/sinkhorn.py:71: Sinkhorn did not converge. Consider increasing epsilon or number of iterations.\n",
      "/home/lars/code/python/context-aware-flow-matching/src/lightning-trainable/src/lightning_trainable/metrics/sinkhorn.py:71: Sinkhorn did not converge. Consider increasing epsilon or number of iterations.\n",
      "/home/lars/code/python/context-aware-flow-matching/src/lightning-trainable/src/lightning_trainable/metrics/sinkhorn.py:71: Sinkhorn did not converge. Consider increasing epsilon or number of iterations.\n",
      "/home/lars/code/python/context-aware-flow-matching/src/lightning-trainable/src/lightning_trainable/metrics/sinkhorn.py:71: Sinkhorn did not converge. Consider increasing epsilon or number of iterations.\n",
      "/home/lars/code/python/context-aware-flow-matching/src/lightning-trainable/src/lightning_trainable/metrics/sinkhorn.py:71: Sinkhorn did not converge. Consider increasing epsilon or number of iterations.\n",
      "/home/lars/code/python/context-aware-flow-matching/src/lightning-trainable/src/lightning_trainable/metrics/sinkhorn.py:71: Sinkhorn did not converge. Consider increasing epsilon or number of iterations.\n",
      "/home/lars/code/python/context-aware-flow-matching/src/lightning-trainable/src/lightning_trainable/metrics/sinkhorn.py:71: Sinkhorn did not converge. Consider increasing epsilon or number of iterations.\n",
      "/home/lars/code/python/context-aware-flow-matching/src/lightning-trainable/src/lightning_trainable/metrics/sinkhorn.py:71: Sinkhorn did not converge. Consider increasing epsilon or number of iterations.\n"
     ]
    },
    {
     "data": {
      "text/plain": "Validation: |          | 0/? [00:00<?, ?it/s]",
      "application/vnd.jupyter.widget-view+json": {
       "version_major": 2,
       "version_minor": 0,
       "model_id": "a6009c3997854829b656a21d92ece356"
      }
     },
     "metadata": {},
     "output_type": "display_data"
    },
    {
     "name": "stderr",
     "output_type": "stream",
     "text": [
      "/home/lars/code/python/context-aware-flow-matching/src/lightning-trainable/src/lightning_trainable/metrics/sinkhorn.py:71: Sinkhorn did not converge. Consider increasing epsilon or number of iterations.\n",
      "/home/lars/code/python/context-aware-flow-matching/src/lightning-trainable/src/lightning_trainable/metrics/sinkhorn.py:71: Sinkhorn did not converge. Consider increasing epsilon or number of iterations.\n",
      "/home/lars/code/python/context-aware-flow-matching/src/lightning-trainable/src/lightning_trainable/metrics/sinkhorn.py:71: Sinkhorn did not converge. Consider increasing epsilon or number of iterations.\n",
      "/home/lars/code/python/context-aware-flow-matching/src/lightning-trainable/src/lightning_trainable/metrics/sinkhorn.py:71: Sinkhorn did not converge. Consider increasing epsilon or number of iterations.\n",
      "/home/lars/code/python/context-aware-flow-matching/src/lightning-trainable/src/lightning_trainable/metrics/sinkhorn.py:71: Sinkhorn did not converge. Consider increasing epsilon or number of iterations.\n",
      "/home/lars/code/python/context-aware-flow-matching/src/lightning-trainable/src/lightning_trainable/metrics/sinkhorn.py:71: Sinkhorn did not converge. Consider increasing epsilon or number of iterations.\n",
      "/home/lars/code/python/context-aware-flow-matching/src/lightning-trainable/src/lightning_trainable/metrics/sinkhorn.py:71: Sinkhorn did not converge. Consider increasing epsilon or number of iterations.\n",
      "/home/lars/code/python/context-aware-flow-matching/src/lightning-trainable/src/lightning_trainable/metrics/sinkhorn.py:71: Sinkhorn did not converge. Consider increasing epsilon or number of iterations.\n",
      "/home/lars/code/python/context-aware-flow-matching/src/lightning-trainable/src/lightning_trainable/metrics/sinkhorn.py:71: Sinkhorn did not converge. Consider increasing epsilon or number of iterations.\n",
      "/home/lars/code/python/context-aware-flow-matching/src/lightning-trainable/src/lightning_trainable/metrics/sinkhorn.py:71: Sinkhorn did not converge. Consider increasing epsilon or number of iterations.\n",
      "/home/lars/code/python/context-aware-flow-matching/src/lightning-trainable/src/lightning_trainable/metrics/sinkhorn.py:71: Sinkhorn did not converge. Consider increasing epsilon or number of iterations.\n",
      "/home/lars/code/python/context-aware-flow-matching/src/lightning-trainable/src/lightning_trainable/metrics/sinkhorn.py:71: Sinkhorn did not converge. Consider increasing epsilon or number of iterations.\n",
      "/home/lars/code/python/context-aware-flow-matching/src/lightning-trainable/src/lightning_trainable/metrics/sinkhorn.py:71: Sinkhorn did not converge. Consider increasing epsilon or number of iterations.\n",
      "/home/lars/code/python/context-aware-flow-matching/src/lightning-trainable/src/lightning_trainable/metrics/sinkhorn.py:71: Sinkhorn did not converge. Consider increasing epsilon or number of iterations.\n",
      "/home/lars/code/python/context-aware-flow-matching/src/lightning-trainable/src/lightning_trainable/metrics/sinkhorn.py:71: Sinkhorn did not converge. Consider increasing epsilon or number of iterations.\n",
      "/home/lars/code/python/context-aware-flow-matching/src/lightning-trainable/src/lightning_trainable/metrics/sinkhorn.py:71: Sinkhorn did not converge. Consider increasing epsilon or number of iterations.\n",
      "/home/lars/code/python/context-aware-flow-matching/src/lightning-trainable/src/lightning_trainable/metrics/sinkhorn.py:71: Sinkhorn did not converge. Consider increasing epsilon or number of iterations.\n",
      "/home/lars/code/python/context-aware-flow-matching/src/lightning-trainable/src/lightning_trainable/metrics/sinkhorn.py:71: Sinkhorn did not converge. Consider increasing epsilon or number of iterations.\n"
     ]
    },
    {
     "data": {
      "text/plain": "Validation: |          | 0/? [00:00<?, ?it/s]",
      "application/vnd.jupyter.widget-view+json": {
       "version_major": 2,
       "version_minor": 0,
       "model_id": "f24d0db8561f400598c32bc9a28119ca"
      }
     },
     "metadata": {},
     "output_type": "display_data"
    },
    {
     "name": "stderr",
     "output_type": "stream",
     "text": [
      "/home/lars/code/python/context-aware-flow-matching/src/lightning-trainable/src/lightning_trainable/metrics/sinkhorn.py:71: Sinkhorn did not converge. Consider increasing epsilon or number of iterations.\n",
      "/home/lars/code/python/context-aware-flow-matching/src/lightning-trainable/src/lightning_trainable/metrics/sinkhorn.py:71: Sinkhorn did not converge. Consider increasing epsilon or number of iterations.\n",
      "/home/lars/code/python/context-aware-flow-matching/src/lightning-trainable/src/lightning_trainable/metrics/sinkhorn.py:71: Sinkhorn did not converge. Consider increasing epsilon or number of iterations.\n",
      "/home/lars/code/python/context-aware-flow-matching/src/lightning-trainable/src/lightning_trainable/metrics/sinkhorn.py:71: Sinkhorn did not converge. Consider increasing epsilon or number of iterations.\n",
      "/home/lars/code/python/context-aware-flow-matching/src/lightning-trainable/src/lightning_trainable/metrics/sinkhorn.py:71: Sinkhorn did not converge. Consider increasing epsilon or number of iterations.\n",
      "/home/lars/code/python/context-aware-flow-matching/src/lightning-trainable/src/lightning_trainable/metrics/sinkhorn.py:71: Sinkhorn did not converge. Consider increasing epsilon or number of iterations.\n",
      "/home/lars/code/python/context-aware-flow-matching/src/lightning-trainable/src/lightning_trainable/metrics/sinkhorn.py:71: Sinkhorn did not converge. Consider increasing epsilon or number of iterations.\n",
      "/home/lars/code/python/context-aware-flow-matching/src/lightning-trainable/src/lightning_trainable/metrics/sinkhorn.py:71: Sinkhorn did not converge. Consider increasing epsilon or number of iterations.\n",
      "/home/lars/code/python/context-aware-flow-matching/src/lightning-trainable/src/lightning_trainable/metrics/sinkhorn.py:71: Sinkhorn did not converge. Consider increasing epsilon or number of iterations.\n",
      "/home/lars/code/python/context-aware-flow-matching/src/lightning-trainable/src/lightning_trainable/metrics/sinkhorn.py:71: Sinkhorn did not converge. Consider increasing epsilon or number of iterations.\n",
      "/home/lars/code/python/context-aware-flow-matching/src/lightning-trainable/src/lightning_trainable/metrics/sinkhorn.py:71: Sinkhorn did not converge. Consider increasing epsilon or number of iterations.\n",
      "/home/lars/code/python/context-aware-flow-matching/src/lightning-trainable/src/lightning_trainable/metrics/sinkhorn.py:71: Sinkhorn did not converge. Consider increasing epsilon or number of iterations.\n",
      "/home/lars/code/python/context-aware-flow-matching/src/lightning-trainable/src/lightning_trainable/metrics/sinkhorn.py:71: Sinkhorn did not converge. Consider increasing epsilon or number of iterations.\n",
      "/home/lars/code/python/context-aware-flow-matching/src/lightning-trainable/src/lightning_trainable/metrics/sinkhorn.py:71: Sinkhorn did not converge. Consider increasing epsilon or number of iterations.\n",
      "/home/lars/code/python/context-aware-flow-matching/src/lightning-trainable/src/lightning_trainable/metrics/sinkhorn.py:71: Sinkhorn did not converge. Consider increasing epsilon or number of iterations.\n",
      "/home/lars/code/python/context-aware-flow-matching/src/lightning-trainable/src/lightning_trainable/metrics/sinkhorn.py:71: Sinkhorn did not converge. Consider increasing epsilon or number of iterations.\n",
      "/home/lars/code/python/context-aware-flow-matching/src/lightning-trainable/src/lightning_trainable/metrics/sinkhorn.py:71: Sinkhorn did not converge. Consider increasing epsilon or number of iterations.\n",
      "/home/lars/code/python/context-aware-flow-matching/src/lightning-trainable/src/lightning_trainable/metrics/sinkhorn.py:71: Sinkhorn did not converge. Consider increasing epsilon or number of iterations.\n"
     ]
    },
    {
     "data": {
      "text/plain": "Validation: |          | 0/? [00:00<?, ?it/s]",
      "application/vnd.jupyter.widget-view+json": {
       "version_major": 2,
       "version_minor": 0,
       "model_id": "69ca4364f89243f6968c999e837be0b9"
      }
     },
     "metadata": {},
     "output_type": "display_data"
    },
    {
     "name": "stderr",
     "output_type": "stream",
     "text": [
      "/home/lars/code/python/context-aware-flow-matching/src/lightning-trainable/src/lightning_trainable/metrics/sinkhorn.py:71: Sinkhorn did not converge. Consider increasing epsilon or number of iterations.\n",
      "/home/lars/code/python/context-aware-flow-matching/src/lightning-trainable/src/lightning_trainable/metrics/sinkhorn.py:71: Sinkhorn did not converge. Consider increasing epsilon or number of iterations.\n",
      "/home/lars/code/python/context-aware-flow-matching/src/lightning-trainable/src/lightning_trainable/metrics/sinkhorn.py:71: Sinkhorn did not converge. Consider increasing epsilon or number of iterations.\n",
      "/home/lars/code/python/context-aware-flow-matching/src/lightning-trainable/src/lightning_trainable/metrics/sinkhorn.py:71: Sinkhorn did not converge. Consider increasing epsilon or number of iterations.\n",
      "/home/lars/code/python/context-aware-flow-matching/src/lightning-trainable/src/lightning_trainable/metrics/sinkhorn.py:71: Sinkhorn did not converge. Consider increasing epsilon or number of iterations.\n",
      "/home/lars/code/python/context-aware-flow-matching/src/lightning-trainable/src/lightning_trainable/metrics/sinkhorn.py:71: Sinkhorn did not converge. Consider increasing epsilon or number of iterations.\n",
      "/home/lars/code/python/context-aware-flow-matching/src/lightning-trainable/src/lightning_trainable/metrics/sinkhorn.py:71: Sinkhorn did not converge. Consider increasing epsilon or number of iterations.\n",
      "/home/lars/code/python/context-aware-flow-matching/src/lightning-trainable/src/lightning_trainable/metrics/sinkhorn.py:71: Sinkhorn did not converge. Consider increasing epsilon or number of iterations.\n",
      "/home/lars/code/python/context-aware-flow-matching/src/lightning-trainable/src/lightning_trainable/metrics/sinkhorn.py:71: Sinkhorn did not converge. Consider increasing epsilon or number of iterations.\n",
      "/home/lars/code/python/context-aware-flow-matching/src/lightning-trainable/src/lightning_trainable/metrics/sinkhorn.py:71: Sinkhorn did not converge. Consider increasing epsilon or number of iterations.\n",
      "/home/lars/code/python/context-aware-flow-matching/src/lightning-trainable/src/lightning_trainable/metrics/sinkhorn.py:71: Sinkhorn did not converge. Consider increasing epsilon or number of iterations.\n",
      "/home/lars/code/python/context-aware-flow-matching/src/lightning-trainable/src/lightning_trainable/metrics/sinkhorn.py:71: Sinkhorn did not converge. Consider increasing epsilon or number of iterations.\n",
      "/home/lars/code/python/context-aware-flow-matching/src/lightning-trainable/src/lightning_trainable/metrics/sinkhorn.py:71: Sinkhorn did not converge. Consider increasing epsilon or number of iterations.\n",
      "/home/lars/code/python/context-aware-flow-matching/src/lightning-trainable/src/lightning_trainable/metrics/sinkhorn.py:71: Sinkhorn did not converge. Consider increasing epsilon or number of iterations.\n",
      "/home/lars/code/python/context-aware-flow-matching/src/lightning-trainable/src/lightning_trainable/metrics/sinkhorn.py:71: Sinkhorn did not converge. Consider increasing epsilon or number of iterations.\n",
      "/home/lars/code/python/context-aware-flow-matching/src/lightning-trainable/src/lightning_trainable/metrics/sinkhorn.py:71: Sinkhorn did not converge. Consider increasing epsilon or number of iterations.\n",
      "/home/lars/code/python/context-aware-flow-matching/src/lightning-trainable/src/lightning_trainable/metrics/sinkhorn.py:71: Sinkhorn did not converge. Consider increasing epsilon or number of iterations.\n",
      "/home/lars/code/python/context-aware-flow-matching/src/lightning-trainable/src/lightning_trainable/metrics/sinkhorn.py:71: Sinkhorn did not converge. Consider increasing epsilon or number of iterations.\n"
     ]
    },
    {
     "data": {
      "text/plain": "Validation: |          | 0/? [00:00<?, ?it/s]",
      "application/vnd.jupyter.widget-view+json": {
       "version_major": 2,
       "version_minor": 0,
       "model_id": "508891bb7d6e44d9a9e67d0003d95894"
      }
     },
     "metadata": {},
     "output_type": "display_data"
    },
    {
     "name": "stderr",
     "output_type": "stream",
     "text": [
      "/home/lars/code/python/context-aware-flow-matching/src/lightning-trainable/src/lightning_trainable/metrics/sinkhorn.py:71: Sinkhorn did not converge. Consider increasing epsilon or number of iterations.\n",
      "/home/lars/code/python/context-aware-flow-matching/src/lightning-trainable/src/lightning_trainable/metrics/sinkhorn.py:71: Sinkhorn did not converge. Consider increasing epsilon or number of iterations.\n",
      "/home/lars/code/python/context-aware-flow-matching/src/lightning-trainable/src/lightning_trainable/metrics/sinkhorn.py:71: Sinkhorn did not converge. Consider increasing epsilon or number of iterations.\n",
      "/home/lars/code/python/context-aware-flow-matching/src/lightning-trainable/src/lightning_trainable/metrics/sinkhorn.py:71: Sinkhorn did not converge. Consider increasing epsilon or number of iterations.\n",
      "/home/lars/code/python/context-aware-flow-matching/src/lightning-trainable/src/lightning_trainable/metrics/sinkhorn.py:71: Sinkhorn did not converge. Consider increasing epsilon or number of iterations.\n",
      "/home/lars/code/python/context-aware-flow-matching/src/lightning-trainable/src/lightning_trainable/metrics/sinkhorn.py:71: Sinkhorn did not converge. Consider increasing epsilon or number of iterations.\n",
      "/home/lars/code/python/context-aware-flow-matching/src/lightning-trainable/src/lightning_trainable/metrics/sinkhorn.py:71: Sinkhorn did not converge. Consider increasing epsilon or number of iterations.\n",
      "/home/lars/code/python/context-aware-flow-matching/src/lightning-trainable/src/lightning_trainable/metrics/sinkhorn.py:71: Sinkhorn did not converge. Consider increasing epsilon or number of iterations.\n",
      "/home/lars/code/python/context-aware-flow-matching/src/lightning-trainable/src/lightning_trainable/metrics/sinkhorn.py:71: Sinkhorn did not converge. Consider increasing epsilon or number of iterations.\n",
      "/home/lars/code/python/context-aware-flow-matching/src/lightning-trainable/src/lightning_trainable/metrics/sinkhorn.py:71: Sinkhorn did not converge. Consider increasing epsilon or number of iterations.\n",
      "/home/lars/code/python/context-aware-flow-matching/src/lightning-trainable/src/lightning_trainable/metrics/sinkhorn.py:71: Sinkhorn did not converge. Consider increasing epsilon or number of iterations.\n",
      "/home/lars/code/python/context-aware-flow-matching/src/lightning-trainable/src/lightning_trainable/metrics/sinkhorn.py:71: Sinkhorn did not converge. Consider increasing epsilon or number of iterations.\n",
      "/home/lars/code/python/context-aware-flow-matching/src/lightning-trainable/src/lightning_trainable/metrics/sinkhorn.py:71: Sinkhorn did not converge. Consider increasing epsilon or number of iterations.\n",
      "/home/lars/code/python/context-aware-flow-matching/src/lightning-trainable/src/lightning_trainable/metrics/sinkhorn.py:71: Sinkhorn did not converge. Consider increasing epsilon or number of iterations.\n",
      "/home/lars/code/python/context-aware-flow-matching/src/lightning-trainable/src/lightning_trainable/metrics/sinkhorn.py:71: Sinkhorn did not converge. Consider increasing epsilon or number of iterations.\n",
      "/home/lars/code/python/context-aware-flow-matching/src/lightning-trainable/src/lightning_trainable/metrics/sinkhorn.py:71: Sinkhorn did not converge. Consider increasing epsilon or number of iterations.\n",
      "/home/lars/code/python/context-aware-flow-matching/src/lightning-trainable/src/lightning_trainable/metrics/sinkhorn.py:71: Sinkhorn did not converge. Consider increasing epsilon or number of iterations.\n",
      "/home/lars/code/python/context-aware-flow-matching/src/lightning-trainable/src/lightning_trainable/metrics/sinkhorn.py:71: Sinkhorn did not converge. Consider increasing epsilon or number of iterations.\n"
     ]
    },
    {
     "data": {
      "text/plain": "Validation: |          | 0/? [00:00<?, ?it/s]",
      "application/vnd.jupyter.widget-view+json": {
       "version_major": 2,
       "version_minor": 0,
       "model_id": "79d088f15c4f44a981f80161b192b870"
      }
     },
     "metadata": {},
     "output_type": "display_data"
    },
    {
     "name": "stderr",
     "output_type": "stream",
     "text": [
      "/home/lars/code/python/context-aware-flow-matching/src/lightning-trainable/src/lightning_trainable/metrics/sinkhorn.py:71: Sinkhorn did not converge. Consider increasing epsilon or number of iterations.\n",
      "/home/lars/code/python/context-aware-flow-matching/src/lightning-trainable/src/lightning_trainable/metrics/sinkhorn.py:71: Sinkhorn did not converge. Consider increasing epsilon or number of iterations.\n",
      "/home/lars/code/python/context-aware-flow-matching/src/lightning-trainable/src/lightning_trainable/metrics/sinkhorn.py:71: Sinkhorn did not converge. Consider increasing epsilon or number of iterations.\n",
      "/home/lars/code/python/context-aware-flow-matching/src/lightning-trainable/src/lightning_trainable/metrics/sinkhorn.py:71: Sinkhorn did not converge. Consider increasing epsilon or number of iterations.\n",
      "/home/lars/code/python/context-aware-flow-matching/src/lightning-trainable/src/lightning_trainable/metrics/sinkhorn.py:71: Sinkhorn did not converge. Consider increasing epsilon or number of iterations.\n",
      "/home/lars/code/python/context-aware-flow-matching/src/lightning-trainable/src/lightning_trainable/metrics/sinkhorn.py:71: Sinkhorn did not converge. Consider increasing epsilon or number of iterations.\n",
      "/home/lars/code/python/context-aware-flow-matching/src/lightning-trainable/src/lightning_trainable/metrics/sinkhorn.py:71: Sinkhorn did not converge. Consider increasing epsilon or number of iterations.\n",
      "/home/lars/code/python/context-aware-flow-matching/src/lightning-trainable/src/lightning_trainable/metrics/sinkhorn.py:71: Sinkhorn did not converge. Consider increasing epsilon or number of iterations.\n",
      "/home/lars/code/python/context-aware-flow-matching/src/lightning-trainable/src/lightning_trainable/metrics/sinkhorn.py:71: Sinkhorn did not converge. Consider increasing epsilon or number of iterations.\n",
      "/home/lars/code/python/context-aware-flow-matching/src/lightning-trainable/src/lightning_trainable/metrics/sinkhorn.py:71: Sinkhorn did not converge. Consider increasing epsilon or number of iterations.\n",
      "/home/lars/code/python/context-aware-flow-matching/src/lightning-trainable/src/lightning_trainable/metrics/sinkhorn.py:71: Sinkhorn did not converge. Consider increasing epsilon or number of iterations.\n",
      "/home/lars/code/python/context-aware-flow-matching/src/lightning-trainable/src/lightning_trainable/metrics/sinkhorn.py:71: Sinkhorn did not converge. Consider increasing epsilon or number of iterations.\n",
      "/home/lars/code/python/context-aware-flow-matching/src/lightning-trainable/src/lightning_trainable/metrics/sinkhorn.py:71: Sinkhorn did not converge. Consider increasing epsilon or number of iterations.\n",
      "/home/lars/code/python/context-aware-flow-matching/src/lightning-trainable/src/lightning_trainable/metrics/sinkhorn.py:71: Sinkhorn did not converge. Consider increasing epsilon or number of iterations.\n",
      "/home/lars/code/python/context-aware-flow-matching/src/lightning-trainable/src/lightning_trainable/metrics/sinkhorn.py:71: Sinkhorn did not converge. Consider increasing epsilon or number of iterations.\n",
      "/home/lars/code/python/context-aware-flow-matching/src/lightning-trainable/src/lightning_trainable/metrics/sinkhorn.py:71: Sinkhorn did not converge. Consider increasing epsilon or number of iterations.\n",
      "/home/lars/code/python/context-aware-flow-matching/src/lightning-trainable/src/lightning_trainable/metrics/sinkhorn.py:71: Sinkhorn did not converge. Consider increasing epsilon or number of iterations.\n",
      "/home/lars/code/python/context-aware-flow-matching/src/lightning-trainable/src/lightning_trainable/metrics/sinkhorn.py:71: Sinkhorn did not converge. Consider increasing epsilon or number of iterations.\n"
     ]
    },
    {
     "data": {
      "text/plain": "Validation: |          | 0/? [00:00<?, ?it/s]",
      "application/vnd.jupyter.widget-view+json": {
       "version_major": 2,
       "version_minor": 0,
       "model_id": "278af0d59094443cb9ac422b3fdc908b"
      }
     },
     "metadata": {},
     "output_type": "display_data"
    },
    {
     "name": "stderr",
     "output_type": "stream",
     "text": [
      "/home/lars/code/python/context-aware-flow-matching/src/lightning-trainable/src/lightning_trainable/metrics/sinkhorn.py:71: Sinkhorn did not converge. Consider increasing epsilon or number of iterations.\n",
      "/home/lars/code/python/context-aware-flow-matching/src/lightning-trainable/src/lightning_trainable/metrics/sinkhorn.py:71: Sinkhorn did not converge. Consider increasing epsilon or number of iterations.\n",
      "/home/lars/code/python/context-aware-flow-matching/src/lightning-trainable/src/lightning_trainable/metrics/sinkhorn.py:71: Sinkhorn did not converge. Consider increasing epsilon or number of iterations.\n",
      "/home/lars/code/python/context-aware-flow-matching/src/lightning-trainable/src/lightning_trainable/metrics/sinkhorn.py:71: Sinkhorn did not converge. Consider increasing epsilon or number of iterations.\n",
      "/home/lars/code/python/context-aware-flow-matching/src/lightning-trainable/src/lightning_trainable/metrics/sinkhorn.py:71: Sinkhorn did not converge. Consider increasing epsilon or number of iterations.\n",
      "/home/lars/code/python/context-aware-flow-matching/src/lightning-trainable/src/lightning_trainable/metrics/sinkhorn.py:71: Sinkhorn did not converge. Consider increasing epsilon or number of iterations.\n",
      "/home/lars/code/python/context-aware-flow-matching/src/lightning-trainable/src/lightning_trainable/metrics/sinkhorn.py:71: Sinkhorn did not converge. Consider increasing epsilon or number of iterations.\n",
      "/home/lars/code/python/context-aware-flow-matching/src/lightning-trainable/src/lightning_trainable/metrics/sinkhorn.py:71: Sinkhorn did not converge. Consider increasing epsilon or number of iterations.\n",
      "/home/lars/code/python/context-aware-flow-matching/src/lightning-trainable/src/lightning_trainable/metrics/sinkhorn.py:71: Sinkhorn did not converge. Consider increasing epsilon or number of iterations.\n",
      "/home/lars/code/python/context-aware-flow-matching/src/lightning-trainable/src/lightning_trainable/metrics/sinkhorn.py:71: Sinkhorn did not converge. Consider increasing epsilon or number of iterations.\n",
      "/home/lars/code/python/context-aware-flow-matching/src/lightning-trainable/src/lightning_trainable/metrics/sinkhorn.py:71: Sinkhorn did not converge. Consider increasing epsilon or number of iterations.\n",
      "/home/lars/code/python/context-aware-flow-matching/src/lightning-trainable/src/lightning_trainable/metrics/sinkhorn.py:71: Sinkhorn did not converge. Consider increasing epsilon or number of iterations.\n",
      "/home/lars/code/python/context-aware-flow-matching/src/lightning-trainable/src/lightning_trainable/metrics/sinkhorn.py:71: Sinkhorn did not converge. Consider increasing epsilon or number of iterations.\n",
      "/home/lars/code/python/context-aware-flow-matching/src/lightning-trainable/src/lightning_trainable/metrics/sinkhorn.py:71: Sinkhorn did not converge. Consider increasing epsilon or number of iterations.\n",
      "/home/lars/code/python/context-aware-flow-matching/src/lightning-trainable/src/lightning_trainable/metrics/sinkhorn.py:71: Sinkhorn did not converge. Consider increasing epsilon or number of iterations.\n",
      "/home/lars/code/python/context-aware-flow-matching/src/lightning-trainable/src/lightning_trainable/metrics/sinkhorn.py:71: Sinkhorn did not converge. Consider increasing epsilon or number of iterations.\n",
      "/home/lars/code/python/context-aware-flow-matching/src/lightning-trainable/src/lightning_trainable/metrics/sinkhorn.py:71: Sinkhorn did not converge. Consider increasing epsilon or number of iterations.\n",
      "/home/lars/code/python/context-aware-flow-matching/src/lightning-trainable/src/lightning_trainable/metrics/sinkhorn.py:71: Sinkhorn did not converge. Consider increasing epsilon or number of iterations.\n"
     ]
    },
    {
     "data": {
      "text/plain": "Validation: |          | 0/? [00:00<?, ?it/s]",
      "application/vnd.jupyter.widget-view+json": {
       "version_major": 2,
       "version_minor": 0,
       "model_id": "2ba8c1a4b59f43b6a5d632ba7ce0df3d"
      }
     },
     "metadata": {},
     "output_type": "display_data"
    },
    {
     "name": "stderr",
     "output_type": "stream",
     "text": [
      "/home/lars/code/python/context-aware-flow-matching/src/lightning-trainable/src/lightning_trainable/metrics/sinkhorn.py:71: Sinkhorn did not converge. Consider increasing epsilon or number of iterations.\n",
      "/home/lars/code/python/context-aware-flow-matching/src/lightning-trainable/src/lightning_trainable/metrics/sinkhorn.py:71: Sinkhorn did not converge. Consider increasing epsilon or number of iterations.\n",
      "/home/lars/code/python/context-aware-flow-matching/src/lightning-trainable/src/lightning_trainable/metrics/sinkhorn.py:71: Sinkhorn did not converge. Consider increasing epsilon or number of iterations.\n",
      "/home/lars/code/python/context-aware-flow-matching/src/lightning-trainable/src/lightning_trainable/metrics/sinkhorn.py:71: Sinkhorn did not converge. Consider increasing epsilon or number of iterations.\n",
      "/home/lars/code/python/context-aware-flow-matching/src/lightning-trainable/src/lightning_trainable/metrics/sinkhorn.py:71: Sinkhorn did not converge. Consider increasing epsilon or number of iterations.\n",
      "/home/lars/code/python/context-aware-flow-matching/src/lightning-trainable/src/lightning_trainable/metrics/sinkhorn.py:71: Sinkhorn did not converge. Consider increasing epsilon or number of iterations.\n",
      "/home/lars/code/python/context-aware-flow-matching/src/lightning-trainable/src/lightning_trainable/metrics/sinkhorn.py:71: Sinkhorn did not converge. Consider increasing epsilon or number of iterations.\n",
      "/home/lars/code/python/context-aware-flow-matching/src/lightning-trainable/src/lightning_trainable/metrics/sinkhorn.py:71: Sinkhorn did not converge. Consider increasing epsilon or number of iterations.\n",
      "/home/lars/code/python/context-aware-flow-matching/src/lightning-trainable/src/lightning_trainable/metrics/sinkhorn.py:71: Sinkhorn did not converge. Consider increasing epsilon or number of iterations.\n",
      "/home/lars/code/python/context-aware-flow-matching/src/lightning-trainable/src/lightning_trainable/metrics/sinkhorn.py:71: Sinkhorn did not converge. Consider increasing epsilon or number of iterations.\n",
      "/home/lars/code/python/context-aware-flow-matching/src/lightning-trainable/src/lightning_trainable/metrics/sinkhorn.py:71: Sinkhorn did not converge. Consider increasing epsilon or number of iterations.\n",
      "/home/lars/code/python/context-aware-flow-matching/src/lightning-trainable/src/lightning_trainable/metrics/sinkhorn.py:71: Sinkhorn did not converge. Consider increasing epsilon or number of iterations.\n",
      "/home/lars/code/python/context-aware-flow-matching/src/lightning-trainable/src/lightning_trainable/metrics/sinkhorn.py:71: Sinkhorn did not converge. Consider increasing epsilon or number of iterations.\n",
      "/home/lars/code/python/context-aware-flow-matching/src/lightning-trainable/src/lightning_trainable/metrics/sinkhorn.py:71: Sinkhorn did not converge. Consider increasing epsilon or number of iterations.\n",
      "/home/lars/code/python/context-aware-flow-matching/src/lightning-trainable/src/lightning_trainable/metrics/sinkhorn.py:71: Sinkhorn did not converge. Consider increasing epsilon or number of iterations.\n",
      "/home/lars/code/python/context-aware-flow-matching/src/lightning-trainable/src/lightning_trainable/metrics/sinkhorn.py:71: Sinkhorn did not converge. Consider increasing epsilon or number of iterations.\n",
      "/home/lars/code/python/context-aware-flow-matching/src/lightning-trainable/src/lightning_trainable/metrics/sinkhorn.py:71: Sinkhorn did not converge. Consider increasing epsilon or number of iterations.\n",
      "/home/lars/code/python/context-aware-flow-matching/src/lightning-trainable/src/lightning_trainable/metrics/sinkhorn.py:71: Sinkhorn did not converge. Consider increasing epsilon or number of iterations.\n"
     ]
    },
    {
     "data": {
      "text/plain": "Validation: |          | 0/? [00:00<?, ?it/s]",
      "application/vnd.jupyter.widget-view+json": {
       "version_major": 2,
       "version_minor": 0,
       "model_id": "5601443fb7324832ae6e088c8ead2f1e"
      }
     },
     "metadata": {},
     "output_type": "display_data"
    },
    {
     "name": "stderr",
     "output_type": "stream",
     "text": [
      "/home/lars/code/python/context-aware-flow-matching/src/lightning-trainable/src/lightning_trainable/metrics/sinkhorn.py:71: Sinkhorn did not converge. Consider increasing epsilon or number of iterations.\n",
      "/home/lars/code/python/context-aware-flow-matching/src/lightning-trainable/src/lightning_trainable/metrics/sinkhorn.py:71: Sinkhorn did not converge. Consider increasing epsilon or number of iterations.\n",
      "/home/lars/code/python/context-aware-flow-matching/src/lightning-trainable/src/lightning_trainable/metrics/sinkhorn.py:71: Sinkhorn did not converge. Consider increasing epsilon or number of iterations.\n",
      "/home/lars/code/python/context-aware-flow-matching/src/lightning-trainable/src/lightning_trainable/metrics/sinkhorn.py:71: Sinkhorn did not converge. Consider increasing epsilon or number of iterations.\n",
      "/home/lars/code/python/context-aware-flow-matching/src/lightning-trainable/src/lightning_trainable/metrics/sinkhorn.py:71: Sinkhorn did not converge. Consider increasing epsilon or number of iterations.\n",
      "/home/lars/code/python/context-aware-flow-matching/src/lightning-trainable/src/lightning_trainable/metrics/sinkhorn.py:71: Sinkhorn did not converge. Consider increasing epsilon or number of iterations.\n",
      "/home/lars/code/python/context-aware-flow-matching/src/lightning-trainable/src/lightning_trainable/metrics/sinkhorn.py:71: Sinkhorn did not converge. Consider increasing epsilon or number of iterations.\n",
      "/home/lars/code/python/context-aware-flow-matching/src/lightning-trainable/src/lightning_trainable/metrics/sinkhorn.py:71: Sinkhorn did not converge. Consider increasing epsilon or number of iterations.\n",
      "/home/lars/code/python/context-aware-flow-matching/src/lightning-trainable/src/lightning_trainable/metrics/sinkhorn.py:71: Sinkhorn did not converge. Consider increasing epsilon or number of iterations.\n",
      "/home/lars/code/python/context-aware-flow-matching/src/lightning-trainable/src/lightning_trainable/metrics/sinkhorn.py:71: Sinkhorn did not converge. Consider increasing epsilon or number of iterations.\n",
      "/home/lars/code/python/context-aware-flow-matching/src/lightning-trainable/src/lightning_trainable/metrics/sinkhorn.py:71: Sinkhorn did not converge. Consider increasing epsilon or number of iterations.\n",
      "/home/lars/code/python/context-aware-flow-matching/src/lightning-trainable/src/lightning_trainable/metrics/sinkhorn.py:71: Sinkhorn did not converge. Consider increasing epsilon or number of iterations.\n",
      "/home/lars/code/python/context-aware-flow-matching/src/lightning-trainable/src/lightning_trainable/metrics/sinkhorn.py:71: Sinkhorn did not converge. Consider increasing epsilon or number of iterations.\n",
      "/home/lars/code/python/context-aware-flow-matching/src/lightning-trainable/src/lightning_trainable/metrics/sinkhorn.py:71: Sinkhorn did not converge. Consider increasing epsilon or number of iterations.\n",
      "/home/lars/code/python/context-aware-flow-matching/src/lightning-trainable/src/lightning_trainable/metrics/sinkhorn.py:71: Sinkhorn did not converge. Consider increasing epsilon or number of iterations.\n",
      "/home/lars/code/python/context-aware-flow-matching/src/lightning-trainable/src/lightning_trainable/metrics/sinkhorn.py:71: Sinkhorn did not converge. Consider increasing epsilon or number of iterations.\n",
      "/home/lars/code/python/context-aware-flow-matching/src/lightning-trainable/src/lightning_trainable/metrics/sinkhorn.py:71: Sinkhorn did not converge. Consider increasing epsilon or number of iterations.\n",
      "/home/lars/code/python/context-aware-flow-matching/src/lightning-trainable/src/lightning_trainable/metrics/sinkhorn.py:71: Sinkhorn did not converge. Consider increasing epsilon or number of iterations.\n"
     ]
    },
    {
     "data": {
      "text/plain": "Validation: |          | 0/? [00:00<?, ?it/s]",
      "application/vnd.jupyter.widget-view+json": {
       "version_major": 2,
       "version_minor": 0,
       "model_id": "61930e9253f74fd79d0a313d1a7b6122"
      }
     },
     "metadata": {},
     "output_type": "display_data"
    },
    {
     "name": "stderr",
     "output_type": "stream",
     "text": [
      "/home/lars/code/python/context-aware-flow-matching/src/lightning-trainable/src/lightning_trainable/metrics/sinkhorn.py:71: Sinkhorn did not converge. Consider increasing epsilon or number of iterations.\n",
      "/home/lars/code/python/context-aware-flow-matching/src/lightning-trainable/src/lightning_trainable/metrics/sinkhorn.py:71: Sinkhorn did not converge. Consider increasing epsilon or number of iterations.\n",
      "/home/lars/code/python/context-aware-flow-matching/src/lightning-trainable/src/lightning_trainable/metrics/sinkhorn.py:71: Sinkhorn did not converge. Consider increasing epsilon or number of iterations.\n",
      "/home/lars/code/python/context-aware-flow-matching/src/lightning-trainable/src/lightning_trainable/metrics/sinkhorn.py:71: Sinkhorn did not converge. Consider increasing epsilon or number of iterations.\n",
      "/home/lars/code/python/context-aware-flow-matching/src/lightning-trainable/src/lightning_trainable/metrics/sinkhorn.py:71: Sinkhorn did not converge. Consider increasing epsilon or number of iterations.\n",
      "/home/lars/code/python/context-aware-flow-matching/src/lightning-trainable/src/lightning_trainable/metrics/sinkhorn.py:71: Sinkhorn did not converge. Consider increasing epsilon or number of iterations.\n",
      "/home/lars/code/python/context-aware-flow-matching/src/lightning-trainable/src/lightning_trainable/metrics/sinkhorn.py:71: Sinkhorn did not converge. Consider increasing epsilon or number of iterations.\n",
      "/home/lars/code/python/context-aware-flow-matching/src/lightning-trainable/src/lightning_trainable/metrics/sinkhorn.py:71: Sinkhorn did not converge. Consider increasing epsilon or number of iterations.\n",
      "/home/lars/code/python/context-aware-flow-matching/src/lightning-trainable/src/lightning_trainable/metrics/sinkhorn.py:71: Sinkhorn did not converge. Consider increasing epsilon or number of iterations.\n",
      "/home/lars/code/python/context-aware-flow-matching/src/lightning-trainable/src/lightning_trainable/metrics/sinkhorn.py:71: Sinkhorn did not converge. Consider increasing epsilon or number of iterations.\n",
      "/home/lars/code/python/context-aware-flow-matching/src/lightning-trainable/src/lightning_trainable/metrics/sinkhorn.py:71: Sinkhorn did not converge. Consider increasing epsilon or number of iterations.\n",
      "/home/lars/code/python/context-aware-flow-matching/src/lightning-trainable/src/lightning_trainable/metrics/sinkhorn.py:71: Sinkhorn did not converge. Consider increasing epsilon or number of iterations.\n",
      "/home/lars/code/python/context-aware-flow-matching/src/lightning-trainable/src/lightning_trainable/metrics/sinkhorn.py:71: Sinkhorn did not converge. Consider increasing epsilon or number of iterations.\n",
      "/home/lars/code/python/context-aware-flow-matching/src/lightning-trainable/src/lightning_trainable/metrics/sinkhorn.py:71: Sinkhorn did not converge. Consider increasing epsilon or number of iterations.\n",
      "/home/lars/code/python/context-aware-flow-matching/src/lightning-trainable/src/lightning_trainable/metrics/sinkhorn.py:71: Sinkhorn did not converge. Consider increasing epsilon or number of iterations.\n",
      "/home/lars/code/python/context-aware-flow-matching/src/lightning-trainable/src/lightning_trainable/metrics/sinkhorn.py:71: Sinkhorn did not converge. Consider increasing epsilon or number of iterations.\n",
      "/home/lars/code/python/context-aware-flow-matching/src/lightning-trainable/src/lightning_trainable/metrics/sinkhorn.py:71: Sinkhorn did not converge. Consider increasing epsilon or number of iterations.\n",
      "/home/lars/code/python/context-aware-flow-matching/src/lightning-trainable/src/lightning_trainable/metrics/sinkhorn.py:71: Sinkhorn did not converge. Consider increasing epsilon or number of iterations.\n"
     ]
    },
    {
     "data": {
      "text/plain": "Validation: |          | 0/? [00:00<?, ?it/s]",
      "application/vnd.jupyter.widget-view+json": {
       "version_major": 2,
       "version_minor": 0,
       "model_id": "23dfe6f96a674e6aa3755b0af26314ad"
      }
     },
     "metadata": {},
     "output_type": "display_data"
    },
    {
     "name": "stderr",
     "output_type": "stream",
     "text": [
      "/home/lars/code/python/context-aware-flow-matching/src/lightning-trainable/src/lightning_trainable/metrics/sinkhorn.py:71: Sinkhorn did not converge. Consider increasing epsilon or number of iterations.\n",
      "/home/lars/code/python/context-aware-flow-matching/src/lightning-trainable/src/lightning_trainable/metrics/sinkhorn.py:71: Sinkhorn did not converge. Consider increasing epsilon or number of iterations.\n",
      "/home/lars/code/python/context-aware-flow-matching/src/lightning-trainable/src/lightning_trainable/metrics/sinkhorn.py:71: Sinkhorn did not converge. Consider increasing epsilon or number of iterations.\n",
      "/home/lars/code/python/context-aware-flow-matching/src/lightning-trainable/src/lightning_trainable/metrics/sinkhorn.py:71: Sinkhorn did not converge. Consider increasing epsilon or number of iterations.\n",
      "/home/lars/code/python/context-aware-flow-matching/src/lightning-trainable/src/lightning_trainable/metrics/sinkhorn.py:71: Sinkhorn did not converge. Consider increasing epsilon or number of iterations.\n",
      "/home/lars/code/python/context-aware-flow-matching/src/lightning-trainable/src/lightning_trainable/metrics/sinkhorn.py:71: Sinkhorn did not converge. Consider increasing epsilon or number of iterations.\n",
      "/home/lars/code/python/context-aware-flow-matching/src/lightning-trainable/src/lightning_trainable/metrics/sinkhorn.py:71: Sinkhorn did not converge. Consider increasing epsilon or number of iterations.\n",
      "/home/lars/code/python/context-aware-flow-matching/src/lightning-trainable/src/lightning_trainable/metrics/sinkhorn.py:71: Sinkhorn did not converge. Consider increasing epsilon or number of iterations.\n",
      "/home/lars/code/python/context-aware-flow-matching/src/lightning-trainable/src/lightning_trainable/metrics/sinkhorn.py:71: Sinkhorn did not converge. Consider increasing epsilon or number of iterations.\n",
      "/home/lars/code/python/context-aware-flow-matching/src/lightning-trainable/src/lightning_trainable/metrics/sinkhorn.py:71: Sinkhorn did not converge. Consider increasing epsilon or number of iterations.\n",
      "/home/lars/code/python/context-aware-flow-matching/src/lightning-trainable/src/lightning_trainable/metrics/sinkhorn.py:71: Sinkhorn did not converge. Consider increasing epsilon or number of iterations.\n",
      "/home/lars/code/python/context-aware-flow-matching/src/lightning-trainable/src/lightning_trainable/metrics/sinkhorn.py:71: Sinkhorn did not converge. Consider increasing epsilon or number of iterations.\n",
      "/home/lars/code/python/context-aware-flow-matching/src/lightning-trainable/src/lightning_trainable/metrics/sinkhorn.py:71: Sinkhorn did not converge. Consider increasing epsilon or number of iterations.\n",
      "/home/lars/code/python/context-aware-flow-matching/src/lightning-trainable/src/lightning_trainable/metrics/sinkhorn.py:71: Sinkhorn did not converge. Consider increasing epsilon or number of iterations.\n",
      "/home/lars/code/python/context-aware-flow-matching/src/lightning-trainable/src/lightning_trainable/metrics/sinkhorn.py:71: Sinkhorn did not converge. Consider increasing epsilon or number of iterations.\n",
      "/home/lars/code/python/context-aware-flow-matching/src/lightning-trainable/src/lightning_trainable/metrics/sinkhorn.py:71: Sinkhorn did not converge. Consider increasing epsilon or number of iterations.\n",
      "/home/lars/code/python/context-aware-flow-matching/src/lightning-trainable/src/lightning_trainable/metrics/sinkhorn.py:71: Sinkhorn did not converge. Consider increasing epsilon or number of iterations.\n",
      "/home/lars/code/python/context-aware-flow-matching/src/lightning-trainable/src/lightning_trainable/metrics/sinkhorn.py:71: Sinkhorn did not converge. Consider increasing epsilon or number of iterations.\n"
     ]
    },
    {
     "data": {
      "text/plain": "Validation: |          | 0/? [00:00<?, ?it/s]",
      "application/vnd.jupyter.widget-view+json": {
       "version_major": 2,
       "version_minor": 0,
       "model_id": "654c0b607e014454bff0ec50fa76c773"
      }
     },
     "metadata": {},
     "output_type": "display_data"
    },
    {
     "name": "stderr",
     "output_type": "stream",
     "text": [
      "/home/lars/code/python/context-aware-flow-matching/src/lightning-trainable/src/lightning_trainable/metrics/sinkhorn.py:71: Sinkhorn did not converge. Consider increasing epsilon or number of iterations.\n",
      "/home/lars/code/python/context-aware-flow-matching/src/lightning-trainable/src/lightning_trainable/metrics/sinkhorn.py:71: Sinkhorn did not converge. Consider increasing epsilon or number of iterations.\n",
      "/home/lars/code/python/context-aware-flow-matching/src/lightning-trainable/src/lightning_trainable/metrics/sinkhorn.py:71: Sinkhorn did not converge. Consider increasing epsilon or number of iterations.\n",
      "/home/lars/code/python/context-aware-flow-matching/src/lightning-trainable/src/lightning_trainable/metrics/sinkhorn.py:71: Sinkhorn did not converge. Consider increasing epsilon or number of iterations.\n",
      "/home/lars/code/python/context-aware-flow-matching/src/lightning-trainable/src/lightning_trainable/metrics/sinkhorn.py:71: Sinkhorn did not converge. Consider increasing epsilon or number of iterations.\n",
      "/home/lars/code/python/context-aware-flow-matching/src/lightning-trainable/src/lightning_trainable/metrics/sinkhorn.py:71: Sinkhorn did not converge. Consider increasing epsilon or number of iterations.\n",
      "/home/lars/code/python/context-aware-flow-matching/src/lightning-trainable/src/lightning_trainable/metrics/sinkhorn.py:71: Sinkhorn did not converge. Consider increasing epsilon or number of iterations.\n",
      "/home/lars/code/python/context-aware-flow-matching/src/lightning-trainable/src/lightning_trainable/metrics/sinkhorn.py:71: Sinkhorn did not converge. Consider increasing epsilon or number of iterations.\n",
      "/home/lars/code/python/context-aware-flow-matching/src/lightning-trainable/src/lightning_trainable/metrics/sinkhorn.py:71: Sinkhorn did not converge. Consider increasing epsilon or number of iterations.\n",
      "/home/lars/code/python/context-aware-flow-matching/src/lightning-trainable/src/lightning_trainable/metrics/sinkhorn.py:71: Sinkhorn did not converge. Consider increasing epsilon or number of iterations.\n",
      "/home/lars/code/python/context-aware-flow-matching/src/lightning-trainable/src/lightning_trainable/metrics/sinkhorn.py:71: Sinkhorn did not converge. Consider increasing epsilon or number of iterations.\n",
      "/home/lars/code/python/context-aware-flow-matching/src/lightning-trainable/src/lightning_trainable/metrics/sinkhorn.py:71: Sinkhorn did not converge. Consider increasing epsilon or number of iterations.\n",
      "/home/lars/code/python/context-aware-flow-matching/src/lightning-trainable/src/lightning_trainable/metrics/sinkhorn.py:71: Sinkhorn did not converge. Consider increasing epsilon or number of iterations.\n",
      "/home/lars/code/python/context-aware-flow-matching/src/lightning-trainable/src/lightning_trainable/metrics/sinkhorn.py:71: Sinkhorn did not converge. Consider increasing epsilon or number of iterations.\n",
      "/home/lars/code/python/context-aware-flow-matching/src/lightning-trainable/src/lightning_trainable/metrics/sinkhorn.py:71: Sinkhorn did not converge. Consider increasing epsilon or number of iterations.\n",
      "/home/lars/code/python/context-aware-flow-matching/src/lightning-trainable/src/lightning_trainable/metrics/sinkhorn.py:71: Sinkhorn did not converge. Consider increasing epsilon or number of iterations.\n",
      "/home/lars/code/python/context-aware-flow-matching/src/lightning-trainable/src/lightning_trainable/metrics/sinkhorn.py:71: Sinkhorn did not converge. Consider increasing epsilon or number of iterations.\n",
      "/home/lars/code/python/context-aware-flow-matching/src/lightning-trainable/src/lightning_trainable/metrics/sinkhorn.py:71: Sinkhorn did not converge. Consider increasing epsilon or number of iterations.\n"
     ]
    },
    {
     "data": {
      "text/plain": "Validation: |          | 0/? [00:00<?, ?it/s]",
      "application/vnd.jupyter.widget-view+json": {
       "version_major": 2,
       "version_minor": 0,
       "model_id": "3def1ea8f8244f9e9197193564cf3f83"
      }
     },
     "metadata": {},
     "output_type": "display_data"
    },
    {
     "name": "stderr",
     "output_type": "stream",
     "text": [
      "/home/lars/code/python/context-aware-flow-matching/src/lightning-trainable/src/lightning_trainable/metrics/sinkhorn.py:71: Sinkhorn did not converge. Consider increasing epsilon or number of iterations.\n",
      "/home/lars/code/python/context-aware-flow-matching/src/lightning-trainable/src/lightning_trainable/metrics/sinkhorn.py:71: Sinkhorn did not converge. Consider increasing epsilon or number of iterations.\n",
      "/home/lars/code/python/context-aware-flow-matching/src/lightning-trainable/src/lightning_trainable/metrics/sinkhorn.py:71: Sinkhorn did not converge. Consider increasing epsilon or number of iterations.\n",
      "/home/lars/code/python/context-aware-flow-matching/src/lightning-trainable/src/lightning_trainable/metrics/sinkhorn.py:71: Sinkhorn did not converge. Consider increasing epsilon or number of iterations.\n",
      "/home/lars/code/python/context-aware-flow-matching/src/lightning-trainable/src/lightning_trainable/metrics/sinkhorn.py:71: Sinkhorn did not converge. Consider increasing epsilon or number of iterations.\n",
      "/home/lars/code/python/context-aware-flow-matching/src/lightning-trainable/src/lightning_trainable/metrics/sinkhorn.py:71: Sinkhorn did not converge. Consider increasing epsilon or number of iterations.\n",
      "/home/lars/code/python/context-aware-flow-matching/src/lightning-trainable/src/lightning_trainable/metrics/sinkhorn.py:71: Sinkhorn did not converge. Consider increasing epsilon or number of iterations.\n",
      "/home/lars/code/python/context-aware-flow-matching/src/lightning-trainable/src/lightning_trainable/metrics/sinkhorn.py:71: Sinkhorn did not converge. Consider increasing epsilon or number of iterations.\n",
      "/home/lars/code/python/context-aware-flow-matching/src/lightning-trainable/src/lightning_trainable/metrics/sinkhorn.py:71: Sinkhorn did not converge. Consider increasing epsilon or number of iterations.\n",
      "/home/lars/code/python/context-aware-flow-matching/src/lightning-trainable/src/lightning_trainable/metrics/sinkhorn.py:71: Sinkhorn did not converge. Consider increasing epsilon or number of iterations.\n",
      "/home/lars/code/python/context-aware-flow-matching/src/lightning-trainable/src/lightning_trainable/metrics/sinkhorn.py:71: Sinkhorn did not converge. Consider increasing epsilon or number of iterations.\n",
      "/home/lars/code/python/context-aware-flow-matching/src/lightning-trainable/src/lightning_trainable/metrics/sinkhorn.py:71: Sinkhorn did not converge. Consider increasing epsilon or number of iterations.\n",
      "/home/lars/code/python/context-aware-flow-matching/src/lightning-trainable/src/lightning_trainable/metrics/sinkhorn.py:71: Sinkhorn did not converge. Consider increasing epsilon or number of iterations.\n",
      "/home/lars/code/python/context-aware-flow-matching/src/lightning-trainable/src/lightning_trainable/metrics/sinkhorn.py:71: Sinkhorn did not converge. Consider increasing epsilon or number of iterations.\n",
      "/home/lars/code/python/context-aware-flow-matching/src/lightning-trainable/src/lightning_trainable/metrics/sinkhorn.py:71: Sinkhorn did not converge. Consider increasing epsilon or number of iterations.\n",
      "/home/lars/code/python/context-aware-flow-matching/src/lightning-trainable/src/lightning_trainable/metrics/sinkhorn.py:71: Sinkhorn did not converge. Consider increasing epsilon or number of iterations.\n",
      "/home/lars/code/python/context-aware-flow-matching/src/lightning-trainable/src/lightning_trainable/metrics/sinkhorn.py:71: Sinkhorn did not converge. Consider increasing epsilon or number of iterations.\n",
      "/home/lars/code/python/context-aware-flow-matching/src/lightning-trainable/src/lightning_trainable/metrics/sinkhorn.py:71: Sinkhorn did not converge. Consider increasing epsilon or number of iterations.\n"
     ]
    },
    {
     "data": {
      "text/plain": "Validation: |          | 0/? [00:00<?, ?it/s]",
      "application/vnd.jupyter.widget-view+json": {
       "version_major": 2,
       "version_minor": 0,
       "model_id": "2c0568401d3b4ae5857d6c754e9095fa"
      }
     },
     "metadata": {},
     "output_type": "display_data"
    },
    {
     "name": "stderr",
     "output_type": "stream",
     "text": [
      "/home/lars/code/python/context-aware-flow-matching/src/lightning-trainable/src/lightning_trainable/metrics/sinkhorn.py:71: Sinkhorn did not converge. Consider increasing epsilon or number of iterations.\n",
      "/home/lars/code/python/context-aware-flow-matching/src/lightning-trainable/src/lightning_trainable/metrics/sinkhorn.py:71: Sinkhorn did not converge. Consider increasing epsilon or number of iterations.\n",
      "/home/lars/code/python/context-aware-flow-matching/src/lightning-trainable/src/lightning_trainable/metrics/sinkhorn.py:71: Sinkhorn did not converge. Consider increasing epsilon or number of iterations.\n",
      "/home/lars/code/python/context-aware-flow-matching/src/lightning-trainable/src/lightning_trainable/metrics/sinkhorn.py:71: Sinkhorn did not converge. Consider increasing epsilon or number of iterations.\n",
      "/home/lars/code/python/context-aware-flow-matching/src/lightning-trainable/src/lightning_trainable/metrics/sinkhorn.py:71: Sinkhorn did not converge. Consider increasing epsilon or number of iterations.\n",
      "/home/lars/code/python/context-aware-flow-matching/src/lightning-trainable/src/lightning_trainable/metrics/sinkhorn.py:71: Sinkhorn did not converge. Consider increasing epsilon or number of iterations.\n",
      "/home/lars/code/python/context-aware-flow-matching/src/lightning-trainable/src/lightning_trainable/metrics/sinkhorn.py:71: Sinkhorn did not converge. Consider increasing epsilon or number of iterations.\n",
      "/home/lars/code/python/context-aware-flow-matching/src/lightning-trainable/src/lightning_trainable/metrics/sinkhorn.py:71: Sinkhorn did not converge. Consider increasing epsilon or number of iterations.\n",
      "/home/lars/code/python/context-aware-flow-matching/src/lightning-trainable/src/lightning_trainable/metrics/sinkhorn.py:71: Sinkhorn did not converge. Consider increasing epsilon or number of iterations.\n",
      "/home/lars/code/python/context-aware-flow-matching/src/lightning-trainable/src/lightning_trainable/metrics/sinkhorn.py:71: Sinkhorn did not converge. Consider increasing epsilon or number of iterations.\n",
      "/home/lars/code/python/context-aware-flow-matching/src/lightning-trainable/src/lightning_trainable/metrics/sinkhorn.py:71: Sinkhorn did not converge. Consider increasing epsilon or number of iterations.\n",
      "/home/lars/code/python/context-aware-flow-matching/src/lightning-trainable/src/lightning_trainable/metrics/sinkhorn.py:71: Sinkhorn did not converge. Consider increasing epsilon or number of iterations.\n",
      "/home/lars/code/python/context-aware-flow-matching/src/lightning-trainable/src/lightning_trainable/metrics/sinkhorn.py:71: Sinkhorn did not converge. Consider increasing epsilon or number of iterations.\n",
      "/home/lars/code/python/context-aware-flow-matching/src/lightning-trainable/src/lightning_trainable/metrics/sinkhorn.py:71: Sinkhorn did not converge. Consider increasing epsilon or number of iterations.\n",
      "/home/lars/code/python/context-aware-flow-matching/src/lightning-trainable/src/lightning_trainable/metrics/sinkhorn.py:71: Sinkhorn did not converge. Consider increasing epsilon or number of iterations.\n",
      "/home/lars/code/python/context-aware-flow-matching/src/lightning-trainable/src/lightning_trainable/metrics/sinkhorn.py:71: Sinkhorn did not converge. Consider increasing epsilon or number of iterations.\n",
      "/home/lars/code/python/context-aware-flow-matching/src/lightning-trainable/src/lightning_trainable/metrics/sinkhorn.py:71: Sinkhorn did not converge. Consider increasing epsilon or number of iterations.\n",
      "/home/lars/code/python/context-aware-flow-matching/src/lightning-trainable/src/lightning_trainable/metrics/sinkhorn.py:71: Sinkhorn did not converge. Consider increasing epsilon or number of iterations.\n"
     ]
    },
    {
     "data": {
      "text/plain": "Validation: |          | 0/? [00:00<?, ?it/s]",
      "application/vnd.jupyter.widget-view+json": {
       "version_major": 2,
       "version_minor": 0,
       "model_id": "1eefc318aaa148ca815bb412f187a672"
      }
     },
     "metadata": {},
     "output_type": "display_data"
    },
    {
     "name": "stderr",
     "output_type": "stream",
     "text": [
      "/home/lars/code/python/context-aware-flow-matching/src/lightning-trainable/src/lightning_trainable/metrics/sinkhorn.py:71: Sinkhorn did not converge. Consider increasing epsilon or number of iterations.\n",
      "/home/lars/code/python/context-aware-flow-matching/src/lightning-trainable/src/lightning_trainable/metrics/sinkhorn.py:71: Sinkhorn did not converge. Consider increasing epsilon or number of iterations.\n",
      "/home/lars/code/python/context-aware-flow-matching/src/lightning-trainable/src/lightning_trainable/metrics/sinkhorn.py:71: Sinkhorn did not converge. Consider increasing epsilon or number of iterations.\n",
      "/home/lars/code/python/context-aware-flow-matching/src/lightning-trainable/src/lightning_trainable/metrics/sinkhorn.py:71: Sinkhorn did not converge. Consider increasing epsilon or number of iterations.\n",
      "/home/lars/code/python/context-aware-flow-matching/src/lightning-trainable/src/lightning_trainable/metrics/sinkhorn.py:71: Sinkhorn did not converge. Consider increasing epsilon or number of iterations.\n",
      "/home/lars/code/python/context-aware-flow-matching/src/lightning-trainable/src/lightning_trainable/metrics/sinkhorn.py:71: Sinkhorn did not converge. Consider increasing epsilon or number of iterations.\n",
      "/home/lars/code/python/context-aware-flow-matching/src/lightning-trainable/src/lightning_trainable/metrics/sinkhorn.py:71: Sinkhorn did not converge. Consider increasing epsilon or number of iterations.\n",
      "/home/lars/code/python/context-aware-flow-matching/src/lightning-trainable/src/lightning_trainable/metrics/sinkhorn.py:71: Sinkhorn did not converge. Consider increasing epsilon or number of iterations.\n",
      "/home/lars/code/python/context-aware-flow-matching/src/lightning-trainable/src/lightning_trainable/metrics/sinkhorn.py:71: Sinkhorn did not converge. Consider increasing epsilon or number of iterations.\n",
      "/home/lars/code/python/context-aware-flow-matching/src/lightning-trainable/src/lightning_trainable/metrics/sinkhorn.py:71: Sinkhorn did not converge. Consider increasing epsilon or number of iterations.\n",
      "/home/lars/code/python/context-aware-flow-matching/src/lightning-trainable/src/lightning_trainable/metrics/sinkhorn.py:71: Sinkhorn did not converge. Consider increasing epsilon or number of iterations.\n",
      "/home/lars/code/python/context-aware-flow-matching/src/lightning-trainable/src/lightning_trainable/metrics/sinkhorn.py:71: Sinkhorn did not converge. Consider increasing epsilon or number of iterations.\n",
      "/home/lars/code/python/context-aware-flow-matching/src/lightning-trainable/src/lightning_trainable/metrics/sinkhorn.py:71: Sinkhorn did not converge. Consider increasing epsilon or number of iterations.\n",
      "/home/lars/code/python/context-aware-flow-matching/src/lightning-trainable/src/lightning_trainable/metrics/sinkhorn.py:71: Sinkhorn did not converge. Consider increasing epsilon or number of iterations.\n",
      "/home/lars/code/python/context-aware-flow-matching/src/lightning-trainable/src/lightning_trainable/metrics/sinkhorn.py:71: Sinkhorn did not converge. Consider increasing epsilon or number of iterations.\n",
      "/home/lars/code/python/context-aware-flow-matching/src/lightning-trainable/src/lightning_trainable/metrics/sinkhorn.py:71: Sinkhorn did not converge. Consider increasing epsilon or number of iterations.\n",
      "/home/lars/code/python/context-aware-flow-matching/src/lightning-trainable/src/lightning_trainable/metrics/sinkhorn.py:71: Sinkhorn did not converge. Consider increasing epsilon or number of iterations.\n",
      "/home/lars/code/python/context-aware-flow-matching/src/lightning-trainable/src/lightning_trainable/metrics/sinkhorn.py:71: Sinkhorn did not converge. Consider increasing epsilon or number of iterations.\n"
     ]
    },
    {
     "data": {
      "text/plain": "Validation: |          | 0/? [00:00<?, ?it/s]",
      "application/vnd.jupyter.widget-view+json": {
       "version_major": 2,
       "version_minor": 0,
       "model_id": "8e204f6ff61241778f84997be54eb1fe"
      }
     },
     "metadata": {},
     "output_type": "display_data"
    },
    {
     "name": "stderr",
     "output_type": "stream",
     "text": [
      "/home/lars/code/python/context-aware-flow-matching/src/lightning-trainable/src/lightning_trainable/metrics/sinkhorn.py:71: Sinkhorn did not converge. Consider increasing epsilon or number of iterations.\n",
      "/home/lars/code/python/context-aware-flow-matching/src/lightning-trainable/src/lightning_trainable/metrics/sinkhorn.py:71: Sinkhorn did not converge. Consider increasing epsilon or number of iterations.\n",
      "/home/lars/code/python/context-aware-flow-matching/src/lightning-trainable/src/lightning_trainable/metrics/sinkhorn.py:71: Sinkhorn did not converge. Consider increasing epsilon or number of iterations.\n",
      "/home/lars/code/python/context-aware-flow-matching/src/lightning-trainable/src/lightning_trainable/metrics/sinkhorn.py:71: Sinkhorn did not converge. Consider increasing epsilon or number of iterations.\n",
      "/home/lars/code/python/context-aware-flow-matching/src/lightning-trainable/src/lightning_trainable/metrics/sinkhorn.py:71: Sinkhorn did not converge. Consider increasing epsilon or number of iterations.\n",
      "/home/lars/code/python/context-aware-flow-matching/src/lightning-trainable/src/lightning_trainable/metrics/sinkhorn.py:71: Sinkhorn did not converge. Consider increasing epsilon or number of iterations.\n",
      "/home/lars/code/python/context-aware-flow-matching/src/lightning-trainable/src/lightning_trainable/metrics/sinkhorn.py:71: Sinkhorn did not converge. Consider increasing epsilon or number of iterations.\n",
      "/home/lars/code/python/context-aware-flow-matching/src/lightning-trainable/src/lightning_trainable/metrics/sinkhorn.py:71: Sinkhorn did not converge. Consider increasing epsilon or number of iterations.\n",
      "/home/lars/code/python/context-aware-flow-matching/src/lightning-trainable/src/lightning_trainable/metrics/sinkhorn.py:71: Sinkhorn did not converge. Consider increasing epsilon or number of iterations.\n",
      "/home/lars/code/python/context-aware-flow-matching/src/lightning-trainable/src/lightning_trainable/metrics/sinkhorn.py:71: Sinkhorn did not converge. Consider increasing epsilon or number of iterations.\n",
      "/home/lars/code/python/context-aware-flow-matching/src/lightning-trainable/src/lightning_trainable/metrics/sinkhorn.py:71: Sinkhorn did not converge. Consider increasing epsilon or number of iterations.\n",
      "/home/lars/code/python/context-aware-flow-matching/src/lightning-trainable/src/lightning_trainable/metrics/sinkhorn.py:71: Sinkhorn did not converge. Consider increasing epsilon or number of iterations.\n",
      "/home/lars/code/python/context-aware-flow-matching/src/lightning-trainable/src/lightning_trainable/metrics/sinkhorn.py:71: Sinkhorn did not converge. Consider increasing epsilon or number of iterations.\n",
      "/home/lars/code/python/context-aware-flow-matching/src/lightning-trainable/src/lightning_trainable/metrics/sinkhorn.py:71: Sinkhorn did not converge. Consider increasing epsilon or number of iterations.\n",
      "/home/lars/code/python/context-aware-flow-matching/src/lightning-trainable/src/lightning_trainable/metrics/sinkhorn.py:71: Sinkhorn did not converge. Consider increasing epsilon or number of iterations.\n",
      "/home/lars/code/python/context-aware-flow-matching/src/lightning-trainable/src/lightning_trainable/metrics/sinkhorn.py:71: Sinkhorn did not converge. Consider increasing epsilon or number of iterations.\n",
      "/home/lars/code/python/context-aware-flow-matching/src/lightning-trainable/src/lightning_trainable/metrics/sinkhorn.py:71: Sinkhorn did not converge. Consider increasing epsilon or number of iterations.\n",
      "/home/lars/code/python/context-aware-flow-matching/src/lightning-trainable/src/lightning_trainable/metrics/sinkhorn.py:71: Sinkhorn did not converge. Consider increasing epsilon or number of iterations.\n"
     ]
    },
    {
     "data": {
      "text/plain": "Validation: |          | 0/? [00:00<?, ?it/s]",
      "application/vnd.jupyter.widget-view+json": {
       "version_major": 2,
       "version_minor": 0,
       "model_id": "6879ae0331dc489a8a097a4f9af401ca"
      }
     },
     "metadata": {},
     "output_type": "display_data"
    },
    {
     "name": "stderr",
     "output_type": "stream",
     "text": [
      "/home/lars/code/python/context-aware-flow-matching/src/lightning-trainable/src/lightning_trainable/metrics/sinkhorn.py:71: Sinkhorn did not converge. Consider increasing epsilon or number of iterations.\n",
      "/home/lars/code/python/context-aware-flow-matching/src/lightning-trainable/src/lightning_trainable/metrics/sinkhorn.py:71: Sinkhorn did not converge. Consider increasing epsilon or number of iterations.\n",
      "/home/lars/code/python/context-aware-flow-matching/src/lightning-trainable/src/lightning_trainable/metrics/sinkhorn.py:71: Sinkhorn did not converge. Consider increasing epsilon or number of iterations.\n",
      "/home/lars/code/python/context-aware-flow-matching/src/lightning-trainable/src/lightning_trainable/metrics/sinkhorn.py:71: Sinkhorn did not converge. Consider increasing epsilon or number of iterations.\n",
      "/home/lars/code/python/context-aware-flow-matching/src/lightning-trainable/src/lightning_trainable/metrics/sinkhorn.py:71: Sinkhorn did not converge. Consider increasing epsilon or number of iterations.\n",
      "/home/lars/code/python/context-aware-flow-matching/src/lightning-trainable/src/lightning_trainable/metrics/sinkhorn.py:71: Sinkhorn did not converge. Consider increasing epsilon or number of iterations.\n",
      "/home/lars/code/python/context-aware-flow-matching/src/lightning-trainable/src/lightning_trainable/metrics/sinkhorn.py:71: Sinkhorn did not converge. Consider increasing epsilon or number of iterations.\n",
      "/home/lars/code/python/context-aware-flow-matching/src/lightning-trainable/src/lightning_trainable/metrics/sinkhorn.py:71: Sinkhorn did not converge. Consider increasing epsilon or number of iterations.\n",
      "/home/lars/code/python/context-aware-flow-matching/src/lightning-trainable/src/lightning_trainable/metrics/sinkhorn.py:71: Sinkhorn did not converge. Consider increasing epsilon or number of iterations.\n",
      "/home/lars/code/python/context-aware-flow-matching/src/lightning-trainable/src/lightning_trainable/metrics/sinkhorn.py:71: Sinkhorn did not converge. Consider increasing epsilon or number of iterations.\n",
      "/home/lars/code/python/context-aware-flow-matching/src/lightning-trainable/src/lightning_trainable/metrics/sinkhorn.py:71: Sinkhorn did not converge. Consider increasing epsilon or number of iterations.\n",
      "/home/lars/code/python/context-aware-flow-matching/src/lightning-trainable/src/lightning_trainable/metrics/sinkhorn.py:71: Sinkhorn did not converge. Consider increasing epsilon or number of iterations.\n",
      "/home/lars/code/python/context-aware-flow-matching/src/lightning-trainable/src/lightning_trainable/metrics/sinkhorn.py:71: Sinkhorn did not converge. Consider increasing epsilon or number of iterations.\n",
      "/home/lars/code/python/context-aware-flow-matching/src/lightning-trainable/src/lightning_trainable/metrics/sinkhorn.py:71: Sinkhorn did not converge. Consider increasing epsilon or number of iterations.\n",
      "/home/lars/code/python/context-aware-flow-matching/src/lightning-trainable/src/lightning_trainable/metrics/sinkhorn.py:71: Sinkhorn did not converge. Consider increasing epsilon or number of iterations.\n",
      "/home/lars/code/python/context-aware-flow-matching/src/lightning-trainable/src/lightning_trainable/metrics/sinkhorn.py:71: Sinkhorn did not converge. Consider increasing epsilon or number of iterations.\n",
      "/home/lars/code/python/context-aware-flow-matching/src/lightning-trainable/src/lightning_trainable/metrics/sinkhorn.py:71: Sinkhorn did not converge. Consider increasing epsilon or number of iterations.\n",
      "/home/lars/code/python/context-aware-flow-matching/src/lightning-trainable/src/lightning_trainable/metrics/sinkhorn.py:71: Sinkhorn did not converge. Consider increasing epsilon or number of iterations.\n"
     ]
    },
    {
     "data": {
      "text/plain": "Validation: |          | 0/? [00:00<?, ?it/s]",
      "application/vnd.jupyter.widget-view+json": {
       "version_major": 2,
       "version_minor": 0,
       "model_id": "166f1c1822984115981e476e2596a2e5"
      }
     },
     "metadata": {},
     "output_type": "display_data"
    },
    {
     "name": "stderr",
     "output_type": "stream",
     "text": [
      "/home/lars/code/python/context-aware-flow-matching/src/lightning-trainable/src/lightning_trainable/metrics/sinkhorn.py:71: Sinkhorn did not converge. Consider increasing epsilon or number of iterations.\n",
      "/home/lars/code/python/context-aware-flow-matching/src/lightning-trainable/src/lightning_trainable/metrics/sinkhorn.py:71: Sinkhorn did not converge. Consider increasing epsilon or number of iterations.\n",
      "/home/lars/code/python/context-aware-flow-matching/src/lightning-trainable/src/lightning_trainable/metrics/sinkhorn.py:71: Sinkhorn did not converge. Consider increasing epsilon or number of iterations.\n",
      "/home/lars/code/python/context-aware-flow-matching/src/lightning-trainable/src/lightning_trainable/metrics/sinkhorn.py:71: Sinkhorn did not converge. Consider increasing epsilon or number of iterations.\n",
      "/home/lars/code/python/context-aware-flow-matching/src/lightning-trainable/src/lightning_trainable/metrics/sinkhorn.py:71: Sinkhorn did not converge. Consider increasing epsilon or number of iterations.\n",
      "/home/lars/code/python/context-aware-flow-matching/src/lightning-trainable/src/lightning_trainable/metrics/sinkhorn.py:71: Sinkhorn did not converge. Consider increasing epsilon or number of iterations.\n",
      "/home/lars/code/python/context-aware-flow-matching/src/lightning-trainable/src/lightning_trainable/metrics/sinkhorn.py:71: Sinkhorn did not converge. Consider increasing epsilon or number of iterations.\n",
      "/home/lars/code/python/context-aware-flow-matching/src/lightning-trainable/src/lightning_trainable/metrics/sinkhorn.py:71: Sinkhorn did not converge. Consider increasing epsilon or number of iterations.\n",
      "/home/lars/code/python/context-aware-flow-matching/src/lightning-trainable/src/lightning_trainable/metrics/sinkhorn.py:71: Sinkhorn did not converge. Consider increasing epsilon or number of iterations.\n",
      "/home/lars/code/python/context-aware-flow-matching/src/lightning-trainable/src/lightning_trainable/metrics/sinkhorn.py:71: Sinkhorn did not converge. Consider increasing epsilon or number of iterations.\n",
      "/home/lars/code/python/context-aware-flow-matching/src/lightning-trainable/src/lightning_trainable/metrics/sinkhorn.py:71: Sinkhorn did not converge. Consider increasing epsilon or number of iterations.\n",
      "/home/lars/code/python/context-aware-flow-matching/src/lightning-trainable/src/lightning_trainable/metrics/sinkhorn.py:71: Sinkhorn did not converge. Consider increasing epsilon or number of iterations.\n",
      "/home/lars/code/python/context-aware-flow-matching/src/lightning-trainable/src/lightning_trainable/metrics/sinkhorn.py:71: Sinkhorn did not converge. Consider increasing epsilon or number of iterations.\n",
      "/home/lars/code/python/context-aware-flow-matching/src/lightning-trainable/src/lightning_trainable/metrics/sinkhorn.py:71: Sinkhorn did not converge. Consider increasing epsilon or number of iterations.\n",
      "/home/lars/code/python/context-aware-flow-matching/src/lightning-trainable/src/lightning_trainable/metrics/sinkhorn.py:71: Sinkhorn did not converge. Consider increasing epsilon or number of iterations.\n",
      "/home/lars/code/python/context-aware-flow-matching/src/lightning-trainable/src/lightning_trainable/metrics/sinkhorn.py:71: Sinkhorn did not converge. Consider increasing epsilon or number of iterations.\n",
      "/home/lars/code/python/context-aware-flow-matching/src/lightning-trainable/src/lightning_trainable/metrics/sinkhorn.py:71: Sinkhorn did not converge. Consider increasing epsilon or number of iterations.\n",
      "/home/lars/code/python/context-aware-flow-matching/src/lightning-trainable/src/lightning_trainable/metrics/sinkhorn.py:71: Sinkhorn did not converge. Consider increasing epsilon or number of iterations.\n"
     ]
    },
    {
     "data": {
      "text/plain": "Validation: |          | 0/? [00:00<?, ?it/s]",
      "application/vnd.jupyter.widget-view+json": {
       "version_major": 2,
       "version_minor": 0,
       "model_id": "172186c08e874b9fa1233e226096b163"
      }
     },
     "metadata": {},
     "output_type": "display_data"
    },
    {
     "name": "stderr",
     "output_type": "stream",
     "text": [
      "/home/lars/code/python/context-aware-flow-matching/src/lightning-trainable/src/lightning_trainable/metrics/sinkhorn.py:71: Sinkhorn did not converge. Consider increasing epsilon or number of iterations.\n",
      "/home/lars/code/python/context-aware-flow-matching/src/lightning-trainable/src/lightning_trainable/metrics/sinkhorn.py:71: Sinkhorn did not converge. Consider increasing epsilon or number of iterations.\n",
      "/home/lars/code/python/context-aware-flow-matching/src/lightning-trainable/src/lightning_trainable/metrics/sinkhorn.py:71: Sinkhorn did not converge. Consider increasing epsilon or number of iterations.\n",
      "/home/lars/code/python/context-aware-flow-matching/src/lightning-trainable/src/lightning_trainable/metrics/sinkhorn.py:71: Sinkhorn did not converge. Consider increasing epsilon or number of iterations.\n",
      "/home/lars/code/python/context-aware-flow-matching/src/lightning-trainable/src/lightning_trainable/metrics/sinkhorn.py:71: Sinkhorn did not converge. Consider increasing epsilon or number of iterations.\n",
      "/home/lars/code/python/context-aware-flow-matching/src/lightning-trainable/src/lightning_trainable/metrics/sinkhorn.py:71: Sinkhorn did not converge. Consider increasing epsilon or number of iterations.\n",
      "/home/lars/code/python/context-aware-flow-matching/src/lightning-trainable/src/lightning_trainable/metrics/sinkhorn.py:71: Sinkhorn did not converge. Consider increasing epsilon or number of iterations.\n",
      "/home/lars/code/python/context-aware-flow-matching/src/lightning-trainable/src/lightning_trainable/metrics/sinkhorn.py:71: Sinkhorn did not converge. Consider increasing epsilon or number of iterations.\n",
      "/home/lars/code/python/context-aware-flow-matching/src/lightning-trainable/src/lightning_trainable/metrics/sinkhorn.py:71: Sinkhorn did not converge. Consider increasing epsilon or number of iterations.\n",
      "/home/lars/code/python/context-aware-flow-matching/src/lightning-trainable/src/lightning_trainable/metrics/sinkhorn.py:71: Sinkhorn did not converge. Consider increasing epsilon or number of iterations.\n",
      "/home/lars/code/python/context-aware-flow-matching/src/lightning-trainable/src/lightning_trainable/metrics/sinkhorn.py:71: Sinkhorn did not converge. Consider increasing epsilon or number of iterations.\n",
      "/home/lars/code/python/context-aware-flow-matching/src/lightning-trainable/src/lightning_trainable/metrics/sinkhorn.py:71: Sinkhorn did not converge. Consider increasing epsilon or number of iterations.\n",
      "/home/lars/code/python/context-aware-flow-matching/src/lightning-trainable/src/lightning_trainable/metrics/sinkhorn.py:71: Sinkhorn did not converge. Consider increasing epsilon or number of iterations.\n",
      "/home/lars/code/python/context-aware-flow-matching/src/lightning-trainable/src/lightning_trainable/metrics/sinkhorn.py:71: Sinkhorn did not converge. Consider increasing epsilon or number of iterations.\n",
      "/home/lars/code/python/context-aware-flow-matching/src/lightning-trainable/src/lightning_trainable/metrics/sinkhorn.py:71: Sinkhorn did not converge. Consider increasing epsilon or number of iterations.\n",
      "/home/lars/code/python/context-aware-flow-matching/src/lightning-trainable/src/lightning_trainable/metrics/sinkhorn.py:71: Sinkhorn did not converge. Consider increasing epsilon or number of iterations.\n",
      "/home/lars/code/python/context-aware-flow-matching/src/lightning-trainable/src/lightning_trainable/metrics/sinkhorn.py:71: Sinkhorn did not converge. Consider increasing epsilon or number of iterations.\n",
      "/home/lars/code/python/context-aware-flow-matching/src/lightning-trainable/src/lightning_trainable/metrics/sinkhorn.py:71: Sinkhorn did not converge. Consider increasing epsilon or number of iterations.\n"
     ]
    },
    {
     "data": {
      "text/plain": "Validation: |          | 0/? [00:00<?, ?it/s]",
      "application/vnd.jupyter.widget-view+json": {
       "version_major": 2,
       "version_minor": 0,
       "model_id": "5251b7c54fdf4bbfbec1275a2a2525f8"
      }
     },
     "metadata": {},
     "output_type": "display_data"
    },
    {
     "name": "stderr",
     "output_type": "stream",
     "text": [
      "/home/lars/code/python/context-aware-flow-matching/src/lightning-trainable/src/lightning_trainable/metrics/sinkhorn.py:71: Sinkhorn did not converge. Consider increasing epsilon or number of iterations.\n",
      "/home/lars/code/python/context-aware-flow-matching/src/lightning-trainable/src/lightning_trainable/metrics/sinkhorn.py:71: Sinkhorn did not converge. Consider increasing epsilon or number of iterations.\n",
      "/home/lars/code/python/context-aware-flow-matching/src/lightning-trainable/src/lightning_trainable/metrics/sinkhorn.py:71: Sinkhorn did not converge. Consider increasing epsilon or number of iterations.\n",
      "/home/lars/code/python/context-aware-flow-matching/src/lightning-trainable/src/lightning_trainable/metrics/sinkhorn.py:71: Sinkhorn did not converge. Consider increasing epsilon or number of iterations.\n",
      "/home/lars/code/python/context-aware-flow-matching/src/lightning-trainable/src/lightning_trainable/metrics/sinkhorn.py:71: Sinkhorn did not converge. Consider increasing epsilon or number of iterations.\n",
      "/home/lars/code/python/context-aware-flow-matching/src/lightning-trainable/src/lightning_trainable/metrics/sinkhorn.py:71: Sinkhorn did not converge. Consider increasing epsilon or number of iterations.\n",
      "/home/lars/code/python/context-aware-flow-matching/src/lightning-trainable/src/lightning_trainable/metrics/sinkhorn.py:71: Sinkhorn did not converge. Consider increasing epsilon or number of iterations.\n",
      "/home/lars/code/python/context-aware-flow-matching/src/lightning-trainable/src/lightning_trainable/metrics/sinkhorn.py:71: Sinkhorn did not converge. Consider increasing epsilon or number of iterations.\n",
      "/home/lars/code/python/context-aware-flow-matching/src/lightning-trainable/src/lightning_trainable/metrics/sinkhorn.py:71: Sinkhorn did not converge. Consider increasing epsilon or number of iterations.\n",
      "/home/lars/code/python/context-aware-flow-matching/src/lightning-trainable/src/lightning_trainable/metrics/sinkhorn.py:71: Sinkhorn did not converge. Consider increasing epsilon or number of iterations.\n",
      "/home/lars/code/python/context-aware-flow-matching/src/lightning-trainable/src/lightning_trainable/metrics/sinkhorn.py:71: Sinkhorn did not converge. Consider increasing epsilon or number of iterations.\n",
      "/home/lars/code/python/context-aware-flow-matching/src/lightning-trainable/src/lightning_trainable/metrics/sinkhorn.py:71: Sinkhorn did not converge. Consider increasing epsilon or number of iterations.\n",
      "/home/lars/code/python/context-aware-flow-matching/src/lightning-trainable/src/lightning_trainable/metrics/sinkhorn.py:71: Sinkhorn did not converge. Consider increasing epsilon or number of iterations.\n",
      "/home/lars/code/python/context-aware-flow-matching/src/lightning-trainable/src/lightning_trainable/metrics/sinkhorn.py:71: Sinkhorn did not converge. Consider increasing epsilon or number of iterations.\n",
      "/home/lars/code/python/context-aware-flow-matching/src/lightning-trainable/src/lightning_trainable/metrics/sinkhorn.py:71: Sinkhorn did not converge. Consider increasing epsilon or number of iterations.\n",
      "/home/lars/code/python/context-aware-flow-matching/src/lightning-trainable/src/lightning_trainable/metrics/sinkhorn.py:71: Sinkhorn did not converge. Consider increasing epsilon or number of iterations.\n",
      "/home/lars/code/python/context-aware-flow-matching/src/lightning-trainable/src/lightning_trainable/metrics/sinkhorn.py:71: Sinkhorn did not converge. Consider increasing epsilon or number of iterations.\n",
      "/home/lars/code/python/context-aware-flow-matching/src/lightning-trainable/src/lightning_trainable/metrics/sinkhorn.py:71: Sinkhorn did not converge. Consider increasing epsilon or number of iterations.\n"
     ]
    },
    {
     "data": {
      "text/plain": "Validation: |          | 0/? [00:00<?, ?it/s]",
      "application/vnd.jupyter.widget-view+json": {
       "version_major": 2,
       "version_minor": 0,
       "model_id": "178bd1ba75654b68a55623817b24962e"
      }
     },
     "metadata": {},
     "output_type": "display_data"
    },
    {
     "name": "stderr",
     "output_type": "stream",
     "text": [
      "/home/lars/code/python/context-aware-flow-matching/src/lightning-trainable/src/lightning_trainable/metrics/sinkhorn.py:71: Sinkhorn did not converge. Consider increasing epsilon or number of iterations.\n",
      "/home/lars/code/python/context-aware-flow-matching/src/lightning-trainable/src/lightning_trainable/metrics/sinkhorn.py:71: Sinkhorn did not converge. Consider increasing epsilon or number of iterations.\n",
      "/home/lars/code/python/context-aware-flow-matching/src/lightning-trainable/src/lightning_trainable/metrics/sinkhorn.py:71: Sinkhorn did not converge. Consider increasing epsilon or number of iterations.\n",
      "/home/lars/code/python/context-aware-flow-matching/src/lightning-trainable/src/lightning_trainable/metrics/sinkhorn.py:71: Sinkhorn did not converge. Consider increasing epsilon or number of iterations.\n",
      "/home/lars/code/python/context-aware-flow-matching/src/lightning-trainable/src/lightning_trainable/metrics/sinkhorn.py:71: Sinkhorn did not converge. Consider increasing epsilon or number of iterations.\n",
      "/home/lars/code/python/context-aware-flow-matching/src/lightning-trainable/src/lightning_trainable/metrics/sinkhorn.py:71: Sinkhorn did not converge. Consider increasing epsilon or number of iterations.\n",
      "/home/lars/code/python/context-aware-flow-matching/src/lightning-trainable/src/lightning_trainable/metrics/sinkhorn.py:71: Sinkhorn did not converge. Consider increasing epsilon or number of iterations.\n",
      "/home/lars/code/python/context-aware-flow-matching/src/lightning-trainable/src/lightning_trainable/metrics/sinkhorn.py:71: Sinkhorn did not converge. Consider increasing epsilon or number of iterations.\n",
      "/home/lars/code/python/context-aware-flow-matching/src/lightning-trainable/src/lightning_trainable/metrics/sinkhorn.py:71: Sinkhorn did not converge. Consider increasing epsilon or number of iterations.\n",
      "/home/lars/code/python/context-aware-flow-matching/src/lightning-trainable/src/lightning_trainable/metrics/sinkhorn.py:71: Sinkhorn did not converge. Consider increasing epsilon or number of iterations.\n",
      "/home/lars/code/python/context-aware-flow-matching/src/lightning-trainable/src/lightning_trainable/metrics/sinkhorn.py:71: Sinkhorn did not converge. Consider increasing epsilon or number of iterations.\n",
      "/home/lars/code/python/context-aware-flow-matching/src/lightning-trainable/src/lightning_trainable/metrics/sinkhorn.py:71: Sinkhorn did not converge. Consider increasing epsilon or number of iterations.\n",
      "/home/lars/code/python/context-aware-flow-matching/src/lightning-trainable/src/lightning_trainable/metrics/sinkhorn.py:71: Sinkhorn did not converge. Consider increasing epsilon or number of iterations.\n",
      "/home/lars/code/python/context-aware-flow-matching/src/lightning-trainable/src/lightning_trainable/metrics/sinkhorn.py:71: Sinkhorn did not converge. Consider increasing epsilon or number of iterations.\n",
      "/home/lars/code/python/context-aware-flow-matching/src/lightning-trainable/src/lightning_trainable/metrics/sinkhorn.py:71: Sinkhorn did not converge. Consider increasing epsilon or number of iterations.\n",
      "/home/lars/code/python/context-aware-flow-matching/src/lightning-trainable/src/lightning_trainable/metrics/sinkhorn.py:71: Sinkhorn did not converge. Consider increasing epsilon or number of iterations.\n",
      "/home/lars/code/python/context-aware-flow-matching/src/lightning-trainable/src/lightning_trainable/metrics/sinkhorn.py:71: Sinkhorn did not converge. Consider increasing epsilon or number of iterations.\n",
      "/home/lars/code/python/context-aware-flow-matching/src/lightning-trainable/src/lightning_trainable/metrics/sinkhorn.py:71: Sinkhorn did not converge. Consider increasing epsilon or number of iterations.\n"
     ]
    },
    {
     "data": {
      "text/plain": "Validation: |          | 0/? [00:00<?, ?it/s]",
      "application/vnd.jupyter.widget-view+json": {
       "version_major": 2,
       "version_minor": 0,
       "model_id": "21414bbe738e4c4994d1c29a0591f60c"
      }
     },
     "metadata": {},
     "output_type": "display_data"
    },
    {
     "name": "stderr",
     "output_type": "stream",
     "text": [
      "/home/lars/code/python/context-aware-flow-matching/src/lightning-trainable/src/lightning_trainable/metrics/sinkhorn.py:71: Sinkhorn did not converge. Consider increasing epsilon or number of iterations.\n",
      "/home/lars/code/python/context-aware-flow-matching/src/lightning-trainable/src/lightning_trainable/metrics/sinkhorn.py:71: Sinkhorn did not converge. Consider increasing epsilon or number of iterations.\n",
      "/home/lars/code/python/context-aware-flow-matching/src/lightning-trainable/src/lightning_trainable/metrics/sinkhorn.py:71: Sinkhorn did not converge. Consider increasing epsilon or number of iterations.\n",
      "/home/lars/code/python/context-aware-flow-matching/src/lightning-trainable/src/lightning_trainable/metrics/sinkhorn.py:71: Sinkhorn did not converge. Consider increasing epsilon or number of iterations.\n",
      "/home/lars/code/python/context-aware-flow-matching/src/lightning-trainable/src/lightning_trainable/metrics/sinkhorn.py:71: Sinkhorn did not converge. Consider increasing epsilon or number of iterations.\n",
      "/home/lars/code/python/context-aware-flow-matching/src/lightning-trainable/src/lightning_trainable/metrics/sinkhorn.py:71: Sinkhorn did not converge. Consider increasing epsilon or number of iterations.\n",
      "/home/lars/code/python/context-aware-flow-matching/src/lightning-trainable/src/lightning_trainable/metrics/sinkhorn.py:71: Sinkhorn did not converge. Consider increasing epsilon or number of iterations.\n",
      "/home/lars/code/python/context-aware-flow-matching/src/lightning-trainable/src/lightning_trainable/metrics/sinkhorn.py:71: Sinkhorn did not converge. Consider increasing epsilon or number of iterations.\n",
      "/home/lars/code/python/context-aware-flow-matching/src/lightning-trainable/src/lightning_trainable/metrics/sinkhorn.py:71: Sinkhorn did not converge. Consider increasing epsilon or number of iterations.\n",
      "/home/lars/code/python/context-aware-flow-matching/src/lightning-trainable/src/lightning_trainable/metrics/sinkhorn.py:71: Sinkhorn did not converge. Consider increasing epsilon or number of iterations.\n",
      "/home/lars/code/python/context-aware-flow-matching/src/lightning-trainable/src/lightning_trainable/metrics/sinkhorn.py:71: Sinkhorn did not converge. Consider increasing epsilon or number of iterations.\n",
      "/home/lars/code/python/context-aware-flow-matching/src/lightning-trainable/src/lightning_trainable/metrics/sinkhorn.py:71: Sinkhorn did not converge. Consider increasing epsilon or number of iterations.\n",
      "/home/lars/code/python/context-aware-flow-matching/src/lightning-trainable/src/lightning_trainable/metrics/sinkhorn.py:71: Sinkhorn did not converge. Consider increasing epsilon or number of iterations.\n",
      "/home/lars/code/python/context-aware-flow-matching/src/lightning-trainable/src/lightning_trainable/metrics/sinkhorn.py:71: Sinkhorn did not converge. Consider increasing epsilon or number of iterations.\n",
      "/home/lars/code/python/context-aware-flow-matching/src/lightning-trainable/src/lightning_trainable/metrics/sinkhorn.py:71: Sinkhorn did not converge. Consider increasing epsilon or number of iterations.\n",
      "/home/lars/code/python/context-aware-flow-matching/src/lightning-trainable/src/lightning_trainable/metrics/sinkhorn.py:71: Sinkhorn did not converge. Consider increasing epsilon or number of iterations.\n",
      "/home/lars/code/python/context-aware-flow-matching/src/lightning-trainable/src/lightning_trainable/metrics/sinkhorn.py:71: Sinkhorn did not converge. Consider increasing epsilon or number of iterations.\n",
      "/home/lars/code/python/context-aware-flow-matching/src/lightning-trainable/src/lightning_trainable/metrics/sinkhorn.py:71: Sinkhorn did not converge. Consider increasing epsilon or number of iterations.\n"
     ]
    },
    {
     "data": {
      "text/plain": "Validation: |          | 0/? [00:00<?, ?it/s]",
      "application/vnd.jupyter.widget-view+json": {
       "version_major": 2,
       "version_minor": 0,
       "model_id": "066ca8ed80eb4dc683eb1aa58ecebb6c"
      }
     },
     "metadata": {},
     "output_type": "display_data"
    },
    {
     "name": "stderr",
     "output_type": "stream",
     "text": [
      "/home/lars/code/python/context-aware-flow-matching/src/lightning-trainable/src/lightning_trainable/metrics/sinkhorn.py:71: Sinkhorn did not converge. Consider increasing epsilon or number of iterations.\n",
      "/home/lars/code/python/context-aware-flow-matching/src/lightning-trainable/src/lightning_trainable/metrics/sinkhorn.py:71: Sinkhorn did not converge. Consider increasing epsilon or number of iterations.\n",
      "/home/lars/code/python/context-aware-flow-matching/src/lightning-trainable/src/lightning_trainable/metrics/sinkhorn.py:71: Sinkhorn did not converge. Consider increasing epsilon or number of iterations.\n",
      "/home/lars/code/python/context-aware-flow-matching/src/lightning-trainable/src/lightning_trainable/metrics/sinkhorn.py:71: Sinkhorn did not converge. Consider increasing epsilon or number of iterations.\n",
      "/home/lars/code/python/context-aware-flow-matching/src/lightning-trainable/src/lightning_trainable/metrics/sinkhorn.py:71: Sinkhorn did not converge. Consider increasing epsilon or number of iterations.\n",
      "/home/lars/code/python/context-aware-flow-matching/src/lightning-trainable/src/lightning_trainable/metrics/sinkhorn.py:71: Sinkhorn did not converge. Consider increasing epsilon or number of iterations.\n",
      "/home/lars/code/python/context-aware-flow-matching/src/lightning-trainable/src/lightning_trainable/metrics/sinkhorn.py:71: Sinkhorn did not converge. Consider increasing epsilon or number of iterations.\n",
      "/home/lars/code/python/context-aware-flow-matching/src/lightning-trainable/src/lightning_trainable/metrics/sinkhorn.py:71: Sinkhorn did not converge. Consider increasing epsilon or number of iterations.\n",
      "/home/lars/code/python/context-aware-flow-matching/src/lightning-trainable/src/lightning_trainable/metrics/sinkhorn.py:71: Sinkhorn did not converge. Consider increasing epsilon or number of iterations.\n",
      "/home/lars/code/python/context-aware-flow-matching/src/lightning-trainable/src/lightning_trainable/metrics/sinkhorn.py:71: Sinkhorn did not converge. Consider increasing epsilon or number of iterations.\n",
      "/home/lars/code/python/context-aware-flow-matching/src/lightning-trainable/src/lightning_trainable/metrics/sinkhorn.py:71: Sinkhorn did not converge. Consider increasing epsilon or number of iterations.\n",
      "/home/lars/code/python/context-aware-flow-matching/src/lightning-trainable/src/lightning_trainable/metrics/sinkhorn.py:71: Sinkhorn did not converge. Consider increasing epsilon or number of iterations.\n",
      "/home/lars/code/python/context-aware-flow-matching/src/lightning-trainable/src/lightning_trainable/metrics/sinkhorn.py:71: Sinkhorn did not converge. Consider increasing epsilon or number of iterations.\n",
      "/home/lars/code/python/context-aware-flow-matching/src/lightning-trainable/src/lightning_trainable/metrics/sinkhorn.py:71: Sinkhorn did not converge. Consider increasing epsilon or number of iterations.\n",
      "/home/lars/code/python/context-aware-flow-matching/src/lightning-trainable/src/lightning_trainable/metrics/sinkhorn.py:71: Sinkhorn did not converge. Consider increasing epsilon or number of iterations.\n",
      "/home/lars/code/python/context-aware-flow-matching/src/lightning-trainable/src/lightning_trainable/metrics/sinkhorn.py:71: Sinkhorn did not converge. Consider increasing epsilon or number of iterations.\n",
      "/home/lars/code/python/context-aware-flow-matching/src/lightning-trainable/src/lightning_trainable/metrics/sinkhorn.py:71: Sinkhorn did not converge. Consider increasing epsilon or number of iterations.\n",
      "/home/lars/code/python/context-aware-flow-matching/src/lightning-trainable/src/lightning_trainable/metrics/sinkhorn.py:71: Sinkhorn did not converge. Consider increasing epsilon or number of iterations.\n"
     ]
    },
    {
     "data": {
      "text/plain": "Validation: |          | 0/? [00:00<?, ?it/s]",
      "application/vnd.jupyter.widget-view+json": {
       "version_major": 2,
       "version_minor": 0,
       "model_id": "5f40eb7a09b3450f869c7c2df7ea48fa"
      }
     },
     "metadata": {},
     "output_type": "display_data"
    },
    {
     "name": "stderr",
     "output_type": "stream",
     "text": [
      "/home/lars/code/python/context-aware-flow-matching/src/lightning-trainable/src/lightning_trainable/metrics/sinkhorn.py:71: Sinkhorn did not converge. Consider increasing epsilon or number of iterations.\n",
      "/home/lars/code/python/context-aware-flow-matching/src/lightning-trainable/src/lightning_trainable/metrics/sinkhorn.py:71: Sinkhorn did not converge. Consider increasing epsilon or number of iterations.\n",
      "/home/lars/code/python/context-aware-flow-matching/src/lightning-trainable/src/lightning_trainable/metrics/sinkhorn.py:71: Sinkhorn did not converge. Consider increasing epsilon or number of iterations.\n",
      "/home/lars/code/python/context-aware-flow-matching/src/lightning-trainable/src/lightning_trainable/metrics/sinkhorn.py:71: Sinkhorn did not converge. Consider increasing epsilon or number of iterations.\n",
      "/home/lars/code/python/context-aware-flow-matching/src/lightning-trainable/src/lightning_trainable/metrics/sinkhorn.py:71: Sinkhorn did not converge. Consider increasing epsilon or number of iterations.\n",
      "/home/lars/code/python/context-aware-flow-matching/src/lightning-trainable/src/lightning_trainable/metrics/sinkhorn.py:71: Sinkhorn did not converge. Consider increasing epsilon or number of iterations.\n",
      "/home/lars/code/python/context-aware-flow-matching/src/lightning-trainable/src/lightning_trainable/metrics/sinkhorn.py:71: Sinkhorn did not converge. Consider increasing epsilon or number of iterations.\n",
      "/home/lars/code/python/context-aware-flow-matching/src/lightning-trainable/src/lightning_trainable/metrics/sinkhorn.py:71: Sinkhorn did not converge. Consider increasing epsilon or number of iterations.\n",
      "/home/lars/code/python/context-aware-flow-matching/src/lightning-trainable/src/lightning_trainable/metrics/sinkhorn.py:71: Sinkhorn did not converge. Consider increasing epsilon or number of iterations.\n",
      "/home/lars/code/python/context-aware-flow-matching/src/lightning-trainable/src/lightning_trainable/metrics/sinkhorn.py:71: Sinkhorn did not converge. Consider increasing epsilon or number of iterations.\n",
      "/home/lars/code/python/context-aware-flow-matching/src/lightning-trainable/src/lightning_trainable/metrics/sinkhorn.py:71: Sinkhorn did not converge. Consider increasing epsilon or number of iterations.\n",
      "/home/lars/code/python/context-aware-flow-matching/src/lightning-trainable/src/lightning_trainable/metrics/sinkhorn.py:71: Sinkhorn did not converge. Consider increasing epsilon or number of iterations.\n",
      "/home/lars/code/python/context-aware-flow-matching/src/lightning-trainable/src/lightning_trainable/metrics/sinkhorn.py:71: Sinkhorn did not converge. Consider increasing epsilon or number of iterations.\n",
      "/home/lars/code/python/context-aware-flow-matching/src/lightning-trainable/src/lightning_trainable/metrics/sinkhorn.py:71: Sinkhorn did not converge. Consider increasing epsilon or number of iterations.\n",
      "/home/lars/code/python/context-aware-flow-matching/src/lightning-trainable/src/lightning_trainable/metrics/sinkhorn.py:71: Sinkhorn did not converge. Consider increasing epsilon or number of iterations.\n",
      "/home/lars/code/python/context-aware-flow-matching/src/lightning-trainable/src/lightning_trainable/metrics/sinkhorn.py:71: Sinkhorn did not converge. Consider increasing epsilon or number of iterations.\n",
      "/home/lars/code/python/context-aware-flow-matching/src/lightning-trainable/src/lightning_trainable/metrics/sinkhorn.py:71: Sinkhorn did not converge. Consider increasing epsilon or number of iterations.\n",
      "/home/lars/code/python/context-aware-flow-matching/src/lightning-trainable/src/lightning_trainable/metrics/sinkhorn.py:71: Sinkhorn did not converge. Consider increasing epsilon or number of iterations.\n"
     ]
    },
    {
     "data": {
      "text/plain": "Validation: |          | 0/? [00:00<?, ?it/s]",
      "application/vnd.jupyter.widget-view+json": {
       "version_major": 2,
       "version_minor": 0,
       "model_id": "de79abe8c7ce46c79eda185697cf459c"
      }
     },
     "metadata": {},
     "output_type": "display_data"
    },
    {
     "name": "stderr",
     "output_type": "stream",
     "text": [
      "/home/lars/code/python/context-aware-flow-matching/src/lightning-trainable/src/lightning_trainable/metrics/sinkhorn.py:71: Sinkhorn did not converge. Consider increasing epsilon or number of iterations.\n",
      "/home/lars/code/python/context-aware-flow-matching/src/lightning-trainable/src/lightning_trainable/metrics/sinkhorn.py:71: Sinkhorn did not converge. Consider increasing epsilon or number of iterations.\n",
      "/home/lars/code/python/context-aware-flow-matching/src/lightning-trainable/src/lightning_trainable/metrics/sinkhorn.py:71: Sinkhorn did not converge. Consider increasing epsilon or number of iterations.\n",
      "/home/lars/code/python/context-aware-flow-matching/src/lightning-trainable/src/lightning_trainable/metrics/sinkhorn.py:71: Sinkhorn did not converge. Consider increasing epsilon or number of iterations.\n",
      "/home/lars/code/python/context-aware-flow-matching/src/lightning-trainable/src/lightning_trainable/metrics/sinkhorn.py:71: Sinkhorn did not converge. Consider increasing epsilon or number of iterations.\n",
      "/home/lars/code/python/context-aware-flow-matching/src/lightning-trainable/src/lightning_trainable/metrics/sinkhorn.py:71: Sinkhorn did not converge. Consider increasing epsilon or number of iterations.\n",
      "/home/lars/code/python/context-aware-flow-matching/src/lightning-trainable/src/lightning_trainable/metrics/sinkhorn.py:71: Sinkhorn did not converge. Consider increasing epsilon or number of iterations.\n",
      "/home/lars/code/python/context-aware-flow-matching/src/lightning-trainable/src/lightning_trainable/metrics/sinkhorn.py:71: Sinkhorn did not converge. Consider increasing epsilon or number of iterations.\n",
      "/home/lars/code/python/context-aware-flow-matching/src/lightning-trainable/src/lightning_trainable/metrics/sinkhorn.py:71: Sinkhorn did not converge. Consider increasing epsilon or number of iterations.\n",
      "/home/lars/code/python/context-aware-flow-matching/src/lightning-trainable/src/lightning_trainable/metrics/sinkhorn.py:71: Sinkhorn did not converge. Consider increasing epsilon or number of iterations.\n",
      "/home/lars/code/python/context-aware-flow-matching/src/lightning-trainable/src/lightning_trainable/metrics/sinkhorn.py:71: Sinkhorn did not converge. Consider increasing epsilon or number of iterations.\n",
      "/home/lars/code/python/context-aware-flow-matching/src/lightning-trainable/src/lightning_trainable/metrics/sinkhorn.py:71: Sinkhorn did not converge. Consider increasing epsilon or number of iterations.\n",
      "/home/lars/code/python/context-aware-flow-matching/src/lightning-trainable/src/lightning_trainable/metrics/sinkhorn.py:71: Sinkhorn did not converge. Consider increasing epsilon or number of iterations.\n",
      "/home/lars/code/python/context-aware-flow-matching/src/lightning-trainable/src/lightning_trainable/metrics/sinkhorn.py:71: Sinkhorn did not converge. Consider increasing epsilon or number of iterations.\n",
      "/home/lars/code/python/context-aware-flow-matching/src/lightning-trainable/src/lightning_trainable/metrics/sinkhorn.py:71: Sinkhorn did not converge. Consider increasing epsilon or number of iterations.\n",
      "/home/lars/code/python/context-aware-flow-matching/src/lightning-trainable/src/lightning_trainable/metrics/sinkhorn.py:71: Sinkhorn did not converge. Consider increasing epsilon or number of iterations.\n",
      "/home/lars/code/python/context-aware-flow-matching/src/lightning-trainable/src/lightning_trainable/metrics/sinkhorn.py:71: Sinkhorn did not converge. Consider increasing epsilon or number of iterations.\n",
      "/home/lars/code/python/context-aware-flow-matching/src/lightning-trainable/src/lightning_trainable/metrics/sinkhorn.py:71: Sinkhorn did not converge. Consider increasing epsilon or number of iterations.\n"
     ]
    },
    {
     "data": {
      "text/plain": "Validation: |          | 0/? [00:00<?, ?it/s]",
      "application/vnd.jupyter.widget-view+json": {
       "version_major": 2,
       "version_minor": 0,
       "model_id": "51e5cd0309354eb7921248dc39516653"
      }
     },
     "metadata": {},
     "output_type": "display_data"
    },
    {
     "name": "stderr",
     "output_type": "stream",
     "text": [
      "/home/lars/code/python/context-aware-flow-matching/src/lightning-trainable/src/lightning_trainable/metrics/sinkhorn.py:71: Sinkhorn did not converge. Consider increasing epsilon or number of iterations.\n",
      "/home/lars/code/python/context-aware-flow-matching/src/lightning-trainable/src/lightning_trainable/metrics/sinkhorn.py:71: Sinkhorn did not converge. Consider increasing epsilon or number of iterations.\n",
      "/home/lars/code/python/context-aware-flow-matching/src/lightning-trainable/src/lightning_trainable/metrics/sinkhorn.py:71: Sinkhorn did not converge. Consider increasing epsilon or number of iterations.\n",
      "/home/lars/code/python/context-aware-flow-matching/src/lightning-trainable/src/lightning_trainable/metrics/sinkhorn.py:71: Sinkhorn did not converge. Consider increasing epsilon or number of iterations.\n",
      "/home/lars/code/python/context-aware-flow-matching/src/lightning-trainable/src/lightning_trainable/metrics/sinkhorn.py:71: Sinkhorn did not converge. Consider increasing epsilon or number of iterations.\n",
      "/home/lars/code/python/context-aware-flow-matching/src/lightning-trainable/src/lightning_trainable/metrics/sinkhorn.py:71: Sinkhorn did not converge. Consider increasing epsilon or number of iterations.\n",
      "/home/lars/code/python/context-aware-flow-matching/src/lightning-trainable/src/lightning_trainable/metrics/sinkhorn.py:71: Sinkhorn did not converge. Consider increasing epsilon or number of iterations.\n",
      "/home/lars/code/python/context-aware-flow-matching/src/lightning-trainable/src/lightning_trainable/metrics/sinkhorn.py:71: Sinkhorn did not converge. Consider increasing epsilon or number of iterations.\n",
      "/home/lars/code/python/context-aware-flow-matching/src/lightning-trainable/src/lightning_trainable/metrics/sinkhorn.py:71: Sinkhorn did not converge. Consider increasing epsilon or number of iterations.\n",
      "/home/lars/code/python/context-aware-flow-matching/src/lightning-trainable/src/lightning_trainable/metrics/sinkhorn.py:71: Sinkhorn did not converge. Consider increasing epsilon or number of iterations.\n",
      "/home/lars/code/python/context-aware-flow-matching/src/lightning-trainable/src/lightning_trainable/metrics/sinkhorn.py:71: Sinkhorn did not converge. Consider increasing epsilon or number of iterations.\n",
      "/home/lars/code/python/context-aware-flow-matching/src/lightning-trainable/src/lightning_trainable/metrics/sinkhorn.py:71: Sinkhorn did not converge. Consider increasing epsilon or number of iterations.\n",
      "/home/lars/code/python/context-aware-flow-matching/src/lightning-trainable/src/lightning_trainable/metrics/sinkhorn.py:71: Sinkhorn did not converge. Consider increasing epsilon or number of iterations.\n",
      "/home/lars/code/python/context-aware-flow-matching/src/lightning-trainable/src/lightning_trainable/metrics/sinkhorn.py:71: Sinkhorn did not converge. Consider increasing epsilon or number of iterations.\n",
      "/home/lars/code/python/context-aware-flow-matching/src/lightning-trainable/src/lightning_trainable/metrics/sinkhorn.py:71: Sinkhorn did not converge. Consider increasing epsilon or number of iterations.\n",
      "/home/lars/code/python/context-aware-flow-matching/src/lightning-trainable/src/lightning_trainable/metrics/sinkhorn.py:71: Sinkhorn did not converge. Consider increasing epsilon or number of iterations.\n",
      "/home/lars/code/python/context-aware-flow-matching/src/lightning-trainable/src/lightning_trainable/metrics/sinkhorn.py:71: Sinkhorn did not converge. Consider increasing epsilon or number of iterations.\n",
      "/home/lars/code/python/context-aware-flow-matching/src/lightning-trainable/src/lightning_trainable/metrics/sinkhorn.py:71: Sinkhorn did not converge. Consider increasing epsilon or number of iterations.\n"
     ]
    },
    {
     "data": {
      "text/plain": "Validation: |          | 0/? [00:00<?, ?it/s]",
      "application/vnd.jupyter.widget-view+json": {
       "version_major": 2,
       "version_minor": 0,
       "model_id": "be8062d1121c41e4a6652c8779148c90"
      }
     },
     "metadata": {},
     "output_type": "display_data"
    },
    {
     "name": "stderr",
     "output_type": "stream",
     "text": [
      "/home/lars/code/python/context-aware-flow-matching/src/lightning-trainable/src/lightning_trainable/metrics/sinkhorn.py:71: Sinkhorn did not converge. Consider increasing epsilon or number of iterations.\n",
      "/home/lars/code/python/context-aware-flow-matching/src/lightning-trainable/src/lightning_trainable/metrics/sinkhorn.py:71: Sinkhorn did not converge. Consider increasing epsilon or number of iterations.\n",
      "/home/lars/code/python/context-aware-flow-matching/src/lightning-trainable/src/lightning_trainable/metrics/sinkhorn.py:71: Sinkhorn did not converge. Consider increasing epsilon or number of iterations.\n",
      "/home/lars/code/python/context-aware-flow-matching/src/lightning-trainable/src/lightning_trainable/metrics/sinkhorn.py:71: Sinkhorn did not converge. Consider increasing epsilon or number of iterations.\n",
      "/home/lars/code/python/context-aware-flow-matching/src/lightning-trainable/src/lightning_trainable/metrics/sinkhorn.py:71: Sinkhorn did not converge. Consider increasing epsilon or number of iterations.\n",
      "/home/lars/code/python/context-aware-flow-matching/src/lightning-trainable/src/lightning_trainable/metrics/sinkhorn.py:71: Sinkhorn did not converge. Consider increasing epsilon or number of iterations.\n",
      "/home/lars/code/python/context-aware-flow-matching/src/lightning-trainable/src/lightning_trainable/metrics/sinkhorn.py:71: Sinkhorn did not converge. Consider increasing epsilon or number of iterations.\n",
      "/home/lars/code/python/context-aware-flow-matching/src/lightning-trainable/src/lightning_trainable/metrics/sinkhorn.py:71: Sinkhorn did not converge. Consider increasing epsilon or number of iterations.\n",
      "/home/lars/code/python/context-aware-flow-matching/src/lightning-trainable/src/lightning_trainable/metrics/sinkhorn.py:71: Sinkhorn did not converge. Consider increasing epsilon or number of iterations.\n",
      "/home/lars/code/python/context-aware-flow-matching/src/lightning-trainable/src/lightning_trainable/metrics/sinkhorn.py:71: Sinkhorn did not converge. Consider increasing epsilon or number of iterations.\n",
      "/home/lars/code/python/context-aware-flow-matching/src/lightning-trainable/src/lightning_trainable/metrics/sinkhorn.py:71: Sinkhorn did not converge. Consider increasing epsilon or number of iterations.\n",
      "/home/lars/code/python/context-aware-flow-matching/src/lightning-trainable/src/lightning_trainable/metrics/sinkhorn.py:71: Sinkhorn did not converge. Consider increasing epsilon or number of iterations.\n",
      "/home/lars/code/python/context-aware-flow-matching/src/lightning-trainable/src/lightning_trainable/metrics/sinkhorn.py:71: Sinkhorn did not converge. Consider increasing epsilon or number of iterations.\n",
      "/home/lars/code/python/context-aware-flow-matching/src/lightning-trainable/src/lightning_trainable/metrics/sinkhorn.py:71: Sinkhorn did not converge. Consider increasing epsilon or number of iterations.\n",
      "/home/lars/code/python/context-aware-flow-matching/src/lightning-trainable/src/lightning_trainable/metrics/sinkhorn.py:71: Sinkhorn did not converge. Consider increasing epsilon or number of iterations.\n",
      "/home/lars/code/python/context-aware-flow-matching/src/lightning-trainable/src/lightning_trainable/metrics/sinkhorn.py:71: Sinkhorn did not converge. Consider increasing epsilon or number of iterations.\n",
      "/home/lars/code/python/context-aware-flow-matching/src/lightning-trainable/src/lightning_trainable/metrics/sinkhorn.py:71: Sinkhorn did not converge. Consider increasing epsilon or number of iterations.\n",
      "/home/lars/code/python/context-aware-flow-matching/src/lightning-trainable/src/lightning_trainable/metrics/sinkhorn.py:71: Sinkhorn did not converge. Consider increasing epsilon or number of iterations.\n"
     ]
    },
    {
     "data": {
      "text/plain": "Validation: |          | 0/? [00:00<?, ?it/s]",
      "application/vnd.jupyter.widget-view+json": {
       "version_major": 2,
       "version_minor": 0,
       "model_id": "6a9924ef507649b5962127c9d77dbc39"
      }
     },
     "metadata": {},
     "output_type": "display_data"
    },
    {
     "name": "stderr",
     "output_type": "stream",
     "text": [
      "/home/lars/code/python/context-aware-flow-matching/src/lightning-trainable/src/lightning_trainable/metrics/sinkhorn.py:71: Sinkhorn did not converge. Consider increasing epsilon or number of iterations.\n",
      "/home/lars/code/python/context-aware-flow-matching/src/lightning-trainable/src/lightning_trainable/metrics/sinkhorn.py:71: Sinkhorn did not converge. Consider increasing epsilon or number of iterations.\n",
      "/home/lars/code/python/context-aware-flow-matching/src/lightning-trainable/src/lightning_trainable/metrics/sinkhorn.py:71: Sinkhorn did not converge. Consider increasing epsilon or number of iterations.\n",
      "/home/lars/code/python/context-aware-flow-matching/src/lightning-trainable/src/lightning_trainable/metrics/sinkhorn.py:71: Sinkhorn did not converge. Consider increasing epsilon or number of iterations.\n",
      "/home/lars/code/python/context-aware-flow-matching/src/lightning-trainable/src/lightning_trainable/metrics/sinkhorn.py:71: Sinkhorn did not converge. Consider increasing epsilon or number of iterations.\n",
      "/home/lars/code/python/context-aware-flow-matching/src/lightning-trainable/src/lightning_trainable/metrics/sinkhorn.py:71: Sinkhorn did not converge. Consider increasing epsilon or number of iterations.\n",
      "/home/lars/code/python/context-aware-flow-matching/src/lightning-trainable/src/lightning_trainable/metrics/sinkhorn.py:71: Sinkhorn did not converge. Consider increasing epsilon or number of iterations.\n",
      "/home/lars/code/python/context-aware-flow-matching/src/lightning-trainable/src/lightning_trainable/metrics/sinkhorn.py:71: Sinkhorn did not converge. Consider increasing epsilon or number of iterations.\n",
      "/home/lars/code/python/context-aware-flow-matching/src/lightning-trainable/src/lightning_trainable/metrics/sinkhorn.py:71: Sinkhorn did not converge. Consider increasing epsilon or number of iterations.\n",
      "/home/lars/code/python/context-aware-flow-matching/src/lightning-trainable/src/lightning_trainable/metrics/sinkhorn.py:71: Sinkhorn did not converge. Consider increasing epsilon or number of iterations.\n",
      "/home/lars/code/python/context-aware-flow-matching/src/lightning-trainable/src/lightning_trainable/metrics/sinkhorn.py:71: Sinkhorn did not converge. Consider increasing epsilon or number of iterations.\n",
      "/home/lars/code/python/context-aware-flow-matching/src/lightning-trainable/src/lightning_trainable/metrics/sinkhorn.py:71: Sinkhorn did not converge. Consider increasing epsilon or number of iterations.\n",
      "/home/lars/code/python/context-aware-flow-matching/src/lightning-trainable/src/lightning_trainable/metrics/sinkhorn.py:71: Sinkhorn did not converge. Consider increasing epsilon or number of iterations.\n",
      "/home/lars/code/python/context-aware-flow-matching/src/lightning-trainable/src/lightning_trainable/metrics/sinkhorn.py:71: Sinkhorn did not converge. Consider increasing epsilon or number of iterations.\n",
      "/home/lars/code/python/context-aware-flow-matching/src/lightning-trainable/src/lightning_trainable/metrics/sinkhorn.py:71: Sinkhorn did not converge. Consider increasing epsilon or number of iterations.\n",
      "/home/lars/code/python/context-aware-flow-matching/src/lightning-trainable/src/lightning_trainable/metrics/sinkhorn.py:71: Sinkhorn did not converge. Consider increasing epsilon or number of iterations.\n",
      "/home/lars/code/python/context-aware-flow-matching/src/lightning-trainable/src/lightning_trainable/metrics/sinkhorn.py:71: Sinkhorn did not converge. Consider increasing epsilon or number of iterations.\n",
      "/home/lars/code/python/context-aware-flow-matching/src/lightning-trainable/src/lightning_trainable/metrics/sinkhorn.py:71: Sinkhorn did not converge. Consider increasing epsilon or number of iterations.\n"
     ]
    },
    {
     "data": {
      "text/plain": "Validation: |          | 0/? [00:00<?, ?it/s]",
      "application/vnd.jupyter.widget-view+json": {
       "version_major": 2,
       "version_minor": 0,
       "model_id": "d73e44b936f64ec29c7b8227a20ee570"
      }
     },
     "metadata": {},
     "output_type": "display_data"
    },
    {
     "name": "stderr",
     "output_type": "stream",
     "text": [
      "/home/lars/code/python/context-aware-flow-matching/src/lightning-trainable/src/lightning_trainable/metrics/sinkhorn.py:71: Sinkhorn did not converge. Consider increasing epsilon or number of iterations.\n",
      "/home/lars/code/python/context-aware-flow-matching/src/lightning-trainable/src/lightning_trainable/metrics/sinkhorn.py:71: Sinkhorn did not converge. Consider increasing epsilon or number of iterations.\n",
      "/home/lars/code/python/context-aware-flow-matching/src/lightning-trainable/src/lightning_trainable/metrics/sinkhorn.py:71: Sinkhorn did not converge. Consider increasing epsilon or number of iterations.\n",
      "/home/lars/code/python/context-aware-flow-matching/src/lightning-trainable/src/lightning_trainable/metrics/sinkhorn.py:71: Sinkhorn did not converge. Consider increasing epsilon or number of iterations.\n",
      "/home/lars/code/python/context-aware-flow-matching/src/lightning-trainable/src/lightning_trainable/metrics/sinkhorn.py:71: Sinkhorn did not converge. Consider increasing epsilon or number of iterations.\n",
      "/home/lars/code/python/context-aware-flow-matching/src/lightning-trainable/src/lightning_trainable/metrics/sinkhorn.py:71: Sinkhorn did not converge. Consider increasing epsilon or number of iterations.\n",
      "/home/lars/code/python/context-aware-flow-matching/src/lightning-trainable/src/lightning_trainable/metrics/sinkhorn.py:71: Sinkhorn did not converge. Consider increasing epsilon or number of iterations.\n",
      "/home/lars/code/python/context-aware-flow-matching/src/lightning-trainable/src/lightning_trainable/metrics/sinkhorn.py:71: Sinkhorn did not converge. Consider increasing epsilon or number of iterations.\n",
      "/home/lars/code/python/context-aware-flow-matching/src/lightning-trainable/src/lightning_trainable/metrics/sinkhorn.py:71: Sinkhorn did not converge. Consider increasing epsilon or number of iterations.\n",
      "/home/lars/code/python/context-aware-flow-matching/src/lightning-trainable/src/lightning_trainable/metrics/sinkhorn.py:71: Sinkhorn did not converge. Consider increasing epsilon or number of iterations.\n",
      "/home/lars/code/python/context-aware-flow-matching/src/lightning-trainable/src/lightning_trainable/metrics/sinkhorn.py:71: Sinkhorn did not converge. Consider increasing epsilon or number of iterations.\n",
      "/home/lars/code/python/context-aware-flow-matching/src/lightning-trainable/src/lightning_trainable/metrics/sinkhorn.py:71: Sinkhorn did not converge. Consider increasing epsilon or number of iterations.\n",
      "/home/lars/code/python/context-aware-flow-matching/src/lightning-trainable/src/lightning_trainable/metrics/sinkhorn.py:71: Sinkhorn did not converge. Consider increasing epsilon or number of iterations.\n",
      "/home/lars/code/python/context-aware-flow-matching/src/lightning-trainable/src/lightning_trainable/metrics/sinkhorn.py:71: Sinkhorn did not converge. Consider increasing epsilon or number of iterations.\n",
      "/home/lars/code/python/context-aware-flow-matching/src/lightning-trainable/src/lightning_trainable/metrics/sinkhorn.py:71: Sinkhorn did not converge. Consider increasing epsilon or number of iterations.\n",
      "/home/lars/code/python/context-aware-flow-matching/src/lightning-trainable/src/lightning_trainable/metrics/sinkhorn.py:71: Sinkhorn did not converge. Consider increasing epsilon or number of iterations.\n",
      "/home/lars/code/python/context-aware-flow-matching/src/lightning-trainable/src/lightning_trainable/metrics/sinkhorn.py:71: Sinkhorn did not converge. Consider increasing epsilon or number of iterations.\n",
      "/home/lars/code/python/context-aware-flow-matching/src/lightning-trainable/src/lightning_trainable/metrics/sinkhorn.py:71: Sinkhorn did not converge. Consider increasing epsilon or number of iterations.\n"
     ]
    },
    {
     "data": {
      "text/plain": "Validation: |          | 0/? [00:00<?, ?it/s]",
      "application/vnd.jupyter.widget-view+json": {
       "version_major": 2,
       "version_minor": 0,
       "model_id": "77304c74d3954fde8788db4e58b3d1af"
      }
     },
     "metadata": {},
     "output_type": "display_data"
    },
    {
     "name": "stderr",
     "output_type": "stream",
     "text": [
      "/home/lars/code/python/context-aware-flow-matching/src/lightning-trainable/src/lightning_trainable/metrics/sinkhorn.py:71: Sinkhorn did not converge. Consider increasing epsilon or number of iterations.\n",
      "/home/lars/code/python/context-aware-flow-matching/src/lightning-trainable/src/lightning_trainable/metrics/sinkhorn.py:71: Sinkhorn did not converge. Consider increasing epsilon or number of iterations.\n",
      "/home/lars/code/python/context-aware-flow-matching/src/lightning-trainable/src/lightning_trainable/metrics/sinkhorn.py:71: Sinkhorn did not converge. Consider increasing epsilon or number of iterations.\n",
      "/home/lars/code/python/context-aware-flow-matching/src/lightning-trainable/src/lightning_trainable/metrics/sinkhorn.py:71: Sinkhorn did not converge. Consider increasing epsilon or number of iterations.\n",
      "/home/lars/code/python/context-aware-flow-matching/src/lightning-trainable/src/lightning_trainable/metrics/sinkhorn.py:71: Sinkhorn did not converge. Consider increasing epsilon or number of iterations.\n",
      "/home/lars/code/python/context-aware-flow-matching/src/lightning-trainable/src/lightning_trainable/metrics/sinkhorn.py:71: Sinkhorn did not converge. Consider increasing epsilon or number of iterations.\n",
      "/home/lars/code/python/context-aware-flow-matching/src/lightning-trainable/src/lightning_trainable/metrics/sinkhorn.py:71: Sinkhorn did not converge. Consider increasing epsilon or number of iterations.\n",
      "/home/lars/code/python/context-aware-flow-matching/src/lightning-trainable/src/lightning_trainable/metrics/sinkhorn.py:71: Sinkhorn did not converge. Consider increasing epsilon or number of iterations.\n",
      "/home/lars/code/python/context-aware-flow-matching/src/lightning-trainable/src/lightning_trainable/metrics/sinkhorn.py:71: Sinkhorn did not converge. Consider increasing epsilon or number of iterations.\n",
      "/home/lars/code/python/context-aware-flow-matching/src/lightning-trainable/src/lightning_trainable/metrics/sinkhorn.py:71: Sinkhorn did not converge. Consider increasing epsilon or number of iterations.\n",
      "/home/lars/code/python/context-aware-flow-matching/src/lightning-trainable/src/lightning_trainable/metrics/sinkhorn.py:71: Sinkhorn did not converge. Consider increasing epsilon or number of iterations.\n",
      "/home/lars/code/python/context-aware-flow-matching/src/lightning-trainable/src/lightning_trainable/metrics/sinkhorn.py:71: Sinkhorn did not converge. Consider increasing epsilon or number of iterations.\n",
      "/home/lars/code/python/context-aware-flow-matching/src/lightning-trainable/src/lightning_trainable/metrics/sinkhorn.py:71: Sinkhorn did not converge. Consider increasing epsilon or number of iterations.\n",
      "/home/lars/code/python/context-aware-flow-matching/src/lightning-trainable/src/lightning_trainable/metrics/sinkhorn.py:71: Sinkhorn did not converge. Consider increasing epsilon or number of iterations.\n",
      "/home/lars/code/python/context-aware-flow-matching/src/lightning-trainable/src/lightning_trainable/metrics/sinkhorn.py:71: Sinkhorn did not converge. Consider increasing epsilon or number of iterations.\n",
      "/home/lars/code/python/context-aware-flow-matching/src/lightning-trainable/src/lightning_trainable/metrics/sinkhorn.py:71: Sinkhorn did not converge. Consider increasing epsilon or number of iterations.\n",
      "/home/lars/code/python/context-aware-flow-matching/src/lightning-trainable/src/lightning_trainable/metrics/sinkhorn.py:71: Sinkhorn did not converge. Consider increasing epsilon or number of iterations.\n",
      "/home/lars/code/python/context-aware-flow-matching/src/lightning-trainable/src/lightning_trainable/metrics/sinkhorn.py:71: Sinkhorn did not converge. Consider increasing epsilon or number of iterations.\n"
     ]
    },
    {
     "data": {
      "text/plain": "Validation: |          | 0/? [00:00<?, ?it/s]",
      "application/vnd.jupyter.widget-view+json": {
       "version_major": 2,
       "version_minor": 0,
       "model_id": "d91f2b3d7d8f4c3f925fbb0a575e0932"
      }
     },
     "metadata": {},
     "output_type": "display_data"
    },
    {
     "name": "stderr",
     "output_type": "stream",
     "text": [
      "/home/lars/code/python/context-aware-flow-matching/src/lightning-trainable/src/lightning_trainable/metrics/sinkhorn.py:71: Sinkhorn did not converge. Consider increasing epsilon or number of iterations.\n",
      "/home/lars/code/python/context-aware-flow-matching/src/lightning-trainable/src/lightning_trainable/metrics/sinkhorn.py:71: Sinkhorn did not converge. Consider increasing epsilon or number of iterations.\n",
      "/home/lars/code/python/context-aware-flow-matching/src/lightning-trainable/src/lightning_trainable/metrics/sinkhorn.py:71: Sinkhorn did not converge. Consider increasing epsilon or number of iterations.\n",
      "/home/lars/code/python/context-aware-flow-matching/src/lightning-trainable/src/lightning_trainable/metrics/sinkhorn.py:71: Sinkhorn did not converge. Consider increasing epsilon or number of iterations.\n",
      "/home/lars/code/python/context-aware-flow-matching/src/lightning-trainable/src/lightning_trainable/metrics/sinkhorn.py:71: Sinkhorn did not converge. Consider increasing epsilon or number of iterations.\n",
      "/home/lars/code/python/context-aware-flow-matching/src/lightning-trainable/src/lightning_trainable/metrics/sinkhorn.py:71: Sinkhorn did not converge. Consider increasing epsilon or number of iterations.\n",
      "/home/lars/code/python/context-aware-flow-matching/src/lightning-trainable/src/lightning_trainable/metrics/sinkhorn.py:71: Sinkhorn did not converge. Consider increasing epsilon or number of iterations.\n",
      "/home/lars/code/python/context-aware-flow-matching/src/lightning-trainable/src/lightning_trainable/metrics/sinkhorn.py:71: Sinkhorn did not converge. Consider increasing epsilon or number of iterations.\n",
      "/home/lars/code/python/context-aware-flow-matching/src/lightning-trainable/src/lightning_trainable/metrics/sinkhorn.py:71: Sinkhorn did not converge. Consider increasing epsilon or number of iterations.\n",
      "/home/lars/code/python/context-aware-flow-matching/src/lightning-trainable/src/lightning_trainable/metrics/sinkhorn.py:71: Sinkhorn did not converge. Consider increasing epsilon or number of iterations.\n",
      "/home/lars/code/python/context-aware-flow-matching/src/lightning-trainable/src/lightning_trainable/metrics/sinkhorn.py:71: Sinkhorn did not converge. Consider increasing epsilon or number of iterations.\n",
      "/home/lars/code/python/context-aware-flow-matching/src/lightning-trainable/src/lightning_trainable/metrics/sinkhorn.py:71: Sinkhorn did not converge. Consider increasing epsilon or number of iterations.\n",
      "/home/lars/code/python/context-aware-flow-matching/src/lightning-trainable/src/lightning_trainable/metrics/sinkhorn.py:71: Sinkhorn did not converge. Consider increasing epsilon or number of iterations.\n",
      "/home/lars/code/python/context-aware-flow-matching/src/lightning-trainable/src/lightning_trainable/metrics/sinkhorn.py:71: Sinkhorn did not converge. Consider increasing epsilon or number of iterations.\n",
      "/home/lars/code/python/context-aware-flow-matching/src/lightning-trainable/src/lightning_trainable/metrics/sinkhorn.py:71: Sinkhorn did not converge. Consider increasing epsilon or number of iterations.\n",
      "/home/lars/code/python/context-aware-flow-matching/src/lightning-trainable/src/lightning_trainable/metrics/sinkhorn.py:71: Sinkhorn did not converge. Consider increasing epsilon or number of iterations.\n",
      "/home/lars/code/python/context-aware-flow-matching/src/lightning-trainable/src/lightning_trainable/metrics/sinkhorn.py:71: Sinkhorn did not converge. Consider increasing epsilon or number of iterations.\n",
      "/home/lars/code/python/context-aware-flow-matching/src/lightning-trainable/src/lightning_trainable/metrics/sinkhorn.py:71: Sinkhorn did not converge. Consider increasing epsilon or number of iterations.\n"
     ]
    },
    {
     "data": {
      "text/plain": "Validation: |          | 0/? [00:00<?, ?it/s]",
      "application/vnd.jupyter.widget-view+json": {
       "version_major": 2,
       "version_minor": 0,
       "model_id": "16f276fc920046ebb4b184150b563d8a"
      }
     },
     "metadata": {},
     "output_type": "display_data"
    },
    {
     "name": "stderr",
     "output_type": "stream",
     "text": [
      "/home/lars/code/python/context-aware-flow-matching/src/lightning-trainable/src/lightning_trainable/metrics/sinkhorn.py:71: Sinkhorn did not converge. Consider increasing epsilon or number of iterations.\n",
      "/home/lars/code/python/context-aware-flow-matching/src/lightning-trainable/src/lightning_trainable/metrics/sinkhorn.py:71: Sinkhorn did not converge. Consider increasing epsilon or number of iterations.\n",
      "/home/lars/code/python/context-aware-flow-matching/src/lightning-trainable/src/lightning_trainable/metrics/sinkhorn.py:71: Sinkhorn did not converge. Consider increasing epsilon or number of iterations.\n",
      "/home/lars/code/python/context-aware-flow-matching/src/lightning-trainable/src/lightning_trainable/metrics/sinkhorn.py:71: Sinkhorn did not converge. Consider increasing epsilon or number of iterations.\n",
      "/home/lars/code/python/context-aware-flow-matching/src/lightning-trainable/src/lightning_trainable/metrics/sinkhorn.py:71: Sinkhorn did not converge. Consider increasing epsilon or number of iterations.\n",
      "/home/lars/code/python/context-aware-flow-matching/src/lightning-trainable/src/lightning_trainable/metrics/sinkhorn.py:71: Sinkhorn did not converge. Consider increasing epsilon or number of iterations.\n",
      "/home/lars/code/python/context-aware-flow-matching/src/lightning-trainable/src/lightning_trainable/metrics/sinkhorn.py:71: Sinkhorn did not converge. Consider increasing epsilon or number of iterations.\n",
      "/home/lars/code/python/context-aware-flow-matching/src/lightning-trainable/src/lightning_trainable/metrics/sinkhorn.py:71: Sinkhorn did not converge. Consider increasing epsilon or number of iterations.\n",
      "/home/lars/code/python/context-aware-flow-matching/src/lightning-trainable/src/lightning_trainable/metrics/sinkhorn.py:71: Sinkhorn did not converge. Consider increasing epsilon or number of iterations.\n",
      "/home/lars/code/python/context-aware-flow-matching/src/lightning-trainable/src/lightning_trainable/metrics/sinkhorn.py:71: Sinkhorn did not converge. Consider increasing epsilon or number of iterations.\n",
      "/home/lars/code/python/context-aware-flow-matching/src/lightning-trainable/src/lightning_trainable/metrics/sinkhorn.py:71: Sinkhorn did not converge. Consider increasing epsilon or number of iterations.\n",
      "/home/lars/code/python/context-aware-flow-matching/src/lightning-trainable/src/lightning_trainable/metrics/sinkhorn.py:71: Sinkhorn did not converge. Consider increasing epsilon or number of iterations.\n",
      "/home/lars/code/python/context-aware-flow-matching/src/lightning-trainable/src/lightning_trainable/metrics/sinkhorn.py:71: Sinkhorn did not converge. Consider increasing epsilon or number of iterations.\n",
      "/home/lars/code/python/context-aware-flow-matching/src/lightning-trainable/src/lightning_trainable/metrics/sinkhorn.py:71: Sinkhorn did not converge. Consider increasing epsilon or number of iterations.\n",
      "/home/lars/code/python/context-aware-flow-matching/src/lightning-trainable/src/lightning_trainable/metrics/sinkhorn.py:71: Sinkhorn did not converge. Consider increasing epsilon or number of iterations.\n",
      "/home/lars/code/python/context-aware-flow-matching/src/lightning-trainable/src/lightning_trainable/metrics/sinkhorn.py:71: Sinkhorn did not converge. Consider increasing epsilon or number of iterations.\n",
      "/home/lars/code/python/context-aware-flow-matching/src/lightning-trainable/src/lightning_trainable/metrics/sinkhorn.py:71: Sinkhorn did not converge. Consider increasing epsilon or number of iterations.\n",
      "/home/lars/code/python/context-aware-flow-matching/src/lightning-trainable/src/lightning_trainable/metrics/sinkhorn.py:71: Sinkhorn did not converge. Consider increasing epsilon or number of iterations.\n"
     ]
    },
    {
     "data": {
      "text/plain": "Validation: |          | 0/? [00:00<?, ?it/s]",
      "application/vnd.jupyter.widget-view+json": {
       "version_major": 2,
       "version_minor": 0,
       "model_id": "db5b59ef812140afad14fd069446e7b1"
      }
     },
     "metadata": {},
     "output_type": "display_data"
    },
    {
     "name": "stderr",
     "output_type": "stream",
     "text": [
      "/home/lars/code/python/context-aware-flow-matching/src/lightning-trainable/src/lightning_trainable/metrics/sinkhorn.py:71: Sinkhorn did not converge. Consider increasing epsilon or number of iterations.\n",
      "/home/lars/code/python/context-aware-flow-matching/src/lightning-trainable/src/lightning_trainable/metrics/sinkhorn.py:71: Sinkhorn did not converge. Consider increasing epsilon or number of iterations.\n",
      "/home/lars/code/python/context-aware-flow-matching/src/lightning-trainable/src/lightning_trainable/metrics/sinkhorn.py:71: Sinkhorn did not converge. Consider increasing epsilon or number of iterations.\n",
      "/home/lars/code/python/context-aware-flow-matching/src/lightning-trainable/src/lightning_trainable/metrics/sinkhorn.py:71: Sinkhorn did not converge. Consider increasing epsilon or number of iterations.\n",
      "/home/lars/code/python/context-aware-flow-matching/src/lightning-trainable/src/lightning_trainable/metrics/sinkhorn.py:71: Sinkhorn did not converge. Consider increasing epsilon or number of iterations.\n",
      "/home/lars/code/python/context-aware-flow-matching/src/lightning-trainable/src/lightning_trainable/metrics/sinkhorn.py:71: Sinkhorn did not converge. Consider increasing epsilon or number of iterations.\n",
      "/home/lars/code/python/context-aware-flow-matching/src/lightning-trainable/src/lightning_trainable/metrics/sinkhorn.py:71: Sinkhorn did not converge. Consider increasing epsilon or number of iterations.\n",
      "/home/lars/code/python/context-aware-flow-matching/src/lightning-trainable/src/lightning_trainable/metrics/sinkhorn.py:71: Sinkhorn did not converge. Consider increasing epsilon or number of iterations.\n",
      "/home/lars/code/python/context-aware-flow-matching/src/lightning-trainable/src/lightning_trainable/metrics/sinkhorn.py:71: Sinkhorn did not converge. Consider increasing epsilon or number of iterations.\n",
      "/home/lars/code/python/context-aware-flow-matching/src/lightning-trainable/src/lightning_trainable/metrics/sinkhorn.py:71: Sinkhorn did not converge. Consider increasing epsilon or number of iterations.\n",
      "/home/lars/code/python/context-aware-flow-matching/src/lightning-trainable/src/lightning_trainable/metrics/sinkhorn.py:71: Sinkhorn did not converge. Consider increasing epsilon or number of iterations.\n",
      "/home/lars/code/python/context-aware-flow-matching/src/lightning-trainable/src/lightning_trainable/metrics/sinkhorn.py:71: Sinkhorn did not converge. Consider increasing epsilon or number of iterations.\n",
      "/home/lars/code/python/context-aware-flow-matching/src/lightning-trainable/src/lightning_trainable/metrics/sinkhorn.py:71: Sinkhorn did not converge. Consider increasing epsilon or number of iterations.\n",
      "/home/lars/code/python/context-aware-flow-matching/src/lightning-trainable/src/lightning_trainable/metrics/sinkhorn.py:71: Sinkhorn did not converge. Consider increasing epsilon or number of iterations.\n",
      "/home/lars/code/python/context-aware-flow-matching/src/lightning-trainable/src/lightning_trainable/metrics/sinkhorn.py:71: Sinkhorn did not converge. Consider increasing epsilon or number of iterations.\n",
      "/home/lars/code/python/context-aware-flow-matching/src/lightning-trainable/src/lightning_trainable/metrics/sinkhorn.py:71: Sinkhorn did not converge. Consider increasing epsilon or number of iterations.\n",
      "/home/lars/code/python/context-aware-flow-matching/src/lightning-trainable/src/lightning_trainable/metrics/sinkhorn.py:71: Sinkhorn did not converge. Consider increasing epsilon or number of iterations.\n",
      "/home/lars/code/python/context-aware-flow-matching/src/lightning-trainable/src/lightning_trainable/metrics/sinkhorn.py:71: Sinkhorn did not converge. Consider increasing epsilon or number of iterations.\n"
     ]
    },
    {
     "data": {
      "text/plain": "Validation: |          | 0/? [00:00<?, ?it/s]",
      "application/vnd.jupyter.widget-view+json": {
       "version_major": 2,
       "version_minor": 0,
       "model_id": "9fba74d43da042b2b7ce5a46432d4541"
      }
     },
     "metadata": {},
     "output_type": "display_data"
    },
    {
     "name": "stderr",
     "output_type": "stream",
     "text": [
      "/home/lars/code/python/context-aware-flow-matching/src/lightning-trainable/src/lightning_trainable/metrics/sinkhorn.py:71: Sinkhorn did not converge. Consider increasing epsilon or number of iterations.\n",
      "/home/lars/code/python/context-aware-flow-matching/src/lightning-trainable/src/lightning_trainable/metrics/sinkhorn.py:71: Sinkhorn did not converge. Consider increasing epsilon or number of iterations.\n",
      "/home/lars/code/python/context-aware-flow-matching/src/lightning-trainable/src/lightning_trainable/metrics/sinkhorn.py:71: Sinkhorn did not converge. Consider increasing epsilon or number of iterations.\n",
      "/home/lars/code/python/context-aware-flow-matching/src/lightning-trainable/src/lightning_trainable/metrics/sinkhorn.py:71: Sinkhorn did not converge. Consider increasing epsilon or number of iterations.\n",
      "/home/lars/code/python/context-aware-flow-matching/src/lightning-trainable/src/lightning_trainable/metrics/sinkhorn.py:71: Sinkhorn did not converge. Consider increasing epsilon or number of iterations.\n",
      "/home/lars/code/python/context-aware-flow-matching/src/lightning-trainable/src/lightning_trainable/metrics/sinkhorn.py:71: Sinkhorn did not converge. Consider increasing epsilon or number of iterations.\n",
      "/home/lars/code/python/context-aware-flow-matching/src/lightning-trainable/src/lightning_trainable/metrics/sinkhorn.py:71: Sinkhorn did not converge. Consider increasing epsilon or number of iterations.\n",
      "/home/lars/code/python/context-aware-flow-matching/src/lightning-trainable/src/lightning_trainable/metrics/sinkhorn.py:71: Sinkhorn did not converge. Consider increasing epsilon or number of iterations.\n",
      "/home/lars/code/python/context-aware-flow-matching/src/lightning-trainable/src/lightning_trainable/metrics/sinkhorn.py:71: Sinkhorn did not converge. Consider increasing epsilon or number of iterations.\n",
      "/home/lars/code/python/context-aware-flow-matching/src/lightning-trainable/src/lightning_trainable/metrics/sinkhorn.py:71: Sinkhorn did not converge. Consider increasing epsilon or number of iterations.\n",
      "/home/lars/code/python/context-aware-flow-matching/src/lightning-trainable/src/lightning_trainable/metrics/sinkhorn.py:71: Sinkhorn did not converge. Consider increasing epsilon or number of iterations.\n",
      "/home/lars/code/python/context-aware-flow-matching/src/lightning-trainable/src/lightning_trainable/metrics/sinkhorn.py:71: Sinkhorn did not converge. Consider increasing epsilon or number of iterations.\n",
      "/home/lars/code/python/context-aware-flow-matching/src/lightning-trainable/src/lightning_trainable/metrics/sinkhorn.py:71: Sinkhorn did not converge. Consider increasing epsilon or number of iterations.\n",
      "/home/lars/code/python/context-aware-flow-matching/src/lightning-trainable/src/lightning_trainable/metrics/sinkhorn.py:71: Sinkhorn did not converge. Consider increasing epsilon or number of iterations.\n",
      "/home/lars/code/python/context-aware-flow-matching/src/lightning-trainable/src/lightning_trainable/metrics/sinkhorn.py:71: Sinkhorn did not converge. Consider increasing epsilon or number of iterations.\n",
      "/home/lars/code/python/context-aware-flow-matching/src/lightning-trainable/src/lightning_trainable/metrics/sinkhorn.py:71: Sinkhorn did not converge. Consider increasing epsilon or number of iterations.\n",
      "/home/lars/code/python/context-aware-flow-matching/src/lightning-trainable/src/lightning_trainable/metrics/sinkhorn.py:71: Sinkhorn did not converge. Consider increasing epsilon or number of iterations.\n",
      "/home/lars/code/python/context-aware-flow-matching/src/lightning-trainable/src/lightning_trainable/metrics/sinkhorn.py:71: Sinkhorn did not converge. Consider increasing epsilon or number of iterations.\n"
     ]
    },
    {
     "data": {
      "text/plain": "Validation: |          | 0/? [00:00<?, ?it/s]",
      "application/vnd.jupyter.widget-view+json": {
       "version_major": 2,
       "version_minor": 0,
       "model_id": "0ec2f1b3ba0f4c73bb33d7aed72be1b3"
      }
     },
     "metadata": {},
     "output_type": "display_data"
    },
    {
     "name": "stderr",
     "output_type": "stream",
     "text": [
      "/home/lars/code/python/context-aware-flow-matching/src/lightning-trainable/src/lightning_trainable/metrics/sinkhorn.py:71: Sinkhorn did not converge. Consider increasing epsilon or number of iterations.\n",
      "/home/lars/code/python/context-aware-flow-matching/src/lightning-trainable/src/lightning_trainable/metrics/sinkhorn.py:71: Sinkhorn did not converge. Consider increasing epsilon or number of iterations.\n",
      "/home/lars/code/python/context-aware-flow-matching/src/lightning-trainable/src/lightning_trainable/metrics/sinkhorn.py:71: Sinkhorn did not converge. Consider increasing epsilon or number of iterations.\n",
      "/home/lars/code/python/context-aware-flow-matching/src/lightning-trainable/src/lightning_trainable/metrics/sinkhorn.py:71: Sinkhorn did not converge. Consider increasing epsilon or number of iterations.\n",
      "/home/lars/code/python/context-aware-flow-matching/src/lightning-trainable/src/lightning_trainable/metrics/sinkhorn.py:71: Sinkhorn did not converge. Consider increasing epsilon or number of iterations.\n",
      "/home/lars/code/python/context-aware-flow-matching/src/lightning-trainable/src/lightning_trainable/metrics/sinkhorn.py:71: Sinkhorn did not converge. Consider increasing epsilon or number of iterations.\n",
      "/home/lars/code/python/context-aware-flow-matching/src/lightning-trainable/src/lightning_trainable/metrics/sinkhorn.py:71: Sinkhorn did not converge. Consider increasing epsilon or number of iterations.\n",
      "/home/lars/code/python/context-aware-flow-matching/src/lightning-trainable/src/lightning_trainable/metrics/sinkhorn.py:71: Sinkhorn did not converge. Consider increasing epsilon or number of iterations.\n",
      "/home/lars/code/python/context-aware-flow-matching/src/lightning-trainable/src/lightning_trainable/metrics/sinkhorn.py:71: Sinkhorn did not converge. Consider increasing epsilon or number of iterations.\n",
      "/home/lars/code/python/context-aware-flow-matching/src/lightning-trainable/src/lightning_trainable/metrics/sinkhorn.py:71: Sinkhorn did not converge. Consider increasing epsilon or number of iterations.\n",
      "/home/lars/code/python/context-aware-flow-matching/src/lightning-trainable/src/lightning_trainable/metrics/sinkhorn.py:71: Sinkhorn did not converge. Consider increasing epsilon or number of iterations.\n",
      "/home/lars/code/python/context-aware-flow-matching/src/lightning-trainable/src/lightning_trainable/metrics/sinkhorn.py:71: Sinkhorn did not converge. Consider increasing epsilon or number of iterations.\n",
      "/home/lars/code/python/context-aware-flow-matching/src/lightning-trainable/src/lightning_trainable/metrics/sinkhorn.py:71: Sinkhorn did not converge. Consider increasing epsilon or number of iterations.\n",
      "/home/lars/code/python/context-aware-flow-matching/src/lightning-trainable/src/lightning_trainable/metrics/sinkhorn.py:71: Sinkhorn did not converge. Consider increasing epsilon or number of iterations.\n",
      "/home/lars/code/python/context-aware-flow-matching/src/lightning-trainable/src/lightning_trainable/metrics/sinkhorn.py:71: Sinkhorn did not converge. Consider increasing epsilon or number of iterations.\n",
      "/home/lars/code/python/context-aware-flow-matching/src/lightning-trainable/src/lightning_trainable/metrics/sinkhorn.py:71: Sinkhorn did not converge. Consider increasing epsilon or number of iterations.\n",
      "/home/lars/code/python/context-aware-flow-matching/src/lightning-trainable/src/lightning_trainable/metrics/sinkhorn.py:71: Sinkhorn did not converge. Consider increasing epsilon or number of iterations.\n",
      "/home/lars/code/python/context-aware-flow-matching/src/lightning-trainable/src/lightning_trainable/metrics/sinkhorn.py:71: Sinkhorn did not converge. Consider increasing epsilon or number of iterations.\n"
     ]
    },
    {
     "data": {
      "text/plain": "Validation: |          | 0/? [00:00<?, ?it/s]",
      "application/vnd.jupyter.widget-view+json": {
       "version_major": 2,
       "version_minor": 0,
       "model_id": "7804badca0254a5e8ff296fff6e01f3c"
      }
     },
     "metadata": {},
     "output_type": "display_data"
    },
    {
     "name": "stderr",
     "output_type": "stream",
     "text": [
      "/home/lars/code/python/context-aware-flow-matching/src/lightning-trainable/src/lightning_trainable/metrics/sinkhorn.py:71: Sinkhorn did not converge. Consider increasing epsilon or number of iterations.\n",
      "/home/lars/code/python/context-aware-flow-matching/src/lightning-trainable/src/lightning_trainable/metrics/sinkhorn.py:71: Sinkhorn did not converge. Consider increasing epsilon or number of iterations.\n",
      "/home/lars/code/python/context-aware-flow-matching/src/lightning-trainable/src/lightning_trainable/metrics/sinkhorn.py:71: Sinkhorn did not converge. Consider increasing epsilon or number of iterations.\n",
      "/home/lars/code/python/context-aware-flow-matching/src/lightning-trainable/src/lightning_trainable/metrics/sinkhorn.py:71: Sinkhorn did not converge. Consider increasing epsilon or number of iterations.\n",
      "/home/lars/code/python/context-aware-flow-matching/src/lightning-trainable/src/lightning_trainable/metrics/sinkhorn.py:71: Sinkhorn did not converge. Consider increasing epsilon or number of iterations.\n",
      "/home/lars/code/python/context-aware-flow-matching/src/lightning-trainable/src/lightning_trainable/metrics/sinkhorn.py:71: Sinkhorn did not converge. Consider increasing epsilon or number of iterations.\n",
      "/home/lars/code/python/context-aware-flow-matching/src/lightning-trainable/src/lightning_trainable/metrics/sinkhorn.py:71: Sinkhorn did not converge. Consider increasing epsilon or number of iterations.\n",
      "/home/lars/code/python/context-aware-flow-matching/src/lightning-trainable/src/lightning_trainable/metrics/sinkhorn.py:71: Sinkhorn did not converge. Consider increasing epsilon or number of iterations.\n",
      "/home/lars/code/python/context-aware-flow-matching/src/lightning-trainable/src/lightning_trainable/metrics/sinkhorn.py:71: Sinkhorn did not converge. Consider increasing epsilon or number of iterations.\n",
      "/home/lars/code/python/context-aware-flow-matching/src/lightning-trainable/src/lightning_trainable/metrics/sinkhorn.py:71: Sinkhorn did not converge. Consider increasing epsilon or number of iterations.\n",
      "/home/lars/code/python/context-aware-flow-matching/src/lightning-trainable/src/lightning_trainable/metrics/sinkhorn.py:71: Sinkhorn did not converge. Consider increasing epsilon or number of iterations.\n",
      "/home/lars/code/python/context-aware-flow-matching/src/lightning-trainable/src/lightning_trainable/metrics/sinkhorn.py:71: Sinkhorn did not converge. Consider increasing epsilon or number of iterations.\n",
      "/home/lars/code/python/context-aware-flow-matching/src/lightning-trainable/src/lightning_trainable/metrics/sinkhorn.py:71: Sinkhorn did not converge. Consider increasing epsilon or number of iterations.\n",
      "/home/lars/code/python/context-aware-flow-matching/src/lightning-trainable/src/lightning_trainable/metrics/sinkhorn.py:71: Sinkhorn did not converge. Consider increasing epsilon or number of iterations.\n",
      "/home/lars/code/python/context-aware-flow-matching/src/lightning-trainable/src/lightning_trainable/metrics/sinkhorn.py:71: Sinkhorn did not converge. Consider increasing epsilon or number of iterations.\n",
      "/home/lars/code/python/context-aware-flow-matching/src/lightning-trainable/src/lightning_trainable/metrics/sinkhorn.py:71: Sinkhorn did not converge. Consider increasing epsilon or number of iterations.\n",
      "/home/lars/code/python/context-aware-flow-matching/src/lightning-trainable/src/lightning_trainable/metrics/sinkhorn.py:71: Sinkhorn did not converge. Consider increasing epsilon or number of iterations.\n",
      "/home/lars/code/python/context-aware-flow-matching/src/lightning-trainable/src/lightning_trainable/metrics/sinkhorn.py:71: Sinkhorn did not converge. Consider increasing epsilon or number of iterations.\n"
     ]
    },
    {
     "data": {
      "text/plain": "Validation: |          | 0/? [00:00<?, ?it/s]",
      "application/vnd.jupyter.widget-view+json": {
       "version_major": 2,
       "version_minor": 0,
       "model_id": "72b30432c0f444a7b0a1f549b13d9b3f"
      }
     },
     "metadata": {},
     "output_type": "display_data"
    },
    {
     "name": "stderr",
     "output_type": "stream",
     "text": [
      "/home/lars/code/python/context-aware-flow-matching/src/lightning-trainable/src/lightning_trainable/metrics/sinkhorn.py:71: Sinkhorn did not converge. Consider increasing epsilon or number of iterations.\n",
      "/home/lars/code/python/context-aware-flow-matching/src/lightning-trainable/src/lightning_trainable/metrics/sinkhorn.py:71: Sinkhorn did not converge. Consider increasing epsilon or number of iterations.\n",
      "/home/lars/code/python/context-aware-flow-matching/src/lightning-trainable/src/lightning_trainable/metrics/sinkhorn.py:71: Sinkhorn did not converge. Consider increasing epsilon or number of iterations.\n",
      "/home/lars/code/python/context-aware-flow-matching/src/lightning-trainable/src/lightning_trainable/metrics/sinkhorn.py:71: Sinkhorn did not converge. Consider increasing epsilon or number of iterations.\n",
      "/home/lars/code/python/context-aware-flow-matching/src/lightning-trainable/src/lightning_trainable/metrics/sinkhorn.py:71: Sinkhorn did not converge. Consider increasing epsilon or number of iterations.\n",
      "/home/lars/code/python/context-aware-flow-matching/src/lightning-trainable/src/lightning_trainable/metrics/sinkhorn.py:71: Sinkhorn did not converge. Consider increasing epsilon or number of iterations.\n",
      "/home/lars/code/python/context-aware-flow-matching/src/lightning-trainable/src/lightning_trainable/metrics/sinkhorn.py:71: Sinkhorn did not converge. Consider increasing epsilon or number of iterations.\n",
      "/home/lars/code/python/context-aware-flow-matching/src/lightning-trainable/src/lightning_trainable/metrics/sinkhorn.py:71: Sinkhorn did not converge. Consider increasing epsilon or number of iterations.\n",
      "/home/lars/code/python/context-aware-flow-matching/src/lightning-trainable/src/lightning_trainable/metrics/sinkhorn.py:71: Sinkhorn did not converge. Consider increasing epsilon or number of iterations.\n",
      "/home/lars/code/python/context-aware-flow-matching/src/lightning-trainable/src/lightning_trainable/metrics/sinkhorn.py:71: Sinkhorn did not converge. Consider increasing epsilon or number of iterations.\n",
      "/home/lars/code/python/context-aware-flow-matching/src/lightning-trainable/src/lightning_trainable/metrics/sinkhorn.py:71: Sinkhorn did not converge. Consider increasing epsilon or number of iterations.\n",
      "/home/lars/code/python/context-aware-flow-matching/src/lightning-trainable/src/lightning_trainable/metrics/sinkhorn.py:71: Sinkhorn did not converge. Consider increasing epsilon or number of iterations.\n",
      "/home/lars/code/python/context-aware-flow-matching/src/lightning-trainable/src/lightning_trainable/metrics/sinkhorn.py:71: Sinkhorn did not converge. Consider increasing epsilon or number of iterations.\n",
      "/home/lars/code/python/context-aware-flow-matching/src/lightning-trainable/src/lightning_trainable/metrics/sinkhorn.py:71: Sinkhorn did not converge. Consider increasing epsilon or number of iterations.\n",
      "/home/lars/code/python/context-aware-flow-matching/src/lightning-trainable/src/lightning_trainable/metrics/sinkhorn.py:71: Sinkhorn did not converge. Consider increasing epsilon or number of iterations.\n",
      "/home/lars/code/python/context-aware-flow-matching/src/lightning-trainable/src/lightning_trainable/metrics/sinkhorn.py:71: Sinkhorn did not converge. Consider increasing epsilon or number of iterations.\n",
      "/home/lars/code/python/context-aware-flow-matching/src/lightning-trainable/src/lightning_trainable/metrics/sinkhorn.py:71: Sinkhorn did not converge. Consider increasing epsilon or number of iterations.\n",
      "/home/lars/code/python/context-aware-flow-matching/src/lightning-trainable/src/lightning_trainable/metrics/sinkhorn.py:71: Sinkhorn did not converge. Consider increasing epsilon or number of iterations.\n"
     ]
    },
    {
     "data": {
      "text/plain": "Validation: |          | 0/? [00:00<?, ?it/s]",
      "application/vnd.jupyter.widget-view+json": {
       "version_major": 2,
       "version_minor": 0,
       "model_id": "3675fa5df09e4a2e805bcf0edb118c9e"
      }
     },
     "metadata": {},
     "output_type": "display_data"
    },
    {
     "name": "stderr",
     "output_type": "stream",
     "text": [
      "/home/lars/code/python/context-aware-flow-matching/src/lightning-trainable/src/lightning_trainable/metrics/sinkhorn.py:71: Sinkhorn did not converge. Consider increasing epsilon or number of iterations.\n",
      "/home/lars/code/python/context-aware-flow-matching/src/lightning-trainable/src/lightning_trainable/metrics/sinkhorn.py:71: Sinkhorn did not converge. Consider increasing epsilon or number of iterations.\n",
      "/home/lars/code/python/context-aware-flow-matching/src/lightning-trainable/src/lightning_trainable/metrics/sinkhorn.py:71: Sinkhorn did not converge. Consider increasing epsilon or number of iterations.\n",
      "/home/lars/code/python/context-aware-flow-matching/src/lightning-trainable/src/lightning_trainable/metrics/sinkhorn.py:71: Sinkhorn did not converge. Consider increasing epsilon or number of iterations.\n",
      "/home/lars/code/python/context-aware-flow-matching/src/lightning-trainable/src/lightning_trainable/metrics/sinkhorn.py:71: Sinkhorn did not converge. Consider increasing epsilon or number of iterations.\n",
      "/home/lars/code/python/context-aware-flow-matching/src/lightning-trainable/src/lightning_trainable/metrics/sinkhorn.py:71: Sinkhorn did not converge. Consider increasing epsilon or number of iterations.\n",
      "/home/lars/code/python/context-aware-flow-matching/src/lightning-trainable/src/lightning_trainable/metrics/sinkhorn.py:71: Sinkhorn did not converge. Consider increasing epsilon or number of iterations.\n",
      "/home/lars/code/python/context-aware-flow-matching/src/lightning-trainable/src/lightning_trainable/metrics/sinkhorn.py:71: Sinkhorn did not converge. Consider increasing epsilon or number of iterations.\n",
      "/home/lars/code/python/context-aware-flow-matching/src/lightning-trainable/src/lightning_trainable/metrics/sinkhorn.py:71: Sinkhorn did not converge. Consider increasing epsilon or number of iterations.\n",
      "/home/lars/code/python/context-aware-flow-matching/src/lightning-trainable/src/lightning_trainable/metrics/sinkhorn.py:71: Sinkhorn did not converge. Consider increasing epsilon or number of iterations.\n",
      "/home/lars/code/python/context-aware-flow-matching/src/lightning-trainable/src/lightning_trainable/metrics/sinkhorn.py:71: Sinkhorn did not converge. Consider increasing epsilon or number of iterations.\n",
      "/home/lars/code/python/context-aware-flow-matching/src/lightning-trainable/src/lightning_trainable/metrics/sinkhorn.py:71: Sinkhorn did not converge. Consider increasing epsilon or number of iterations.\n",
      "/home/lars/code/python/context-aware-flow-matching/src/lightning-trainable/src/lightning_trainable/metrics/sinkhorn.py:71: Sinkhorn did not converge. Consider increasing epsilon or number of iterations.\n",
      "/home/lars/code/python/context-aware-flow-matching/src/lightning-trainable/src/lightning_trainable/metrics/sinkhorn.py:71: Sinkhorn did not converge. Consider increasing epsilon or number of iterations.\n",
      "/home/lars/code/python/context-aware-flow-matching/src/lightning-trainable/src/lightning_trainable/metrics/sinkhorn.py:71: Sinkhorn did not converge. Consider increasing epsilon or number of iterations.\n",
      "/home/lars/code/python/context-aware-flow-matching/src/lightning-trainable/src/lightning_trainable/metrics/sinkhorn.py:71: Sinkhorn did not converge. Consider increasing epsilon or number of iterations.\n",
      "/home/lars/code/python/context-aware-flow-matching/src/lightning-trainable/src/lightning_trainable/metrics/sinkhorn.py:71: Sinkhorn did not converge. Consider increasing epsilon or number of iterations.\n",
      "/home/lars/code/python/context-aware-flow-matching/src/lightning-trainable/src/lightning_trainable/metrics/sinkhorn.py:71: Sinkhorn did not converge. Consider increasing epsilon or number of iterations.\n"
     ]
    },
    {
     "data": {
      "text/plain": "Validation: |          | 0/? [00:00<?, ?it/s]",
      "application/vnd.jupyter.widget-view+json": {
       "version_major": 2,
       "version_minor": 0,
       "model_id": "7101da8dbde74a10933cd1ab52a93a98"
      }
     },
     "metadata": {},
     "output_type": "display_data"
    },
    {
     "name": "stderr",
     "output_type": "stream",
     "text": [
      "/home/lars/code/python/context-aware-flow-matching/src/lightning-trainable/src/lightning_trainable/metrics/sinkhorn.py:71: Sinkhorn did not converge. Consider increasing epsilon or number of iterations.\n",
      "/home/lars/code/python/context-aware-flow-matching/src/lightning-trainable/src/lightning_trainable/metrics/sinkhorn.py:71: Sinkhorn did not converge. Consider increasing epsilon or number of iterations.\n",
      "/home/lars/code/python/context-aware-flow-matching/src/lightning-trainable/src/lightning_trainable/metrics/sinkhorn.py:71: Sinkhorn did not converge. Consider increasing epsilon or number of iterations.\n",
      "/home/lars/code/python/context-aware-flow-matching/src/lightning-trainable/src/lightning_trainable/metrics/sinkhorn.py:71: Sinkhorn did not converge. Consider increasing epsilon or number of iterations.\n",
      "/home/lars/code/python/context-aware-flow-matching/src/lightning-trainable/src/lightning_trainable/metrics/sinkhorn.py:71: Sinkhorn did not converge. Consider increasing epsilon or number of iterations.\n",
      "/home/lars/code/python/context-aware-flow-matching/src/lightning-trainable/src/lightning_trainable/metrics/sinkhorn.py:71: Sinkhorn did not converge. Consider increasing epsilon or number of iterations.\n",
      "/home/lars/code/python/context-aware-flow-matching/src/lightning-trainable/src/lightning_trainable/metrics/sinkhorn.py:71: Sinkhorn did not converge. Consider increasing epsilon or number of iterations.\n",
      "/home/lars/code/python/context-aware-flow-matching/src/lightning-trainable/src/lightning_trainable/metrics/sinkhorn.py:71: Sinkhorn did not converge. Consider increasing epsilon or number of iterations.\n",
      "/home/lars/code/python/context-aware-flow-matching/src/lightning-trainable/src/lightning_trainable/metrics/sinkhorn.py:71: Sinkhorn did not converge. Consider increasing epsilon or number of iterations.\n",
      "/home/lars/code/python/context-aware-flow-matching/src/lightning-trainable/src/lightning_trainable/metrics/sinkhorn.py:71: Sinkhorn did not converge. Consider increasing epsilon or number of iterations.\n",
      "/home/lars/code/python/context-aware-flow-matching/src/lightning-trainable/src/lightning_trainable/metrics/sinkhorn.py:71: Sinkhorn did not converge. Consider increasing epsilon or number of iterations.\n",
      "/home/lars/code/python/context-aware-flow-matching/src/lightning-trainable/src/lightning_trainable/metrics/sinkhorn.py:71: Sinkhorn did not converge. Consider increasing epsilon or number of iterations.\n",
      "/home/lars/code/python/context-aware-flow-matching/src/lightning-trainable/src/lightning_trainable/metrics/sinkhorn.py:71: Sinkhorn did not converge. Consider increasing epsilon or number of iterations.\n",
      "/home/lars/code/python/context-aware-flow-matching/src/lightning-trainable/src/lightning_trainable/metrics/sinkhorn.py:71: Sinkhorn did not converge. Consider increasing epsilon or number of iterations.\n",
      "/home/lars/code/python/context-aware-flow-matching/src/lightning-trainable/src/lightning_trainable/metrics/sinkhorn.py:71: Sinkhorn did not converge. Consider increasing epsilon or number of iterations.\n",
      "/home/lars/code/python/context-aware-flow-matching/src/lightning-trainable/src/lightning_trainable/metrics/sinkhorn.py:71: Sinkhorn did not converge. Consider increasing epsilon or number of iterations.\n",
      "/home/lars/code/python/context-aware-flow-matching/src/lightning-trainable/src/lightning_trainable/metrics/sinkhorn.py:71: Sinkhorn did not converge. Consider increasing epsilon or number of iterations.\n",
      "/home/lars/code/python/context-aware-flow-matching/src/lightning-trainable/src/lightning_trainable/metrics/sinkhorn.py:71: Sinkhorn did not converge. Consider increasing epsilon or number of iterations.\n"
     ]
    },
    {
     "data": {
      "text/plain": "Validation: |          | 0/? [00:00<?, ?it/s]",
      "application/vnd.jupyter.widget-view+json": {
       "version_major": 2,
       "version_minor": 0,
       "model_id": "4cabf2d5e2694a09adb9ae6a6938bae6"
      }
     },
     "metadata": {},
     "output_type": "display_data"
    },
    {
     "name": "stderr",
     "output_type": "stream",
     "text": [
      "/home/lars/code/python/context-aware-flow-matching/src/lightning-trainable/src/lightning_trainable/metrics/sinkhorn.py:71: Sinkhorn did not converge. Consider increasing epsilon or number of iterations.\n",
      "/home/lars/code/python/context-aware-flow-matching/src/lightning-trainable/src/lightning_trainable/metrics/sinkhorn.py:71: Sinkhorn did not converge. Consider increasing epsilon or number of iterations.\n",
      "/home/lars/code/python/context-aware-flow-matching/src/lightning-trainable/src/lightning_trainable/metrics/sinkhorn.py:71: Sinkhorn did not converge. Consider increasing epsilon or number of iterations.\n",
      "/home/lars/code/python/context-aware-flow-matching/src/lightning-trainable/src/lightning_trainable/metrics/sinkhorn.py:71: Sinkhorn did not converge. Consider increasing epsilon or number of iterations.\n",
      "/home/lars/code/python/context-aware-flow-matching/src/lightning-trainable/src/lightning_trainable/metrics/sinkhorn.py:71: Sinkhorn did not converge. Consider increasing epsilon or number of iterations.\n",
      "/home/lars/code/python/context-aware-flow-matching/src/lightning-trainable/src/lightning_trainable/metrics/sinkhorn.py:71: Sinkhorn did not converge. Consider increasing epsilon or number of iterations.\n",
      "/home/lars/code/python/context-aware-flow-matching/src/lightning-trainable/src/lightning_trainable/metrics/sinkhorn.py:71: Sinkhorn did not converge. Consider increasing epsilon or number of iterations.\n",
      "/home/lars/code/python/context-aware-flow-matching/src/lightning-trainable/src/lightning_trainable/metrics/sinkhorn.py:71: Sinkhorn did not converge. Consider increasing epsilon or number of iterations.\n",
      "/home/lars/code/python/context-aware-flow-matching/src/lightning-trainable/src/lightning_trainable/metrics/sinkhorn.py:71: Sinkhorn did not converge. Consider increasing epsilon or number of iterations.\n",
      "/home/lars/code/python/context-aware-flow-matching/src/lightning-trainable/src/lightning_trainable/metrics/sinkhorn.py:71: Sinkhorn did not converge. Consider increasing epsilon or number of iterations.\n",
      "/home/lars/code/python/context-aware-flow-matching/src/lightning-trainable/src/lightning_trainable/metrics/sinkhorn.py:71: Sinkhorn did not converge. Consider increasing epsilon or number of iterations.\n",
      "/home/lars/code/python/context-aware-flow-matching/src/lightning-trainable/src/lightning_trainable/metrics/sinkhorn.py:71: Sinkhorn did not converge. Consider increasing epsilon or number of iterations.\n",
      "/home/lars/code/python/context-aware-flow-matching/src/lightning-trainable/src/lightning_trainable/metrics/sinkhorn.py:71: Sinkhorn did not converge. Consider increasing epsilon or number of iterations.\n",
      "/home/lars/code/python/context-aware-flow-matching/src/lightning-trainable/src/lightning_trainable/metrics/sinkhorn.py:71: Sinkhorn did not converge. Consider increasing epsilon or number of iterations.\n",
      "/home/lars/code/python/context-aware-flow-matching/src/lightning-trainable/src/lightning_trainable/metrics/sinkhorn.py:71: Sinkhorn did not converge. Consider increasing epsilon or number of iterations.\n",
      "/home/lars/code/python/context-aware-flow-matching/src/lightning-trainable/src/lightning_trainable/metrics/sinkhorn.py:71: Sinkhorn did not converge. Consider increasing epsilon or number of iterations.\n",
      "/home/lars/code/python/context-aware-flow-matching/src/lightning-trainable/src/lightning_trainable/metrics/sinkhorn.py:71: Sinkhorn did not converge. Consider increasing epsilon or number of iterations.\n",
      "/home/lars/code/python/context-aware-flow-matching/src/lightning-trainable/src/lightning_trainable/metrics/sinkhorn.py:71: Sinkhorn did not converge. Consider increasing epsilon or number of iterations.\n"
     ]
    },
    {
     "data": {
      "text/plain": "Validation: |          | 0/? [00:00<?, ?it/s]",
      "application/vnd.jupyter.widget-view+json": {
       "version_major": 2,
       "version_minor": 0,
       "model_id": "831c98488a1d426281dc7ea2ed7dd689"
      }
     },
     "metadata": {},
     "output_type": "display_data"
    },
    {
     "name": "stderr",
     "output_type": "stream",
     "text": [
      "/home/lars/code/python/context-aware-flow-matching/src/lightning-trainable/src/lightning_trainable/metrics/sinkhorn.py:71: Sinkhorn did not converge. Consider increasing epsilon or number of iterations.\n",
      "/home/lars/code/python/context-aware-flow-matching/src/lightning-trainable/src/lightning_trainable/metrics/sinkhorn.py:71: Sinkhorn did not converge. Consider increasing epsilon or number of iterations.\n",
      "/home/lars/code/python/context-aware-flow-matching/src/lightning-trainable/src/lightning_trainable/metrics/sinkhorn.py:71: Sinkhorn did not converge. Consider increasing epsilon or number of iterations.\n",
      "/home/lars/code/python/context-aware-flow-matching/src/lightning-trainable/src/lightning_trainable/metrics/sinkhorn.py:71: Sinkhorn did not converge. Consider increasing epsilon or number of iterations.\n",
      "/home/lars/code/python/context-aware-flow-matching/src/lightning-trainable/src/lightning_trainable/metrics/sinkhorn.py:71: Sinkhorn did not converge. Consider increasing epsilon or number of iterations.\n",
      "/home/lars/code/python/context-aware-flow-matching/src/lightning-trainable/src/lightning_trainable/metrics/sinkhorn.py:71: Sinkhorn did not converge. Consider increasing epsilon or number of iterations.\n",
      "/home/lars/code/python/context-aware-flow-matching/src/lightning-trainable/src/lightning_trainable/metrics/sinkhorn.py:71: Sinkhorn did not converge. Consider increasing epsilon or number of iterations.\n",
      "/home/lars/code/python/context-aware-flow-matching/src/lightning-trainable/src/lightning_trainable/metrics/sinkhorn.py:71: Sinkhorn did not converge. Consider increasing epsilon or number of iterations.\n",
      "/home/lars/code/python/context-aware-flow-matching/src/lightning-trainable/src/lightning_trainable/metrics/sinkhorn.py:71: Sinkhorn did not converge. Consider increasing epsilon or number of iterations.\n",
      "/home/lars/code/python/context-aware-flow-matching/src/lightning-trainable/src/lightning_trainable/metrics/sinkhorn.py:71: Sinkhorn did not converge. Consider increasing epsilon or number of iterations.\n",
      "/home/lars/code/python/context-aware-flow-matching/src/lightning-trainable/src/lightning_trainable/metrics/sinkhorn.py:71: Sinkhorn did not converge. Consider increasing epsilon or number of iterations.\n",
      "/home/lars/code/python/context-aware-flow-matching/src/lightning-trainable/src/lightning_trainable/metrics/sinkhorn.py:71: Sinkhorn did not converge. Consider increasing epsilon or number of iterations.\n",
      "/home/lars/code/python/context-aware-flow-matching/src/lightning-trainable/src/lightning_trainable/metrics/sinkhorn.py:71: Sinkhorn did not converge. Consider increasing epsilon or number of iterations.\n",
      "/home/lars/code/python/context-aware-flow-matching/src/lightning-trainable/src/lightning_trainable/metrics/sinkhorn.py:71: Sinkhorn did not converge. Consider increasing epsilon or number of iterations.\n",
      "/home/lars/code/python/context-aware-flow-matching/src/lightning-trainable/src/lightning_trainable/metrics/sinkhorn.py:71: Sinkhorn did not converge. Consider increasing epsilon or number of iterations.\n",
      "/home/lars/code/python/context-aware-flow-matching/src/lightning-trainable/src/lightning_trainable/metrics/sinkhorn.py:71: Sinkhorn did not converge. Consider increasing epsilon or number of iterations.\n",
      "/home/lars/code/python/context-aware-flow-matching/src/lightning-trainable/src/lightning_trainable/metrics/sinkhorn.py:71: Sinkhorn did not converge. Consider increasing epsilon or number of iterations.\n",
      "/home/lars/code/python/context-aware-flow-matching/src/lightning-trainable/src/lightning_trainable/metrics/sinkhorn.py:71: Sinkhorn did not converge. Consider increasing epsilon or number of iterations.\n"
     ]
    },
    {
     "data": {
      "text/plain": "Validation: |          | 0/? [00:00<?, ?it/s]",
      "application/vnd.jupyter.widget-view+json": {
       "version_major": 2,
       "version_minor": 0,
       "model_id": "8e93ee1d565c4786943b8a60a01a8659"
      }
     },
     "metadata": {},
     "output_type": "display_data"
    },
    {
     "name": "stderr",
     "output_type": "stream",
     "text": [
      "/home/lars/code/python/context-aware-flow-matching/src/lightning-trainable/src/lightning_trainable/metrics/sinkhorn.py:71: Sinkhorn did not converge. Consider increasing epsilon or number of iterations.\n",
      "/home/lars/code/python/context-aware-flow-matching/src/lightning-trainable/src/lightning_trainable/metrics/sinkhorn.py:71: Sinkhorn did not converge. Consider increasing epsilon or number of iterations.\n",
      "/home/lars/code/python/context-aware-flow-matching/src/lightning-trainable/src/lightning_trainable/metrics/sinkhorn.py:71: Sinkhorn did not converge. Consider increasing epsilon or number of iterations.\n",
      "/home/lars/code/python/context-aware-flow-matching/src/lightning-trainable/src/lightning_trainable/metrics/sinkhorn.py:71: Sinkhorn did not converge. Consider increasing epsilon or number of iterations.\n",
      "/home/lars/code/python/context-aware-flow-matching/src/lightning-trainable/src/lightning_trainable/metrics/sinkhorn.py:71: Sinkhorn did not converge. Consider increasing epsilon or number of iterations.\n",
      "/home/lars/code/python/context-aware-flow-matching/src/lightning-trainable/src/lightning_trainable/metrics/sinkhorn.py:71: Sinkhorn did not converge. Consider increasing epsilon or number of iterations.\n",
      "/home/lars/code/python/context-aware-flow-matching/src/lightning-trainable/src/lightning_trainable/metrics/sinkhorn.py:71: Sinkhorn did not converge. Consider increasing epsilon or number of iterations.\n",
      "/home/lars/code/python/context-aware-flow-matching/src/lightning-trainable/src/lightning_trainable/metrics/sinkhorn.py:71: Sinkhorn did not converge. Consider increasing epsilon or number of iterations.\n",
      "/home/lars/code/python/context-aware-flow-matching/src/lightning-trainable/src/lightning_trainable/metrics/sinkhorn.py:71: Sinkhorn did not converge. Consider increasing epsilon or number of iterations.\n",
      "/home/lars/code/python/context-aware-flow-matching/src/lightning-trainable/src/lightning_trainable/metrics/sinkhorn.py:71: Sinkhorn did not converge. Consider increasing epsilon or number of iterations.\n",
      "/home/lars/code/python/context-aware-flow-matching/src/lightning-trainable/src/lightning_trainable/metrics/sinkhorn.py:71: Sinkhorn did not converge. Consider increasing epsilon or number of iterations.\n",
      "/home/lars/code/python/context-aware-flow-matching/src/lightning-trainable/src/lightning_trainable/metrics/sinkhorn.py:71: Sinkhorn did not converge. Consider increasing epsilon or number of iterations.\n",
      "/home/lars/code/python/context-aware-flow-matching/src/lightning-trainable/src/lightning_trainable/metrics/sinkhorn.py:71: Sinkhorn did not converge. Consider increasing epsilon or number of iterations.\n",
      "/home/lars/code/python/context-aware-flow-matching/src/lightning-trainable/src/lightning_trainable/metrics/sinkhorn.py:71: Sinkhorn did not converge. Consider increasing epsilon or number of iterations.\n",
      "/home/lars/code/python/context-aware-flow-matching/src/lightning-trainable/src/lightning_trainable/metrics/sinkhorn.py:71: Sinkhorn did not converge. Consider increasing epsilon or number of iterations.\n",
      "/home/lars/code/python/context-aware-flow-matching/src/lightning-trainable/src/lightning_trainable/metrics/sinkhorn.py:71: Sinkhorn did not converge. Consider increasing epsilon or number of iterations.\n",
      "/home/lars/code/python/context-aware-flow-matching/src/lightning-trainable/src/lightning_trainable/metrics/sinkhorn.py:71: Sinkhorn did not converge. Consider increasing epsilon or number of iterations.\n",
      "/home/lars/code/python/context-aware-flow-matching/src/lightning-trainable/src/lightning_trainable/metrics/sinkhorn.py:71: Sinkhorn did not converge. Consider increasing epsilon or number of iterations.\n"
     ]
    },
    {
     "data": {
      "text/plain": "Validation: |          | 0/? [00:00<?, ?it/s]",
      "application/vnd.jupyter.widget-view+json": {
       "version_major": 2,
       "version_minor": 0,
       "model_id": "513f5c7df7a843b285f87a21b12d64d9"
      }
     },
     "metadata": {},
     "output_type": "display_data"
    },
    {
     "name": "stderr",
     "output_type": "stream",
     "text": [
      "/home/lars/code/python/context-aware-flow-matching/src/lightning-trainable/src/lightning_trainable/metrics/sinkhorn.py:71: Sinkhorn did not converge. Consider increasing epsilon or number of iterations.\n",
      "/home/lars/code/python/context-aware-flow-matching/src/lightning-trainable/src/lightning_trainable/metrics/sinkhorn.py:71: Sinkhorn did not converge. Consider increasing epsilon or number of iterations.\n",
      "/home/lars/code/python/context-aware-flow-matching/src/lightning-trainable/src/lightning_trainable/metrics/sinkhorn.py:71: Sinkhorn did not converge. Consider increasing epsilon or number of iterations.\n",
      "/home/lars/code/python/context-aware-flow-matching/src/lightning-trainable/src/lightning_trainable/metrics/sinkhorn.py:71: Sinkhorn did not converge. Consider increasing epsilon or number of iterations.\n",
      "/home/lars/code/python/context-aware-flow-matching/src/lightning-trainable/src/lightning_trainable/metrics/sinkhorn.py:71: Sinkhorn did not converge. Consider increasing epsilon or number of iterations.\n",
      "/home/lars/code/python/context-aware-flow-matching/src/lightning-trainable/src/lightning_trainable/metrics/sinkhorn.py:71: Sinkhorn did not converge. Consider increasing epsilon or number of iterations.\n",
      "/home/lars/code/python/context-aware-flow-matching/src/lightning-trainable/src/lightning_trainable/metrics/sinkhorn.py:71: Sinkhorn did not converge. Consider increasing epsilon or number of iterations.\n",
      "/home/lars/code/python/context-aware-flow-matching/src/lightning-trainable/src/lightning_trainable/metrics/sinkhorn.py:71: Sinkhorn did not converge. Consider increasing epsilon or number of iterations.\n",
      "/home/lars/code/python/context-aware-flow-matching/src/lightning-trainable/src/lightning_trainable/metrics/sinkhorn.py:71: Sinkhorn did not converge. Consider increasing epsilon or number of iterations.\n",
      "/home/lars/code/python/context-aware-flow-matching/src/lightning-trainable/src/lightning_trainable/metrics/sinkhorn.py:71: Sinkhorn did not converge. Consider increasing epsilon or number of iterations.\n",
      "/home/lars/code/python/context-aware-flow-matching/src/lightning-trainable/src/lightning_trainable/metrics/sinkhorn.py:71: Sinkhorn did not converge. Consider increasing epsilon or number of iterations.\n",
      "/home/lars/code/python/context-aware-flow-matching/src/lightning-trainable/src/lightning_trainable/metrics/sinkhorn.py:71: Sinkhorn did not converge. Consider increasing epsilon or number of iterations.\n",
      "/home/lars/code/python/context-aware-flow-matching/src/lightning-trainable/src/lightning_trainable/metrics/sinkhorn.py:71: Sinkhorn did not converge. Consider increasing epsilon or number of iterations.\n",
      "/home/lars/code/python/context-aware-flow-matching/src/lightning-trainable/src/lightning_trainable/metrics/sinkhorn.py:71: Sinkhorn did not converge. Consider increasing epsilon or number of iterations.\n",
      "/home/lars/code/python/context-aware-flow-matching/src/lightning-trainable/src/lightning_trainable/metrics/sinkhorn.py:71: Sinkhorn did not converge. Consider increasing epsilon or number of iterations.\n",
      "/home/lars/code/python/context-aware-flow-matching/src/lightning-trainable/src/lightning_trainable/metrics/sinkhorn.py:71: Sinkhorn did not converge. Consider increasing epsilon or number of iterations.\n",
      "/home/lars/code/python/context-aware-flow-matching/src/lightning-trainable/src/lightning_trainable/metrics/sinkhorn.py:71: Sinkhorn did not converge. Consider increasing epsilon or number of iterations.\n",
      "/home/lars/code/python/context-aware-flow-matching/src/lightning-trainable/src/lightning_trainable/metrics/sinkhorn.py:71: Sinkhorn did not converge. Consider increasing epsilon or number of iterations.\n"
     ]
    },
    {
     "data": {
      "text/plain": "Validation: |          | 0/? [00:00<?, ?it/s]",
      "application/vnd.jupyter.widget-view+json": {
       "version_major": 2,
       "version_minor": 0,
       "model_id": "2addc3ae09754971852e0058723a377d"
      }
     },
     "metadata": {},
     "output_type": "display_data"
    },
    {
     "name": "stderr",
     "output_type": "stream",
     "text": [
      "/home/lars/code/python/context-aware-flow-matching/src/lightning-trainable/src/lightning_trainable/metrics/sinkhorn.py:71: Sinkhorn did not converge. Consider increasing epsilon or number of iterations.\n",
      "/home/lars/code/python/context-aware-flow-matching/src/lightning-trainable/src/lightning_trainable/metrics/sinkhorn.py:71: Sinkhorn did not converge. Consider increasing epsilon or number of iterations.\n",
      "/home/lars/code/python/context-aware-flow-matching/src/lightning-trainable/src/lightning_trainable/metrics/sinkhorn.py:71: Sinkhorn did not converge. Consider increasing epsilon or number of iterations.\n",
      "/home/lars/code/python/context-aware-flow-matching/src/lightning-trainable/src/lightning_trainable/metrics/sinkhorn.py:71: Sinkhorn did not converge. Consider increasing epsilon or number of iterations.\n",
      "/home/lars/code/python/context-aware-flow-matching/src/lightning-trainable/src/lightning_trainable/metrics/sinkhorn.py:71: Sinkhorn did not converge. Consider increasing epsilon or number of iterations.\n",
      "/home/lars/code/python/context-aware-flow-matching/src/lightning-trainable/src/lightning_trainable/metrics/sinkhorn.py:71: Sinkhorn did not converge. Consider increasing epsilon or number of iterations.\n",
      "/home/lars/code/python/context-aware-flow-matching/src/lightning-trainable/src/lightning_trainable/metrics/sinkhorn.py:71: Sinkhorn did not converge. Consider increasing epsilon or number of iterations.\n",
      "/home/lars/code/python/context-aware-flow-matching/src/lightning-trainable/src/lightning_trainable/metrics/sinkhorn.py:71: Sinkhorn did not converge. Consider increasing epsilon or number of iterations.\n",
      "/home/lars/code/python/context-aware-flow-matching/src/lightning-trainable/src/lightning_trainable/metrics/sinkhorn.py:71: Sinkhorn did not converge. Consider increasing epsilon or number of iterations.\n",
      "/home/lars/code/python/context-aware-flow-matching/src/lightning-trainable/src/lightning_trainable/metrics/sinkhorn.py:71: Sinkhorn did not converge. Consider increasing epsilon or number of iterations.\n",
      "/home/lars/code/python/context-aware-flow-matching/src/lightning-trainable/src/lightning_trainable/metrics/sinkhorn.py:71: Sinkhorn did not converge. Consider increasing epsilon or number of iterations.\n",
      "/home/lars/code/python/context-aware-flow-matching/src/lightning-trainable/src/lightning_trainable/metrics/sinkhorn.py:71: Sinkhorn did not converge. Consider increasing epsilon or number of iterations.\n",
      "/home/lars/code/python/context-aware-flow-matching/src/lightning-trainable/src/lightning_trainable/metrics/sinkhorn.py:71: Sinkhorn did not converge. Consider increasing epsilon or number of iterations.\n",
      "/home/lars/code/python/context-aware-flow-matching/src/lightning-trainable/src/lightning_trainable/metrics/sinkhorn.py:71: Sinkhorn did not converge. Consider increasing epsilon or number of iterations.\n",
      "/home/lars/code/python/context-aware-flow-matching/src/lightning-trainable/src/lightning_trainable/metrics/sinkhorn.py:71: Sinkhorn did not converge. Consider increasing epsilon or number of iterations.\n",
      "/home/lars/code/python/context-aware-flow-matching/src/lightning-trainable/src/lightning_trainable/metrics/sinkhorn.py:71: Sinkhorn did not converge. Consider increasing epsilon or number of iterations.\n",
      "/home/lars/code/python/context-aware-flow-matching/src/lightning-trainable/src/lightning_trainable/metrics/sinkhorn.py:71: Sinkhorn did not converge. Consider increasing epsilon or number of iterations.\n",
      "/home/lars/code/python/context-aware-flow-matching/src/lightning-trainable/src/lightning_trainable/metrics/sinkhorn.py:71: Sinkhorn did not converge. Consider increasing epsilon or number of iterations.\n"
     ]
    },
    {
     "data": {
      "text/plain": "Validation: |          | 0/? [00:00<?, ?it/s]",
      "application/vnd.jupyter.widget-view+json": {
       "version_major": 2,
       "version_minor": 0,
       "model_id": "5c0b7a34de5b4c57972a9bc7e9f62fa1"
      }
     },
     "metadata": {},
     "output_type": "display_data"
    },
    {
     "name": "stderr",
     "output_type": "stream",
     "text": [
      "/home/lars/code/python/context-aware-flow-matching/src/lightning-trainable/src/lightning_trainable/metrics/sinkhorn.py:71: Sinkhorn did not converge. Consider increasing epsilon or number of iterations.\n",
      "/home/lars/code/python/context-aware-flow-matching/src/lightning-trainable/src/lightning_trainable/metrics/sinkhorn.py:71: Sinkhorn did not converge. Consider increasing epsilon or number of iterations.\n",
      "/home/lars/code/python/context-aware-flow-matching/src/lightning-trainable/src/lightning_trainable/metrics/sinkhorn.py:71: Sinkhorn did not converge. Consider increasing epsilon or number of iterations.\n",
      "/home/lars/code/python/context-aware-flow-matching/src/lightning-trainable/src/lightning_trainable/metrics/sinkhorn.py:71: Sinkhorn did not converge. Consider increasing epsilon or number of iterations.\n",
      "/home/lars/code/python/context-aware-flow-matching/src/lightning-trainable/src/lightning_trainable/metrics/sinkhorn.py:71: Sinkhorn did not converge. Consider increasing epsilon or number of iterations.\n",
      "/home/lars/code/python/context-aware-flow-matching/src/lightning-trainable/src/lightning_trainable/metrics/sinkhorn.py:71: Sinkhorn did not converge. Consider increasing epsilon or number of iterations.\n",
      "/home/lars/code/python/context-aware-flow-matching/src/lightning-trainable/src/lightning_trainable/metrics/sinkhorn.py:71: Sinkhorn did not converge. Consider increasing epsilon or number of iterations.\n",
      "/home/lars/code/python/context-aware-flow-matching/src/lightning-trainable/src/lightning_trainable/metrics/sinkhorn.py:71: Sinkhorn did not converge. Consider increasing epsilon or number of iterations.\n",
      "/home/lars/code/python/context-aware-flow-matching/src/lightning-trainable/src/lightning_trainable/metrics/sinkhorn.py:71: Sinkhorn did not converge. Consider increasing epsilon or number of iterations.\n",
      "/home/lars/code/python/context-aware-flow-matching/src/lightning-trainable/src/lightning_trainable/metrics/sinkhorn.py:71: Sinkhorn did not converge. Consider increasing epsilon or number of iterations.\n",
      "/home/lars/code/python/context-aware-flow-matching/src/lightning-trainable/src/lightning_trainable/metrics/sinkhorn.py:71: Sinkhorn did not converge. Consider increasing epsilon or number of iterations.\n",
      "/home/lars/code/python/context-aware-flow-matching/src/lightning-trainable/src/lightning_trainable/metrics/sinkhorn.py:71: Sinkhorn did not converge. Consider increasing epsilon or number of iterations.\n",
      "/home/lars/code/python/context-aware-flow-matching/src/lightning-trainable/src/lightning_trainable/metrics/sinkhorn.py:71: Sinkhorn did not converge. Consider increasing epsilon or number of iterations.\n",
      "/home/lars/code/python/context-aware-flow-matching/src/lightning-trainable/src/lightning_trainable/metrics/sinkhorn.py:71: Sinkhorn did not converge. Consider increasing epsilon or number of iterations.\n",
      "/home/lars/code/python/context-aware-flow-matching/src/lightning-trainable/src/lightning_trainable/metrics/sinkhorn.py:71: Sinkhorn did not converge. Consider increasing epsilon or number of iterations.\n",
      "/home/lars/code/python/context-aware-flow-matching/src/lightning-trainable/src/lightning_trainable/metrics/sinkhorn.py:71: Sinkhorn did not converge. Consider increasing epsilon or number of iterations.\n",
      "/home/lars/code/python/context-aware-flow-matching/src/lightning-trainable/src/lightning_trainable/metrics/sinkhorn.py:71: Sinkhorn did not converge. Consider increasing epsilon or number of iterations.\n",
      "/home/lars/code/python/context-aware-flow-matching/src/lightning-trainable/src/lightning_trainable/metrics/sinkhorn.py:71: Sinkhorn did not converge. Consider increasing epsilon or number of iterations.\n"
     ]
    },
    {
     "data": {
      "text/plain": "Validation: |          | 0/? [00:00<?, ?it/s]",
      "application/vnd.jupyter.widget-view+json": {
       "version_major": 2,
       "version_minor": 0,
       "model_id": "f371e6e8a2db480c8b01446c086d0055"
      }
     },
     "metadata": {},
     "output_type": "display_data"
    },
    {
     "name": "stderr",
     "output_type": "stream",
     "text": [
      "/home/lars/code/python/context-aware-flow-matching/src/lightning-trainable/src/lightning_trainable/metrics/sinkhorn.py:71: Sinkhorn did not converge. Consider increasing epsilon or number of iterations.\n",
      "/home/lars/code/python/context-aware-flow-matching/src/lightning-trainable/src/lightning_trainable/metrics/sinkhorn.py:71: Sinkhorn did not converge. Consider increasing epsilon or number of iterations.\n",
      "/home/lars/code/python/context-aware-flow-matching/src/lightning-trainable/src/lightning_trainable/metrics/sinkhorn.py:71: Sinkhorn did not converge. Consider increasing epsilon or number of iterations.\n",
      "/home/lars/code/python/context-aware-flow-matching/src/lightning-trainable/src/lightning_trainable/metrics/sinkhorn.py:71: Sinkhorn did not converge. Consider increasing epsilon or number of iterations.\n",
      "/home/lars/code/python/context-aware-flow-matching/src/lightning-trainable/src/lightning_trainable/metrics/sinkhorn.py:71: Sinkhorn did not converge. Consider increasing epsilon or number of iterations.\n",
      "/home/lars/code/python/context-aware-flow-matching/src/lightning-trainable/src/lightning_trainable/metrics/sinkhorn.py:71: Sinkhorn did not converge. Consider increasing epsilon or number of iterations.\n",
      "/home/lars/code/python/context-aware-flow-matching/src/lightning-trainable/src/lightning_trainable/metrics/sinkhorn.py:71: Sinkhorn did not converge. Consider increasing epsilon or number of iterations.\n",
      "/home/lars/code/python/context-aware-flow-matching/src/lightning-trainable/src/lightning_trainable/metrics/sinkhorn.py:71: Sinkhorn did not converge. Consider increasing epsilon or number of iterations.\n",
      "/home/lars/code/python/context-aware-flow-matching/src/lightning-trainable/src/lightning_trainable/metrics/sinkhorn.py:71: Sinkhorn did not converge. Consider increasing epsilon or number of iterations.\n",
      "/home/lars/code/python/context-aware-flow-matching/src/lightning-trainable/src/lightning_trainable/metrics/sinkhorn.py:71: Sinkhorn did not converge. Consider increasing epsilon or number of iterations.\n",
      "/home/lars/code/python/context-aware-flow-matching/src/lightning-trainable/src/lightning_trainable/metrics/sinkhorn.py:71: Sinkhorn did not converge. Consider increasing epsilon or number of iterations.\n",
      "/home/lars/code/python/context-aware-flow-matching/src/lightning-trainable/src/lightning_trainable/metrics/sinkhorn.py:71: Sinkhorn did not converge. Consider increasing epsilon or number of iterations.\n",
      "/home/lars/code/python/context-aware-flow-matching/src/lightning-trainable/src/lightning_trainable/metrics/sinkhorn.py:71: Sinkhorn did not converge. Consider increasing epsilon or number of iterations.\n",
      "/home/lars/code/python/context-aware-flow-matching/src/lightning-trainable/src/lightning_trainable/metrics/sinkhorn.py:71: Sinkhorn did not converge. Consider increasing epsilon or number of iterations.\n",
      "/home/lars/code/python/context-aware-flow-matching/src/lightning-trainable/src/lightning_trainable/metrics/sinkhorn.py:71: Sinkhorn did not converge. Consider increasing epsilon or number of iterations.\n",
      "/home/lars/code/python/context-aware-flow-matching/src/lightning-trainable/src/lightning_trainable/metrics/sinkhorn.py:71: Sinkhorn did not converge. Consider increasing epsilon or number of iterations.\n",
      "/home/lars/code/python/context-aware-flow-matching/src/lightning-trainable/src/lightning_trainable/metrics/sinkhorn.py:71: Sinkhorn did not converge. Consider increasing epsilon or number of iterations.\n",
      "/home/lars/code/python/context-aware-flow-matching/src/lightning-trainable/src/lightning_trainable/metrics/sinkhorn.py:71: Sinkhorn did not converge. Consider increasing epsilon or number of iterations.\n"
     ]
    },
    {
     "data": {
      "text/plain": "Validation: |          | 0/? [00:00<?, ?it/s]",
      "application/vnd.jupyter.widget-view+json": {
       "version_major": 2,
       "version_minor": 0,
       "model_id": "2c46d86046284d4bb58a2954b5403307"
      }
     },
     "metadata": {},
     "output_type": "display_data"
    },
    {
     "name": "stderr",
     "output_type": "stream",
     "text": [
      "/home/lars/code/python/context-aware-flow-matching/src/lightning-trainable/src/lightning_trainable/metrics/sinkhorn.py:71: Sinkhorn did not converge. Consider increasing epsilon or number of iterations.\n",
      "/home/lars/code/python/context-aware-flow-matching/src/lightning-trainable/src/lightning_trainable/metrics/sinkhorn.py:71: Sinkhorn did not converge. Consider increasing epsilon or number of iterations.\n",
      "/home/lars/code/python/context-aware-flow-matching/src/lightning-trainable/src/lightning_trainable/metrics/sinkhorn.py:71: Sinkhorn did not converge. Consider increasing epsilon or number of iterations.\n",
      "/home/lars/code/python/context-aware-flow-matching/src/lightning-trainable/src/lightning_trainable/metrics/sinkhorn.py:71: Sinkhorn did not converge. Consider increasing epsilon or number of iterations.\n",
      "/home/lars/code/python/context-aware-flow-matching/src/lightning-trainable/src/lightning_trainable/metrics/sinkhorn.py:71: Sinkhorn did not converge. Consider increasing epsilon or number of iterations.\n",
      "/home/lars/code/python/context-aware-flow-matching/src/lightning-trainable/src/lightning_trainable/metrics/sinkhorn.py:71: Sinkhorn did not converge. Consider increasing epsilon or number of iterations.\n",
      "/home/lars/code/python/context-aware-flow-matching/src/lightning-trainable/src/lightning_trainable/metrics/sinkhorn.py:71: Sinkhorn did not converge. Consider increasing epsilon or number of iterations.\n",
      "/home/lars/code/python/context-aware-flow-matching/src/lightning-trainable/src/lightning_trainable/metrics/sinkhorn.py:71: Sinkhorn did not converge. Consider increasing epsilon or number of iterations.\n",
      "/home/lars/code/python/context-aware-flow-matching/src/lightning-trainable/src/lightning_trainable/metrics/sinkhorn.py:71: Sinkhorn did not converge. Consider increasing epsilon or number of iterations.\n",
      "/home/lars/code/python/context-aware-flow-matching/src/lightning-trainable/src/lightning_trainable/metrics/sinkhorn.py:71: Sinkhorn did not converge. Consider increasing epsilon or number of iterations.\n",
      "/home/lars/code/python/context-aware-flow-matching/src/lightning-trainable/src/lightning_trainable/metrics/sinkhorn.py:71: Sinkhorn did not converge. Consider increasing epsilon or number of iterations.\n",
      "/home/lars/code/python/context-aware-flow-matching/src/lightning-trainable/src/lightning_trainable/metrics/sinkhorn.py:71: Sinkhorn did not converge. Consider increasing epsilon or number of iterations.\n",
      "/home/lars/code/python/context-aware-flow-matching/src/lightning-trainable/src/lightning_trainable/metrics/sinkhorn.py:71: Sinkhorn did not converge. Consider increasing epsilon or number of iterations.\n",
      "/home/lars/code/python/context-aware-flow-matching/src/lightning-trainable/src/lightning_trainable/metrics/sinkhorn.py:71: Sinkhorn did not converge. Consider increasing epsilon or number of iterations.\n",
      "/home/lars/code/python/context-aware-flow-matching/src/lightning-trainable/src/lightning_trainable/metrics/sinkhorn.py:71: Sinkhorn did not converge. Consider increasing epsilon or number of iterations.\n",
      "/home/lars/code/python/context-aware-flow-matching/src/lightning-trainable/src/lightning_trainable/metrics/sinkhorn.py:71: Sinkhorn did not converge. Consider increasing epsilon or number of iterations.\n",
      "/home/lars/code/python/context-aware-flow-matching/src/lightning-trainable/src/lightning_trainable/metrics/sinkhorn.py:71: Sinkhorn did not converge. Consider increasing epsilon or number of iterations.\n",
      "/home/lars/code/python/context-aware-flow-matching/src/lightning-trainable/src/lightning_trainable/metrics/sinkhorn.py:71: Sinkhorn did not converge. Consider increasing epsilon or number of iterations.\n"
     ]
    },
    {
     "data": {
      "text/plain": "Validation: |          | 0/? [00:00<?, ?it/s]",
      "application/vnd.jupyter.widget-view+json": {
       "version_major": 2,
       "version_minor": 0,
       "model_id": "a965e110a0404ebc992dacede5a4d6a5"
      }
     },
     "metadata": {},
     "output_type": "display_data"
    },
    {
     "name": "stderr",
     "output_type": "stream",
     "text": [
      "/home/lars/code/python/context-aware-flow-matching/src/lightning-trainable/src/lightning_trainable/metrics/sinkhorn.py:71: Sinkhorn did not converge. Consider increasing epsilon or number of iterations.\n",
      "/home/lars/code/python/context-aware-flow-matching/src/lightning-trainable/src/lightning_trainable/metrics/sinkhorn.py:71: Sinkhorn did not converge. Consider increasing epsilon or number of iterations.\n",
      "/home/lars/code/python/context-aware-flow-matching/src/lightning-trainable/src/lightning_trainable/metrics/sinkhorn.py:71: Sinkhorn did not converge. Consider increasing epsilon or number of iterations.\n",
      "/home/lars/code/python/context-aware-flow-matching/src/lightning-trainable/src/lightning_trainable/metrics/sinkhorn.py:71: Sinkhorn did not converge. Consider increasing epsilon or number of iterations.\n",
      "/home/lars/code/python/context-aware-flow-matching/src/lightning-trainable/src/lightning_trainable/metrics/sinkhorn.py:71: Sinkhorn did not converge. Consider increasing epsilon or number of iterations.\n",
      "/home/lars/code/python/context-aware-flow-matching/src/lightning-trainable/src/lightning_trainable/metrics/sinkhorn.py:71: Sinkhorn did not converge. Consider increasing epsilon or number of iterations.\n",
      "/home/lars/code/python/context-aware-flow-matching/src/lightning-trainable/src/lightning_trainable/metrics/sinkhorn.py:71: Sinkhorn did not converge. Consider increasing epsilon or number of iterations.\n",
      "/home/lars/code/python/context-aware-flow-matching/src/lightning-trainable/src/lightning_trainable/metrics/sinkhorn.py:71: Sinkhorn did not converge. Consider increasing epsilon or number of iterations.\n",
      "/home/lars/code/python/context-aware-flow-matching/src/lightning-trainable/src/lightning_trainable/metrics/sinkhorn.py:71: Sinkhorn did not converge. Consider increasing epsilon or number of iterations.\n",
      "/home/lars/code/python/context-aware-flow-matching/src/lightning-trainable/src/lightning_trainable/metrics/sinkhorn.py:71: Sinkhorn did not converge. Consider increasing epsilon or number of iterations.\n",
      "/home/lars/code/python/context-aware-flow-matching/src/lightning-trainable/src/lightning_trainable/metrics/sinkhorn.py:71: Sinkhorn did not converge. Consider increasing epsilon or number of iterations.\n",
      "/home/lars/code/python/context-aware-flow-matching/src/lightning-trainable/src/lightning_trainable/metrics/sinkhorn.py:71: Sinkhorn did not converge. Consider increasing epsilon or number of iterations.\n",
      "/home/lars/code/python/context-aware-flow-matching/src/lightning-trainable/src/lightning_trainable/metrics/sinkhorn.py:71: Sinkhorn did not converge. Consider increasing epsilon or number of iterations.\n",
      "/home/lars/code/python/context-aware-flow-matching/src/lightning-trainable/src/lightning_trainable/metrics/sinkhorn.py:71: Sinkhorn did not converge. Consider increasing epsilon or number of iterations.\n",
      "/home/lars/code/python/context-aware-flow-matching/src/lightning-trainable/src/lightning_trainable/metrics/sinkhorn.py:71: Sinkhorn did not converge. Consider increasing epsilon or number of iterations.\n",
      "/home/lars/code/python/context-aware-flow-matching/src/lightning-trainable/src/lightning_trainable/metrics/sinkhorn.py:71: Sinkhorn did not converge. Consider increasing epsilon or number of iterations.\n",
      "/home/lars/code/python/context-aware-flow-matching/src/lightning-trainable/src/lightning_trainable/metrics/sinkhorn.py:71: Sinkhorn did not converge. Consider increasing epsilon or number of iterations.\n",
      "/home/lars/code/python/context-aware-flow-matching/src/lightning-trainable/src/lightning_trainable/metrics/sinkhorn.py:71: Sinkhorn did not converge. Consider increasing epsilon or number of iterations.\n"
     ]
    },
    {
     "data": {
      "text/plain": "Validation: |          | 0/? [00:00<?, ?it/s]",
      "application/vnd.jupyter.widget-view+json": {
       "version_major": 2,
       "version_minor": 0,
       "model_id": "d21bd7efe8bf4ae886d55565a40a248e"
      }
     },
     "metadata": {},
     "output_type": "display_data"
    },
    {
     "name": "stderr",
     "output_type": "stream",
     "text": [
      "/home/lars/code/python/context-aware-flow-matching/src/lightning-trainable/src/lightning_trainable/metrics/sinkhorn.py:71: Sinkhorn did not converge. Consider increasing epsilon or number of iterations.\n",
      "/home/lars/code/python/context-aware-flow-matching/src/lightning-trainable/src/lightning_trainable/metrics/sinkhorn.py:71: Sinkhorn did not converge. Consider increasing epsilon or number of iterations.\n",
      "/home/lars/code/python/context-aware-flow-matching/src/lightning-trainable/src/lightning_trainable/metrics/sinkhorn.py:71: Sinkhorn did not converge. Consider increasing epsilon or number of iterations.\n",
      "/home/lars/code/python/context-aware-flow-matching/src/lightning-trainable/src/lightning_trainable/metrics/sinkhorn.py:71: Sinkhorn did not converge. Consider increasing epsilon or number of iterations.\n",
      "/home/lars/code/python/context-aware-flow-matching/src/lightning-trainable/src/lightning_trainable/metrics/sinkhorn.py:71: Sinkhorn did not converge. Consider increasing epsilon or number of iterations.\n",
      "/home/lars/code/python/context-aware-flow-matching/src/lightning-trainable/src/lightning_trainable/metrics/sinkhorn.py:71: Sinkhorn did not converge. Consider increasing epsilon or number of iterations.\n",
      "/home/lars/code/python/context-aware-flow-matching/src/lightning-trainable/src/lightning_trainable/metrics/sinkhorn.py:71: Sinkhorn did not converge. Consider increasing epsilon or number of iterations.\n",
      "/home/lars/code/python/context-aware-flow-matching/src/lightning-trainable/src/lightning_trainable/metrics/sinkhorn.py:71: Sinkhorn did not converge. Consider increasing epsilon or number of iterations.\n",
      "/home/lars/code/python/context-aware-flow-matching/src/lightning-trainable/src/lightning_trainable/metrics/sinkhorn.py:71: Sinkhorn did not converge. Consider increasing epsilon or number of iterations.\n",
      "/home/lars/code/python/context-aware-flow-matching/src/lightning-trainable/src/lightning_trainable/metrics/sinkhorn.py:71: Sinkhorn did not converge. Consider increasing epsilon or number of iterations.\n",
      "/home/lars/code/python/context-aware-flow-matching/src/lightning-trainable/src/lightning_trainable/metrics/sinkhorn.py:71: Sinkhorn did not converge. Consider increasing epsilon or number of iterations.\n",
      "/home/lars/code/python/context-aware-flow-matching/src/lightning-trainable/src/lightning_trainable/metrics/sinkhorn.py:71: Sinkhorn did not converge. Consider increasing epsilon or number of iterations.\n",
      "/home/lars/code/python/context-aware-flow-matching/src/lightning-trainable/src/lightning_trainable/metrics/sinkhorn.py:71: Sinkhorn did not converge. Consider increasing epsilon or number of iterations.\n",
      "/home/lars/code/python/context-aware-flow-matching/src/lightning-trainable/src/lightning_trainable/metrics/sinkhorn.py:71: Sinkhorn did not converge. Consider increasing epsilon or number of iterations.\n",
      "/home/lars/code/python/context-aware-flow-matching/src/lightning-trainable/src/lightning_trainable/metrics/sinkhorn.py:71: Sinkhorn did not converge. Consider increasing epsilon or number of iterations.\n",
      "/home/lars/code/python/context-aware-flow-matching/src/lightning-trainable/src/lightning_trainable/metrics/sinkhorn.py:71: Sinkhorn did not converge. Consider increasing epsilon or number of iterations.\n",
      "/home/lars/code/python/context-aware-flow-matching/src/lightning-trainable/src/lightning_trainable/metrics/sinkhorn.py:71: Sinkhorn did not converge. Consider increasing epsilon or number of iterations.\n",
      "/home/lars/code/python/context-aware-flow-matching/src/lightning-trainable/src/lightning_trainable/metrics/sinkhorn.py:71: Sinkhorn did not converge. Consider increasing epsilon or number of iterations.\n"
     ]
    },
    {
     "data": {
      "text/plain": "Validation: |          | 0/? [00:00<?, ?it/s]",
      "application/vnd.jupyter.widget-view+json": {
       "version_major": 2,
       "version_minor": 0,
       "model_id": "e4868a819ab9437d9497b6635968cfe0"
      }
     },
     "metadata": {},
     "output_type": "display_data"
    },
    {
     "name": "stderr",
     "output_type": "stream",
     "text": [
      "/home/lars/code/python/context-aware-flow-matching/src/lightning-trainable/src/lightning_trainable/metrics/sinkhorn.py:71: Sinkhorn did not converge. Consider increasing epsilon or number of iterations.\n",
      "/home/lars/code/python/context-aware-flow-matching/src/lightning-trainable/src/lightning_trainable/metrics/sinkhorn.py:71: Sinkhorn did not converge. Consider increasing epsilon or number of iterations.\n",
      "/home/lars/code/python/context-aware-flow-matching/src/lightning-trainable/src/lightning_trainable/metrics/sinkhorn.py:71: Sinkhorn did not converge. Consider increasing epsilon or number of iterations.\n",
      "/home/lars/code/python/context-aware-flow-matching/src/lightning-trainable/src/lightning_trainable/metrics/sinkhorn.py:71: Sinkhorn did not converge. Consider increasing epsilon or number of iterations.\n",
      "/home/lars/code/python/context-aware-flow-matching/src/lightning-trainable/src/lightning_trainable/metrics/sinkhorn.py:71: Sinkhorn did not converge. Consider increasing epsilon or number of iterations.\n",
      "/home/lars/code/python/context-aware-flow-matching/src/lightning-trainable/src/lightning_trainable/metrics/sinkhorn.py:71: Sinkhorn did not converge. Consider increasing epsilon or number of iterations.\n",
      "/home/lars/code/python/context-aware-flow-matching/src/lightning-trainable/src/lightning_trainable/metrics/sinkhorn.py:71: Sinkhorn did not converge. Consider increasing epsilon or number of iterations.\n",
      "/home/lars/code/python/context-aware-flow-matching/src/lightning-trainable/src/lightning_trainable/metrics/sinkhorn.py:71: Sinkhorn did not converge. Consider increasing epsilon or number of iterations.\n",
      "/home/lars/code/python/context-aware-flow-matching/src/lightning-trainable/src/lightning_trainable/metrics/sinkhorn.py:71: Sinkhorn did not converge. Consider increasing epsilon or number of iterations.\n",
      "/home/lars/code/python/context-aware-flow-matching/src/lightning-trainable/src/lightning_trainable/metrics/sinkhorn.py:71: Sinkhorn did not converge. Consider increasing epsilon or number of iterations.\n",
      "/home/lars/code/python/context-aware-flow-matching/src/lightning-trainable/src/lightning_trainable/metrics/sinkhorn.py:71: Sinkhorn did not converge. Consider increasing epsilon or number of iterations.\n",
      "/home/lars/code/python/context-aware-flow-matching/src/lightning-trainable/src/lightning_trainable/metrics/sinkhorn.py:71: Sinkhorn did not converge. Consider increasing epsilon or number of iterations.\n",
      "/home/lars/code/python/context-aware-flow-matching/src/lightning-trainable/src/lightning_trainable/metrics/sinkhorn.py:71: Sinkhorn did not converge. Consider increasing epsilon or number of iterations.\n",
      "/home/lars/code/python/context-aware-flow-matching/src/lightning-trainable/src/lightning_trainable/metrics/sinkhorn.py:71: Sinkhorn did not converge. Consider increasing epsilon or number of iterations.\n",
      "/home/lars/code/python/context-aware-flow-matching/src/lightning-trainable/src/lightning_trainable/metrics/sinkhorn.py:71: Sinkhorn did not converge. Consider increasing epsilon or number of iterations.\n",
      "/home/lars/code/python/context-aware-flow-matching/src/lightning-trainable/src/lightning_trainable/metrics/sinkhorn.py:71: Sinkhorn did not converge. Consider increasing epsilon or number of iterations.\n",
      "/home/lars/code/python/context-aware-flow-matching/src/lightning-trainable/src/lightning_trainable/metrics/sinkhorn.py:71: Sinkhorn did not converge. Consider increasing epsilon or number of iterations.\n",
      "/home/lars/code/python/context-aware-flow-matching/src/lightning-trainable/src/lightning_trainable/metrics/sinkhorn.py:71: Sinkhorn did not converge. Consider increasing epsilon or number of iterations.\n"
     ]
    },
    {
     "data": {
      "text/plain": "Validation: |          | 0/? [00:00<?, ?it/s]",
      "application/vnd.jupyter.widget-view+json": {
       "version_major": 2,
       "version_minor": 0,
       "model_id": "eb1e6722ff454bbcbcd0f8c7ed8e9deb"
      }
     },
     "metadata": {},
     "output_type": "display_data"
    },
    {
     "name": "stderr",
     "output_type": "stream",
     "text": [
      "/home/lars/code/python/context-aware-flow-matching/src/lightning-trainable/src/lightning_trainable/metrics/sinkhorn.py:71: Sinkhorn did not converge. Consider increasing epsilon or number of iterations.\n",
      "/home/lars/code/python/context-aware-flow-matching/src/lightning-trainable/src/lightning_trainable/metrics/sinkhorn.py:71: Sinkhorn did not converge. Consider increasing epsilon or number of iterations.\n",
      "/home/lars/code/python/context-aware-flow-matching/src/lightning-trainable/src/lightning_trainable/metrics/sinkhorn.py:71: Sinkhorn did not converge. Consider increasing epsilon or number of iterations.\n",
      "/home/lars/code/python/context-aware-flow-matching/src/lightning-trainable/src/lightning_trainable/metrics/sinkhorn.py:71: Sinkhorn did not converge. Consider increasing epsilon or number of iterations.\n",
      "/home/lars/code/python/context-aware-flow-matching/src/lightning-trainable/src/lightning_trainable/metrics/sinkhorn.py:71: Sinkhorn did not converge. Consider increasing epsilon or number of iterations.\n",
      "/home/lars/code/python/context-aware-flow-matching/src/lightning-trainable/src/lightning_trainable/metrics/sinkhorn.py:71: Sinkhorn did not converge. Consider increasing epsilon or number of iterations.\n",
      "/home/lars/code/python/context-aware-flow-matching/src/lightning-trainable/src/lightning_trainable/metrics/sinkhorn.py:71: Sinkhorn did not converge. Consider increasing epsilon or number of iterations.\n",
      "/home/lars/code/python/context-aware-flow-matching/src/lightning-trainable/src/lightning_trainable/metrics/sinkhorn.py:71: Sinkhorn did not converge. Consider increasing epsilon or number of iterations.\n",
      "/home/lars/code/python/context-aware-flow-matching/src/lightning-trainable/src/lightning_trainable/metrics/sinkhorn.py:71: Sinkhorn did not converge. Consider increasing epsilon or number of iterations.\n",
      "/home/lars/code/python/context-aware-flow-matching/src/lightning-trainable/src/lightning_trainable/metrics/sinkhorn.py:71: Sinkhorn did not converge. Consider increasing epsilon or number of iterations.\n",
      "/home/lars/code/python/context-aware-flow-matching/src/lightning-trainable/src/lightning_trainable/metrics/sinkhorn.py:71: Sinkhorn did not converge. Consider increasing epsilon or number of iterations.\n",
      "/home/lars/code/python/context-aware-flow-matching/src/lightning-trainable/src/lightning_trainable/metrics/sinkhorn.py:71: Sinkhorn did not converge. Consider increasing epsilon or number of iterations.\n",
      "/home/lars/code/python/context-aware-flow-matching/src/lightning-trainable/src/lightning_trainable/metrics/sinkhorn.py:71: Sinkhorn did not converge. Consider increasing epsilon or number of iterations.\n",
      "/home/lars/code/python/context-aware-flow-matching/src/lightning-trainable/src/lightning_trainable/metrics/sinkhorn.py:71: Sinkhorn did not converge. Consider increasing epsilon or number of iterations.\n",
      "/home/lars/code/python/context-aware-flow-matching/src/lightning-trainable/src/lightning_trainable/metrics/sinkhorn.py:71: Sinkhorn did not converge. Consider increasing epsilon or number of iterations.\n",
      "/home/lars/code/python/context-aware-flow-matching/src/lightning-trainable/src/lightning_trainable/metrics/sinkhorn.py:71: Sinkhorn did not converge. Consider increasing epsilon or number of iterations.\n",
      "/home/lars/code/python/context-aware-flow-matching/src/lightning-trainable/src/lightning_trainable/metrics/sinkhorn.py:71: Sinkhorn did not converge. Consider increasing epsilon or number of iterations.\n",
      "/home/lars/code/python/context-aware-flow-matching/src/lightning-trainable/src/lightning_trainable/metrics/sinkhorn.py:71: Sinkhorn did not converge. Consider increasing epsilon or number of iterations.\n"
     ]
    },
    {
     "data": {
      "text/plain": "Validation: |          | 0/? [00:00<?, ?it/s]",
      "application/vnd.jupyter.widget-view+json": {
       "version_major": 2,
       "version_minor": 0,
       "model_id": "3e60bb46e0a14024a648c526bf4a55d0"
      }
     },
     "metadata": {},
     "output_type": "display_data"
    },
    {
     "name": "stderr",
     "output_type": "stream",
     "text": [
      "/home/lars/code/python/context-aware-flow-matching/src/lightning-trainable/src/lightning_trainable/metrics/sinkhorn.py:71: Sinkhorn did not converge. Consider increasing epsilon or number of iterations.\n",
      "/home/lars/code/python/context-aware-flow-matching/src/lightning-trainable/src/lightning_trainable/metrics/sinkhorn.py:71: Sinkhorn did not converge. Consider increasing epsilon or number of iterations.\n",
      "/home/lars/code/python/context-aware-flow-matching/src/lightning-trainable/src/lightning_trainable/metrics/sinkhorn.py:71: Sinkhorn did not converge. Consider increasing epsilon or number of iterations.\n",
      "/home/lars/code/python/context-aware-flow-matching/src/lightning-trainable/src/lightning_trainable/metrics/sinkhorn.py:71: Sinkhorn did not converge. Consider increasing epsilon or number of iterations.\n",
      "/home/lars/code/python/context-aware-flow-matching/src/lightning-trainable/src/lightning_trainable/metrics/sinkhorn.py:71: Sinkhorn did not converge. Consider increasing epsilon or number of iterations.\n",
      "/home/lars/code/python/context-aware-flow-matching/src/lightning-trainable/src/lightning_trainable/metrics/sinkhorn.py:71: Sinkhorn did not converge. Consider increasing epsilon or number of iterations.\n",
      "/home/lars/code/python/context-aware-flow-matching/src/lightning-trainable/src/lightning_trainable/metrics/sinkhorn.py:71: Sinkhorn did not converge. Consider increasing epsilon or number of iterations.\n",
      "/home/lars/code/python/context-aware-flow-matching/src/lightning-trainable/src/lightning_trainable/metrics/sinkhorn.py:71: Sinkhorn did not converge. Consider increasing epsilon or number of iterations.\n",
      "/home/lars/code/python/context-aware-flow-matching/src/lightning-trainable/src/lightning_trainable/metrics/sinkhorn.py:71: Sinkhorn did not converge. Consider increasing epsilon or number of iterations.\n",
      "/home/lars/code/python/context-aware-flow-matching/src/lightning-trainable/src/lightning_trainable/metrics/sinkhorn.py:71: Sinkhorn did not converge. Consider increasing epsilon or number of iterations.\n",
      "/home/lars/code/python/context-aware-flow-matching/src/lightning-trainable/src/lightning_trainable/metrics/sinkhorn.py:71: Sinkhorn did not converge. Consider increasing epsilon or number of iterations.\n",
      "/home/lars/code/python/context-aware-flow-matching/src/lightning-trainable/src/lightning_trainable/metrics/sinkhorn.py:71: Sinkhorn did not converge. Consider increasing epsilon or number of iterations.\n",
      "/home/lars/code/python/context-aware-flow-matching/src/lightning-trainable/src/lightning_trainable/metrics/sinkhorn.py:71: Sinkhorn did not converge. Consider increasing epsilon or number of iterations.\n",
      "/home/lars/code/python/context-aware-flow-matching/src/lightning-trainable/src/lightning_trainable/metrics/sinkhorn.py:71: Sinkhorn did not converge. Consider increasing epsilon or number of iterations.\n",
      "/home/lars/code/python/context-aware-flow-matching/src/lightning-trainable/src/lightning_trainable/metrics/sinkhorn.py:71: Sinkhorn did not converge. Consider increasing epsilon or number of iterations.\n",
      "/home/lars/code/python/context-aware-flow-matching/src/lightning-trainable/src/lightning_trainable/metrics/sinkhorn.py:71: Sinkhorn did not converge. Consider increasing epsilon or number of iterations.\n",
      "/home/lars/code/python/context-aware-flow-matching/src/lightning-trainable/src/lightning_trainable/metrics/sinkhorn.py:71: Sinkhorn did not converge. Consider increasing epsilon or number of iterations.\n",
      "/home/lars/code/python/context-aware-flow-matching/src/lightning-trainable/src/lightning_trainable/metrics/sinkhorn.py:71: Sinkhorn did not converge. Consider increasing epsilon or number of iterations.\n"
     ]
    },
    {
     "data": {
      "text/plain": "Validation: |          | 0/? [00:00<?, ?it/s]",
      "application/vnd.jupyter.widget-view+json": {
       "version_major": 2,
       "version_minor": 0,
       "model_id": "434762a66c5d4293a90ce9a7584d50a7"
      }
     },
     "metadata": {},
     "output_type": "display_data"
    },
    {
     "name": "stderr",
     "output_type": "stream",
     "text": [
      "/home/lars/code/python/context-aware-flow-matching/src/lightning-trainable/src/lightning_trainable/metrics/sinkhorn.py:71: Sinkhorn did not converge. Consider increasing epsilon or number of iterations.\n",
      "/home/lars/code/python/context-aware-flow-matching/src/lightning-trainable/src/lightning_trainable/metrics/sinkhorn.py:71: Sinkhorn did not converge. Consider increasing epsilon or number of iterations.\n",
      "/home/lars/code/python/context-aware-flow-matching/src/lightning-trainable/src/lightning_trainable/metrics/sinkhorn.py:71: Sinkhorn did not converge. Consider increasing epsilon or number of iterations.\n",
      "/home/lars/code/python/context-aware-flow-matching/src/lightning-trainable/src/lightning_trainable/metrics/sinkhorn.py:71: Sinkhorn did not converge. Consider increasing epsilon or number of iterations.\n",
      "/home/lars/code/python/context-aware-flow-matching/src/lightning-trainable/src/lightning_trainable/metrics/sinkhorn.py:71: Sinkhorn did not converge. Consider increasing epsilon or number of iterations.\n",
      "/home/lars/code/python/context-aware-flow-matching/src/lightning-trainable/src/lightning_trainable/metrics/sinkhorn.py:71: Sinkhorn did not converge. Consider increasing epsilon or number of iterations.\n",
      "/home/lars/code/python/context-aware-flow-matching/src/lightning-trainable/src/lightning_trainable/metrics/sinkhorn.py:71: Sinkhorn did not converge. Consider increasing epsilon or number of iterations.\n",
      "/home/lars/code/python/context-aware-flow-matching/src/lightning-trainable/src/lightning_trainable/metrics/sinkhorn.py:71: Sinkhorn did not converge. Consider increasing epsilon or number of iterations.\n",
      "/home/lars/code/python/context-aware-flow-matching/src/lightning-trainable/src/lightning_trainable/metrics/sinkhorn.py:71: Sinkhorn did not converge. Consider increasing epsilon or number of iterations.\n",
      "/home/lars/code/python/context-aware-flow-matching/src/lightning-trainable/src/lightning_trainable/metrics/sinkhorn.py:71: Sinkhorn did not converge. Consider increasing epsilon or number of iterations.\n",
      "/home/lars/code/python/context-aware-flow-matching/src/lightning-trainable/src/lightning_trainable/metrics/sinkhorn.py:71: Sinkhorn did not converge. Consider increasing epsilon or number of iterations.\n",
      "/home/lars/code/python/context-aware-flow-matching/src/lightning-trainable/src/lightning_trainable/metrics/sinkhorn.py:71: Sinkhorn did not converge. Consider increasing epsilon or number of iterations.\n",
      "/home/lars/code/python/context-aware-flow-matching/src/lightning-trainable/src/lightning_trainable/metrics/sinkhorn.py:71: Sinkhorn did not converge. Consider increasing epsilon or number of iterations.\n",
      "/home/lars/code/python/context-aware-flow-matching/src/lightning-trainable/src/lightning_trainable/metrics/sinkhorn.py:71: Sinkhorn did not converge. Consider increasing epsilon or number of iterations.\n",
      "/home/lars/code/python/context-aware-flow-matching/src/lightning-trainable/src/lightning_trainable/metrics/sinkhorn.py:71: Sinkhorn did not converge. Consider increasing epsilon or number of iterations.\n",
      "/home/lars/code/python/context-aware-flow-matching/src/lightning-trainable/src/lightning_trainable/metrics/sinkhorn.py:71: Sinkhorn did not converge. Consider increasing epsilon or number of iterations.\n",
      "/home/lars/code/python/context-aware-flow-matching/src/lightning-trainable/src/lightning_trainable/metrics/sinkhorn.py:71: Sinkhorn did not converge. Consider increasing epsilon or number of iterations.\n",
      "/home/lars/code/python/context-aware-flow-matching/src/lightning-trainable/src/lightning_trainable/metrics/sinkhorn.py:71: Sinkhorn did not converge. Consider increasing epsilon or number of iterations.\n"
     ]
    },
    {
     "data": {
      "text/plain": "Validation: |          | 0/? [00:00<?, ?it/s]",
      "application/vnd.jupyter.widget-view+json": {
       "version_major": 2,
       "version_minor": 0,
       "model_id": "8092ac5da563421795eb8910857e0733"
      }
     },
     "metadata": {},
     "output_type": "display_data"
    },
    {
     "name": "stderr",
     "output_type": "stream",
     "text": [
      "/home/lars/code/python/context-aware-flow-matching/src/lightning-trainable/src/lightning_trainable/metrics/sinkhorn.py:71: Sinkhorn did not converge. Consider increasing epsilon or number of iterations.\n",
      "/home/lars/code/python/context-aware-flow-matching/src/lightning-trainable/src/lightning_trainable/metrics/sinkhorn.py:71: Sinkhorn did not converge. Consider increasing epsilon or number of iterations.\n",
      "/home/lars/code/python/context-aware-flow-matching/src/lightning-trainable/src/lightning_trainable/metrics/sinkhorn.py:71: Sinkhorn did not converge. Consider increasing epsilon or number of iterations.\n",
      "/home/lars/code/python/context-aware-flow-matching/src/lightning-trainable/src/lightning_trainable/metrics/sinkhorn.py:71: Sinkhorn did not converge. Consider increasing epsilon or number of iterations.\n",
      "/home/lars/code/python/context-aware-flow-matching/src/lightning-trainable/src/lightning_trainable/metrics/sinkhorn.py:71: Sinkhorn did not converge. Consider increasing epsilon or number of iterations.\n",
      "/home/lars/code/python/context-aware-flow-matching/src/lightning-trainable/src/lightning_trainable/metrics/sinkhorn.py:71: Sinkhorn did not converge. Consider increasing epsilon or number of iterations.\n",
      "/home/lars/code/python/context-aware-flow-matching/src/lightning-trainable/src/lightning_trainable/metrics/sinkhorn.py:71: Sinkhorn did not converge. Consider increasing epsilon or number of iterations.\n",
      "/home/lars/code/python/context-aware-flow-matching/src/lightning-trainable/src/lightning_trainable/metrics/sinkhorn.py:71: Sinkhorn did not converge. Consider increasing epsilon or number of iterations.\n",
      "/home/lars/code/python/context-aware-flow-matching/src/lightning-trainable/src/lightning_trainable/metrics/sinkhorn.py:71: Sinkhorn did not converge. Consider increasing epsilon or number of iterations.\n",
      "/home/lars/code/python/context-aware-flow-matching/src/lightning-trainable/src/lightning_trainable/metrics/sinkhorn.py:71: Sinkhorn did not converge. Consider increasing epsilon or number of iterations.\n",
      "/home/lars/code/python/context-aware-flow-matching/src/lightning-trainable/src/lightning_trainable/metrics/sinkhorn.py:71: Sinkhorn did not converge. Consider increasing epsilon or number of iterations.\n",
      "/home/lars/code/python/context-aware-flow-matching/src/lightning-trainable/src/lightning_trainable/metrics/sinkhorn.py:71: Sinkhorn did not converge. Consider increasing epsilon or number of iterations.\n",
      "/home/lars/code/python/context-aware-flow-matching/src/lightning-trainable/src/lightning_trainable/metrics/sinkhorn.py:71: Sinkhorn did not converge. Consider increasing epsilon or number of iterations.\n",
      "/home/lars/code/python/context-aware-flow-matching/src/lightning-trainable/src/lightning_trainable/metrics/sinkhorn.py:71: Sinkhorn did not converge. Consider increasing epsilon or number of iterations.\n",
      "/home/lars/code/python/context-aware-flow-matching/src/lightning-trainable/src/lightning_trainable/metrics/sinkhorn.py:71: Sinkhorn did not converge. Consider increasing epsilon or number of iterations.\n",
      "/home/lars/code/python/context-aware-flow-matching/src/lightning-trainable/src/lightning_trainable/metrics/sinkhorn.py:71: Sinkhorn did not converge. Consider increasing epsilon or number of iterations.\n",
      "/home/lars/code/python/context-aware-flow-matching/src/lightning-trainable/src/lightning_trainable/metrics/sinkhorn.py:71: Sinkhorn did not converge. Consider increasing epsilon or number of iterations.\n",
      "/home/lars/code/python/context-aware-flow-matching/src/lightning-trainable/src/lightning_trainable/metrics/sinkhorn.py:71: Sinkhorn did not converge. Consider increasing epsilon or number of iterations.\n"
     ]
    },
    {
     "data": {
      "text/plain": "Validation: |          | 0/? [00:00<?, ?it/s]",
      "application/vnd.jupyter.widget-view+json": {
       "version_major": 2,
       "version_minor": 0,
       "model_id": "5f51d9facb494dd6bf4b7aa4c76f38f3"
      }
     },
     "metadata": {},
     "output_type": "display_data"
    },
    {
     "name": "stderr",
     "output_type": "stream",
     "text": [
      "/home/lars/code/python/context-aware-flow-matching/src/lightning-trainable/src/lightning_trainable/metrics/sinkhorn.py:71: Sinkhorn did not converge. Consider increasing epsilon or number of iterations.\n",
      "/home/lars/code/python/context-aware-flow-matching/src/lightning-trainable/src/lightning_trainable/metrics/sinkhorn.py:71: Sinkhorn did not converge. Consider increasing epsilon or number of iterations.\n",
      "/home/lars/code/python/context-aware-flow-matching/src/lightning-trainable/src/lightning_trainable/metrics/sinkhorn.py:71: Sinkhorn did not converge. Consider increasing epsilon or number of iterations.\n",
      "/home/lars/code/python/context-aware-flow-matching/src/lightning-trainable/src/lightning_trainable/metrics/sinkhorn.py:71: Sinkhorn did not converge. Consider increasing epsilon or number of iterations.\n",
      "/home/lars/code/python/context-aware-flow-matching/src/lightning-trainable/src/lightning_trainable/metrics/sinkhorn.py:71: Sinkhorn did not converge. Consider increasing epsilon or number of iterations.\n",
      "/home/lars/code/python/context-aware-flow-matching/src/lightning-trainable/src/lightning_trainable/metrics/sinkhorn.py:71: Sinkhorn did not converge. Consider increasing epsilon or number of iterations.\n",
      "/home/lars/code/python/context-aware-flow-matching/src/lightning-trainable/src/lightning_trainable/metrics/sinkhorn.py:71: Sinkhorn did not converge. Consider increasing epsilon or number of iterations.\n",
      "/home/lars/code/python/context-aware-flow-matching/src/lightning-trainable/src/lightning_trainable/metrics/sinkhorn.py:71: Sinkhorn did not converge. Consider increasing epsilon or number of iterations.\n",
      "/home/lars/code/python/context-aware-flow-matching/src/lightning-trainable/src/lightning_trainable/metrics/sinkhorn.py:71: Sinkhorn did not converge. Consider increasing epsilon or number of iterations.\n",
      "/home/lars/code/python/context-aware-flow-matching/src/lightning-trainable/src/lightning_trainable/metrics/sinkhorn.py:71: Sinkhorn did not converge. Consider increasing epsilon or number of iterations.\n",
      "/home/lars/code/python/context-aware-flow-matching/src/lightning-trainable/src/lightning_trainable/metrics/sinkhorn.py:71: Sinkhorn did not converge. Consider increasing epsilon or number of iterations.\n",
      "/home/lars/code/python/context-aware-flow-matching/src/lightning-trainable/src/lightning_trainable/metrics/sinkhorn.py:71: Sinkhorn did not converge. Consider increasing epsilon or number of iterations.\n",
      "/home/lars/code/python/context-aware-flow-matching/src/lightning-trainable/src/lightning_trainable/metrics/sinkhorn.py:71: Sinkhorn did not converge. Consider increasing epsilon or number of iterations.\n",
      "/home/lars/code/python/context-aware-flow-matching/src/lightning-trainable/src/lightning_trainable/metrics/sinkhorn.py:71: Sinkhorn did not converge. Consider increasing epsilon or number of iterations.\n",
      "/home/lars/code/python/context-aware-flow-matching/src/lightning-trainable/src/lightning_trainable/metrics/sinkhorn.py:71: Sinkhorn did not converge. Consider increasing epsilon or number of iterations.\n",
      "/home/lars/code/python/context-aware-flow-matching/src/lightning-trainable/src/lightning_trainable/metrics/sinkhorn.py:71: Sinkhorn did not converge. Consider increasing epsilon or number of iterations.\n",
      "/home/lars/code/python/context-aware-flow-matching/src/lightning-trainable/src/lightning_trainable/metrics/sinkhorn.py:71: Sinkhorn did not converge. Consider increasing epsilon or number of iterations.\n",
      "/home/lars/code/python/context-aware-flow-matching/src/lightning-trainable/src/lightning_trainable/metrics/sinkhorn.py:71: Sinkhorn did not converge. Consider increasing epsilon or number of iterations.\n"
     ]
    },
    {
     "data": {
      "text/plain": "Validation: |          | 0/? [00:00<?, ?it/s]",
      "application/vnd.jupyter.widget-view+json": {
       "version_major": 2,
       "version_minor": 0,
       "model_id": "ea6a3534f2e7496797d605395c13f1c0"
      }
     },
     "metadata": {},
     "output_type": "display_data"
    },
    {
     "name": "stderr",
     "output_type": "stream",
     "text": [
      "/home/lars/code/python/context-aware-flow-matching/src/lightning-trainable/src/lightning_trainable/metrics/sinkhorn.py:71: Sinkhorn did not converge. Consider increasing epsilon or number of iterations.\n",
      "/home/lars/code/python/context-aware-flow-matching/src/lightning-trainable/src/lightning_trainable/metrics/sinkhorn.py:71: Sinkhorn did not converge. Consider increasing epsilon or number of iterations.\n",
      "/home/lars/code/python/context-aware-flow-matching/src/lightning-trainable/src/lightning_trainable/metrics/sinkhorn.py:71: Sinkhorn did not converge. Consider increasing epsilon or number of iterations.\n",
      "/home/lars/code/python/context-aware-flow-matching/src/lightning-trainable/src/lightning_trainable/metrics/sinkhorn.py:71: Sinkhorn did not converge. Consider increasing epsilon or number of iterations.\n",
      "/home/lars/code/python/context-aware-flow-matching/src/lightning-trainable/src/lightning_trainable/metrics/sinkhorn.py:71: Sinkhorn did not converge. Consider increasing epsilon or number of iterations.\n",
      "/home/lars/code/python/context-aware-flow-matching/src/lightning-trainable/src/lightning_trainable/metrics/sinkhorn.py:71: Sinkhorn did not converge. Consider increasing epsilon or number of iterations.\n",
      "/home/lars/code/python/context-aware-flow-matching/src/lightning-trainable/src/lightning_trainable/metrics/sinkhorn.py:71: Sinkhorn did not converge. Consider increasing epsilon or number of iterations.\n",
      "/home/lars/code/python/context-aware-flow-matching/src/lightning-trainable/src/lightning_trainable/metrics/sinkhorn.py:71: Sinkhorn did not converge. Consider increasing epsilon or number of iterations.\n",
      "/home/lars/code/python/context-aware-flow-matching/src/lightning-trainable/src/lightning_trainable/metrics/sinkhorn.py:71: Sinkhorn did not converge. Consider increasing epsilon or number of iterations.\n",
      "/home/lars/code/python/context-aware-flow-matching/src/lightning-trainable/src/lightning_trainable/metrics/sinkhorn.py:71: Sinkhorn did not converge. Consider increasing epsilon or number of iterations.\n",
      "/home/lars/code/python/context-aware-flow-matching/src/lightning-trainable/src/lightning_trainable/metrics/sinkhorn.py:71: Sinkhorn did not converge. Consider increasing epsilon or number of iterations.\n",
      "/home/lars/code/python/context-aware-flow-matching/src/lightning-trainable/src/lightning_trainable/metrics/sinkhorn.py:71: Sinkhorn did not converge. Consider increasing epsilon or number of iterations.\n",
      "/home/lars/code/python/context-aware-flow-matching/src/lightning-trainable/src/lightning_trainable/metrics/sinkhorn.py:71: Sinkhorn did not converge. Consider increasing epsilon or number of iterations.\n",
      "/home/lars/code/python/context-aware-flow-matching/src/lightning-trainable/src/lightning_trainable/metrics/sinkhorn.py:71: Sinkhorn did not converge. Consider increasing epsilon or number of iterations.\n",
      "/home/lars/code/python/context-aware-flow-matching/src/lightning-trainable/src/lightning_trainable/metrics/sinkhorn.py:71: Sinkhorn did not converge. Consider increasing epsilon or number of iterations.\n",
      "/home/lars/code/python/context-aware-flow-matching/src/lightning-trainable/src/lightning_trainable/metrics/sinkhorn.py:71: Sinkhorn did not converge. Consider increasing epsilon or number of iterations.\n",
      "/home/lars/code/python/context-aware-flow-matching/src/lightning-trainable/src/lightning_trainable/metrics/sinkhorn.py:71: Sinkhorn did not converge. Consider increasing epsilon or number of iterations.\n",
      "/home/lars/code/python/context-aware-flow-matching/src/lightning-trainable/src/lightning_trainable/metrics/sinkhorn.py:71: Sinkhorn did not converge. Consider increasing epsilon or number of iterations.\n"
     ]
    },
    {
     "data": {
      "text/plain": "Validation: |          | 0/? [00:00<?, ?it/s]",
      "application/vnd.jupyter.widget-view+json": {
       "version_major": 2,
       "version_minor": 0,
       "model_id": "e9d3bf5f60dd4186840c6c67c69e248a"
      }
     },
     "metadata": {},
     "output_type": "display_data"
    },
    {
     "name": "stderr",
     "output_type": "stream",
     "text": [
      "/home/lars/code/python/context-aware-flow-matching/src/lightning-trainable/src/lightning_trainable/metrics/sinkhorn.py:71: Sinkhorn did not converge. Consider increasing epsilon or number of iterations.\n",
      "/home/lars/code/python/context-aware-flow-matching/src/lightning-trainable/src/lightning_trainable/metrics/sinkhorn.py:71: Sinkhorn did not converge. Consider increasing epsilon or number of iterations.\n",
      "/home/lars/code/python/context-aware-flow-matching/src/lightning-trainable/src/lightning_trainable/metrics/sinkhorn.py:71: Sinkhorn did not converge. Consider increasing epsilon or number of iterations.\n",
      "/home/lars/code/python/context-aware-flow-matching/src/lightning-trainable/src/lightning_trainable/metrics/sinkhorn.py:71: Sinkhorn did not converge. Consider increasing epsilon or number of iterations.\n",
      "/home/lars/code/python/context-aware-flow-matching/src/lightning-trainable/src/lightning_trainable/metrics/sinkhorn.py:71: Sinkhorn did not converge. Consider increasing epsilon or number of iterations.\n",
      "/home/lars/code/python/context-aware-flow-matching/src/lightning-trainable/src/lightning_trainable/metrics/sinkhorn.py:71: Sinkhorn did not converge. Consider increasing epsilon or number of iterations.\n",
      "/home/lars/code/python/context-aware-flow-matching/src/lightning-trainable/src/lightning_trainable/metrics/sinkhorn.py:71: Sinkhorn did not converge. Consider increasing epsilon or number of iterations.\n",
      "/home/lars/code/python/context-aware-flow-matching/src/lightning-trainable/src/lightning_trainable/metrics/sinkhorn.py:71: Sinkhorn did not converge. Consider increasing epsilon or number of iterations.\n",
      "/home/lars/code/python/context-aware-flow-matching/src/lightning-trainable/src/lightning_trainable/metrics/sinkhorn.py:71: Sinkhorn did not converge. Consider increasing epsilon or number of iterations.\n",
      "/home/lars/code/python/context-aware-flow-matching/src/lightning-trainable/src/lightning_trainable/metrics/sinkhorn.py:71: Sinkhorn did not converge. Consider increasing epsilon or number of iterations.\n",
      "/home/lars/code/python/context-aware-flow-matching/src/lightning-trainable/src/lightning_trainable/metrics/sinkhorn.py:71: Sinkhorn did not converge. Consider increasing epsilon or number of iterations.\n",
      "/home/lars/code/python/context-aware-flow-matching/src/lightning-trainable/src/lightning_trainable/metrics/sinkhorn.py:71: Sinkhorn did not converge. Consider increasing epsilon or number of iterations.\n",
      "/home/lars/code/python/context-aware-flow-matching/src/lightning-trainable/src/lightning_trainable/metrics/sinkhorn.py:71: Sinkhorn did not converge. Consider increasing epsilon or number of iterations.\n",
      "/home/lars/code/python/context-aware-flow-matching/src/lightning-trainable/src/lightning_trainable/metrics/sinkhorn.py:71: Sinkhorn did not converge. Consider increasing epsilon or number of iterations.\n",
      "/home/lars/code/python/context-aware-flow-matching/src/lightning-trainable/src/lightning_trainable/metrics/sinkhorn.py:71: Sinkhorn did not converge. Consider increasing epsilon or number of iterations.\n",
      "/home/lars/code/python/context-aware-flow-matching/src/lightning-trainable/src/lightning_trainable/metrics/sinkhorn.py:71: Sinkhorn did not converge. Consider increasing epsilon or number of iterations.\n",
      "/home/lars/code/python/context-aware-flow-matching/src/lightning-trainable/src/lightning_trainable/metrics/sinkhorn.py:71: Sinkhorn did not converge. Consider increasing epsilon or number of iterations.\n",
      "/home/lars/code/python/context-aware-flow-matching/src/lightning-trainable/src/lightning_trainable/metrics/sinkhorn.py:71: Sinkhorn did not converge. Consider increasing epsilon or number of iterations.\n"
     ]
    },
    {
     "data": {
      "text/plain": "Validation: |          | 0/? [00:00<?, ?it/s]",
      "application/vnd.jupyter.widget-view+json": {
       "version_major": 2,
       "version_minor": 0,
       "model_id": "31c323e0ab714f73bc9f6296261d7aea"
      }
     },
     "metadata": {},
     "output_type": "display_data"
    },
    {
     "name": "stderr",
     "output_type": "stream",
     "text": [
      "/home/lars/code/python/context-aware-flow-matching/src/lightning-trainable/src/lightning_trainable/metrics/sinkhorn.py:71: Sinkhorn did not converge. Consider increasing epsilon or number of iterations.\n",
      "/home/lars/code/python/context-aware-flow-matching/src/lightning-trainable/src/lightning_trainable/metrics/sinkhorn.py:71: Sinkhorn did not converge. Consider increasing epsilon or number of iterations.\n",
      "/home/lars/code/python/context-aware-flow-matching/src/lightning-trainable/src/lightning_trainable/metrics/sinkhorn.py:71: Sinkhorn did not converge. Consider increasing epsilon or number of iterations.\n",
      "/home/lars/code/python/context-aware-flow-matching/src/lightning-trainable/src/lightning_trainable/metrics/sinkhorn.py:71: Sinkhorn did not converge. Consider increasing epsilon or number of iterations.\n",
      "/home/lars/code/python/context-aware-flow-matching/src/lightning-trainable/src/lightning_trainable/metrics/sinkhorn.py:71: Sinkhorn did not converge. Consider increasing epsilon or number of iterations.\n",
      "/home/lars/code/python/context-aware-flow-matching/src/lightning-trainable/src/lightning_trainable/metrics/sinkhorn.py:71: Sinkhorn did not converge. Consider increasing epsilon or number of iterations.\n",
      "/home/lars/code/python/context-aware-flow-matching/src/lightning-trainable/src/lightning_trainable/metrics/sinkhorn.py:71: Sinkhorn did not converge. Consider increasing epsilon or number of iterations.\n",
      "/home/lars/code/python/context-aware-flow-matching/src/lightning-trainable/src/lightning_trainable/metrics/sinkhorn.py:71: Sinkhorn did not converge. Consider increasing epsilon or number of iterations.\n",
      "/home/lars/code/python/context-aware-flow-matching/src/lightning-trainable/src/lightning_trainable/metrics/sinkhorn.py:71: Sinkhorn did not converge. Consider increasing epsilon or number of iterations.\n",
      "/home/lars/code/python/context-aware-flow-matching/src/lightning-trainable/src/lightning_trainable/metrics/sinkhorn.py:71: Sinkhorn did not converge. Consider increasing epsilon or number of iterations.\n",
      "/home/lars/code/python/context-aware-flow-matching/src/lightning-trainable/src/lightning_trainable/metrics/sinkhorn.py:71: Sinkhorn did not converge. Consider increasing epsilon or number of iterations.\n",
      "/home/lars/code/python/context-aware-flow-matching/src/lightning-trainable/src/lightning_trainable/metrics/sinkhorn.py:71: Sinkhorn did not converge. Consider increasing epsilon or number of iterations.\n",
      "/home/lars/code/python/context-aware-flow-matching/src/lightning-trainable/src/lightning_trainable/metrics/sinkhorn.py:71: Sinkhorn did not converge. Consider increasing epsilon or number of iterations.\n",
      "/home/lars/code/python/context-aware-flow-matching/src/lightning-trainable/src/lightning_trainable/metrics/sinkhorn.py:71: Sinkhorn did not converge. Consider increasing epsilon or number of iterations.\n",
      "/home/lars/code/python/context-aware-flow-matching/src/lightning-trainable/src/lightning_trainable/metrics/sinkhorn.py:71: Sinkhorn did not converge. Consider increasing epsilon or number of iterations.\n",
      "/home/lars/code/python/context-aware-flow-matching/src/lightning-trainable/src/lightning_trainable/metrics/sinkhorn.py:71: Sinkhorn did not converge. Consider increasing epsilon or number of iterations.\n",
      "/home/lars/code/python/context-aware-flow-matching/src/lightning-trainable/src/lightning_trainable/metrics/sinkhorn.py:71: Sinkhorn did not converge. Consider increasing epsilon or number of iterations.\n",
      "/home/lars/code/python/context-aware-flow-matching/src/lightning-trainable/src/lightning_trainable/metrics/sinkhorn.py:71: Sinkhorn did not converge. Consider increasing epsilon or number of iterations.\n"
     ]
    },
    {
     "data": {
      "text/plain": "Validation: |          | 0/? [00:00<?, ?it/s]",
      "application/vnd.jupyter.widget-view+json": {
       "version_major": 2,
       "version_minor": 0,
       "model_id": "6cab1d3e9fca4a389cee810d2c457434"
      }
     },
     "metadata": {},
     "output_type": "display_data"
    },
    {
     "name": "stderr",
     "output_type": "stream",
     "text": [
      "/home/lars/code/python/context-aware-flow-matching/src/lightning-trainable/src/lightning_trainable/metrics/sinkhorn.py:71: Sinkhorn did not converge. Consider increasing epsilon or number of iterations.\n",
      "/home/lars/code/python/context-aware-flow-matching/src/lightning-trainable/src/lightning_trainable/metrics/sinkhorn.py:71: Sinkhorn did not converge. Consider increasing epsilon or number of iterations.\n",
      "/home/lars/code/python/context-aware-flow-matching/src/lightning-trainable/src/lightning_trainable/metrics/sinkhorn.py:71: Sinkhorn did not converge. Consider increasing epsilon or number of iterations.\n",
      "/home/lars/code/python/context-aware-flow-matching/src/lightning-trainable/src/lightning_trainable/metrics/sinkhorn.py:71: Sinkhorn did not converge. Consider increasing epsilon or number of iterations.\n",
      "/home/lars/code/python/context-aware-flow-matching/src/lightning-trainable/src/lightning_trainable/metrics/sinkhorn.py:71: Sinkhorn did not converge. Consider increasing epsilon or number of iterations.\n",
      "/home/lars/code/python/context-aware-flow-matching/src/lightning-trainable/src/lightning_trainable/metrics/sinkhorn.py:71: Sinkhorn did not converge. Consider increasing epsilon or number of iterations.\n",
      "/home/lars/code/python/context-aware-flow-matching/src/lightning-trainable/src/lightning_trainable/metrics/sinkhorn.py:71: Sinkhorn did not converge. Consider increasing epsilon or number of iterations.\n",
      "/home/lars/code/python/context-aware-flow-matching/src/lightning-trainable/src/lightning_trainable/metrics/sinkhorn.py:71: Sinkhorn did not converge. Consider increasing epsilon or number of iterations.\n",
      "/home/lars/code/python/context-aware-flow-matching/src/lightning-trainable/src/lightning_trainable/metrics/sinkhorn.py:71: Sinkhorn did not converge. Consider increasing epsilon or number of iterations.\n",
      "/home/lars/code/python/context-aware-flow-matching/src/lightning-trainable/src/lightning_trainable/metrics/sinkhorn.py:71: Sinkhorn did not converge. Consider increasing epsilon or number of iterations.\n",
      "/home/lars/code/python/context-aware-flow-matching/src/lightning-trainable/src/lightning_trainable/metrics/sinkhorn.py:71: Sinkhorn did not converge. Consider increasing epsilon or number of iterations.\n",
      "/home/lars/code/python/context-aware-flow-matching/src/lightning-trainable/src/lightning_trainable/metrics/sinkhorn.py:71: Sinkhorn did not converge. Consider increasing epsilon or number of iterations.\n",
      "/home/lars/code/python/context-aware-flow-matching/src/lightning-trainable/src/lightning_trainable/metrics/sinkhorn.py:71: Sinkhorn did not converge. Consider increasing epsilon or number of iterations.\n",
      "/home/lars/code/python/context-aware-flow-matching/src/lightning-trainable/src/lightning_trainable/metrics/sinkhorn.py:71: Sinkhorn did not converge. Consider increasing epsilon or number of iterations.\n",
      "/home/lars/code/python/context-aware-flow-matching/src/lightning-trainable/src/lightning_trainable/metrics/sinkhorn.py:71: Sinkhorn did not converge. Consider increasing epsilon or number of iterations.\n",
      "/home/lars/code/python/context-aware-flow-matching/src/lightning-trainable/src/lightning_trainable/metrics/sinkhorn.py:71: Sinkhorn did not converge. Consider increasing epsilon or number of iterations.\n",
      "/home/lars/code/python/context-aware-flow-matching/src/lightning-trainable/src/lightning_trainable/metrics/sinkhorn.py:71: Sinkhorn did not converge. Consider increasing epsilon or number of iterations.\n",
      "/home/lars/code/python/context-aware-flow-matching/src/lightning-trainable/src/lightning_trainable/metrics/sinkhorn.py:71: Sinkhorn did not converge. Consider increasing epsilon or number of iterations.\n"
     ]
    },
    {
     "data": {
      "text/plain": "Validation: |          | 0/? [00:00<?, ?it/s]",
      "application/vnd.jupyter.widget-view+json": {
       "version_major": 2,
       "version_minor": 0,
       "model_id": "75ccb75be7f74d19a2609a901dfc66da"
      }
     },
     "metadata": {},
     "output_type": "display_data"
    },
    {
     "name": "stderr",
     "output_type": "stream",
     "text": [
      "/home/lars/code/python/context-aware-flow-matching/src/lightning-trainable/src/lightning_trainable/metrics/sinkhorn.py:71: Sinkhorn did not converge. Consider increasing epsilon or number of iterations.\n",
      "/home/lars/code/python/context-aware-flow-matching/src/lightning-trainable/src/lightning_trainable/metrics/sinkhorn.py:71: Sinkhorn did not converge. Consider increasing epsilon or number of iterations.\n",
      "/home/lars/code/python/context-aware-flow-matching/src/lightning-trainable/src/lightning_trainable/metrics/sinkhorn.py:71: Sinkhorn did not converge. Consider increasing epsilon or number of iterations.\n",
      "/home/lars/code/python/context-aware-flow-matching/src/lightning-trainable/src/lightning_trainable/metrics/sinkhorn.py:71: Sinkhorn did not converge. Consider increasing epsilon or number of iterations.\n",
      "/home/lars/code/python/context-aware-flow-matching/src/lightning-trainable/src/lightning_trainable/metrics/sinkhorn.py:71: Sinkhorn did not converge. Consider increasing epsilon or number of iterations.\n",
      "/home/lars/code/python/context-aware-flow-matching/src/lightning-trainable/src/lightning_trainable/metrics/sinkhorn.py:71: Sinkhorn did not converge. Consider increasing epsilon or number of iterations.\n",
      "/home/lars/code/python/context-aware-flow-matching/src/lightning-trainable/src/lightning_trainable/metrics/sinkhorn.py:71: Sinkhorn did not converge. Consider increasing epsilon or number of iterations.\n",
      "/home/lars/code/python/context-aware-flow-matching/src/lightning-trainable/src/lightning_trainable/metrics/sinkhorn.py:71: Sinkhorn did not converge. Consider increasing epsilon or number of iterations.\n",
      "/home/lars/code/python/context-aware-flow-matching/src/lightning-trainable/src/lightning_trainable/metrics/sinkhorn.py:71: Sinkhorn did not converge. Consider increasing epsilon or number of iterations.\n",
      "/home/lars/code/python/context-aware-flow-matching/src/lightning-trainable/src/lightning_trainable/metrics/sinkhorn.py:71: Sinkhorn did not converge. Consider increasing epsilon or number of iterations.\n",
      "/home/lars/code/python/context-aware-flow-matching/src/lightning-trainable/src/lightning_trainable/metrics/sinkhorn.py:71: Sinkhorn did not converge. Consider increasing epsilon or number of iterations.\n",
      "/home/lars/code/python/context-aware-flow-matching/src/lightning-trainable/src/lightning_trainable/metrics/sinkhorn.py:71: Sinkhorn did not converge. Consider increasing epsilon or number of iterations.\n",
      "/home/lars/code/python/context-aware-flow-matching/src/lightning-trainable/src/lightning_trainable/metrics/sinkhorn.py:71: Sinkhorn did not converge. Consider increasing epsilon or number of iterations.\n",
      "/home/lars/code/python/context-aware-flow-matching/src/lightning-trainable/src/lightning_trainable/metrics/sinkhorn.py:71: Sinkhorn did not converge. Consider increasing epsilon or number of iterations.\n",
      "/home/lars/code/python/context-aware-flow-matching/src/lightning-trainable/src/lightning_trainable/metrics/sinkhorn.py:71: Sinkhorn did not converge. Consider increasing epsilon or number of iterations.\n",
      "/home/lars/code/python/context-aware-flow-matching/src/lightning-trainable/src/lightning_trainable/metrics/sinkhorn.py:71: Sinkhorn did not converge. Consider increasing epsilon or number of iterations.\n",
      "/home/lars/code/python/context-aware-flow-matching/src/lightning-trainable/src/lightning_trainable/metrics/sinkhorn.py:71: Sinkhorn did not converge. Consider increasing epsilon or number of iterations.\n",
      "/home/lars/code/python/context-aware-flow-matching/src/lightning-trainable/src/lightning_trainable/metrics/sinkhorn.py:71: Sinkhorn did not converge. Consider increasing epsilon or number of iterations.\n"
     ]
    },
    {
     "data": {
      "text/plain": "Validation: |          | 0/? [00:00<?, ?it/s]",
      "application/vnd.jupyter.widget-view+json": {
       "version_major": 2,
       "version_minor": 0,
       "model_id": "b6d2793763b3498784e3ca6058df7520"
      }
     },
     "metadata": {},
     "output_type": "display_data"
    },
    {
     "name": "stderr",
     "output_type": "stream",
     "text": [
      "/home/lars/code/python/context-aware-flow-matching/src/lightning-trainable/src/lightning_trainable/metrics/sinkhorn.py:71: Sinkhorn did not converge. Consider increasing epsilon or number of iterations.\n",
      "/home/lars/code/python/context-aware-flow-matching/src/lightning-trainable/src/lightning_trainable/metrics/sinkhorn.py:71: Sinkhorn did not converge. Consider increasing epsilon or number of iterations.\n",
      "/home/lars/code/python/context-aware-flow-matching/src/lightning-trainable/src/lightning_trainable/metrics/sinkhorn.py:71: Sinkhorn did not converge. Consider increasing epsilon or number of iterations.\n",
      "/home/lars/code/python/context-aware-flow-matching/src/lightning-trainable/src/lightning_trainable/metrics/sinkhorn.py:71: Sinkhorn did not converge. Consider increasing epsilon or number of iterations.\n",
      "/home/lars/code/python/context-aware-flow-matching/src/lightning-trainable/src/lightning_trainable/metrics/sinkhorn.py:71: Sinkhorn did not converge. Consider increasing epsilon or number of iterations.\n",
      "/home/lars/code/python/context-aware-flow-matching/src/lightning-trainable/src/lightning_trainable/metrics/sinkhorn.py:71: Sinkhorn did not converge. Consider increasing epsilon or number of iterations.\n",
      "/home/lars/code/python/context-aware-flow-matching/src/lightning-trainable/src/lightning_trainable/metrics/sinkhorn.py:71: Sinkhorn did not converge. Consider increasing epsilon or number of iterations.\n",
      "/home/lars/code/python/context-aware-flow-matching/src/lightning-trainable/src/lightning_trainable/metrics/sinkhorn.py:71: Sinkhorn did not converge. Consider increasing epsilon or number of iterations.\n",
      "/home/lars/code/python/context-aware-flow-matching/src/lightning-trainable/src/lightning_trainable/metrics/sinkhorn.py:71: Sinkhorn did not converge. Consider increasing epsilon or number of iterations.\n",
      "/home/lars/code/python/context-aware-flow-matching/src/lightning-trainable/src/lightning_trainable/metrics/sinkhorn.py:71: Sinkhorn did not converge. Consider increasing epsilon or number of iterations.\n",
      "/home/lars/code/python/context-aware-flow-matching/src/lightning-trainable/src/lightning_trainable/metrics/sinkhorn.py:71: Sinkhorn did not converge. Consider increasing epsilon or number of iterations.\n",
      "/home/lars/code/python/context-aware-flow-matching/src/lightning-trainable/src/lightning_trainable/metrics/sinkhorn.py:71: Sinkhorn did not converge. Consider increasing epsilon or number of iterations.\n",
      "/home/lars/code/python/context-aware-flow-matching/src/lightning-trainable/src/lightning_trainable/metrics/sinkhorn.py:71: Sinkhorn did not converge. Consider increasing epsilon or number of iterations.\n",
      "/home/lars/code/python/context-aware-flow-matching/src/lightning-trainable/src/lightning_trainable/metrics/sinkhorn.py:71: Sinkhorn did not converge. Consider increasing epsilon or number of iterations.\n",
      "/home/lars/code/python/context-aware-flow-matching/src/lightning-trainable/src/lightning_trainable/metrics/sinkhorn.py:71: Sinkhorn did not converge. Consider increasing epsilon or number of iterations.\n",
      "/home/lars/code/python/context-aware-flow-matching/src/lightning-trainable/src/lightning_trainable/metrics/sinkhorn.py:71: Sinkhorn did not converge. Consider increasing epsilon or number of iterations.\n",
      "/home/lars/code/python/context-aware-flow-matching/src/lightning-trainable/src/lightning_trainable/metrics/sinkhorn.py:71: Sinkhorn did not converge. Consider increasing epsilon or number of iterations.\n",
      "/home/lars/code/python/context-aware-flow-matching/src/lightning-trainable/src/lightning_trainable/metrics/sinkhorn.py:71: Sinkhorn did not converge. Consider increasing epsilon or number of iterations.\n"
     ]
    },
    {
     "data": {
      "text/plain": "Validation: |          | 0/? [00:00<?, ?it/s]",
      "application/vnd.jupyter.widget-view+json": {
       "version_major": 2,
       "version_minor": 0,
       "model_id": "f925f7f30d5d4533bf8d8ffbf12259da"
      }
     },
     "metadata": {},
     "output_type": "display_data"
    },
    {
     "name": "stderr",
     "output_type": "stream",
     "text": [
      "/home/lars/code/python/context-aware-flow-matching/src/lightning-trainable/src/lightning_trainable/metrics/sinkhorn.py:71: Sinkhorn did not converge. Consider increasing epsilon or number of iterations.\n",
      "/home/lars/code/python/context-aware-flow-matching/src/lightning-trainable/src/lightning_trainable/metrics/sinkhorn.py:71: Sinkhorn did not converge. Consider increasing epsilon or number of iterations.\n",
      "/home/lars/code/python/context-aware-flow-matching/src/lightning-trainable/src/lightning_trainable/metrics/sinkhorn.py:71: Sinkhorn did not converge. Consider increasing epsilon or number of iterations.\n",
      "/home/lars/code/python/context-aware-flow-matching/src/lightning-trainable/src/lightning_trainable/metrics/sinkhorn.py:71: Sinkhorn did not converge. Consider increasing epsilon or number of iterations.\n",
      "/home/lars/code/python/context-aware-flow-matching/src/lightning-trainable/src/lightning_trainable/metrics/sinkhorn.py:71: Sinkhorn did not converge. Consider increasing epsilon or number of iterations.\n",
      "/home/lars/code/python/context-aware-flow-matching/src/lightning-trainable/src/lightning_trainable/metrics/sinkhorn.py:71: Sinkhorn did not converge. Consider increasing epsilon or number of iterations.\n",
      "/home/lars/code/python/context-aware-flow-matching/src/lightning-trainable/src/lightning_trainable/metrics/sinkhorn.py:71: Sinkhorn did not converge. Consider increasing epsilon or number of iterations.\n",
      "/home/lars/code/python/context-aware-flow-matching/src/lightning-trainable/src/lightning_trainable/metrics/sinkhorn.py:71: Sinkhorn did not converge. Consider increasing epsilon or number of iterations.\n",
      "/home/lars/code/python/context-aware-flow-matching/src/lightning-trainable/src/lightning_trainable/metrics/sinkhorn.py:71: Sinkhorn did not converge. Consider increasing epsilon or number of iterations.\n",
      "/home/lars/code/python/context-aware-flow-matching/src/lightning-trainable/src/lightning_trainable/metrics/sinkhorn.py:71: Sinkhorn did not converge. Consider increasing epsilon or number of iterations.\n",
      "/home/lars/code/python/context-aware-flow-matching/src/lightning-trainable/src/lightning_trainable/metrics/sinkhorn.py:71: Sinkhorn did not converge. Consider increasing epsilon or number of iterations.\n",
      "/home/lars/code/python/context-aware-flow-matching/src/lightning-trainable/src/lightning_trainable/metrics/sinkhorn.py:71: Sinkhorn did not converge. Consider increasing epsilon or number of iterations.\n",
      "/home/lars/code/python/context-aware-flow-matching/src/lightning-trainable/src/lightning_trainable/metrics/sinkhorn.py:71: Sinkhorn did not converge. Consider increasing epsilon or number of iterations.\n",
      "/home/lars/code/python/context-aware-flow-matching/src/lightning-trainable/src/lightning_trainable/metrics/sinkhorn.py:71: Sinkhorn did not converge. Consider increasing epsilon or number of iterations.\n",
      "/home/lars/code/python/context-aware-flow-matching/src/lightning-trainable/src/lightning_trainable/metrics/sinkhorn.py:71: Sinkhorn did not converge. Consider increasing epsilon or number of iterations.\n",
      "/home/lars/code/python/context-aware-flow-matching/src/lightning-trainable/src/lightning_trainable/metrics/sinkhorn.py:71: Sinkhorn did not converge. Consider increasing epsilon or number of iterations.\n",
      "/home/lars/code/python/context-aware-flow-matching/src/lightning-trainable/src/lightning_trainable/metrics/sinkhorn.py:71: Sinkhorn did not converge. Consider increasing epsilon or number of iterations.\n",
      "/home/lars/code/python/context-aware-flow-matching/src/lightning-trainable/src/lightning_trainable/metrics/sinkhorn.py:71: Sinkhorn did not converge. Consider increasing epsilon or number of iterations.\n"
     ]
    },
    {
     "data": {
      "text/plain": "Validation: |          | 0/? [00:00<?, ?it/s]",
      "application/vnd.jupyter.widget-view+json": {
       "version_major": 2,
       "version_minor": 0,
       "model_id": "67ddfefe841f4298a0db6ac7e7cf61bc"
      }
     },
     "metadata": {},
     "output_type": "display_data"
    },
    {
     "name": "stderr",
     "output_type": "stream",
     "text": [
      "/home/lars/code/python/context-aware-flow-matching/src/lightning-trainable/src/lightning_trainable/metrics/sinkhorn.py:71: Sinkhorn did not converge. Consider increasing epsilon or number of iterations.\n",
      "/home/lars/code/python/context-aware-flow-matching/src/lightning-trainable/src/lightning_trainable/metrics/sinkhorn.py:71: Sinkhorn did not converge. Consider increasing epsilon or number of iterations.\n",
      "/home/lars/code/python/context-aware-flow-matching/src/lightning-trainable/src/lightning_trainable/metrics/sinkhorn.py:71: Sinkhorn did not converge. Consider increasing epsilon or number of iterations.\n",
      "/home/lars/code/python/context-aware-flow-matching/src/lightning-trainable/src/lightning_trainable/metrics/sinkhorn.py:71: Sinkhorn did not converge. Consider increasing epsilon or number of iterations.\n",
      "/home/lars/code/python/context-aware-flow-matching/src/lightning-trainable/src/lightning_trainable/metrics/sinkhorn.py:71: Sinkhorn did not converge. Consider increasing epsilon or number of iterations.\n",
      "/home/lars/code/python/context-aware-flow-matching/src/lightning-trainable/src/lightning_trainable/metrics/sinkhorn.py:71: Sinkhorn did not converge. Consider increasing epsilon or number of iterations.\n",
      "/home/lars/code/python/context-aware-flow-matching/src/lightning-trainable/src/lightning_trainable/metrics/sinkhorn.py:71: Sinkhorn did not converge. Consider increasing epsilon or number of iterations.\n",
      "/home/lars/code/python/context-aware-flow-matching/src/lightning-trainable/src/lightning_trainable/metrics/sinkhorn.py:71: Sinkhorn did not converge. Consider increasing epsilon or number of iterations.\n",
      "/home/lars/code/python/context-aware-flow-matching/src/lightning-trainable/src/lightning_trainable/metrics/sinkhorn.py:71: Sinkhorn did not converge. Consider increasing epsilon or number of iterations.\n",
      "/home/lars/code/python/context-aware-flow-matching/src/lightning-trainable/src/lightning_trainable/metrics/sinkhorn.py:71: Sinkhorn did not converge. Consider increasing epsilon or number of iterations.\n",
      "/home/lars/code/python/context-aware-flow-matching/src/lightning-trainable/src/lightning_trainable/metrics/sinkhorn.py:71: Sinkhorn did not converge. Consider increasing epsilon or number of iterations.\n",
      "/home/lars/code/python/context-aware-flow-matching/src/lightning-trainable/src/lightning_trainable/metrics/sinkhorn.py:71: Sinkhorn did not converge. Consider increasing epsilon or number of iterations.\n",
      "/home/lars/code/python/context-aware-flow-matching/src/lightning-trainable/src/lightning_trainable/metrics/sinkhorn.py:71: Sinkhorn did not converge. Consider increasing epsilon or number of iterations.\n",
      "/home/lars/code/python/context-aware-flow-matching/src/lightning-trainable/src/lightning_trainable/metrics/sinkhorn.py:71: Sinkhorn did not converge. Consider increasing epsilon or number of iterations.\n",
      "/home/lars/code/python/context-aware-flow-matching/src/lightning-trainable/src/lightning_trainable/metrics/sinkhorn.py:71: Sinkhorn did not converge. Consider increasing epsilon or number of iterations.\n",
      "/home/lars/code/python/context-aware-flow-matching/src/lightning-trainable/src/lightning_trainable/metrics/sinkhorn.py:71: Sinkhorn did not converge. Consider increasing epsilon or number of iterations.\n",
      "/home/lars/code/python/context-aware-flow-matching/src/lightning-trainable/src/lightning_trainable/metrics/sinkhorn.py:71: Sinkhorn did not converge. Consider increasing epsilon or number of iterations.\n",
      "/home/lars/code/python/context-aware-flow-matching/src/lightning-trainable/src/lightning_trainable/metrics/sinkhorn.py:71: Sinkhorn did not converge. Consider increasing epsilon or number of iterations.\n"
     ]
    },
    {
     "data": {
      "text/plain": "Validation: |          | 0/? [00:00<?, ?it/s]",
      "application/vnd.jupyter.widget-view+json": {
       "version_major": 2,
       "version_minor": 0,
       "model_id": "3d8dba2f177e479989982cb05be77e4d"
      }
     },
     "metadata": {},
     "output_type": "display_data"
    },
    {
     "name": "stderr",
     "output_type": "stream",
     "text": [
      "/home/lars/code/python/context-aware-flow-matching/src/lightning-trainable/src/lightning_trainable/metrics/sinkhorn.py:71: Sinkhorn did not converge. Consider increasing epsilon or number of iterations.\n",
      "/home/lars/code/python/context-aware-flow-matching/src/lightning-trainable/src/lightning_trainable/metrics/sinkhorn.py:71: Sinkhorn did not converge. Consider increasing epsilon or number of iterations.\n",
      "/home/lars/code/python/context-aware-flow-matching/src/lightning-trainable/src/lightning_trainable/metrics/sinkhorn.py:71: Sinkhorn did not converge. Consider increasing epsilon or number of iterations.\n",
      "/home/lars/code/python/context-aware-flow-matching/src/lightning-trainable/src/lightning_trainable/metrics/sinkhorn.py:71: Sinkhorn did not converge. Consider increasing epsilon or number of iterations.\n",
      "/home/lars/code/python/context-aware-flow-matching/src/lightning-trainable/src/lightning_trainable/metrics/sinkhorn.py:71: Sinkhorn did not converge. Consider increasing epsilon or number of iterations.\n",
      "/home/lars/code/python/context-aware-flow-matching/src/lightning-trainable/src/lightning_trainable/metrics/sinkhorn.py:71: Sinkhorn did not converge. Consider increasing epsilon or number of iterations.\n",
      "/home/lars/code/python/context-aware-flow-matching/src/lightning-trainable/src/lightning_trainable/metrics/sinkhorn.py:71: Sinkhorn did not converge. Consider increasing epsilon or number of iterations.\n",
      "/home/lars/code/python/context-aware-flow-matching/src/lightning-trainable/src/lightning_trainable/metrics/sinkhorn.py:71: Sinkhorn did not converge. Consider increasing epsilon or number of iterations.\n",
      "/home/lars/code/python/context-aware-flow-matching/src/lightning-trainable/src/lightning_trainable/metrics/sinkhorn.py:71: Sinkhorn did not converge. Consider increasing epsilon or number of iterations.\n",
      "/home/lars/code/python/context-aware-flow-matching/src/lightning-trainable/src/lightning_trainable/metrics/sinkhorn.py:71: Sinkhorn did not converge. Consider increasing epsilon or number of iterations.\n",
      "/home/lars/code/python/context-aware-flow-matching/src/lightning-trainable/src/lightning_trainable/metrics/sinkhorn.py:71: Sinkhorn did not converge. Consider increasing epsilon or number of iterations.\n",
      "/home/lars/code/python/context-aware-flow-matching/src/lightning-trainable/src/lightning_trainable/metrics/sinkhorn.py:71: Sinkhorn did not converge. Consider increasing epsilon or number of iterations.\n",
      "/home/lars/code/python/context-aware-flow-matching/src/lightning-trainable/src/lightning_trainable/metrics/sinkhorn.py:71: Sinkhorn did not converge. Consider increasing epsilon or number of iterations.\n",
      "/home/lars/code/python/context-aware-flow-matching/src/lightning-trainable/src/lightning_trainable/metrics/sinkhorn.py:71: Sinkhorn did not converge. Consider increasing epsilon or number of iterations.\n",
      "/home/lars/code/python/context-aware-flow-matching/src/lightning-trainable/src/lightning_trainable/metrics/sinkhorn.py:71: Sinkhorn did not converge. Consider increasing epsilon or number of iterations.\n",
      "/home/lars/code/python/context-aware-flow-matching/src/lightning-trainable/src/lightning_trainable/metrics/sinkhorn.py:71: Sinkhorn did not converge. Consider increasing epsilon or number of iterations.\n",
      "/home/lars/code/python/context-aware-flow-matching/src/lightning-trainable/src/lightning_trainable/metrics/sinkhorn.py:71: Sinkhorn did not converge. Consider increasing epsilon or number of iterations.\n",
      "/home/lars/code/python/context-aware-flow-matching/src/lightning-trainable/src/lightning_trainable/metrics/sinkhorn.py:71: Sinkhorn did not converge. Consider increasing epsilon or number of iterations.\n"
     ]
    },
    {
     "data": {
      "text/plain": "Validation: |          | 0/? [00:00<?, ?it/s]",
      "application/vnd.jupyter.widget-view+json": {
       "version_major": 2,
       "version_minor": 0,
       "model_id": "8d3b9311b8a846c69beb690e4ca2584d"
      }
     },
     "metadata": {},
     "output_type": "display_data"
    },
    {
     "name": "stderr",
     "output_type": "stream",
     "text": [
      "/home/lars/code/python/context-aware-flow-matching/src/lightning-trainable/src/lightning_trainable/metrics/sinkhorn.py:71: Sinkhorn did not converge. Consider increasing epsilon or number of iterations.\n",
      "/home/lars/code/python/context-aware-flow-matching/src/lightning-trainable/src/lightning_trainable/metrics/sinkhorn.py:71: Sinkhorn did not converge. Consider increasing epsilon or number of iterations.\n",
      "/home/lars/code/python/context-aware-flow-matching/src/lightning-trainable/src/lightning_trainable/metrics/sinkhorn.py:71: Sinkhorn did not converge. Consider increasing epsilon or number of iterations.\n",
      "/home/lars/code/python/context-aware-flow-matching/src/lightning-trainable/src/lightning_trainable/metrics/sinkhorn.py:71: Sinkhorn did not converge. Consider increasing epsilon or number of iterations.\n",
      "/home/lars/code/python/context-aware-flow-matching/src/lightning-trainable/src/lightning_trainable/metrics/sinkhorn.py:71: Sinkhorn did not converge. Consider increasing epsilon or number of iterations.\n",
      "/home/lars/code/python/context-aware-flow-matching/src/lightning-trainable/src/lightning_trainable/metrics/sinkhorn.py:71: Sinkhorn did not converge. Consider increasing epsilon or number of iterations.\n",
      "/home/lars/code/python/context-aware-flow-matching/src/lightning-trainable/src/lightning_trainable/metrics/sinkhorn.py:71: Sinkhorn did not converge. Consider increasing epsilon or number of iterations.\n",
      "/home/lars/code/python/context-aware-flow-matching/src/lightning-trainable/src/lightning_trainable/metrics/sinkhorn.py:71: Sinkhorn did not converge. Consider increasing epsilon or number of iterations.\n",
      "/home/lars/code/python/context-aware-flow-matching/src/lightning-trainable/src/lightning_trainable/metrics/sinkhorn.py:71: Sinkhorn did not converge. Consider increasing epsilon or number of iterations.\n",
      "/home/lars/code/python/context-aware-flow-matching/src/lightning-trainable/src/lightning_trainable/metrics/sinkhorn.py:71: Sinkhorn did not converge. Consider increasing epsilon or number of iterations.\n",
      "/home/lars/code/python/context-aware-flow-matching/src/lightning-trainable/src/lightning_trainable/metrics/sinkhorn.py:71: Sinkhorn did not converge. Consider increasing epsilon or number of iterations.\n",
      "/home/lars/code/python/context-aware-flow-matching/src/lightning-trainable/src/lightning_trainable/metrics/sinkhorn.py:71: Sinkhorn did not converge. Consider increasing epsilon or number of iterations.\n",
      "/home/lars/code/python/context-aware-flow-matching/src/lightning-trainable/src/lightning_trainable/metrics/sinkhorn.py:71: Sinkhorn did not converge. Consider increasing epsilon or number of iterations.\n",
      "/home/lars/code/python/context-aware-flow-matching/src/lightning-trainable/src/lightning_trainable/metrics/sinkhorn.py:71: Sinkhorn did not converge. Consider increasing epsilon or number of iterations.\n"
     ]
    }
   ],
   "source": [
    "model.fit(trainer_kwargs=dict(log_every_n_steps=1))"
   ]
  },
  {
   "cell_type": "code",
   "execution_count": null,
   "id": "c2f3f3fe-af36-4837-bf98-f4b63e725b9d",
   "metadata": {
    "is_executing": true
   },
   "outputs": [],
   "source": []
  }
 ],
 "metadata": {
  "kernelspec": {
   "display_name": "Python 3 (ipykernel)",
   "language": "python",
   "name": "python3"
  },
  "language_info": {
   "codemirror_mode": {
    "name": "ipython",
    "version": 3
   },
   "file_extension": ".py",
   "mimetype": "text/x-python",
   "name": "python",
   "nbconvert_exporter": "python",
   "pygments_lexer": "ipython3",
   "version": "3.10.13"
  }
 },
 "nbformat": 4,
 "nbformat_minor": 5
}
