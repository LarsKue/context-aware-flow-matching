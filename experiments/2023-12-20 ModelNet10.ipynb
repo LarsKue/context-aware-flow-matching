{
 "cells": [
  {
   "cell_type": "code",
   "execution_count": 1,
   "id": "316cf73f-06a9-4c8b-91b7-69dbe7cbe630",
   "metadata": {
    "ExecuteTime": {
     "end_time": "2023-12-23T17:35:59.799453340Z",
     "start_time": "2023-12-23T17:35:59.781640696Z"
    }
   },
   "outputs": [],
   "source": [
    "%load_ext autoreload\n",
    "%autoreload 2"
   ]
  },
  {
   "cell_type": "code",
   "execution_count": 2,
   "id": "d8047877fdae5e05",
   "metadata": {
    "collapsed": false,
    "ExecuteTime": {
     "end_time": "2023-12-23T17:35:59.816798931Z",
     "start_time": "2023-12-23T17:35:59.799563539Z"
    }
   },
   "outputs": [
    {
     "data": {
      "text/plain": "'/home/lars/code/python/context-aware-flow-matching'"
     },
     "execution_count": 2,
     "metadata": {},
     "output_type": "execute_result"
    }
   ],
   "source": [
    "import os\n",
    "if os.getcwd().endswith(\"experiments\"):\n",
    "    os.chdir(\"..\")\n",
    "\n",
    "os.getcwd()"
   ]
  },
  {
   "cell_type": "code",
   "execution_count": 3,
   "id": "initial_id",
   "metadata": {
    "ExecuteTime": {
     "end_time": "2023-12-23T17:36:01.690939838Z",
     "start_time": "2023-12-23T17:35:59.816411929Z"
    }
   },
   "outputs": [],
   "source": [
    "from src.models import Model\n",
    "from src.datasets import ModelNet10Dataset\n",
    "\n",
    "from torch.utils.data import random_split\n",
    "from lightning import seed_everything"
   ]
  },
  {
   "cell_type": "code",
   "execution_count": 4,
   "id": "11edd7826fa03d75",
   "metadata": {
    "collapsed": false,
    "ExecuteTime": {
     "end_time": "2023-12-23T17:36:01.732049678Z",
     "start_time": "2023-12-23T17:36:01.731169362Z"
    }
   },
   "outputs": [
    {
     "name": "stderr",
     "output_type": "stream",
     "text": [
      "Seed set to 42\n"
     ]
    },
    {
     "data": {
      "text/plain": "42"
     },
     "execution_count": 4,
     "metadata": {},
     "output_type": "execute_result"
    }
   ],
   "source": [
    "seed_everything(42)"
   ]
  },
  {
   "cell_type": "code",
   "execution_count": 5,
   "id": "7f249987df311986",
   "metadata": {
    "collapsed": false,
    "ExecuteTime": {
     "end_time": "2023-12-23T17:36:52.279217958Z",
     "start_time": "2023-12-23T17:36:01.731305039Z"
    }
   },
   "outputs": [
    {
     "name": "stdout",
     "output_type": "stream",
     "text": [
      "Found non-empty ModelNet10Dataset in data, skipping download...\n"
     ]
    },
    {
     "name": "stderr",
     "output_type": "stream",
     "text": [
      "preloading meshes: 100%|██████████| 4899/4899 [00:50<00:00, 97.95it/s] \n"
     ]
    }
   ],
   "source": [
    "dataset = ModelNet10Dataset(\"data\")"
   ]
  },
  {
   "cell_type": "code",
   "execution_count": 6,
   "id": "acfddab99fdf0452",
   "metadata": {
    "collapsed": false,
    "ExecuteTime": {
     "end_time": "2023-12-23T17:36:52.299522109Z",
     "start_time": "2023-12-23T17:36:52.280797047Z"
    }
   },
   "outputs": [],
   "source": [
    "train_data, val_data, test_data = random_split(dataset, [0.8, 0.1, 0.1])"
   ]
  },
  {
   "cell_type": "code",
   "execution_count": 7,
   "id": "bb064455bc0a9a85",
   "metadata": {
    "collapsed": false,
    "ExecuteTime": {
     "end_time": "2023-12-23T17:36:52.325197385Z",
     "start_time": "2023-12-23T17:36:52.301288122Z"
    }
   },
   "outputs": [],
   "source": [
    "hparams = dict(\n",
    "    batch_size=128,\n",
    "    accumulate_batches=4,\n",
    "    max_epochs=10_000,\n",
    "    gamma=0.5,\n",
    "    lr_scheduler=dict(\n",
    "        name=\"OneCycleLR\",\n",
    "        kwargs=dict(\n",
    "            max_lr=1e-3,\n",
    "            div_factor=1e1,\n",
    "            final_div_factor=1e4,\n",
    "        )\n",
    "    ),\n",
    "    gradient_clip=1.0,\n",
    "    num_workers=10,\n",
    "    accelerator=\"gpu\",\n",
    "    devices=-1,\n",
    ")"
   ]
  },
  {
   "cell_type": "code",
   "execution_count": 8,
   "id": "6e8b8a848ff350",
   "metadata": {
    "collapsed": false,
    "ExecuteTime": {
     "end_time": "2023-12-23T17:36:52.352962137Z",
     "start_time": "2023-12-23T17:36:52.323852851Z"
    }
   },
   "outputs": [],
   "source": [
    "model = Model(hparams, train_data, val_data, test_data)"
   ]
  },
  {
   "cell_type": "code",
   "outputs": [
    {
     "data": {
      "text/plain": "31"
     },
     "execution_count": 9,
     "metadata": {},
     "output_type": "execute_result"
    }
   ],
   "source": [
    "len(model.train_dataloader())"
   ],
   "metadata": {
    "collapsed": false,
    "ExecuteTime": {
     "end_time": "2023-12-23T17:36:52.411288172Z",
     "start_time": "2023-12-23T17:36:52.354489047Z"
    }
   },
   "id": "24a079adb308ece7",
   "execution_count": 9
  },
  {
   "cell_type": "code",
   "execution_count": null,
   "id": "9171da651b2e8cc5",
   "metadata": {
    "collapsed": false,
    "is_executing": true,
    "ExecuteTime": {
     "start_time": "2023-12-23T17:36:52.411201698Z"
    }
   },
   "outputs": [
    {
     "name": "stderr",
     "output_type": "stream",
     "text": [
      "GPU available: True (cuda), used: True\n",
      "TPU available: False, using: 0 TPU cores\n",
      "IPU available: False, using: 0 IPUs\n",
      "HPU available: False, using: 0 HPUs\n",
      "The following callbacks returned in `LightningModule.configure_callbacks` will override existing callbacks passed to Trainer: ModelCheckpoint\n",
      "LOCAL_RANK: 0 - CUDA_VISIBLE_DEVICES: [0]\n",
      "\n",
      "  | Name    | Type       | Params\n",
      "---------------------------------------\n",
      "0 | encoder | Sequential | 757 K \n",
      "1 | flow    | Sequential | 478 K \n",
      "---------------------------------------\n",
      "1.2 M     Trainable params\n",
      "0         Non-trainable params\n",
      "1.2 M     Total params\n",
      "4.941     Total estimated model params size (MB)\n"
     ]
    },
    {
     "name": "stdout",
     "output_type": "stream",
     "text": [
      "total steps: 77500\n"
     ]
    },
    {
     "data": {
      "text/plain": "Sanity Checking: |          | 0/? [00:00<?, ?it/s]",
      "application/vnd.jupyter.widget-view+json": {
       "version_major": 2,
       "version_minor": 0,
       "model_id": "c156ea1094384af5ba3a23211d270dd6"
      }
     },
     "metadata": {},
     "output_type": "display_data"
    },
    {
     "name": "stderr",
     "output_type": "stream",
     "text": [
      "/home/lars/code/python/context-aware-flow-matching/src/lightning-trainable/src/lightning_trainable/metrics/sinkhorn.py:71: Sinkhorn did not converge. Consider increasing epsilon or number of iterations.\n",
      "/home/lars/code/python/context-aware-flow-matching/src/lightning-trainable/src/lightning_trainable/metrics/sinkhorn.py:71: Sinkhorn did not converge. Consider increasing epsilon or number of iterations.\n",
      "/home/lars/code/python/context-aware-flow-matching/src/lightning-trainable/src/lightning_trainable/metrics/sinkhorn.py:71: Sinkhorn did not converge. Consider increasing epsilon or number of iterations.\n",
      "/home/lars/code/python/context-aware-flow-matching/src/lightning-trainable/src/lightning_trainable/metrics/sinkhorn.py:71: Sinkhorn did not converge. Consider increasing epsilon or number of iterations.\n"
     ]
    },
    {
     "data": {
      "text/plain": "Training: |          | 0/? [00:00<?, ?it/s]",
      "application/vnd.jupyter.widget-view+json": {
       "version_major": 2,
       "version_minor": 0,
       "model_id": "45b25d69a5a642cbb68dcbd1b51224a0"
      }
     },
     "metadata": {},
     "output_type": "display_data"
    },
    {
     "name": "stderr",
     "output_type": "stream",
     "text": [
      "/home/lars/code/python/context-aware-flow-matching/src/lightning-trainable/src/lightning_trainable/metrics/sinkhorn.py:71: Sinkhorn did not converge. Consider increasing epsilon or number of iterations.\n",
      "/home/lars/code/python/context-aware-flow-matching/src/lightning-trainable/src/lightning_trainable/metrics/sinkhorn.py:71: Sinkhorn did not converge. Consider increasing epsilon or number of iterations.\n",
      "/home/lars/code/python/context-aware-flow-matching/src/lightning-trainable/src/lightning_trainable/metrics/sinkhorn.py:71: Sinkhorn did not converge. Consider increasing epsilon or number of iterations.\n",
      "/home/lars/code/python/context-aware-flow-matching/src/lightning-trainable/src/lightning_trainable/metrics/sinkhorn.py:71: Sinkhorn did not converge. Consider increasing epsilon or number of iterations.\n",
      "/home/lars/code/python/context-aware-flow-matching/src/lightning-trainable/src/lightning_trainable/metrics/sinkhorn.py:71: Sinkhorn did not converge. Consider increasing epsilon or number of iterations.\n",
      "/home/lars/code/python/context-aware-flow-matching/src/lightning-trainable/src/lightning_trainable/metrics/sinkhorn.py:71: Sinkhorn did not converge. Consider increasing epsilon or number of iterations.\n",
      "/home/lars/code/python/context-aware-flow-matching/src/lightning-trainable/src/lightning_trainable/metrics/sinkhorn.py:71: Sinkhorn did not converge. Consider increasing epsilon or number of iterations.\n",
      "/home/lars/code/python/context-aware-flow-matching/src/lightning-trainable/src/lightning_trainable/metrics/sinkhorn.py:71: Sinkhorn did not converge. Consider increasing epsilon or number of iterations.\n",
      "/home/lars/code/python/context-aware-flow-matching/src/lightning-trainable/src/lightning_trainable/metrics/sinkhorn.py:71: Sinkhorn did not converge. Consider increasing epsilon or number of iterations.\n",
      "/home/lars/code/python/context-aware-flow-matching/src/lightning-trainable/src/lightning_trainable/metrics/sinkhorn.py:71: Sinkhorn did not converge. Consider increasing epsilon or number of iterations.\n",
      "/home/lars/code/python/context-aware-flow-matching/src/lightning-trainable/src/lightning_trainable/metrics/sinkhorn.py:71: Sinkhorn did not converge. Consider increasing epsilon or number of iterations.\n",
      "/home/lars/code/python/context-aware-flow-matching/src/lightning-trainable/src/lightning_trainable/metrics/sinkhorn.py:71: Sinkhorn did not converge. Consider increasing epsilon or number of iterations.\n",
      "/home/lars/code/python/context-aware-flow-matching/src/lightning-trainable/src/lightning_trainable/metrics/sinkhorn.py:71: Sinkhorn did not converge. Consider increasing epsilon or number of iterations.\n",
      "/home/lars/code/python/context-aware-flow-matching/src/lightning-trainable/src/lightning_trainable/metrics/sinkhorn.py:71: Sinkhorn did not converge. Consider increasing epsilon or number of iterations.\n"
     ]
    },
    {
     "data": {
      "text/plain": "Validation: |          | 0/? [00:00<?, ?it/s]",
      "application/vnd.jupyter.widget-view+json": {
       "version_major": 2,
       "version_minor": 0,
       "model_id": "ed2bb884ffaa429985ab069fd4c517d7"
      }
     },
     "metadata": {},
     "output_type": "display_data"
    },
    {
     "name": "stderr",
     "output_type": "stream",
     "text": [
      "/home/lars/code/python/context-aware-flow-matching/src/lightning-trainable/src/lightning_trainable/metrics/sinkhorn.py:71: Sinkhorn did not converge. Consider increasing epsilon or number of iterations.\n",
      "/home/lars/code/python/context-aware-flow-matching/src/lightning-trainable/src/lightning_trainable/metrics/sinkhorn.py:71: Sinkhorn did not converge. Consider increasing epsilon or number of iterations.\n",
      "/home/lars/code/python/context-aware-flow-matching/src/lightning-trainable/src/lightning_trainable/metrics/sinkhorn.py:71: Sinkhorn did not converge. Consider increasing epsilon or number of iterations.\n",
      "/home/lars/code/python/context-aware-flow-matching/src/lightning-trainable/src/lightning_trainable/metrics/sinkhorn.py:71: Sinkhorn did not converge. Consider increasing epsilon or number of iterations.\n",
      "/home/lars/code/python/context-aware-flow-matching/src/lightning-trainable/src/lightning_trainable/metrics/sinkhorn.py:71: Sinkhorn did not converge. Consider increasing epsilon or number of iterations.\n",
      "/home/lars/code/python/context-aware-flow-matching/src/lightning-trainable/src/lightning_trainable/metrics/sinkhorn.py:71: Sinkhorn did not converge. Consider increasing epsilon or number of iterations.\n",
      "/home/lars/code/python/context-aware-flow-matching/src/lightning-trainable/src/lightning_trainable/metrics/sinkhorn.py:71: Sinkhorn did not converge. Consider increasing epsilon or number of iterations.\n",
      "/home/lars/code/python/context-aware-flow-matching/src/lightning-trainable/src/lightning_trainable/metrics/sinkhorn.py:71: Sinkhorn did not converge. Consider increasing epsilon or number of iterations.\n",
      "/home/lars/code/python/context-aware-flow-matching/src/lightning-trainable/src/lightning_trainable/metrics/sinkhorn.py:71: Sinkhorn did not converge. Consider increasing epsilon or number of iterations.\n",
      "/home/lars/code/python/context-aware-flow-matching/src/lightning-trainable/src/lightning_trainable/metrics/sinkhorn.py:71: Sinkhorn did not converge. Consider increasing epsilon or number of iterations.\n",
      "/home/lars/code/python/context-aware-flow-matching/src/lightning-trainable/src/lightning_trainable/metrics/sinkhorn.py:71: Sinkhorn did not converge. Consider increasing epsilon or number of iterations.\n",
      "/home/lars/code/python/context-aware-flow-matching/src/lightning-trainable/src/lightning_trainable/metrics/sinkhorn.py:71: Sinkhorn did not converge. Consider increasing epsilon or number of iterations.\n",
      "/home/lars/code/python/context-aware-flow-matching/src/lightning-trainable/src/lightning_trainable/metrics/sinkhorn.py:71: Sinkhorn did not converge. Consider increasing epsilon or number of iterations.\n",
      "/home/lars/code/python/context-aware-flow-matching/src/lightning-trainable/src/lightning_trainable/metrics/sinkhorn.py:71: Sinkhorn did not converge. Consider increasing epsilon or number of iterations.\n"
     ]
    },
    {
     "data": {
      "text/plain": "Validation: |          | 0/? [00:00<?, ?it/s]",
      "application/vnd.jupyter.widget-view+json": {
       "version_major": 2,
       "version_minor": 0,
       "model_id": "bacb3404692b444e968a07012bb607d4"
      }
     },
     "metadata": {},
     "output_type": "display_data"
    },
    {
     "name": "stderr",
     "output_type": "stream",
     "text": [
      "/home/lars/code/python/context-aware-flow-matching/src/lightning-trainable/src/lightning_trainable/metrics/sinkhorn.py:71: Sinkhorn did not converge. Consider increasing epsilon or number of iterations.\n",
      "/home/lars/code/python/context-aware-flow-matching/src/lightning-trainable/src/lightning_trainable/metrics/sinkhorn.py:71: Sinkhorn did not converge. Consider increasing epsilon or number of iterations.\n",
      "/home/lars/code/python/context-aware-flow-matching/src/lightning-trainable/src/lightning_trainable/metrics/sinkhorn.py:71: Sinkhorn did not converge. Consider increasing epsilon or number of iterations.\n",
      "/home/lars/code/python/context-aware-flow-matching/src/lightning-trainable/src/lightning_trainable/metrics/sinkhorn.py:71: Sinkhorn did not converge. Consider increasing epsilon or number of iterations.\n",
      "/home/lars/code/python/context-aware-flow-matching/src/lightning-trainable/src/lightning_trainable/metrics/sinkhorn.py:71: Sinkhorn did not converge. Consider increasing epsilon or number of iterations.\n",
      "/home/lars/code/python/context-aware-flow-matching/src/lightning-trainable/src/lightning_trainable/metrics/sinkhorn.py:71: Sinkhorn did not converge. Consider increasing epsilon or number of iterations.\n",
      "/home/lars/code/python/context-aware-flow-matching/src/lightning-trainable/src/lightning_trainable/metrics/sinkhorn.py:71: Sinkhorn did not converge. Consider increasing epsilon or number of iterations.\n",
      "/home/lars/code/python/context-aware-flow-matching/src/lightning-trainable/src/lightning_trainable/metrics/sinkhorn.py:71: Sinkhorn did not converge. Consider increasing epsilon or number of iterations.\n",
      "/home/lars/code/python/context-aware-flow-matching/src/lightning-trainable/src/lightning_trainable/metrics/sinkhorn.py:71: Sinkhorn did not converge. Consider increasing epsilon or number of iterations.\n",
      "/home/lars/code/python/context-aware-flow-matching/src/lightning-trainable/src/lightning_trainable/metrics/sinkhorn.py:71: Sinkhorn did not converge. Consider increasing epsilon or number of iterations.\n",
      "/home/lars/code/python/context-aware-flow-matching/src/lightning-trainable/src/lightning_trainable/metrics/sinkhorn.py:71: Sinkhorn did not converge. Consider increasing epsilon or number of iterations.\n",
      "/home/lars/code/python/context-aware-flow-matching/src/lightning-trainable/src/lightning_trainable/metrics/sinkhorn.py:71: Sinkhorn did not converge. Consider increasing epsilon or number of iterations.\n",
      "/home/lars/code/python/context-aware-flow-matching/src/lightning-trainable/src/lightning_trainable/metrics/sinkhorn.py:71: Sinkhorn did not converge. Consider increasing epsilon or number of iterations.\n",
      "/home/lars/code/python/context-aware-flow-matching/src/lightning-trainable/src/lightning_trainable/metrics/sinkhorn.py:71: Sinkhorn did not converge. Consider increasing epsilon or number of iterations.\n"
     ]
    },
    {
     "data": {
      "text/plain": "Validation: |          | 0/? [00:00<?, ?it/s]",
      "application/vnd.jupyter.widget-view+json": {
       "version_major": 2,
       "version_minor": 0,
       "model_id": "6a72cc4cebb7404ea65b2f0fb4af16e6"
      }
     },
     "metadata": {},
     "output_type": "display_data"
    },
    {
     "name": "stderr",
     "output_type": "stream",
     "text": [
      "/home/lars/code/python/context-aware-flow-matching/src/lightning-trainable/src/lightning_trainable/metrics/sinkhorn.py:71: Sinkhorn did not converge. Consider increasing epsilon or number of iterations.\n",
      "/home/lars/code/python/context-aware-flow-matching/src/lightning-trainable/src/lightning_trainable/metrics/sinkhorn.py:71: Sinkhorn did not converge. Consider increasing epsilon or number of iterations.\n",
      "/home/lars/code/python/context-aware-flow-matching/src/lightning-trainable/src/lightning_trainable/metrics/sinkhorn.py:71: Sinkhorn did not converge. Consider increasing epsilon or number of iterations.\n",
      "/home/lars/code/python/context-aware-flow-matching/src/lightning-trainable/src/lightning_trainable/metrics/sinkhorn.py:71: Sinkhorn did not converge. Consider increasing epsilon or number of iterations.\n",
      "/home/lars/code/python/context-aware-flow-matching/src/lightning-trainable/src/lightning_trainable/metrics/sinkhorn.py:71: Sinkhorn did not converge. Consider increasing epsilon or number of iterations.\n",
      "/home/lars/code/python/context-aware-flow-matching/src/lightning-trainable/src/lightning_trainable/metrics/sinkhorn.py:71: Sinkhorn did not converge. Consider increasing epsilon or number of iterations.\n",
      "/home/lars/code/python/context-aware-flow-matching/src/lightning-trainable/src/lightning_trainable/metrics/sinkhorn.py:71: Sinkhorn did not converge. Consider increasing epsilon or number of iterations.\n",
      "/home/lars/code/python/context-aware-flow-matching/src/lightning-trainable/src/lightning_trainable/metrics/sinkhorn.py:71: Sinkhorn did not converge. Consider increasing epsilon or number of iterations.\n",
      "/home/lars/code/python/context-aware-flow-matching/src/lightning-trainable/src/lightning_trainable/metrics/sinkhorn.py:71: Sinkhorn did not converge. Consider increasing epsilon or number of iterations.\n",
      "/home/lars/code/python/context-aware-flow-matching/src/lightning-trainable/src/lightning_trainable/metrics/sinkhorn.py:71: Sinkhorn did not converge. Consider increasing epsilon or number of iterations.\n",
      "/home/lars/code/python/context-aware-flow-matching/src/lightning-trainable/src/lightning_trainable/metrics/sinkhorn.py:71: Sinkhorn did not converge. Consider increasing epsilon or number of iterations.\n",
      "/home/lars/code/python/context-aware-flow-matching/src/lightning-trainable/src/lightning_trainable/metrics/sinkhorn.py:71: Sinkhorn did not converge. Consider increasing epsilon or number of iterations.\n",
      "/home/lars/code/python/context-aware-flow-matching/src/lightning-trainable/src/lightning_trainable/metrics/sinkhorn.py:71: Sinkhorn did not converge. Consider increasing epsilon or number of iterations.\n",
      "/home/lars/code/python/context-aware-flow-matching/src/lightning-trainable/src/lightning_trainable/metrics/sinkhorn.py:71: Sinkhorn did not converge. Consider increasing epsilon or number of iterations.\n"
     ]
    },
    {
     "data": {
      "text/plain": "Validation: |          | 0/? [00:00<?, ?it/s]",
      "application/vnd.jupyter.widget-view+json": {
       "version_major": 2,
       "version_minor": 0,
       "model_id": "f3d59bf6ad3d4e0c9e13faa43fd26418"
      }
     },
     "metadata": {},
     "output_type": "display_data"
    },
    {
     "name": "stderr",
     "output_type": "stream",
     "text": [
      "/home/lars/code/python/context-aware-flow-matching/src/lightning-trainable/src/lightning_trainable/metrics/sinkhorn.py:71: Sinkhorn did not converge. Consider increasing epsilon or number of iterations.\n",
      "/home/lars/code/python/context-aware-flow-matching/src/lightning-trainable/src/lightning_trainable/metrics/sinkhorn.py:71: Sinkhorn did not converge. Consider increasing epsilon or number of iterations.\n",
      "/home/lars/code/python/context-aware-flow-matching/src/lightning-trainable/src/lightning_trainable/metrics/sinkhorn.py:71: Sinkhorn did not converge. Consider increasing epsilon or number of iterations.\n",
      "/home/lars/code/python/context-aware-flow-matching/src/lightning-trainable/src/lightning_trainable/metrics/sinkhorn.py:71: Sinkhorn did not converge. Consider increasing epsilon or number of iterations.\n",
      "/home/lars/code/python/context-aware-flow-matching/src/lightning-trainable/src/lightning_trainable/metrics/sinkhorn.py:71: Sinkhorn did not converge. Consider increasing epsilon or number of iterations.\n",
      "/home/lars/code/python/context-aware-flow-matching/src/lightning-trainable/src/lightning_trainable/metrics/sinkhorn.py:71: Sinkhorn did not converge. Consider increasing epsilon or number of iterations.\n",
      "/home/lars/code/python/context-aware-flow-matching/src/lightning-trainable/src/lightning_trainable/metrics/sinkhorn.py:71: Sinkhorn did not converge. Consider increasing epsilon or number of iterations.\n",
      "/home/lars/code/python/context-aware-flow-matching/src/lightning-trainable/src/lightning_trainable/metrics/sinkhorn.py:71: Sinkhorn did not converge. Consider increasing epsilon or number of iterations.\n",
      "/home/lars/code/python/context-aware-flow-matching/src/lightning-trainable/src/lightning_trainable/metrics/sinkhorn.py:71: Sinkhorn did not converge. Consider increasing epsilon or number of iterations.\n",
      "/home/lars/code/python/context-aware-flow-matching/src/lightning-trainable/src/lightning_trainable/metrics/sinkhorn.py:71: Sinkhorn did not converge. Consider increasing epsilon or number of iterations.\n",
      "/home/lars/code/python/context-aware-flow-matching/src/lightning-trainable/src/lightning_trainable/metrics/sinkhorn.py:71: Sinkhorn did not converge. Consider increasing epsilon or number of iterations.\n",
      "/home/lars/code/python/context-aware-flow-matching/src/lightning-trainable/src/lightning_trainable/metrics/sinkhorn.py:71: Sinkhorn did not converge. Consider increasing epsilon or number of iterations.\n",
      "/home/lars/code/python/context-aware-flow-matching/src/lightning-trainable/src/lightning_trainable/metrics/sinkhorn.py:71: Sinkhorn did not converge. Consider increasing epsilon or number of iterations.\n",
      "/home/lars/code/python/context-aware-flow-matching/src/lightning-trainable/src/lightning_trainable/metrics/sinkhorn.py:71: Sinkhorn did not converge. Consider increasing epsilon or number of iterations.\n"
     ]
    },
    {
     "data": {
      "text/plain": "Validation: |          | 0/? [00:00<?, ?it/s]",
      "application/vnd.jupyter.widget-view+json": {
       "version_major": 2,
       "version_minor": 0,
       "model_id": "1ced6f1825e941169dd63cdb40508278"
      }
     },
     "metadata": {},
     "output_type": "display_data"
    },
    {
     "name": "stderr",
     "output_type": "stream",
     "text": [
      "/home/lars/code/python/context-aware-flow-matching/src/lightning-trainable/src/lightning_trainable/metrics/sinkhorn.py:71: Sinkhorn did not converge. Consider increasing epsilon or number of iterations.\n",
      "/home/lars/code/python/context-aware-flow-matching/src/lightning-trainable/src/lightning_trainable/metrics/sinkhorn.py:71: Sinkhorn did not converge. Consider increasing epsilon or number of iterations.\n",
      "/home/lars/code/python/context-aware-flow-matching/src/lightning-trainable/src/lightning_trainable/metrics/sinkhorn.py:71: Sinkhorn did not converge. Consider increasing epsilon or number of iterations.\n",
      "/home/lars/code/python/context-aware-flow-matching/src/lightning-trainable/src/lightning_trainable/metrics/sinkhorn.py:71: Sinkhorn did not converge. Consider increasing epsilon or number of iterations.\n",
      "/home/lars/code/python/context-aware-flow-matching/src/lightning-trainable/src/lightning_trainable/metrics/sinkhorn.py:71: Sinkhorn did not converge. Consider increasing epsilon or number of iterations.\n",
      "/home/lars/code/python/context-aware-flow-matching/src/lightning-trainable/src/lightning_trainable/metrics/sinkhorn.py:71: Sinkhorn did not converge. Consider increasing epsilon or number of iterations.\n",
      "/home/lars/code/python/context-aware-flow-matching/src/lightning-trainable/src/lightning_trainable/metrics/sinkhorn.py:71: Sinkhorn did not converge. Consider increasing epsilon or number of iterations.\n",
      "/home/lars/code/python/context-aware-flow-matching/src/lightning-trainable/src/lightning_trainable/metrics/sinkhorn.py:71: Sinkhorn did not converge. Consider increasing epsilon or number of iterations.\n",
      "/home/lars/code/python/context-aware-flow-matching/src/lightning-trainable/src/lightning_trainable/metrics/sinkhorn.py:71: Sinkhorn did not converge. Consider increasing epsilon or number of iterations.\n",
      "/home/lars/code/python/context-aware-flow-matching/src/lightning-trainable/src/lightning_trainable/metrics/sinkhorn.py:71: Sinkhorn did not converge. Consider increasing epsilon or number of iterations.\n",
      "/home/lars/code/python/context-aware-flow-matching/src/lightning-trainable/src/lightning_trainable/metrics/sinkhorn.py:71: Sinkhorn did not converge. Consider increasing epsilon or number of iterations.\n",
      "/home/lars/code/python/context-aware-flow-matching/src/lightning-trainable/src/lightning_trainable/metrics/sinkhorn.py:71: Sinkhorn did not converge. Consider increasing epsilon or number of iterations.\n",
      "/home/lars/code/python/context-aware-flow-matching/src/lightning-trainable/src/lightning_trainable/metrics/sinkhorn.py:71: Sinkhorn did not converge. Consider increasing epsilon or number of iterations.\n",
      "/home/lars/code/python/context-aware-flow-matching/src/lightning-trainable/src/lightning_trainable/metrics/sinkhorn.py:71: Sinkhorn did not converge. Consider increasing epsilon or number of iterations.\n"
     ]
    },
    {
     "data": {
      "text/plain": "Validation: |          | 0/? [00:00<?, ?it/s]",
      "application/vnd.jupyter.widget-view+json": {
       "version_major": 2,
       "version_minor": 0,
       "model_id": "c234052aa8ee4c75ae5502eaa90857f4"
      }
     },
     "metadata": {},
     "output_type": "display_data"
    },
    {
     "name": "stderr",
     "output_type": "stream",
     "text": [
      "/home/lars/code/python/context-aware-flow-matching/src/lightning-trainable/src/lightning_trainable/metrics/sinkhorn.py:71: Sinkhorn did not converge. Consider increasing epsilon or number of iterations.\n",
      "/home/lars/code/python/context-aware-flow-matching/src/lightning-trainable/src/lightning_trainable/metrics/sinkhorn.py:71: Sinkhorn did not converge. Consider increasing epsilon or number of iterations.\n",
      "/home/lars/code/python/context-aware-flow-matching/src/lightning-trainable/src/lightning_trainable/metrics/sinkhorn.py:71: Sinkhorn did not converge. Consider increasing epsilon or number of iterations.\n",
      "/home/lars/code/python/context-aware-flow-matching/src/lightning-trainable/src/lightning_trainable/metrics/sinkhorn.py:71: Sinkhorn did not converge. Consider increasing epsilon or number of iterations.\n",
      "/home/lars/code/python/context-aware-flow-matching/src/lightning-trainable/src/lightning_trainable/metrics/sinkhorn.py:71: Sinkhorn did not converge. Consider increasing epsilon or number of iterations.\n",
      "/home/lars/code/python/context-aware-flow-matching/src/lightning-trainable/src/lightning_trainable/metrics/sinkhorn.py:71: Sinkhorn did not converge. Consider increasing epsilon or number of iterations.\n",
      "/home/lars/code/python/context-aware-flow-matching/src/lightning-trainable/src/lightning_trainable/metrics/sinkhorn.py:71: Sinkhorn did not converge. Consider increasing epsilon or number of iterations.\n",
      "/home/lars/code/python/context-aware-flow-matching/src/lightning-trainable/src/lightning_trainable/metrics/sinkhorn.py:71: Sinkhorn did not converge. Consider increasing epsilon or number of iterations.\n",
      "/home/lars/code/python/context-aware-flow-matching/src/lightning-trainable/src/lightning_trainable/metrics/sinkhorn.py:71: Sinkhorn did not converge. Consider increasing epsilon or number of iterations.\n",
      "/home/lars/code/python/context-aware-flow-matching/src/lightning-trainable/src/lightning_trainable/metrics/sinkhorn.py:71: Sinkhorn did not converge. Consider increasing epsilon or number of iterations.\n",
      "/home/lars/code/python/context-aware-flow-matching/src/lightning-trainable/src/lightning_trainable/metrics/sinkhorn.py:71: Sinkhorn did not converge. Consider increasing epsilon or number of iterations.\n",
      "/home/lars/code/python/context-aware-flow-matching/src/lightning-trainable/src/lightning_trainable/metrics/sinkhorn.py:71: Sinkhorn did not converge. Consider increasing epsilon or number of iterations.\n",
      "/home/lars/code/python/context-aware-flow-matching/src/lightning-trainable/src/lightning_trainable/metrics/sinkhorn.py:71: Sinkhorn did not converge. Consider increasing epsilon or number of iterations.\n",
      "/home/lars/code/python/context-aware-flow-matching/src/lightning-trainable/src/lightning_trainable/metrics/sinkhorn.py:71: Sinkhorn did not converge. Consider increasing epsilon or number of iterations.\n"
     ]
    },
    {
     "data": {
      "text/plain": "Validation: |          | 0/? [00:00<?, ?it/s]",
      "application/vnd.jupyter.widget-view+json": {
       "version_major": 2,
       "version_minor": 0,
       "model_id": "708fee133361478ead29616cab2c3c43"
      }
     },
     "metadata": {},
     "output_type": "display_data"
    },
    {
     "name": "stderr",
     "output_type": "stream",
     "text": [
      "/home/lars/code/python/context-aware-flow-matching/src/lightning-trainable/src/lightning_trainable/metrics/sinkhorn.py:71: Sinkhorn did not converge. Consider increasing epsilon or number of iterations.\n",
      "/home/lars/code/python/context-aware-flow-matching/src/lightning-trainable/src/lightning_trainable/metrics/sinkhorn.py:71: Sinkhorn did not converge. Consider increasing epsilon or number of iterations.\n",
      "/home/lars/code/python/context-aware-flow-matching/src/lightning-trainable/src/lightning_trainable/metrics/sinkhorn.py:71: Sinkhorn did not converge. Consider increasing epsilon or number of iterations.\n",
      "/home/lars/code/python/context-aware-flow-matching/src/lightning-trainable/src/lightning_trainable/metrics/sinkhorn.py:71: Sinkhorn did not converge. Consider increasing epsilon or number of iterations.\n",
      "/home/lars/code/python/context-aware-flow-matching/src/lightning-trainable/src/lightning_trainable/metrics/sinkhorn.py:71: Sinkhorn did not converge. Consider increasing epsilon or number of iterations.\n",
      "/home/lars/code/python/context-aware-flow-matching/src/lightning-trainable/src/lightning_trainable/metrics/sinkhorn.py:71: Sinkhorn did not converge. Consider increasing epsilon or number of iterations.\n",
      "/home/lars/code/python/context-aware-flow-matching/src/lightning-trainable/src/lightning_trainable/metrics/sinkhorn.py:71: Sinkhorn did not converge. Consider increasing epsilon or number of iterations.\n",
      "/home/lars/code/python/context-aware-flow-matching/src/lightning-trainable/src/lightning_trainable/metrics/sinkhorn.py:71: Sinkhorn did not converge. Consider increasing epsilon or number of iterations.\n",
      "/home/lars/code/python/context-aware-flow-matching/src/lightning-trainable/src/lightning_trainable/metrics/sinkhorn.py:71: Sinkhorn did not converge. Consider increasing epsilon or number of iterations.\n",
      "/home/lars/code/python/context-aware-flow-matching/src/lightning-trainable/src/lightning_trainable/metrics/sinkhorn.py:71: Sinkhorn did not converge. Consider increasing epsilon or number of iterations.\n",
      "/home/lars/code/python/context-aware-flow-matching/src/lightning-trainable/src/lightning_trainable/metrics/sinkhorn.py:71: Sinkhorn did not converge. Consider increasing epsilon or number of iterations.\n",
      "/home/lars/code/python/context-aware-flow-matching/src/lightning-trainable/src/lightning_trainable/metrics/sinkhorn.py:71: Sinkhorn did not converge. Consider increasing epsilon or number of iterations.\n",
      "/home/lars/code/python/context-aware-flow-matching/src/lightning-trainable/src/lightning_trainable/metrics/sinkhorn.py:71: Sinkhorn did not converge. Consider increasing epsilon or number of iterations.\n",
      "/home/lars/code/python/context-aware-flow-matching/src/lightning-trainable/src/lightning_trainable/metrics/sinkhorn.py:71: Sinkhorn did not converge. Consider increasing epsilon or number of iterations.\n"
     ]
    },
    {
     "data": {
      "text/plain": "Validation: |          | 0/? [00:00<?, ?it/s]",
      "application/vnd.jupyter.widget-view+json": {
       "version_major": 2,
       "version_minor": 0,
       "model_id": "9d9d04d3b41b4b2fba8a62f20ee30cf6"
      }
     },
     "metadata": {},
     "output_type": "display_data"
    },
    {
     "name": "stderr",
     "output_type": "stream",
     "text": [
      "/home/lars/code/python/context-aware-flow-matching/src/lightning-trainable/src/lightning_trainable/metrics/sinkhorn.py:71: Sinkhorn did not converge. Consider increasing epsilon or number of iterations.\n",
      "/home/lars/code/python/context-aware-flow-matching/src/lightning-trainable/src/lightning_trainable/metrics/sinkhorn.py:71: Sinkhorn did not converge. Consider increasing epsilon or number of iterations.\n",
      "/home/lars/code/python/context-aware-flow-matching/src/lightning-trainable/src/lightning_trainable/metrics/sinkhorn.py:71: Sinkhorn did not converge. Consider increasing epsilon or number of iterations.\n",
      "/home/lars/code/python/context-aware-flow-matching/src/lightning-trainable/src/lightning_trainable/metrics/sinkhorn.py:71: Sinkhorn did not converge. Consider increasing epsilon or number of iterations.\n",
      "/home/lars/code/python/context-aware-flow-matching/src/lightning-trainable/src/lightning_trainable/metrics/sinkhorn.py:71: Sinkhorn did not converge. Consider increasing epsilon or number of iterations.\n",
      "/home/lars/code/python/context-aware-flow-matching/src/lightning-trainable/src/lightning_trainable/metrics/sinkhorn.py:71: Sinkhorn did not converge. Consider increasing epsilon or number of iterations.\n",
      "/home/lars/code/python/context-aware-flow-matching/src/lightning-trainable/src/lightning_trainable/metrics/sinkhorn.py:71: Sinkhorn did not converge. Consider increasing epsilon or number of iterations.\n",
      "/home/lars/code/python/context-aware-flow-matching/src/lightning-trainable/src/lightning_trainable/metrics/sinkhorn.py:71: Sinkhorn did not converge. Consider increasing epsilon or number of iterations.\n",
      "/home/lars/code/python/context-aware-flow-matching/src/lightning-trainable/src/lightning_trainable/metrics/sinkhorn.py:71: Sinkhorn did not converge. Consider increasing epsilon or number of iterations.\n",
      "/home/lars/code/python/context-aware-flow-matching/src/lightning-trainable/src/lightning_trainable/metrics/sinkhorn.py:71: Sinkhorn did not converge. Consider increasing epsilon or number of iterations.\n",
      "/home/lars/code/python/context-aware-flow-matching/src/lightning-trainable/src/lightning_trainable/metrics/sinkhorn.py:71: Sinkhorn did not converge. Consider increasing epsilon or number of iterations.\n",
      "/home/lars/code/python/context-aware-flow-matching/src/lightning-trainable/src/lightning_trainable/metrics/sinkhorn.py:71: Sinkhorn did not converge. Consider increasing epsilon or number of iterations.\n",
      "/home/lars/code/python/context-aware-flow-matching/src/lightning-trainable/src/lightning_trainable/metrics/sinkhorn.py:71: Sinkhorn did not converge. Consider increasing epsilon or number of iterations.\n",
      "/home/lars/code/python/context-aware-flow-matching/src/lightning-trainable/src/lightning_trainable/metrics/sinkhorn.py:71: Sinkhorn did not converge. Consider increasing epsilon or number of iterations.\n"
     ]
    },
    {
     "data": {
      "text/plain": "Validation: |          | 0/? [00:00<?, ?it/s]",
      "application/vnd.jupyter.widget-view+json": {
       "version_major": 2,
       "version_minor": 0,
       "model_id": "64707f0ad58f49548ef7d893c21918ef"
      }
     },
     "metadata": {},
     "output_type": "display_data"
    },
    {
     "name": "stderr",
     "output_type": "stream",
     "text": [
      "/home/lars/code/python/context-aware-flow-matching/src/lightning-trainable/src/lightning_trainable/metrics/sinkhorn.py:71: Sinkhorn did not converge. Consider increasing epsilon or number of iterations.\n",
      "/home/lars/code/python/context-aware-flow-matching/src/lightning-trainable/src/lightning_trainable/metrics/sinkhorn.py:71: Sinkhorn did not converge. Consider increasing epsilon or number of iterations.\n",
      "/home/lars/code/python/context-aware-flow-matching/src/lightning-trainable/src/lightning_trainable/metrics/sinkhorn.py:71: Sinkhorn did not converge. Consider increasing epsilon or number of iterations.\n",
      "/home/lars/code/python/context-aware-flow-matching/src/lightning-trainable/src/lightning_trainable/metrics/sinkhorn.py:71: Sinkhorn did not converge. Consider increasing epsilon or number of iterations.\n",
      "/home/lars/code/python/context-aware-flow-matching/src/lightning-trainable/src/lightning_trainable/metrics/sinkhorn.py:71: Sinkhorn did not converge. Consider increasing epsilon or number of iterations.\n",
      "/home/lars/code/python/context-aware-flow-matching/src/lightning-trainable/src/lightning_trainable/metrics/sinkhorn.py:71: Sinkhorn did not converge. Consider increasing epsilon or number of iterations.\n",
      "/home/lars/code/python/context-aware-flow-matching/src/lightning-trainable/src/lightning_trainable/metrics/sinkhorn.py:71: Sinkhorn did not converge. Consider increasing epsilon or number of iterations.\n",
      "/home/lars/code/python/context-aware-flow-matching/src/lightning-trainable/src/lightning_trainable/metrics/sinkhorn.py:71: Sinkhorn did not converge. Consider increasing epsilon or number of iterations.\n",
      "/home/lars/code/python/context-aware-flow-matching/src/lightning-trainable/src/lightning_trainable/metrics/sinkhorn.py:71: Sinkhorn did not converge. Consider increasing epsilon or number of iterations.\n",
      "/home/lars/code/python/context-aware-flow-matching/src/lightning-trainable/src/lightning_trainable/metrics/sinkhorn.py:71: Sinkhorn did not converge. Consider increasing epsilon or number of iterations.\n",
      "/home/lars/code/python/context-aware-flow-matching/src/lightning-trainable/src/lightning_trainable/metrics/sinkhorn.py:71: Sinkhorn did not converge. Consider increasing epsilon or number of iterations.\n",
      "/home/lars/code/python/context-aware-flow-matching/src/lightning-trainable/src/lightning_trainable/metrics/sinkhorn.py:71: Sinkhorn did not converge. Consider increasing epsilon or number of iterations.\n",
      "/home/lars/code/python/context-aware-flow-matching/src/lightning-trainable/src/lightning_trainable/metrics/sinkhorn.py:71: Sinkhorn did not converge. Consider increasing epsilon or number of iterations.\n",
      "/home/lars/code/python/context-aware-flow-matching/src/lightning-trainable/src/lightning_trainable/metrics/sinkhorn.py:71: Sinkhorn did not converge. Consider increasing epsilon or number of iterations.\n"
     ]
    },
    {
     "data": {
      "text/plain": "Validation: |          | 0/? [00:00<?, ?it/s]",
      "application/vnd.jupyter.widget-view+json": {
       "version_major": 2,
       "version_minor": 0,
       "model_id": "cb976cc7808249d58132adf69dcd55df"
      }
     },
     "metadata": {},
     "output_type": "display_data"
    },
    {
     "name": "stderr",
     "output_type": "stream",
     "text": [
      "/home/lars/code/python/context-aware-flow-matching/src/lightning-trainable/src/lightning_trainable/metrics/sinkhorn.py:71: Sinkhorn did not converge. Consider increasing epsilon or number of iterations.\n",
      "/home/lars/code/python/context-aware-flow-matching/src/lightning-trainable/src/lightning_trainable/metrics/sinkhorn.py:71: Sinkhorn did not converge. Consider increasing epsilon or number of iterations.\n",
      "/home/lars/code/python/context-aware-flow-matching/src/lightning-trainable/src/lightning_trainable/metrics/sinkhorn.py:71: Sinkhorn did not converge. Consider increasing epsilon or number of iterations.\n",
      "/home/lars/code/python/context-aware-flow-matching/src/lightning-trainable/src/lightning_trainable/metrics/sinkhorn.py:71: Sinkhorn did not converge. Consider increasing epsilon or number of iterations.\n",
      "/home/lars/code/python/context-aware-flow-matching/src/lightning-trainable/src/lightning_trainable/metrics/sinkhorn.py:71: Sinkhorn did not converge. Consider increasing epsilon or number of iterations.\n",
      "/home/lars/code/python/context-aware-flow-matching/src/lightning-trainable/src/lightning_trainable/metrics/sinkhorn.py:71: Sinkhorn did not converge. Consider increasing epsilon or number of iterations.\n",
      "/home/lars/code/python/context-aware-flow-matching/src/lightning-trainable/src/lightning_trainable/metrics/sinkhorn.py:71: Sinkhorn did not converge. Consider increasing epsilon or number of iterations.\n",
      "/home/lars/code/python/context-aware-flow-matching/src/lightning-trainable/src/lightning_trainable/metrics/sinkhorn.py:71: Sinkhorn did not converge. Consider increasing epsilon or number of iterations.\n",
      "/home/lars/code/python/context-aware-flow-matching/src/lightning-trainable/src/lightning_trainable/metrics/sinkhorn.py:71: Sinkhorn did not converge. Consider increasing epsilon or number of iterations.\n",
      "/home/lars/code/python/context-aware-flow-matching/src/lightning-trainable/src/lightning_trainable/metrics/sinkhorn.py:71: Sinkhorn did not converge. Consider increasing epsilon or number of iterations.\n",
      "/home/lars/code/python/context-aware-flow-matching/src/lightning-trainable/src/lightning_trainable/metrics/sinkhorn.py:71: Sinkhorn did not converge. Consider increasing epsilon or number of iterations.\n",
      "/home/lars/code/python/context-aware-flow-matching/src/lightning-trainable/src/lightning_trainable/metrics/sinkhorn.py:71: Sinkhorn did not converge. Consider increasing epsilon or number of iterations.\n",
      "/home/lars/code/python/context-aware-flow-matching/src/lightning-trainable/src/lightning_trainable/metrics/sinkhorn.py:71: Sinkhorn did not converge. Consider increasing epsilon or number of iterations.\n",
      "/home/lars/code/python/context-aware-flow-matching/src/lightning-trainable/src/lightning_trainable/metrics/sinkhorn.py:71: Sinkhorn did not converge. Consider increasing epsilon or number of iterations.\n"
     ]
    },
    {
     "data": {
      "text/plain": "Validation: |          | 0/? [00:00<?, ?it/s]",
      "application/vnd.jupyter.widget-view+json": {
       "version_major": 2,
       "version_minor": 0,
       "model_id": "36ccaa84ff844a12990baa2219d18363"
      }
     },
     "metadata": {},
     "output_type": "display_data"
    },
    {
     "name": "stderr",
     "output_type": "stream",
     "text": [
      "/home/lars/code/python/context-aware-flow-matching/src/lightning-trainable/src/lightning_trainable/metrics/sinkhorn.py:71: Sinkhorn did not converge. Consider increasing epsilon or number of iterations.\n",
      "/home/lars/code/python/context-aware-flow-matching/src/lightning-trainable/src/lightning_trainable/metrics/sinkhorn.py:71: Sinkhorn did not converge. Consider increasing epsilon or number of iterations.\n",
      "/home/lars/code/python/context-aware-flow-matching/src/lightning-trainable/src/lightning_trainable/metrics/sinkhorn.py:71: Sinkhorn did not converge. Consider increasing epsilon or number of iterations.\n",
      "/home/lars/code/python/context-aware-flow-matching/src/lightning-trainable/src/lightning_trainable/metrics/sinkhorn.py:71: Sinkhorn did not converge. Consider increasing epsilon or number of iterations.\n",
      "/home/lars/code/python/context-aware-flow-matching/src/lightning-trainable/src/lightning_trainable/metrics/sinkhorn.py:71: Sinkhorn did not converge. Consider increasing epsilon or number of iterations.\n",
      "/home/lars/code/python/context-aware-flow-matching/src/lightning-trainable/src/lightning_trainable/metrics/sinkhorn.py:71: Sinkhorn did not converge. Consider increasing epsilon or number of iterations.\n",
      "/home/lars/code/python/context-aware-flow-matching/src/lightning-trainable/src/lightning_trainable/metrics/sinkhorn.py:71: Sinkhorn did not converge. Consider increasing epsilon or number of iterations.\n",
      "/home/lars/code/python/context-aware-flow-matching/src/lightning-trainable/src/lightning_trainable/metrics/sinkhorn.py:71: Sinkhorn did not converge. Consider increasing epsilon or number of iterations.\n",
      "/home/lars/code/python/context-aware-flow-matching/src/lightning-trainable/src/lightning_trainable/metrics/sinkhorn.py:71: Sinkhorn did not converge. Consider increasing epsilon or number of iterations.\n",
      "/home/lars/code/python/context-aware-flow-matching/src/lightning-trainable/src/lightning_trainable/metrics/sinkhorn.py:71: Sinkhorn did not converge. Consider increasing epsilon or number of iterations.\n",
      "/home/lars/code/python/context-aware-flow-matching/src/lightning-trainable/src/lightning_trainable/metrics/sinkhorn.py:71: Sinkhorn did not converge. Consider increasing epsilon or number of iterations.\n",
      "/home/lars/code/python/context-aware-flow-matching/src/lightning-trainable/src/lightning_trainable/metrics/sinkhorn.py:71: Sinkhorn did not converge. Consider increasing epsilon or number of iterations.\n",
      "/home/lars/code/python/context-aware-flow-matching/src/lightning-trainable/src/lightning_trainable/metrics/sinkhorn.py:71: Sinkhorn did not converge. Consider increasing epsilon or number of iterations.\n",
      "/home/lars/code/python/context-aware-flow-matching/src/lightning-trainable/src/lightning_trainable/metrics/sinkhorn.py:71: Sinkhorn did not converge. Consider increasing epsilon or number of iterations.\n"
     ]
    },
    {
     "data": {
      "text/plain": "Validation: |          | 0/? [00:00<?, ?it/s]",
      "application/vnd.jupyter.widget-view+json": {
       "version_major": 2,
       "version_minor": 0,
       "model_id": "3537ef78871a455ea1e7669078d079eb"
      }
     },
     "metadata": {},
     "output_type": "display_data"
    },
    {
     "name": "stderr",
     "output_type": "stream",
     "text": [
      "/home/lars/code/python/context-aware-flow-matching/src/lightning-trainable/src/lightning_trainable/metrics/sinkhorn.py:71: Sinkhorn did not converge. Consider increasing epsilon or number of iterations.\n",
      "/home/lars/code/python/context-aware-flow-matching/src/lightning-trainable/src/lightning_trainable/metrics/sinkhorn.py:71: Sinkhorn did not converge. Consider increasing epsilon or number of iterations.\n",
      "/home/lars/code/python/context-aware-flow-matching/src/lightning-trainable/src/lightning_trainable/metrics/sinkhorn.py:71: Sinkhorn did not converge. Consider increasing epsilon or number of iterations.\n",
      "/home/lars/code/python/context-aware-flow-matching/src/lightning-trainable/src/lightning_trainable/metrics/sinkhorn.py:71: Sinkhorn did not converge. Consider increasing epsilon or number of iterations.\n",
      "/home/lars/code/python/context-aware-flow-matching/src/lightning-trainable/src/lightning_trainable/metrics/sinkhorn.py:71: Sinkhorn did not converge. Consider increasing epsilon or number of iterations.\n",
      "/home/lars/code/python/context-aware-flow-matching/src/lightning-trainable/src/lightning_trainable/metrics/sinkhorn.py:71: Sinkhorn did not converge. Consider increasing epsilon or number of iterations.\n",
      "/home/lars/code/python/context-aware-flow-matching/src/lightning-trainable/src/lightning_trainable/metrics/sinkhorn.py:71: Sinkhorn did not converge. Consider increasing epsilon or number of iterations.\n",
      "/home/lars/code/python/context-aware-flow-matching/src/lightning-trainable/src/lightning_trainable/metrics/sinkhorn.py:71: Sinkhorn did not converge. Consider increasing epsilon or number of iterations.\n",
      "/home/lars/code/python/context-aware-flow-matching/src/lightning-trainable/src/lightning_trainable/metrics/sinkhorn.py:71: Sinkhorn did not converge. Consider increasing epsilon or number of iterations.\n",
      "/home/lars/code/python/context-aware-flow-matching/src/lightning-trainable/src/lightning_trainable/metrics/sinkhorn.py:71: Sinkhorn did not converge. Consider increasing epsilon or number of iterations.\n",
      "/home/lars/code/python/context-aware-flow-matching/src/lightning-trainable/src/lightning_trainable/metrics/sinkhorn.py:71: Sinkhorn did not converge. Consider increasing epsilon or number of iterations.\n",
      "/home/lars/code/python/context-aware-flow-matching/src/lightning-trainable/src/lightning_trainable/metrics/sinkhorn.py:71: Sinkhorn did not converge. Consider increasing epsilon or number of iterations.\n",
      "/home/lars/code/python/context-aware-flow-matching/src/lightning-trainable/src/lightning_trainable/metrics/sinkhorn.py:71: Sinkhorn did not converge. Consider increasing epsilon or number of iterations.\n",
      "/home/lars/code/python/context-aware-flow-matching/src/lightning-trainable/src/lightning_trainable/metrics/sinkhorn.py:71: Sinkhorn did not converge. Consider increasing epsilon or number of iterations.\n"
     ]
    },
    {
     "data": {
      "text/plain": "Validation: |          | 0/? [00:00<?, ?it/s]",
      "application/vnd.jupyter.widget-view+json": {
       "version_major": 2,
       "version_minor": 0,
       "model_id": "80c65ec0341d4706a10f13a42f4b638f"
      }
     },
     "metadata": {},
     "output_type": "display_data"
    },
    {
     "name": "stderr",
     "output_type": "stream",
     "text": [
      "/home/lars/code/python/context-aware-flow-matching/src/lightning-trainable/src/lightning_trainable/metrics/sinkhorn.py:71: Sinkhorn did not converge. Consider increasing epsilon or number of iterations.\n",
      "/home/lars/code/python/context-aware-flow-matching/src/lightning-trainable/src/lightning_trainable/metrics/sinkhorn.py:71: Sinkhorn did not converge. Consider increasing epsilon or number of iterations.\n",
      "/home/lars/code/python/context-aware-flow-matching/src/lightning-trainable/src/lightning_trainable/metrics/sinkhorn.py:71: Sinkhorn did not converge. Consider increasing epsilon or number of iterations.\n",
      "/home/lars/code/python/context-aware-flow-matching/src/lightning-trainable/src/lightning_trainable/metrics/sinkhorn.py:71: Sinkhorn did not converge. Consider increasing epsilon or number of iterations.\n",
      "/home/lars/code/python/context-aware-flow-matching/src/lightning-trainable/src/lightning_trainable/metrics/sinkhorn.py:71: Sinkhorn did not converge. Consider increasing epsilon or number of iterations.\n",
      "/home/lars/code/python/context-aware-flow-matching/src/lightning-trainable/src/lightning_trainable/metrics/sinkhorn.py:71: Sinkhorn did not converge. Consider increasing epsilon or number of iterations.\n",
      "/home/lars/code/python/context-aware-flow-matching/src/lightning-trainable/src/lightning_trainable/metrics/sinkhorn.py:71: Sinkhorn did not converge. Consider increasing epsilon or number of iterations.\n",
      "/home/lars/code/python/context-aware-flow-matching/src/lightning-trainable/src/lightning_trainable/metrics/sinkhorn.py:71: Sinkhorn did not converge. Consider increasing epsilon or number of iterations.\n",
      "/home/lars/code/python/context-aware-flow-matching/src/lightning-trainable/src/lightning_trainable/metrics/sinkhorn.py:71: Sinkhorn did not converge. Consider increasing epsilon or number of iterations.\n",
      "/home/lars/code/python/context-aware-flow-matching/src/lightning-trainable/src/lightning_trainable/metrics/sinkhorn.py:71: Sinkhorn did not converge. Consider increasing epsilon or number of iterations.\n",
      "/home/lars/code/python/context-aware-flow-matching/src/lightning-trainable/src/lightning_trainable/metrics/sinkhorn.py:71: Sinkhorn did not converge. Consider increasing epsilon or number of iterations.\n",
      "/home/lars/code/python/context-aware-flow-matching/src/lightning-trainable/src/lightning_trainable/metrics/sinkhorn.py:71: Sinkhorn did not converge. Consider increasing epsilon or number of iterations.\n",
      "/home/lars/code/python/context-aware-flow-matching/src/lightning-trainable/src/lightning_trainable/metrics/sinkhorn.py:71: Sinkhorn did not converge. Consider increasing epsilon or number of iterations.\n",
      "/home/lars/code/python/context-aware-flow-matching/src/lightning-trainable/src/lightning_trainable/metrics/sinkhorn.py:71: Sinkhorn did not converge. Consider increasing epsilon or number of iterations.\n"
     ]
    },
    {
     "data": {
      "text/plain": "Validation: |          | 0/? [00:00<?, ?it/s]",
      "application/vnd.jupyter.widget-view+json": {
       "version_major": 2,
       "version_minor": 0,
       "model_id": "1085b5b59ca748319e66b814d106101c"
      }
     },
     "metadata": {},
     "output_type": "display_data"
    },
    {
     "name": "stderr",
     "output_type": "stream",
     "text": [
      "/home/lars/code/python/context-aware-flow-matching/src/lightning-trainable/src/lightning_trainable/metrics/sinkhorn.py:71: Sinkhorn did not converge. Consider increasing epsilon or number of iterations.\n",
      "/home/lars/code/python/context-aware-flow-matching/src/lightning-trainable/src/lightning_trainable/metrics/sinkhorn.py:71: Sinkhorn did not converge. Consider increasing epsilon or number of iterations.\n",
      "/home/lars/code/python/context-aware-flow-matching/src/lightning-trainable/src/lightning_trainable/metrics/sinkhorn.py:71: Sinkhorn did not converge. Consider increasing epsilon or number of iterations.\n",
      "/home/lars/code/python/context-aware-flow-matching/src/lightning-trainable/src/lightning_trainable/metrics/sinkhorn.py:71: Sinkhorn did not converge. Consider increasing epsilon or number of iterations.\n",
      "/home/lars/code/python/context-aware-flow-matching/src/lightning-trainable/src/lightning_trainable/metrics/sinkhorn.py:71: Sinkhorn did not converge. Consider increasing epsilon or number of iterations.\n",
      "/home/lars/code/python/context-aware-flow-matching/src/lightning-trainable/src/lightning_trainable/metrics/sinkhorn.py:71: Sinkhorn did not converge. Consider increasing epsilon or number of iterations.\n",
      "/home/lars/code/python/context-aware-flow-matching/src/lightning-trainable/src/lightning_trainable/metrics/sinkhorn.py:71: Sinkhorn did not converge. Consider increasing epsilon or number of iterations.\n",
      "/home/lars/code/python/context-aware-flow-matching/src/lightning-trainable/src/lightning_trainable/metrics/sinkhorn.py:71: Sinkhorn did not converge. Consider increasing epsilon or number of iterations.\n",
      "/home/lars/code/python/context-aware-flow-matching/src/lightning-trainable/src/lightning_trainable/metrics/sinkhorn.py:71: Sinkhorn did not converge. Consider increasing epsilon or number of iterations.\n",
      "/home/lars/code/python/context-aware-flow-matching/src/lightning-trainable/src/lightning_trainable/metrics/sinkhorn.py:71: Sinkhorn did not converge. Consider increasing epsilon or number of iterations.\n",
      "/home/lars/code/python/context-aware-flow-matching/src/lightning-trainable/src/lightning_trainable/metrics/sinkhorn.py:71: Sinkhorn did not converge. Consider increasing epsilon or number of iterations.\n",
      "/home/lars/code/python/context-aware-flow-matching/src/lightning-trainable/src/lightning_trainable/metrics/sinkhorn.py:71: Sinkhorn did not converge. Consider increasing epsilon or number of iterations.\n",
      "/home/lars/code/python/context-aware-flow-matching/src/lightning-trainable/src/lightning_trainable/metrics/sinkhorn.py:71: Sinkhorn did not converge. Consider increasing epsilon or number of iterations.\n",
      "/home/lars/code/python/context-aware-flow-matching/src/lightning-trainable/src/lightning_trainable/metrics/sinkhorn.py:71: Sinkhorn did not converge. Consider increasing epsilon or number of iterations.\n"
     ]
    },
    {
     "data": {
      "text/plain": "Validation: |          | 0/? [00:00<?, ?it/s]",
      "application/vnd.jupyter.widget-view+json": {
       "version_major": 2,
       "version_minor": 0,
       "model_id": "50a06abda4364613903a82996a47619b"
      }
     },
     "metadata": {},
     "output_type": "display_data"
    },
    {
     "name": "stderr",
     "output_type": "stream",
     "text": [
      "/home/lars/code/python/context-aware-flow-matching/src/lightning-trainable/src/lightning_trainable/metrics/sinkhorn.py:71: Sinkhorn did not converge. Consider increasing epsilon or number of iterations.\n",
      "/home/lars/code/python/context-aware-flow-matching/src/lightning-trainable/src/lightning_trainable/metrics/sinkhorn.py:71: Sinkhorn did not converge. Consider increasing epsilon or number of iterations.\n",
      "/home/lars/code/python/context-aware-flow-matching/src/lightning-trainable/src/lightning_trainable/metrics/sinkhorn.py:71: Sinkhorn did not converge. Consider increasing epsilon or number of iterations.\n",
      "/home/lars/code/python/context-aware-flow-matching/src/lightning-trainable/src/lightning_trainable/metrics/sinkhorn.py:71: Sinkhorn did not converge. Consider increasing epsilon or number of iterations.\n",
      "/home/lars/code/python/context-aware-flow-matching/src/lightning-trainable/src/lightning_trainable/metrics/sinkhorn.py:71: Sinkhorn did not converge. Consider increasing epsilon or number of iterations.\n",
      "/home/lars/code/python/context-aware-flow-matching/src/lightning-trainable/src/lightning_trainable/metrics/sinkhorn.py:71: Sinkhorn did not converge. Consider increasing epsilon or number of iterations.\n",
      "/home/lars/code/python/context-aware-flow-matching/src/lightning-trainable/src/lightning_trainable/metrics/sinkhorn.py:71: Sinkhorn did not converge. Consider increasing epsilon or number of iterations.\n",
      "/home/lars/code/python/context-aware-flow-matching/src/lightning-trainable/src/lightning_trainable/metrics/sinkhorn.py:71: Sinkhorn did not converge. Consider increasing epsilon or number of iterations.\n",
      "/home/lars/code/python/context-aware-flow-matching/src/lightning-trainable/src/lightning_trainable/metrics/sinkhorn.py:71: Sinkhorn did not converge. Consider increasing epsilon or number of iterations.\n",
      "/home/lars/code/python/context-aware-flow-matching/src/lightning-trainable/src/lightning_trainable/metrics/sinkhorn.py:71: Sinkhorn did not converge. Consider increasing epsilon or number of iterations.\n",
      "/home/lars/code/python/context-aware-flow-matching/src/lightning-trainable/src/lightning_trainable/metrics/sinkhorn.py:71: Sinkhorn did not converge. Consider increasing epsilon or number of iterations.\n",
      "/home/lars/code/python/context-aware-flow-matching/src/lightning-trainable/src/lightning_trainable/metrics/sinkhorn.py:71: Sinkhorn did not converge. Consider increasing epsilon or number of iterations.\n",
      "/home/lars/code/python/context-aware-flow-matching/src/lightning-trainable/src/lightning_trainable/metrics/sinkhorn.py:71: Sinkhorn did not converge. Consider increasing epsilon or number of iterations.\n",
      "/home/lars/code/python/context-aware-flow-matching/src/lightning-trainable/src/lightning_trainable/metrics/sinkhorn.py:71: Sinkhorn did not converge. Consider increasing epsilon or number of iterations.\n"
     ]
    },
    {
     "data": {
      "text/plain": "Validation: |          | 0/? [00:00<?, ?it/s]",
      "application/vnd.jupyter.widget-view+json": {
       "version_major": 2,
       "version_minor": 0,
       "model_id": "448e4782d58745c690cfd0a23b2e0dd8"
      }
     },
     "metadata": {},
     "output_type": "display_data"
    },
    {
     "name": "stderr",
     "output_type": "stream",
     "text": [
      "/home/lars/code/python/context-aware-flow-matching/src/lightning-trainable/src/lightning_trainable/metrics/sinkhorn.py:71: Sinkhorn did not converge. Consider increasing epsilon or number of iterations.\n",
      "/home/lars/code/python/context-aware-flow-matching/src/lightning-trainable/src/lightning_trainable/metrics/sinkhorn.py:71: Sinkhorn did not converge. Consider increasing epsilon or number of iterations.\n",
      "/home/lars/code/python/context-aware-flow-matching/src/lightning-trainable/src/lightning_trainable/metrics/sinkhorn.py:71: Sinkhorn did not converge. Consider increasing epsilon or number of iterations.\n",
      "/home/lars/code/python/context-aware-flow-matching/src/lightning-trainable/src/lightning_trainable/metrics/sinkhorn.py:71: Sinkhorn did not converge. Consider increasing epsilon or number of iterations.\n",
      "/home/lars/code/python/context-aware-flow-matching/src/lightning-trainable/src/lightning_trainable/metrics/sinkhorn.py:71: Sinkhorn did not converge. Consider increasing epsilon or number of iterations.\n",
      "/home/lars/code/python/context-aware-flow-matching/src/lightning-trainable/src/lightning_trainable/metrics/sinkhorn.py:71: Sinkhorn did not converge. Consider increasing epsilon or number of iterations.\n",
      "/home/lars/code/python/context-aware-flow-matching/src/lightning-trainable/src/lightning_trainable/metrics/sinkhorn.py:71: Sinkhorn did not converge. Consider increasing epsilon or number of iterations.\n",
      "/home/lars/code/python/context-aware-flow-matching/src/lightning-trainable/src/lightning_trainable/metrics/sinkhorn.py:71: Sinkhorn did not converge. Consider increasing epsilon or number of iterations.\n",
      "/home/lars/code/python/context-aware-flow-matching/src/lightning-trainable/src/lightning_trainable/metrics/sinkhorn.py:71: Sinkhorn did not converge. Consider increasing epsilon or number of iterations.\n",
      "/home/lars/code/python/context-aware-flow-matching/src/lightning-trainable/src/lightning_trainable/metrics/sinkhorn.py:71: Sinkhorn did not converge. Consider increasing epsilon or number of iterations.\n",
      "/home/lars/code/python/context-aware-flow-matching/src/lightning-trainable/src/lightning_trainable/metrics/sinkhorn.py:71: Sinkhorn did not converge. Consider increasing epsilon or number of iterations.\n",
      "/home/lars/code/python/context-aware-flow-matching/src/lightning-trainable/src/lightning_trainable/metrics/sinkhorn.py:71: Sinkhorn did not converge. Consider increasing epsilon or number of iterations.\n",
      "/home/lars/code/python/context-aware-flow-matching/src/lightning-trainable/src/lightning_trainable/metrics/sinkhorn.py:71: Sinkhorn did not converge. Consider increasing epsilon or number of iterations.\n",
      "/home/lars/code/python/context-aware-flow-matching/src/lightning-trainable/src/lightning_trainable/metrics/sinkhorn.py:71: Sinkhorn did not converge. Consider increasing epsilon or number of iterations.\n"
     ]
    },
    {
     "data": {
      "text/plain": "Validation: |          | 0/? [00:00<?, ?it/s]",
      "application/vnd.jupyter.widget-view+json": {
       "version_major": 2,
       "version_minor": 0,
       "model_id": "39da6a5853cc4179ab96b1ec7d1f038c"
      }
     },
     "metadata": {},
     "output_type": "display_data"
    },
    {
     "name": "stderr",
     "output_type": "stream",
     "text": [
      "/home/lars/code/python/context-aware-flow-matching/src/lightning-trainable/src/lightning_trainable/metrics/sinkhorn.py:71: Sinkhorn did not converge. Consider increasing epsilon or number of iterations.\n",
      "/home/lars/code/python/context-aware-flow-matching/src/lightning-trainable/src/lightning_trainable/metrics/sinkhorn.py:71: Sinkhorn did not converge. Consider increasing epsilon or number of iterations.\n",
      "/home/lars/code/python/context-aware-flow-matching/src/lightning-trainable/src/lightning_trainable/metrics/sinkhorn.py:71: Sinkhorn did not converge. Consider increasing epsilon or number of iterations.\n",
      "/home/lars/code/python/context-aware-flow-matching/src/lightning-trainable/src/lightning_trainable/metrics/sinkhorn.py:71: Sinkhorn did not converge. Consider increasing epsilon or number of iterations.\n",
      "/home/lars/code/python/context-aware-flow-matching/src/lightning-trainable/src/lightning_trainable/metrics/sinkhorn.py:71: Sinkhorn did not converge. Consider increasing epsilon or number of iterations.\n",
      "/home/lars/code/python/context-aware-flow-matching/src/lightning-trainable/src/lightning_trainable/metrics/sinkhorn.py:71: Sinkhorn did not converge. Consider increasing epsilon or number of iterations.\n",
      "/home/lars/code/python/context-aware-flow-matching/src/lightning-trainable/src/lightning_trainable/metrics/sinkhorn.py:71: Sinkhorn did not converge. Consider increasing epsilon or number of iterations.\n",
      "/home/lars/code/python/context-aware-flow-matching/src/lightning-trainable/src/lightning_trainable/metrics/sinkhorn.py:71: Sinkhorn did not converge. Consider increasing epsilon or number of iterations.\n",
      "/home/lars/code/python/context-aware-flow-matching/src/lightning-trainable/src/lightning_trainable/metrics/sinkhorn.py:71: Sinkhorn did not converge. Consider increasing epsilon or number of iterations.\n",
      "/home/lars/code/python/context-aware-flow-matching/src/lightning-trainable/src/lightning_trainable/metrics/sinkhorn.py:71: Sinkhorn did not converge. Consider increasing epsilon or number of iterations.\n",
      "/home/lars/code/python/context-aware-flow-matching/src/lightning-trainable/src/lightning_trainable/metrics/sinkhorn.py:71: Sinkhorn did not converge. Consider increasing epsilon or number of iterations.\n",
      "/home/lars/code/python/context-aware-flow-matching/src/lightning-trainable/src/lightning_trainable/metrics/sinkhorn.py:71: Sinkhorn did not converge. Consider increasing epsilon or number of iterations.\n",
      "/home/lars/code/python/context-aware-flow-matching/src/lightning-trainable/src/lightning_trainable/metrics/sinkhorn.py:71: Sinkhorn did not converge. Consider increasing epsilon or number of iterations.\n",
      "/home/lars/code/python/context-aware-flow-matching/src/lightning-trainable/src/lightning_trainable/metrics/sinkhorn.py:71: Sinkhorn did not converge. Consider increasing epsilon or number of iterations.\n"
     ]
    },
    {
     "data": {
      "text/plain": "Validation: |          | 0/? [00:00<?, ?it/s]",
      "application/vnd.jupyter.widget-view+json": {
       "version_major": 2,
       "version_minor": 0,
       "model_id": "29f16a84980748b9b5da896cd9a80443"
      }
     },
     "metadata": {},
     "output_type": "display_data"
    },
    {
     "name": "stderr",
     "output_type": "stream",
     "text": [
      "/home/lars/code/python/context-aware-flow-matching/src/lightning-trainable/src/lightning_trainable/metrics/sinkhorn.py:71: Sinkhorn did not converge. Consider increasing epsilon or number of iterations.\n",
      "/home/lars/code/python/context-aware-flow-matching/src/lightning-trainable/src/lightning_trainable/metrics/sinkhorn.py:71: Sinkhorn did not converge. Consider increasing epsilon or number of iterations.\n",
      "/home/lars/code/python/context-aware-flow-matching/src/lightning-trainable/src/lightning_trainable/metrics/sinkhorn.py:71: Sinkhorn did not converge. Consider increasing epsilon or number of iterations.\n",
      "/home/lars/code/python/context-aware-flow-matching/src/lightning-trainable/src/lightning_trainable/metrics/sinkhorn.py:71: Sinkhorn did not converge. Consider increasing epsilon or number of iterations.\n",
      "/home/lars/code/python/context-aware-flow-matching/src/lightning-trainable/src/lightning_trainable/metrics/sinkhorn.py:71: Sinkhorn did not converge. Consider increasing epsilon or number of iterations.\n",
      "/home/lars/code/python/context-aware-flow-matching/src/lightning-trainable/src/lightning_trainable/metrics/sinkhorn.py:71: Sinkhorn did not converge. Consider increasing epsilon or number of iterations.\n",
      "/home/lars/code/python/context-aware-flow-matching/src/lightning-trainable/src/lightning_trainable/metrics/sinkhorn.py:71: Sinkhorn did not converge. Consider increasing epsilon or number of iterations.\n",
      "/home/lars/code/python/context-aware-flow-matching/src/lightning-trainable/src/lightning_trainable/metrics/sinkhorn.py:71: Sinkhorn did not converge. Consider increasing epsilon or number of iterations.\n",
      "/home/lars/code/python/context-aware-flow-matching/src/lightning-trainable/src/lightning_trainable/metrics/sinkhorn.py:71: Sinkhorn did not converge. Consider increasing epsilon or number of iterations.\n",
      "/home/lars/code/python/context-aware-flow-matching/src/lightning-trainable/src/lightning_trainable/metrics/sinkhorn.py:71: Sinkhorn did not converge. Consider increasing epsilon or number of iterations.\n",
      "/home/lars/code/python/context-aware-flow-matching/src/lightning-trainable/src/lightning_trainable/metrics/sinkhorn.py:71: Sinkhorn did not converge. Consider increasing epsilon or number of iterations.\n",
      "/home/lars/code/python/context-aware-flow-matching/src/lightning-trainable/src/lightning_trainable/metrics/sinkhorn.py:71: Sinkhorn did not converge. Consider increasing epsilon or number of iterations.\n",
      "/home/lars/code/python/context-aware-flow-matching/src/lightning-trainable/src/lightning_trainable/metrics/sinkhorn.py:71: Sinkhorn did not converge. Consider increasing epsilon or number of iterations.\n",
      "/home/lars/code/python/context-aware-flow-matching/src/lightning-trainable/src/lightning_trainable/metrics/sinkhorn.py:71: Sinkhorn did not converge. Consider increasing epsilon or number of iterations.\n"
     ]
    },
    {
     "data": {
      "text/plain": "Validation: |          | 0/? [00:00<?, ?it/s]",
      "application/vnd.jupyter.widget-view+json": {
       "version_major": 2,
       "version_minor": 0,
       "model_id": "9e418177f0cd4bb5820f4b5da05209be"
      }
     },
     "metadata": {},
     "output_type": "display_data"
    },
    {
     "name": "stderr",
     "output_type": "stream",
     "text": [
      "/home/lars/code/python/context-aware-flow-matching/src/lightning-trainable/src/lightning_trainable/metrics/sinkhorn.py:71: Sinkhorn did not converge. Consider increasing epsilon or number of iterations.\n",
      "/home/lars/code/python/context-aware-flow-matching/src/lightning-trainable/src/lightning_trainable/metrics/sinkhorn.py:71: Sinkhorn did not converge. Consider increasing epsilon or number of iterations.\n",
      "/home/lars/code/python/context-aware-flow-matching/src/lightning-trainable/src/lightning_trainable/metrics/sinkhorn.py:71: Sinkhorn did not converge. Consider increasing epsilon or number of iterations.\n",
      "/home/lars/code/python/context-aware-flow-matching/src/lightning-trainable/src/lightning_trainable/metrics/sinkhorn.py:71: Sinkhorn did not converge. Consider increasing epsilon or number of iterations.\n",
      "/home/lars/code/python/context-aware-flow-matching/src/lightning-trainable/src/lightning_trainable/metrics/sinkhorn.py:71: Sinkhorn did not converge. Consider increasing epsilon or number of iterations.\n",
      "/home/lars/code/python/context-aware-flow-matching/src/lightning-trainable/src/lightning_trainable/metrics/sinkhorn.py:71: Sinkhorn did not converge. Consider increasing epsilon or number of iterations.\n",
      "/home/lars/code/python/context-aware-flow-matching/src/lightning-trainable/src/lightning_trainable/metrics/sinkhorn.py:71: Sinkhorn did not converge. Consider increasing epsilon or number of iterations.\n",
      "/home/lars/code/python/context-aware-flow-matching/src/lightning-trainable/src/lightning_trainable/metrics/sinkhorn.py:71: Sinkhorn did not converge. Consider increasing epsilon or number of iterations.\n",
      "/home/lars/code/python/context-aware-flow-matching/src/lightning-trainable/src/lightning_trainable/metrics/sinkhorn.py:71: Sinkhorn did not converge. Consider increasing epsilon or number of iterations.\n",
      "/home/lars/code/python/context-aware-flow-matching/src/lightning-trainable/src/lightning_trainable/metrics/sinkhorn.py:71: Sinkhorn did not converge. Consider increasing epsilon or number of iterations.\n",
      "/home/lars/code/python/context-aware-flow-matching/src/lightning-trainable/src/lightning_trainable/metrics/sinkhorn.py:71: Sinkhorn did not converge. Consider increasing epsilon or number of iterations.\n",
      "/home/lars/code/python/context-aware-flow-matching/src/lightning-trainable/src/lightning_trainable/metrics/sinkhorn.py:71: Sinkhorn did not converge. Consider increasing epsilon or number of iterations.\n",
      "/home/lars/code/python/context-aware-flow-matching/src/lightning-trainable/src/lightning_trainable/metrics/sinkhorn.py:71: Sinkhorn did not converge. Consider increasing epsilon or number of iterations.\n",
      "/home/lars/code/python/context-aware-flow-matching/src/lightning-trainable/src/lightning_trainable/metrics/sinkhorn.py:71: Sinkhorn did not converge. Consider increasing epsilon or number of iterations.\n"
     ]
    },
    {
     "data": {
      "text/plain": "Validation: |          | 0/? [00:00<?, ?it/s]",
      "application/vnd.jupyter.widget-view+json": {
       "version_major": 2,
       "version_minor": 0,
       "model_id": "86a4482caaa2494da1d6238d1fc6faa8"
      }
     },
     "metadata": {},
     "output_type": "display_data"
    },
    {
     "name": "stderr",
     "output_type": "stream",
     "text": [
      "/home/lars/code/python/context-aware-flow-matching/src/lightning-trainable/src/lightning_trainable/metrics/sinkhorn.py:71: Sinkhorn did not converge. Consider increasing epsilon or number of iterations.\n",
      "/home/lars/code/python/context-aware-flow-matching/src/lightning-trainable/src/lightning_trainable/metrics/sinkhorn.py:71: Sinkhorn did not converge. Consider increasing epsilon or number of iterations.\n",
      "/home/lars/code/python/context-aware-flow-matching/src/lightning-trainable/src/lightning_trainable/metrics/sinkhorn.py:71: Sinkhorn did not converge. Consider increasing epsilon or number of iterations.\n",
      "/home/lars/code/python/context-aware-flow-matching/src/lightning-trainable/src/lightning_trainable/metrics/sinkhorn.py:71: Sinkhorn did not converge. Consider increasing epsilon or number of iterations.\n",
      "/home/lars/code/python/context-aware-flow-matching/src/lightning-trainable/src/lightning_trainable/metrics/sinkhorn.py:71: Sinkhorn did not converge. Consider increasing epsilon or number of iterations.\n",
      "/home/lars/code/python/context-aware-flow-matching/src/lightning-trainable/src/lightning_trainable/metrics/sinkhorn.py:71: Sinkhorn did not converge. Consider increasing epsilon or number of iterations.\n",
      "/home/lars/code/python/context-aware-flow-matching/src/lightning-trainable/src/lightning_trainable/metrics/sinkhorn.py:71: Sinkhorn did not converge. Consider increasing epsilon or number of iterations.\n",
      "/home/lars/code/python/context-aware-flow-matching/src/lightning-trainable/src/lightning_trainable/metrics/sinkhorn.py:71: Sinkhorn did not converge. Consider increasing epsilon or number of iterations.\n",
      "/home/lars/code/python/context-aware-flow-matching/src/lightning-trainable/src/lightning_trainable/metrics/sinkhorn.py:71: Sinkhorn did not converge. Consider increasing epsilon or number of iterations.\n",
      "/home/lars/code/python/context-aware-flow-matching/src/lightning-trainable/src/lightning_trainable/metrics/sinkhorn.py:71: Sinkhorn did not converge. Consider increasing epsilon or number of iterations.\n",
      "/home/lars/code/python/context-aware-flow-matching/src/lightning-trainable/src/lightning_trainable/metrics/sinkhorn.py:71: Sinkhorn did not converge. Consider increasing epsilon or number of iterations.\n",
      "/home/lars/code/python/context-aware-flow-matching/src/lightning-trainable/src/lightning_trainable/metrics/sinkhorn.py:71: Sinkhorn did not converge. Consider increasing epsilon or number of iterations.\n",
      "/home/lars/code/python/context-aware-flow-matching/src/lightning-trainable/src/lightning_trainable/metrics/sinkhorn.py:71: Sinkhorn did not converge. Consider increasing epsilon or number of iterations.\n",
      "/home/lars/code/python/context-aware-flow-matching/src/lightning-trainable/src/lightning_trainable/metrics/sinkhorn.py:71: Sinkhorn did not converge. Consider increasing epsilon or number of iterations.\n"
     ]
    },
    {
     "data": {
      "text/plain": "Validation: |          | 0/? [00:00<?, ?it/s]",
      "application/vnd.jupyter.widget-view+json": {
       "version_major": 2,
       "version_minor": 0,
       "model_id": "b2383726eb194dc28a6399c122bcbee6"
      }
     },
     "metadata": {},
     "output_type": "display_data"
    },
    {
     "name": "stderr",
     "output_type": "stream",
     "text": [
      "/home/lars/code/python/context-aware-flow-matching/src/lightning-trainable/src/lightning_trainable/metrics/sinkhorn.py:71: Sinkhorn did not converge. Consider increasing epsilon or number of iterations.\n",
      "/home/lars/code/python/context-aware-flow-matching/src/lightning-trainable/src/lightning_trainable/metrics/sinkhorn.py:71: Sinkhorn did not converge. Consider increasing epsilon or number of iterations.\n",
      "/home/lars/code/python/context-aware-flow-matching/src/lightning-trainable/src/lightning_trainable/metrics/sinkhorn.py:71: Sinkhorn did not converge. Consider increasing epsilon or number of iterations.\n",
      "/home/lars/code/python/context-aware-flow-matching/src/lightning-trainable/src/lightning_trainable/metrics/sinkhorn.py:71: Sinkhorn did not converge. Consider increasing epsilon or number of iterations.\n",
      "/home/lars/code/python/context-aware-flow-matching/src/lightning-trainable/src/lightning_trainable/metrics/sinkhorn.py:71: Sinkhorn did not converge. Consider increasing epsilon or number of iterations.\n",
      "/home/lars/code/python/context-aware-flow-matching/src/lightning-trainable/src/lightning_trainable/metrics/sinkhorn.py:71: Sinkhorn did not converge. Consider increasing epsilon or number of iterations.\n",
      "/home/lars/code/python/context-aware-flow-matching/src/lightning-trainable/src/lightning_trainable/metrics/sinkhorn.py:71: Sinkhorn did not converge. Consider increasing epsilon or number of iterations.\n",
      "/home/lars/code/python/context-aware-flow-matching/src/lightning-trainable/src/lightning_trainable/metrics/sinkhorn.py:71: Sinkhorn did not converge. Consider increasing epsilon or number of iterations.\n",
      "/home/lars/code/python/context-aware-flow-matching/src/lightning-trainable/src/lightning_trainable/metrics/sinkhorn.py:71: Sinkhorn did not converge. Consider increasing epsilon or number of iterations.\n",
      "/home/lars/code/python/context-aware-flow-matching/src/lightning-trainable/src/lightning_trainable/metrics/sinkhorn.py:71: Sinkhorn did not converge. Consider increasing epsilon or number of iterations.\n",
      "/home/lars/code/python/context-aware-flow-matching/src/lightning-trainable/src/lightning_trainable/metrics/sinkhorn.py:71: Sinkhorn did not converge. Consider increasing epsilon or number of iterations.\n",
      "/home/lars/code/python/context-aware-flow-matching/src/lightning-trainable/src/lightning_trainable/metrics/sinkhorn.py:71: Sinkhorn did not converge. Consider increasing epsilon or number of iterations.\n",
      "/home/lars/code/python/context-aware-flow-matching/src/lightning-trainable/src/lightning_trainable/metrics/sinkhorn.py:71: Sinkhorn did not converge. Consider increasing epsilon or number of iterations.\n",
      "/home/lars/code/python/context-aware-flow-matching/src/lightning-trainable/src/lightning_trainable/metrics/sinkhorn.py:71: Sinkhorn did not converge. Consider increasing epsilon or number of iterations.\n"
     ]
    },
    {
     "data": {
      "text/plain": "Validation: |          | 0/? [00:00<?, ?it/s]",
      "application/vnd.jupyter.widget-view+json": {
       "version_major": 2,
       "version_minor": 0,
       "model_id": "6b602a89f8ce4be8af6d0932b18eb835"
      }
     },
     "metadata": {},
     "output_type": "display_data"
    },
    {
     "name": "stderr",
     "output_type": "stream",
     "text": [
      "/home/lars/code/python/context-aware-flow-matching/src/lightning-trainable/src/lightning_trainable/metrics/sinkhorn.py:71: Sinkhorn did not converge. Consider increasing epsilon or number of iterations.\n",
      "/home/lars/code/python/context-aware-flow-matching/src/lightning-trainable/src/lightning_trainable/metrics/sinkhorn.py:71: Sinkhorn did not converge. Consider increasing epsilon or number of iterations.\n",
      "/home/lars/code/python/context-aware-flow-matching/src/lightning-trainable/src/lightning_trainable/metrics/sinkhorn.py:71: Sinkhorn did not converge. Consider increasing epsilon or number of iterations.\n",
      "/home/lars/code/python/context-aware-flow-matching/src/lightning-trainable/src/lightning_trainable/metrics/sinkhorn.py:71: Sinkhorn did not converge. Consider increasing epsilon or number of iterations.\n",
      "/home/lars/code/python/context-aware-flow-matching/src/lightning-trainable/src/lightning_trainable/metrics/sinkhorn.py:71: Sinkhorn did not converge. Consider increasing epsilon or number of iterations.\n",
      "/home/lars/code/python/context-aware-flow-matching/src/lightning-trainable/src/lightning_trainable/metrics/sinkhorn.py:71: Sinkhorn did not converge. Consider increasing epsilon or number of iterations.\n",
      "/home/lars/code/python/context-aware-flow-matching/src/lightning-trainable/src/lightning_trainable/metrics/sinkhorn.py:71: Sinkhorn did not converge. Consider increasing epsilon or number of iterations.\n",
      "/home/lars/code/python/context-aware-flow-matching/src/lightning-trainable/src/lightning_trainable/metrics/sinkhorn.py:71: Sinkhorn did not converge. Consider increasing epsilon or number of iterations.\n",
      "/home/lars/code/python/context-aware-flow-matching/src/lightning-trainable/src/lightning_trainable/metrics/sinkhorn.py:71: Sinkhorn did not converge. Consider increasing epsilon or number of iterations.\n",
      "/home/lars/code/python/context-aware-flow-matching/src/lightning-trainable/src/lightning_trainable/metrics/sinkhorn.py:71: Sinkhorn did not converge. Consider increasing epsilon or number of iterations.\n",
      "/home/lars/code/python/context-aware-flow-matching/src/lightning-trainable/src/lightning_trainable/metrics/sinkhorn.py:71: Sinkhorn did not converge. Consider increasing epsilon or number of iterations.\n",
      "/home/lars/code/python/context-aware-flow-matching/src/lightning-trainable/src/lightning_trainable/metrics/sinkhorn.py:71: Sinkhorn did not converge. Consider increasing epsilon or number of iterations.\n",
      "/home/lars/code/python/context-aware-flow-matching/src/lightning-trainable/src/lightning_trainable/metrics/sinkhorn.py:71: Sinkhorn did not converge. Consider increasing epsilon or number of iterations.\n",
      "/home/lars/code/python/context-aware-flow-matching/src/lightning-trainable/src/lightning_trainable/metrics/sinkhorn.py:71: Sinkhorn did not converge. Consider increasing epsilon or number of iterations.\n"
     ]
    },
    {
     "data": {
      "text/plain": "Validation: |          | 0/? [00:00<?, ?it/s]",
      "application/vnd.jupyter.widget-view+json": {
       "version_major": 2,
       "version_minor": 0,
       "model_id": "08da0d6f53a348d48ebebb7e4a772a5c"
      }
     },
     "metadata": {},
     "output_type": "display_data"
    },
    {
     "name": "stderr",
     "output_type": "stream",
     "text": [
      "/home/lars/code/python/context-aware-flow-matching/src/lightning-trainable/src/lightning_trainable/metrics/sinkhorn.py:71: Sinkhorn did not converge. Consider increasing epsilon or number of iterations.\n",
      "/home/lars/code/python/context-aware-flow-matching/src/lightning-trainable/src/lightning_trainable/metrics/sinkhorn.py:71: Sinkhorn did not converge. Consider increasing epsilon or number of iterations.\n",
      "/home/lars/code/python/context-aware-flow-matching/src/lightning-trainable/src/lightning_trainable/metrics/sinkhorn.py:71: Sinkhorn did not converge. Consider increasing epsilon or number of iterations.\n",
      "/home/lars/code/python/context-aware-flow-matching/src/lightning-trainable/src/lightning_trainable/metrics/sinkhorn.py:71: Sinkhorn did not converge. Consider increasing epsilon or number of iterations.\n",
      "/home/lars/code/python/context-aware-flow-matching/src/lightning-trainable/src/lightning_trainable/metrics/sinkhorn.py:71: Sinkhorn did not converge. Consider increasing epsilon or number of iterations.\n",
      "/home/lars/code/python/context-aware-flow-matching/src/lightning-trainable/src/lightning_trainable/metrics/sinkhorn.py:71: Sinkhorn did not converge. Consider increasing epsilon or number of iterations.\n",
      "/home/lars/code/python/context-aware-flow-matching/src/lightning-trainable/src/lightning_trainable/metrics/sinkhorn.py:71: Sinkhorn did not converge. Consider increasing epsilon or number of iterations.\n",
      "/home/lars/code/python/context-aware-flow-matching/src/lightning-trainable/src/lightning_trainable/metrics/sinkhorn.py:71: Sinkhorn did not converge. Consider increasing epsilon or number of iterations.\n",
      "/home/lars/code/python/context-aware-flow-matching/src/lightning-trainable/src/lightning_trainable/metrics/sinkhorn.py:71: Sinkhorn did not converge. Consider increasing epsilon or number of iterations.\n",
      "/home/lars/code/python/context-aware-flow-matching/src/lightning-trainable/src/lightning_trainable/metrics/sinkhorn.py:71: Sinkhorn did not converge. Consider increasing epsilon or number of iterations.\n",
      "/home/lars/code/python/context-aware-flow-matching/src/lightning-trainable/src/lightning_trainable/metrics/sinkhorn.py:71: Sinkhorn did not converge. Consider increasing epsilon or number of iterations.\n",
      "/home/lars/code/python/context-aware-flow-matching/src/lightning-trainable/src/lightning_trainable/metrics/sinkhorn.py:71: Sinkhorn did not converge. Consider increasing epsilon or number of iterations.\n",
      "/home/lars/code/python/context-aware-flow-matching/src/lightning-trainable/src/lightning_trainable/metrics/sinkhorn.py:71: Sinkhorn did not converge. Consider increasing epsilon or number of iterations.\n",
      "/home/lars/code/python/context-aware-flow-matching/src/lightning-trainable/src/lightning_trainable/metrics/sinkhorn.py:71: Sinkhorn did not converge. Consider increasing epsilon or number of iterations.\n"
     ]
    },
    {
     "data": {
      "text/plain": "Validation: |          | 0/? [00:00<?, ?it/s]",
      "application/vnd.jupyter.widget-view+json": {
       "version_major": 2,
       "version_minor": 0,
       "model_id": "87094cc6568d4b7a8706ff0529dafa1b"
      }
     },
     "metadata": {},
     "output_type": "display_data"
    },
    {
     "name": "stderr",
     "output_type": "stream",
     "text": [
      "/home/lars/code/python/context-aware-flow-matching/src/lightning-trainable/src/lightning_trainable/metrics/sinkhorn.py:71: Sinkhorn did not converge. Consider increasing epsilon or number of iterations.\n",
      "/home/lars/code/python/context-aware-flow-matching/src/lightning-trainable/src/lightning_trainable/metrics/sinkhorn.py:71: Sinkhorn did not converge. Consider increasing epsilon or number of iterations.\n",
      "/home/lars/code/python/context-aware-flow-matching/src/lightning-trainable/src/lightning_trainable/metrics/sinkhorn.py:71: Sinkhorn did not converge. Consider increasing epsilon or number of iterations.\n",
      "/home/lars/code/python/context-aware-flow-matching/src/lightning-trainable/src/lightning_trainable/metrics/sinkhorn.py:71: Sinkhorn did not converge. Consider increasing epsilon or number of iterations.\n",
      "/home/lars/code/python/context-aware-flow-matching/src/lightning-trainable/src/lightning_trainable/metrics/sinkhorn.py:71: Sinkhorn did not converge. Consider increasing epsilon or number of iterations.\n",
      "/home/lars/code/python/context-aware-flow-matching/src/lightning-trainable/src/lightning_trainable/metrics/sinkhorn.py:71: Sinkhorn did not converge. Consider increasing epsilon or number of iterations.\n",
      "/home/lars/code/python/context-aware-flow-matching/src/lightning-trainable/src/lightning_trainable/metrics/sinkhorn.py:71: Sinkhorn did not converge. Consider increasing epsilon or number of iterations.\n",
      "/home/lars/code/python/context-aware-flow-matching/src/lightning-trainable/src/lightning_trainable/metrics/sinkhorn.py:71: Sinkhorn did not converge. Consider increasing epsilon or number of iterations.\n",
      "/home/lars/code/python/context-aware-flow-matching/src/lightning-trainable/src/lightning_trainable/metrics/sinkhorn.py:71: Sinkhorn did not converge. Consider increasing epsilon or number of iterations.\n",
      "/home/lars/code/python/context-aware-flow-matching/src/lightning-trainable/src/lightning_trainable/metrics/sinkhorn.py:71: Sinkhorn did not converge. Consider increasing epsilon or number of iterations.\n",
      "/home/lars/code/python/context-aware-flow-matching/src/lightning-trainable/src/lightning_trainable/metrics/sinkhorn.py:71: Sinkhorn did not converge. Consider increasing epsilon or number of iterations.\n",
      "/home/lars/code/python/context-aware-flow-matching/src/lightning-trainable/src/lightning_trainable/metrics/sinkhorn.py:71: Sinkhorn did not converge. Consider increasing epsilon or number of iterations.\n",
      "/home/lars/code/python/context-aware-flow-matching/src/lightning-trainable/src/lightning_trainable/metrics/sinkhorn.py:71: Sinkhorn did not converge. Consider increasing epsilon or number of iterations.\n",
      "/home/lars/code/python/context-aware-flow-matching/src/lightning-trainable/src/lightning_trainable/metrics/sinkhorn.py:71: Sinkhorn did not converge. Consider increasing epsilon or number of iterations.\n"
     ]
    },
    {
     "data": {
      "text/plain": "Validation: |          | 0/? [00:00<?, ?it/s]",
      "application/vnd.jupyter.widget-view+json": {
       "version_major": 2,
       "version_minor": 0,
       "model_id": "24fb4e3d4db5431193c2a1cb3a9ecdf9"
      }
     },
     "metadata": {},
     "output_type": "display_data"
    },
    {
     "name": "stderr",
     "output_type": "stream",
     "text": [
      "/home/lars/code/python/context-aware-flow-matching/src/lightning-trainable/src/lightning_trainable/metrics/sinkhorn.py:71: Sinkhorn did not converge. Consider increasing epsilon or number of iterations.\n",
      "/home/lars/code/python/context-aware-flow-matching/src/lightning-trainable/src/lightning_trainable/metrics/sinkhorn.py:71: Sinkhorn did not converge. Consider increasing epsilon or number of iterations.\n",
      "/home/lars/code/python/context-aware-flow-matching/src/lightning-trainable/src/lightning_trainable/metrics/sinkhorn.py:71: Sinkhorn did not converge. Consider increasing epsilon or number of iterations.\n",
      "/home/lars/code/python/context-aware-flow-matching/src/lightning-trainable/src/lightning_trainable/metrics/sinkhorn.py:71: Sinkhorn did not converge. Consider increasing epsilon or number of iterations.\n",
      "/home/lars/code/python/context-aware-flow-matching/src/lightning-trainable/src/lightning_trainable/metrics/sinkhorn.py:71: Sinkhorn did not converge. Consider increasing epsilon or number of iterations.\n",
      "/home/lars/code/python/context-aware-flow-matching/src/lightning-trainable/src/lightning_trainable/metrics/sinkhorn.py:71: Sinkhorn did not converge. Consider increasing epsilon or number of iterations.\n",
      "/home/lars/code/python/context-aware-flow-matching/src/lightning-trainable/src/lightning_trainable/metrics/sinkhorn.py:71: Sinkhorn did not converge. Consider increasing epsilon or number of iterations.\n",
      "/home/lars/code/python/context-aware-flow-matching/src/lightning-trainable/src/lightning_trainable/metrics/sinkhorn.py:71: Sinkhorn did not converge. Consider increasing epsilon or number of iterations.\n",
      "/home/lars/code/python/context-aware-flow-matching/src/lightning-trainable/src/lightning_trainable/metrics/sinkhorn.py:71: Sinkhorn did not converge. Consider increasing epsilon or number of iterations.\n",
      "/home/lars/code/python/context-aware-flow-matching/src/lightning-trainable/src/lightning_trainable/metrics/sinkhorn.py:71: Sinkhorn did not converge. Consider increasing epsilon or number of iterations.\n",
      "/home/lars/code/python/context-aware-flow-matching/src/lightning-trainable/src/lightning_trainable/metrics/sinkhorn.py:71: Sinkhorn did not converge. Consider increasing epsilon or number of iterations.\n",
      "/home/lars/code/python/context-aware-flow-matching/src/lightning-trainable/src/lightning_trainable/metrics/sinkhorn.py:71: Sinkhorn did not converge. Consider increasing epsilon or number of iterations.\n",
      "/home/lars/code/python/context-aware-flow-matching/src/lightning-trainable/src/lightning_trainable/metrics/sinkhorn.py:71: Sinkhorn did not converge. Consider increasing epsilon or number of iterations.\n",
      "/home/lars/code/python/context-aware-flow-matching/src/lightning-trainable/src/lightning_trainable/metrics/sinkhorn.py:71: Sinkhorn did not converge. Consider increasing epsilon or number of iterations.\n"
     ]
    },
    {
     "data": {
      "text/plain": "Validation: |          | 0/? [00:00<?, ?it/s]",
      "application/vnd.jupyter.widget-view+json": {
       "version_major": 2,
       "version_minor": 0,
       "model_id": "d1c80072787a4175bea231cfaf0ad001"
      }
     },
     "metadata": {},
     "output_type": "display_data"
    },
    {
     "name": "stderr",
     "output_type": "stream",
     "text": [
      "/home/lars/code/python/context-aware-flow-matching/src/lightning-trainable/src/lightning_trainable/metrics/sinkhorn.py:71: Sinkhorn did not converge. Consider increasing epsilon or number of iterations.\n",
      "/home/lars/code/python/context-aware-flow-matching/src/lightning-trainable/src/lightning_trainable/metrics/sinkhorn.py:71: Sinkhorn did not converge. Consider increasing epsilon or number of iterations.\n",
      "/home/lars/code/python/context-aware-flow-matching/src/lightning-trainable/src/lightning_trainable/metrics/sinkhorn.py:71: Sinkhorn did not converge. Consider increasing epsilon or number of iterations.\n",
      "/home/lars/code/python/context-aware-flow-matching/src/lightning-trainable/src/lightning_trainable/metrics/sinkhorn.py:71: Sinkhorn did not converge. Consider increasing epsilon or number of iterations.\n",
      "/home/lars/code/python/context-aware-flow-matching/src/lightning-trainable/src/lightning_trainable/metrics/sinkhorn.py:71: Sinkhorn did not converge. Consider increasing epsilon or number of iterations.\n",
      "/home/lars/code/python/context-aware-flow-matching/src/lightning-trainable/src/lightning_trainable/metrics/sinkhorn.py:71: Sinkhorn did not converge. Consider increasing epsilon or number of iterations.\n",
      "/home/lars/code/python/context-aware-flow-matching/src/lightning-trainable/src/lightning_trainable/metrics/sinkhorn.py:71: Sinkhorn did not converge. Consider increasing epsilon or number of iterations.\n",
      "/home/lars/code/python/context-aware-flow-matching/src/lightning-trainable/src/lightning_trainable/metrics/sinkhorn.py:71: Sinkhorn did not converge. Consider increasing epsilon or number of iterations.\n",
      "/home/lars/code/python/context-aware-flow-matching/src/lightning-trainable/src/lightning_trainable/metrics/sinkhorn.py:71: Sinkhorn did not converge. Consider increasing epsilon or number of iterations.\n",
      "/home/lars/code/python/context-aware-flow-matching/src/lightning-trainable/src/lightning_trainable/metrics/sinkhorn.py:71: Sinkhorn did not converge. Consider increasing epsilon or number of iterations.\n",
      "/home/lars/code/python/context-aware-flow-matching/src/lightning-trainable/src/lightning_trainable/metrics/sinkhorn.py:71: Sinkhorn did not converge. Consider increasing epsilon or number of iterations.\n",
      "/home/lars/code/python/context-aware-flow-matching/src/lightning-trainable/src/lightning_trainable/metrics/sinkhorn.py:71: Sinkhorn did not converge. Consider increasing epsilon or number of iterations.\n",
      "/home/lars/code/python/context-aware-flow-matching/src/lightning-trainable/src/lightning_trainable/metrics/sinkhorn.py:71: Sinkhorn did not converge. Consider increasing epsilon or number of iterations.\n",
      "/home/lars/code/python/context-aware-flow-matching/src/lightning-trainable/src/lightning_trainable/metrics/sinkhorn.py:71: Sinkhorn did not converge. Consider increasing epsilon or number of iterations.\n"
     ]
    },
    {
     "data": {
      "text/plain": "Validation: |          | 0/? [00:00<?, ?it/s]",
      "application/vnd.jupyter.widget-view+json": {
       "version_major": 2,
       "version_minor": 0,
       "model_id": "20419c38af6f4963a043f1f1a62b0a40"
      }
     },
     "metadata": {},
     "output_type": "display_data"
    },
    {
     "name": "stderr",
     "output_type": "stream",
     "text": [
      "/home/lars/code/python/context-aware-flow-matching/src/lightning-trainable/src/lightning_trainable/metrics/sinkhorn.py:71: Sinkhorn did not converge. Consider increasing epsilon or number of iterations.\n",
      "/home/lars/code/python/context-aware-flow-matching/src/lightning-trainable/src/lightning_trainable/metrics/sinkhorn.py:71: Sinkhorn did not converge. Consider increasing epsilon or number of iterations.\n",
      "/home/lars/code/python/context-aware-flow-matching/src/lightning-trainable/src/lightning_trainable/metrics/sinkhorn.py:71: Sinkhorn did not converge. Consider increasing epsilon or number of iterations.\n",
      "/home/lars/code/python/context-aware-flow-matching/src/lightning-trainable/src/lightning_trainable/metrics/sinkhorn.py:71: Sinkhorn did not converge. Consider increasing epsilon or number of iterations.\n",
      "/home/lars/code/python/context-aware-flow-matching/src/lightning-trainable/src/lightning_trainable/metrics/sinkhorn.py:71: Sinkhorn did not converge. Consider increasing epsilon or number of iterations.\n",
      "/home/lars/code/python/context-aware-flow-matching/src/lightning-trainable/src/lightning_trainable/metrics/sinkhorn.py:71: Sinkhorn did not converge. Consider increasing epsilon or number of iterations.\n",
      "/home/lars/code/python/context-aware-flow-matching/src/lightning-trainable/src/lightning_trainable/metrics/sinkhorn.py:71: Sinkhorn did not converge. Consider increasing epsilon or number of iterations.\n",
      "/home/lars/code/python/context-aware-flow-matching/src/lightning-trainable/src/lightning_trainable/metrics/sinkhorn.py:71: Sinkhorn did not converge. Consider increasing epsilon or number of iterations.\n",
      "/home/lars/code/python/context-aware-flow-matching/src/lightning-trainable/src/lightning_trainable/metrics/sinkhorn.py:71: Sinkhorn did not converge. Consider increasing epsilon or number of iterations.\n",
      "/home/lars/code/python/context-aware-flow-matching/src/lightning-trainable/src/lightning_trainable/metrics/sinkhorn.py:71: Sinkhorn did not converge. Consider increasing epsilon or number of iterations.\n",
      "/home/lars/code/python/context-aware-flow-matching/src/lightning-trainable/src/lightning_trainable/metrics/sinkhorn.py:71: Sinkhorn did not converge. Consider increasing epsilon or number of iterations.\n",
      "/home/lars/code/python/context-aware-flow-matching/src/lightning-trainable/src/lightning_trainable/metrics/sinkhorn.py:71: Sinkhorn did not converge. Consider increasing epsilon or number of iterations.\n",
      "/home/lars/code/python/context-aware-flow-matching/src/lightning-trainable/src/lightning_trainable/metrics/sinkhorn.py:71: Sinkhorn did not converge. Consider increasing epsilon or number of iterations.\n",
      "/home/lars/code/python/context-aware-flow-matching/src/lightning-trainable/src/lightning_trainable/metrics/sinkhorn.py:71: Sinkhorn did not converge. Consider increasing epsilon or number of iterations.\n"
     ]
    },
    {
     "data": {
      "text/plain": "Validation: |          | 0/? [00:00<?, ?it/s]",
      "application/vnd.jupyter.widget-view+json": {
       "version_major": 2,
       "version_minor": 0,
       "model_id": "e9204957d96a41a3af7f0bf352a6a5b1"
      }
     },
     "metadata": {},
     "output_type": "display_data"
    },
    {
     "name": "stderr",
     "output_type": "stream",
     "text": [
      "/home/lars/code/python/context-aware-flow-matching/src/lightning-trainable/src/lightning_trainable/metrics/sinkhorn.py:71: Sinkhorn did not converge. Consider increasing epsilon or number of iterations.\n",
      "/home/lars/code/python/context-aware-flow-matching/src/lightning-trainable/src/lightning_trainable/metrics/sinkhorn.py:71: Sinkhorn did not converge. Consider increasing epsilon or number of iterations.\n",
      "/home/lars/code/python/context-aware-flow-matching/src/lightning-trainable/src/lightning_trainable/metrics/sinkhorn.py:71: Sinkhorn did not converge. Consider increasing epsilon or number of iterations.\n",
      "/home/lars/code/python/context-aware-flow-matching/src/lightning-trainable/src/lightning_trainable/metrics/sinkhorn.py:71: Sinkhorn did not converge. Consider increasing epsilon or number of iterations.\n",
      "/home/lars/code/python/context-aware-flow-matching/src/lightning-trainable/src/lightning_trainable/metrics/sinkhorn.py:71: Sinkhorn did not converge. Consider increasing epsilon or number of iterations.\n",
      "/home/lars/code/python/context-aware-flow-matching/src/lightning-trainable/src/lightning_trainable/metrics/sinkhorn.py:71: Sinkhorn did not converge. Consider increasing epsilon or number of iterations.\n",
      "/home/lars/code/python/context-aware-flow-matching/src/lightning-trainable/src/lightning_trainable/metrics/sinkhorn.py:71: Sinkhorn did not converge. Consider increasing epsilon or number of iterations.\n",
      "/home/lars/code/python/context-aware-flow-matching/src/lightning-trainable/src/lightning_trainable/metrics/sinkhorn.py:71: Sinkhorn did not converge. Consider increasing epsilon or number of iterations.\n",
      "/home/lars/code/python/context-aware-flow-matching/src/lightning-trainable/src/lightning_trainable/metrics/sinkhorn.py:71: Sinkhorn did not converge. Consider increasing epsilon or number of iterations.\n",
      "/home/lars/code/python/context-aware-flow-matching/src/lightning-trainable/src/lightning_trainable/metrics/sinkhorn.py:71: Sinkhorn did not converge. Consider increasing epsilon or number of iterations.\n",
      "/home/lars/code/python/context-aware-flow-matching/src/lightning-trainable/src/lightning_trainable/metrics/sinkhorn.py:71: Sinkhorn did not converge. Consider increasing epsilon or number of iterations.\n",
      "/home/lars/code/python/context-aware-flow-matching/src/lightning-trainable/src/lightning_trainable/metrics/sinkhorn.py:71: Sinkhorn did not converge. Consider increasing epsilon or number of iterations.\n",
      "/home/lars/code/python/context-aware-flow-matching/src/lightning-trainable/src/lightning_trainable/metrics/sinkhorn.py:71: Sinkhorn did not converge. Consider increasing epsilon or number of iterations.\n",
      "/home/lars/code/python/context-aware-flow-matching/src/lightning-trainable/src/lightning_trainable/metrics/sinkhorn.py:71: Sinkhorn did not converge. Consider increasing epsilon or number of iterations.\n"
     ]
    },
    {
     "data": {
      "text/plain": "Validation: |          | 0/? [00:00<?, ?it/s]",
      "application/vnd.jupyter.widget-view+json": {
       "version_major": 2,
       "version_minor": 0,
       "model_id": "d50ffe54c51b400fb1d130321c9aa507"
      }
     },
     "metadata": {},
     "output_type": "display_data"
    },
    {
     "name": "stderr",
     "output_type": "stream",
     "text": [
      "/home/lars/code/python/context-aware-flow-matching/src/lightning-trainable/src/lightning_trainable/metrics/sinkhorn.py:71: Sinkhorn did not converge. Consider increasing epsilon or number of iterations.\n",
      "/home/lars/code/python/context-aware-flow-matching/src/lightning-trainable/src/lightning_trainable/metrics/sinkhorn.py:71: Sinkhorn did not converge. Consider increasing epsilon or number of iterations.\n",
      "/home/lars/code/python/context-aware-flow-matching/src/lightning-trainable/src/lightning_trainable/metrics/sinkhorn.py:71: Sinkhorn did not converge. Consider increasing epsilon or number of iterations.\n",
      "/home/lars/code/python/context-aware-flow-matching/src/lightning-trainable/src/lightning_trainable/metrics/sinkhorn.py:71: Sinkhorn did not converge. Consider increasing epsilon or number of iterations.\n",
      "/home/lars/code/python/context-aware-flow-matching/src/lightning-trainable/src/lightning_trainable/metrics/sinkhorn.py:71: Sinkhorn did not converge. Consider increasing epsilon or number of iterations.\n",
      "/home/lars/code/python/context-aware-flow-matching/src/lightning-trainable/src/lightning_trainable/metrics/sinkhorn.py:71: Sinkhorn did not converge. Consider increasing epsilon or number of iterations.\n",
      "/home/lars/code/python/context-aware-flow-matching/src/lightning-trainable/src/lightning_trainable/metrics/sinkhorn.py:71: Sinkhorn did not converge. Consider increasing epsilon or number of iterations.\n",
      "/home/lars/code/python/context-aware-flow-matching/src/lightning-trainable/src/lightning_trainable/metrics/sinkhorn.py:71: Sinkhorn did not converge. Consider increasing epsilon or number of iterations.\n",
      "/home/lars/code/python/context-aware-flow-matching/src/lightning-trainable/src/lightning_trainable/metrics/sinkhorn.py:71: Sinkhorn did not converge. Consider increasing epsilon or number of iterations.\n",
      "/home/lars/code/python/context-aware-flow-matching/src/lightning-trainable/src/lightning_trainable/metrics/sinkhorn.py:71: Sinkhorn did not converge. Consider increasing epsilon or number of iterations.\n",
      "/home/lars/code/python/context-aware-flow-matching/src/lightning-trainable/src/lightning_trainable/metrics/sinkhorn.py:71: Sinkhorn did not converge. Consider increasing epsilon or number of iterations.\n",
      "/home/lars/code/python/context-aware-flow-matching/src/lightning-trainable/src/lightning_trainable/metrics/sinkhorn.py:71: Sinkhorn did not converge. Consider increasing epsilon or number of iterations.\n",
      "/home/lars/code/python/context-aware-flow-matching/src/lightning-trainable/src/lightning_trainable/metrics/sinkhorn.py:71: Sinkhorn did not converge. Consider increasing epsilon or number of iterations.\n",
      "/home/lars/code/python/context-aware-flow-matching/src/lightning-trainable/src/lightning_trainable/metrics/sinkhorn.py:71: Sinkhorn did not converge. Consider increasing epsilon or number of iterations.\n"
     ]
    },
    {
     "data": {
      "text/plain": "Validation: |          | 0/? [00:00<?, ?it/s]",
      "application/vnd.jupyter.widget-view+json": {
       "version_major": 2,
       "version_minor": 0,
       "model_id": "597373a871a748be94bd67716bf01929"
      }
     },
     "metadata": {},
     "output_type": "display_data"
    },
    {
     "name": "stderr",
     "output_type": "stream",
     "text": [
      "/home/lars/code/python/context-aware-flow-matching/src/lightning-trainable/src/lightning_trainable/metrics/sinkhorn.py:71: Sinkhorn did not converge. Consider increasing epsilon or number of iterations.\n",
      "/home/lars/code/python/context-aware-flow-matching/src/lightning-trainable/src/lightning_trainable/metrics/sinkhorn.py:71: Sinkhorn did not converge. Consider increasing epsilon or number of iterations.\n",
      "/home/lars/code/python/context-aware-flow-matching/src/lightning-trainable/src/lightning_trainable/metrics/sinkhorn.py:71: Sinkhorn did not converge. Consider increasing epsilon or number of iterations.\n",
      "/home/lars/code/python/context-aware-flow-matching/src/lightning-trainable/src/lightning_trainable/metrics/sinkhorn.py:71: Sinkhorn did not converge. Consider increasing epsilon or number of iterations.\n",
      "/home/lars/code/python/context-aware-flow-matching/src/lightning-trainable/src/lightning_trainable/metrics/sinkhorn.py:71: Sinkhorn did not converge. Consider increasing epsilon or number of iterations.\n",
      "/home/lars/code/python/context-aware-flow-matching/src/lightning-trainable/src/lightning_trainable/metrics/sinkhorn.py:71: Sinkhorn did not converge. Consider increasing epsilon or number of iterations.\n",
      "/home/lars/code/python/context-aware-flow-matching/src/lightning-trainable/src/lightning_trainable/metrics/sinkhorn.py:71: Sinkhorn did not converge. Consider increasing epsilon or number of iterations.\n",
      "/home/lars/code/python/context-aware-flow-matching/src/lightning-trainable/src/lightning_trainable/metrics/sinkhorn.py:71: Sinkhorn did not converge. Consider increasing epsilon or number of iterations.\n",
      "/home/lars/code/python/context-aware-flow-matching/src/lightning-trainable/src/lightning_trainable/metrics/sinkhorn.py:71: Sinkhorn did not converge. Consider increasing epsilon or number of iterations.\n",
      "/home/lars/code/python/context-aware-flow-matching/src/lightning-trainable/src/lightning_trainable/metrics/sinkhorn.py:71: Sinkhorn did not converge. Consider increasing epsilon or number of iterations.\n",
      "/home/lars/code/python/context-aware-flow-matching/src/lightning-trainable/src/lightning_trainable/metrics/sinkhorn.py:71: Sinkhorn did not converge. Consider increasing epsilon or number of iterations.\n",
      "/home/lars/code/python/context-aware-flow-matching/src/lightning-trainable/src/lightning_trainable/metrics/sinkhorn.py:71: Sinkhorn did not converge. Consider increasing epsilon or number of iterations.\n",
      "/home/lars/code/python/context-aware-flow-matching/src/lightning-trainable/src/lightning_trainable/metrics/sinkhorn.py:71: Sinkhorn did not converge. Consider increasing epsilon or number of iterations.\n",
      "/home/lars/code/python/context-aware-flow-matching/src/lightning-trainable/src/lightning_trainable/metrics/sinkhorn.py:71: Sinkhorn did not converge. Consider increasing epsilon or number of iterations.\n"
     ]
    },
    {
     "data": {
      "text/plain": "Validation: |          | 0/? [00:00<?, ?it/s]",
      "application/vnd.jupyter.widget-view+json": {
       "version_major": 2,
       "version_minor": 0,
       "model_id": "edb7f39f739242f4819cb25f37e6928b"
      }
     },
     "metadata": {},
     "output_type": "display_data"
    },
    {
     "name": "stderr",
     "output_type": "stream",
     "text": [
      "/home/lars/code/python/context-aware-flow-matching/src/lightning-trainable/src/lightning_trainable/metrics/sinkhorn.py:71: Sinkhorn did not converge. Consider increasing epsilon or number of iterations.\n",
      "/home/lars/code/python/context-aware-flow-matching/src/lightning-trainable/src/lightning_trainable/metrics/sinkhorn.py:71: Sinkhorn did not converge. Consider increasing epsilon or number of iterations.\n",
      "/home/lars/code/python/context-aware-flow-matching/src/lightning-trainable/src/lightning_trainable/metrics/sinkhorn.py:71: Sinkhorn did not converge. Consider increasing epsilon or number of iterations.\n",
      "/home/lars/code/python/context-aware-flow-matching/src/lightning-trainable/src/lightning_trainable/metrics/sinkhorn.py:71: Sinkhorn did not converge. Consider increasing epsilon or number of iterations.\n",
      "/home/lars/code/python/context-aware-flow-matching/src/lightning-trainable/src/lightning_trainable/metrics/sinkhorn.py:71: Sinkhorn did not converge. Consider increasing epsilon or number of iterations.\n",
      "/home/lars/code/python/context-aware-flow-matching/src/lightning-trainable/src/lightning_trainable/metrics/sinkhorn.py:71: Sinkhorn did not converge. Consider increasing epsilon or number of iterations.\n",
      "/home/lars/code/python/context-aware-flow-matching/src/lightning-trainable/src/lightning_trainable/metrics/sinkhorn.py:71: Sinkhorn did not converge. Consider increasing epsilon or number of iterations.\n",
      "/home/lars/code/python/context-aware-flow-matching/src/lightning-trainable/src/lightning_trainable/metrics/sinkhorn.py:71: Sinkhorn did not converge. Consider increasing epsilon or number of iterations.\n",
      "/home/lars/code/python/context-aware-flow-matching/src/lightning-trainable/src/lightning_trainable/metrics/sinkhorn.py:71: Sinkhorn did not converge. Consider increasing epsilon or number of iterations.\n",
      "/home/lars/code/python/context-aware-flow-matching/src/lightning-trainable/src/lightning_trainable/metrics/sinkhorn.py:71: Sinkhorn did not converge. Consider increasing epsilon or number of iterations.\n",
      "/home/lars/code/python/context-aware-flow-matching/src/lightning-trainable/src/lightning_trainable/metrics/sinkhorn.py:71: Sinkhorn did not converge. Consider increasing epsilon or number of iterations.\n",
      "/home/lars/code/python/context-aware-flow-matching/src/lightning-trainable/src/lightning_trainable/metrics/sinkhorn.py:71: Sinkhorn did not converge. Consider increasing epsilon or number of iterations.\n",
      "/home/lars/code/python/context-aware-flow-matching/src/lightning-trainable/src/lightning_trainable/metrics/sinkhorn.py:71: Sinkhorn did not converge. Consider increasing epsilon or number of iterations.\n",
      "/home/lars/code/python/context-aware-flow-matching/src/lightning-trainable/src/lightning_trainable/metrics/sinkhorn.py:71: Sinkhorn did not converge. Consider increasing epsilon or number of iterations.\n"
     ]
    },
    {
     "data": {
      "text/plain": "Validation: |          | 0/? [00:00<?, ?it/s]",
      "application/vnd.jupyter.widget-view+json": {
       "version_major": 2,
       "version_minor": 0,
       "model_id": "83eb1093db8f4d86a7f802d456ff24a0"
      }
     },
     "metadata": {},
     "output_type": "display_data"
    },
    {
     "name": "stderr",
     "output_type": "stream",
     "text": [
      "/home/lars/code/python/context-aware-flow-matching/src/lightning-trainable/src/lightning_trainable/metrics/sinkhorn.py:71: Sinkhorn did not converge. Consider increasing epsilon or number of iterations.\n",
      "/home/lars/code/python/context-aware-flow-matching/src/lightning-trainable/src/lightning_trainable/metrics/sinkhorn.py:71: Sinkhorn did not converge. Consider increasing epsilon or number of iterations.\n",
      "/home/lars/code/python/context-aware-flow-matching/src/lightning-trainable/src/lightning_trainable/metrics/sinkhorn.py:71: Sinkhorn did not converge. Consider increasing epsilon or number of iterations.\n",
      "/home/lars/code/python/context-aware-flow-matching/src/lightning-trainable/src/lightning_trainable/metrics/sinkhorn.py:71: Sinkhorn did not converge. Consider increasing epsilon or number of iterations.\n",
      "/home/lars/code/python/context-aware-flow-matching/src/lightning-trainable/src/lightning_trainable/metrics/sinkhorn.py:71: Sinkhorn did not converge. Consider increasing epsilon or number of iterations.\n",
      "/home/lars/code/python/context-aware-flow-matching/src/lightning-trainable/src/lightning_trainable/metrics/sinkhorn.py:71: Sinkhorn did not converge. Consider increasing epsilon or number of iterations.\n",
      "/home/lars/code/python/context-aware-flow-matching/src/lightning-trainable/src/lightning_trainable/metrics/sinkhorn.py:71: Sinkhorn did not converge. Consider increasing epsilon or number of iterations.\n",
      "/home/lars/code/python/context-aware-flow-matching/src/lightning-trainable/src/lightning_trainable/metrics/sinkhorn.py:71: Sinkhorn did not converge. Consider increasing epsilon or number of iterations.\n",
      "/home/lars/code/python/context-aware-flow-matching/src/lightning-trainable/src/lightning_trainable/metrics/sinkhorn.py:71: Sinkhorn did not converge. Consider increasing epsilon or number of iterations.\n",
      "/home/lars/code/python/context-aware-flow-matching/src/lightning-trainable/src/lightning_trainable/metrics/sinkhorn.py:71: Sinkhorn did not converge. Consider increasing epsilon or number of iterations.\n",
      "/home/lars/code/python/context-aware-flow-matching/src/lightning-trainable/src/lightning_trainable/metrics/sinkhorn.py:71: Sinkhorn did not converge. Consider increasing epsilon or number of iterations.\n",
      "/home/lars/code/python/context-aware-flow-matching/src/lightning-trainable/src/lightning_trainable/metrics/sinkhorn.py:71: Sinkhorn did not converge. Consider increasing epsilon or number of iterations.\n",
      "/home/lars/code/python/context-aware-flow-matching/src/lightning-trainable/src/lightning_trainable/metrics/sinkhorn.py:71: Sinkhorn did not converge. Consider increasing epsilon or number of iterations.\n",
      "/home/lars/code/python/context-aware-flow-matching/src/lightning-trainable/src/lightning_trainable/metrics/sinkhorn.py:71: Sinkhorn did not converge. Consider increasing epsilon or number of iterations.\n"
     ]
    },
    {
     "data": {
      "text/plain": "Validation: |          | 0/? [00:00<?, ?it/s]",
      "application/vnd.jupyter.widget-view+json": {
       "version_major": 2,
       "version_minor": 0,
       "model_id": "f04a8dbf6a7f45d190c577ce2d122335"
      }
     },
     "metadata": {},
     "output_type": "display_data"
    },
    {
     "name": "stderr",
     "output_type": "stream",
     "text": [
      "/home/lars/code/python/context-aware-flow-matching/src/lightning-trainable/src/lightning_trainable/metrics/sinkhorn.py:71: Sinkhorn did not converge. Consider increasing epsilon or number of iterations.\n",
      "/home/lars/code/python/context-aware-flow-matching/src/lightning-trainable/src/lightning_trainable/metrics/sinkhorn.py:71: Sinkhorn did not converge. Consider increasing epsilon or number of iterations.\n",
      "/home/lars/code/python/context-aware-flow-matching/src/lightning-trainable/src/lightning_trainable/metrics/sinkhorn.py:71: Sinkhorn did not converge. Consider increasing epsilon or number of iterations.\n",
      "/home/lars/code/python/context-aware-flow-matching/src/lightning-trainable/src/lightning_trainable/metrics/sinkhorn.py:71: Sinkhorn did not converge. Consider increasing epsilon or number of iterations.\n",
      "/home/lars/code/python/context-aware-flow-matching/src/lightning-trainable/src/lightning_trainable/metrics/sinkhorn.py:71: Sinkhorn did not converge. Consider increasing epsilon or number of iterations.\n",
      "/home/lars/code/python/context-aware-flow-matching/src/lightning-trainable/src/lightning_trainable/metrics/sinkhorn.py:71: Sinkhorn did not converge. Consider increasing epsilon or number of iterations.\n",
      "/home/lars/code/python/context-aware-flow-matching/src/lightning-trainable/src/lightning_trainable/metrics/sinkhorn.py:71: Sinkhorn did not converge. Consider increasing epsilon or number of iterations.\n",
      "/home/lars/code/python/context-aware-flow-matching/src/lightning-trainable/src/lightning_trainable/metrics/sinkhorn.py:71: Sinkhorn did not converge. Consider increasing epsilon or number of iterations.\n",
      "/home/lars/code/python/context-aware-flow-matching/src/lightning-trainable/src/lightning_trainable/metrics/sinkhorn.py:71: Sinkhorn did not converge. Consider increasing epsilon or number of iterations.\n",
      "/home/lars/code/python/context-aware-flow-matching/src/lightning-trainable/src/lightning_trainable/metrics/sinkhorn.py:71: Sinkhorn did not converge. Consider increasing epsilon or number of iterations.\n",
      "/home/lars/code/python/context-aware-flow-matching/src/lightning-trainable/src/lightning_trainable/metrics/sinkhorn.py:71: Sinkhorn did not converge. Consider increasing epsilon or number of iterations.\n",
      "/home/lars/code/python/context-aware-flow-matching/src/lightning-trainable/src/lightning_trainable/metrics/sinkhorn.py:71: Sinkhorn did not converge. Consider increasing epsilon or number of iterations.\n",
      "/home/lars/code/python/context-aware-flow-matching/src/lightning-trainable/src/lightning_trainable/metrics/sinkhorn.py:71: Sinkhorn did not converge. Consider increasing epsilon or number of iterations.\n",
      "/home/lars/code/python/context-aware-flow-matching/src/lightning-trainable/src/lightning_trainable/metrics/sinkhorn.py:71: Sinkhorn did not converge. Consider increasing epsilon or number of iterations.\n"
     ]
    },
    {
     "data": {
      "text/plain": "Validation: |          | 0/? [00:00<?, ?it/s]",
      "application/vnd.jupyter.widget-view+json": {
       "version_major": 2,
       "version_minor": 0,
       "model_id": "9cb75f9d37dd443980c34f30cdd83897"
      }
     },
     "metadata": {},
     "output_type": "display_data"
    },
    {
     "name": "stderr",
     "output_type": "stream",
     "text": [
      "/home/lars/code/python/context-aware-flow-matching/src/lightning-trainable/src/lightning_trainable/metrics/sinkhorn.py:71: Sinkhorn did not converge. Consider increasing epsilon or number of iterations.\n",
      "/home/lars/code/python/context-aware-flow-matching/src/lightning-trainable/src/lightning_trainable/metrics/sinkhorn.py:71: Sinkhorn did not converge. Consider increasing epsilon or number of iterations.\n",
      "/home/lars/code/python/context-aware-flow-matching/src/lightning-trainable/src/lightning_trainable/metrics/sinkhorn.py:71: Sinkhorn did not converge. Consider increasing epsilon or number of iterations.\n",
      "/home/lars/code/python/context-aware-flow-matching/src/lightning-trainable/src/lightning_trainable/metrics/sinkhorn.py:71: Sinkhorn did not converge. Consider increasing epsilon or number of iterations.\n",
      "/home/lars/code/python/context-aware-flow-matching/src/lightning-trainable/src/lightning_trainable/metrics/sinkhorn.py:71: Sinkhorn did not converge. Consider increasing epsilon or number of iterations.\n",
      "/home/lars/code/python/context-aware-flow-matching/src/lightning-trainable/src/lightning_trainable/metrics/sinkhorn.py:71: Sinkhorn did not converge. Consider increasing epsilon or number of iterations.\n",
      "/home/lars/code/python/context-aware-flow-matching/src/lightning-trainable/src/lightning_trainable/metrics/sinkhorn.py:71: Sinkhorn did not converge. Consider increasing epsilon or number of iterations.\n",
      "/home/lars/code/python/context-aware-flow-matching/src/lightning-trainable/src/lightning_trainable/metrics/sinkhorn.py:71: Sinkhorn did not converge. Consider increasing epsilon or number of iterations.\n",
      "/home/lars/code/python/context-aware-flow-matching/src/lightning-trainable/src/lightning_trainable/metrics/sinkhorn.py:71: Sinkhorn did not converge. Consider increasing epsilon or number of iterations.\n",
      "/home/lars/code/python/context-aware-flow-matching/src/lightning-trainable/src/lightning_trainable/metrics/sinkhorn.py:71: Sinkhorn did not converge. Consider increasing epsilon or number of iterations.\n",
      "/home/lars/code/python/context-aware-flow-matching/src/lightning-trainable/src/lightning_trainable/metrics/sinkhorn.py:71: Sinkhorn did not converge. Consider increasing epsilon or number of iterations.\n",
      "/home/lars/code/python/context-aware-flow-matching/src/lightning-trainable/src/lightning_trainable/metrics/sinkhorn.py:71: Sinkhorn did not converge. Consider increasing epsilon or number of iterations.\n",
      "/home/lars/code/python/context-aware-flow-matching/src/lightning-trainable/src/lightning_trainable/metrics/sinkhorn.py:71: Sinkhorn did not converge. Consider increasing epsilon or number of iterations.\n",
      "/home/lars/code/python/context-aware-flow-matching/src/lightning-trainable/src/lightning_trainable/metrics/sinkhorn.py:71: Sinkhorn did not converge. Consider increasing epsilon or number of iterations.\n"
     ]
    },
    {
     "data": {
      "text/plain": "Validation: |          | 0/? [00:00<?, ?it/s]",
      "application/vnd.jupyter.widget-view+json": {
       "version_major": 2,
       "version_minor": 0,
       "model_id": "ddad599e29b64fdbbf9b1d020ecb9551"
      }
     },
     "metadata": {},
     "output_type": "display_data"
    },
    {
     "name": "stderr",
     "output_type": "stream",
     "text": [
      "/home/lars/code/python/context-aware-flow-matching/src/lightning-trainable/src/lightning_trainable/metrics/sinkhorn.py:71: Sinkhorn did not converge. Consider increasing epsilon or number of iterations.\n",
      "/home/lars/code/python/context-aware-flow-matching/src/lightning-trainable/src/lightning_trainable/metrics/sinkhorn.py:71: Sinkhorn did not converge. Consider increasing epsilon or number of iterations.\n",
      "/home/lars/code/python/context-aware-flow-matching/src/lightning-trainable/src/lightning_trainable/metrics/sinkhorn.py:71: Sinkhorn did not converge. Consider increasing epsilon or number of iterations.\n",
      "/home/lars/code/python/context-aware-flow-matching/src/lightning-trainable/src/lightning_trainable/metrics/sinkhorn.py:71: Sinkhorn did not converge. Consider increasing epsilon or number of iterations.\n",
      "/home/lars/code/python/context-aware-flow-matching/src/lightning-trainable/src/lightning_trainable/metrics/sinkhorn.py:71: Sinkhorn did not converge. Consider increasing epsilon or number of iterations.\n",
      "/home/lars/code/python/context-aware-flow-matching/src/lightning-trainable/src/lightning_trainable/metrics/sinkhorn.py:71: Sinkhorn did not converge. Consider increasing epsilon or number of iterations.\n",
      "/home/lars/code/python/context-aware-flow-matching/src/lightning-trainable/src/lightning_trainable/metrics/sinkhorn.py:71: Sinkhorn did not converge. Consider increasing epsilon or number of iterations.\n",
      "/home/lars/code/python/context-aware-flow-matching/src/lightning-trainable/src/lightning_trainable/metrics/sinkhorn.py:71: Sinkhorn did not converge. Consider increasing epsilon or number of iterations.\n",
      "/home/lars/code/python/context-aware-flow-matching/src/lightning-trainable/src/lightning_trainable/metrics/sinkhorn.py:71: Sinkhorn did not converge. Consider increasing epsilon or number of iterations.\n",
      "/home/lars/code/python/context-aware-flow-matching/src/lightning-trainable/src/lightning_trainable/metrics/sinkhorn.py:71: Sinkhorn did not converge. Consider increasing epsilon or number of iterations.\n",
      "/home/lars/code/python/context-aware-flow-matching/src/lightning-trainable/src/lightning_trainable/metrics/sinkhorn.py:71: Sinkhorn did not converge. Consider increasing epsilon or number of iterations.\n",
      "/home/lars/code/python/context-aware-flow-matching/src/lightning-trainable/src/lightning_trainable/metrics/sinkhorn.py:71: Sinkhorn did not converge. Consider increasing epsilon or number of iterations.\n",
      "/home/lars/code/python/context-aware-flow-matching/src/lightning-trainable/src/lightning_trainable/metrics/sinkhorn.py:71: Sinkhorn did not converge. Consider increasing epsilon or number of iterations.\n",
      "/home/lars/code/python/context-aware-flow-matching/src/lightning-trainable/src/lightning_trainable/metrics/sinkhorn.py:71: Sinkhorn did not converge. Consider increasing epsilon or number of iterations.\n"
     ]
    },
    {
     "data": {
      "text/plain": "Validation: |          | 0/? [00:00<?, ?it/s]",
      "application/vnd.jupyter.widget-view+json": {
       "version_major": 2,
       "version_minor": 0,
       "model_id": "cfaa51ca1b42480c82891d544bc78122"
      }
     },
     "metadata": {},
     "output_type": "display_data"
    },
    {
     "name": "stderr",
     "output_type": "stream",
     "text": [
      "/home/lars/code/python/context-aware-flow-matching/src/lightning-trainable/src/lightning_trainable/metrics/sinkhorn.py:71: Sinkhorn did not converge. Consider increasing epsilon or number of iterations.\n",
      "/home/lars/code/python/context-aware-flow-matching/src/lightning-trainable/src/lightning_trainable/metrics/sinkhorn.py:71: Sinkhorn did not converge. Consider increasing epsilon or number of iterations.\n",
      "/home/lars/code/python/context-aware-flow-matching/src/lightning-trainable/src/lightning_trainable/metrics/sinkhorn.py:71: Sinkhorn did not converge. Consider increasing epsilon or number of iterations.\n",
      "/home/lars/code/python/context-aware-flow-matching/src/lightning-trainable/src/lightning_trainable/metrics/sinkhorn.py:71: Sinkhorn did not converge. Consider increasing epsilon or number of iterations.\n",
      "/home/lars/code/python/context-aware-flow-matching/src/lightning-trainable/src/lightning_trainable/metrics/sinkhorn.py:71: Sinkhorn did not converge. Consider increasing epsilon or number of iterations.\n",
      "/home/lars/code/python/context-aware-flow-matching/src/lightning-trainable/src/lightning_trainable/metrics/sinkhorn.py:71: Sinkhorn did not converge. Consider increasing epsilon or number of iterations.\n",
      "/home/lars/code/python/context-aware-flow-matching/src/lightning-trainable/src/lightning_trainable/metrics/sinkhorn.py:71: Sinkhorn did not converge. Consider increasing epsilon or number of iterations.\n",
      "/home/lars/code/python/context-aware-flow-matching/src/lightning-trainable/src/lightning_trainable/metrics/sinkhorn.py:71: Sinkhorn did not converge. Consider increasing epsilon or number of iterations.\n",
      "/home/lars/code/python/context-aware-flow-matching/src/lightning-trainable/src/lightning_trainable/metrics/sinkhorn.py:71: Sinkhorn did not converge. Consider increasing epsilon or number of iterations.\n",
      "/home/lars/code/python/context-aware-flow-matching/src/lightning-trainable/src/lightning_trainable/metrics/sinkhorn.py:71: Sinkhorn did not converge. Consider increasing epsilon or number of iterations.\n",
      "/home/lars/code/python/context-aware-flow-matching/src/lightning-trainable/src/lightning_trainable/metrics/sinkhorn.py:71: Sinkhorn did not converge. Consider increasing epsilon or number of iterations.\n",
      "/home/lars/code/python/context-aware-flow-matching/src/lightning-trainable/src/lightning_trainable/metrics/sinkhorn.py:71: Sinkhorn did not converge. Consider increasing epsilon or number of iterations.\n",
      "/home/lars/code/python/context-aware-flow-matching/src/lightning-trainable/src/lightning_trainable/metrics/sinkhorn.py:71: Sinkhorn did not converge. Consider increasing epsilon or number of iterations.\n",
      "/home/lars/code/python/context-aware-flow-matching/src/lightning-trainable/src/lightning_trainable/metrics/sinkhorn.py:71: Sinkhorn did not converge. Consider increasing epsilon or number of iterations.\n"
     ]
    },
    {
     "data": {
      "text/plain": "Validation: |          | 0/? [00:00<?, ?it/s]",
      "application/vnd.jupyter.widget-view+json": {
       "version_major": 2,
       "version_minor": 0,
       "model_id": "7593a62528d848aa9f85bb84f92db828"
      }
     },
     "metadata": {},
     "output_type": "display_data"
    },
    {
     "name": "stderr",
     "output_type": "stream",
     "text": [
      "/home/lars/code/python/context-aware-flow-matching/src/lightning-trainable/src/lightning_trainable/metrics/sinkhorn.py:71: Sinkhorn did not converge. Consider increasing epsilon or number of iterations.\n",
      "/home/lars/code/python/context-aware-flow-matching/src/lightning-trainable/src/lightning_trainable/metrics/sinkhorn.py:71: Sinkhorn did not converge. Consider increasing epsilon or number of iterations.\n",
      "/home/lars/code/python/context-aware-flow-matching/src/lightning-trainable/src/lightning_trainable/metrics/sinkhorn.py:71: Sinkhorn did not converge. Consider increasing epsilon or number of iterations.\n",
      "/home/lars/code/python/context-aware-flow-matching/src/lightning-trainable/src/lightning_trainable/metrics/sinkhorn.py:71: Sinkhorn did not converge. Consider increasing epsilon or number of iterations.\n",
      "/home/lars/code/python/context-aware-flow-matching/src/lightning-trainable/src/lightning_trainable/metrics/sinkhorn.py:71: Sinkhorn did not converge. Consider increasing epsilon or number of iterations.\n",
      "/home/lars/code/python/context-aware-flow-matching/src/lightning-trainable/src/lightning_trainable/metrics/sinkhorn.py:71: Sinkhorn did not converge. Consider increasing epsilon or number of iterations.\n",
      "/home/lars/code/python/context-aware-flow-matching/src/lightning-trainable/src/lightning_trainable/metrics/sinkhorn.py:71: Sinkhorn did not converge. Consider increasing epsilon or number of iterations.\n",
      "/home/lars/code/python/context-aware-flow-matching/src/lightning-trainable/src/lightning_trainable/metrics/sinkhorn.py:71: Sinkhorn did not converge. Consider increasing epsilon or number of iterations.\n",
      "/home/lars/code/python/context-aware-flow-matching/src/lightning-trainable/src/lightning_trainable/metrics/sinkhorn.py:71: Sinkhorn did not converge. Consider increasing epsilon or number of iterations.\n",
      "/home/lars/code/python/context-aware-flow-matching/src/lightning-trainable/src/lightning_trainable/metrics/sinkhorn.py:71: Sinkhorn did not converge. Consider increasing epsilon or number of iterations.\n",
      "/home/lars/code/python/context-aware-flow-matching/src/lightning-trainable/src/lightning_trainable/metrics/sinkhorn.py:71: Sinkhorn did not converge. Consider increasing epsilon or number of iterations.\n",
      "/home/lars/code/python/context-aware-flow-matching/src/lightning-trainable/src/lightning_trainable/metrics/sinkhorn.py:71: Sinkhorn did not converge. Consider increasing epsilon or number of iterations.\n",
      "/home/lars/code/python/context-aware-flow-matching/src/lightning-trainable/src/lightning_trainable/metrics/sinkhorn.py:71: Sinkhorn did not converge. Consider increasing epsilon or number of iterations.\n",
      "/home/lars/code/python/context-aware-flow-matching/src/lightning-trainable/src/lightning_trainable/metrics/sinkhorn.py:71: Sinkhorn did not converge. Consider increasing epsilon or number of iterations.\n"
     ]
    },
    {
     "data": {
      "text/plain": "Validation: |          | 0/? [00:00<?, ?it/s]",
      "application/vnd.jupyter.widget-view+json": {
       "version_major": 2,
       "version_minor": 0,
       "model_id": "a14fbb00f4b24ef9aa9d889b038d5673"
      }
     },
     "metadata": {},
     "output_type": "display_data"
    },
    {
     "name": "stderr",
     "output_type": "stream",
     "text": [
      "/home/lars/code/python/context-aware-flow-matching/src/lightning-trainable/src/lightning_trainable/metrics/sinkhorn.py:71: Sinkhorn did not converge. Consider increasing epsilon or number of iterations.\n",
      "/home/lars/code/python/context-aware-flow-matching/src/lightning-trainable/src/lightning_trainable/metrics/sinkhorn.py:71: Sinkhorn did not converge. Consider increasing epsilon or number of iterations.\n",
      "/home/lars/code/python/context-aware-flow-matching/src/lightning-trainable/src/lightning_trainable/metrics/sinkhorn.py:71: Sinkhorn did not converge. Consider increasing epsilon or number of iterations.\n",
      "/home/lars/code/python/context-aware-flow-matching/src/lightning-trainable/src/lightning_trainable/metrics/sinkhorn.py:71: Sinkhorn did not converge. Consider increasing epsilon or number of iterations.\n",
      "/home/lars/code/python/context-aware-flow-matching/src/lightning-trainable/src/lightning_trainable/metrics/sinkhorn.py:71: Sinkhorn did not converge. Consider increasing epsilon or number of iterations.\n",
      "/home/lars/code/python/context-aware-flow-matching/src/lightning-trainable/src/lightning_trainable/metrics/sinkhorn.py:71: Sinkhorn did not converge. Consider increasing epsilon or number of iterations.\n",
      "/home/lars/code/python/context-aware-flow-matching/src/lightning-trainable/src/lightning_trainable/metrics/sinkhorn.py:71: Sinkhorn did not converge. Consider increasing epsilon or number of iterations.\n",
      "/home/lars/code/python/context-aware-flow-matching/src/lightning-trainable/src/lightning_trainable/metrics/sinkhorn.py:71: Sinkhorn did not converge. Consider increasing epsilon or number of iterations.\n",
      "/home/lars/code/python/context-aware-flow-matching/src/lightning-trainable/src/lightning_trainable/metrics/sinkhorn.py:71: Sinkhorn did not converge. Consider increasing epsilon or number of iterations.\n",
      "/home/lars/code/python/context-aware-flow-matching/src/lightning-trainable/src/lightning_trainable/metrics/sinkhorn.py:71: Sinkhorn did not converge. Consider increasing epsilon or number of iterations.\n",
      "/home/lars/code/python/context-aware-flow-matching/src/lightning-trainable/src/lightning_trainable/metrics/sinkhorn.py:71: Sinkhorn did not converge. Consider increasing epsilon or number of iterations.\n",
      "/home/lars/code/python/context-aware-flow-matching/src/lightning-trainable/src/lightning_trainable/metrics/sinkhorn.py:71: Sinkhorn did not converge. Consider increasing epsilon or number of iterations.\n",
      "/home/lars/code/python/context-aware-flow-matching/src/lightning-trainable/src/lightning_trainable/metrics/sinkhorn.py:71: Sinkhorn did not converge. Consider increasing epsilon or number of iterations.\n",
      "/home/lars/code/python/context-aware-flow-matching/src/lightning-trainable/src/lightning_trainable/metrics/sinkhorn.py:71: Sinkhorn did not converge. Consider increasing epsilon or number of iterations.\n"
     ]
    },
    {
     "data": {
      "text/plain": "Validation: |          | 0/? [00:00<?, ?it/s]",
      "application/vnd.jupyter.widget-view+json": {
       "version_major": 2,
       "version_minor": 0,
       "model_id": "2282cb5b46c2442680dc6b912a71a57c"
      }
     },
     "metadata": {},
     "output_type": "display_data"
    },
    {
     "name": "stderr",
     "output_type": "stream",
     "text": [
      "/home/lars/code/python/context-aware-flow-matching/src/lightning-trainable/src/lightning_trainable/metrics/sinkhorn.py:71: Sinkhorn did not converge. Consider increasing epsilon or number of iterations.\n",
      "/home/lars/code/python/context-aware-flow-matching/src/lightning-trainable/src/lightning_trainable/metrics/sinkhorn.py:71: Sinkhorn did not converge. Consider increasing epsilon or number of iterations.\n",
      "/home/lars/code/python/context-aware-flow-matching/src/lightning-trainable/src/lightning_trainable/metrics/sinkhorn.py:71: Sinkhorn did not converge. Consider increasing epsilon or number of iterations.\n",
      "/home/lars/code/python/context-aware-flow-matching/src/lightning-trainable/src/lightning_trainable/metrics/sinkhorn.py:71: Sinkhorn did not converge. Consider increasing epsilon or number of iterations.\n",
      "/home/lars/code/python/context-aware-flow-matching/src/lightning-trainable/src/lightning_trainable/metrics/sinkhorn.py:71: Sinkhorn did not converge. Consider increasing epsilon or number of iterations.\n",
      "/home/lars/code/python/context-aware-flow-matching/src/lightning-trainable/src/lightning_trainable/metrics/sinkhorn.py:71: Sinkhorn did not converge. Consider increasing epsilon or number of iterations.\n",
      "/home/lars/code/python/context-aware-flow-matching/src/lightning-trainable/src/lightning_trainable/metrics/sinkhorn.py:71: Sinkhorn did not converge. Consider increasing epsilon or number of iterations.\n",
      "/home/lars/code/python/context-aware-flow-matching/src/lightning-trainable/src/lightning_trainable/metrics/sinkhorn.py:71: Sinkhorn did not converge. Consider increasing epsilon or number of iterations.\n",
      "/home/lars/code/python/context-aware-flow-matching/src/lightning-trainable/src/lightning_trainable/metrics/sinkhorn.py:71: Sinkhorn did not converge. Consider increasing epsilon or number of iterations.\n",
      "/home/lars/code/python/context-aware-flow-matching/src/lightning-trainable/src/lightning_trainable/metrics/sinkhorn.py:71: Sinkhorn did not converge. Consider increasing epsilon or number of iterations.\n",
      "/home/lars/code/python/context-aware-flow-matching/src/lightning-trainable/src/lightning_trainable/metrics/sinkhorn.py:71: Sinkhorn did not converge. Consider increasing epsilon or number of iterations.\n",
      "/home/lars/code/python/context-aware-flow-matching/src/lightning-trainable/src/lightning_trainable/metrics/sinkhorn.py:71: Sinkhorn did not converge. Consider increasing epsilon or number of iterations.\n",
      "/home/lars/code/python/context-aware-flow-matching/src/lightning-trainable/src/lightning_trainable/metrics/sinkhorn.py:71: Sinkhorn did not converge. Consider increasing epsilon or number of iterations.\n",
      "/home/lars/code/python/context-aware-flow-matching/src/lightning-trainable/src/lightning_trainable/metrics/sinkhorn.py:71: Sinkhorn did not converge. Consider increasing epsilon or number of iterations.\n"
     ]
    },
    {
     "data": {
      "text/plain": "Validation: |          | 0/? [00:00<?, ?it/s]",
      "application/vnd.jupyter.widget-view+json": {
       "version_major": 2,
       "version_minor": 0,
       "model_id": "85e702e7d3ec4bdaa6d31b44ee12f559"
      }
     },
     "metadata": {},
     "output_type": "display_data"
    },
    {
     "name": "stderr",
     "output_type": "stream",
     "text": [
      "/home/lars/code/python/context-aware-flow-matching/src/lightning-trainable/src/lightning_trainable/metrics/sinkhorn.py:71: Sinkhorn did not converge. Consider increasing epsilon or number of iterations.\n",
      "/home/lars/code/python/context-aware-flow-matching/src/lightning-trainable/src/lightning_trainable/metrics/sinkhorn.py:71: Sinkhorn did not converge. Consider increasing epsilon or number of iterations.\n",
      "/home/lars/code/python/context-aware-flow-matching/src/lightning-trainable/src/lightning_trainable/metrics/sinkhorn.py:71: Sinkhorn did not converge. Consider increasing epsilon or number of iterations.\n",
      "/home/lars/code/python/context-aware-flow-matching/src/lightning-trainable/src/lightning_trainable/metrics/sinkhorn.py:71: Sinkhorn did not converge. Consider increasing epsilon or number of iterations.\n",
      "/home/lars/code/python/context-aware-flow-matching/src/lightning-trainable/src/lightning_trainable/metrics/sinkhorn.py:71: Sinkhorn did not converge. Consider increasing epsilon or number of iterations.\n",
      "/home/lars/code/python/context-aware-flow-matching/src/lightning-trainable/src/lightning_trainable/metrics/sinkhorn.py:71: Sinkhorn did not converge. Consider increasing epsilon or number of iterations.\n",
      "/home/lars/code/python/context-aware-flow-matching/src/lightning-trainable/src/lightning_trainable/metrics/sinkhorn.py:71: Sinkhorn did not converge. Consider increasing epsilon or number of iterations.\n",
      "/home/lars/code/python/context-aware-flow-matching/src/lightning-trainable/src/lightning_trainable/metrics/sinkhorn.py:71: Sinkhorn did not converge. Consider increasing epsilon or number of iterations.\n",
      "/home/lars/code/python/context-aware-flow-matching/src/lightning-trainable/src/lightning_trainable/metrics/sinkhorn.py:71: Sinkhorn did not converge. Consider increasing epsilon or number of iterations.\n",
      "/home/lars/code/python/context-aware-flow-matching/src/lightning-trainable/src/lightning_trainable/metrics/sinkhorn.py:71: Sinkhorn did not converge. Consider increasing epsilon or number of iterations.\n",
      "/home/lars/code/python/context-aware-flow-matching/src/lightning-trainable/src/lightning_trainable/metrics/sinkhorn.py:71: Sinkhorn did not converge. Consider increasing epsilon or number of iterations.\n",
      "/home/lars/code/python/context-aware-flow-matching/src/lightning-trainable/src/lightning_trainable/metrics/sinkhorn.py:71: Sinkhorn did not converge. Consider increasing epsilon or number of iterations.\n",
      "/home/lars/code/python/context-aware-flow-matching/src/lightning-trainable/src/lightning_trainable/metrics/sinkhorn.py:71: Sinkhorn did not converge. Consider increasing epsilon or number of iterations.\n",
      "/home/lars/code/python/context-aware-flow-matching/src/lightning-trainable/src/lightning_trainable/metrics/sinkhorn.py:71: Sinkhorn did not converge. Consider increasing epsilon or number of iterations.\n"
     ]
    },
    {
     "data": {
      "text/plain": "Validation: |          | 0/? [00:00<?, ?it/s]",
      "application/vnd.jupyter.widget-view+json": {
       "version_major": 2,
       "version_minor": 0,
       "model_id": "8dd407c9c4ed4b11b5e7debd18090a8d"
      }
     },
     "metadata": {},
     "output_type": "display_data"
    },
    {
     "name": "stderr",
     "output_type": "stream",
     "text": [
      "/home/lars/code/python/context-aware-flow-matching/src/lightning-trainable/src/lightning_trainable/metrics/sinkhorn.py:71: Sinkhorn did not converge. Consider increasing epsilon or number of iterations.\n",
      "/home/lars/code/python/context-aware-flow-matching/src/lightning-trainable/src/lightning_trainable/metrics/sinkhorn.py:71: Sinkhorn did not converge. Consider increasing epsilon or number of iterations.\n",
      "/home/lars/code/python/context-aware-flow-matching/src/lightning-trainable/src/lightning_trainable/metrics/sinkhorn.py:71: Sinkhorn did not converge. Consider increasing epsilon or number of iterations.\n",
      "/home/lars/code/python/context-aware-flow-matching/src/lightning-trainable/src/lightning_trainable/metrics/sinkhorn.py:71: Sinkhorn did not converge. Consider increasing epsilon or number of iterations.\n",
      "/home/lars/code/python/context-aware-flow-matching/src/lightning-trainable/src/lightning_trainable/metrics/sinkhorn.py:71: Sinkhorn did not converge. Consider increasing epsilon or number of iterations.\n",
      "/home/lars/code/python/context-aware-flow-matching/src/lightning-trainable/src/lightning_trainable/metrics/sinkhorn.py:71: Sinkhorn did not converge. Consider increasing epsilon or number of iterations.\n",
      "/home/lars/code/python/context-aware-flow-matching/src/lightning-trainable/src/lightning_trainable/metrics/sinkhorn.py:71: Sinkhorn did not converge. Consider increasing epsilon or number of iterations.\n",
      "/home/lars/code/python/context-aware-flow-matching/src/lightning-trainable/src/lightning_trainable/metrics/sinkhorn.py:71: Sinkhorn did not converge. Consider increasing epsilon or number of iterations.\n",
      "/home/lars/code/python/context-aware-flow-matching/src/lightning-trainable/src/lightning_trainable/metrics/sinkhorn.py:71: Sinkhorn did not converge. Consider increasing epsilon or number of iterations.\n",
      "/home/lars/code/python/context-aware-flow-matching/src/lightning-trainable/src/lightning_trainable/metrics/sinkhorn.py:71: Sinkhorn did not converge. Consider increasing epsilon or number of iterations.\n",
      "/home/lars/code/python/context-aware-flow-matching/src/lightning-trainable/src/lightning_trainable/metrics/sinkhorn.py:71: Sinkhorn did not converge. Consider increasing epsilon or number of iterations.\n",
      "/home/lars/code/python/context-aware-flow-matching/src/lightning-trainable/src/lightning_trainable/metrics/sinkhorn.py:71: Sinkhorn did not converge. Consider increasing epsilon or number of iterations.\n",
      "/home/lars/code/python/context-aware-flow-matching/src/lightning-trainable/src/lightning_trainable/metrics/sinkhorn.py:71: Sinkhorn did not converge. Consider increasing epsilon or number of iterations.\n",
      "/home/lars/code/python/context-aware-flow-matching/src/lightning-trainable/src/lightning_trainable/metrics/sinkhorn.py:71: Sinkhorn did not converge. Consider increasing epsilon or number of iterations.\n"
     ]
    },
    {
     "data": {
      "text/plain": "Validation: |          | 0/? [00:00<?, ?it/s]",
      "application/vnd.jupyter.widget-view+json": {
       "version_major": 2,
       "version_minor": 0,
       "model_id": "fd21f5c2045d496fab4827207ff10c6d"
      }
     },
     "metadata": {},
     "output_type": "display_data"
    },
    {
     "name": "stderr",
     "output_type": "stream",
     "text": [
      "/home/lars/code/python/context-aware-flow-matching/src/lightning-trainable/src/lightning_trainable/metrics/sinkhorn.py:71: Sinkhorn did not converge. Consider increasing epsilon or number of iterations.\n",
      "/home/lars/code/python/context-aware-flow-matching/src/lightning-trainable/src/lightning_trainable/metrics/sinkhorn.py:71: Sinkhorn did not converge. Consider increasing epsilon or number of iterations.\n",
      "/home/lars/code/python/context-aware-flow-matching/src/lightning-trainable/src/lightning_trainable/metrics/sinkhorn.py:71: Sinkhorn did not converge. Consider increasing epsilon or number of iterations.\n",
      "/home/lars/code/python/context-aware-flow-matching/src/lightning-trainable/src/lightning_trainable/metrics/sinkhorn.py:71: Sinkhorn did not converge. Consider increasing epsilon or number of iterations.\n",
      "/home/lars/code/python/context-aware-flow-matching/src/lightning-trainable/src/lightning_trainable/metrics/sinkhorn.py:71: Sinkhorn did not converge. Consider increasing epsilon or number of iterations.\n",
      "/home/lars/code/python/context-aware-flow-matching/src/lightning-trainable/src/lightning_trainable/metrics/sinkhorn.py:71: Sinkhorn did not converge. Consider increasing epsilon or number of iterations.\n",
      "/home/lars/code/python/context-aware-flow-matching/src/lightning-trainable/src/lightning_trainable/metrics/sinkhorn.py:71: Sinkhorn did not converge. Consider increasing epsilon or number of iterations.\n",
      "/home/lars/code/python/context-aware-flow-matching/src/lightning-trainable/src/lightning_trainable/metrics/sinkhorn.py:71: Sinkhorn did not converge. Consider increasing epsilon or number of iterations.\n",
      "/home/lars/code/python/context-aware-flow-matching/src/lightning-trainable/src/lightning_trainable/metrics/sinkhorn.py:71: Sinkhorn did not converge. Consider increasing epsilon or number of iterations.\n",
      "/home/lars/code/python/context-aware-flow-matching/src/lightning-trainable/src/lightning_trainable/metrics/sinkhorn.py:71: Sinkhorn did not converge. Consider increasing epsilon or number of iterations.\n",
      "/home/lars/code/python/context-aware-flow-matching/src/lightning-trainable/src/lightning_trainable/metrics/sinkhorn.py:71: Sinkhorn did not converge. Consider increasing epsilon or number of iterations.\n",
      "/home/lars/code/python/context-aware-flow-matching/src/lightning-trainable/src/lightning_trainable/metrics/sinkhorn.py:71: Sinkhorn did not converge. Consider increasing epsilon or number of iterations.\n",
      "/home/lars/code/python/context-aware-flow-matching/src/lightning-trainable/src/lightning_trainable/metrics/sinkhorn.py:71: Sinkhorn did not converge. Consider increasing epsilon or number of iterations.\n",
      "/home/lars/code/python/context-aware-flow-matching/src/lightning-trainable/src/lightning_trainable/metrics/sinkhorn.py:71: Sinkhorn did not converge. Consider increasing epsilon or number of iterations.\n"
     ]
    },
    {
     "data": {
      "text/plain": "Validation: |          | 0/? [00:00<?, ?it/s]",
      "application/vnd.jupyter.widget-view+json": {
       "version_major": 2,
       "version_minor": 0,
       "model_id": "276d584e32a8472e8e2f74fa0b229c7a"
      }
     },
     "metadata": {},
     "output_type": "display_data"
    },
    {
     "name": "stderr",
     "output_type": "stream",
     "text": [
      "/home/lars/code/python/context-aware-flow-matching/src/lightning-trainable/src/lightning_trainable/metrics/sinkhorn.py:71: Sinkhorn did not converge. Consider increasing epsilon or number of iterations.\n",
      "/home/lars/code/python/context-aware-flow-matching/src/lightning-trainable/src/lightning_trainable/metrics/sinkhorn.py:71: Sinkhorn did not converge. Consider increasing epsilon or number of iterations.\n",
      "/home/lars/code/python/context-aware-flow-matching/src/lightning-trainable/src/lightning_trainable/metrics/sinkhorn.py:71: Sinkhorn did not converge. Consider increasing epsilon or number of iterations.\n",
      "/home/lars/code/python/context-aware-flow-matching/src/lightning-trainable/src/lightning_trainable/metrics/sinkhorn.py:71: Sinkhorn did not converge. Consider increasing epsilon or number of iterations.\n",
      "/home/lars/code/python/context-aware-flow-matching/src/lightning-trainable/src/lightning_trainable/metrics/sinkhorn.py:71: Sinkhorn did not converge. Consider increasing epsilon or number of iterations.\n",
      "/home/lars/code/python/context-aware-flow-matching/src/lightning-trainable/src/lightning_trainable/metrics/sinkhorn.py:71: Sinkhorn did not converge. Consider increasing epsilon or number of iterations.\n",
      "/home/lars/code/python/context-aware-flow-matching/src/lightning-trainable/src/lightning_trainable/metrics/sinkhorn.py:71: Sinkhorn did not converge. Consider increasing epsilon or number of iterations.\n",
      "/home/lars/code/python/context-aware-flow-matching/src/lightning-trainable/src/lightning_trainable/metrics/sinkhorn.py:71: Sinkhorn did not converge. Consider increasing epsilon or number of iterations.\n",
      "/home/lars/code/python/context-aware-flow-matching/src/lightning-trainable/src/lightning_trainable/metrics/sinkhorn.py:71: Sinkhorn did not converge. Consider increasing epsilon or number of iterations.\n",
      "/home/lars/code/python/context-aware-flow-matching/src/lightning-trainable/src/lightning_trainable/metrics/sinkhorn.py:71: Sinkhorn did not converge. Consider increasing epsilon or number of iterations.\n",
      "/home/lars/code/python/context-aware-flow-matching/src/lightning-trainable/src/lightning_trainable/metrics/sinkhorn.py:71: Sinkhorn did not converge. Consider increasing epsilon or number of iterations.\n",
      "/home/lars/code/python/context-aware-flow-matching/src/lightning-trainable/src/lightning_trainable/metrics/sinkhorn.py:71: Sinkhorn did not converge. Consider increasing epsilon or number of iterations.\n",
      "/home/lars/code/python/context-aware-flow-matching/src/lightning-trainable/src/lightning_trainable/metrics/sinkhorn.py:71: Sinkhorn did not converge. Consider increasing epsilon or number of iterations.\n",
      "/home/lars/code/python/context-aware-flow-matching/src/lightning-trainable/src/lightning_trainable/metrics/sinkhorn.py:71: Sinkhorn did not converge. Consider increasing epsilon or number of iterations.\n"
     ]
    },
    {
     "data": {
      "text/plain": "Validation: |          | 0/? [00:00<?, ?it/s]",
      "application/vnd.jupyter.widget-view+json": {
       "version_major": 2,
       "version_minor": 0,
       "model_id": "9506f6262b674ac6a9f2ed5ed3155516"
      }
     },
     "metadata": {},
     "output_type": "display_data"
    },
    {
     "name": "stderr",
     "output_type": "stream",
     "text": [
      "/home/lars/code/python/context-aware-flow-matching/src/lightning-trainable/src/lightning_trainable/metrics/sinkhorn.py:71: Sinkhorn did not converge. Consider increasing epsilon or number of iterations.\n",
      "/home/lars/code/python/context-aware-flow-matching/src/lightning-trainable/src/lightning_trainable/metrics/sinkhorn.py:71: Sinkhorn did not converge. Consider increasing epsilon or number of iterations.\n",
      "/home/lars/code/python/context-aware-flow-matching/src/lightning-trainable/src/lightning_trainable/metrics/sinkhorn.py:71: Sinkhorn did not converge. Consider increasing epsilon or number of iterations.\n",
      "/home/lars/code/python/context-aware-flow-matching/src/lightning-trainable/src/lightning_trainable/metrics/sinkhorn.py:71: Sinkhorn did not converge. Consider increasing epsilon or number of iterations.\n",
      "/home/lars/code/python/context-aware-flow-matching/src/lightning-trainable/src/lightning_trainable/metrics/sinkhorn.py:71: Sinkhorn did not converge. Consider increasing epsilon or number of iterations.\n",
      "/home/lars/code/python/context-aware-flow-matching/src/lightning-trainable/src/lightning_trainable/metrics/sinkhorn.py:71: Sinkhorn did not converge. Consider increasing epsilon or number of iterations.\n",
      "/home/lars/code/python/context-aware-flow-matching/src/lightning-trainable/src/lightning_trainable/metrics/sinkhorn.py:71: Sinkhorn did not converge. Consider increasing epsilon or number of iterations.\n",
      "/home/lars/code/python/context-aware-flow-matching/src/lightning-trainable/src/lightning_trainable/metrics/sinkhorn.py:71: Sinkhorn did not converge. Consider increasing epsilon or number of iterations.\n",
      "/home/lars/code/python/context-aware-flow-matching/src/lightning-trainable/src/lightning_trainable/metrics/sinkhorn.py:71: Sinkhorn did not converge. Consider increasing epsilon or number of iterations.\n",
      "/home/lars/code/python/context-aware-flow-matching/src/lightning-trainable/src/lightning_trainable/metrics/sinkhorn.py:71: Sinkhorn did not converge. Consider increasing epsilon or number of iterations.\n",
      "/home/lars/code/python/context-aware-flow-matching/src/lightning-trainable/src/lightning_trainable/metrics/sinkhorn.py:71: Sinkhorn did not converge. Consider increasing epsilon or number of iterations.\n",
      "/home/lars/code/python/context-aware-flow-matching/src/lightning-trainable/src/lightning_trainable/metrics/sinkhorn.py:71: Sinkhorn did not converge. Consider increasing epsilon or number of iterations.\n",
      "/home/lars/code/python/context-aware-flow-matching/src/lightning-trainable/src/lightning_trainable/metrics/sinkhorn.py:71: Sinkhorn did not converge. Consider increasing epsilon or number of iterations.\n",
      "/home/lars/code/python/context-aware-flow-matching/src/lightning-trainable/src/lightning_trainable/metrics/sinkhorn.py:71: Sinkhorn did not converge. Consider increasing epsilon or number of iterations.\n"
     ]
    },
    {
     "data": {
      "text/plain": "Validation: |          | 0/? [00:00<?, ?it/s]",
      "application/vnd.jupyter.widget-view+json": {
       "version_major": 2,
       "version_minor": 0,
       "model_id": "488823473fe54ed986dc113a8d80bd5a"
      }
     },
     "metadata": {},
     "output_type": "display_data"
    },
    {
     "name": "stderr",
     "output_type": "stream",
     "text": [
      "/home/lars/code/python/context-aware-flow-matching/src/lightning-trainable/src/lightning_trainable/metrics/sinkhorn.py:71: Sinkhorn did not converge. Consider increasing epsilon or number of iterations.\n",
      "/home/lars/code/python/context-aware-flow-matching/src/lightning-trainable/src/lightning_trainable/metrics/sinkhorn.py:71: Sinkhorn did not converge. Consider increasing epsilon or number of iterations.\n",
      "/home/lars/code/python/context-aware-flow-matching/src/lightning-trainable/src/lightning_trainable/metrics/sinkhorn.py:71: Sinkhorn did not converge. Consider increasing epsilon or number of iterations.\n",
      "/home/lars/code/python/context-aware-flow-matching/src/lightning-trainable/src/lightning_trainable/metrics/sinkhorn.py:71: Sinkhorn did not converge. Consider increasing epsilon or number of iterations.\n",
      "/home/lars/code/python/context-aware-flow-matching/src/lightning-trainable/src/lightning_trainable/metrics/sinkhorn.py:71: Sinkhorn did not converge. Consider increasing epsilon or number of iterations.\n",
      "/home/lars/code/python/context-aware-flow-matching/src/lightning-trainable/src/lightning_trainable/metrics/sinkhorn.py:71: Sinkhorn did not converge. Consider increasing epsilon or number of iterations.\n",
      "/home/lars/code/python/context-aware-flow-matching/src/lightning-trainable/src/lightning_trainable/metrics/sinkhorn.py:71: Sinkhorn did not converge. Consider increasing epsilon or number of iterations.\n",
      "/home/lars/code/python/context-aware-flow-matching/src/lightning-trainable/src/lightning_trainable/metrics/sinkhorn.py:71: Sinkhorn did not converge. Consider increasing epsilon or number of iterations.\n",
      "/home/lars/code/python/context-aware-flow-matching/src/lightning-trainable/src/lightning_trainable/metrics/sinkhorn.py:71: Sinkhorn did not converge. Consider increasing epsilon or number of iterations.\n",
      "/home/lars/code/python/context-aware-flow-matching/src/lightning-trainable/src/lightning_trainable/metrics/sinkhorn.py:71: Sinkhorn did not converge. Consider increasing epsilon or number of iterations.\n",
      "/home/lars/code/python/context-aware-flow-matching/src/lightning-trainable/src/lightning_trainable/metrics/sinkhorn.py:71: Sinkhorn did not converge. Consider increasing epsilon or number of iterations.\n",
      "/home/lars/code/python/context-aware-flow-matching/src/lightning-trainable/src/lightning_trainable/metrics/sinkhorn.py:71: Sinkhorn did not converge. Consider increasing epsilon or number of iterations.\n",
      "/home/lars/code/python/context-aware-flow-matching/src/lightning-trainable/src/lightning_trainable/metrics/sinkhorn.py:71: Sinkhorn did not converge. Consider increasing epsilon or number of iterations.\n",
      "/home/lars/code/python/context-aware-flow-matching/src/lightning-trainable/src/lightning_trainable/metrics/sinkhorn.py:71: Sinkhorn did not converge. Consider increasing epsilon or number of iterations.\n"
     ]
    },
    {
     "data": {
      "text/plain": "Validation: |          | 0/? [00:00<?, ?it/s]",
      "application/vnd.jupyter.widget-view+json": {
       "version_major": 2,
       "version_minor": 0,
       "model_id": "9ef6ce93f66a4c38bbc9a8676cd4abce"
      }
     },
     "metadata": {},
     "output_type": "display_data"
    },
    {
     "name": "stderr",
     "output_type": "stream",
     "text": [
      "/home/lars/code/python/context-aware-flow-matching/src/lightning-trainable/src/lightning_trainable/metrics/sinkhorn.py:71: Sinkhorn did not converge. Consider increasing epsilon or number of iterations.\n",
      "/home/lars/code/python/context-aware-flow-matching/src/lightning-trainable/src/lightning_trainable/metrics/sinkhorn.py:71: Sinkhorn did not converge. Consider increasing epsilon or number of iterations.\n",
      "/home/lars/code/python/context-aware-flow-matching/src/lightning-trainable/src/lightning_trainable/metrics/sinkhorn.py:71: Sinkhorn did not converge. Consider increasing epsilon or number of iterations.\n",
      "/home/lars/code/python/context-aware-flow-matching/src/lightning-trainable/src/lightning_trainable/metrics/sinkhorn.py:71: Sinkhorn did not converge. Consider increasing epsilon or number of iterations.\n",
      "/home/lars/code/python/context-aware-flow-matching/src/lightning-trainable/src/lightning_trainable/metrics/sinkhorn.py:71: Sinkhorn did not converge. Consider increasing epsilon or number of iterations.\n",
      "/home/lars/code/python/context-aware-flow-matching/src/lightning-trainable/src/lightning_trainable/metrics/sinkhorn.py:71: Sinkhorn did not converge. Consider increasing epsilon or number of iterations.\n",
      "/home/lars/code/python/context-aware-flow-matching/src/lightning-trainable/src/lightning_trainable/metrics/sinkhorn.py:71: Sinkhorn did not converge. Consider increasing epsilon or number of iterations.\n",
      "/home/lars/code/python/context-aware-flow-matching/src/lightning-trainable/src/lightning_trainable/metrics/sinkhorn.py:71: Sinkhorn did not converge. Consider increasing epsilon or number of iterations.\n",
      "/home/lars/code/python/context-aware-flow-matching/src/lightning-trainable/src/lightning_trainable/metrics/sinkhorn.py:71: Sinkhorn did not converge. Consider increasing epsilon or number of iterations.\n",
      "/home/lars/code/python/context-aware-flow-matching/src/lightning-trainable/src/lightning_trainable/metrics/sinkhorn.py:71: Sinkhorn did not converge. Consider increasing epsilon or number of iterations.\n",
      "/home/lars/code/python/context-aware-flow-matching/src/lightning-trainable/src/lightning_trainable/metrics/sinkhorn.py:71: Sinkhorn did not converge. Consider increasing epsilon or number of iterations.\n",
      "/home/lars/code/python/context-aware-flow-matching/src/lightning-trainable/src/lightning_trainable/metrics/sinkhorn.py:71: Sinkhorn did not converge. Consider increasing epsilon or number of iterations.\n",
      "/home/lars/code/python/context-aware-flow-matching/src/lightning-trainable/src/lightning_trainable/metrics/sinkhorn.py:71: Sinkhorn did not converge. Consider increasing epsilon or number of iterations.\n",
      "/home/lars/code/python/context-aware-flow-matching/src/lightning-trainable/src/lightning_trainable/metrics/sinkhorn.py:71: Sinkhorn did not converge. Consider increasing epsilon or number of iterations.\n"
     ]
    },
    {
     "data": {
      "text/plain": "Validation: |          | 0/? [00:00<?, ?it/s]",
      "application/vnd.jupyter.widget-view+json": {
       "version_major": 2,
       "version_minor": 0,
       "model_id": "b96eb7098b3c4f308ebdba3b811d9687"
      }
     },
     "metadata": {},
     "output_type": "display_data"
    },
    {
     "name": "stderr",
     "output_type": "stream",
     "text": [
      "/home/lars/code/python/context-aware-flow-matching/src/lightning-trainable/src/lightning_trainable/metrics/sinkhorn.py:71: Sinkhorn did not converge. Consider increasing epsilon or number of iterations.\n",
      "/home/lars/code/python/context-aware-flow-matching/src/lightning-trainable/src/lightning_trainable/metrics/sinkhorn.py:71: Sinkhorn did not converge. Consider increasing epsilon or number of iterations.\n",
      "/home/lars/code/python/context-aware-flow-matching/src/lightning-trainable/src/lightning_trainable/metrics/sinkhorn.py:71: Sinkhorn did not converge. Consider increasing epsilon or number of iterations.\n",
      "/home/lars/code/python/context-aware-flow-matching/src/lightning-trainable/src/lightning_trainable/metrics/sinkhorn.py:71: Sinkhorn did not converge. Consider increasing epsilon or number of iterations.\n",
      "/home/lars/code/python/context-aware-flow-matching/src/lightning-trainable/src/lightning_trainable/metrics/sinkhorn.py:71: Sinkhorn did not converge. Consider increasing epsilon or number of iterations.\n",
      "/home/lars/code/python/context-aware-flow-matching/src/lightning-trainable/src/lightning_trainable/metrics/sinkhorn.py:71: Sinkhorn did not converge. Consider increasing epsilon or number of iterations.\n",
      "/home/lars/code/python/context-aware-flow-matching/src/lightning-trainable/src/lightning_trainable/metrics/sinkhorn.py:71: Sinkhorn did not converge. Consider increasing epsilon or number of iterations.\n",
      "/home/lars/code/python/context-aware-flow-matching/src/lightning-trainable/src/lightning_trainable/metrics/sinkhorn.py:71: Sinkhorn did not converge. Consider increasing epsilon or number of iterations.\n",
      "/home/lars/code/python/context-aware-flow-matching/src/lightning-trainable/src/lightning_trainable/metrics/sinkhorn.py:71: Sinkhorn did not converge. Consider increasing epsilon or number of iterations.\n",
      "/home/lars/code/python/context-aware-flow-matching/src/lightning-trainable/src/lightning_trainable/metrics/sinkhorn.py:71: Sinkhorn did not converge. Consider increasing epsilon or number of iterations.\n",
      "/home/lars/code/python/context-aware-flow-matching/src/lightning-trainable/src/lightning_trainable/metrics/sinkhorn.py:71: Sinkhorn did not converge. Consider increasing epsilon or number of iterations.\n",
      "/home/lars/code/python/context-aware-flow-matching/src/lightning-trainable/src/lightning_trainable/metrics/sinkhorn.py:71: Sinkhorn did not converge. Consider increasing epsilon or number of iterations.\n",
      "/home/lars/code/python/context-aware-flow-matching/src/lightning-trainable/src/lightning_trainable/metrics/sinkhorn.py:71: Sinkhorn did not converge. Consider increasing epsilon or number of iterations.\n",
      "/home/lars/code/python/context-aware-flow-matching/src/lightning-trainable/src/lightning_trainable/metrics/sinkhorn.py:71: Sinkhorn did not converge. Consider increasing epsilon or number of iterations.\n"
     ]
    },
    {
     "data": {
      "text/plain": "Validation: |          | 0/? [00:00<?, ?it/s]",
      "application/vnd.jupyter.widget-view+json": {
       "version_major": 2,
       "version_minor": 0,
       "model_id": "ab4724363d4145c194e51b9f88598c6a"
      }
     },
     "metadata": {},
     "output_type": "display_data"
    },
    {
     "name": "stderr",
     "output_type": "stream",
     "text": [
      "/home/lars/code/python/context-aware-flow-matching/src/lightning-trainable/src/lightning_trainable/metrics/sinkhorn.py:71: Sinkhorn did not converge. Consider increasing epsilon or number of iterations.\n",
      "/home/lars/code/python/context-aware-flow-matching/src/lightning-trainable/src/lightning_trainable/metrics/sinkhorn.py:71: Sinkhorn did not converge. Consider increasing epsilon or number of iterations.\n",
      "/home/lars/code/python/context-aware-flow-matching/src/lightning-trainable/src/lightning_trainable/metrics/sinkhorn.py:71: Sinkhorn did not converge. Consider increasing epsilon or number of iterations.\n",
      "/home/lars/code/python/context-aware-flow-matching/src/lightning-trainable/src/lightning_trainable/metrics/sinkhorn.py:71: Sinkhorn did not converge. Consider increasing epsilon or number of iterations.\n",
      "/home/lars/code/python/context-aware-flow-matching/src/lightning-trainable/src/lightning_trainable/metrics/sinkhorn.py:71: Sinkhorn did not converge. Consider increasing epsilon or number of iterations.\n",
      "/home/lars/code/python/context-aware-flow-matching/src/lightning-trainable/src/lightning_trainable/metrics/sinkhorn.py:71: Sinkhorn did not converge. Consider increasing epsilon or number of iterations.\n",
      "/home/lars/code/python/context-aware-flow-matching/src/lightning-trainable/src/lightning_trainable/metrics/sinkhorn.py:71: Sinkhorn did not converge. Consider increasing epsilon or number of iterations.\n",
      "/home/lars/code/python/context-aware-flow-matching/src/lightning-trainable/src/lightning_trainable/metrics/sinkhorn.py:71: Sinkhorn did not converge. Consider increasing epsilon or number of iterations.\n",
      "/home/lars/code/python/context-aware-flow-matching/src/lightning-trainable/src/lightning_trainable/metrics/sinkhorn.py:71: Sinkhorn did not converge. Consider increasing epsilon or number of iterations.\n",
      "/home/lars/code/python/context-aware-flow-matching/src/lightning-trainable/src/lightning_trainable/metrics/sinkhorn.py:71: Sinkhorn did not converge. Consider increasing epsilon or number of iterations.\n",
      "/home/lars/code/python/context-aware-flow-matching/src/lightning-trainable/src/lightning_trainable/metrics/sinkhorn.py:71: Sinkhorn did not converge. Consider increasing epsilon or number of iterations.\n",
      "/home/lars/code/python/context-aware-flow-matching/src/lightning-trainable/src/lightning_trainable/metrics/sinkhorn.py:71: Sinkhorn did not converge. Consider increasing epsilon or number of iterations.\n",
      "/home/lars/code/python/context-aware-flow-matching/src/lightning-trainable/src/lightning_trainable/metrics/sinkhorn.py:71: Sinkhorn did not converge. Consider increasing epsilon or number of iterations.\n",
      "/home/lars/code/python/context-aware-flow-matching/src/lightning-trainable/src/lightning_trainable/metrics/sinkhorn.py:71: Sinkhorn did not converge. Consider increasing epsilon or number of iterations.\n"
     ]
    },
    {
     "data": {
      "text/plain": "Validation: |          | 0/? [00:00<?, ?it/s]",
      "application/vnd.jupyter.widget-view+json": {
       "version_major": 2,
       "version_minor": 0,
       "model_id": "6b4dd60a8e664b629dd394816fabce19"
      }
     },
     "metadata": {},
     "output_type": "display_data"
    },
    {
     "name": "stderr",
     "output_type": "stream",
     "text": [
      "/home/lars/code/python/context-aware-flow-matching/src/lightning-trainable/src/lightning_trainable/metrics/sinkhorn.py:71: Sinkhorn did not converge. Consider increasing epsilon or number of iterations.\n",
      "/home/lars/code/python/context-aware-flow-matching/src/lightning-trainable/src/lightning_trainable/metrics/sinkhorn.py:71: Sinkhorn did not converge. Consider increasing epsilon or number of iterations.\n",
      "/home/lars/code/python/context-aware-flow-matching/src/lightning-trainable/src/lightning_trainable/metrics/sinkhorn.py:71: Sinkhorn did not converge. Consider increasing epsilon or number of iterations.\n",
      "/home/lars/code/python/context-aware-flow-matching/src/lightning-trainable/src/lightning_trainable/metrics/sinkhorn.py:71: Sinkhorn did not converge. Consider increasing epsilon or number of iterations.\n",
      "/home/lars/code/python/context-aware-flow-matching/src/lightning-trainable/src/lightning_trainable/metrics/sinkhorn.py:71: Sinkhorn did not converge. Consider increasing epsilon or number of iterations.\n",
      "/home/lars/code/python/context-aware-flow-matching/src/lightning-trainable/src/lightning_trainable/metrics/sinkhorn.py:71: Sinkhorn did not converge. Consider increasing epsilon or number of iterations.\n",
      "/home/lars/code/python/context-aware-flow-matching/src/lightning-trainable/src/lightning_trainable/metrics/sinkhorn.py:71: Sinkhorn did not converge. Consider increasing epsilon or number of iterations.\n",
      "/home/lars/code/python/context-aware-flow-matching/src/lightning-trainable/src/lightning_trainable/metrics/sinkhorn.py:71: Sinkhorn did not converge. Consider increasing epsilon or number of iterations.\n",
      "/home/lars/code/python/context-aware-flow-matching/src/lightning-trainable/src/lightning_trainable/metrics/sinkhorn.py:71: Sinkhorn did not converge. Consider increasing epsilon or number of iterations.\n",
      "/home/lars/code/python/context-aware-flow-matching/src/lightning-trainable/src/lightning_trainable/metrics/sinkhorn.py:71: Sinkhorn did not converge. Consider increasing epsilon or number of iterations.\n",
      "/home/lars/code/python/context-aware-flow-matching/src/lightning-trainable/src/lightning_trainable/metrics/sinkhorn.py:71: Sinkhorn did not converge. Consider increasing epsilon or number of iterations.\n",
      "/home/lars/code/python/context-aware-flow-matching/src/lightning-trainable/src/lightning_trainable/metrics/sinkhorn.py:71: Sinkhorn did not converge. Consider increasing epsilon or number of iterations.\n",
      "/home/lars/code/python/context-aware-flow-matching/src/lightning-trainable/src/lightning_trainable/metrics/sinkhorn.py:71: Sinkhorn did not converge. Consider increasing epsilon or number of iterations.\n",
      "/home/lars/code/python/context-aware-flow-matching/src/lightning-trainable/src/lightning_trainable/metrics/sinkhorn.py:71: Sinkhorn did not converge. Consider increasing epsilon or number of iterations.\n"
     ]
    },
    {
     "data": {
      "text/plain": "Validation: |          | 0/? [00:00<?, ?it/s]",
      "application/vnd.jupyter.widget-view+json": {
       "version_major": 2,
       "version_minor": 0,
       "model_id": "1ad59a4aca824f93915b8f49c3a582e2"
      }
     },
     "metadata": {},
     "output_type": "display_data"
    },
    {
     "name": "stderr",
     "output_type": "stream",
     "text": [
      "/home/lars/code/python/context-aware-flow-matching/src/lightning-trainable/src/lightning_trainable/metrics/sinkhorn.py:71: Sinkhorn did not converge. Consider increasing epsilon or number of iterations.\n",
      "/home/lars/code/python/context-aware-flow-matching/src/lightning-trainable/src/lightning_trainable/metrics/sinkhorn.py:71: Sinkhorn did not converge. Consider increasing epsilon or number of iterations.\n",
      "/home/lars/code/python/context-aware-flow-matching/src/lightning-trainable/src/lightning_trainable/metrics/sinkhorn.py:71: Sinkhorn did not converge. Consider increasing epsilon or number of iterations.\n",
      "/home/lars/code/python/context-aware-flow-matching/src/lightning-trainable/src/lightning_trainable/metrics/sinkhorn.py:71: Sinkhorn did not converge. Consider increasing epsilon or number of iterations.\n",
      "/home/lars/code/python/context-aware-flow-matching/src/lightning-trainable/src/lightning_trainable/metrics/sinkhorn.py:71: Sinkhorn did not converge. Consider increasing epsilon or number of iterations.\n",
      "/home/lars/code/python/context-aware-flow-matching/src/lightning-trainable/src/lightning_trainable/metrics/sinkhorn.py:71: Sinkhorn did not converge. Consider increasing epsilon or number of iterations.\n",
      "/home/lars/code/python/context-aware-flow-matching/src/lightning-trainable/src/lightning_trainable/metrics/sinkhorn.py:71: Sinkhorn did not converge. Consider increasing epsilon or number of iterations.\n",
      "/home/lars/code/python/context-aware-flow-matching/src/lightning-trainable/src/lightning_trainable/metrics/sinkhorn.py:71: Sinkhorn did not converge. Consider increasing epsilon or number of iterations.\n",
      "/home/lars/code/python/context-aware-flow-matching/src/lightning-trainable/src/lightning_trainable/metrics/sinkhorn.py:71: Sinkhorn did not converge. Consider increasing epsilon or number of iterations.\n",
      "/home/lars/code/python/context-aware-flow-matching/src/lightning-trainable/src/lightning_trainable/metrics/sinkhorn.py:71: Sinkhorn did not converge. Consider increasing epsilon or number of iterations.\n",
      "/home/lars/code/python/context-aware-flow-matching/src/lightning-trainable/src/lightning_trainable/metrics/sinkhorn.py:71: Sinkhorn did not converge. Consider increasing epsilon or number of iterations.\n",
      "/home/lars/code/python/context-aware-flow-matching/src/lightning-trainable/src/lightning_trainable/metrics/sinkhorn.py:71: Sinkhorn did not converge. Consider increasing epsilon or number of iterations.\n",
      "/home/lars/code/python/context-aware-flow-matching/src/lightning-trainable/src/lightning_trainable/metrics/sinkhorn.py:71: Sinkhorn did not converge. Consider increasing epsilon or number of iterations.\n",
      "/home/lars/code/python/context-aware-flow-matching/src/lightning-trainable/src/lightning_trainable/metrics/sinkhorn.py:71: Sinkhorn did not converge. Consider increasing epsilon or number of iterations.\n"
     ]
    },
    {
     "data": {
      "text/plain": "Validation: |          | 0/? [00:00<?, ?it/s]",
      "application/vnd.jupyter.widget-view+json": {
       "version_major": 2,
       "version_minor": 0,
       "model_id": "6b23cec6512641d5b63c57c6dc31bb55"
      }
     },
     "metadata": {},
     "output_type": "display_data"
    },
    {
     "name": "stderr",
     "output_type": "stream",
     "text": [
      "/home/lars/code/python/context-aware-flow-matching/src/lightning-trainable/src/lightning_trainable/metrics/sinkhorn.py:71: Sinkhorn did not converge. Consider increasing epsilon or number of iterations.\n",
      "/home/lars/code/python/context-aware-flow-matching/src/lightning-trainable/src/lightning_trainable/metrics/sinkhorn.py:71: Sinkhorn did not converge. Consider increasing epsilon or number of iterations.\n",
      "/home/lars/code/python/context-aware-flow-matching/src/lightning-trainable/src/lightning_trainable/metrics/sinkhorn.py:71: Sinkhorn did not converge. Consider increasing epsilon or number of iterations.\n",
      "/home/lars/code/python/context-aware-flow-matching/src/lightning-trainable/src/lightning_trainable/metrics/sinkhorn.py:71: Sinkhorn did not converge. Consider increasing epsilon or number of iterations.\n",
      "/home/lars/code/python/context-aware-flow-matching/src/lightning-trainable/src/lightning_trainable/metrics/sinkhorn.py:71: Sinkhorn did not converge. Consider increasing epsilon or number of iterations.\n",
      "/home/lars/code/python/context-aware-flow-matching/src/lightning-trainable/src/lightning_trainable/metrics/sinkhorn.py:71: Sinkhorn did not converge. Consider increasing epsilon or number of iterations.\n",
      "/home/lars/code/python/context-aware-flow-matching/src/lightning-trainable/src/lightning_trainable/metrics/sinkhorn.py:71: Sinkhorn did not converge. Consider increasing epsilon or number of iterations.\n",
      "/home/lars/code/python/context-aware-flow-matching/src/lightning-trainable/src/lightning_trainable/metrics/sinkhorn.py:71: Sinkhorn did not converge. Consider increasing epsilon or number of iterations.\n",
      "/home/lars/code/python/context-aware-flow-matching/src/lightning-trainable/src/lightning_trainable/metrics/sinkhorn.py:71: Sinkhorn did not converge. Consider increasing epsilon or number of iterations.\n",
      "/home/lars/code/python/context-aware-flow-matching/src/lightning-trainable/src/lightning_trainable/metrics/sinkhorn.py:71: Sinkhorn did not converge. Consider increasing epsilon or number of iterations.\n",
      "/home/lars/code/python/context-aware-flow-matching/src/lightning-trainable/src/lightning_trainable/metrics/sinkhorn.py:71: Sinkhorn did not converge. Consider increasing epsilon or number of iterations.\n",
      "/home/lars/code/python/context-aware-flow-matching/src/lightning-trainable/src/lightning_trainable/metrics/sinkhorn.py:71: Sinkhorn did not converge. Consider increasing epsilon or number of iterations.\n",
      "/home/lars/code/python/context-aware-flow-matching/src/lightning-trainable/src/lightning_trainable/metrics/sinkhorn.py:71: Sinkhorn did not converge. Consider increasing epsilon or number of iterations.\n",
      "/home/lars/code/python/context-aware-flow-matching/src/lightning-trainable/src/lightning_trainable/metrics/sinkhorn.py:71: Sinkhorn did not converge. Consider increasing epsilon or number of iterations.\n"
     ]
    },
    {
     "data": {
      "text/plain": "Validation: |          | 0/? [00:00<?, ?it/s]",
      "application/vnd.jupyter.widget-view+json": {
       "version_major": 2,
       "version_minor": 0,
       "model_id": "f1fb2f3c7585425684221ea6e30739d7"
      }
     },
     "metadata": {},
     "output_type": "display_data"
    },
    {
     "name": "stderr",
     "output_type": "stream",
     "text": [
      "/home/lars/code/python/context-aware-flow-matching/src/lightning-trainable/src/lightning_trainable/metrics/sinkhorn.py:71: Sinkhorn did not converge. Consider increasing epsilon or number of iterations.\n",
      "/home/lars/code/python/context-aware-flow-matching/src/lightning-trainable/src/lightning_trainable/metrics/sinkhorn.py:71: Sinkhorn did not converge. Consider increasing epsilon or number of iterations.\n",
      "/home/lars/code/python/context-aware-flow-matching/src/lightning-trainable/src/lightning_trainable/metrics/sinkhorn.py:71: Sinkhorn did not converge. Consider increasing epsilon or number of iterations.\n",
      "/home/lars/code/python/context-aware-flow-matching/src/lightning-trainable/src/lightning_trainable/metrics/sinkhorn.py:71: Sinkhorn did not converge. Consider increasing epsilon or number of iterations.\n",
      "/home/lars/code/python/context-aware-flow-matching/src/lightning-trainable/src/lightning_trainable/metrics/sinkhorn.py:71: Sinkhorn did not converge. Consider increasing epsilon or number of iterations.\n",
      "/home/lars/code/python/context-aware-flow-matching/src/lightning-trainable/src/lightning_trainable/metrics/sinkhorn.py:71: Sinkhorn did not converge. Consider increasing epsilon or number of iterations.\n",
      "/home/lars/code/python/context-aware-flow-matching/src/lightning-trainable/src/lightning_trainable/metrics/sinkhorn.py:71: Sinkhorn did not converge. Consider increasing epsilon or number of iterations.\n",
      "/home/lars/code/python/context-aware-flow-matching/src/lightning-trainable/src/lightning_trainable/metrics/sinkhorn.py:71: Sinkhorn did not converge. Consider increasing epsilon or number of iterations.\n",
      "/home/lars/code/python/context-aware-flow-matching/src/lightning-trainable/src/lightning_trainable/metrics/sinkhorn.py:71: Sinkhorn did not converge. Consider increasing epsilon or number of iterations.\n",
      "/home/lars/code/python/context-aware-flow-matching/src/lightning-trainable/src/lightning_trainable/metrics/sinkhorn.py:71: Sinkhorn did not converge. Consider increasing epsilon or number of iterations.\n",
      "/home/lars/code/python/context-aware-flow-matching/src/lightning-trainable/src/lightning_trainable/metrics/sinkhorn.py:71: Sinkhorn did not converge. Consider increasing epsilon or number of iterations.\n",
      "/home/lars/code/python/context-aware-flow-matching/src/lightning-trainable/src/lightning_trainable/metrics/sinkhorn.py:71: Sinkhorn did not converge. Consider increasing epsilon or number of iterations.\n",
      "/home/lars/code/python/context-aware-flow-matching/src/lightning-trainable/src/lightning_trainable/metrics/sinkhorn.py:71: Sinkhorn did not converge. Consider increasing epsilon or number of iterations.\n",
      "/home/lars/code/python/context-aware-flow-matching/src/lightning-trainable/src/lightning_trainable/metrics/sinkhorn.py:71: Sinkhorn did not converge. Consider increasing epsilon or number of iterations.\n"
     ]
    },
    {
     "data": {
      "text/plain": "Validation: |          | 0/? [00:00<?, ?it/s]",
      "application/vnd.jupyter.widget-view+json": {
       "version_major": 2,
       "version_minor": 0,
       "model_id": "8a0eab53e14c401abfa5141f932f7cba"
      }
     },
     "metadata": {},
     "output_type": "display_data"
    },
    {
     "name": "stderr",
     "output_type": "stream",
     "text": [
      "/home/lars/code/python/context-aware-flow-matching/src/lightning-trainable/src/lightning_trainable/metrics/sinkhorn.py:71: Sinkhorn did not converge. Consider increasing epsilon or number of iterations.\n",
      "/home/lars/code/python/context-aware-flow-matching/src/lightning-trainable/src/lightning_trainable/metrics/sinkhorn.py:71: Sinkhorn did not converge. Consider increasing epsilon or number of iterations.\n",
      "/home/lars/code/python/context-aware-flow-matching/src/lightning-trainable/src/lightning_trainable/metrics/sinkhorn.py:71: Sinkhorn did not converge. Consider increasing epsilon or number of iterations.\n",
      "/home/lars/code/python/context-aware-flow-matching/src/lightning-trainable/src/lightning_trainable/metrics/sinkhorn.py:71: Sinkhorn did not converge. Consider increasing epsilon or number of iterations.\n",
      "/home/lars/code/python/context-aware-flow-matching/src/lightning-trainable/src/lightning_trainable/metrics/sinkhorn.py:71: Sinkhorn did not converge. Consider increasing epsilon or number of iterations.\n",
      "/home/lars/code/python/context-aware-flow-matching/src/lightning-trainable/src/lightning_trainable/metrics/sinkhorn.py:71: Sinkhorn did not converge. Consider increasing epsilon or number of iterations.\n",
      "/home/lars/code/python/context-aware-flow-matching/src/lightning-trainable/src/lightning_trainable/metrics/sinkhorn.py:71: Sinkhorn did not converge. Consider increasing epsilon or number of iterations.\n",
      "/home/lars/code/python/context-aware-flow-matching/src/lightning-trainable/src/lightning_trainable/metrics/sinkhorn.py:71: Sinkhorn did not converge. Consider increasing epsilon or number of iterations.\n",
      "/home/lars/code/python/context-aware-flow-matching/src/lightning-trainable/src/lightning_trainable/metrics/sinkhorn.py:71: Sinkhorn did not converge. Consider increasing epsilon or number of iterations.\n",
      "/home/lars/code/python/context-aware-flow-matching/src/lightning-trainable/src/lightning_trainable/metrics/sinkhorn.py:71: Sinkhorn did not converge. Consider increasing epsilon or number of iterations.\n",
      "/home/lars/code/python/context-aware-flow-matching/src/lightning-trainable/src/lightning_trainable/metrics/sinkhorn.py:71: Sinkhorn did not converge. Consider increasing epsilon or number of iterations.\n",
      "/home/lars/code/python/context-aware-flow-matching/src/lightning-trainable/src/lightning_trainable/metrics/sinkhorn.py:71: Sinkhorn did not converge. Consider increasing epsilon or number of iterations.\n",
      "/home/lars/code/python/context-aware-flow-matching/src/lightning-trainable/src/lightning_trainable/metrics/sinkhorn.py:71: Sinkhorn did not converge. Consider increasing epsilon or number of iterations.\n",
      "/home/lars/code/python/context-aware-flow-matching/src/lightning-trainable/src/lightning_trainable/metrics/sinkhorn.py:71: Sinkhorn did not converge. Consider increasing epsilon or number of iterations.\n"
     ]
    },
    {
     "data": {
      "text/plain": "Validation: |          | 0/? [00:00<?, ?it/s]",
      "application/vnd.jupyter.widget-view+json": {
       "version_major": 2,
       "version_minor": 0,
       "model_id": "b30057bf2b02440ca284bc837780e65e"
      }
     },
     "metadata": {},
     "output_type": "display_data"
    },
    {
     "name": "stderr",
     "output_type": "stream",
     "text": [
      "/home/lars/code/python/context-aware-flow-matching/src/lightning-trainable/src/lightning_trainable/metrics/sinkhorn.py:71: Sinkhorn did not converge. Consider increasing epsilon or number of iterations.\n",
      "/home/lars/code/python/context-aware-flow-matching/src/lightning-trainable/src/lightning_trainable/metrics/sinkhorn.py:71: Sinkhorn did not converge. Consider increasing epsilon or number of iterations.\n",
      "/home/lars/code/python/context-aware-flow-matching/src/lightning-trainable/src/lightning_trainable/metrics/sinkhorn.py:71: Sinkhorn did not converge. Consider increasing epsilon or number of iterations.\n",
      "/home/lars/code/python/context-aware-flow-matching/src/lightning-trainable/src/lightning_trainable/metrics/sinkhorn.py:71: Sinkhorn did not converge. Consider increasing epsilon or number of iterations.\n",
      "/home/lars/code/python/context-aware-flow-matching/src/lightning-trainable/src/lightning_trainable/metrics/sinkhorn.py:71: Sinkhorn did not converge. Consider increasing epsilon or number of iterations.\n",
      "/home/lars/code/python/context-aware-flow-matching/src/lightning-trainable/src/lightning_trainable/metrics/sinkhorn.py:71: Sinkhorn did not converge. Consider increasing epsilon or number of iterations.\n",
      "/home/lars/code/python/context-aware-flow-matching/src/lightning-trainable/src/lightning_trainable/metrics/sinkhorn.py:71: Sinkhorn did not converge. Consider increasing epsilon or number of iterations.\n",
      "/home/lars/code/python/context-aware-flow-matching/src/lightning-trainable/src/lightning_trainable/metrics/sinkhorn.py:71: Sinkhorn did not converge. Consider increasing epsilon or number of iterations.\n",
      "/home/lars/code/python/context-aware-flow-matching/src/lightning-trainable/src/lightning_trainable/metrics/sinkhorn.py:71: Sinkhorn did not converge. Consider increasing epsilon or number of iterations.\n",
      "/home/lars/code/python/context-aware-flow-matching/src/lightning-trainable/src/lightning_trainable/metrics/sinkhorn.py:71: Sinkhorn did not converge. Consider increasing epsilon or number of iterations.\n",
      "/home/lars/code/python/context-aware-flow-matching/src/lightning-trainable/src/lightning_trainable/metrics/sinkhorn.py:71: Sinkhorn did not converge. Consider increasing epsilon or number of iterations.\n",
      "/home/lars/code/python/context-aware-flow-matching/src/lightning-trainable/src/lightning_trainable/metrics/sinkhorn.py:71: Sinkhorn did not converge. Consider increasing epsilon or number of iterations.\n",
      "/home/lars/code/python/context-aware-flow-matching/src/lightning-trainable/src/lightning_trainable/metrics/sinkhorn.py:71: Sinkhorn did not converge. Consider increasing epsilon or number of iterations.\n",
      "/home/lars/code/python/context-aware-flow-matching/src/lightning-trainable/src/lightning_trainable/metrics/sinkhorn.py:71: Sinkhorn did not converge. Consider increasing epsilon or number of iterations.\n"
     ]
    },
    {
     "data": {
      "text/plain": "Validation: |          | 0/? [00:00<?, ?it/s]",
      "application/vnd.jupyter.widget-view+json": {
       "version_major": 2,
       "version_minor": 0,
       "model_id": "e177abdf897a4a7cb6116d14ad9c4f5f"
      }
     },
     "metadata": {},
     "output_type": "display_data"
    },
    {
     "name": "stderr",
     "output_type": "stream",
     "text": [
      "/home/lars/code/python/context-aware-flow-matching/src/lightning-trainable/src/lightning_trainable/metrics/sinkhorn.py:71: Sinkhorn did not converge. Consider increasing epsilon or number of iterations.\n",
      "/home/lars/code/python/context-aware-flow-matching/src/lightning-trainable/src/lightning_trainable/metrics/sinkhorn.py:71: Sinkhorn did not converge. Consider increasing epsilon or number of iterations.\n",
      "/home/lars/code/python/context-aware-flow-matching/src/lightning-trainable/src/lightning_trainable/metrics/sinkhorn.py:71: Sinkhorn did not converge. Consider increasing epsilon or number of iterations.\n",
      "/home/lars/code/python/context-aware-flow-matching/src/lightning-trainable/src/lightning_trainable/metrics/sinkhorn.py:71: Sinkhorn did not converge. Consider increasing epsilon or number of iterations.\n",
      "/home/lars/code/python/context-aware-flow-matching/src/lightning-trainable/src/lightning_trainable/metrics/sinkhorn.py:71: Sinkhorn did not converge. Consider increasing epsilon or number of iterations.\n",
      "/home/lars/code/python/context-aware-flow-matching/src/lightning-trainable/src/lightning_trainable/metrics/sinkhorn.py:71: Sinkhorn did not converge. Consider increasing epsilon or number of iterations.\n",
      "/home/lars/code/python/context-aware-flow-matching/src/lightning-trainable/src/lightning_trainable/metrics/sinkhorn.py:71: Sinkhorn did not converge. Consider increasing epsilon or number of iterations.\n",
      "/home/lars/code/python/context-aware-flow-matching/src/lightning-trainable/src/lightning_trainable/metrics/sinkhorn.py:71: Sinkhorn did not converge. Consider increasing epsilon or number of iterations.\n",
      "/home/lars/code/python/context-aware-flow-matching/src/lightning-trainable/src/lightning_trainable/metrics/sinkhorn.py:71: Sinkhorn did not converge. Consider increasing epsilon or number of iterations.\n",
      "/home/lars/code/python/context-aware-flow-matching/src/lightning-trainable/src/lightning_trainable/metrics/sinkhorn.py:71: Sinkhorn did not converge. Consider increasing epsilon or number of iterations.\n",
      "/home/lars/code/python/context-aware-flow-matching/src/lightning-trainable/src/lightning_trainable/metrics/sinkhorn.py:71: Sinkhorn did not converge. Consider increasing epsilon or number of iterations.\n",
      "/home/lars/code/python/context-aware-flow-matching/src/lightning-trainable/src/lightning_trainable/metrics/sinkhorn.py:71: Sinkhorn did not converge. Consider increasing epsilon or number of iterations.\n",
      "/home/lars/code/python/context-aware-flow-matching/src/lightning-trainable/src/lightning_trainable/metrics/sinkhorn.py:71: Sinkhorn did not converge. Consider increasing epsilon or number of iterations.\n",
      "/home/lars/code/python/context-aware-flow-matching/src/lightning-trainable/src/lightning_trainable/metrics/sinkhorn.py:71: Sinkhorn did not converge. Consider increasing epsilon or number of iterations.\n"
     ]
    },
    {
     "data": {
      "text/plain": "Validation: |          | 0/? [00:00<?, ?it/s]",
      "application/vnd.jupyter.widget-view+json": {
       "version_major": 2,
       "version_minor": 0,
       "model_id": "7adaa8707e8b4b89beceb8e9562d3ae6"
      }
     },
     "metadata": {},
     "output_type": "display_data"
    },
    {
     "name": "stderr",
     "output_type": "stream",
     "text": [
      "/home/lars/code/python/context-aware-flow-matching/src/lightning-trainable/src/lightning_trainable/metrics/sinkhorn.py:71: Sinkhorn did not converge. Consider increasing epsilon or number of iterations.\n",
      "/home/lars/code/python/context-aware-flow-matching/src/lightning-trainable/src/lightning_trainable/metrics/sinkhorn.py:71: Sinkhorn did not converge. Consider increasing epsilon or number of iterations.\n",
      "/home/lars/code/python/context-aware-flow-matching/src/lightning-trainable/src/lightning_trainable/metrics/sinkhorn.py:71: Sinkhorn did not converge. Consider increasing epsilon or number of iterations.\n",
      "/home/lars/code/python/context-aware-flow-matching/src/lightning-trainable/src/lightning_trainable/metrics/sinkhorn.py:71: Sinkhorn did not converge. Consider increasing epsilon or number of iterations.\n",
      "/home/lars/code/python/context-aware-flow-matching/src/lightning-trainable/src/lightning_trainable/metrics/sinkhorn.py:71: Sinkhorn did not converge. Consider increasing epsilon or number of iterations.\n",
      "/home/lars/code/python/context-aware-flow-matching/src/lightning-trainable/src/lightning_trainable/metrics/sinkhorn.py:71: Sinkhorn did not converge. Consider increasing epsilon or number of iterations.\n",
      "/home/lars/code/python/context-aware-flow-matching/src/lightning-trainable/src/lightning_trainable/metrics/sinkhorn.py:71: Sinkhorn did not converge. Consider increasing epsilon or number of iterations.\n",
      "/home/lars/code/python/context-aware-flow-matching/src/lightning-trainable/src/lightning_trainable/metrics/sinkhorn.py:71: Sinkhorn did not converge. Consider increasing epsilon or number of iterations.\n",
      "/home/lars/code/python/context-aware-flow-matching/src/lightning-trainable/src/lightning_trainable/metrics/sinkhorn.py:71: Sinkhorn did not converge. Consider increasing epsilon or number of iterations.\n",
      "/home/lars/code/python/context-aware-flow-matching/src/lightning-trainable/src/lightning_trainable/metrics/sinkhorn.py:71: Sinkhorn did not converge. Consider increasing epsilon or number of iterations.\n",
      "/home/lars/code/python/context-aware-flow-matching/src/lightning-trainable/src/lightning_trainable/metrics/sinkhorn.py:71: Sinkhorn did not converge. Consider increasing epsilon or number of iterations.\n",
      "/home/lars/code/python/context-aware-flow-matching/src/lightning-trainable/src/lightning_trainable/metrics/sinkhorn.py:71: Sinkhorn did not converge. Consider increasing epsilon or number of iterations.\n",
      "/home/lars/code/python/context-aware-flow-matching/src/lightning-trainable/src/lightning_trainable/metrics/sinkhorn.py:71: Sinkhorn did not converge. Consider increasing epsilon or number of iterations.\n",
      "/home/lars/code/python/context-aware-flow-matching/src/lightning-trainable/src/lightning_trainable/metrics/sinkhorn.py:71: Sinkhorn did not converge. Consider increasing epsilon or number of iterations.\n"
     ]
    },
    {
     "data": {
      "text/plain": "Validation: |          | 0/? [00:00<?, ?it/s]",
      "application/vnd.jupyter.widget-view+json": {
       "version_major": 2,
       "version_minor": 0,
       "model_id": "3fd055290e0b471187922f909e19fe90"
      }
     },
     "metadata": {},
     "output_type": "display_data"
    },
    {
     "name": "stderr",
     "output_type": "stream",
     "text": [
      "/home/lars/code/python/context-aware-flow-matching/src/lightning-trainable/src/lightning_trainable/metrics/sinkhorn.py:71: Sinkhorn did not converge. Consider increasing epsilon or number of iterations.\n",
      "/home/lars/code/python/context-aware-flow-matching/src/lightning-trainable/src/lightning_trainable/metrics/sinkhorn.py:71: Sinkhorn did not converge. Consider increasing epsilon or number of iterations.\n",
      "/home/lars/code/python/context-aware-flow-matching/src/lightning-trainable/src/lightning_trainable/metrics/sinkhorn.py:71: Sinkhorn did not converge. Consider increasing epsilon or number of iterations.\n",
      "/home/lars/code/python/context-aware-flow-matching/src/lightning-trainable/src/lightning_trainable/metrics/sinkhorn.py:71: Sinkhorn did not converge. Consider increasing epsilon or number of iterations.\n",
      "/home/lars/code/python/context-aware-flow-matching/src/lightning-trainable/src/lightning_trainable/metrics/sinkhorn.py:71: Sinkhorn did not converge. Consider increasing epsilon or number of iterations.\n",
      "/home/lars/code/python/context-aware-flow-matching/src/lightning-trainable/src/lightning_trainable/metrics/sinkhorn.py:71: Sinkhorn did not converge. Consider increasing epsilon or number of iterations.\n",
      "/home/lars/code/python/context-aware-flow-matching/src/lightning-trainable/src/lightning_trainable/metrics/sinkhorn.py:71: Sinkhorn did not converge. Consider increasing epsilon or number of iterations.\n",
      "/home/lars/code/python/context-aware-flow-matching/src/lightning-trainable/src/lightning_trainable/metrics/sinkhorn.py:71: Sinkhorn did not converge. Consider increasing epsilon or number of iterations.\n",
      "/home/lars/code/python/context-aware-flow-matching/src/lightning-trainable/src/lightning_trainable/metrics/sinkhorn.py:71: Sinkhorn did not converge. Consider increasing epsilon or number of iterations.\n",
      "/home/lars/code/python/context-aware-flow-matching/src/lightning-trainable/src/lightning_trainable/metrics/sinkhorn.py:71: Sinkhorn did not converge. Consider increasing epsilon or number of iterations.\n",
      "/home/lars/code/python/context-aware-flow-matching/src/lightning-trainable/src/lightning_trainable/metrics/sinkhorn.py:71: Sinkhorn did not converge. Consider increasing epsilon or number of iterations.\n",
      "/home/lars/code/python/context-aware-flow-matching/src/lightning-trainable/src/lightning_trainable/metrics/sinkhorn.py:71: Sinkhorn did not converge. Consider increasing epsilon or number of iterations.\n",
      "/home/lars/code/python/context-aware-flow-matching/src/lightning-trainable/src/lightning_trainable/metrics/sinkhorn.py:71: Sinkhorn did not converge. Consider increasing epsilon or number of iterations.\n",
      "/home/lars/code/python/context-aware-flow-matching/src/lightning-trainable/src/lightning_trainable/metrics/sinkhorn.py:71: Sinkhorn did not converge. Consider increasing epsilon or number of iterations.\n"
     ]
    },
    {
     "data": {
      "text/plain": "Validation: |          | 0/? [00:00<?, ?it/s]",
      "application/vnd.jupyter.widget-view+json": {
       "version_major": 2,
       "version_minor": 0,
       "model_id": "06b215f3fb464098acf69af8eb856a7b"
      }
     },
     "metadata": {},
     "output_type": "display_data"
    },
    {
     "name": "stderr",
     "output_type": "stream",
     "text": [
      "/home/lars/code/python/context-aware-flow-matching/src/lightning-trainable/src/lightning_trainable/metrics/sinkhorn.py:71: Sinkhorn did not converge. Consider increasing epsilon or number of iterations.\n",
      "/home/lars/code/python/context-aware-flow-matching/src/lightning-trainable/src/lightning_trainable/metrics/sinkhorn.py:71: Sinkhorn did not converge. Consider increasing epsilon or number of iterations.\n",
      "/home/lars/code/python/context-aware-flow-matching/src/lightning-trainable/src/lightning_trainable/metrics/sinkhorn.py:71: Sinkhorn did not converge. Consider increasing epsilon or number of iterations.\n",
      "/home/lars/code/python/context-aware-flow-matching/src/lightning-trainable/src/lightning_trainable/metrics/sinkhorn.py:71: Sinkhorn did not converge. Consider increasing epsilon or number of iterations.\n",
      "/home/lars/code/python/context-aware-flow-matching/src/lightning-trainable/src/lightning_trainable/metrics/sinkhorn.py:71: Sinkhorn did not converge. Consider increasing epsilon or number of iterations.\n",
      "/home/lars/code/python/context-aware-flow-matching/src/lightning-trainable/src/lightning_trainable/metrics/sinkhorn.py:71: Sinkhorn did not converge. Consider increasing epsilon or number of iterations.\n",
      "/home/lars/code/python/context-aware-flow-matching/src/lightning-trainable/src/lightning_trainable/metrics/sinkhorn.py:71: Sinkhorn did not converge. Consider increasing epsilon or number of iterations.\n",
      "/home/lars/code/python/context-aware-flow-matching/src/lightning-trainable/src/lightning_trainable/metrics/sinkhorn.py:71: Sinkhorn did not converge. Consider increasing epsilon or number of iterations.\n",
      "/home/lars/code/python/context-aware-flow-matching/src/lightning-trainable/src/lightning_trainable/metrics/sinkhorn.py:71: Sinkhorn did not converge. Consider increasing epsilon or number of iterations.\n",
      "/home/lars/code/python/context-aware-flow-matching/src/lightning-trainable/src/lightning_trainable/metrics/sinkhorn.py:71: Sinkhorn did not converge. Consider increasing epsilon or number of iterations.\n",
      "/home/lars/code/python/context-aware-flow-matching/src/lightning-trainable/src/lightning_trainable/metrics/sinkhorn.py:71: Sinkhorn did not converge. Consider increasing epsilon or number of iterations.\n",
      "/home/lars/code/python/context-aware-flow-matching/src/lightning-trainable/src/lightning_trainable/metrics/sinkhorn.py:71: Sinkhorn did not converge. Consider increasing epsilon or number of iterations.\n",
      "/home/lars/code/python/context-aware-flow-matching/src/lightning-trainable/src/lightning_trainable/metrics/sinkhorn.py:71: Sinkhorn did not converge. Consider increasing epsilon or number of iterations.\n",
      "/home/lars/code/python/context-aware-flow-matching/src/lightning-trainable/src/lightning_trainable/metrics/sinkhorn.py:71: Sinkhorn did not converge. Consider increasing epsilon or number of iterations.\n"
     ]
    },
    {
     "data": {
      "text/plain": "Validation: |          | 0/? [00:00<?, ?it/s]",
      "application/vnd.jupyter.widget-view+json": {
       "version_major": 2,
       "version_minor": 0,
       "model_id": "20e49c72ee7c482382a257c5461d2780"
      }
     },
     "metadata": {},
     "output_type": "display_data"
    },
    {
     "name": "stderr",
     "output_type": "stream",
     "text": [
      "/home/lars/code/python/context-aware-flow-matching/src/lightning-trainable/src/lightning_trainable/metrics/sinkhorn.py:71: Sinkhorn did not converge. Consider increasing epsilon or number of iterations.\n",
      "/home/lars/code/python/context-aware-flow-matching/src/lightning-trainable/src/lightning_trainable/metrics/sinkhorn.py:71: Sinkhorn did not converge. Consider increasing epsilon or number of iterations.\n",
      "/home/lars/code/python/context-aware-flow-matching/src/lightning-trainable/src/lightning_trainable/metrics/sinkhorn.py:71: Sinkhorn did not converge. Consider increasing epsilon or number of iterations.\n",
      "/home/lars/code/python/context-aware-flow-matching/src/lightning-trainable/src/lightning_trainable/metrics/sinkhorn.py:71: Sinkhorn did not converge. Consider increasing epsilon or number of iterations.\n",
      "/home/lars/code/python/context-aware-flow-matching/src/lightning-trainable/src/lightning_trainable/metrics/sinkhorn.py:71: Sinkhorn did not converge. Consider increasing epsilon or number of iterations.\n",
      "/home/lars/code/python/context-aware-flow-matching/src/lightning-trainable/src/lightning_trainable/metrics/sinkhorn.py:71: Sinkhorn did not converge. Consider increasing epsilon or number of iterations.\n",
      "/home/lars/code/python/context-aware-flow-matching/src/lightning-trainable/src/lightning_trainable/metrics/sinkhorn.py:71: Sinkhorn did not converge. Consider increasing epsilon or number of iterations.\n",
      "/home/lars/code/python/context-aware-flow-matching/src/lightning-trainable/src/lightning_trainable/metrics/sinkhorn.py:71: Sinkhorn did not converge. Consider increasing epsilon or number of iterations.\n",
      "/home/lars/code/python/context-aware-flow-matching/src/lightning-trainable/src/lightning_trainable/metrics/sinkhorn.py:71: Sinkhorn did not converge. Consider increasing epsilon or number of iterations.\n",
      "/home/lars/code/python/context-aware-flow-matching/src/lightning-trainable/src/lightning_trainable/metrics/sinkhorn.py:71: Sinkhorn did not converge. Consider increasing epsilon or number of iterations.\n",
      "/home/lars/code/python/context-aware-flow-matching/src/lightning-trainable/src/lightning_trainable/metrics/sinkhorn.py:71: Sinkhorn did not converge. Consider increasing epsilon or number of iterations.\n",
      "/home/lars/code/python/context-aware-flow-matching/src/lightning-trainable/src/lightning_trainable/metrics/sinkhorn.py:71: Sinkhorn did not converge. Consider increasing epsilon or number of iterations.\n",
      "/home/lars/code/python/context-aware-flow-matching/src/lightning-trainable/src/lightning_trainable/metrics/sinkhorn.py:71: Sinkhorn did not converge. Consider increasing epsilon or number of iterations.\n",
      "/home/lars/code/python/context-aware-flow-matching/src/lightning-trainable/src/lightning_trainable/metrics/sinkhorn.py:71: Sinkhorn did not converge. Consider increasing epsilon or number of iterations.\n"
     ]
    },
    {
     "data": {
      "text/plain": "Validation: |          | 0/? [00:00<?, ?it/s]",
      "application/vnd.jupyter.widget-view+json": {
       "version_major": 2,
       "version_minor": 0,
       "model_id": "627eeb0486374ebeb11de10e312f170c"
      }
     },
     "metadata": {},
     "output_type": "display_data"
    },
    {
     "name": "stderr",
     "output_type": "stream",
     "text": [
      "/home/lars/code/python/context-aware-flow-matching/src/lightning-trainable/src/lightning_trainable/metrics/sinkhorn.py:71: Sinkhorn did not converge. Consider increasing epsilon or number of iterations.\n",
      "/home/lars/code/python/context-aware-flow-matching/src/lightning-trainable/src/lightning_trainable/metrics/sinkhorn.py:71: Sinkhorn did not converge. Consider increasing epsilon or number of iterations.\n",
      "/home/lars/code/python/context-aware-flow-matching/src/lightning-trainable/src/lightning_trainable/metrics/sinkhorn.py:71: Sinkhorn did not converge. Consider increasing epsilon or number of iterations.\n",
      "/home/lars/code/python/context-aware-flow-matching/src/lightning-trainable/src/lightning_trainable/metrics/sinkhorn.py:71: Sinkhorn did not converge. Consider increasing epsilon or number of iterations.\n",
      "/home/lars/code/python/context-aware-flow-matching/src/lightning-trainable/src/lightning_trainable/metrics/sinkhorn.py:71: Sinkhorn did not converge. Consider increasing epsilon or number of iterations.\n",
      "/home/lars/code/python/context-aware-flow-matching/src/lightning-trainable/src/lightning_trainable/metrics/sinkhorn.py:71: Sinkhorn did not converge. Consider increasing epsilon or number of iterations.\n",
      "/home/lars/code/python/context-aware-flow-matching/src/lightning-trainable/src/lightning_trainable/metrics/sinkhorn.py:71: Sinkhorn did not converge. Consider increasing epsilon or number of iterations.\n",
      "/home/lars/code/python/context-aware-flow-matching/src/lightning-trainable/src/lightning_trainable/metrics/sinkhorn.py:71: Sinkhorn did not converge. Consider increasing epsilon or number of iterations.\n",
      "/home/lars/code/python/context-aware-flow-matching/src/lightning-trainable/src/lightning_trainable/metrics/sinkhorn.py:71: Sinkhorn did not converge. Consider increasing epsilon or number of iterations.\n",
      "/home/lars/code/python/context-aware-flow-matching/src/lightning-trainable/src/lightning_trainable/metrics/sinkhorn.py:71: Sinkhorn did not converge. Consider increasing epsilon or number of iterations.\n",
      "/home/lars/code/python/context-aware-flow-matching/src/lightning-trainable/src/lightning_trainable/metrics/sinkhorn.py:71: Sinkhorn did not converge. Consider increasing epsilon or number of iterations.\n",
      "/home/lars/code/python/context-aware-flow-matching/src/lightning-trainable/src/lightning_trainable/metrics/sinkhorn.py:71: Sinkhorn did not converge. Consider increasing epsilon or number of iterations.\n",
      "/home/lars/code/python/context-aware-flow-matching/src/lightning-trainable/src/lightning_trainable/metrics/sinkhorn.py:71: Sinkhorn did not converge. Consider increasing epsilon or number of iterations.\n",
      "/home/lars/code/python/context-aware-flow-matching/src/lightning-trainable/src/lightning_trainable/metrics/sinkhorn.py:71: Sinkhorn did not converge. Consider increasing epsilon or number of iterations.\n"
     ]
    },
    {
     "data": {
      "text/plain": "Validation: |          | 0/? [00:00<?, ?it/s]",
      "application/vnd.jupyter.widget-view+json": {
       "version_major": 2,
       "version_minor": 0,
       "model_id": "a1ed0a6e08a542c79665f695a254eabf"
      }
     },
     "metadata": {},
     "output_type": "display_data"
    },
    {
     "name": "stderr",
     "output_type": "stream",
     "text": [
      "/home/lars/code/python/context-aware-flow-matching/src/lightning-trainable/src/lightning_trainable/metrics/sinkhorn.py:71: Sinkhorn did not converge. Consider increasing epsilon or number of iterations.\n",
      "/home/lars/code/python/context-aware-flow-matching/src/lightning-trainable/src/lightning_trainable/metrics/sinkhorn.py:71: Sinkhorn did not converge. Consider increasing epsilon or number of iterations.\n",
      "/home/lars/code/python/context-aware-flow-matching/src/lightning-trainable/src/lightning_trainable/metrics/sinkhorn.py:71: Sinkhorn did not converge. Consider increasing epsilon or number of iterations.\n",
      "/home/lars/code/python/context-aware-flow-matching/src/lightning-trainable/src/lightning_trainable/metrics/sinkhorn.py:71: Sinkhorn did not converge. Consider increasing epsilon or number of iterations.\n"
     ]
    }
   ],
   "source": [
    "model.fit(trainer_kwargs=dict(log_every_n_steps=1))"
   ]
  },
  {
   "cell_type": "code",
   "execution_count": null,
   "id": "c2f3f3fe-af36-4837-bf98-f4b63e725b9d",
   "metadata": {
    "is_executing": true
   },
   "outputs": [],
   "source": []
  }
 ],
 "metadata": {
  "kernelspec": {
   "display_name": "Python 3 (ipykernel)",
   "language": "python",
   "name": "python3"
  },
  "language_info": {
   "codemirror_mode": {
    "name": "ipython",
    "version": 3
   },
   "file_extension": ".py",
   "mimetype": "text/x-python",
   "name": "python",
   "nbconvert_exporter": "python",
   "pygments_lexer": "ipython3",
   "version": "3.11.5"
  }
 },
 "nbformat": 4,
 "nbformat_minor": 5
}
