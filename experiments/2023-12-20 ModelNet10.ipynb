{
 "cells": [
  {
   "cell_type": "code",
   "execution_count": 1,
   "id": "d8047877fdae5e05",
   "metadata": {
    "ExecuteTime": {
     "end_time": "2023-12-28T18:00:12.319582624Z",
     "start_time": "2023-12-28T18:00:12.315542109Z"
    },
    "collapsed": false,
    "jupyter": {
     "outputs_hidden": false
    }
   },
   "outputs": [
    {
     "data": {
      "text/plain": [
       "'/home/lars/code/python/context-aware-flow-matching'"
      ]
     },
     "execution_count": 1,
     "metadata": {},
     "output_type": "execute_result"
    }
   ],
   "source": [
    "import os\n",
    "if os.getcwd().endswith(\"experiments\"):\n",
    "    os.chdir(\"..\")\n",
    "\n",
    "os.getcwd()"
   ]
  },
  {
   "cell_type": "code",
   "execution_count": 2,
   "id": "initial_id",
   "metadata": {
    "ExecuteTime": {
     "end_time": "2023-12-28T18:00:14.590856409Z",
     "start_time": "2023-12-28T18:00:12.317675116Z"
    }
   },
   "outputs": [],
   "source": [
    "from torch.utils.data import random_split\n",
    "from lightning import seed_everything\n",
    "\n",
    "from pathlib import Path\n",
    "\n",
    "from lightning_trainable.utils import find_checkpoint\n",
    "\n",
    "from src.models import Model\n",
    "from src.datasets import ModelNet10Dataset"
   ]
  },
  {
   "cell_type": "code",
   "execution_count": 3,
   "id": "11edd7826fa03d75",
   "metadata": {
    "ExecuteTime": {
     "end_time": "2023-12-28T18:00:14.650544813Z",
     "start_time": "2023-12-28T18:00:14.628769032Z"
    },
    "collapsed": false,
    "jupyter": {
     "outputs_hidden": false
    }
   },
   "outputs": [
    {
     "name": "stderr",
     "output_type": "stream",
     "text": [
      "Seed set to 42\n"
     ]
    },
    {
     "data": {
      "text/plain": [
       "42"
      ]
     },
     "execution_count": 3,
     "metadata": {},
     "output_type": "execute_result"
    }
   ],
   "source": [
    "seed_everything(42)"
   ]
  },
  {
   "cell_type": "code",
   "execution_count": 4,
   "id": "7f249987df311986",
   "metadata": {
    "ExecuteTime": {
     "end_time": "2023-12-28T18:01:06.597574634Z",
     "start_time": "2023-12-28T18:00:14.629348393Z"
    },
    "collapsed": false,
    "jupyter": {
     "outputs_hidden": false
    }
   },
   "outputs": [
    {
     "name": "stdout",
     "output_type": "stream",
     "text": [
      "Found non-empty ModelNet10Dataset in data/modelnet10, skipping download...\n"
     ]
    },
    {
     "name": "stderr",
     "output_type": "stream",
     "text": [
      "Pre-Loading Meshes: 100%|███████████████████████████████████████████████████████████████████| 4899/4899 [00:54<00:00, 90.66it/s]\n"
     ]
    }
   ],
   "source": [
    "dataset = ModelNet10Dataset(\"data/modelnet10\")"
   ]
  },
  {
   "cell_type": "code",
   "execution_count": 5,
   "id": "acfddab99fdf0452",
   "metadata": {
    "ExecuteTime": {
     "end_time": "2023-12-28T18:01:06.604883558Z",
     "start_time": "2023-12-28T18:01:06.600021954Z"
    },
    "collapsed": false,
    "jupyter": {
     "outputs_hidden": false
    }
   },
   "outputs": [],
   "source": [
    "train_data, val_data, test_data = random_split(dataset, [0.8, 0.1, 0.1])"
   ]
  },
  {
   "cell_type": "code",
   "execution_count": 6,
   "id": "bb064455bc0a9a85",
   "metadata": {
    "ExecuteTime": {
     "end_time": "2023-12-28T18:01:06.622641094Z",
     "start_time": "2023-12-28T18:01:06.605504973Z"
    },
    "collapsed": false,
    "jupyter": {
     "outputs_hidden": false
    }
   },
   "outputs": [],
   "source": [
    "hparams = dict(\n",
    "    batch_size=256,\n",
    "    subset_size=256,\n",
    "    features=3,\n",
    "    embeddings=768,\n",
    "    accumulate_batches=2,\n",
    "    checkpoint_segments=16,\n",
    "    gamma=0.5,\n",
    "    max_epochs=10_000,\n",
    "    optimizer=dict(\n",
    "        name=\"AdamW\",\n",
    "        kwargs=dict(\n",
    "            weight_decay=0.01,\n",
    "        ),\n",
    "    ),\n",
    "    lr_scheduler=dict(\n",
    "        name=\"OneCycleLR\",\n",
    "        kwargs=dict(\n",
    "            max_lr=1e-4,\n",
    "            div_factor=1e1,\n",
    "            final_div_factor=1e6,\n",
    "        )\n",
    "    ),\n",
    "    model_checkpoint=dict(\n",
    "        monitor=\"validation/loss\",\n",
    "        save_last=True,\n",
    "        every_n_epochs=10,\n",
    "        save_top_k=10,\n",
    "    ),\n",
    "    optimal_transport=dict(\n",
    "        epsilon=0.05,\n",
    "        max_steps=25_000,\n",
    "        atol=3e-5,\n",
    "    ),\n",
    "    gradient_clip=1.0,\n",
    "    num_workers=14,\n",
    "    accelerator=\"gpu\",\n",
    "    devices=-1,\n",
    ")"
   ]
  },
  {
   "cell_type": "code",
   "execution_count": null,
   "id": "9171da651b2e8cc5",
   "metadata": {
    "ExecuteTime": {
     "end_time": "2023-12-28T18:01:06.632622592Z",
     "start_time": "2023-12-28T18:01:06.616623903Z"
    },
    "collapsed": false,
    "jupyter": {
     "outputs_hidden": false
    }
   },
   "outputs": [
    {
     "name": "stderr",
     "output_type": "stream",
     "text": [
      "GPU available: True (cuda), used: True\n",
      "TPU available: False, using: 0 TPU cores\n",
      "IPU available: False, using: 0 IPUs\n",
      "HPU available: False, using: 0 HPUs\n",
      "The following callbacks returned in `LightningModule.configure_callbacks` will override existing callbacks passed to Trainer: ModelCheckpoint\n",
      "LOCAL_RANK: 0 - CUDA_VISIBLE_DEVICES: [0]\n",
      "\n",
      "  | Name    | Type                   | Params\n",
      "---------------------------------------------------\n",
      "0 | encoder | CheckpointedSequential | 27.0 M\n",
      "1 | flow    | CheckpointedSequential | 20.7 M\n",
      "---------------------------------------------------\n",
      "47.7 M    Trainable params\n",
      "0         Non-trainable params\n",
      "47.7 M    Total params\n",
      "190.975   Total estimated model params size (MB)\n"
     ]
    },
    {
     "data": {
      "application/vnd.jupyter.widget-view+json": {
       "model_id": "",
       "version_major": 2,
       "version_minor": 0
      },
      "text/plain": [
       "Sanity Checking: |                                                                                        | 0/…"
      ]
     },
     "metadata": {},
     "output_type": "display_data"
    },
    {
     "data": {
      "application/vnd.jupyter.widget-view+json": {
       "model_id": "41b6cf0d0b744ba686d06b871c118023",
       "version_major": 2,
       "version_minor": 0
      },
      "text/plain": [
       "Training: |                                                                                               | 0/…"
      ]
     },
     "metadata": {},
     "output_type": "display_data"
    },
    {
     "data": {
      "application/vnd.jupyter.widget-view+json": {
       "model_id": "",
       "version_major": 2,
       "version_minor": 0
      },
      "text/plain": [
       "Validation: |                                                                                             | 0/…"
      ]
     },
     "metadata": {},
     "output_type": "display_data"
    },
    {
     "name": "stderr",
     "output_type": "stream",
     "text": [
      "/home/lars/code/python/context-aware-flow-matching/src/lightning-trainable/src/lightning_trainable/metrics/sinkhorn.py:72: Sinkhorn-Knopp did not converge (badness: 7.0e-05). Consider relaxing epsilon (5.4e-02) or increasing the number of iterations (10000).\n"
     ]
    },
    {
     "data": {
      "application/vnd.jupyter.widget-view+json": {
       "model_id": "",
       "version_major": 2,
       "version_minor": 0
      },
      "text/plain": [
       "Validation: |                                                                                             | 0/…"
      ]
     },
     "metadata": {},
     "output_type": "display_data"
    }
   ],
   "source": [
    "# initial training\n",
    "# model = Model(hparams, train_data, val_data, test_data)\n",
    "# model.fit(trainer_kwargs=dict(log_every_n_steps=4, check_val_every_n_epoch=4))"
   ]
  },
  {
   "cell_type": "code",
   "execution_count": null,
   "id": "9f7a59808540c03d",
   "metadata": {
    "collapsed": false,
    "is_executing": true,
    "jupyter": {
     "outputs_hidden": false
    }
   },
   "outputs": [],
   "source": [
    "# initial training with weights initialized from a previous run\n",
    "cp = find_checkpoint(version=9)\n",
    "model = Model.load_from_checkpoint(cp, hparams=hparams, train_data=train_data, val_data=val_data, test_data=test_data)\n",
    "model.fit(trainer_kwargs=dict(log_every_n_steps=4, check_val_every_n_epoch=4))"
   ]
  },
  {
   "cell_type": "code",
   "execution_count": null,
   "id": "c2f3f3fe-af36-4837-bf98-f4b63e725b9d",
   "metadata": {
    "ExecuteTime": {
     "start_time": "2023-12-28T18:01:06.631610548Z"
    },
    "is_executing": true
   },
   "outputs": [],
   "source": [
    "# resume training\n",
    "# cp = find_checkpoint(version=14)\n",
    "# cp = Path(cp)\n",
    "# hparams = Model.hparams_type.from_yaml(cp.parent.parent / \"hparams.yaml\")\n",
    "# model = Model(hparams, train_data, val_data, test_data)\n",
    "# model.fit(trainer_kwargs=dict(log_every_n_steps=4, check_val_every_n_epoch=4, callbacks=model.configure_callbacks()), fit_kwargs=dict(ckpt_path=cp))"
   ]
  },
  {
   "cell_type": "code",
   "execution_count": null,
   "id": "805e6d1b-7ece-4e53-a834-ae7fdcec1456",
   "metadata": {},
   "outputs": [],
   "source": []
  },
  {
   "cell_type": "code",
   "execution_count": null,
   "id": "c06db063-a60e-4fba-ab55-d8d669c2a654",
   "metadata": {},
   "outputs": [],
   "source": []
  }
 ],
 "metadata": {
  "kernelspec": {
   "display_name": "Python 3 (ipykernel)",
   "language": "python",
   "name": "python3"
  },
  "language_info": {
   "codemirror_mode": {
    "name": "ipython",
    "version": 3
   },
   "file_extension": ".py",
   "mimetype": "text/x-python",
   "name": "python",
   "nbconvert_exporter": "python",
   "pygments_lexer": "ipython3",
   "version": "3.10.13"
  }
 },
 "nbformat": 4,
 "nbformat_minor": 5
}
