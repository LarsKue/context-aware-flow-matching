{
 "cells": [
  {
   "cell_type": "code",
   "execution_count": 1,
   "id": "ad82c6044e5d2902",
   "metadata": {
    "collapsed": false,
    "ExecuteTime": {
     "end_time": "2023-12-24T14:31:30.477849953Z",
     "start_time": "2023-12-24T14:31:30.431504724Z"
    }
   },
   "outputs": [
    {
     "data": {
      "text/plain": "'/home/lars/code/python/context-aware-flow-matching'"
     },
     "execution_count": 1,
     "metadata": {},
     "output_type": "execute_result"
    }
   ],
   "source": [
    "import os\n",
    "if os.getcwd().endswith(\"experiments\"):\n",
    "    os.chdir(\"..\")\n",
    "\n",
    "os.getcwd()"
   ]
  },
  {
   "cell_type": "code",
   "execution_count": 2,
   "id": "c63fded5cc5e21ec",
   "metadata": {
    "collapsed": false,
    "ExecuteTime": {
     "end_time": "2023-12-24T14:31:32.193847429Z",
     "start_time": "2023-12-24T14:31:30.477699688Z"
    }
   },
   "outputs": [],
   "source": [
    "import torch\n",
    "\n",
    "import matplotlib.pyplot as plt\n",
    "\n",
    "from lightning_trainable.utils import find_checkpoint\n",
    "\n",
    "from src.models import Model\n",
    "import src.visualization as viz"
   ]
  },
  {
   "cell_type": "code",
   "execution_count": 6,
   "id": "340ce8e8e2927ab7",
   "metadata": {
    "collapsed": false,
    "ExecuteTime": {
     "end_time": "2023-12-24T14:32:23.644573350Z",
     "start_time": "2023-12-24T14:32:23.617459544Z"
    }
   },
   "outputs": [
    {
     "data": {
      "text/plain": "<torch.autograd.grad_mode.set_grad_enabled at 0x7f1528b24190>"
     },
     "execution_count": 6,
     "metadata": {},
     "output_type": "execute_result"
    }
   ],
   "source": [
    "torch.autograd.set_grad_enabled(False)"
   ]
  },
  {
   "cell_type": "code",
   "execution_count": 7,
   "id": "789dc2cddb46737b",
   "metadata": {
    "collapsed": false,
    "ExecuteTime": {
     "end_time": "2023-12-24T14:33:41.417254006Z",
     "start_time": "2023-12-24T14:32:23.642609743Z"
    }
   },
   "outputs": [
    {
     "name": "stderr",
     "output_type": "stream",
     "text": [
      "GPU available: True (cuda), used: True\n",
      "TPU available: False, using: 0 TPU cores\n",
      "IPU available: False, using: 0 IPUs\n",
      "HPU available: False, using: 0 HPUs\n",
      "The following callbacks returned in `LightningModule.configure_callbacks` will override existing callbacks passed to Trainer: ModelCheckpoint\n",
      "LOCAL_RANK: 0 - CUDA_VISIBLE_DEVICES: [0]\n"
     ]
    },
    {
     "data": {
      "text/plain": "Validation: |          | 0/? [00:00<?, ?it/s]",
      "application/vnd.jupyter.widget-view+json": {
       "version_major": 2,
       "version_minor": 0,
       "model_id": "a73b103f95174ccdb82fe97a44a7a90d"
      }
     },
     "metadata": {},
     "output_type": "display_data"
    },
    {
     "name": "stderr",
     "output_type": "stream",
     "text": [
      "/home/lars/code/python/context-aware-flow-matching/src/lightning-trainable/src/lightning_trainable/metrics/sinkhorn.py:71: Sinkhorn did not converge. Consider increasing epsilon or number of iterations.\n",
      "/home/lars/code/python/context-aware-flow-matching/src/lightning-trainable/src/lightning_trainable/metrics/sinkhorn.py:71: Sinkhorn did not converge. Consider increasing epsilon or number of iterations.\n",
      "/home/lars/code/python/context-aware-flow-matching/src/lightning-trainable/src/lightning_trainable/metrics/sinkhorn.py:71: Sinkhorn did not converge. Consider increasing epsilon or number of iterations.\n",
      "/home/lars/code/python/context-aware-flow-matching/src/lightning-trainable/src/lightning_trainable/metrics/sinkhorn.py:71: Sinkhorn did not converge. Consider increasing epsilon or number of iterations.\n"
     ]
    },
    {
     "name": "stdout",
     "output_type": "stream",
     "text": [
      "────────────────────────────────────────────────────────────────────────────────────────────────────────────────────────\n",
      "     Validate metric           DataLoader 0\n",
      "────────────────────────────────────────────────────────────────────────────────────────────────────────────────────────\n",
      "     validation/loss        0.3411470353603363\n",
      "     validation/mmd         0.5225371718406677\n",
      "     validation/mse         0.1597568690776825\n",
      "────────────────────────────────────────────────────────────────────────────────────────────────────────────────────────\n",
      "Found new best model: lightning_logs/version_32/checkpoints/epoch=174-step=2800.ckpt 0.3411470353603363\n"
     ]
    },
    {
     "name": "stderr",
     "output_type": "stream",
     "text": [
      "GPU available: True (cuda), used: True\n",
      "TPU available: False, using: 0 TPU cores\n",
      "IPU available: False, using: 0 IPUs\n",
      "HPU available: False, using: 0 HPUs\n",
      "The following callbacks returned in `LightningModule.configure_callbacks` will override existing callbacks passed to Trainer: ModelCheckpoint\n",
      "LOCAL_RANK: 0 - CUDA_VISIBLE_DEVICES: [0]\n"
     ]
    },
    {
     "data": {
      "text/plain": "Validation: |          | 0/? [00:00<?, ?it/s]",
      "application/vnd.jupyter.widget-view+json": {
       "version_major": 2,
       "version_minor": 0,
       "model_id": "cfa646de28ed4659955525210a3299eb"
      }
     },
     "metadata": {},
     "output_type": "display_data"
    },
    {
     "name": "stderr",
     "output_type": "stream",
     "text": [
      "/home/lars/code/python/context-aware-flow-matching/src/lightning-trainable/src/lightning_trainable/metrics/sinkhorn.py:71: Sinkhorn did not converge. Consider increasing epsilon or number of iterations.\n",
      "/home/lars/code/python/context-aware-flow-matching/src/lightning-trainable/src/lightning_trainable/metrics/sinkhorn.py:71: Sinkhorn did not converge. Consider increasing epsilon or number of iterations.\n",
      "/home/lars/code/python/context-aware-flow-matching/src/lightning-trainable/src/lightning_trainable/metrics/sinkhorn.py:71: Sinkhorn did not converge. Consider increasing epsilon or number of iterations.\n",
      "/home/lars/code/python/context-aware-flow-matching/src/lightning-trainable/src/lightning_trainable/metrics/sinkhorn.py:71: Sinkhorn did not converge. Consider increasing epsilon or number of iterations.\n"
     ]
    },
    {
     "name": "stdout",
     "output_type": "stream",
     "text": [
      "────────────────────────────────────────────────────────────────────────────────────────────────────────────────────────\n",
      "     Validate metric           DataLoader 0\n",
      "────────────────────────────────────────────────────────────────────────────────────────────────────────────────────────\n",
      "     validation/loss        0.33712130784988403\n",
      "     validation/mmd         0.5051795840263367\n",
      "     validation/mse         0.1690630167722702\n",
      "────────────────────────────────────────────────────────────────────────────────────────────────────────────────────────\n",
      "Found new best model: lightning_logs/version_32/checkpoints/epoch=299-step=4800.ckpt 0.33712130784988403\n"
     ]
    },
    {
     "name": "stderr",
     "output_type": "stream",
     "text": [
      "GPU available: True (cuda), used: True\n",
      "TPU available: False, using: 0 TPU cores\n",
      "IPU available: False, using: 0 IPUs\n",
      "HPU available: False, using: 0 HPUs\n",
      "The following callbacks returned in `LightningModule.configure_callbacks` will override existing callbacks passed to Trainer: ModelCheckpoint\n",
      "LOCAL_RANK: 0 - CUDA_VISIBLE_DEVICES: [0]\n"
     ]
    },
    {
     "data": {
      "text/plain": "Validation: |          | 0/? [00:00<?, ?it/s]",
      "application/vnd.jupyter.widget-view+json": {
       "version_major": 2,
       "version_minor": 0,
       "model_id": "d83c67c1c9a54f7aad70833506094f02"
      }
     },
     "metadata": {},
     "output_type": "display_data"
    },
    {
     "name": "stderr",
     "output_type": "stream",
     "text": [
      "/home/lars/code/python/context-aware-flow-matching/src/lightning-trainable/src/lightning_trainable/metrics/sinkhorn.py:71: Sinkhorn did not converge. Consider increasing epsilon or number of iterations.\n",
      "/home/lars/code/python/context-aware-flow-matching/src/lightning-trainable/src/lightning_trainable/metrics/sinkhorn.py:71: Sinkhorn did not converge. Consider increasing epsilon or number of iterations.\n",
      "/home/lars/code/python/context-aware-flow-matching/src/lightning-trainable/src/lightning_trainable/metrics/sinkhorn.py:71: Sinkhorn did not converge. Consider increasing epsilon or number of iterations.\n",
      "/home/lars/code/python/context-aware-flow-matching/src/lightning-trainable/src/lightning_trainable/metrics/sinkhorn.py:71: Sinkhorn did not converge. Consider increasing epsilon or number of iterations.\n"
     ]
    },
    {
     "name": "stdout",
     "output_type": "stream",
     "text": [
      "────────────────────────────────────────────────────────────────────────────────────────────────────────────────────────\n",
      "     Validate metric           DataLoader 0\n",
      "────────────────────────────────────────────────────────────────────────────────────────────────────────────────────────\n",
      "     validation/loss        0.3357398509979248\n",
      "     validation/mmd         0.5044533610343933\n",
      "     validation/mse         0.16702628135681152\n",
      "────────────────────────────────────────────────────────────────────────────────────────────────────────────────────────\n",
      "Found new best model: lightning_logs/version_32/checkpoints/epoch=324-step=5200.ckpt 0.3357398509979248\n"
     ]
    },
    {
     "name": "stderr",
     "output_type": "stream",
     "text": [
      "GPU available: True (cuda), used: True\n",
      "TPU available: False, using: 0 TPU cores\n",
      "IPU available: False, using: 0 IPUs\n",
      "HPU available: False, using: 0 HPUs\n",
      "The following callbacks returned in `LightningModule.configure_callbacks` will override existing callbacks passed to Trainer: ModelCheckpoint\n",
      "LOCAL_RANK: 0 - CUDA_VISIBLE_DEVICES: [0]\n"
     ]
    },
    {
     "data": {
      "text/plain": "Validation: |          | 0/? [00:00<?, ?it/s]",
      "application/vnd.jupyter.widget-view+json": {
       "version_major": 2,
       "version_minor": 0,
       "model_id": "0c16e03e2d3a40a8a9ac317d13d76ddb"
      }
     },
     "metadata": {},
     "output_type": "display_data"
    },
    {
     "name": "stderr",
     "output_type": "stream",
     "text": [
      "/home/lars/code/python/context-aware-flow-matching/src/lightning-trainable/src/lightning_trainable/metrics/sinkhorn.py:71: Sinkhorn did not converge. Consider increasing epsilon or number of iterations.\n",
      "/home/lars/code/python/context-aware-flow-matching/src/lightning-trainable/src/lightning_trainable/metrics/sinkhorn.py:71: Sinkhorn did not converge. Consider increasing epsilon or number of iterations.\n",
      "/home/lars/code/python/context-aware-flow-matching/src/lightning-trainable/src/lightning_trainable/metrics/sinkhorn.py:71: Sinkhorn did not converge. Consider increasing epsilon or number of iterations.\n",
      "/home/lars/code/python/context-aware-flow-matching/src/lightning-trainable/src/lightning_trainable/metrics/sinkhorn.py:71: Sinkhorn did not converge. Consider increasing epsilon or number of iterations.\n"
     ]
    },
    {
     "name": "stdout",
     "output_type": "stream",
     "text": [
      "────────────────────────────────────────────────────────────────────────────────────────────────────────────────────────\n",
      "     Validate metric           DataLoader 0\n",
      "────────────────────────────────────────────────────────────────────────────────────────────────────────────────────────\n",
      "     validation/loss        0.33442896604537964\n",
      "     validation/mmd          0.50221186876297\n",
      "     validation/mse         0.1666460782289505\n",
      "────────────────────────────────────────────────────────────────────────────────────────────────────────────────────────\n",
      "Found new best model: lightning_logs/version_32/checkpoints/last.ckpt 0.33442896604537964\n"
     ]
    },
    {
     "name": "stderr",
     "output_type": "stream",
     "text": [
      "GPU available: True (cuda), used: True\n",
      "TPU available: False, using: 0 TPU cores\n",
      "IPU available: False, using: 0 IPUs\n",
      "HPU available: False, using: 0 HPUs\n",
      "The following callbacks returned in `LightningModule.configure_callbacks` will override existing callbacks passed to Trainer: ModelCheckpoint\n",
      "LOCAL_RANK: 0 - CUDA_VISIBLE_DEVICES: [0]\n"
     ]
    },
    {
     "data": {
      "text/plain": "Validation: |          | 0/? [00:00<?, ?it/s]",
      "application/vnd.jupyter.widget-view+json": {
       "version_major": 2,
       "version_minor": 0,
       "model_id": "c1b5510e02b846d4826101a5fcbc73e1"
      }
     },
     "metadata": {},
     "output_type": "display_data"
    },
    {
     "name": "stderr",
     "output_type": "stream",
     "text": [
      "/home/lars/code/python/context-aware-flow-matching/src/lightning-trainable/src/lightning_trainable/metrics/sinkhorn.py:71: Sinkhorn did not converge. Consider increasing epsilon or number of iterations.\n",
      "/home/lars/code/python/context-aware-flow-matching/src/lightning-trainable/src/lightning_trainable/metrics/sinkhorn.py:71: Sinkhorn did not converge. Consider increasing epsilon or number of iterations.\n",
      "/home/lars/code/python/context-aware-flow-matching/src/lightning-trainable/src/lightning_trainable/metrics/sinkhorn.py:71: Sinkhorn did not converge. Consider increasing epsilon or number of iterations.\n",
      "/home/lars/code/python/context-aware-flow-matching/src/lightning-trainable/src/lightning_trainable/metrics/sinkhorn.py:71: Sinkhorn did not converge. Consider increasing epsilon or number of iterations.\n"
     ]
    },
    {
     "name": "stdout",
     "output_type": "stream",
     "text": [
      "────────────────────────────────────────────────────────────────────────────────────────────────────────────────────────\n",
      "     Validate metric           DataLoader 0\n",
      "────────────────────────────────────────────────────────────────────────────────────────────────────────────────────────\n",
      "     validation/loss        0.3416232764720917\n",
      "     validation/mmd         0.5114365220069885\n",
      "     validation/mse         0.17181003093719482\n",
      "────────────────────────────────────────────────────────────────────────────────────────────────────────────────────────\n",
      "New model was worse: lightning_logs/version_32/checkpoints/epoch=249-step=4000.ckpt 0.3416232764720917\n"
     ]
    },
    {
     "name": "stderr",
     "output_type": "stream",
     "text": [
      "GPU available: True (cuda), used: True\n",
      "TPU available: False, using: 0 TPU cores\n",
      "IPU available: False, using: 0 IPUs\n",
      "HPU available: False, using: 0 HPUs\n",
      "The following callbacks returned in `LightningModule.configure_callbacks` will override existing callbacks passed to Trainer: ModelCheckpoint\n",
      "LOCAL_RANK: 0 - CUDA_VISIBLE_DEVICES: [0]\n"
     ]
    },
    {
     "data": {
      "text/plain": "Validation: |          | 0/? [00:00<?, ?it/s]",
      "application/vnd.jupyter.widget-view+json": {
       "version_major": 2,
       "version_minor": 0,
       "model_id": "8067a4f0b25043b8a93f40cbc1bf1535"
      }
     },
     "metadata": {},
     "output_type": "display_data"
    },
    {
     "name": "stderr",
     "output_type": "stream",
     "text": [
      "/home/lars/code/python/context-aware-flow-matching/src/lightning-trainable/src/lightning_trainable/metrics/sinkhorn.py:71: Sinkhorn did not converge. Consider increasing epsilon or number of iterations.\n",
      "/home/lars/code/python/context-aware-flow-matching/src/lightning-trainable/src/lightning_trainable/metrics/sinkhorn.py:71: Sinkhorn did not converge. Consider increasing epsilon or number of iterations.\n",
      "/home/lars/code/python/context-aware-flow-matching/src/lightning-trainable/src/lightning_trainable/metrics/sinkhorn.py:71: Sinkhorn did not converge. Consider increasing epsilon or number of iterations.\n",
      "/home/lars/code/python/context-aware-flow-matching/src/lightning-trainable/src/lightning_trainable/metrics/sinkhorn.py:71: Sinkhorn did not converge. Consider increasing epsilon or number of iterations.\n"
     ]
    },
    {
     "name": "stdout",
     "output_type": "stream",
     "text": [
      "────────────────────────────────────────────────────────────────────────────────────────────────────────────────────────\n",
      "     Validate metric           DataLoader 0\n",
      "────────────────────────────────────────────────────────────────────────────────────────────────────────────────────────\n",
      "     validation/loss        0.3467195928096771\n",
      "     validation/mmd         0.5161653161048889\n",
      "     validation/mse         0.17727385461330414\n",
      "────────────────────────────────────────────────────────────────────────────────────────────────────────────────────────\n",
      "New model was worse: lightning_logs/version_32/checkpoints/epoch=74-step=1200.ckpt 0.3467195928096771\n"
     ]
    },
    {
     "data": {
      "text/plain": "'lightning_logs/version_32/checkpoints/last.ckpt'"
     },
     "execution_count": 7,
     "metadata": {},
     "output_type": "execute_result"
    }
   ],
   "source": [
    "cp = find_checkpoint(version=32)\n",
    "model = Model.load_from_checkpoint(cp)\n",
    "model = model.cuda().eval()\n",
    "cp"
   ]
  },
  {
   "cell_type": "code",
   "execution_count": null,
   "id": "86207f6cd6dff1cb",
   "metadata": {
    "collapsed": false
   },
   "outputs": [],
   "source": [
    "n_shapes = 100\n",
    "n_points = 2048\n",
    "samples = model.sample((n_shapes, n_points), steps=1000).cpu().numpy()\n",
    "\n",
    "samples.shape"
   ]
  },
  {
   "cell_type": "code",
   "execution_count": null,
   "id": "e9eab43515bcbcf0",
   "metadata": {
    "collapsed": false
   },
   "outputs": [],
   "source": [
    "viz.multiscatter(samples)\n",
    "# viz.multiscatter_bp(samples, resolution=(1200, 1200))\n",
    "plt.savefig(\"figures/samples.png\", dpi=200, bbox_inches=\"tight\")"
   ]
  },
  {
   "cell_type": "code",
   "execution_count": null,
   "id": "41408e79b2c7b5cc",
   "metadata": {
    "collapsed": false
   },
   "outputs": [],
   "source": []
  }
 ],
 "metadata": {
  "kernelspec": {
   "display_name": "Python 3 (ipykernel)",
   "language": "python",
   "name": "python3"
  },
  "language_info": {
   "codemirror_mode": {
    "name": "ipython",
    "version": 3
   },
   "file_extension": ".py",
   "mimetype": "text/x-python",
   "name": "python",
   "nbconvert_exporter": "python",
   "pygments_lexer": "ipython3",
   "version": "3.10.13"
  }
 },
 "nbformat": 4,
 "nbformat_minor": 5
}
